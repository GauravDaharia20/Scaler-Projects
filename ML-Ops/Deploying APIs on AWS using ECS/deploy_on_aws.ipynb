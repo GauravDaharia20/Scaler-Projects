{
 "cells": [
  {
   "attachments": {},
   "cell_type": "markdown",
   "metadata": {},
   "source": [
    "# Deploying on EC2"
   ]
  },
  {
   "attachments": {},
   "cell_type": "markdown",
   "metadata": {},
   "source": [
    "### 1. **Set Up AWS CLI and AWS Account**\n",
    "   - If you haven't already, set up the AWS Command Line Interface (AWS CLI) on your local machine and configure it with your AWS credentials.\n",
    "   - Ensure your AWS account has the necessary permissions to create and manage EC2 instances and other required resources.\n",
    "\n",
    "### 2. **Launch an EC2 Instance**\n",
    "   - **Choose an AMI**: For Docker, a good choice is Amazon Linux 2 or any other Linux distribution that supports Docker.\n",
    "   - **Instance Type**: Select an instance type that meets your resource requirements.\n",
    "   - **Configure Instance**: Set up your network and security group. Ensure the security group allows inbound traffic on the ports your application will use.\n",
    "   - **Key Pair**: Choose an existing key pair or create a new one for SSH access.\n",
    "\n",
    "### 3. **Connect to Your EC2 Instance**\n",
    "   - Once the instance is running, connect to it using SSH:\n",
    "     ```\n",
    "     ssh -i /path/to/key.pem ec2-user@instance-ip-address\n",
    "     ```\n",
    "   - Replace `/path/to/key.pem` with the path to your key file and `instance-ip-address` with the public IP address of your instance.\n",
    "\n",
    "### 4. **Install Docker on the EC2 Instance**\n",
    "   - Update the package repository:\n",
    "     ```\n",
    "          # Add Docker's official GPG key:\n",
    "      sudo apt-get update\n",
    "      sudo apt-get install ca-certificates curl gnupg\n",
    "      sudo install -m 0755 -d /etc/apt/keyrings\n",
    "      curl -fsSL https://download.docker.com/linux/ubuntu/gpg | sudo gpg --dearmor -o /etc/apt/keyrings/docker.gpg\n",
    "      sudo chmod a+r /etc/apt/keyrings/docker.gpg\n",
    "\n",
    "      # Add the repository to Apt sources:\n",
    "      echo \\\n",
    "        \"deb [arch=$(dpkg --print-architecture) signed-by=/etc/apt/keyrings/docker.gpg] https://download.docker.com/linux/ubuntu \\\n",
    "        $(. /etc/os-release && echo \"$VERSION_CODENAME\") stable\" | \\\n",
    "        sudo tee /etc/apt/sources.list.d/docker.list > /dev/null\n",
    "      sudo apt-get update\n",
    "     ```\n",
    "   - Install Docker:\n",
    "     ```\n",
    "     sudo apt install docker.io\n",
    "     ```\n",
    "   - Add the `ec2-user` to the Docker group to execute Docker commands without using `sudo`:\n",
    "     ```\n",
    "     sudo usermod -a -G docker ubuntu\n",
    "     sudo reboot\n",
    "     ```\n",
    "   - Log out and log back in for this change to take effect.\n",
    "\n",
    "### 5. **Run Docker Container**\n",
    "   - Now, you can pull a Docker image from Docker Hub or another registry:\n",
    "     ```\n",
    "     docker pull your-image\n",
    "     ```\n",
    "   - And run the container:\n",
    "     ```\n",
    "     docker run -d -p host-port:container-port your-image\n",
    "     ```\n",
    "   - Replace `your-image` with your Docker image, `host-port` with the port number you want to expose on the EC2 instance, and `container-port` with the port number your application is set to use inside the container.\n",
    "\n",
    "### 6. **Verify the Deployment**\n",
    "   - Check if your container is running:\n",
    "     ```\n",
    "     docker ps\n",
    "     ```\n",
    "   - You should be able to access your application through the EC2 instance's public IP address and the port you exposed.\n",
    "\n",
    "### Additional Considerations\n",
    "- **Security**: Make sure your EC2 instance is secured, especially if it's exposed to the public internet. This includes configuring firewalls, applying security patches, and following best practices for application security.\n",
    "- **Docker Compose**: If your application consists of multiple containers, consider using Docker Compose to manage them.\n",
    "- **Monitoring and Logging**: Set up monitoring and logging to keep track of your container's performance and health.\n",
    "\n"
   ]
  },
  {
   "attachments": {},
   "cell_type": "markdown",
   "metadata": {},
   "source": [
    "Which AWS service is responsible for managing containers and enabling developers to run applications without configuring the environment?\n"
   ]
  }
 ],
 "metadata": {
  "kernelspec": {
   "display_name": "mlops",
   "language": "python",
   "name": "python3"
  },
  "language_info": {
   "name": "python",
   "version": "3.9.18 (main, Sep 11 2023, 14:09:26) [MSC v.1916 64 bit (AMD64)]"
  },
  "orig_nbformat": 4,
  "vscode": {
   "interpreter": {
    "hash": "1b8cc2443dac255f5863d925b738cfe3a24d8333c04bb14f72dfd9c643c8ae38"
   }
  }
 },
 "nbformat": 4,
 "nbformat_minor": 2
}
