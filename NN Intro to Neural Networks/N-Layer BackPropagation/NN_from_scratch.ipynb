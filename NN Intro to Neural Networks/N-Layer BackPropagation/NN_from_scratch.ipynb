{
 "cells": [
  {
   "cell_type": "code",
   "execution_count": 5,
   "metadata": {},
   "outputs": [],
   "source": [
    "# !gdown 1dLOPwh01o3k8p_hK633ixhD1ehz6nNWk"
   ]
  },
  {
   "cell_type": "code",
   "execution_count": 6,
   "metadata": {},
   "outputs": [
    {
     "data": {
      "text/plain": [
       "(300, 2)"
      ]
     },
     "execution_count": 6,
     "metadata": {},
     "output_type": "execute_result"
    }
   ],
   "source": [
    "import numpy as np\n",
    "import pandas as pd\n",
    "import numpy as np\n",
    "\n",
    "\n",
    "df = pd.read_csv(\"spiral.csv\")\n",
    "\n",
    "# Separating feature and label columns\n",
    "X = df.iloc[:, :-1].to_numpy()\n",
    "y = df.iloc[:, -1].to_numpy()\n",
    "\n",
    "\n",
    "X.shape"
   ]
  },
  {
   "cell_type": "code",
   "execution_count": 7,
   "metadata": {},
   "outputs": [
    {
     "data": {
      "text/plain": [
       "(array([0, 1, 2], dtype=int64), array([100, 100, 100], dtype=int64))"
      ]
     },
     "execution_count": 7,
     "metadata": {},
     "output_type": "execute_result"
    }
   ],
   "source": [
    "np.unique(y, return_counts=True)"
   ]
  },
  {
   "cell_type": "code",
   "execution_count": 2,
   "metadata": {},
   "outputs": [
    {
     "data": {
      "text/plain": [
       "(300,)"
      ]
     },
     "execution_count": 2,
     "metadata": {},
     "output_type": "execute_result"
    }
   ],
   "source": [
    "y.shape"
   ]
  },
  {
   "cell_type": "code",
   "execution_count": 3,
   "metadata": {},
   "outputs": [
    {
     "name": "stdout",
     "output_type": "stream",
     "text": [
      "iteration 0: loss 3.654976\n",
      "iteration 1000: loss 0.264148\n",
      "iteration 2000: loss 0.250140\n",
      "iteration 3000: loss 0.247987\n",
      "iteration 4000: loss 0.247529\n",
      "iteration 5000: loss 0.247309\n",
      "iteration 6000: loss 0.247153\n",
      "iteration 7000: loss 0.247058\n",
      "iteration 8000: loss 0.246974\n",
      "iteration 9000: loss 0.246904\n"
     ]
    }
   ],
   "source": [
    "# initialize parameters randomly\n",
    "d = 2\n",
    "h = 100 # size of hidden layer\n",
    "n = 3\n",
    "W1 = np.random.randn(d,h)\n",
    "b1 = np.zeros((1,h))\n",
    "W2 = np.random.randn(h,n)\n",
    "b2 = np.zeros((1,n))\n",
    "\n",
    "\n",
    "# some hyperparameters\n",
    "lr = 1e-0\n",
    "reg = 1e-3 # regularization strength\n",
    "num_examples = X.shape[0]\n",
    "\n",
    "\n",
    "for i in range(10000):\n",
    "\n",
    "    # forward prop\n",
    "    Z1 = np.dot(X, W1) + b1\n",
    "    A1 = np.maximum(0, Z1)\n",
    "    Z2 = np.dot(A1, W2) + b2\n",
    "    Z2 = np.exp(Z2)\n",
    "    A2 = Z2 / np.sum(Z2, axis=1, keepdims=True)\n",
    "    probs = A2\n",
    "\n",
    "    # calc. loss\n",
    "    correct_logprobs = -np.log(probs[range(num_examples),y])\n",
    "    data_loss = np.sum(correct_logprobs)/num_examples\n",
    "    reg_loss = 0.5*reg*np.sum(W1*W1) + 0.5*reg*np.sum(W2*W2) # regularization\n",
    "    loss = data_loss + reg_loss # adding reg. to loss\n",
    "    if i % 1000 == 0:\n",
    "        print(\"iteration %d: loss %f\" % (i, loss))\n",
    "\n",
    "    # backprop\n",
    "    # compute the gradient on scores\n",
    "    dZ2 = probs\n",
    "    dZ2[range(num_examples),y] -= 1\n",
    "    dZ2 /= num_examples\n",
    "\n",
    "    # first backprop into parameters W2 and b2\n",
    "    dW2 = np.dot(A1.T, dZ2)\n",
    "    db2 = np.sum(dZ2, axis=0, keepdims=True)\n",
    "    # next backprop into hidden layer, A1\n",
    "    dA1 = np.dot(dZ2, W2.T)\n",
    "    # backprop the ReLU non-linearity\n",
    "    dA1[Z1 <= 0] = 0\n",
    "    # finally into W,b\n",
    "    dZ1 = dA1\n",
    "    dW1 = np.dot(X.T, dZ1)\n",
    "    db1 = np.sum(dZ1, axis=0, keepdims=True)\n",
    "\n",
    "    # add regularization gradient contribution\n",
    "    dW2 += reg * W2\n",
    "    dW1 += reg * W1\n",
    "    \n",
    "\n",
    "    # perform a parameter update\n",
    "    W1 += -lr * dW1\n",
    "    b1 += -lr * db1\n",
    "    W2 += -lr * dW2\n",
    "    b2 += -lr * db2\n",
    "\n",
    "\n"
   ]
  },
  {
   "cell_type": "code",
   "execution_count": 4,
   "metadata": {},
   "outputs": [
    {
     "name": "stdout",
     "output_type": "stream",
     "text": [
      "iteration 0: loss 1.098735\n",
      "iteration 1000: loss 0.326527\n",
      "iteration 2000: loss 0.254766\n",
      "iteration 3000: loss 0.250921\n",
      "iteration 4000: loss 0.250150\n",
      "iteration 5000: loss 0.249446\n",
      "iteration 6000: loss 0.248918\n",
      "iteration 7000: loss 0.248578\n",
      "iteration 8000: loss 0.248356\n",
      "iteration 9000: loss 0.248179\n",
      "training accuracy: 0.99\n"
     ]
    }
   ],
   "source": [
    "class NN:\n",
    "\n",
    "    def __init__(self, n_features, n_hidden, n_classes):\n",
    "        self.d = n_features\n",
    "        self.h = n_hidden\n",
    "        self.n = n_classes\n",
    "        self.W1 = 0.01 * np.random.randn(self.d, self.h)\n",
    "        self.b1 = np.zeros((1,self.h))\n",
    "        self.W2 = 0.01 * np.random.randn(self.h,self.n)\n",
    "        self.b2 = np.zeros((1,self.n))\n",
    "\n",
    "    def fwd_prop(self, X):\n",
    "        Z1 = np.dot(X, self.W1) + self.b1\n",
    "        A1 = np.maximum(0, Z1)\n",
    "        Z2 = np.dot(A1, self.W2) + self.b2\n",
    "        Z2 = np.exp(Z2)\n",
    "        A2 = Z2 / np.sum(Z2, axis=1, keepdims=True)\n",
    "        return A1, A2\n",
    "\n",
    "    def cce_loss(self, y, probs):\n",
    "        num_examples = y.shape[0]\n",
    "        correct_logprobs = -np.log(probs[range(num_examples),y])\n",
    "        loss = np.sum(correct_logprobs)/num_examples\n",
    "        return loss\n",
    "\n",
    "    def back_prop(self, X, A1, A2, y):\n",
    "        # compute the gradient on scores\n",
    "        num_examples = y.shape[0]\n",
    "        dZ2 = A2\n",
    "        dZ2[range(num_examples),y] -= 1\n",
    "        dZ2 /= num_examples\n",
    "        # first backprop into parameters W2 and b2\n",
    "        dW2 = np.dot(A1.T, dZ2)\n",
    "        db2 = np.sum(dZ2, axis=0, keepdims=True)\n",
    "        # next backprop into hidden layer, A1\n",
    "        dA1 = np.dot(dZ2, self.W2.T)\n",
    "        # backprop the ReLU non-linearity\n",
    "        dA1[A1 <= 0] = 0\n",
    "        # finally into W,b\n",
    "        dZ1 = dA1\n",
    "        dW1 = np.dot(X.T, dZ1)\n",
    "        db1 = np.sum(dZ1, axis=0, keepdims=True)\n",
    "        return dW1, db1, dW2, db2\n",
    "\n",
    "    def fit(self, X, lr, reg, max_iters):\n",
    "        num_examples = X.shape[0]\n",
    "        for i in range(max_iters):\n",
    "            #foward prop\n",
    "            A1, A2 = self.fwd_prop(X)\n",
    "            # calculate loss\n",
    "            data_loss = self.cce_loss(y, A2)\n",
    "            reg_loss = 0.5*reg*np.sum(self.W1*self.W1) + 0.5*reg*np.sum(self.W2*self.W2)\n",
    "            loss = data_loss + reg_loss\n",
    "\n",
    "            if i % 1000 == 0:\n",
    "                print(\"iteration %d: loss %f\" % (i, loss))\n",
    "\n",
    "            dW1, db1, dW2, db2  = self.back_prop(X, A1, A2, y)\n",
    "\n",
    "            # add regularization gradient contribution\n",
    "            dW2 += reg * self.W2\n",
    "            dW1 += reg * self.W1\n",
    "\n",
    "            # perform a parameter update\n",
    "            self.W1 += -lr * dW1\n",
    "            self.b1 += -lr * db1\n",
    "            self.W2 += -lr * dW2\n",
    "            self.b2 += -lr * db2\n",
    "\n",
    "    def predict(self, X):\n",
    "        A1 = np.maximum(0, np.dot(X, self.W1) + self.b1) # ReLU(Z1) = ReLU(W1T. X + b1)\n",
    "        Z2 = np.dot(A1, self.W2) + self.b2 # Z2 = W2T.A1 + b2 => 3 probab\n",
    "        y_hat = np.argmax(Z2, axis=1) # taking index of max probab\n",
    "        return y_hat\n",
    "\n",
    "nn_model = NN(n_features=2, n_hidden=100, n_classes=3)\n",
    "nn_model.fit(X, lr=1, reg=1e-3, max_iters=10000)\n",
    "print('training accuracy: %.2f' % (np.mean(nn_model.predict(X) == y)))"
   ]
  },
  {
   "cell_type": "code",
   "execution_count": 5,
   "metadata": {},
   "outputs": [
    {
     "data": {
      "image/png": "[encoded data removed]",
      "text/plain": [
       "<Figure size 640x480 with 1 Axes>"
      ]
     },
     "metadata": {},
     "output_type": "display_data"
    }
   ],
   "source": [
    "from matplotlib import pyplot as plt\n",
    "\n",
    "# create a 2D grid\n",
    "step = 0.02\n",
    "x_min, x_max = X[:, 0].min() - 1, X[:, 0].max() + 1\n",
    "y_min, y_max = X[:, 1].min() - 1, X[:, 1].max() + 1\n",
    "xx, yy = np.meshgrid(np.arange(x_min, x_max, step), np.arange(y_min, y_max, step))\n",
    "\n",
    "# predict for all the points in the grid\n",
    "\n",
    "y_hat = nn_model.predict(np.c_[xx.ravel(), yy.ravel()])\n",
    "y_hat = y_hat.reshape(xx.shape)\n",
    "\n",
    "# plot\n",
    "fig = plt.figure()\n",
    "plt.contourf(xx, yy, y_hat, cmap=plt.cm.Spectral, alpha=0.8)\n",
    "plt.scatter(X[:, 0], X[:, 1], c=y, s=40, cmap=plt.cm.Spectral)\n",
    "plt.xlim(xx.min(), xx.max())\n",
    "plt.ylim(yy.min(), yy.max())\n",
    "plt.show()"
   ]
  }
 ],
 "metadata": {
  "kernelspec": {
   "display_name": "mlops",
   "language": "python",
   "name": "python3"
  },
  "language_info": {
   "codemirror_mode": {
    "name": "ipython",
    "version": 3
   },
   "file_extension": ".py",
   "mimetype": "text/x-python",
   "name": "python",
   "nbconvert_exporter": "python",
   "pygments_lexer": "ipython3",
   "version": "3.9.18"
  },
  "orig_nbformat": 4,
  "vscode": {
   "interpreter": {
    "hash": "1b8cc2443dac255f5863d925b738cfe3a24d8333c04bb14f72dfd9c643c8ae38"
   }
  }
 },
 "nbformat": 4,
 "nbformat_minor": 2
}
