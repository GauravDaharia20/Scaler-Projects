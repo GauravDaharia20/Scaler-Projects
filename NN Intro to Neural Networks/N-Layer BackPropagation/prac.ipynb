{
 "cells": [
  {
   "cell_type": "code",
   "execution_count": 2,
   "metadata": {},
   "outputs": [],
   "source": [
    "import pandas as pd \n",
    "import numpy as np"
   ]
  },
  {
   "cell_type": "code",
   "execution_count": 3,
   "metadata": {},
   "outputs": [],
   "source": [
    "df = pd.read_csv('spiral.csv')"
   ]
  },
  {
   "cell_type": "code",
   "execution_count": 4,
   "metadata": {},
   "outputs": [
    {
     "data": {
      "text/html": [
       "<div>\n",
       "<style scoped>\n",
       "    .dataframe tbody tr th:only-of-type {\n",
       "        vertical-align: middle;\n",
       "    }\n",
       "\n",
       "    .dataframe tbody tr th {\n",
       "        vertical-align: top;\n",
       "    }\n",
       "\n",
       "    .dataframe thead th {\n",
       "        text-align: right;\n",
       "    }\n",
       "</style>\n",
       "<table border=\"1\" class=\"dataframe\">\n",
       "  <thead>\n",
       "    <tr style=\"text-align: right;\">\n",
       "      <th></th>\n",
       "      <th>x1</th>\n",
       "      <th>x2</th>\n",
       "      <th>y</th>\n",
       "    </tr>\n",
       "  </thead>\n",
       "  <tbody>\n",
       "    <tr>\n",
       "      <th>0</th>\n",
       "      <td>0.000000</td>\n",
       "      <td>0.000000</td>\n",
       "      <td>0</td>\n",
       "    </tr>\n",
       "    <tr>\n",
       "      <th>1</th>\n",
       "      <td>-0.000650</td>\n",
       "      <td>0.010080</td>\n",
       "      <td>0</td>\n",
       "    </tr>\n",
       "    <tr>\n",
       "      <th>2</th>\n",
       "      <td>0.009809</td>\n",
       "      <td>0.017661</td>\n",
       "      <td>0</td>\n",
       "    </tr>\n",
       "    <tr>\n",
       "      <th>3</th>\n",
       "      <td>0.007487</td>\n",
       "      <td>0.029364</td>\n",
       "      <td>0</td>\n",
       "    </tr>\n",
       "    <tr>\n",
       "      <th>4</th>\n",
       "      <td>-0.000027</td>\n",
       "      <td>0.040404</td>\n",
       "      <td>0</td>\n",
       "    </tr>\n",
       "  </tbody>\n",
       "</table>\n",
       "</div>"
      ],
      "text/plain": [
       "         x1        x2  y\n",
       "0  0.000000  0.000000  0\n",
       "1 -0.000650  0.010080  0\n",
       "2  0.009809  0.017661  0\n",
       "3  0.007487  0.029364  0\n",
       "4 -0.000027  0.040404  0"
      ]
     },
     "execution_count": 4,
     "metadata": {},
     "output_type": "execute_result"
    }
   ],
   "source": [
    "df.head()"
   ]
  },
  {
   "cell_type": "code",
   "execution_count": 8,
   "metadata": {},
   "outputs": [],
   "source": [
    "X = df.loc[:,'x1':'x2'].to_numpy()\n",
    "y = df['y'].to_numpy()"
   ]
  },
  {
   "cell_type": "code",
   "execution_count": 31,
   "metadata": {},
   "outputs": [
    {
     "name": "stdout",
     "output_type": "stream",
     "text": [
      "300\n"
     ]
    }
   ],
   "source": [
    "print(y.shape[0])"
   ]
  },
  {
   "cell_type": "code",
   "execution_count": 28,
   "metadata": {},
   "outputs": [
    {
     "name": "stdout",
     "output_type": "stream",
     "text": [
      "(300, 2)\n"
     ]
    }
   ],
   "source": [
    "n = len(np.unique(y))\n",
    "h= 4\n",
    "d = 2\n",
    "print(X.shape)"
   ]
  },
  {
   "cell_type": "code",
   "execution_count": 44,
   "metadata": {},
   "outputs": [
    {
     "name": "stdout",
     "output_type": "stream",
     "text": [
      "loss :  1.2429612286202154\n",
      "loss :  1.0986587942621568\n",
      "loss :  1.0986184257722986\n",
      "loss :  1.0986131379151052\n",
      "loss :  1.0986124218785975\n",
      "loss :  1.0986123172088527\n",
      "loss :  1.0986122980822568\n",
      "loss :  1.0986122928120343\n",
      "loss :  1.0986122907039608\n",
      "loss :  1.098612289700556\n",
      "[0 0 0 0 0 0 0 0 0 0 0 0 0 0 0 0 0 0 0 0 0 0 0 0 0 0 0 0 0 0 0 0 0 0 0 0 0\n",
      " 0 0 0 0 0 0 0 0 0 0 0 0 0 0 0 0 0 0 0 0 0 0 0 0 0 0 0 0 0 0 0 0 0 0 0 0 0\n",
      " 0 0 0 0 0 0 0 0 0 0 0 0 0 0 0 0 0 0 0 0 0 0 0 0 0 0 0 0 0 0 0 0 0 0 0 0 0\n",
      " 0 0 0 0 0 0 0 0 0 0 0 0 0 0 0 0 0 0 0 0 0 0 0 0 0 0 0 0 0 0 0 0 0 0 0 0 0\n",
      " 0 0 0 0 0 0 0 0 0 0 0 0 0 0 0 0 0 0 0 0 0 0 0 0 0 0 0 0 0 0 0 0 0 0 0 0 0\n",
      " 0 0 0 0 0 0 0 0 0 0 0 0 0 0 0 0 0 0 0 0 0 0 0 0 0 0 0 0 0 0 0 0 0 0 0 0 0\n",
      " 0 0 0 0 0 0 0 0 0 0 0 0 0 0 0 0 0 0 0 0 0 0 0 0 0 0 0 0 0 0 0 0 0 0 0 0 0\n",
      " 0 0 0 0 0 0 0 0 0 0 0 0 0 0 0 0 0 0 0 0 0 0 0 0 0 0 0 0 0 0 0 0 0 0 0 0 0\n",
      " 0 0 0 0]\n"
     ]
    }
   ],
   "source": [
    "w1 = np.random.randn(d,h)\n",
    "b1 = np.zeros((1,h))\n",
    "\n",
    "w2 = np.random.randn(h,n)\n",
    "b2 = np.zeros((1,n))\n",
    "\n",
    "lr = 0.01\n",
    "\n",
    "# forward pass\n",
    "def forward(X):\n",
    "    z1  =np.dot(X,w1)+b1\n",
    "    a1 = np.maximum(z1,0)\n",
    "    z2 = np.dot(a1,w2)+b2\n",
    "    z2 = np.exp(z2)\n",
    "    a2 = z2/np.sum(z2,axis=1,keepdims=True)\n",
    "    return (a1,a2)\n",
    "\n",
    "# Loss\n",
    "def loss(y,probs):\n",
    "    #_,probs = forward(X)\n",
    "    num_example = y.shape[0]\n",
    "    #print(probs[range(num_example),y])\n",
    "    log_probs =-np.log(probs[range(num_example),y])\n",
    "    loss = np.sum(log_probs)/num_example\n",
    "    return loss\n",
    "\n",
    "# backprop\n",
    "def backprop(X,a1,a2,y):\n",
    "    #a1,a2 = forward(X)\n",
    "    num_example = y.shape[0]\n",
    "    dz2 = a2\n",
    "    dz2[range(num_example),y] -=1\n",
    "    dz2/=num_example\n",
    "\n",
    "    dw2 = np.dot(a1.T,dz2)\n",
    "    db2 = np.sum(dz2,axis=0,keepdims=True)\n",
    "    da1 = np.dot(dz2,w2.T)\n",
    "    da1[da1<=0] = 0\n",
    "\n",
    "    dz1 = a1\n",
    "    dw1 = np.dot(X.T,dz1)\n",
    "    db1 = np.sum(dz1,axis=0,keepdims=True)\n",
    "    return (dw1,dw2,db1,db2)\n",
    "# fit\n",
    "los=[]\n",
    "max_iter = 1000\n",
    "for iter in range(max_iter):\n",
    "    a1,a2 = forward(X)\n",
    "    losses = loss(y,a2)\n",
    "    if(iter%100==0):\n",
    "        print(\"loss : \",losses)\n",
    "\n",
    "    dw1,dw2,db1,db2 = backprop(X,a1,a2,y)\n",
    "    w1+=-lr*dw1\n",
    "    b1+=-lr*db1\n",
    "    w2+=-lr*dw2\n",
    "    b2+=-lr*db2\n",
    "    los.append(losses)\n",
    "\n",
    "A1 = np.maximum(0,np.dot(X,w1)+b1)\n",
    "Z = np.dot(A1,w2)+b2\n",
    "y_hat = np.argmax(Z,axis=1)\n",
    "print(y_hat)\n",
    "    \n"
   ]
  },
  {
   "cell_type": "code",
   "execution_count": null,
   "metadata": {},
   "outputs": [],
   "source": []
  }
 ],
 "metadata": {
  "kernelspec": {
   "display_name": "base",
   "language": "python",
   "name": "python3"
  },
  "language_info": {
   "codemirror_mode": {
    "name": "ipython",
    "version": 3
   },
   "file_extension": ".py",
   "mimetype": "text/x-python",
   "name": "python",
   "nbconvert_exporter": "python",
   "pygments_lexer": "ipython3",
   "version": "3.11.4"
  }
 },
 "nbformat": 4,
 "nbformat_minor": 2
}
