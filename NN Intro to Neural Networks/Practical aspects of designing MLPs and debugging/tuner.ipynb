{
  "cells": [
    {
      "cell_type": "markdown",
      "metadata": {
        "id": "k6FIn3fofeZh"
      },
      "source": [
        "# Getting started with KerasTuner\n",
        "\n",
        "**Authors:** Luca Invernizzi, James Long, Francois Chollet, Tom O'Malley, Haifeng Jin<br>\n",
        "**Date created:** 2019/05/31<br>\n",
        "**Last modified:** 2021/10/27<br>\n",
        "**Description:** The basics of using KerasTuner to tune model hyperparameters."
      ]
    },
    {
      "cell_type": "code",
      "execution_count": null,
      "metadata": {
        "id": "D_XoF5g4feZm"
      },
      "outputs": [],
      "source": [
        "!pip install keras-tuner -q"
      ]
    },
    {
      "cell_type": "markdown",
      "metadata": {
        "id": "n5ZLqlQWfeZn"
      },
      "source": [
        "## Introduction\n",
        "\n",
        "KerasTuner is a general-purpose hyperparameter tuning library. It has strong\n",
        "integration with Keras workflows, but it isn't limited to them: you could use\n",
        "it to tune scikit-learn models, or anything else. In this tutorial, you will\n",
        "see how to tune model architecture, training process, and data preprocessing\n",
        "steps with KerasTuner. Let's start from a simple example.\n",
        "\n",
        "## Tune the model architecture\n",
        "\n",
        "The first thing we need to do is writing a function, which returns a compiled\n",
        "Keras model. It takes an argument `hp` for defining the hyperparameters while\n",
        "building the model.\n",
        "\n",
        "### Define the search space\n",
        "\n",
        "In the following code example, we define a Keras model with two `Dense` layers.\n",
        "We want to tune the number of units in the first `Dense` layer. We just define\n",
        "an integer hyperparameter with `hp.Int('units', min_value=32, max_value=512, step=32)`,\n",
        "whose range is from 32 to 512 inclusive. When sampling from it, the minimum\n",
        "step for walking through the interval is 32."
      ]
    },
    {
      "cell_type": "code",
      "execution_count": null,
      "metadata": {
        "id": "PX0cucIifeZo"
      },
      "outputs": [],
      "source": [
        "from tensorflow import keras\n",
        "from tensorflow.keras import layers\n",
        "\n",
        "\n",
        "def build_model(hp):\n",
        "    model = keras.Sequential()\n",
        "    model.add(layers.Flatten())\n",
        "    model.add(\n",
        "        layers.Dense(\n",
        "            # Define the hyperparameter.\n",
        "            units=hp.Int(\"units\", min_value=32, max_value=512, step=32),\n",
        "            activation=hp.Choice(\"activation\",[\"relu\",\"tanh\"]),\n",
        "        )\n",
        "    )\n",
        "    model.add(layers.Dense(10, activation=\"softmax\"))\n",
        "    model.compile(\n",
        "        optimizer=\"adam\", loss=\"categorical_crossentropy\", metrics=[\"accuracy\"],\n",
        "    )\n",
        "    return model\n"
      ]
    },
    {
      "cell_type": "markdown",
      "metadata": {
        "id": "zKrRjKOjfeZo"
      },
      "source": [
        "You can quickly test if the model builds successfully."
      ]
    },
    {
      "cell_type": "code",
      "execution_count": null,
      "metadata": {
        "id": "lXiQmwGwfeZp",
        "outputId": "9940da53-6e4a-4f39-8c20-5ede8d7d6679"
      },
      "outputs": [
        {
          "data": {
            "text/plain": [
              "<keras.src.engine.sequential.Sequential at 0x24b875c4940>"
            ]
          },
          "execution_count": 11,
          "metadata": {},
          "output_type": "execute_result"
        }
      ],
      "source": [
        "import keras_tuner\n",
        "\n",
        "build_model(keras_tuner.HyperParameters())"
      ]
    },
    {
      "cell_type": "markdown",
      "metadata": {
        "id": "jravZrHDfeZp"
      },
      "source": [
        "There are many other types of hyperparameters as well. We can define multiple\n",
        "hyperparameters in the function. In the following code, we tune whether to\n",
        "use a `Dropout` layer with `hp.Boolean()`, tune which activation function to\n",
        "use with `hp.Choice()`, tune the learning rate of the optimizer with\n",
        "`hp.Float()`."
      ]
    },
    {
      "cell_type": "code",
      "execution_count": null,
      "metadata": {
        "id": "YDILIW9cfeZp"
      },
      "outputs": [],
      "source": [
        "\n",
        "def build_model(hp):\n",
        "    model = keras.Sequential()\n",
        "    model.add(layers.Flatten())\n",
        "    model.add(\n",
        "        layers.Dense(\n",
        "            # Tune number of units.\n",
        "            units=hp.Int(\"units\", min_value=32, max_value=512, step=32),\n",
        "            # Tune the activation function to use.\n",
        "            activation=hp.Choice(\"activation\", [\"relu\", \"tanh\"]),\n",
        "        )\n",
        "    )\n",
        "    model.add(\n",
        "        layers.Dense(\n",
        "            # Tune number of units.\n",
        "            units=hp.Int(\"units1\", min_value=20, max_value=50, step=5),\n",
        "            # Tune the activation function to use.\n",
        "            activation=hp.Choice(\"activation\", [\"relu\", \"tanh\"]),\n",
        "        )\n",
        "    )\n",
        "\n",
        "    # Tune whether to use dropout.\n",
        "    if hp.Boolean(\"dropout\"):\n",
        "        model.add(layers.Dropout(rate=hp.Float(\"dropout_rate\",min_value=0.25,max_value=0.6,sampling=\"log\")))\n",
        "    model.add(layers.Dense(10, activation=\"softmax\"))\n",
        "    # Define the optimizer learning rate as a hyperparameter.\n",
        "    learning_rate = hp.Float(\"lr\", min_value=1e-4, max_value=1e-2, sampling=\"log\")\n",
        "    model.compile(\n",
        "        optimizer=keras.optimizers.Adam(learning_rate=learning_rate),\n",
        "        loss=\"categorical_crossentropy\",\n",
        "        metrics=[\"accuracy\"],\n",
        "    )\n",
        "    return model\n",
        "\n",
        "\n",
        "build_model(keras_tuner.HyperParameters())"
      ]
    },
    {
      "cell_type": "markdown",
      "metadata": {
        "id": "P5_9y_TbfeZq"
      },
      "source": [
        "As shown below, the hyperparameters are actual values. In fact, they are just\n",
        "functions returning actual values. For example, `hp.Int()` returns an `int`\n",
        "value. Therefore, you can put them into variables, for loops, or if\n",
        "conditions."
      ]
    },
    {
      "cell_type": "code",
      "execution_count": null,
      "metadata": {
        "id": "1ZlVVe4ofeZq",
        "outputId": "13313fbd-be20-46b5-ee6a-6d7ba26a4ae7"
      },
      "outputs": [
        {
          "name": "stdout",
          "output_type": "stream",
          "text": [
            "32\n"
          ]
        }
      ],
      "source": [
        "hp = keras_tuner.HyperParameters()\n",
        "print(hp.Int(\"units\", min_value=32, max_value=512, step=32))"
      ]
    },
    {
      "cell_type": "markdown",
      "metadata": {
        "id": "FrbX7NasfeZr"
      },
      "source": [
        "You can also define the hyperparameters in advance and keep your Keras code in\n",
        "a separate function."
      ]
    },
    {
      "cell_type": "code",
      "execution_count": null,
      "metadata": {
        "id": "KsN9YKzRfeZr"
      },
      "outputs": [],
      "source": [
        "\n",
        "def call_existing_code(units, activation, dropout, lr):\n",
        "    model = keras.Sequential()\n",
        "    model.add(layers.Flatten())\n",
        "    model.add(layers.Dense(units=units, activation=activation))\n",
        "    if dropout:\n",
        "        model.add(layers.Dropout(rate=0.25))\n",
        "    model.add(layers.Dense(10, activation=\"softmax\"))\n",
        "    model.compile(\n",
        "        optimizer=keras.optimizers.Adam(learning_rate=lr),\n",
        "        loss=\"categorical_crossentropy\",\n",
        "        metrics=[\"accuracy\"],\n",
        "    )\n",
        "    return model\n",
        "\n",
        "\n",
        "def build_model(hp):\n",
        "    units = hp.Int(\"units\", min_value=32, max_value=512, step=32)\n",
        "    activation = hp.Choice(\"activation\", [\"relu\", \"tanh\"])\n",
        "    dropout = hp.Boolean(\"dropout\")\n",
        "    lr = hp.Float(\"lr\", min_value=1e-4, max_value=1e-2, sampling=\"log\")\n",
        "    # call existing model-building code with the hyperparameter values.\n",
        "    model = call_existing_code(\n",
        "        units=units, activation=activation, dropout=dropout, lr=lr\n",
        "    )\n",
        "    return model\n",
        "\n",
        "\n",
        "build_model(keras_tuner.HyperParameters())"
      ]
    },
    {
      "cell_type": "markdown",
      "metadata": {
        "id": "yVSCFZbNfeZr"
      },
      "source": [
        "Each of the hyperparameters is uniquely identified by its name (the first\n",
        "argument). To tune the number of units in different `Dense` layers separately\n",
        "as different hyperparameters, we give them different names as `f\"units_{i}\"`.\n",
        "\n",
        "Notably, this is also an example of creating conditional hyperparameters.\n",
        "There are many hyperparameters specifying the number of units in the `Dense`\n",
        "layers. The number of such hyperparameters is decided by the number of layers,\n",
        "which is also a hyperparameter. Therefore, the total number of hyperparameters\n",
        "used may be different from trial to trial. Some hyperparameter is only used\n",
        "when a certain condition is satisfied. For example, `units_3` is only used\n",
        "when `num_layers` is larger than 3. With KerasTuner, you can easily define\n",
        "such hyperparameters dynamically while creating the model."
      ]
    },
    {
      "cell_type": "code",
      "execution_count": null,
      "metadata": {
        "id": "JQWJg3WjfeZr"
      },
      "outputs": [],
      "source": [
        "\n",
        "def build_model(hp):\n",
        "    model = keras.Sequential()\n",
        "    model.add(layers.Flatten())\n",
        "    # Tune the number of layers.\n",
        "    for i in range(hp.Int(\"num_layers\", 1, 3)):\n",
        "        model.add(\n",
        "            layers.Dense(\n",
        "                # Tune number of units separately.\n",
        "                units=hp.Int(f\"units_{i}\", min_value=32, max_value=512, step=32),\n",
        "                activation=hp.Choice(\"activation\", [\"relu\", \"tanh\"]),\n",
        "            )\n",
        "        )\n",
        "    if hp.Boolean(\"dropout\"):\n",
        "        model.add(layers.Dropout(rate=0.25))\n",
        "    model.add(layers.Dense(10, activation=\"softmax\"))\n",
        "    learning_rate = hp.Float(\"lr\", min_value=1e-4, max_value=1e-2, sampling=\"log\")\n",
        "    model.compile(\n",
        "        optimizer=keras.optimizers.Adam(learning_rate=learning_rate),\n",
        "        loss=\"categorical_crossentropy\",\n",
        "        metrics=[\"accuracy\"],\n",
        "    )\n",
        "    return model\n",
        "\n",
        "\n",
        "build_model(keras_tuner.HyperParameters())"
      ]
    },
    {
      "cell_type": "markdown",
      "metadata": {
        "id": "fTkAeaaQfeZr"
      },
      "source": [
        "### Start the search\n",
        "\n",
        "After defining the search space, we need to select a tuner class to run the\n",
        "search. You may choose from `RandomSearch`, `BayesianOptimization` and\n",
        "`Hyperband`, which correspond to different tuning algorithms. Here we use\n",
        "`RandomSearch` as an example.\n",
        "\n",
        "To initialize the tuner, we need to specify several arguments in the initializer.\n",
        "\n",
        "* `hypermodel`. The model-building function, which is `build_model` in our case.\n",
        "* `objective`. The name of the objective to optimize (whether to minimize or\n",
        "maximize is automatically inferred for built-in metrics). We will introduce how\n",
        "to use custom metrics later in this tutorial.\n",
        "* `max_trials`. The total number of trials to run during the search.\n",
        "* `executions_per_trial`. The number of models that should be built and fit for\n",
        "each trial. Different trials have different hyperparameter values. The\n",
        "executions within the same trial have the same hyperparameter values. The\n",
        "purpose of having multiple executions per trial is to reduce results variance\n",
        "and therefore be able to more accurately assess the performance of a model. If\n",
        "you want to get results faster, you could set `executions_per_trial=1` (single\n",
        "round of training for each model configuration).\n",
        "* `overwrite`. Control whether to overwrite the previous results in the same\n",
        "directory or resume the previous search instead. Here we set `overwrite=True`\n",
        "to start a new search and ignore any previous results.\n",
        "* `directory`. A path to a directory for storing the search results.\n",
        "* `project_name`. The name of the sub-directory in the `directory`."
      ]
    },
    {
      "cell_type": "code",
      "execution_count": null,
      "metadata": {
        "id": "X2kQ-2vufeZs"
      },
      "outputs": [],
      "source": [
        "tuner = keras_tuner.RandomSearch(\n",
        "    hypermodel=build_model,\n",
        "    objective=\"val_accuracy\",\n",
        "    max_trials=3,\n",
        "    executions_per_trial=2,\n",
        "    overwrite=True,\n",
        "    directory=\"my_dir\",\n",
        "    project_name=\"helloworld\",\n",
        ")"
      ]
    },
    {
      "cell_type": "markdown",
      "metadata": {
        "id": "6cnO54Z5feZs"
      },
      "source": [
        "You can print a summary of the search space:"
      ]
    },
    {
      "cell_type": "code",
      "execution_count": null,
      "metadata": {
        "id": "xeGArVHQfeZs"
      },
      "outputs": [],
      "source": [
        "tuner.search_space_summary()"
      ]
    },
    {
      "cell_type": "markdown",
      "metadata": {
        "id": "11VrFJjffeZs"
      },
      "source": [
        "Before starting the search, let's prepare the MNIST dataset."
      ]
    },
    {
      "cell_type": "code",
      "execution_count": null,
      "metadata": {
        "id": "sjAHmagpfeZs"
      },
      "outputs": [],
      "source": [
        "from tensorflow import keras\n",
        "import numpy as np\n",
        "\n",
        "(x, y), (x_test, y_test) = keras.datasets.mnist.load_data()\n",
        "\n",
        "x_train = x[:-10000]\n",
        "x_val = x[-10000:]\n",
        "y_train = y[:-10000]\n",
        "y_val = y[-10000:]\n",
        "\n",
        "x_train = np.expand_dims(x_train, -1).astype(\"float32\") / 255.0\n",
        "x_val = np.expand_dims(x_val, -1).astype(\"float32\") / 255.0\n",
        "x_test = np.expand_dims(x_test, -1).astype(\"float32\") / 255.0\n",
        "\n",
        "num_classes = 10\n",
        "y_train = keras.utils.to_categorical(y_train, num_classes)\n",
        "y_val = keras.utils.to_categorical(y_val, num_classes)\n",
        "y_test = keras.utils.to_categorical(y_test, num_classes)"
      ]
    },
    {
      "cell_type": "markdown",
      "metadata": {
        "id": "E9H9CksCfeZs"
      },
      "source": [
        "Then, start the search for the best hyperparameter configuration.\n",
        "All the arguments passed to `search` is passed to `model.fit()` in each\n",
        "execution. Remember to pass `validation_data` to evaluate the model."
      ]
    },
    {
      "cell_type": "code",
      "execution_count": null,
      "metadata": {
        "id": "2Xh7F1l8feZs"
      },
      "outputs": [],
      "source": [
        "tuner.search(x_train, y_train, epochs=2, validation_data=(x_val, y_val))"
      ]
    },
    {
      "cell_type": "markdown",
      "metadata": {
        "id": "ef5ZTW9zfeZs"
      },
      "source": [
        "During the `search`, the model-building function is called with different\n",
        "hyperparameter values in different trial. In each trial, the tuner would\n",
        "generate a new set of hyperparameter values to build the model. The model is\n",
        "then fit and evaluated. The metrics are recorded. The tuner progressively\n",
        "explores the space and finally finds a good set of hyperparameter values.\n",
        "\n",
        "### Query the results\n",
        "\n",
        "When search is over, you can retrieve the best model(s). The model is saved at\n",
        "its best performing epoch evaluated on the `validation_data`."
      ]
    },
    {
      "cell_type": "code",
      "execution_count": null,
      "metadata": {
        "id": "_82oS8cofeZs"
      },
      "outputs": [],
      "source": [
        "# Get the top 2 models.\n",
        "models = tuner.get_best_models(num_models=2)\n",
        "best_model = models[0]\n",
        "# Build the model.\n",
        "# Needed for `Sequential` without specified `input_shape`.\n",
        "best_model.predict(X_test)"
      ]
    },
    {
      "cell_type": "markdown",
      "metadata": {
        "id": "nAfvo4E4feZs"
      },
      "source": [
        "You can also print a summary of the search results."
      ]
    },
    {
      "cell_type": "code",
      "execution_count": null,
      "metadata": {
        "id": "WXMPplCFfeZs"
      },
      "outputs": [],
      "source": [
        "tuner.results_summary()"
      ]
    },
    {
      "cell_type": "markdown",
      "metadata": {
        "id": "WOlAvYcofeZt"
      },
      "source": [
        "You will find detailed logs, checkpoints, etc, in the folder\n",
        "`my_dir/helloworld`, i.e. `directory/project_name`.\n",
        "\n",
        "You can also visualize the tuning results using TensorBoard and HParams plugin.\n",
        "For more information, please following\n",
        "[this link](https://keras.io/guides/keras_tuner/visualize_tuning/).\n",
        "\n",
        "### Retrain the model\n",
        "\n",
        "If you want to train the model with the entire dataset, you may retrieve the\n",
        "best hyperparameters and retrain the model by yourself."
      ]
    },
    {
      "cell_type": "markdown",
      "metadata": {
        "id": "3NEZVclRyZtU"
      },
      "source": [
        "# Optuna"
      ]
    },
    {
      "cell_type": "code",
      "execution_count": null,
      "metadata": {
        "id": "H7B5ZoDkyZtU",
        "outputId": "c21a195f-f11c-4106-c23d-8f02909b8060"
      },
      "outputs": [
        {
          "name": "stdout",
          "output_type": "stream",
          "text": [
            "Collecting optuna\n",
            "  Obtaining dependency information for optuna from https://files.pythonhosted.org/packages/4c/6a/219a431aaf81b3eb3070fd2d58116baa366d3072f43bbcc87dc3495b7546/optuna-3.5.0-py3-none-any.whl.metadata\n",
            "  Downloading optuna-3.5.0-py3-none-any.whl.metadata (17 kB)\n",
            "Requirement already satisfied: alembic>=1.5.0 in c:\\users\\shivam\\miniconda3\\envs\\mlops\\lib\\site-packages (from optuna) (1.13.1)\n",
            "Collecting colorlog (from optuna)\n",
            "  Obtaining dependency information for colorlog from https://files.pythonhosted.org/packages/f3/18/3e867ab37a24fdf073c1617b9c7830e06ec270b1ea4694a624038fc40a03/colorlog-6.8.2-py3-none-any.whl.metadata\n",
            "  Downloading colorlog-6.8.2-py3-none-any.whl.metadata (10 kB)\n",
            "Requirement already satisfied: numpy in c:\\users\\shivam\\miniconda3\\envs\\mlops\\lib\\site-packages (from optuna) (1.24.3)\n",
            "Requirement already satisfied: packaging>=20.0 in c:\\users\\shivam\\miniconda3\\envs\\mlops\\lib\\site-packages (from optuna) (23.1)\n",
            "Requirement already satisfied: sqlalchemy>=1.3.0 in c:\\users\\shivam\\miniconda3\\envs\\mlops\\lib\\site-packages (from optuna) (1.4.39)\n",
            "Requirement already satisfied: tqdm in c:\\users\\shivam\\miniconda3\\envs\\mlops\\lib\\site-packages (from optuna) (4.65.0)\n",
            "Requirement already satisfied: PyYAML in c:\\users\\shivam\\miniconda3\\envs\\mlops\\lib\\site-packages (from optuna) (6.0)\n",
            "Requirement already satisfied: Mako in c:\\users\\shivam\\miniconda3\\envs\\mlops\\lib\\site-packages (from alembic>=1.5.0->optuna) (1.3.0)\n",
            "Requirement already satisfied: typing-extensions>=4 in c:\\users\\shivam\\miniconda3\\envs\\mlops\\lib\\site-packages (from alembic>=1.5.0->optuna) (4.9.0)\n",
            "Requirement already satisfied: greenlet!=0.4.17 in c:\\users\\shivam\\miniconda3\\envs\\mlops\\lib\\site-packages (from sqlalchemy>=1.3.0->optuna) (2.0.1)\n",
            "Requirement already satisfied: colorama in c:\\users\\shivam\\miniconda3\\envs\\mlops\\lib\\site-packages (from colorlog->optuna) (0.4.4)\n",
            "Requirement already satisfied: MarkupSafe>=0.9.2 in c:\\users\\shivam\\miniconda3\\envs\\mlops\\lib\\site-packages (from Mako->alembic>=1.5.0->optuna) (2.1.1)\n",
            "Downloading optuna-3.5.0-py3-none-any.whl (413 kB)\n",
            "   ---------------------------------------- 0.0/413.4 kB ? eta -:--:--\n",
            "   -- ------------------------------------- 30.7/413.4 kB 1.4 MB/s eta 0:00:01\n",
            "   ----------- ---------------------------- 122.9/413.4 kB 1.4 MB/s eta 0:00:01\n",
            "   ------------------------ --------------- 256.0/413.4 kB 2.0 MB/s eta 0:00:01\n",
            "   ------------------------------------- -- 389.1/413.4 kB 2.2 MB/s eta 0:00:01\n",
            "   ---------------------------------------- 413.4/413.4 kB 2.2 MB/s eta 0:00:00\n",
            "Downloading colorlog-6.8.2-py3-none-any.whl (11 kB)\n",
            "Installing collected packages: colorlog, optuna\n",
            "Successfully installed colorlog-6.8.2 optuna-3.5.0\n"
          ]
        }
      ],
      "source": [
        "!pip install optuna"
      ]
    },
    {
      "cell_type": "code",
      "execution_count": null,
      "metadata": {
        "id": "gm9-cEtVyZtU",
        "outputId": "daee8f9e-ac71-40cf-ae9d-89ac67afd6f5"
      },
      "outputs": [
        {
          "name": "stderr",
          "output_type": "stream",
          "text": [
            "[I 2024-03-01 19:42:46,689] A new study created in memory with name: no-name-fc62d8a9-0238-4385-a494-14083c62c093\n",
            "[I 2024-03-01 19:42:51,742] Trial 0 finished with value: 0.907800018787384 and parameters: {'n_layers': 2, 'n_units_l0': 78, 'n_units_l1': 115, 'optimizer': 'sgd', 'batch_size': 256}. Best is trial 0 with value: 0.907800018787384.\n",
            "[I 2024-03-01 19:42:59,597] Trial 1 finished with value: 0.979200005531311 and parameters: {'n_layers': 1, 'n_units_l0': 259, 'optimizer': 'adam', 'batch_size': 128}. Best is trial 1 with value: 0.979200005531311.\n",
            "[I 2024-03-01 19:43:06,731] Trial 2 finished with value: 0.9757000207901001 and parameters: {'n_layers': 3, 'n_units_l0': 256, 'n_units_l1': 97, 'n_units_l2': 315, 'optimizer': 'adam', 'batch_size': 256}. Best is trial 1 with value: 0.979200005531311.\n",
            "[I 2024-03-01 19:43:16,444] Trial 3 finished with value: 0.9782000184059143 and parameters: {'n_layers': 3, 'n_units_l0': 369, 'n_units_l1': 182, 'n_units_l2': 289, 'optimizer': 'adam', 'batch_size': 256}. Best is trial 1 with value: 0.979200005531311.\n",
            "[I 2024-03-01 19:43:20,995] Trial 4 finished with value: 0.904699981212616 and parameters: {'n_layers': 1, 'n_units_l0': 129, 'optimizer': 'sgd', 'batch_size': 256}. Best is trial 1 with value: 0.979200005531311.\n",
            "[I 2024-03-01 19:43:33,816] Trial 5 finished with value: 0.9359999895095825 and parameters: {'n_layers': 3, 'n_units_l0': 169, 'n_units_l1': 137, 'n_units_l2': 507, 'optimizer': 'sgd', 'batch_size': 128}. Best is trial 1 with value: 0.979200005531311.\n",
            "[I 2024-03-01 19:43:50,205] Trial 6 finished with value: 0.9466999769210815 and parameters: {'n_layers': 2, 'n_units_l0': 196, 'n_units_l1': 289, 'optimizer': 'sgd', 'batch_size': 64}. Best is trial 1 with value: 0.979200005531311.\n",
            "[I 2024-03-01 19:43:57,199] Trial 7 finished with value: 0.9684000015258789 and parameters: {'n_layers': 3, 'n_units_l0': 51, 'n_units_l1': 260, 'n_units_l2': 219, 'optimizer': 'adam', 'batch_size': 256}. Best is trial 1 with value: 0.979200005531311.\n",
            "[I 2024-03-01 19:44:08,129] Trial 8 finished with value: 0.9781000018119812 and parameters: {'n_layers': 2, 'n_units_l0': 416, 'n_units_l1': 303, 'optimizer': 'adam', 'batch_size': 256}. Best is trial 1 with value: 0.979200005531311.\n",
            "[I 2024-03-01 19:44:18,372] Trial 9 finished with value: 0.9165999889373779 and parameters: {'n_layers': 2, 'n_units_l0': 361, 'n_units_l1': 358, 'optimizer': 'sgd', 'batch_size': 256}. Best is trial 1 with value: 0.979200005531311.\n"
          ]
        },
        {
          "name": "stdout",
          "output_type": "stream",
          "text": [
            "Best trial: {'n_layers': 1, 'n_units_l0': 259, 'optimizer': 'adam', 'batch_size': 128}\n",
            "Epoch 1/10\n",
            "469/469 [==============================] - 1s 2ms/step - loss: 0.3017 - accuracy: 0.9157\n",
            "Epoch 2/10\n",
            "469/469 [==============================] - 1s 2ms/step - loss: 0.1340 - accuracy: 0.9616\n",
            "Epoch 3/10\n",
            "469/469 [==============================] - 1s 2ms/step - loss: 0.0903 - accuracy: 0.9737\n",
            "Epoch 4/10\n",
            "469/469 [==============================] - 1s 2ms/step - loss: 0.0662 - accuracy: 0.9807\n",
            "Epoch 5/10\n",
            "469/469 [==============================] - 1s 2ms/step - loss: 0.0515 - accuracy: 0.9850\n",
            "Epoch 6/10\n",
            "469/469 [==============================] - 1s 2ms/step - loss: 0.0397 - accuracy: 0.9885\n",
            "Epoch 7/10\n",
            "469/469 [==============================] - 1s 2ms/step - loss: 0.0316 - accuracy: 0.9912\n",
            "Epoch 8/10\n",
            "469/469 [==============================] - 1s 2ms/step - loss: 0.0248 - accuracy: 0.9933\n",
            "Epoch 9/10\n",
            "469/469 [==============================] - 1s 2ms/step - loss: 0.0198 - accuracy: 0.9947\n",
            "Epoch 10/10\n",
            "469/469 [==============================] - 1s 2ms/step - loss: 0.0158 - accuracy: 0.9961\n",
            "313/313 [==============================] - 0s 920us/step - loss: 0.0684 - accuracy: 0.9802\n",
            "Test Accuracy: 0.9801999926567078, Test Loss: 0.06844303756952286\n"
          ]
        }
      ],
      "source": [
        "import tensorflow as tf\n",
        "from tensorflow.keras.layers import Input, Dense, Flatten\n",
        "from tensorflow.keras.datasets import mnist\n",
        "from tensorflow.keras.utils import to_categorical\n",
        "import optuna\n",
        "\n",
        "# 1. Load and prepare the MNIST dataset\n",
        "(x_train, y_train), (x_test, y_test) = mnist.load_data()\n",
        "x_train = x_train.astype('float32') / 255.0\n",
        "x_test = x_test.astype('float32') / 255.0\n",
        "y_train = to_categorical(y_train, 10)\n",
        "y_test = to_categorical(y_test, 10)\n",
        "\n",
        "# 2. Define the model architecture using the Keras functional API\n",
        "def create_model(trial):\n",
        "    inputs = Input(shape=(28, 28))\n",
        "    x = Flatten()(inputs)\n",
        "    n_layers = trial.suggest_int('n_layers', 1, 3)\n",
        "    for i in range(n_layers):\n",
        "        num_hidden = trial.suggest_int('n_units_l{}'.format(i), 32, 512)\n",
        "        x = Dense(num_hidden, activation='relu')(x)\n",
        "    outputs = Dense(10, activation='softmax')(x)\n",
        "    model = tf.keras.Model(inputs=inputs, outputs=outputs)\n",
        "    return model\n",
        "\n",
        "# 3. Define the objective function for Optuna\n",
        "def objective(trial):\n",
        "    model = create_model(trial)\n",
        "    optimizer_options = ['adam', 'sgd']\n",
        "    optimizer = trial.suggest_categorical('optimizer', optimizer_options)\n",
        "    model.compile(optimizer=optimizer, loss='categorical_crossentropy', metrics=['accuracy'])\n",
        "\n",
        "    batch_size = trial.suggest_categorical('batch_size', [64, 128, 256])\n",
        "    epochs = 10  # Keeping epochs fixed for demonstration; you might want to tune this as well\n",
        "\n",
        "    model.fit(x_train, y_train, validation_split=0.2, shuffle=True, batch_size=batch_size, epochs=epochs, verbose=0)\n",
        "\n",
        "    # Evaluate the model accuracy on the validation set\n",
        "    score = model.evaluate(x_test, y_test, verbose=0)\n",
        "    return score[1]  # Return the accuracy\n",
        "\n",
        "# 4. Run the Optuna study\n",
        "study = optuna.create_study(direction='maximize')\n",
        "study.optimize(objective, n_trials=10)  # You can increase n_trials for a more thorough search\n",
        "\n",
        "# 5. Print the best hyperparameters\n",
        "print('Best trial:', study.best_trial.params)\n",
        "\n",
        "# Optional: Evaluate the best model on the test set\n",
        "best_model = create_model(study.best_trial)\n",
        "best_model.compile(optimizer=study.best_trial.params['optimizer'], loss='categorical_crossentropy', metrics=['accuracy'])\n",
        "best_model.fit(x_train, y_train, batch_size=study.best_trial.params['batch_size'], epochs=10, verbose=1)\n",
        "test_loss, test_acc = best_model.evaluate(x_test, y_test)\n",
        "print(f'Test Accuracy: {test_acc}, Test Loss: {test_loss}')\n"
      ]
    },
    {
      "cell_type": "markdown",
      "metadata": {
        "id": "Zch9AnWLyZtU"
      },
      "source": [
        "## Let's takl about Pruners!!"
      ]
    },
    {
      "cell_type": "markdown",
      "metadata": {
        "id": "7lZjAWTXyZtV"
      },
      "source": [
        "Optuna offers several mechanisms to improve the efficiency of hyperparameter searches, among which pruning is a key feature. Pruning allows Optuna to stop the execution of a trial if it judges that the trial is unlikely to lead to the best results. This judgement is based on the intermediate results of the trial, such as validation loss or accuracy, at various points during training. The idea is to cut short the computation time for unpromising trials, thus allocating more resources to more promising ones.\n",
        "\n",
        "### MedianPruner\n",
        "\n",
        "The `MedianPruner` is one of the pruners provided by Optuna. It uses the median of intermediate results of all trials at similar points in time as a threshold for pruning. If the performance of a trial is below the median at a given checkpoint, that trial is stopped early. This pruner is straightforward and works well for a wide range of problems. However, it assumes that a significant number of trials will not be pruned, to accurately estimate the median performance.\n",
        "\n",
        "The `MedianPruner` operates at the level of the Optuna study, influencing which trials continue based on the comparison of each trial's performance against the median performance of all trials.\n",
        "\n",
        "### TFKerasPruningCallback\n",
        "\n",
        "The `TFKerasPruningCallback` is a specific callback for TensorFlow/Keras models that integrates with Optuna's pruning mechanism. It is used within the training loop of a Keras model to check the condition for pruning at the end of every epoch. The callback communicates with the Optuna trial to decide whether the current trial should be stopped based on the intermediate results (like validation accuracy or loss).\n",
        "\n",
        "The callback interacts with the pruner specified in the Optuna study (such as the `MedianPruner`) to make pruning decisions. When the callback determines that a trial should be pruned, it interrupts the training process of the current Keras model.\n",
        "\n",
        "### How They Work Together\n",
        "\n",
        "1. **Setup**: You define an Optuna study and specify a pruner, such as the `MedianPruner`. This pruner will be used to make decisions about stopping trials early based on the criteria set by the pruner (e.g., comparison with the median performance).\n",
        "\n",
        "2. **Trial Execution**: During each trial, as your Keras model trains, the `TFKerasPruningCallback` checks the intermediate results after each epoch and consults with the pruner (in this case, the `MedianPruner`) to determine whether the trial's performance is promising.\n",
        "\n",
        "3. **Pruning Decision**: If the pruner decides that the trial is unlikely to result in a top-performing model (e.g., if the trial's performance is below the median), the `TFKerasPruningCallback` stops the trial early. This decision is made at the epoch level, allowing Optuna to save time by not completing the full training process for that trial.\n",
        "\n",
        "4. **Resource Allocation**: Resources are then reallocated to new trials, which may have a better chance of finding optimal hyperparameters.\n",
        "\n",
        "In summary, the `MedianPruner` provides the strategy for deciding whether a trial should be stopped based on the comparison of its performance to the median performance of other trials. The `TFKerasPruningCallback` is the mechanism through which this strategy is applied to TensorFlow/Keras models, allowing Optuna to prune trials that are underperforming according to the criteria set by the `MedianPruner`."
      ]
    },
    {
      "cell_type": "code",
      "execution_count": null,
      "metadata": {
        "id": "tboRKApEyZtV",
        "outputId": "8edd9119-98f2-495a-d509-b2f02f4e621f"
      },
      "outputs": [
        {
          "name": "stdout",
          "output_type": "stream",
          "text": [
            "Collecting optuna-integration\n",
            "  Obtaining dependency information for optuna-integration from https://files.pythonhosted.org/packages/7f/55/92afe61e1dc07a00c8e4eb7feabf6c06b88f8276bc748068cb62c035a3f6/optuna_integration-3.5.0-py3-none-any.whl.metadata\n",
            "  Downloading optuna_integration-3.5.0-py3-none-any.whl.metadata (7.7 kB)\n",
            "Requirement already satisfied: optuna in c:\\users\\shivam\\miniconda3\\envs\\mlops\\lib\\site-packages (from optuna-integration) (3.5.0)\n",
            "Requirement already satisfied: alembic>=1.5.0 in c:\\users\\shivam\\miniconda3\\envs\\mlops\\lib\\site-packages (from optuna->optuna-integration) (1.13.1)\n",
            "Requirement already satisfied: colorlog in c:\\users\\shivam\\miniconda3\\envs\\mlops\\lib\\site-packages (from optuna->optuna-integration) (6.8.2)\n",
            "Requirement already satisfied: numpy in c:\\users\\shivam\\miniconda3\\envs\\mlops\\lib\\site-packages (from optuna->optuna-integration) (1.24.3)\n",
            "Requirement already satisfied: packaging>=20.0 in c:\\users\\shivam\\miniconda3\\envs\\mlops\\lib\\site-packages (from optuna->optuna-integration) (23.1)\n",
            "Requirement already satisfied: sqlalchemy>=1.3.0 in c:\\users\\shivam\\miniconda3\\envs\\mlops\\lib\\site-packages (from optuna->optuna-integration) (1.4.39)\n",
            "Requirement already satisfied: tqdm in c:\\users\\shivam\\miniconda3\\envs\\mlops\\lib\\site-packages (from optuna->optuna-integration) (4.65.0)\n",
            "Requirement already satisfied: PyYAML in c:\\users\\shivam\\miniconda3\\envs\\mlops\\lib\\site-packages (from optuna->optuna-integration) (6.0)\n",
            "Requirement already satisfied: Mako in c:\\users\\shivam\\miniconda3\\envs\\mlops\\lib\\site-packages (from alembic>=1.5.0->optuna->optuna-integration) (1.3.0)\n",
            "Requirement already satisfied: typing-extensions>=4 in c:\\users\\shivam\\miniconda3\\envs\\mlops\\lib\\site-packages (from alembic>=1.5.0->optuna->optuna-integration) (4.9.0)\n",
            "Requirement already satisfied: greenlet!=0.4.17 in c:\\users\\shivam\\miniconda3\\envs\\mlops\\lib\\site-packages (from sqlalchemy>=1.3.0->optuna->optuna-integration) (2.0.1)\n",
            "Requirement already satisfied: colorama in c:\\users\\shivam\\miniconda3\\envs\\mlops\\lib\\site-packages (from colorlog->optuna->optuna-integration) (0.4.4)\n",
            "Requirement already satisfied: MarkupSafe>=0.9.2 in c:\\users\\shivam\\miniconda3\\envs\\mlops\\lib\\site-packages (from Mako->alembic>=1.5.0->optuna->optuna-integration) (2.1.1)\n",
            "Downloading optuna_integration-3.5.0-py3-none-any.whl (29 kB)\n",
            "Installing collected packages: optuna-integration\n",
            "Successfully installed optuna-integration-3.5.0\n"
          ]
        }
      ],
      "source": [
        "!pip install optuna-integration"
      ]
    },
    {
      "cell_type": "code",
      "execution_count": null,
      "metadata": {
        "id": "xJtZwqexyZtV",
        "outputId": "058b2560-5a2c-4675-d194-7123171e3de0"
      },
      "outputs": [
        {
          "name": "stderr",
          "output_type": "stream",
          "text": [
            "[I 2024-03-01 19:44:29,943] A new study created in memory with name: no-name-21aca0b0-20d9-499a-a143-4b6e3c03e8da\n",
            "[I 2024-03-01 19:44:46,992] Trial 0 finished with value: 0.965399980545044 and parameters: {'n_layers': 2, 'n_units_l0': 243, 'n_units_l1': 431, 'optimizer': 'adam', 'batch_size': 128}. Best is trial 0 with value: 0.965399980545044.\n",
            "[I 2024-03-01 19:45:02,157] Trial 1 finished with value: 0.9363999962806702 and parameters: {'n_layers': 2, 'n_units_l0': 370, 'n_units_l1': 477, 'optimizer': 'sgd', 'batch_size': 128}. Best is trial 0 with value: 0.965399980545044.\n",
            "[I 2024-03-01 19:45:18,436] Trial 2 finished with value: 0.9790999889373779 and parameters: {'n_layers': 3, 'n_units_l0': 460, 'n_units_l1': 292, 'n_units_l2': 414, 'optimizer': 'adam', 'batch_size': 256}. Best is trial 2 with value: 0.9790999889373779.\n",
            "[I 2024-03-01 19:45:33,297] Trial 3 finished with value: 0.9785000085830688 and parameters: {'n_layers': 2, 'n_units_l0': 471, 'n_units_l1': 174, 'optimizer': 'adam', 'batch_size': 128}. Best is trial 2 with value: 0.9790999889373779.\n",
            "[I 2024-03-01 19:45:50,721] Trial 4 finished with value: 0.9763000011444092 and parameters: {'n_layers': 3, 'n_units_l0': 341, 'n_units_l1': 305, 'n_units_l2': 215, 'optimizer': 'adam', 'batch_size': 128}. Best is trial 2 with value: 0.9790999889373779.\n",
            "[I 2024-03-01 19:45:52,398] Trial 5 pruned. Trial was pruned at epoch 0.\n",
            "[I 2024-03-01 19:45:58,106] Trial 6 pruned. Trial was pruned at epoch 2.\n",
            "[I 2024-03-01 19:46:00,348] Trial 7 pruned. Trial was pruned at epoch 0.\n",
            "[I 2024-03-01 19:46:02,653] Trial 8 pruned. Trial was pruned at epoch 0.\n",
            "[I 2024-03-01 19:46:23,995] Trial 9 finished with value: 0.9786999821662903 and parameters: {'n_layers': 3, 'n_units_l0': 504, 'n_units_l1': 70, 'n_units_l2': 112, 'optimizer': 'adam', 'batch_size': 64}. Best is trial 2 with value: 0.9790999889373779.\n"
          ]
        },
        {
          "name": "stdout",
          "output_type": "stream",
          "text": [
            "Best trial: {'n_layers': 3, 'n_units_l0': 460, 'n_units_l1': 292, 'n_units_l2': 414, 'optimizer': 'adam', 'batch_size': 256}\n"
          ]
        }
      ],
      "source": [
        "import tensorflow as tf\n",
        "from tensorflow.keras.layers import Input, Dense, Flatten\n",
        "from tensorflow.keras.datasets import mnist\n",
        "from tensorflow.keras.utils import to_categorical\n",
        "import optuna\n",
        "from optuna.integration import TFKerasPruningCallback\n",
        "\n",
        "# Load and prepare the MNIST dataset\n",
        "(x_train, y_train), (x_test, y_test) = mnist.load_data()\n",
        "x_train = x_train.astype('float32') / 255.0\n",
        "x_test = x_test.astype('float32') / 255.0\n",
        "y_train = to_categorical(y_train, 10)\n",
        "y_test = to_categorical(y_test, 10)\n",
        "\n",
        "# Define the model architecture using the Keras functional API\n",
        "def create_model(trial):\n",
        "    inputs = Input(shape=(28, 28))\n",
        "    x = Flatten()(inputs)\n",
        "    n_layers = trial.suggest_int('n_layers', 1, 3)\n",
        "    for i in range(n_layers):\n",
        "        num_hidden = trial.suggest_int('n_units_l{}'.format(i), 32, 512)\n",
        "        x = Dense(num_hidden, activation='relu')(x)\n",
        "    outputs = Dense(10, activation='softmax')(x)\n",
        "    model = tf.keras.Model(inputs=inputs, outputs=outputs)\n",
        "    return model\n",
        "\n",
        "# Define the objective function for Optuna\n",
        "def objective(trial):\n",
        "    model = create_model(trial)\n",
        "    optimizer_options = ['adam', 'sgd']\n",
        "    optimizer = trial.suggest_categorical('optimizer', optimizer_options)\n",
        "    model.compile(optimizer=optimizer, loss='categorical_crossentropy', metrics=['accuracy'])\n",
        "\n",
        "    batch_size = trial.suggest_categorical('batch_size', [64, 128, 256])\n",
        "    epochs = 10  # Keeping epochs fixed for demonstration; you might want to tune this as well\n",
        "\n",
        "    # Add a Keras pruning callback\n",
        "    callbacks = [TFKerasPruningCallback(trial, 'val_accuracy')]\n",
        "\n",
        "    model.fit(x_train, y_train, validation_split=0.2, shuffle=True, batch_size=batch_size, epochs=epochs, callbacks=callbacks, verbose=0)\n",
        "\n",
        "    # Evaluate the model accuracy on the validation set\n",
        "    score = model.evaluate(x_test, y_test, verbose=0)\n",
        "    return score[1]  # Return the accuracy\n",
        "\n",
        "# Run the Optuna study\n",
        "study = optuna.create_study(direction='maximize', pruner=optuna.pruners.MedianPruner())\n",
        "study.optimize(objective, n_trials=10)  # You can increase n_trials for a more thorough search\n",
        "\n",
        "# Print the best hyperparameters\n",
        "print('Best trial:', study.best_trial.params)\n"
      ]
    },
    {
      "cell_type": "markdown",
      "source": [
        "# Needs to be changed"
      ],
      "metadata": {
        "id": "NSQL2KiB6UUX"
      }
    },
    {
      "cell_type": "markdown",
      "source": [
        "![image.png](data:image/png;base64,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)"
      ],
      "metadata": {
        "id": "U4SNmjCN6Icp"
      }
    },
    {
      "cell_type": "markdown",
      "source": [
        "![image.png](data:image/png;base64,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)"
      ],
      "metadata": {
        "id": "rK3OlEjT7WmG"
      }
    },
    {
      "cell_type": "code",
      "source": [],
      "metadata": {
        "id": "v0UtJUpG6I3d"
      },
      "execution_count": null,
      "outputs": []
    }
  ],
  "metadata": {
    "accelerator": "GPU",
    "colab": {
      "provenance": []
    },
    "kernelspec": {
      "display_name": "mlops",
      "language": "python",
      "name": "python3"
    },
    "language_info": {
      "codemirror_mode": {
        "name": "ipython",
        "version": 3
      },
      "file_extension": ".py",
      "mimetype": "text/x-python",
      "name": "python",
      "nbconvert_exporter": "python",
      "pygments_lexer": "ipython3",
      "version": "3.9.18"
    },
    "vscode": {
      "interpreter": {
        "hash": "1b8cc2443dac255f5863d925b738cfe3a24d8333c04bb14f72dfd9c643c8ae38"
      }
    }
  },
  "nbformat": 4,
  "nbformat_minor": 0
}