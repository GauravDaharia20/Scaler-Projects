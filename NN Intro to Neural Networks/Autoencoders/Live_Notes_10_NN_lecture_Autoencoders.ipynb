{
  "nbformat": 4,
  "nbformat_minor": 0,
  "metadata": {
    "colab": {
      "provenance": []
    },
    "kernelspec": {
      "name": "python3",
      "display_name": "Python 3"
    },
    "language_info": {
      "name": "python"
    },
    "accelerator": "GPU",
    "gpuClass": "standard"
  },
  "cells": [
    {
      "cell_type": "markdown",
      "source": [
        "## Content\n",
        "\n",
        "- **Autoencoders Intuition**\n",
        "\n",
        "- **Applications of AE**\n",
        "\n",
        "- **Feature Extraction and Transfer Learning**\n",
        "\n",
        "- **Denoising AE**\n",
        "\n",
        "- **Recommender Sys using AE**\n",
        "\n",
        "- Assessments\n",
        " - [Training AutoEncoders](https://www.scaler.com/hire/test/problem/42542/)\n",
        " - [AutoEncoders](https://www.scaler.com/hire/test/problem/42540/)\n",
        " - [Denoising AutoEncoders](https://www.scaler.com/hire/test/problem/42541/)"
      ],
      "metadata": {
        "id": "oCrZm_bFIPHw"
      }
    },
    {
      "cell_type": "markdown",
      "source": [
        "## Intuition"
      ],
      "metadata": {
        "id": "8Ltbl7am2wZQ"
      }
    },
    {
      "cell_type": "markdown",
      "source": [
        "Consider the following network"
      ],
      "metadata": {
        "id": "hdXemzgisSrf"
      }
    },
    {
      "cell_type": "markdown",
      "source": [
        "<center><img src='https://drive.google.com/uc?id=14rwawgLT6K4BNqoZG5wDNW5YpinZKzon' width=\"800\"></center>\n"
      ],
      "metadata": {
        "id": "NhN3vHsgsHuI"
      }
    },
    {
      "cell_type": "markdown",
      "source": [
        "Notice that\n",
        "- all the layers have same number of nuerons including the input and output layer\n",
        "- the input to the network is $x_i$ and output is $x̂_i$"
      ],
      "metadata": {
        "id": "hTvLLnp0tvT-"
      }
    },
    {
      "cell_type": "markdown",
      "source": [
        "#### Question: We want to feed in $x_i$ to network and get output $x̂_i$ such that $x_i$ ≃ $x̂_i$. Is it possible ?"
      ],
      "metadata": {
        "id": "ngIxXHiJtuZS"
      }
    },
    {
      "cell_type": "markdown",
      "source": [
        "Yes. Just make all the activation as linear\n",
        "- i.e. whatever gets in gets out\n",
        "- and train the n/w to find weights and biases"
      ],
      "metadata": {
        "id": "qSjW-iMZsSQi"
      }
    },
    {
      "cell_type": "markdown",
      "source": [
        "Now, let's introduce a little complexity to our network"
      ],
      "metadata": {
        "id": "V3P9SKl3u7eG"
      }
    },
    {
      "cell_type": "markdown",
      "source": [
        "<center><img src='https://drive.google.com/uc?id=1W1osKP2VC5y6PR3HeoZXX38Inrtrrq4C' width=\"800\"></center>\n"
      ],
      "metadata": {
        "id": "qUFs8l0lvKCl"
      }
    },
    {
      "cell_type": "markdown",
      "source": [
        "#### Question: For this network, can we make $x_i$ = $x̂_i$ ?"
      ],
      "metadata": {
        "id": "J3TJFIguwCX8"
      }
    },
    {
      "cell_type": "markdown",
      "source": [
        "The task is possible. We can make a prediction s.t. $x_i$ ∼ $x̂_i$\n",
        "- but it can't be perfectly same\n",
        "\n",
        "We can decide some loss based on the problem\n",
        "- if the values are binary, we can use binary cross entropy\n",
        "- for multiclass, we can use categorical cross entropy\n",
        "- for continuous values, we can use MSE or RMSE.\n",
        "\n",
        "\n"
      ],
      "metadata": {
        "id": "xeHMsZClwBgf"
      }
    },
    {
      "cell_type": "markdown",
      "source": [
        "<center><img src='https://drive.google.com/uc?id=1d7YnE8uiWYFR-rwWDC3j8E4J7vnOPNVr' width=\"800\"></center>\n",
        "\n"
      ],
      "metadata": {
        "id": "lnYJoWiYxpF_"
      }
    },
    {
      "cell_type": "markdown",
      "source": [
        "#### What exactly happened in this network ?"
      ],
      "metadata": {
        "id": "iv0gZI_Txxx3"
      }
    },
    {
      "cell_type": "markdown",
      "source": [
        "Out input was 6 dimension\n",
        "- it went to 4 dimension\n",
        "- and then 2 -> 4 -> 6 ."
      ],
      "metadata": {
        "id": "AeSi3_MVw0yt"
      }
    },
    {
      "cell_type": "markdown",
      "source": [
        "Let's focus on the layer in the middle i.e. layer with 2 neuron\n",
        "\n",
        "If we were to ignore the network before it,\n",
        "- we can say that the this middle layer (2 neuron layer) is the input for next layers\n",
        "\n",
        "\n",
        "In other words,\n",
        "- 2D input gave us 6D output\n"
      ],
      "metadata": {
        "id": "pufXRmsGx64a"
      }
    },
    {
      "cell_type": "markdown",
      "source": [
        "<center><img src='https://drive.google.com/uc?id=1TUxyggf2bNMKGR12Dftz9f-QVzLB_-UM' width=\"800\"></center>\n"
      ],
      "metadata": {
        "id": "e82alvq_yHSP"
      }
    },
    {
      "cell_type": "markdown",
      "source": [
        "If we are able to produce 6D output ($x̂_i$) which similar to $x_i$, it means\n",
        "- all the information available to produce this was available.\n",
        "\n"
      ],
      "metadata": {
        "id": "ihO5j5BYy2ne"
      }
    },
    {
      "cell_type": "markdown",
      "source": [
        "<center><img src='https://drive.google.com/uc?id=1-JsrXkjjLtWx3igRlavf74-BpSGDF8RV' width=\"700\"></center>\n",
        "\n"
      ],
      "metadata": {
        "id": "sCjlLGHg2Pbl"
      }
    },
    {
      "cell_type": "markdown",
      "source": [
        "Now, imagine instead of 6-D input vector\n",
        "- We have a sparse vector of 300-dim.\n",
        "\n",
        "And using the network,\n",
        "- we step it down to 32 dim till middle layer\n",
        "\n"
      ],
      "metadata": {
        "id": "CteF2u0B2cE7"
      }
    },
    {
      "cell_type": "markdown",
      "source": [
        "#### Doesn't it look like we are compressing our data ?"
      ],
      "metadata": {
        "id": "wkGesfBz2qZa"
      }
    },
    {
      "cell_type": "markdown",
      "source": [
        "We are basically reducing the dimensions of our input."
      ],
      "metadata": {
        "id": "tcj1Z8VH2uR8"
      }
    },
    {
      "cell_type": "markdown",
      "source": [
        "<center><img src='https://drive.google.com/uc?id=1b3j3o6wE4eaFLXON7i6QuXU0sK1fjSg7' width=\"700\"></center>"
      ],
      "metadata": {
        "id": "JjrYLqPG2P6b"
      }
    },
    {
      "cell_type": "markdown",
      "source": [
        "So, in summary,\n",
        "- the left part of network is trying to compress the information i.e. **encoder**\n",
        "- the right part of netowork is decompressing it i.e. **decoder**\n",
        "\n",
        "And this had to happen so meaningfully s.t.\n",
        "- all the info would be stored at middle layer.\n",
        "\n",
        "\n",
        "This means we can use middle layer (bottleneck layer) as an **embedding/encoding or latent features**\n",
        "- i.e. we can use this bottleneck as features.\n",
        "\n",
        "And this network is known as **Autoencoder**"
      ],
      "metadata": {
        "id": "udXCCJWx3oR5"
      }
    },
    {
      "cell_type": "markdown",
      "source": [
        "The purpose of the network is to get the embedding"
      ],
      "metadata": {
        "id": "X8geqaug4FpG"
      }
    },
    {
      "cell_type": "markdown",
      "source": [
        "## Applications"
      ],
      "metadata": {
        "id": "O2KBN6x746nr"
      }
    },
    {
      "cell_type": "markdown",
      "source": [
        "<center><img src='https://drive.google.com/uc?id=1Ufe6jP8P_wCKM1lF1CF5fL9wO-wsNkjQ' width=\"700\"></center>"
      ],
      "metadata": {
        "id": "W1UQV0RP7Igb"
      }
    },
    {
      "cell_type": "markdown",
      "source": [
        "**1. Dimensionality Reduction/ Compression**"
      ],
      "metadata": {
        "id": "tT4ztPC65OUd"
      }
    },
    {
      "cell_type": "markdown",
      "source": [
        "Here, compression doesn't mean reducing the space\n",
        "- but to reduce the number of features of input vectors"
      ],
      "metadata": {
        "id": "g0IEBKoz5Sh_"
      }
    },
    {
      "cell_type": "markdown",
      "source": [
        "Reducing the dimensions means\n",
        "- faster inference time\n",
        "- low latency\n",
        "\n",
        "\n",
        "We can also use these embeddings for visualization"
      ],
      "metadata": {
        "id": "nfJHQN_E5eNx"
      }
    },
    {
      "cell_type": "markdown",
      "source": [
        "**2. Denoising**"
      ],
      "metadata": {
        "id": "uLqTElxd58do"
      }
    },
    {
      "cell_type": "markdown",
      "source": [
        "We can use AE (Autoencoders) to denoise the data"
      ],
      "metadata": {
        "id": "Cn5_I2N96E9F"
      }
    },
    {
      "cell_type": "markdown",
      "source": [
        "**3. Embeddings**\n",
        "\n",
        "We can use AE to generate embeddings\n",
        "- These embeddings can be used for\n",
        "    - recommender system\n",
        "    - clustering\n",
        "    - image search"
      ],
      "metadata": {
        "id": "RrZlnHHt6zhS"
      }
    },
    {
      "cell_type": "markdown",
      "source": [
        "### Dimensionality reduction"
      ],
      "metadata": {
        "id": "JWerftED7AKq"
      }
    },
    {
      "cell_type": "markdown",
      "source": [
        "#### Question: Can we create a PCA equivalent network ?"
      ],
      "metadata": {
        "id": "wXYs3Jfr7oWF"
      }
    },
    {
      "cell_type": "markdown",
      "source": [
        "Say, we have\n",
        "- d dim input data\n",
        "\n",
        "And we want to go to d' dim. (d' < d)\n",
        "\n",
        "\n",
        "So, the network would like :"
      ],
      "metadata": {
        "id": "YZQwv8kI7sJE"
      }
    },
    {
      "cell_type": "markdown",
      "source": [
        "<center><img src='https://drive.google.com/uc?id=1ueq8VloMAsG-qmeyeIkZ0ZQiY15Io2ZC' width=\"700\"></center>\n"
      ],
      "metadata": {
        "id": "xGmFz6M__GR9"
      }
    },
    {
      "cell_type": "markdown",
      "source": [
        "Do note that\n",
        "- we don't really need the prediction\n",
        "\n",
        "We need the encoding coz\n",
        "- the fact the we can go back from encoding means that\n",
        "- encoding must have all that information to recreate the original vector."
      ],
      "metadata": {
        "id": "0t1kY0ZD_GwU"
      }
    },
    {
      "cell_type": "markdown",
      "source": [
        "#### Question: Is it required for encoder and decoder to be symmetric ?"
      ],
      "metadata": {
        "id": "b9rHLs_U_v8o"
      }
    },
    {
      "cell_type": "markdown",
      "source": [
        "<center><img src='https://drive.google.com/uc?id=1lmV8IkoX9ZfR88rJODnS9jru9KfoETLm' width=\"700\"></center>\n",
        "\n"
      ],
      "metadata": {
        "id": "fTY-Lp3JAeYv"
      }
    },
    {
      "cell_type": "markdown",
      "source": [
        "It doesn't really have to be symmetric\n",
        "- Earlier, we used to keep the it symmertric\n",
        "    - i.e. same number of layer and same number of neuron\n",
        "- Also, weight were shared (tying weights) between encoder and decoder.\n",
        "    - so as to reduce the number of parameters\n",
        "\n",
        "There is no more necessary for that and we can have separate weights for enoder and decoder\n",
        "\n"
      ],
      "metadata": {
        "id": "bcCMgIcyAlEI"
      }
    },
    {
      "cell_type": "markdown",
      "source": [
        "#### Code walkthrough - Dimensionality-Reduction (using AE)"
      ],
      "metadata": {
        "id": "I7iJGmH9D3-3"
      }
    },
    {
      "cell_type": "markdown",
      "source": [
        "![image.png](data:image/png;base64,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)"
      ],
      "metadata": {
        "id": "sj6Q7JJDmc0k"
      }
    },
    {
      "cell_type": "code",
      "source": [
        "\n",
        "#Source and Reference: https://blog.keras.io/building-autoencoders-in-keras.html\n",
        "\n",
        "\n",
        "import keras\n",
        "from keras import layers\n",
        "from keras.datasets import mnist\n",
        "import numpy as np\n",
        "\n",
        "\n",
        "\n",
        "(x_train, y_train), (x_test, y_test) = mnist.load_data()\n",
        "\n",
        "#Normalization of input\n",
        "x_train = x_train.astype('float32') / 255.\n",
        "x_test = x_test.astype('float32') / 255.\n",
        "\n",
        "#Reshaping the images to 1D vectors\n",
        "x_train = x_train.reshape((len(x_train), np.prod(x_train.shape[1:])))\n",
        "x_test = x_test.reshape((len(x_test), np.prod(x_test.shape[1:])))\n",
        "print(x_train.shape)\n",
        "print(x_test.shape)\n"
      ],
      "metadata": {
        "id": "f7KioqwLx1hz",
        "colab": {
          "base_uri": "https://localhost:8080/"
        },
        "outputId": "3a51e1a3-2bb4-4342-b486-cfdc6bc63232"
      },
      "execution_count": null,
      "outputs": [
        {
          "output_type": "stream",
          "name": "stdout",
          "text": [
            "(60000, 784)\n",
            "(10000, 784)\n"
          ]
        }
      ]
    },
    {
      "cell_type": "code",
      "source": [
        "print(y_train.shape)\n",
        "print(y_test.shape)"
      ],
      "metadata": {
        "colab": {
          "base_uri": "https://localhost:8080/"
        },
        "id": "zGdsobEDsezT",
        "outputId": "26715cac-0a38-43d9-9b84-24755b8f4c4a"
      },
      "execution_count": null,
      "outputs": [
        {
          "output_type": "stream",
          "name": "stdout",
          "text": [
            "(60000,)\n",
            "(10000,)\n"
          ]
        }
      ]
    },
    {
      "cell_type": "code",
      "source": [
        "#AutoEncoder model - Functional\n",
        "input_img = keras.Input(shape=(784,))\n",
        "encoded = layers.Dense(128, activation='relu')(input_img)\n",
        "encoded = layers.Dense(64, activation='relu')(encoded)\n",
        "encoded = layers.Dense(32, activation='relu')(encoded)\n",
        "\n",
        "\n",
        "decoded = layers.Dense(64, activation='relu')(encoded)\n",
        "decoded = layers.Dense(128, activation='relu')(decoded)\n",
        "decoded = layers.Dense(784, activation='sigmoid')(decoded)\n",
        "\n"
      ],
      "metadata": {
        "id": "2e_zs5gkvyrV"
      },
      "execution_count": null,
      "outputs": []
    },
    {
      "cell_type": "code",
      "source": [
        "autoencoder = keras.Model(input_img, decoded)\n",
        "autoencoder.compile(optimizer='adam', loss='mse')\n",
        "\n",
        "autoencoder.fit(x_train, x_train,\n",
        "                epochs=10,\n",
        "                batch_size=256,\n",
        "                shuffle=True,\n",
        "                validation_data=(x_test, x_test))"
      ],
      "metadata": {
        "id": "GweNAmwbv6jE",
        "colab": {
          "base_uri": "https://localhost:8080/"
        },
        "outputId": "f116ab9f-9945-4ab6-96d9-6f0b1af4ba2b"
      },
      "execution_count": null,
      "outputs": [
        {
          "output_type": "stream",
          "name": "stdout",
          "text": [
            "Epoch 1/10\n",
            "235/235 [==============================] - 9s 6ms/step - loss: 0.2442 - val_loss: 0.1665\n",
            "Epoch 2/10\n",
            "235/235 [==============================] - 1s 5ms/step - loss: 0.1480 - val_loss: 0.1333\n",
            "Epoch 3/10\n",
            "235/235 [==============================] - 1s 5ms/step - loss: 0.1285 - val_loss: 0.1218\n",
            "Epoch 4/10\n",
            "235/235 [==============================] - 1s 5ms/step - loss: 0.1201 - val_loss: 0.1156\n",
            "Epoch 5/10\n",
            "235/235 [==============================] - 1s 5ms/step - loss: 0.1149 - val_loss: 0.1112\n",
            "Epoch 6/10\n",
            "235/235 [==============================] - 1s 5ms/step - loss: 0.1106 - val_loss: 0.1074\n",
            "Epoch 7/10\n",
            "235/235 [==============================] - 1s 6ms/step - loss: 0.1069 - val_loss: 0.1051\n",
            "Epoch 8/10\n",
            "235/235 [==============================] - 1s 6ms/step - loss: 0.1043 - val_loss: 0.1022\n",
            "Epoch 9/10\n",
            "235/235 [==============================] - 1s 5ms/step - loss: 0.1025 - val_loss: 0.1007\n",
            "Epoch 10/10\n",
            "235/235 [==============================] - 1s 5ms/step - loss: 0.1008 - val_loss: 0.0993\n"
          ]
        },
        {
          "output_type": "execute_result",
          "data": {
            "text/plain": [
              "<keras.src.callbacks.History at 0x7acc4072abc0>"
            ]
          },
          "metadata": {},
          "execution_count": 7
        }
      ]
    },
    {
      "cell_type": "code",
      "source": [
        "autoencoder.summary()"
      ],
      "metadata": {
        "colab": {
          "base_uri": "https://localhost:8080/"
        },
        "id": "pfTYDEUKHPZ_",
        "outputId": "a266631d-e166-4af0-8e77-41d18bf0292e"
      },
      "execution_count": null,
      "outputs": [
        {
          "output_type": "stream",
          "name": "stdout",
          "text": [
            "Model: \"model\"\n",
            "_________________________________________________________________\n",
            " Layer (type)                Output Shape              Param #   \n",
            "=================================================================\n",
            " input_1 (InputLayer)        [(None, 784)]             0         \n",
            "                                                                 \n",
            " dense (Dense)               (None, 128)               100480    \n",
            "                                                                 \n",
            " dense_1 (Dense)             (None, 64)                8256      \n",
            "                                                                 \n",
            " dense_2 (Dense)             (None, 32)                2080      \n",
            "                                                                 \n",
            " dense_3 (Dense)             (None, 64)                2112      \n",
            "                                                                 \n",
            " dense_4 (Dense)             (None, 128)               8320      \n",
            "                                                                 \n",
            " dense_5 (Dense)             (None, 784)               101136    \n",
            "                                                                 \n",
            "=================================================================\n",
            "Total params: 222384 (868.69 KB)\n",
            "Trainable params: 222384 (868.69 KB)\n",
            "Non-trainable params: 0 (0.00 Byte)\n",
            "_________________________________________________________________\n"
          ]
        }
      ]
    },
    {
      "cell_type": "code",
      "source": [
        "#Visualize the outputs\n",
        "import matplotlib.pyplot as plt\n",
        "\n",
        "decoded_imgs = autoencoder.predict(x_test)\n",
        "\n",
        "n = 10\n",
        "plt.figure(figsize=(20, 4))\n",
        "for i in range(1, n + 1):\n",
        "    # Display original\n",
        "    ax = plt.subplot(2, n, i)\n",
        "    plt.imshow(x_test[i].reshape(28, 28))\n",
        "    plt.gray()\n",
        "    ax.get_xaxis().set_visible(False)\n",
        "    ax.get_yaxis().set_visible(False)\n",
        "\n",
        "    # Display reconstruction\n",
        "    ax = plt.subplot(2, n, i + n)\n",
        "    plt.imshow(decoded_imgs[i].reshape(28, 28))\n",
        "    plt.gray()\n",
        "    ax.get_xaxis().set_visible(False)\n",
        "    ax.get_yaxis().set_visible(False)\n",
        "plt.show()"
      ],
      "metadata": {
        "colab": {
          "base_uri": "https://localhost:8080/",
          "height": 287
        },
        "id": "lyTRFIQTw5yI",
        "outputId": "3137bf37-841d-4886-d990-adf413e6b0f4"
      },
      "execution_count": null,
      "outputs": [
        {
          "output_type": "stream",
          "name": "stdout",
          "text": [
            "313/313 [==============================] - 1s 2ms/step\n"
          ]
        },
        {
          "output_type": "display_data",
          "data": {
            "text/plain": [
              "<Figure size 2000x400 with 20 Axes>"
            ],
            "image/png": "[encoded data removed]"
          },
          "metadata": {}
        }
      ]
    },
    {
      "cell_type": "markdown",
      "source": [
        "### AutoEncoder model for 2D encoding\n"
      ],
      "metadata": {
        "id": "vy4HAOpdnXe0"
      }
    },
    {
      "cell_type": "code",
      "source": [
        "#AutoEncoder model for 2D encoding\n",
        "input_img = keras.Input(shape=(784,))\n",
        "encoded = layers.Dense(128, activation='relu')(input_img)\n",
        "encoded = layers.Dense(64, activation='relu')(encoded)\n",
        "encoded = layers.Dense(32, activation='relu')(encoded)\n",
        "encoded = layers.Dense(16, activation='relu')(encoded)\n",
        "encoded = layers.Dense(8, activation='relu')(encoded)\n",
        "encoded = layers.Dense(4, activation='relu')(encoded)\n",
        "encoded = layers.Dense(2, activation='relu')(encoded)\n",
        "\n",
        "decoded = layers.Dense(4, activation='relu')(encoded)\n",
        "decoded = layers.Dense(8, activation='relu')(decoded)\n",
        "decoded = layers.Dense(16, activation='relu')(decoded)\n",
        "decoded = layers.Dense(32, activation='relu')(decoded)\n",
        "decoded = layers.Dense(64, activation='relu')(decoded)\n",
        "decoded = layers.Dense(128, activation='relu')(decoded)\n",
        "decoded = layers.Dense(784, activation='sigmoid')(decoded)\n",
        "\n"
      ],
      "metadata": {
        "id": "ospQiMyhnBgB"
      },
      "execution_count": null,
      "outputs": []
    },
    {
      "cell_type": "code",
      "source": [
        "model = keras.Model(input_img, decoded)\n",
        "model.compile(optimizer='adam', loss='mse')\n"
      ],
      "metadata": {
        "id": "ZyJD_-yjncpt"
      },
      "execution_count": null,
      "outputs": []
    },
    {
      "cell_type": "code",
      "source": [
        "model.summary()"
      ],
      "metadata": {
        "colab": {
          "base_uri": "https://localhost:8080/"
        },
        "id": "GRSoO3GXnx4F",
        "outputId": "db143e5a-4b88-4900-dd46-438df041940a"
      },
      "execution_count": null,
      "outputs": [
        {
          "output_type": "stream",
          "name": "stdout",
          "text": [
            "Model: \"model_1\"\n",
            "_________________________________________________________________\n",
            " Layer (type)                Output Shape              Param #   \n",
            "=================================================================\n",
            " input_2 (InputLayer)        [(None, 784)]             0         \n",
            "                                                                 \n",
            " dense_6 (Dense)             (None, 128)               100480    \n",
            "                                                                 \n",
            " dense_7 (Dense)             (None, 64)                8256      \n",
            "                                                                 \n",
            " dense_8 (Dense)             (None, 32)                2080      \n",
            "                                                                 \n",
            " dense_9 (Dense)             (None, 16)                528       \n",
            "                                                                 \n",
            " dense_10 (Dense)            (None, 8)                 136       \n",
            "                                                                 \n",
            " dense_11 (Dense)            (None, 4)                 36        \n",
            "                                                                 \n",
            " dense_12 (Dense)            (None, 2)                 10        \n",
            "                                                                 \n",
            " dense_13 (Dense)            (None, 4)                 12        \n",
            "                                                                 \n",
            " dense_14 (Dense)            (None, 8)                 40        \n",
            "                                                                 \n",
            " dense_15 (Dense)            (None, 16)                144       \n",
            "                                                                 \n",
            " dense_16 (Dense)            (None, 32)                544       \n",
            "                                                                 \n",
            " dense_17 (Dense)            (None, 64)                2112      \n",
            "                                                                 \n",
            " dense_18 (Dense)            (None, 128)               8320      \n",
            "                                                                 \n",
            " dense_19 (Dense)            (None, 784)               101136    \n",
            "                                                                 \n",
            "=================================================================\n",
            "Total params: 223,834\n",
            "Trainable params: 223,834\n",
            "Non-trainable params: 0\n",
            "_________________________________________________________________\n"
          ]
        }
      ]
    },
    {
      "cell_type": "code",
      "source": [
        "model.fit(x_train, x_train,\n",
        "                epochs=100,\n",
        "                batch_size=256,\n",
        "                shuffle=True,\n",
        "                validation_data=(x_test, x_test))"
      ],
      "metadata": {
        "colab": {
          "base_uri": "https://localhost:8080/"
        },
        "id": "ht_XTixzn9zY",
        "outputId": "e6d50fae-e313-483f-967a-126ff6e56911"
      },
      "execution_count": null,
      "outputs": [
        {
          "output_type": "stream",
          "name": "stdout",
          "text": [
            "Epoch 1/100\n",
            "235/235 [==============================] - 6s 8ms/step - loss: 0.3483 - val_loss: 0.2397\n",
            "Epoch 2/100\n",
            "235/235 [==============================] - 2s 7ms/step - loss: 0.2376 - val_loss: 0.2350\n",
            "Epoch 3/100\n",
            "235/235 [==============================] - 2s 10ms/step - loss: 0.2334 - val_loss: 0.2298\n",
            "Epoch 4/100\n",
            "235/235 [==============================] - 2s 8ms/step - loss: 0.2290 - val_loss: 0.2266\n",
            "Epoch 5/100\n",
            "235/235 [==============================] - 2s 7ms/step - loss: 0.2262 - val_loss: 0.2238\n",
            "Epoch 6/100\n",
            "235/235 [==============================] - 2s 7ms/step - loss: 0.2226 - val_loss: 0.2205\n",
            "Epoch 7/100\n",
            "235/235 [==============================] - 2s 6ms/step - loss: 0.2197 - val_loss: 0.2184\n",
            "Epoch 8/100\n",
            "235/235 [==============================] - 1s 6ms/step - loss: 0.2172 - val_loss: 0.2164\n",
            "Epoch 9/100\n",
            "235/235 [==============================] - 2s 6ms/step - loss: 0.2154 - val_loss: 0.2144\n",
            "Epoch 10/100\n",
            "235/235 [==============================] - 2s 8ms/step - loss: 0.2139 - val_loss: 0.2136\n",
            "Epoch 11/100\n",
            "235/235 [==============================] - 2s 9ms/step - loss: 0.2134 - val_loss: 0.2131\n",
            "Epoch 12/100\n",
            "235/235 [==============================] - 2s 7ms/step - loss: 0.2124 - val_loss: 0.2121\n",
            "Epoch 13/100\n",
            "235/235 [==============================] - 2s 7ms/step - loss: 0.2121 - val_loss: 0.2109\n",
            "Epoch 14/100\n",
            "235/235 [==============================] - 2s 7ms/step - loss: 0.2109 - val_loss: 0.2099\n",
            "Epoch 15/100\n",
            "235/235 [==============================] - 2s 7ms/step - loss: 0.2099 - val_loss: 0.2089\n",
            "Epoch 16/100\n",
            "235/235 [==============================] - 2s 7ms/step - loss: 0.2092 - val_loss: 0.2083\n",
            "Epoch 17/100\n",
            "235/235 [==============================] - 2s 7ms/step - loss: 0.2081 - val_loss: 0.2080\n",
            "Epoch 18/100\n",
            "235/235 [==============================] - 2s 9ms/step - loss: 0.2075 - val_loss: 0.2069\n",
            "Epoch 19/100\n",
            "235/235 [==============================] - 2s 7ms/step - loss: 0.2070 - val_loss: 0.2063\n",
            "Epoch 20/100\n",
            "235/235 [==============================] - 2s 7ms/step - loss: 0.2061 - val_loss: 0.2066\n",
            "Epoch 21/100\n",
            "235/235 [==============================] - 2s 7ms/step - loss: 0.2075 - val_loss: 0.2109\n",
            "Epoch 22/100\n",
            "235/235 [==============================] - 2s 7ms/step - loss: 0.2079 - val_loss: 0.2098\n",
            "Epoch 23/100\n",
            "235/235 [==============================] - 2s 6ms/step - loss: 0.2081 - val_loss: 0.2047\n",
            "Epoch 24/100\n",
            "235/235 [==============================] - 2s 7ms/step - loss: 0.2050 - val_loss: 0.2036\n",
            "Epoch 25/100\n",
            "235/235 [==============================] - 2s 8ms/step - loss: 0.2062 - val_loss: 0.2085\n",
            "Epoch 26/100\n",
            "235/235 [==============================] - 2s 9ms/step - loss: 0.2048 - val_loss: 0.2032\n",
            "Epoch 27/100\n",
            "235/235 [==============================] - 2s 6ms/step - loss: 0.2036 - val_loss: 0.2033\n",
            "Epoch 28/100\n",
            "235/235 [==============================] - 2s 7ms/step - loss: 0.2033 - val_loss: 0.2022\n",
            "Epoch 29/100\n",
            "235/235 [==============================] - 2s 7ms/step - loss: 0.2029 - val_loss: 0.2023\n",
            "Epoch 30/100\n",
            "235/235 [==============================] - 2s 7ms/step - loss: 0.2018 - val_loss: 0.2008\n",
            "Epoch 31/100\n",
            "235/235 [==============================] - 2s 7ms/step - loss: 0.2013 - val_loss: 0.2010\n",
            "Epoch 32/100\n",
            "235/235 [==============================] - 2s 7ms/step - loss: 0.2016 - val_loss: 0.2017\n",
            "Epoch 33/100\n",
            "235/235 [==============================] - 2s 9ms/step - loss: 0.2017 - val_loss: 0.2019\n",
            "Epoch 34/100\n",
            "235/235 [==============================] - 2s 7ms/step - loss: 0.2019 - val_loss: 0.2016\n",
            "Epoch 35/100\n",
            "235/235 [==============================] - 2s 7ms/step - loss: 0.2023 - val_loss: 0.2028\n",
            "Epoch 36/100\n",
            "235/235 [==============================] - 2s 7ms/step - loss: 0.2040 - val_loss: 0.2078\n",
            "Epoch 37/100\n",
            "235/235 [==============================] - 2s 7ms/step - loss: 0.2143 - val_loss: 0.2138\n",
            "Epoch 38/100\n",
            "235/235 [==============================] - 2s 7ms/step - loss: 0.2110 - val_loss: 0.2075\n",
            "Epoch 39/100\n",
            "235/235 [==============================] - 2s 7ms/step - loss: 0.2067 - val_loss: 0.2021\n",
            "Epoch 40/100\n",
            "235/235 [==============================] - 2s 10ms/step - loss: 0.2019 - val_loss: 0.1999\n",
            "Epoch 41/100\n",
            "235/235 [==============================] - 2s 8ms/step - loss: 0.2002 - val_loss: 0.1992\n",
            "Epoch 42/100\n",
            "235/235 [==============================] - 2s 7ms/step - loss: 0.1997 - val_loss: 0.1987\n",
            "Epoch 43/100\n",
            "235/235 [==============================] - 2s 8ms/step - loss: 0.1988 - val_loss: 0.1982\n",
            "Epoch 44/100\n",
            "235/235 [==============================] - 2s 7ms/step - loss: 0.1985 - val_loss: 0.1980\n",
            "Epoch 45/100\n",
            "235/235 [==============================] - 2s 7ms/step - loss: 0.1986 - val_loss: 0.1983\n",
            "Epoch 46/100\n",
            "235/235 [==============================] - 2s 8ms/step - loss: 0.1980 - val_loss: 0.1973\n",
            "Epoch 47/100\n",
            "235/235 [==============================] - 2s 10ms/step - loss: 0.1986 - val_loss: 0.2010\n",
            "Epoch 48/100\n",
            "235/235 [==============================] - 2s 7ms/step - loss: 0.1992 - val_loss: 0.1976\n",
            "Epoch 49/100\n",
            "235/235 [==============================] - 2s 7ms/step - loss: 0.1979 - val_loss: 0.1995\n",
            "Epoch 50/100\n",
            "235/235 [==============================] - 2s 7ms/step - loss: 0.1981 - val_loss: 0.1968\n",
            "Epoch 51/100\n",
            "235/235 [==============================] - 2s 7ms/step - loss: 0.1972 - val_loss: 0.1962\n",
            "Epoch 52/100\n",
            "235/235 [==============================] - 2s 7ms/step - loss: 0.1970 - val_loss: 0.1967\n",
            "Epoch 53/100\n",
            "235/235 [==============================] - 2s 7ms/step - loss: 0.1969 - val_loss: 0.1976\n",
            "Epoch 54/100\n",
            "235/235 [==============================] - 2s 10ms/step - loss: 0.1974 - val_loss: 0.1972\n",
            "Epoch 55/100\n",
            "235/235 [==============================] - 2s 7ms/step - loss: 0.1968 - val_loss: 0.1964\n",
            "Epoch 56/100\n",
            "235/235 [==============================] - 2s 7ms/step - loss: 0.1969 - val_loss: 0.2013\n",
            "Epoch 57/100\n",
            "235/235 [==============================] - 2s 7ms/step - loss: 0.1990 - val_loss: 0.1976\n",
            "Epoch 58/100\n",
            "235/235 [==============================] - 2s 7ms/step - loss: 0.1971 - val_loss: 0.1961\n",
            "Epoch 59/100\n",
            "235/235 [==============================] - 2s 7ms/step - loss: 0.1967 - val_loss: 0.1967\n",
            "Epoch 60/100\n",
            "235/235 [==============================] - 2s 7ms/step - loss: 0.1966 - val_loss: 0.1959\n",
            "Epoch 61/100\n",
            "235/235 [==============================] - 2s 10ms/step - loss: 0.1965 - val_loss: 0.1960\n",
            "Epoch 62/100\n",
            "235/235 [==============================] - 2s 8ms/step - loss: 0.1968 - val_loss: 0.1969\n",
            "Epoch 63/100\n",
            "235/235 [==============================] - 2s 7ms/step - loss: 0.1969 - val_loss: 0.1974\n",
            "Epoch 64/100\n",
            "235/235 [==============================] - 2s 7ms/step - loss: 0.1966 - val_loss: 0.1956\n",
            "Epoch 65/100\n",
            "235/235 [==============================] - 2s 7ms/step - loss: 0.1967 - val_loss: 0.1960\n",
            "Epoch 66/100\n",
            "235/235 [==============================] - 2s 7ms/step - loss: 0.1974 - val_loss: 0.2007\n",
            "Epoch 67/100\n",
            "235/235 [==============================] - 2s 8ms/step - loss: 0.2031 - val_loss: 0.2100\n",
            "Epoch 68/100\n",
            "235/235 [==============================] - 2s 10ms/step - loss: 0.2061 - val_loss: 0.2012\n",
            "Epoch 69/100\n",
            "235/235 [==============================] - 2s 7ms/step - loss: 0.2030 - val_loss: 0.2023\n",
            "Epoch 70/100\n",
            "235/235 [==============================] - 2s 7ms/step - loss: 0.2008 - val_loss: 0.2029\n",
            "Epoch 71/100\n",
            "235/235 [==============================] - 2s 7ms/step - loss: 0.2010 - val_loss: 0.1997\n",
            "Epoch 72/100\n",
            "235/235 [==============================] - 2s 7ms/step - loss: 0.1996 - val_loss: 0.1985\n",
            "Epoch 73/100\n",
            "235/235 [==============================] - 2s 7ms/step - loss: 0.2022 - val_loss: 0.1995\n",
            "Epoch 74/100\n",
            "235/235 [==============================] - 2s 8ms/step - loss: 0.1988 - val_loss: 0.1973\n",
            "Epoch 75/100\n",
            "235/235 [==============================] - 2s 10ms/step - loss: 0.1980 - val_loss: 0.1974\n",
            "Epoch 76/100\n",
            "235/235 [==============================] - 2s 7ms/step - loss: 0.1985 - val_loss: 0.1983\n",
            "Epoch 77/100\n",
            "235/235 [==============================] - 2s 8ms/step - loss: 0.1989 - val_loss: 0.1973\n",
            "Epoch 78/100\n",
            "235/235 [==============================] - 2s 7ms/step - loss: 0.1965 - val_loss: 0.1959\n",
            "Epoch 79/100\n",
            "235/235 [==============================] - 2s 7ms/step - loss: 0.1973 - val_loss: 0.1961\n",
            "Epoch 80/100\n",
            "235/235 [==============================] - 2s 7ms/step - loss: 0.1962 - val_loss: 0.1958\n",
            "Epoch 81/100\n",
            "235/235 [==============================] - 2s 8ms/step - loss: 0.1972 - val_loss: 0.1966\n",
            "Epoch 82/100\n",
            "235/235 [==============================] - 2s 9ms/step - loss: 0.1968 - val_loss: 0.1961\n",
            "Epoch 83/100\n",
            "235/235 [==============================] - 2s 7ms/step - loss: 0.1976 - val_loss: 0.1988\n",
            "Epoch 84/100\n",
            "235/235 [==============================] - 2s 8ms/step - loss: 0.1973 - val_loss: 0.1958\n",
            "Epoch 85/100\n",
            "235/235 [==============================] - 2s 7ms/step - loss: 0.1963 - val_loss: 0.1980\n",
            "Epoch 86/100\n",
            "235/235 [==============================] - 2s 7ms/step - loss: 0.1963 - val_loss: 0.1951\n",
            "Epoch 87/100\n",
            "235/235 [==============================] - 2s 7ms/step - loss: 0.1956 - val_loss: 0.1947\n",
            "Epoch 88/100\n",
            "235/235 [==============================] - 2s 8ms/step - loss: 0.1954 - val_loss: 0.1960\n",
            "Epoch 89/100\n",
            "235/235 [==============================] - 2s 9ms/step - loss: 0.1951 - val_loss: 0.1967\n",
            "Epoch 90/100\n",
            "235/235 [==============================] - 2s 7ms/step - loss: 0.1969 - val_loss: 0.2001\n",
            "Epoch 91/100\n",
            "235/235 [==============================] - 2s 7ms/step - loss: 0.1980 - val_loss: 0.1980\n",
            "Epoch 92/100\n",
            "235/235 [==============================] - 2s 8ms/step - loss: 0.1968 - val_loss: 0.1960\n",
            "Epoch 93/100\n",
            "235/235 [==============================] - 2s 8ms/step - loss: 0.1953 - val_loss: 0.1950\n",
            "Epoch 94/100\n",
            "235/235 [==============================] - 2s 7ms/step - loss: 0.1948 - val_loss: 0.1958\n",
            "Epoch 95/100\n",
            "235/235 [==============================] - 2s 10ms/step - loss: 0.1947 - val_loss: 0.1950\n",
            "Epoch 96/100\n",
            "235/235 [==============================] - 2s 8ms/step - loss: 0.1948 - val_loss: 0.1944\n",
            "Epoch 97/100\n",
            "235/235 [==============================] - 2s 7ms/step - loss: 0.1941 - val_loss: 0.1937\n",
            "Epoch 98/100\n",
            "235/235 [==============================] - 2s 7ms/step - loss: 0.1941 - val_loss: 0.1953\n",
            "Epoch 99/100\n",
            "235/235 [==============================] - 2s 7ms/step - loss: 0.1947 - val_loss: 0.1941\n",
            "Epoch 100/100\n",
            "235/235 [==============================] - 2s 7ms/step - loss: 0.1939 - val_loss: 0.1942\n"
          ]
        },
        {
          "output_type": "execute_result",
          "data": {
            "text/plain": [
              "<keras.callbacks.History at 0x7fe2a812a860>"
            ]
          },
          "metadata": {},
          "execution_count": 12
        }
      ]
    },
    {
      "cell_type": "code",
      "source": [
        "#Visualize the outputs\n",
        "import matplotlib.pyplot as plt\n",
        "\n",
        "decoded_imgs = model.predict(x_test)\n",
        "\n",
        "n = 10\n",
        "plt.figure(figsize=(20, 4))\n",
        "for i in range(1, n + 1):\n",
        "    # Display original\n",
        "    ax = plt.subplot(2, n, i)\n",
        "    plt.imshow(x_test[i].reshape(28, 28))\n",
        "    plt.gray()\n",
        "    ax.get_xaxis().set_visible(False)\n",
        "    ax.get_yaxis().set_visible(False)\n",
        "\n",
        "    # Display reconstruction\n",
        "    ax = plt.subplot(2, n, i + n)\n",
        "    plt.imshow(decoded_imgs[i].reshape(28, 28))\n",
        "    plt.gray()\n",
        "    ax.get_xaxis().set_visible(False)\n",
        "    ax.get_yaxis().set_visible(False)\n",
        "plt.show()"
      ],
      "metadata": {
        "colab": {
          "base_uri": "https://localhost:8080/",
          "height": 322
        },
        "id": "4QZMECHGopLJ",
        "outputId": "1bf723dd-30e9-4cfc-a7db-908efae9d0d5"
      },
      "execution_count": null,
      "outputs": [
        {
          "output_type": "stream",
          "name": "stdout",
          "text": [
            "313/313 [==============================] - 1s 2ms/step\n"
          ]
        },
        {
          "output_type": "display_data",
          "data": {
            "text/plain": [
              "<Figure size 2000x400 with 20 Axes>"
            ],
            "image/png": "[encoded data removed]"
          },
          "metadata": {}
        }
      ]
    },
    {
      "cell_type": "markdown",
      "source": [
        "#### How to get the output of intermediate layer ?"
      ],
      "metadata": {
        "id": "dZdtr-VXq1YV"
      }
    },
    {
      "cell_type": "code",
      "source": [
        "model.summary()"
      ],
      "metadata": {
        "colab": {
          "base_uri": "https://localhost:8080/"
        },
        "id": "UDp1hN2gsMK_",
        "outputId": "d77166c5-cb97-4160-848a-c75dee2761f2"
      },
      "execution_count": null,
      "outputs": [
        {
          "output_type": "stream",
          "name": "stdout",
          "text": [
            "Model: \"model_1\"\n",
            "_________________________________________________________________\n",
            " Layer (type)                Output Shape              Param #   \n",
            "=================================================================\n",
            " input_2 (InputLayer)        [(None, 784)]             0         \n",
            "                                                                 \n",
            " dense_6 (Dense)             (None, 128)               100480    \n",
            "                                                                 \n",
            " dense_7 (Dense)             (None, 64)                8256      \n",
            "                                                                 \n",
            " dense_8 (Dense)             (None, 32)                2080      \n",
            "                                                                 \n",
            " dense_9 (Dense)             (None, 16)                528       \n",
            "                                                                 \n",
            " dense_10 (Dense)            (None, 8)                 136       \n",
            "                                                                 \n",
            " dense_11 (Dense)            (None, 4)                 36        \n",
            "                                                                 \n",
            " dense_12 (Dense)            (None, 2)                 10        \n",
            "                                                                 \n",
            " dense_13 (Dense)            (None, 4)                 12        \n",
            "                                                                 \n",
            " dense_14 (Dense)            (None, 8)                 40        \n",
            "                                                                 \n",
            " dense_15 (Dense)            (None, 16)                144       \n",
            "                                                                 \n",
            " dense_16 (Dense)            (None, 32)                544       \n",
            "                                                                 \n",
            " dense_17 (Dense)            (None, 64)                2112      \n",
            "                                                                 \n",
            " dense_18 (Dense)            (None, 128)               8320      \n",
            "                                                                 \n",
            " dense_19 (Dense)            (None, 784)               101136    \n",
            "                                                                 \n",
            "=================================================================\n",
            "Total params: 223,834\n",
            "Trainable params: 223,834\n",
            "Non-trainable params: 0\n",
            "_________________________________________________________________\n"
          ]
        }
      ]
    },
    {
      "cell_type": "markdown",
      "source": [
        "We need the output of 8th layer"
      ],
      "metadata": {
        "id": "7WepXF3pqwhi"
      }
    },
    {
      "cell_type": "code",
      "source": [
        "model.layers"
      ],
      "metadata": {
        "colab": {
          "base_uri": "https://localhost:8080/"
        },
        "id": "8daRg6Nyq48f",
        "outputId": "59cc5b62-79b6-4093-b3fa-325a74659e50"
      },
      "execution_count": null,
      "outputs": [
        {
          "output_type": "execute_result",
          "data": {
            "text/plain": [
              "[<keras.engine.input_layer.InputLayer at 0x7fe2a83b2bc0>,\n",
              " <keras.layers.core.dense.Dense at 0x7fe2a83b2980>,\n",
              " <keras.layers.core.dense.Dense at 0x7fe2aacbe080>,\n",
              " <keras.layers.core.dense.Dense at 0x7fe2aacbf2b0>,\n",
              " <keras.layers.core.dense.Dense at 0x7fe2a8250b80>,\n",
              " <keras.layers.core.dense.Dense at 0x7fe2a8250c10>,\n",
              " <keras.layers.core.dense.Dense at 0x7fe2a82528c0>,\n",
              " <keras.layers.core.dense.Dense at 0x7fe2a8250b20>,\n",
              " <keras.layers.core.dense.Dense at 0x7fe2a8253970>,\n",
              " <keras.layers.core.dense.Dense at 0x7fe2a82515d0>,\n",
              " <keras.layers.core.dense.Dense at 0x7fe2a826ca90>,\n",
              " <keras.layers.core.dense.Dense at 0x7fe2a826d450>,\n",
              " <keras.layers.core.dense.Dense at 0x7fe2a826d630>,\n",
              " <keras.layers.core.dense.Dense at 0x7fe2a826ea70>,\n",
              " <keras.layers.core.dense.Dense at 0x7fe2a826f970>]"
            ]
          },
          "metadata": {},
          "execution_count": 15
        }
      ]
    },
    {
      "cell_type": "code",
      "source": [
        "model.layers[7].output"
      ],
      "metadata": {
        "colab": {
          "base_uri": "https://localhost:8080/"
        },
        "id": "19lECE7Rq6lW",
        "outputId": "f01bca84-d302-4d59-f09b-fe6a93623f54"
      },
      "execution_count": null,
      "outputs": [
        {
          "output_type": "execute_result",
          "data": {
            "text/plain": [
              "<KerasTensor: shape=(None, 2) dtype=float32 (created by layer 'dense_12')>"
            ]
          },
          "metadata": {},
          "execution_count": 16
        }
      ]
    },
    {
      "cell_type": "markdown",
      "source": [
        "Make a new model with\n",
        "- input same as previous model and\n",
        "- 7th layer output as model output (as layers starts from 0 )"
      ],
      "metadata": {
        "id": "zFY7q4Srq-Fb"
      }
    },
    {
      "cell_type": "code",
      "source": [
        "dim_2_model = keras.Model(model.input, model.layers[7].output)"
      ],
      "metadata": {
        "id": "V9tNuzqLquwQ"
      },
      "execution_count": null,
      "outputs": []
    },
    {
      "cell_type": "markdown",
      "source": [
        "#### Comparing results with tsne"
      ],
      "metadata": {
        "id": "OP3zlGCBqbPx"
      }
    },
    {
      "cell_type": "code",
      "source": [
        "!pip install openTSNE"
      ],
      "metadata": {
        "colab": {
          "base_uri": "https://localhost:8080/"
        },
        "id": "s05uK_hiAsJa",
        "outputId": "4ef58712-8a81-4c2f-c048-c51d3e326027"
      },
      "execution_count": null,
      "outputs": [
        {
          "output_type": "stream",
          "name": "stdout",
          "text": [
            "Looking in indexes: https://pypi.org/simple, https://us-python.pkg.dev/colab-wheels/public/simple/\n",
            "Collecting openTSNE\n",
            "  Downloading openTSNE-1.0.0-cp310-cp310-manylinux_2_17_x86_64.manylinux2014_x86_64.whl (2.7 MB)\n",
            "\u001b[2K     \u001b[90m━━━━━━━━━━━━━━━━━━━━━━━━━━━━━━━━━━━━━━━━\u001b[0m \u001b[32m2.7/2.7 MB\u001b[0m \u001b[31m61.8 MB/s\u001b[0m eta \u001b[36m0:00:00\u001b[0m\n",
            "\u001b[?25hRequirement already satisfied: numpy>=1.16.6 in /usr/local/lib/python3.10/dist-packages (from openTSNE) (1.22.4)\n",
            "Requirement already satisfied: scikit-learn>=0.20 in /usr/local/lib/python3.10/dist-packages (from openTSNE) (1.2.2)\n",
            "Requirement already satisfied: scipy in /usr/local/lib/python3.10/dist-packages (from openTSNE) (1.10.1)\n",
            "Requirement already satisfied: joblib>=1.1.1 in /usr/local/lib/python3.10/dist-packages (from scikit-learn>=0.20->openTSNE) (1.2.0)\n",
            "Requirement already satisfied: threadpoolctl>=2.0.0 in /usr/local/lib/python3.10/dist-packages (from scikit-learn>=0.20->openTSNE) (3.1.0)\n",
            "Installing collected packages: openTSNE\n",
            "Successfully installed openTSNE-1.0.0\n"
          ]
        }
      ]
    },
    {
      "cell_type": "code",
      "source": [
        "from openTSNE import TSNE"
      ],
      "metadata": {
        "id": "gvj5b4LpDZz6"
      },
      "execution_count": null,
      "outputs": []
    },
    {
      "cell_type": "code",
      "source": [
        "indices = np.random.choice(x_test.shape[0], 1000, replace = False)"
      ],
      "metadata": {
        "id": "Aq8FCaMMvOmZ"
      },
      "execution_count": null,
      "outputs": []
    },
    {
      "cell_type": "code",
      "source": [
        "sample = x_test[indices]"
      ],
      "metadata": {
        "id": "SaJmd3tZwDpc"
      },
      "execution_count": null,
      "outputs": []
    },
    {
      "cell_type": "code",
      "source": [
        "sample_y = y_test[indices]"
      ],
      "metadata": {
        "id": "pegw9EocwKbp"
      },
      "execution_count": null,
      "outputs": []
    },
    {
      "cell_type": "code",
      "source": [
        "# tSNE\n",
        "%%time\n",
        "Z2 = TSNE(n_jobs=-1, initialization='random', random_state=42, negative_gradient_method='bh').fit(sample)"
      ],
      "metadata": {
        "colab": {
          "base_uri": "https://localhost:8080/"
        },
        "id": "noV-wpsEBy2E",
        "outputId": "2507299a-4019-4ef0-bbcd-502865c699d2"
      },
      "execution_count": null,
      "outputs": [
        {
          "output_type": "stream",
          "name": "stdout",
          "text": [
            "CPU times: user 8.38 s, sys: 71.5 ms, total: 8.46 s\n",
            "Wall time: 4.72 s\n"
          ]
        }
      ]
    },
    {
      "cell_type": "markdown",
      "source": [
        "#### **Visualizing t-SNE results**"
      ],
      "metadata": {
        "id": "Q2pTwx3sEjUv"
      }
    },
    {
      "cell_type": "code",
      "source": [
        "import seaborn as sns\n",
        "from matplotlib import pyplot as plt\n",
        "from matplotlib.colors import ListedColormap\n",
        "\n",
        "cmap = ListedColormap(sns.husl_palette(len(np.unique(sample_y))))"
      ],
      "metadata": {
        "id": "U-B8YAaTuxKU"
      },
      "execution_count": null,
      "outputs": []
    },
    {
      "cell_type": "code",
      "source": [
        "fig, ax = plt.subplots()\n",
        "fig.set_figheight(10)\n",
        "fig.set_figwidth(10)\n",
        "ax.set_title('TSNE visualization of MNIST')\n",
        "im = ax.scatter(Z2[:,0], Z2[:,1], s=25, c=sample_y, cmap=cmap, edgecolor='none')\n",
        "cbar = fig.colorbar(im, ax=ax,label='Digit')"
      ],
      "metadata": {
        "colab": {
          "base_uri": "https://localhost:8080/",
          "height": 853
        },
        "id": "QkY_pq-4Dwko",
        "outputId": "a452bb61-523f-436b-a31e-10c9793da1da"
      },
      "execution_count": null,
      "outputs": [
        {
          "output_type": "display_data",
          "data": {
            "text/plain": [
              "<Figure size 1000x1000 with 2 Axes>"
            ],
            "image/png": "[encoded data removed]"
          },
          "metadata": {}
        }
      ]
    },
    {
      "cell_type": "markdown",
      "source": [
        "## Feature Extraction and Transfer learning"
      ],
      "metadata": {
        "id": "7v5nwcqXyetP"
      }
    },
    {
      "cell_type": "markdown",
      "source": [
        "### Feature Extraction"
      ],
      "metadata": {
        "id": "hQ9r2iXsFEI5"
      }
    },
    {
      "cell_type": "markdown",
      "source": [
        "Consider the following neural network"
      ],
      "metadata": {
        "id": "9ej9yE00BDYs"
      }
    },
    {
      "cell_type": "markdown",
      "source": [
        "<center><img src='https://drive.google.com/uc?id=1KA2oNn1McfGs6KwHevEvl78SJpR-I2A6' width=\"700\"></center>\n"
      ],
      "metadata": {
        "id": "w-guI32O6QiX"
      }
    },
    {
      "cell_type": "markdown",
      "source": [
        "The idea of feature extraction is\n",
        "- although there can be some information loss\n",
        "- we know that emebeddings has the the information\n",
        "\n",
        "So, we can use them as features\n",
        "\n",
        "\n"
      ],
      "metadata": {
        "id": "jrkvtKTI6NHS"
      }
    },
    {
      "cell_type": "markdown",
      "source": [
        "Once we have these embeddings,\n",
        "- we can go back to ML/DL\n",
        "- and perform any task (say classification)\n",
        "- with embeddings as our features."
      ],
      "metadata": {
        "id": "0RbCf3dcCV5R"
      }
    },
    {
      "cell_type": "markdown",
      "source": [
        "<center><img src='https://drive.google.com/uc?id=1MhQUGUkVYNYI79su0qWWNaJUNGHfkIED' width=\"700\"></center>\n",
        "\n"
      ],
      "metadata": {
        "id": "nof0uIwvCeMf"
      }
    },
    {
      "cell_type": "markdown",
      "source": [
        "For example:\n",
        "\n",
        "- Say, we have image data and we want to classification\n",
        "\n",
        "#### Question: Are DT and log. regression good enough to classify image data ?\n",
        "\n",
        "No. right."
      ],
      "metadata": {
        "id": "fGs1airNCoTQ"
      }
    },
    {
      "cell_type": "markdown",
      "source": [
        "#### What can we do instead ?"
      ],
      "metadata": {
        "id": "5WdnyNPCC3Et"
      }
    },
    {
      "cell_type": "markdown",
      "source": [
        "We can run an autoencoder to get the embeddings\n",
        "- and use them to run KNN, Log. reg. or Tree based model.\n"
      ],
      "metadata": {
        "id": "zBM4cz7iC6nX"
      }
    },
    {
      "cell_type": "markdown",
      "source": [
        "For recommender system\n",
        "- we can get the embeddings\n",
        "- and run cosine similiarity on it\n",
        "- or cluster the embeddings."
      ],
      "metadata": {
        "id": "xbg7wliMEagX"
      }
    },
    {
      "cell_type": "markdown",
      "source": [
        "### Transfer Learning"
      ],
      "metadata": {
        "id": "1God_hsZDKvA"
      }
    },
    {
      "cell_type": "markdown",
      "source": [],
      "metadata": {
        "id": "R-nok7qlUgJ5"
      }
    },
    {
      "cell_type": "markdown",
      "source": [
        "Consider the following complex network with millions of parameters"
      ],
      "metadata": {
        "id": "lXhwD_YLFW4P"
      }
    },
    {
      "cell_type": "markdown",
      "source": [
        "<center><img src='https://drive.google.com/uc?id=1Dc3nJH-8s6Hxdv97goL1aJ8ZpVRfvjW5' width=\"800\"></center>\n",
        "\n"
      ],
      "metadata": {
        "id": "OkuGaSDRFISg"
      }
    },
    {
      "cell_type": "markdown",
      "source": [
        "Suppose it is is a binary classification model\n",
        "- i.e. output layer has single neuron with sigmoid as activation function"
      ],
      "metadata": {
        "id": "huUzVmD3FQu3"
      }
    },
    {
      "cell_type": "markdown",
      "source": [
        "Now, the network was trained to detect\n",
        "- whether a person has cancer on not based on the images provided.\n",
        "\n"
      ],
      "metadata": {
        "id": "Khiew54PFfX2"
      }
    },
    {
      "cell_type": "markdown",
      "source": [
        "Say, our usecase is to detect whether a person has covid or not\n",
        "\n",
        "#### What choices do we have ?\n",
        "\n",
        "**Solution 1: Build a model from scratch and train it.**\n",
        "- But we may not get the same result as researchers who ran their deep NN model on GPU for weeks/months to get the weights\n",
        "\n",
        "**Solution 2: Use pre-trained model to get embeddings**\n",
        "- We can use a pre trained model (cancer model)\n",
        "    - to generate embeddings\n",
        "    - and then use those embeddings as input\n",
        "    - to run DL/ML model for our task (covid prediction)\n",
        "\n",
        "It was orginally created for other task but we use the output of intermediate layer for another task.\n",
        "\n",
        "This is called as **Transfer Learning**\n",
        "    "
      ],
      "metadata": {
        "id": "Woc1z2cbFwnY"
      }
    },
    {
      "cell_type": "markdown",
      "source": [
        "## Denoising Auto Encoders"
      ],
      "metadata": {
        "id": "hveoDYIrGQLO"
      }
    },
    {
      "cell_type": "markdown",
      "source": [
        "Sometimes some encoders\n",
        "- can have more number of neuron compared to input\n",
        "- i.e. it's stepping up instead of stepping down"
      ],
      "metadata": {
        "id": "A3cZkzm4Kud2"
      }
    },
    {
      "cell_type": "markdown",
      "source": [
        "<center><img src='https://drive.google.com/uc?id=18PHAqBopJuu2_MTS2ncfcaRlGf5tNQwD' width=\"700\"></center>\n",
        "\n"
      ],
      "metadata": {
        "id": "1BQjTq6bKaJV"
      }
    },
    {
      "cell_type": "markdown",
      "source": [
        "Sometimes auto encoders can overfit\n",
        "- and learn something called **identity function**\n",
        "- i.e. output = input"
      ],
      "metadata": {
        "id": "oYw5hNzZKC2e"
      }
    },
    {
      "cell_type": "markdown",
      "source": [
        "#### How can we deal with this ?"
      ],
      "metadata": {
        "id": "bPIvN9r4KhsR"
      }
    },
    {
      "cell_type": "markdown",
      "source": [
        "<center><img src='https://drive.google.com/uc?id=17FK2tFU2mhMb10lec9efrx86j3pHP1As' width=\"700\"></center>\n",
        "\n"
      ],
      "metadata": {
        "id": "48E2jZEqLM-l"
      }
    },
    {
      "cell_type": "markdown",
      "source": [
        "To deal with this,\n",
        "- we add some random noise the the input"
      ],
      "metadata": {
        "id": "l6cax_QfLSgr"
      }
    },
    {
      "cell_type": "markdown",
      "source": [
        "#### What happens when we add random noise to it ?"
      ],
      "metadata": {
        "id": "to4wm1IKLYba"
      }
    },
    {
      "cell_type": "markdown",
      "source": [
        "Now, as we have added random noise to our input\n",
        "- we know if network fully recreates the input\n",
        "- it means network has overfitted.\n",
        "\n",
        "\n",
        "And the network should not be recreate the noise\n",
        "- as there is no pattern to it\n",
        "\n",
        "Think of it as regularization over the network\n",
        "- as network can't recreate the noise\n",
        "- it ends up recreating the original data\n",
        "\n",
        "**The network cleans the data of any noise**"
      ],
      "metadata": {
        "id": "EZx-tz_-Lbs7"
      }
    },
    {
      "cell_type": "markdown",
      "source": [
        "### Code walkthrough"
      ],
      "metadata": {
        "id": "nlii7gT4LmOx"
      }
    },
    {
      "cell_type": "code",
      "source": [
        "from keras.datasets import mnist\n",
        "import numpy as np\n",
        "\n",
        "(x_train, _), (x_test, _) = mnist.load_data()\n",
        "\n",
        "#Normalize\n",
        "x_train = x_train.astype('float32') / 255.\n",
        "x_test = x_test.astype('float32') / 255.\n",
        "\n",
        "#Reshape\n",
        "x_train = x_train.reshape((len(x_train), np.prod(x_train.shape[1:])))\n",
        "x_test = x_test.reshape((len(x_test), np.prod(x_test.shape[1:])))\n",
        "\n",
        "#add NOISE - adding noise with random normal distribution\n",
        "noise_factor = 0.5\n",
        "x_train_noisy = x_train + noise_factor * np.random.normal(loc=0.0, scale=1.0, size=x_train.shape)\n",
        "x_test_noisy = x_test + noise_factor * np.random.normal(loc=0.0, scale=1.0, size=x_test.shape)\n",
        "\n",
        "x_train_noisy = np.clip(x_train_noisy, 0., 1.)\n",
        "x_test_noisy = np.clip(x_test_noisy, 0., 1.)\n",
        "\n",
        "print(x_train.shape)\n",
        "print(x_train_noisy.shape)\n",
        "print(x_test.shape)\n",
        "print(x_test_noisy.shape)"
      ],
      "metadata": {
        "colab": {
          "base_uri": "https://localhost:8080/"
        },
        "id": "U8aSYSxhyg8Y",
        "outputId": "6d32ea1d-b4eb-4a6f-cb11-21c94447b772"
      },
      "execution_count": null,
      "outputs": [
        {
          "output_type": "stream",
          "name": "stdout",
          "text": [
            "(60000, 784)\n",
            "(60000, 784)\n",
            "(10000, 784)\n",
            "(10000, 784)\n"
          ]
        }
      ]
    },
    {
      "cell_type": "code",
      "source": [
        "n = 10\n",
        "plt.figure(figsize=(20, 2))\n",
        "for i in range(1, n + 1):\n",
        "    ax = plt.subplot(1, n, i)\n",
        "    plt.imshow(x_test_noisy[i].reshape(28, 28))\n",
        "    plt.gray()\n",
        "    ax.get_xaxis().set_visible(False)\n",
        "    ax.get_yaxis().set_visible(False)\n",
        "plt.show()\n"
      ],
      "metadata": {
        "colab": {
          "base_uri": "https://localhost:8080/",
          "height": 153
        },
        "id": "QWhj1dBXyn_O",
        "outputId": "4ad78dbd-a7c6-4021-ab7e-468542ad5fad"
      },
      "execution_count": null,
      "outputs": [
        {
          "output_type": "display_data",
          "data": {
            "text/plain": [
              "<Figure size 2000x200 with 10 Axes>"
            ],
            "image/png": "[encoded data removed]"
          },
          "metadata": {}
        }
      ]
    },
    {
      "cell_type": "code",
      "source": [
        "#AutoEncoder model\n",
        "input_img = keras.Input(shape=(784,))\n",
        "encoded = layers.Dense(128, activation='relu')(input_img)\n",
        "encoded = layers.Dense(64, activation='relu')(encoded)\n",
        "encoded = layers.Dense(32, activation='relu')(encoded)\n",
        "\n",
        "decoded = layers.Dense(64, activation='relu')(encoded)\n",
        "decoded = layers.Dense(128, activation='relu')(decoded)\n",
        "decoded = layers.Dense(784, activation='sigmoid')(decoded)\n",
        "\n",
        "# Compile and Fit\n",
        "autoencoder = keras.Model(input_img, decoded)\n",
        "autoencoder.compile(optimizer='adam', loss='mse')\n",
        "\n",
        "autoencoder.fit(x_train_noisy, x_train_noisy,\n",
        "                epochs=100,\n",
        "                batch_size=256,\n",
        "                shuffle=True,\n",
        "                validation_data=(x_test_noisy, x_test))"
      ],
      "metadata": {
        "colab": {
          "base_uri": "https://localhost:8080/"
        },
        "id": "yuNMX-O5yzqF",
        "outputId": "56a1700c-c7bd-4555-c532-abeffbe53e6a"
      },
      "execution_count": null,
      "outputs": [
        {
          "metadata": {
            "tags": null
          },
          "name": "stdout",
          "output_type": "stream",
          "text": [
            "Epoch 1/100\n",
            "235/235 [==============================] - 4s 6ms/step - loss: 0.2702 - val_loss: 0.2120\n",
            "Epoch 2/100\n",
            "235/235 [==============================] - 1s 6ms/step - loss: 0.1893 - val_loss: 0.1747\n",
            "Epoch 3/100\n",
            "235/235 [==============================] - 2s 9ms/step - loss: 0.1683 - val_loss: 0.1604\n",
            "Epoch 4/100\n",
            "235/235 [==============================] - 3s 11ms/step - loss: 0.1577 - val_loss: 0.1545\n",
            "Epoch 5/100\n",
            "235/235 [==============================] - 2s 10ms/step - loss: 0.1518 - val_loss: 0.1484\n",
            "Epoch 6/100\n",
            "235/235 [==============================] - 2s 9ms/step - loss: 0.1470 - val_loss: 0.1446\n",
            "Epoch 7/100\n",
            "235/235 [==============================] - 2s 10ms/step - loss: 0.1430 - val_loss: 0.1404\n",
            "Epoch 8/100\n",
            "235/235 [==============================] - 2s 9ms/step - loss: 0.1396 - val_loss: 0.1379\n",
            "Epoch 9/100\n",
            "235/235 [==============================] - 2s 11ms/step - loss: 0.1371 - val_loss: 0.1356\n",
            "Epoch 10/100\n",
            "235/235 [==============================] - 3s 11ms/step - loss: 0.1350 - val_loss: 0.1336\n",
            "Epoch 11/100\n",
            "235/235 [==============================] - 2s 10ms/step - loss: 0.1331 - val_loss: 0.1321\n",
            "Epoch 12/100\n",
            "235/235 [==============================] - 2s 9ms/step - loss: 0.1315 - val_loss: 0.1302\n",
            "Epoch 13/100\n",
            "235/235 [==============================] - 2s 10ms/step - loss: 0.1301 - val_loss: 0.1293\n",
            "Epoch 14/100\n",
            "235/235 [==============================] - 2s 10ms/step - loss: 0.1288 - val_loss: 0.1281\n",
            "Epoch 15/100\n",
            "235/235 [==============================] - 3s 11ms/step - loss: 0.1278 - val_loss: 0.1275\n",
            "Epoch 16/100\n",
            "235/235 [==============================] - 2s 9ms/step - loss: 0.1270 - val_loss: 0.1264\n",
            "Epoch 17/100\n",
            "235/235 [==============================] - 2s 8ms/step - loss: 0.1262 - val_loss: 0.1256\n",
            "Epoch 18/100\n",
            "235/235 [==============================] - 1s 5ms/step - loss: 0.1255 - val_loss: 0.1252\n",
            "Epoch 19/100\n",
            "235/235 [==============================] - 1s 5ms/step - loss: 0.1249 - val_loss: 0.1252\n",
            "Epoch 20/100\n",
            "235/235 [==============================] - 1s 5ms/step - loss: 0.1243 - val_loss: 0.1243\n",
            "Epoch 21/100\n",
            "235/235 [==============================] - 1s 5ms/step - loss: 0.1236 - val_loss: 0.1235\n",
            "Epoch 22/100\n",
            "235/235 [==============================] - 1s 5ms/step - loss: 0.1230 - val_loss: 0.1233\n",
            "Epoch 23/100\n",
            "235/235 [==============================] - 1s 6ms/step - loss: 0.1227 - val_loss: 0.1229\n",
            "Epoch 24/100\n",
            "235/235 [==============================] - 2s 7ms/step - loss: 0.1220 - val_loss: 0.1224\n",
            "Epoch 25/100\n",
            "235/235 [==============================] - 1s 6ms/step - loss: 0.1217 - val_loss: 0.1228\n",
            "Epoch 26/100\n",
            "235/235 [==============================] - 1s 5ms/step - loss: 0.1213 - val_loss: 0.1219\n",
            "Epoch 27/100\n",
            "235/235 [==============================] - 1s 5ms/step - loss: 0.1208 - val_loss: 0.1214\n",
            "Epoch 28/100\n",
            "235/235 [==============================] - 1s 5ms/step - loss: 0.1204 - val_loss: 0.1211\n",
            "Epoch 29/100\n",
            "235/235 [==============================] - 1s 5ms/step - loss: 0.1200 - val_loss: 0.1210\n",
            "Epoch 30/100\n",
            "235/235 [==============================] - 1s 5ms/step - loss: 0.1197 - val_loss: 0.1207\n",
            "Epoch 31/100\n",
            "235/235 [==============================] - 1s 5ms/step - loss: 0.1194 - val_loss: 0.1209\n",
            "Epoch 32/100\n",
            "235/235 [==============================] - 1s 5ms/step - loss: 0.1191 - val_loss: 0.1197\n",
            "Epoch 33/100\n",
            "235/235 [==============================] - 1s 6ms/step - loss: 0.1187 - val_loss: 0.1202\n",
            "Epoch 34/100\n",
            "235/235 [==============================] - 2s 7ms/step - loss: 0.1185 - val_loss: 0.1197\n",
            "Epoch 35/100\n",
            "235/235 [==============================] - 1s 6ms/step - loss: 0.1183 - val_loss: 0.1190\n",
            "Epoch 36/100\n",
            "235/235 [==============================] - 1s 5ms/step - loss: 0.1181 - val_loss: 0.1196\n",
            "Epoch 37/100\n",
            "235/235 [==============================] - 1s 5ms/step - loss: 0.1178 - val_loss: 0.1191\n",
            "Epoch 38/100\n",
            "235/235 [==============================] - 1s 5ms/step - loss: 0.1176 - val_loss: 0.1197\n",
            "Epoch 39/100\n",
            "235/235 [==============================] - 1s 5ms/step - loss: 0.1172 - val_loss: 0.1182\n",
            "Epoch 40/100\n",
            "235/235 [==============================] - 1s 5ms/step - loss: 0.1171 - val_loss: 0.1184\n",
            "Epoch 41/100\n",
            "235/235 [==============================] - 1s 5ms/step - loss: 0.1169 - val_loss: 0.1182\n",
            "Epoch 42/100\n",
            "235/235 [==============================] - 1s 5ms/step - loss: 0.1167 - val_loss: 0.1178\n",
            "Epoch 43/100\n",
            "235/235 [==============================] - 2s 7ms/step - loss: 0.1165 - val_loss: 0.1179\n",
            "Epoch 44/100\n",
            "235/235 [==============================] - 1s 6ms/step - loss: 0.1163 - val_loss: 0.1179\n",
            "Epoch 45/100\n",
            "235/235 [==============================] - 1s 5ms/step - loss: 0.1161 - val_loss: 0.1175\n",
            "Epoch 46/100\n",
            "235/235 [==============================] - 1s 5ms/step - loss: 0.1160 - val_loss: 0.1183\n",
            "Epoch 47/100\n",
            "235/235 [==============================] - 1s 5ms/step - loss: 0.1157 - val_loss: 0.1171\n",
            "Epoch 48/100\n",
            "235/235 [==============================] - 1s 5ms/step - loss: 0.1155 - val_loss: 0.1170\n",
            "Epoch 49/100\n",
            "235/235 [==============================] - 1s 5ms/step - loss: 0.1154 - val_loss: 0.1174\n",
            "Epoch 50/100\n",
            "235/235 [==============================] - 1s 5ms/step - loss: 0.1151 - val_loss: 0.1166\n",
            "Epoch 51/100\n",
            "235/235 [==============================] - 1s 5ms/step - loss: 0.1150 - val_loss: 0.1166\n",
            "Epoch 52/100\n",
            "235/235 [==============================] - 2s 6ms/step - loss: 0.1148 - val_loss: 0.1170\n",
            "Epoch 53/100\n",
            "235/235 [==============================] - 2s 7ms/step - loss: 0.1146 - val_loss: 0.1164\n",
            "Epoch 54/100\n",
            "235/235 [==============================] - 1s 5ms/step - loss: 0.1146 - val_loss: 0.1166\n",
            "Epoch 55/100\n",
            "235/235 [==============================] - 1s 5ms/step - loss: 0.1143 - val_loss: 0.1164\n",
            "Epoch 56/100\n",
            "235/235 [==============================] - 1s 5ms/step - loss: 0.1143 - val_loss: 0.1161\n",
            "Epoch 57/100\n",
            "235/235 [==============================] - 1s 5ms/step - loss: 0.1141 - val_loss: 0.1159\n",
            "Epoch 58/100\n",
            "235/235 [==============================] - 1s 5ms/step - loss: 0.1140 - val_loss: 0.1156\n",
            "Epoch 59/100\n",
            "235/235 [==============================] - 1s 5ms/step - loss: 0.1138 - val_loss: 0.1155\n",
            "Epoch 60/100\n",
            "235/235 [==============================] - 1s 5ms/step - loss: 0.1137 - val_loss: 0.1156\n",
            "Epoch 61/100\n",
            "235/235 [==============================] - 1s 5ms/step - loss: 0.1136 - val_loss: 0.1157\n",
            "Epoch 62/100\n",
            "235/235 [==============================] - 1s 6ms/step - loss: 0.1135 - val_loss: 0.1157\n",
            "Epoch 63/100\n",
            "235/235 [==============================] - 2s 7ms/step - loss: 0.1133 - val_loss: 0.1153\n",
            "Epoch 64/100\n",
            "235/235 [==============================] - 1s 5ms/step - loss: 0.1133 - val_loss: 0.1149\n",
            "Epoch 65/100\n",
            "235/235 [==============================] - 1s 5ms/step - loss: 0.1130 - val_loss: 0.1162\n",
            "Epoch 66/100\n",
            "235/235 [==============================] - 1s 5ms/step - loss: 0.1131 - val_loss: 0.1156\n",
            "Epoch 67/100\n",
            "235/235 [==============================] - 1s 6ms/step - loss: 0.1129 - val_loss: 0.1150\n",
            "Epoch 68/100\n",
            "235/235 [==============================] - 2s 8ms/step - loss: 0.1128 - val_loss: 0.1150\n",
            "Epoch 69/100\n",
            "235/235 [==============================] - 2s 7ms/step - loss: 0.1127 - val_loss: 0.1150\n",
            "Epoch 70/100\n",
            "235/235 [==============================] - 1s 5ms/step - loss: 0.1127 - val_loss: 0.1146\n",
            "Epoch 71/100\n",
            "235/235 [==============================] - 2s 7ms/step - loss: 0.1126 - val_loss: 0.1147\n",
            "Epoch 72/100\n",
            "235/235 [==============================] - 1s 6ms/step - loss: 0.1124 - val_loss: 0.1145\n",
            "Epoch 73/100\n",
            "235/235 [==============================] - 1s 5ms/step - loss: 0.1124 - val_loss: 0.1145\n",
            "Epoch 74/100\n",
            "235/235 [==============================] - 1s 5ms/step - loss: 0.1124 - val_loss: 0.1148\n",
            "Epoch 75/100\n",
            "235/235 [==============================] - 1s 5ms/step - loss: 0.1122 - val_loss: 0.1143\n",
            "Epoch 76/100\n",
            "235/235 [==============================] - 1s 5ms/step - loss: 0.1121 - val_loss: 0.1144\n",
            "Epoch 77/100\n",
            "235/235 [==============================] - 1s 5ms/step - loss: 0.1122 - val_loss: 0.1142\n",
            "Epoch 78/100\n",
            "235/235 [==============================] - 1s 5ms/step - loss: 0.1120 - val_loss: 0.1144\n",
            "Epoch 79/100\n",
            "235/235 [==============================] - 1s 5ms/step - loss: 0.1120 - val_loss: 0.1142\n",
            "Epoch 80/100\n",
            "235/235 [==============================] - 1s 5ms/step - loss: 0.1119 - val_loss: 0.1143\n",
            "Epoch 81/100\n",
            "235/235 [==============================] - 2s 7ms/step - loss: 0.1118 - val_loss: 0.1141\n",
            "Epoch 82/100\n",
            "235/235 [==============================] - 2s 6ms/step - loss: 0.1118 - val_loss: 0.1143\n",
            "Epoch 83/100\n",
            "235/235 [==============================] - 1s 5ms/step - loss: 0.1117 - val_loss: 0.1140\n",
            "Epoch 84/100\n",
            "235/235 [==============================] - 1s 5ms/step - loss: 0.1116 - val_loss: 0.1152\n",
            "Epoch 85/100\n",
            "235/235 [==============================] - 1s 5ms/step - loss: 0.1116 - val_loss: 0.1140\n",
            "Epoch 86/100\n",
            "235/235 [==============================] - 1s 5ms/step - loss: 0.1116 - val_loss: 0.1139\n",
            "Epoch 87/100\n",
            "235/235 [==============================] - 1s 5ms/step - loss: 0.1114 - val_loss: 0.1138\n",
            "Epoch 88/100\n",
            "235/235 [==============================] - 1s 5ms/step - loss: 0.1115 - val_loss: 0.1139\n",
            "Epoch 89/100\n",
            "235/235 [==============================] - 1s 5ms/step - loss: 0.1113 - val_loss: 0.1147\n",
            "Epoch 90/100\n",
            "235/235 [==============================] - 1s 5ms/step - loss: 0.1113 - val_loss: 0.1139\n",
            "Epoch 91/100\n",
            "235/235 [==============================] - 2s 7ms/step - loss: 0.1111 - val_loss: 0.1137\n",
            "Epoch 92/100\n",
            "235/235 [==============================] - 1s 6ms/step - loss: 0.1112 - val_loss: 0.1137\n",
            "Epoch 93/100\n",
            "235/235 [==============================] - 1s 5ms/step - loss: 0.1111 - val_loss: 0.1138\n",
            "Epoch 94/100\n",
            "235/235 [==============================] - 1s 5ms/step - loss: 0.1111 - val_loss: 0.1136\n",
            "Epoch 95/100\n",
            "235/235 [==============================] - 1s 5ms/step - loss: 0.1110 - val_loss: 0.1137\n",
            "Epoch 96/100\n",
            "235/235 [==============================] - 1s 5ms/step - loss: 0.1111 - val_loss: 0.1135\n",
            "Epoch 97/100\n",
            "235/235 [==============================] - 1s 5ms/step - loss: 0.1109 - val_loss: 0.1134\n",
            "Epoch 98/100\n",
            "235/235 [==============================] - 1s 5ms/step - loss: 0.1109 - val_loss: 0.1134\n",
            "Epoch 99/100\n",
            "235/235 [==============================] - 1s 5ms/step - loss: 0.1108 - val_loss: 0.1134\n",
            "Epoch 100/100\n",
            "235/235 [==============================] - 1s 5ms/step - loss: 0.1108 - val_loss: 0.1135\n"
          ]
        },
        {
          "data": {
            "text/plain": [
              "<keras.callbacks.History at 0x7fe3415c2ce0>"
            ]
          },
          "execution_count": 32,
          "metadata": {},
          "output_type": "execute_result"
        }
      ]
    },
    {
      "cell_type": "code",
      "source": [
        "#Visualize the outputs\n",
        "import matplotlib.pyplot as plt\n",
        "\n",
        "decoded_imgs = autoencoder.predict(x_test_noisy)\n",
        "\n",
        "n = 10\n",
        "plt.figure(figsize=(20, 4))\n",
        "for i in range(1, n + 1):\n",
        "    # Display original\n",
        "    ax = plt.subplot(2, n, i)\n",
        "    plt.imshow(x_test_noisy[i].reshape(28, 28))\n",
        "    plt.gray()\n",
        "    ax.get_xaxis().set_visible(False)\n",
        "    ax.get_yaxis().set_visible(False)\n",
        "\n",
        "    # Display reconstruction\n",
        "    ax = plt.subplot(2, n, i + n)\n",
        "    plt.imshow(decoded_imgs[i].reshape(28, 28))\n",
        "    plt.gray()\n",
        "    ax.get_xaxis().set_visible(False)\n",
        "    ax.get_yaxis().set_visible(False)\n",
        "plt.show()"
      ],
      "metadata": {
        "colab": {
          "base_uri": "https://localhost:8080/"
        },
        "id": "P7zmOcrg0lbj",
        "outputId": "29a47b0b-9def-4a36-b464-bbf4b04665fa"
      },
      "execution_count": null,
      "outputs": [
        {
          "metadata": {
            "tags": null
          },
          "name": "stdout",
          "output_type": "stream",
          "text": [
            "313/313 [==============================] - 1s 3ms/step\n"
          ]
        },
        {
          "data": {
            "image/png": "[encoded data removed]",
            "text/plain": [
              "<Figure size 2000x400 with 20 Axes>"
            ]
          },
          "metadata": {},
          "output_type": "display_data"
        }
      ]
    },
    {
      "cell_type": "markdown",
      "source": [
        "![image.png](data:image/png;base64,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)"
      ],
      "metadata": {
        "id": "EsJ7QXU3qx65"
      }
    },
    {
      "cell_type": "markdown",
      "source": [
        "## Recommender System using AE"
      ],
      "metadata": {
        "id": "VfYJZJJaMfRc"
      }
    },
    {
      "cell_type": "markdown",
      "source": [
        "<center><img src='https://drive.google.com/uc?id=1I-AUm4W8bcadVKPWc3v-Q25JO6xpWzcf' width=\"700\"></center>\n",
        "\n"
      ],
      "metadata": {
        "id": "ex3KDYAQMg-g"
      }
    },
    {
      "cell_type": "markdown",
      "source": [
        "Recall the user-item iteraction matrix\n",
        "- where each row represents the user\n",
        "- columns represents the movie ratings by user\n",
        "\n",
        "Do note that this iteraction matrix is sparse"
      ],
      "metadata": {
        "id": "v_xCa4nxMwEx"
      }
    },
    {
      "cell_type": "markdown",
      "source": [
        "Now, we can use these item vectors (movie ratings)\n",
        "- as a input to our AE\n",
        "- learn a dense embeddings\n",
        "- and use these embeddings to find similar movies."
      ],
      "metadata": {
        "id": "VVuFfJjNQwts"
      }
    },
    {
      "cell_type": "markdown",
      "source": [
        "### Code walkthough"
      ],
      "metadata": {
        "id": "skQP8JpKRi9m"
      }
    },
    {
      "cell_type": "code",
      "execution_count": null,
      "metadata": {
        "id": "a540d7c7"
      },
      "outputs": [],
      "source": [
        "import numpy as np\n",
        "import pandas as pd\n",
        "\n",
        "\n",
        "import warnings\n",
        "warnings.filterwarnings('ignore')"
      ]
    },
    {
      "cell_type": "markdown",
      "source": [
        "#### Loading data"
      ],
      "metadata": {
        "id": "giIGB8BzLAHD"
      }
    },
    {
      "cell_type": "code",
      "source": [
        "!gdown 1EsPvxcp5lzdltC3yLar1_laArmk9RZpw\n",
        "!gdown 1DgdthLfHLIq3AnS4YAa1bne-OM90oHoD"
      ],
      "metadata": {
        "colab": {
          "base_uri": "https://localhost:8080/"
        },
        "id": "Es7gKlbBGJ-Y",
        "outputId": "4656c3cf-26d9-42ee-a666-ce8fb96a5ef3"
      },
      "execution_count": null,
      "outputs": [
        {
          "output_type": "stream",
          "name": "stdout",
          "text": [
            "Downloading...\n",
            "From: https://drive.google.com/uc?id=1EsPvxcp5lzdltC3yLar1_laArmk9RZpw\n",
            "To: /content/ratings.csv\n",
            "100% 2.48M/2.48M [00:00<00:00, 191MB/s]\n",
            "Downloading...\n",
            "From: https://drive.google.com/uc?id=1DgdthLfHLIq3AnS4YAa1bne-OM90oHoD\n",
            "To: /content/movies.csv\n",
            "100% 516k/516k [00:00<00:00, 175MB/s]\n"
          ]
        }
      ]
    },
    {
      "cell_type": "code",
      "execution_count": null,
      "metadata": {
        "id": "76e44531"
      },
      "outputs": [],
      "source": [
        "ratings = pd.read_csv('ratings.csv')"
      ]
    },
    {
      "cell_type": "markdown",
      "source": [
        "#### What's the shape of ratings ?"
      ],
      "metadata": {
        "id": "771aGRAcgxfd"
      }
    },
    {
      "cell_type": "code",
      "source": [
        "ratings.shape"
      ],
      "metadata": {
        "colab": {
          "base_uri": "https://localhost:8080/"
        },
        "id": "u_KTw_YeEkXN",
        "outputId": "5442aa85-a626-43fb-a2e7-f394cbc35ee4"
      },
      "execution_count": null,
      "outputs": [
        {
          "output_type": "execute_result",
          "data": {
            "text/plain": [
              "(105339, 4)"
            ]
          },
          "metadata": {},
          "execution_count": 84
        }
      ]
    },
    {
      "cell_type": "markdown",
      "source": [
        "#### How many unique movie ids do we have ?"
      ],
      "metadata": {
        "id": "32JAo3Qyg0w7"
      }
    },
    {
      "cell_type": "code",
      "source": [
        "ratings.movieId.unique().shape"
      ],
      "metadata": {
        "colab": {
          "base_uri": "https://localhost:8080/"
        },
        "id": "ZRjEGKg_EP8X",
        "outputId": "11764779-9932-4d76-8756-18257706a239"
      },
      "execution_count": null,
      "outputs": [
        {
          "output_type": "execute_result",
          "data": {
            "text/plain": [
              "(10325,)"
            ]
          },
          "metadata": {},
          "execution_count": 85
        }
      ]
    },
    {
      "cell_type": "code",
      "execution_count": null,
      "metadata": {
        "id": "41689109",
        "outputId": "a3d95e39-31ee-47b5-f84e-fb7453a30490",
        "colab": {
          "base_uri": "https://localhost:8080/",
          "height": 206
        }
      },
      "outputs": [
        {
          "output_type": "execute_result",
          "data": {
            "text/plain": [
              "   userId  movieId  rating   timestamp\n",
              "0       1       16     4.0  1217897793\n",
              "1       1       24     1.5  1217895807\n",
              "2       1       32     4.0  1217896246\n",
              "3       1       47     4.0  1217896556\n",
              "4       1       50     4.0  1217896523"
            ],
            "text/html": [
              "\n",
              "  <div id=\"df-c1ad3576-47fb-43a9-a57f-3c7ab0bbc3cd\">\n",
              "    <div class=\"colab-df-container\">\n",
              "      <div>\n",
              "<style scoped>\n",
              "    .dataframe tbody tr th:only-of-type {\n",
              "        vertical-align: middle;\n",
              "    }\n",
              "\n",
              "    .dataframe tbody tr th {\n",
              "        vertical-align: top;\n",
              "    }\n",
              "\n",
              "    .dataframe thead th {\n",
              "        text-align: right;\n",
              "    }\n",
              "</style>\n",
              "<table border=\"1\" class=\"dataframe\">\n",
              "  <thead>\n",
              "    <tr style=\"text-align: right;\">\n",
              "      <th></th>\n",
              "      <th>userId</th>\n",
              "      <th>movieId</th>\n",
              "      <th>rating</th>\n",
              "      <th>timestamp</th>\n",
              "    </tr>\n",
              "  </thead>\n",
              "  <tbody>\n",
              "    <tr>\n",
              "      <th>0</th>\n",
              "      <td>1</td>\n",
              "      <td>16</td>\n",
              "      <td>4.0</td>\n",
              "      <td>1217897793</td>\n",
              "    </tr>\n",
              "    <tr>\n",
              "      <th>1</th>\n",
              "      <td>1</td>\n",
              "      <td>24</td>\n",
              "      <td>1.5</td>\n",
              "      <td>1217895807</td>\n",
              "    </tr>\n",
              "    <tr>\n",
              "      <th>2</th>\n",
              "      <td>1</td>\n",
              "      <td>32</td>\n",
              "      <td>4.0</td>\n",
              "      <td>1217896246</td>\n",
              "    </tr>\n",
              "    <tr>\n",
              "      <th>3</th>\n",
              "      <td>1</td>\n",
              "      <td>47</td>\n",
              "      <td>4.0</td>\n",
              "      <td>1217896556</td>\n",
              "    </tr>\n",
              "    <tr>\n",
              "      <th>4</th>\n",
              "      <td>1</td>\n",
              "      <td>50</td>\n",
              "      <td>4.0</td>\n",
              "      <td>1217896523</td>\n",
              "    </tr>\n",
              "  </tbody>\n",
              "</table>\n",
              "</div>\n",
              "      <button class=\"colab-df-convert\" onclick=\"convertToInteractive('df-c1ad3576-47fb-43a9-a57f-3c7ab0bbc3cd')\"\n",
              "              title=\"Convert this dataframe to an interactive table.\"\n",
              "              style=\"display:none;\">\n",
              "        \n",
              "  <svg xmlns=\"http://www.w3.org/2000/svg\" height=\"24px\"viewBox=\"0 0 24 24\"\n",
              "       width=\"24px\">\n",
              "    <path d=\"M0 0h24v24H0V0z\" fill=\"none\"/>\n",
              "    <path d=\"M18.56 5.44l.94 2.06.94-2.06 2.06-.94-2.06-.94-.94-2.06-.94 2.06-2.06.94zm-11 1L8.5 8.5l.94-2.06 2.06-.94-2.06-.94L8.5 2.5l-.94 2.06-2.06.94zm10 10l.94 2.06.94-2.06 2.06-.94-2.06-.94-.94-2.06-.94 2.06-2.06.94z\"/><path d=\"M17.41 7.96l-1.37-1.37c-.4-.4-.92-.59-1.43-.59-.52 0-1.04.2-1.43.59L10.3 9.45l-7.72 7.72c-.78.78-.78 2.05 0 2.83L4 21.41c.39.39.9.59 1.41.59.51 0 1.02-.2 1.41-.59l7.78-7.78 2.81-2.81c.8-.78.8-2.07 0-2.86zM5.41 20L4 18.59l7.72-7.72 1.47 1.35L5.41 20z\"/>\n",
              "  </svg>\n",
              "      </button>\n",
              "      \n",
              "  <style>\n",
              "    .colab-df-container {\n",
              "      display:flex;\n",
              "      flex-wrap:wrap;\n",
              "      gap: 12px;\n",
              "    }\n",
              "\n",
              "    .colab-df-convert {\n",
              "      background-color: #E8F0FE;\n",
              "      border: none;\n",
              "      border-radius: 50%;\n",
              "      cursor: pointer;\n",
              "      display: none;\n",
              "      fill: #1967D2;\n",
              "      height: 32px;\n",
              "      padding: 0 0 0 0;\n",
              "      width: 32px;\n",
              "    }\n",
              "\n",
              "    .colab-df-convert:hover {\n",
              "      background-color: #E2EBFA;\n",
              "      box-shadow: 0px 1px 2px rgba(60, 64, 67, 0.3), 0px 1px 3px 1px rgba(60, 64, 67, 0.15);\n",
              "      fill: #174EA6;\n",
              "    }\n",
              "\n",
              "    [theme=dark] .colab-df-convert {\n",
              "      background-color: #3B4455;\n",
              "      fill: #D2E3FC;\n",
              "    }\n",
              "\n",
              "    [theme=dark] .colab-df-convert:hover {\n",
              "      background-color: #434B5C;\n",
              "      box-shadow: 0px 1px 3px 1px rgba(0, 0, 0, 0.15);\n",
              "      filter: drop-shadow(0px 1px 2px rgba(0, 0, 0, 0.3));\n",
              "      fill: #FFFFFF;\n",
              "    }\n",
              "  </style>\n",
              "\n",
              "      <script>\n",
              "        const buttonEl =\n",
              "          document.querySelector('#df-c1ad3576-47fb-43a9-a57f-3c7ab0bbc3cd button.colab-df-convert');\n",
              "        buttonEl.style.display =\n",
              "          google.colab.kernel.accessAllowed ? 'block' : 'none';\n",
              "\n",
              "        async function convertToInteractive(key) {\n",
              "          const element = document.querySelector('#df-c1ad3576-47fb-43a9-a57f-3c7ab0bbc3cd');\n",
              "          const dataTable =\n",
              "            await google.colab.kernel.invokeFunction('convertToInteractive',\n",
              "                                                     [key], {});\n",
              "          if (!dataTable) return;\n",
              "\n",
              "          const docLinkHtml = 'Like what you see? Visit the ' +\n",
              "            '<a target=\"_blank\" href=https://colab.research.google.com/notebooks/data_table.ipynb>data table notebook</a>'\n",
              "            + ' to learn more about interactive tables.';\n",
              "          element.innerHTML = '';\n",
              "          dataTable['output_type'] = 'display_data';\n",
              "          await google.colab.output.renderOutput(dataTable, element);\n",
              "          const docLink = document.createElement('div');\n",
              "          docLink.innerHTML = docLinkHtml;\n",
              "          element.appendChild(docLink);\n",
              "        }\n",
              "      </script>\n",
              "    </div>\n",
              "  </div>\n",
              "  "
            ]
          },
          "metadata": {},
          "execution_count": 87
        }
      ],
      "source": [
        "ratings.head()"
      ]
    },
    {
      "cell_type": "markdown",
      "source": [
        "#### Pivoting ratings table\n",
        "\n",
        "Rows - Movie id\n",
        "\n",
        "Columns = User id"
      ],
      "metadata": {
        "id": "ctha8w1sg3rI"
      }
    },
    {
      "cell_type": "code",
      "execution_count": null,
      "metadata": {
        "id": "911898fd",
        "outputId": "78469330-4f3e-4858-fc5c-baa739468549",
        "colab": {
          "base_uri": "https://localhost:8080/",
          "height": 267
        }
      },
      "outputs": [
        {
          "output_type": "execute_result",
          "data": {
            "text/plain": [
              "userId   1    2    3    4    5    6    7    8    9    10   ...  659  660  661  \\\n",
              "movieId                                                    ...                  \n",
              "1        0.0  5.0  0.0  0.0  4.0  0.0  0.0  5.0  0.0  0.0  ...  0.0  0.0  4.0   \n",
              "2        0.0  0.0  0.0  0.0  0.0  0.0  0.0  0.0  0.0  0.0  ...  0.0  0.0  0.0   \n",
              "3        0.0  2.0  0.0  0.0  0.0  0.0  0.0  4.0  3.0  0.0  ...  0.0  0.0  3.0   \n",
              "4        0.0  0.0  0.0  0.0  0.0  0.0  0.0  0.0  0.0  0.0  ...  0.0  0.0  0.0   \n",
              "5        0.0  3.0  3.0  0.0  0.0  0.0  0.0  3.0  0.0  0.0  ...  0.0  0.0  3.0   \n",
              "\n",
              "userId   662  663  664  665  666  667  668  \n",
              "movieId                                     \n",
              "1        5.0  3.0  0.0  0.0  0.0  0.0  3.0  \n",
              "2        5.0  0.0  0.0  0.0  0.0  0.0  3.0  \n",
              "3        0.0  0.0  0.0  0.0  0.0  0.0  2.0  \n",
              "4        0.0  0.0  0.0  0.0  0.0  0.0  0.0  \n",
              "5        0.0  0.0  0.0  0.0  0.0  0.0  2.5  \n",
              "\n",
              "[5 rows x 668 columns]"
            ],
            "text/html": [
              "\n",
              "  <div id=\"df-06410801-fe6c-48fa-8c95-986b4b71e4ce\">\n",
              "    <div class=\"colab-df-container\">\n",
              "      <div>\n",
              "<style scoped>\n",
              "    .dataframe tbody tr th:only-of-type {\n",
              "        vertical-align: middle;\n",
              "    }\n",
              "\n",
              "    .dataframe tbody tr th {\n",
              "        vertical-align: top;\n",
              "    }\n",
              "\n",
              "    .dataframe thead th {\n",
              "        text-align: right;\n",
              "    }\n",
              "</style>\n",
              "<table border=\"1\" class=\"dataframe\">\n",
              "  <thead>\n",
              "    <tr style=\"text-align: right;\">\n",
              "      <th>userId</th>\n",
              "      <th>1</th>\n",
              "      <th>2</th>\n",
              "      <th>3</th>\n",
              "      <th>4</th>\n",
              "      <th>5</th>\n",
              "      <th>6</th>\n",
              "      <th>7</th>\n",
              "      <th>8</th>\n",
              "      <th>9</th>\n",
              "      <th>10</th>\n",
              "      <th>...</th>\n",
              "      <th>659</th>\n",
              "      <th>660</th>\n",
              "      <th>661</th>\n",
              "      <th>662</th>\n",
              "      <th>663</th>\n",
              "      <th>664</th>\n",
              "      <th>665</th>\n",
              "      <th>666</th>\n",
              "      <th>667</th>\n",
              "      <th>668</th>\n",
              "    </tr>\n",
              "    <tr>\n",
              "      <th>movieId</th>\n",
              "      <th></th>\n",
              "      <th></th>\n",
              "      <th></th>\n",
              "      <th></th>\n",
              "      <th></th>\n",
              "      <th></th>\n",
              "      <th></th>\n",
              "      <th></th>\n",
              "      <th></th>\n",
              "      <th></th>\n",
              "      <th></th>\n",
              "      <th></th>\n",
              "      <th></th>\n",
              "      <th></th>\n",
              "      <th></th>\n",
              "      <th></th>\n",
              "      <th></th>\n",
              "      <th></th>\n",
              "      <th></th>\n",
              "      <th></th>\n",
              "      <th></th>\n",
              "    </tr>\n",
              "  </thead>\n",
              "  <tbody>\n",
              "    <tr>\n",
              "      <th>1</th>\n",
              "      <td>0.0</td>\n",
              "      <td>5.0</td>\n",
              "      <td>0.0</td>\n",
              "      <td>0.0</td>\n",
              "      <td>4.0</td>\n",
              "      <td>0.0</td>\n",
              "      <td>0.0</td>\n",
              "      <td>5.0</td>\n",
              "      <td>0.0</td>\n",
              "      <td>0.0</td>\n",
              "      <td>...</td>\n",
              "      <td>0.0</td>\n",
              "      <td>0.0</td>\n",
              "      <td>4.0</td>\n",
              "      <td>5.0</td>\n",
              "      <td>3.0</td>\n",
              "      <td>0.0</td>\n",
              "      <td>0.0</td>\n",
              "      <td>0.0</td>\n",
              "      <td>0.0</td>\n",
              "      <td>3.0</td>\n",
              "    </tr>\n",
              "    <tr>\n",
              "      <th>2</th>\n",
              "      <td>0.0</td>\n",
              "      <td>0.0</td>\n",
              "      <td>0.0</td>\n",
              "      <td>0.0</td>\n",
              "      <td>0.0</td>\n",
              "      <td>0.0</td>\n",
              "      <td>0.0</td>\n",
              "      <td>0.0</td>\n",
              "      <td>0.0</td>\n",
              "      <td>0.0</td>\n",
              "      <td>...</td>\n",
              "      <td>0.0</td>\n",
              "      <td>0.0</td>\n",
              "      <td>0.0</td>\n",
              "      <td>5.0</td>\n",
              "      <td>0.0</td>\n",
              "      <td>0.0</td>\n",
              "      <td>0.0</td>\n",
              "      <td>0.0</td>\n",
              "      <td>0.0</td>\n",
              "      <td>3.0</td>\n",
              "    </tr>\n",
              "    <tr>\n",
              "      <th>3</th>\n",
              "      <td>0.0</td>\n",
              "      <td>2.0</td>\n",
              "      <td>0.0</td>\n",
              "      <td>0.0</td>\n",
              "      <td>0.0</td>\n",
              "      <td>0.0</td>\n",
              "      <td>0.0</td>\n",
              "      <td>4.0</td>\n",
              "      <td>3.0</td>\n",
              "      <td>0.0</td>\n",
              "      <td>...</td>\n",
              "      <td>0.0</td>\n",
              "      <td>0.0</td>\n",
              "      <td>3.0</td>\n",
              "      <td>0.0</td>\n",
              "      <td>0.0</td>\n",
              "      <td>0.0</td>\n",
              "      <td>0.0</td>\n",
              "      <td>0.0</td>\n",
              "      <td>0.0</td>\n",
              "      <td>2.0</td>\n",
              "    </tr>\n",
              "    <tr>\n",
              "      <th>4</th>\n",
              "      <td>0.0</td>\n",
              "      <td>0.0</td>\n",
              "      <td>0.0</td>\n",
              "      <td>0.0</td>\n",
              "      <td>0.0</td>\n",
              "      <td>0.0</td>\n",
              "      <td>0.0</td>\n",
              "      <td>0.0</td>\n",
              "      <td>0.0</td>\n",
              "      <td>0.0</td>\n",
              "      <td>...</td>\n",
              "      <td>0.0</td>\n",
              "      <td>0.0</td>\n",
              "      <td>0.0</td>\n",
              "      <td>0.0</td>\n",
              "      <td>0.0</td>\n",
              "      <td>0.0</td>\n",
              "      <td>0.0</td>\n",
              "      <td>0.0</td>\n",
              "      <td>0.0</td>\n",
              "      <td>0.0</td>\n",
              "    </tr>\n",
              "    <tr>\n",
              "      <th>5</th>\n",
              "      <td>0.0</td>\n",
              "      <td>3.0</td>\n",
              "      <td>3.0</td>\n",
              "      <td>0.0</td>\n",
              "      <td>0.0</td>\n",
              "      <td>0.0</td>\n",
              "      <td>0.0</td>\n",
              "      <td>3.0</td>\n",
              "      <td>0.0</td>\n",
              "      <td>0.0</td>\n",
              "      <td>...</td>\n",
              "      <td>0.0</td>\n",
              "      <td>0.0</td>\n",
              "      <td>3.0</td>\n",
              "      <td>0.0</td>\n",
              "      <td>0.0</td>\n",
              "      <td>0.0</td>\n",
              "      <td>0.0</td>\n",
              "      <td>0.0</td>\n",
              "      <td>0.0</td>\n",
              "      <td>2.5</td>\n",
              "    </tr>\n",
              "  </tbody>\n",
              "</table>\n",
              "<p>5 rows × 668 columns</p>\n",
              "</div>\n",
              "      <button class=\"colab-df-convert\" onclick=\"convertToInteractive('df-06410801-fe6c-48fa-8c95-986b4b71e4ce')\"\n",
              "              title=\"Convert this dataframe to an interactive table.\"\n",
              "              style=\"display:none;\">\n",
              "        \n",
              "  <svg xmlns=\"http://www.w3.org/2000/svg\" height=\"24px\"viewBox=\"0 0 24 24\"\n",
              "       width=\"24px\">\n",
              "    <path d=\"M0 0h24v24H0V0z\" fill=\"none\"/>\n",
              "    <path d=\"M18.56 5.44l.94 2.06.94-2.06 2.06-.94-2.06-.94-.94-2.06-.94 2.06-2.06.94zm-11 1L8.5 8.5l.94-2.06 2.06-.94-2.06-.94L8.5 2.5l-.94 2.06-2.06.94zm10 10l.94 2.06.94-2.06 2.06-.94-2.06-.94-.94-2.06-.94 2.06-2.06.94z\"/><path d=\"M17.41 7.96l-1.37-1.37c-.4-.4-.92-.59-1.43-.59-.52 0-1.04.2-1.43.59L10.3 9.45l-7.72 7.72c-.78.78-.78 2.05 0 2.83L4 21.41c.39.39.9.59 1.41.59.51 0 1.02-.2 1.41-.59l7.78-7.78 2.81-2.81c.8-.78.8-2.07 0-2.86zM5.41 20L4 18.59l7.72-7.72 1.47 1.35L5.41 20z\"/>\n",
              "  </svg>\n",
              "      </button>\n",
              "      \n",
              "  <style>\n",
              "    .colab-df-container {\n",
              "      display:flex;\n",
              "      flex-wrap:wrap;\n",
              "      gap: 12px;\n",
              "    }\n",
              "\n",
              "    .colab-df-convert {\n",
              "      background-color: #E8F0FE;\n",
              "      border: none;\n",
              "      border-radius: 50%;\n",
              "      cursor: pointer;\n",
              "      display: none;\n",
              "      fill: #1967D2;\n",
              "      height: 32px;\n",
              "      padding: 0 0 0 0;\n",
              "      width: 32px;\n",
              "    }\n",
              "\n",
              "    .colab-df-convert:hover {\n",
              "      background-color: #E2EBFA;\n",
              "      box-shadow: 0px 1px 2px rgba(60, 64, 67, 0.3), 0px 1px 3px 1px rgba(60, 64, 67, 0.15);\n",
              "      fill: #174EA6;\n",
              "    }\n",
              "\n",
              "    [theme=dark] .colab-df-convert {\n",
              "      background-color: #3B4455;\n",
              "      fill: #D2E3FC;\n",
              "    }\n",
              "\n",
              "    [theme=dark] .colab-df-convert:hover {\n",
              "      background-color: #434B5C;\n",
              "      box-shadow: 0px 1px 3px 1px rgba(0, 0, 0, 0.15);\n",
              "      filter: drop-shadow(0px 1px 2px rgba(0, 0, 0, 0.3));\n",
              "      fill: #FFFFFF;\n",
              "    }\n",
              "  </style>\n",
              "\n",
              "      <script>\n",
              "        const buttonEl =\n",
              "          document.querySelector('#df-06410801-fe6c-48fa-8c95-986b4b71e4ce button.colab-df-convert');\n",
              "        buttonEl.style.display =\n",
              "          google.colab.kernel.accessAllowed ? 'block' : 'none';\n",
              "\n",
              "        async function convertToInteractive(key) {\n",
              "          const element = document.querySelector('#df-06410801-fe6c-48fa-8c95-986b4b71e4ce');\n",
              "          const dataTable =\n",
              "            await google.colab.kernel.invokeFunction('convertToInteractive',\n",
              "                                                     [key], {});\n",
              "          if (!dataTable) return;\n",
              "\n",
              "          const docLinkHtml = 'Like what you see? Visit the ' +\n",
              "            '<a target=\"_blank\" href=https://colab.research.google.com/notebooks/data_table.ipynb>data table notebook</a>'\n",
              "            + ' to learn more about interactive tables.';\n",
              "          element.innerHTML = '';\n",
              "          dataTable['output_type'] = 'display_data';\n",
              "          await google.colab.output.renderOutput(dataTable, element);\n",
              "          const docLink = document.createElement('div');\n",
              "          docLink.innerHTML = docLinkHtml;\n",
              "          element.appendChild(docLink);\n",
              "        }\n",
              "      </script>\n",
              "    </div>\n",
              "  </div>\n",
              "  "
            ]
          },
          "metadata": {},
          "execution_count": 88
        }
      ],
      "source": [
        "rm = ratings.pivot(index = 'movieId', columns ='userId', values = 'rating').fillna(0)\n",
        "rm.head()"
      ]
    },
    {
      "cell_type": "code",
      "source": [
        "rm.shape"
      ],
      "metadata": {
        "colab": {
          "base_uri": "https://localhost:8080/"
        },
        "id": "4JG9fv9uB_dZ",
        "outputId": "be4ba784-c15f-40b3-b2b5-8cb297090f97"
      },
      "execution_count": null,
      "outputs": [
        {
          "output_type": "execute_result",
          "data": {
            "text/plain": [
              "(10325, 668)"
            ]
          },
          "metadata": {},
          "execution_count": 89
        }
      ]
    },
    {
      "cell_type": "markdown",
      "source": [
        "#### Check the sparsity of data"
      ],
      "metadata": {
        "id": "qB8MvsqzAu7O"
      }
    },
    {
      "cell_type": "code",
      "execution_count": null,
      "metadata": {
        "id": "34e90b67",
        "outputId": "18181b2f-bc0e-44c3-b355-3b56dc755ad7",
        "colab": {
          "base_uri": "https://localhost:8080/"
        }
      },
      "outputs": [
        {
          "output_type": "execute_result",
          "data": {
            "text/plain": [
              "0.015272940801206305"
            ]
          },
          "metadata": {},
          "execution_count": 90
        }
      ],
      "source": [
        "(rm > 0).sum().sum() / (rm.shape[0] * rm.shape[1])"
      ]
    },
    {
      "cell_type": "markdown",
      "metadata": {
        "id": "71ec3620"
      },
      "source": [
        "- Only 1.5% of the values are filled\n"
      ]
    },
    {
      "cell_type": "markdown",
      "source": [
        "#### Splitting in train val"
      ],
      "metadata": {
        "id": "Cln-ICdgCod_"
      }
    },
    {
      "cell_type": "code",
      "source": [
        "from sklearn.model_selection import train_test_split"
      ],
      "metadata": {
        "id": "ewVC9laeCqMl"
      },
      "execution_count": null,
      "outputs": []
    },
    {
      "cell_type": "code",
      "source": [
        "train, val = train_test_split(rm, test_size = 0.2)"
      ],
      "metadata": {
        "id": "eAh1_reeC0XS"
      },
      "execution_count": null,
      "outputs": []
    },
    {
      "cell_type": "code",
      "source": [
        "X_train = train.values"
      ],
      "metadata": {
        "id": "I9uxOL8SJNvY"
      },
      "execution_count": null,
      "outputs": []
    },
    {
      "cell_type": "code",
      "source": [
        "X_train.shape\n"
      ],
      "metadata": {
        "colab": {
          "base_uri": "https://localhost:8080/"
        },
        "id": "60LllRpVDIXJ",
        "outputId": "6d677121-79e3-4f25-bb72-0e98e525c080"
      },
      "execution_count": null,
      "outputs": [
        {
          "output_type": "execute_result",
          "data": {
            "text/plain": [
              "(8260, 668)"
            ]
          },
          "metadata": {},
          "execution_count": 94
        }
      ]
    },
    {
      "cell_type": "code",
      "source": [
        "X_val = val.values"
      ],
      "metadata": {
        "id": "C94FJWjaJX_b"
      },
      "execution_count": null,
      "outputs": []
    },
    {
      "cell_type": "code",
      "source": [
        "X_val.shape"
      ],
      "metadata": {
        "colab": {
          "base_uri": "https://localhost:8080/"
        },
        "id": "SmNG-upkDKPI",
        "outputId": "9b0625c0-9a50-4e04-9010-f28891554354"
      },
      "execution_count": null,
      "outputs": [
        {
          "output_type": "execute_result",
          "data": {
            "text/plain": [
              "(2065, 668)"
            ]
          },
          "metadata": {},
          "execution_count": 96
        }
      ]
    },
    {
      "cell_type": "markdown",
      "source": [
        "#### Training Auto Encoders"
      ],
      "metadata": {
        "id": "uxhjMa3gAyen"
      }
    },
    {
      "cell_type": "code",
      "source": [
        "import keras\n",
        "from keras import layers"
      ],
      "metadata": {
        "id": "9zbAqiccBK3O"
      },
      "execution_count": null,
      "outputs": []
    },
    {
      "cell_type": "code",
      "source": [
        "input_movie = keras.Input(shape=(668,))\n",
        "encoded = layers.Dense(512, activation='relu')(input_movie)\n",
        "encoded = layers.Dense(256, activation='relu')(encoded)\n",
        "encoded = layers.Dense(128, activation='relu')(encoded)\n",
        "\n",
        "\n",
        "decoded = layers.Dense(256, activation='relu')(encoded)\n",
        "decoded = layers.Dense(512, activation='relu')(decoded)\n",
        "decoded = layers.Dense(668, activation='linear')(decoded)"
      ],
      "metadata": {
        "id": "PN6bakGzDkXd"
      },
      "execution_count": null,
      "outputs": []
    },
    {
      "cell_type": "code",
      "source": [
        "autoencoder = keras.Model(input_movie, decoded)\n",
        "autoencoder.compile(optimizer='adam', loss='mean_squared_error')\n"
      ],
      "metadata": {
        "id": "zMqyA94RD1YF"
      },
      "execution_count": null,
      "outputs": []
    },
    {
      "cell_type": "code",
      "source": [
        "autoencoder.fit(X_train, X_train,\n",
        "                epochs=100,\n",
        "                batch_size=256,\n",
        "                shuffle=True,\n",
        "                validation_data=(X_val, X_val))"
      ],
      "metadata": {
        "colab": {
          "base_uri": "https://localhost:8080/"
        },
        "id": "RaKO94o4D68H",
        "outputId": "ad4452a0-7fbb-444a-9d6d-ba68ef1122e8"
      },
      "execution_count": null,
      "outputs": [
        {
          "output_type": "stream",
          "name": "stdout",
          "text": [
            "Epoch 1/100\n",
            "33/33 [==============================] - 1s 10ms/step - loss: 0.1706 - val_loss: 0.1495\n",
            "Epoch 2/100\n",
            "33/33 [==============================] - 0s 5ms/step - loss: 0.1466 - val_loss: 0.1352\n",
            "Epoch 3/100\n",
            "33/33 [==============================] - 0s 5ms/step - loss: 0.1344 - val_loss: 0.1266\n",
            "Epoch 4/100\n",
            "33/33 [==============================] - 0s 6ms/step - loss: 0.1247 - val_loss: 0.1209\n",
            "Epoch 5/100\n",
            "33/33 [==============================] - 0s 5ms/step - loss: 0.1179 - val_loss: 0.1154\n",
            "Epoch 6/100\n",
            "33/33 [==============================] - 0s 5ms/step - loss: 0.1109 - val_loss: 0.1115\n",
            "Epoch 7/100\n",
            "33/33 [==============================] - 0s 5ms/step - loss: 0.1053 - val_loss: 0.1084\n",
            "Epoch 8/100\n",
            "33/33 [==============================] - 0s 6ms/step - loss: 0.1012 - val_loss: 0.1063\n",
            "Epoch 9/100\n",
            "33/33 [==============================] - 0s 6ms/step - loss: 0.0966 - val_loss: 0.1034\n",
            "Epoch 10/100\n",
            "33/33 [==============================] - 0s 5ms/step - loss: 0.0924 - val_loss: 0.1013\n",
            "Epoch 11/100\n",
            "33/33 [==============================] - 0s 5ms/step - loss: 0.0890 - val_loss: 0.1006\n",
            "Epoch 12/100\n",
            "33/33 [==============================] - 0s 5ms/step - loss: 0.0856 - val_loss: 0.0991\n",
            "Epoch 13/100\n",
            "33/33 [==============================] - 0s 5ms/step - loss: 0.0836 - val_loss: 0.0980\n",
            "Epoch 14/100\n",
            "33/33 [==============================] - 0s 5ms/step - loss: 0.0808 - val_loss: 0.0972\n",
            "Epoch 15/100\n",
            "33/33 [==============================] - 0s 5ms/step - loss: 0.0783 - val_loss: 0.0968\n",
            "Epoch 16/100\n",
            "33/33 [==============================] - 0s 5ms/step - loss: 0.0756 - val_loss: 0.0956\n",
            "Epoch 17/100\n",
            "33/33 [==============================] - 0s 5ms/step - loss: 0.0725 - val_loss: 0.0957\n",
            "Epoch 18/100\n",
            "33/33 [==============================] - 0s 5ms/step - loss: 0.0723 - val_loss: 0.0950\n",
            "Epoch 19/100\n",
            "33/33 [==============================] - 0s 5ms/step - loss: 0.0701 - val_loss: 0.0945\n",
            "Epoch 20/100\n",
            "33/33 [==============================] - 0s 5ms/step - loss: 0.0676 - val_loss: 0.0935\n",
            "Epoch 21/100\n",
            "33/33 [==============================] - 0s 5ms/step - loss: 0.0659 - val_loss: 0.0934\n",
            "Epoch 22/100\n",
            "33/33 [==============================] - 0s 5ms/step - loss: 0.0642 - val_loss: 0.0933\n",
            "Epoch 23/100\n",
            "33/33 [==============================] - 0s 6ms/step - loss: 0.0633 - val_loss: 0.0930\n",
            "Epoch 24/100\n",
            "33/33 [==============================] - 0s 5ms/step - loss: 0.0619 - val_loss: 0.0923\n",
            "Epoch 25/100\n",
            "33/33 [==============================] - 0s 5ms/step - loss: 0.0601 - val_loss: 0.0920\n",
            "Epoch 26/100\n",
            "33/33 [==============================] - 0s 5ms/step - loss: 0.0587 - val_loss: 0.0921\n",
            "Epoch 27/100\n",
            "33/33 [==============================] - 0s 5ms/step - loss: 0.0576 - val_loss: 0.0920\n",
            "Epoch 28/100\n",
            "33/33 [==============================] - 0s 5ms/step - loss: 0.0567 - val_loss: 0.0918\n",
            "Epoch 29/100\n",
            "33/33 [==============================] - 0s 5ms/step - loss: 0.0556 - val_loss: 0.0920\n",
            "Epoch 30/100\n",
            "33/33 [==============================] - 0s 5ms/step - loss: 0.0548 - val_loss: 0.0917\n",
            "Epoch 31/100\n",
            "33/33 [==============================] - 0s 5ms/step - loss: 0.0539 - val_loss: 0.0913\n",
            "Epoch 32/100\n",
            "33/33 [==============================] - 0s 6ms/step - loss: 0.0532 - val_loss: 0.0915\n",
            "Epoch 33/100\n",
            "33/33 [==============================] - 0s 5ms/step - loss: 0.0526 - val_loss: 0.0924\n",
            "Epoch 34/100\n",
            "33/33 [==============================] - 0s 6ms/step - loss: 0.0528 - val_loss: 0.0916\n",
            "Epoch 35/100\n",
            "33/33 [==============================] - 0s 5ms/step - loss: 0.0523 - val_loss: 0.0919\n",
            "Epoch 36/100\n",
            "33/33 [==============================] - 0s 5ms/step - loss: 0.0518 - val_loss: 0.0915\n",
            "Epoch 37/100\n",
            "33/33 [==============================] - 0s 5ms/step - loss: 0.0500 - val_loss: 0.0918\n",
            "Epoch 38/100\n",
            "33/33 [==============================] - 0s 5ms/step - loss: 0.0497 - val_loss: 0.0914\n",
            "Epoch 39/100\n",
            "33/33 [==============================] - 0s 5ms/step - loss: 0.0488 - val_loss: 0.0914\n",
            "Epoch 40/100\n",
            "33/33 [==============================] - 0s 5ms/step - loss: 0.0476 - val_loss: 0.0906\n",
            "Epoch 41/100\n",
            "33/33 [==============================] - 0s 6ms/step - loss: 0.0470 - val_loss: 0.0912\n",
            "Epoch 42/100\n",
            "33/33 [==============================] - 0s 6ms/step - loss: 0.0461 - val_loss: 0.0907\n",
            "Epoch 43/100\n",
            "33/33 [==============================] - 0s 6ms/step - loss: 0.0455 - val_loss: 0.0911\n",
            "Epoch 44/100\n",
            "33/33 [==============================] - 0s 5ms/step - loss: 0.0461 - val_loss: 0.0913\n",
            "Epoch 45/100\n",
            "33/33 [==============================] - 0s 5ms/step - loss: 0.0448 - val_loss: 0.0909\n",
            "Epoch 46/100\n",
            "33/33 [==============================] - 0s 5ms/step - loss: 0.0443 - val_loss: 0.0909\n",
            "Epoch 47/100\n",
            "33/33 [==============================] - 0s 5ms/step - loss: 0.0434 - val_loss: 0.0910\n",
            "Epoch 48/100\n",
            "33/33 [==============================] - 0s 5ms/step - loss: 0.0427 - val_loss: 0.0913\n",
            "Epoch 49/100\n",
            "33/33 [==============================] - 0s 5ms/step - loss: 0.0426 - val_loss: 0.0912\n",
            "Epoch 50/100\n",
            "33/33 [==============================] - 0s 5ms/step - loss: 0.0425 - val_loss: 0.0912\n",
            "Epoch 51/100\n",
            "33/33 [==============================] - 0s 6ms/step - loss: 0.0423 - val_loss: 0.0919\n",
            "Epoch 52/100\n",
            "33/33 [==============================] - 0s 5ms/step - loss: 0.0458 - val_loss: 0.0950\n",
            "Epoch 53/100\n",
            "33/33 [==============================] - 0s 6ms/step - loss: 0.0481 - val_loss: 0.0929\n",
            "Epoch 54/100\n",
            "33/33 [==============================] - 0s 5ms/step - loss: 0.0451 - val_loss: 0.0927\n",
            "Epoch 55/100\n",
            "33/33 [==============================] - 0s 5ms/step - loss: 0.0430 - val_loss: 0.0914\n",
            "Epoch 56/100\n",
            "33/33 [==============================] - 0s 5ms/step - loss: 0.0413 - val_loss: 0.0914\n",
            "Epoch 57/100\n",
            "33/33 [==============================] - 0s 5ms/step - loss: 0.0406 - val_loss: 0.0917\n",
            "Epoch 58/100\n",
            "33/33 [==============================] - 0s 5ms/step - loss: 0.0405 - val_loss: 0.0914\n",
            "Epoch 59/100\n",
            "33/33 [==============================] - 0s 6ms/step - loss: 0.0395 - val_loss: 0.0914\n",
            "Epoch 60/100\n",
            "33/33 [==============================] - 0s 5ms/step - loss: 0.0393 - val_loss: 0.0912\n",
            "Epoch 61/100\n",
            "33/33 [==============================] - 0s 5ms/step - loss: 0.0390 - val_loss: 0.0917\n",
            "Epoch 62/100\n",
            "33/33 [==============================] - 0s 5ms/step - loss: 0.0387 - val_loss: 0.0915\n",
            "Epoch 63/100\n",
            "33/33 [==============================] - 0s 5ms/step - loss: 0.0383 - val_loss: 0.0915\n",
            "Epoch 64/100\n",
            "33/33 [==============================] - 0s 5ms/step - loss: 0.0378 - val_loss: 0.0918\n",
            "Epoch 65/100\n",
            "33/33 [==============================] - 0s 5ms/step - loss: 0.0383 - val_loss: 0.0918\n",
            "Epoch 66/100\n",
            "33/33 [==============================] - 0s 5ms/step - loss: 0.0375 - val_loss: 0.0916\n",
            "Epoch 67/100\n",
            "33/33 [==============================] - 0s 5ms/step - loss: 0.0371 - val_loss: 0.0918\n",
            "Epoch 68/100\n",
            "33/33 [==============================] - 0s 5ms/step - loss: 0.0369 - val_loss: 0.0920\n",
            "Epoch 69/100\n",
            "33/33 [==============================] - 0s 5ms/step - loss: 0.0367 - val_loss: 0.0918\n",
            "Epoch 70/100\n",
            "33/33 [==============================] - 0s 5ms/step - loss: 0.0363 - val_loss: 0.0916\n",
            "Epoch 71/100\n",
            "33/33 [==============================] - 0s 5ms/step - loss: 0.0360 - val_loss: 0.0918\n",
            "Epoch 72/100\n",
            "33/33 [==============================] - 0s 6ms/step - loss: 0.0358 - val_loss: 0.0918\n",
            "Epoch 73/100\n",
            "33/33 [==============================] - 0s 5ms/step - loss: 0.0356 - val_loss: 0.0919\n",
            "Epoch 74/100\n",
            "33/33 [==============================] - 0s 5ms/step - loss: 0.0353 - val_loss: 0.0919\n",
            "Epoch 75/100\n",
            "33/33 [==============================] - 0s 5ms/step - loss: 0.0353 - val_loss: 0.0922\n",
            "Epoch 76/100\n",
            "33/33 [==============================] - 0s 5ms/step - loss: 0.0355 - val_loss: 0.0924\n",
            "Epoch 77/100\n",
            "33/33 [==============================] - 0s 5ms/step - loss: 0.0355 - val_loss: 0.0926\n",
            "Epoch 78/100\n",
            "33/33 [==============================] - 0s 5ms/step - loss: 0.0358 - val_loss: 0.0927\n",
            "Epoch 79/100\n",
            "33/33 [==============================] - 0s 5ms/step - loss: 0.0358 - val_loss: 0.0927\n",
            "Epoch 80/100\n",
            "33/33 [==============================] - 0s 6ms/step - loss: 0.0355 - val_loss: 0.0926\n",
            "Epoch 81/100\n",
            "33/33 [==============================] - 0s 5ms/step - loss: 0.0350 - val_loss: 0.0929\n",
            "Epoch 82/100\n",
            "33/33 [==============================] - 0s 5ms/step - loss: 0.0343 - val_loss: 0.0926\n",
            "Epoch 83/100\n",
            "33/33 [==============================] - 0s 5ms/step - loss: 0.0356 - val_loss: 0.0934\n",
            "Epoch 84/100\n",
            "33/33 [==============================] - 0s 5ms/step - loss: 0.0365 - val_loss: 0.0928\n",
            "Epoch 85/100\n",
            "33/33 [==============================] - 0s 5ms/step - loss: 0.0365 - val_loss: 0.0930\n",
            "Epoch 86/100\n",
            "33/33 [==============================] - 0s 7ms/step - loss: 0.0355 - val_loss: 0.0931\n",
            "Epoch 87/100\n",
            "33/33 [==============================] - 0s 6ms/step - loss: 0.0348 - val_loss: 0.0929\n",
            "Epoch 88/100\n",
            "33/33 [==============================] - 0s 5ms/step - loss: 0.0341 - val_loss: 0.0928\n",
            "Epoch 89/100\n",
            "33/33 [==============================] - 0s 5ms/step - loss: 0.0338 - val_loss: 0.0924\n",
            "Epoch 90/100\n",
            "33/33 [==============================] - 0s 5ms/step - loss: 0.0330 - val_loss: 0.0925\n",
            "Epoch 91/100\n",
            "33/33 [==============================] - 0s 5ms/step - loss: 0.0340 - val_loss: 0.0932\n",
            "Epoch 92/100\n",
            "33/33 [==============================] - 0s 5ms/step - loss: 0.0344 - val_loss: 0.0934\n",
            "Epoch 93/100\n",
            "33/33 [==============================] - 0s 5ms/step - loss: 0.0340 - val_loss: 0.0932\n",
            "Epoch 94/100\n",
            "33/33 [==============================] - 0s 5ms/step - loss: 0.0334 - val_loss: 0.0934\n",
            "Epoch 95/100\n",
            "33/33 [==============================] - 0s 5ms/step - loss: 0.0340 - val_loss: 0.0936\n",
            "Epoch 96/100\n",
            "33/33 [==============================] - 0s 5ms/step - loss: 0.0330 - val_loss: 0.0932\n",
            "Epoch 97/100\n",
            "33/33 [==============================] - 0s 5ms/step - loss: 0.0336 - val_loss: 0.0934\n",
            "Epoch 98/100\n",
            "33/33 [==============================] - 0s 5ms/step - loss: 0.0326 - val_loss: 0.0929\n",
            "Epoch 99/100\n",
            "33/33 [==============================] - 0s 5ms/step - loss: 0.0319 - val_loss: 0.0930\n",
            "Epoch 100/100\n",
            "33/33 [==============================] - 0s 5ms/step - loss: 0.0322 - val_loss: 0.0931\n"
          ]
        },
        {
          "output_type": "execute_result",
          "data": {
            "text/plain": [
              "<keras.callbacks.History at 0x7f8054519eb0>"
            ]
          },
          "metadata": {},
          "execution_count": 101
        }
      ]
    },
    {
      "cell_type": "markdown",
      "source": [
        "#### Extracting embeddings"
      ],
      "metadata": {
        "id": "qm5Eer6IG13d"
      }
    },
    {
      "cell_type": "markdown",
      "source": [
        "Let's check which layer returns the latent space embeddings"
      ],
      "metadata": {
        "id": "RiCvakvThTzz"
      }
    },
    {
      "cell_type": "code",
      "source": [
        "autoencoder.summary()"
      ],
      "metadata": {
        "colab": {
          "base_uri": "https://localhost:8080/"
        },
        "id": "jwl21oGPG7D_",
        "outputId": "8cf45923-7986-4908-9a4f-859144715bb8"
      },
      "execution_count": null,
      "outputs": [
        {
          "output_type": "stream",
          "name": "stdout",
          "text": [
            "Model: \"model_5\"\n",
            "_________________________________________________________________\n",
            " Layer (type)                Output Shape              Param #   \n",
            "=================================================================\n",
            " input_5 (InputLayer)        [(None, 668)]             0         \n",
            "                                                                 \n",
            " dense_24 (Dense)            (None, 512)               342528    \n",
            "                                                                 \n",
            " dense_25 (Dense)            (None, 256)               131328    \n",
            "                                                                 \n",
            " dense_26 (Dense)            (None, 128)               32896     \n",
            "                                                                 \n",
            " dense_27 (Dense)            (None, 256)               33024     \n",
            "                                                                 \n",
            " dense_28 (Dense)            (None, 512)               131584    \n",
            "                                                                 \n",
            " dense_29 (Dense)            (None, 668)               342684    \n",
            "                                                                 \n",
            "=================================================================\n",
            "Total params: 1,014,044\n",
            "Trainable params: 1,014,044\n",
            "Non-trainable params: 0\n",
            "_________________________________________________________________\n"
          ]
        }
      ]
    },
    {
      "cell_type": "code",
      "source": [
        "autoencoder.layers[3].output"
      ],
      "metadata": {
        "colab": {
          "base_uri": "https://localhost:8080/"
        },
        "id": "OtpLCKKgG-dy",
        "outputId": "551eff06-20c1-4e8d-c856-8854cab05835"
      },
      "execution_count": null,
      "outputs": [
        {
          "output_type": "execute_result",
          "data": {
            "text/plain": [
              "<KerasTensor: shape=(None, 128) dtype=float32 (created by layer 'dense_26')>"
            ]
          },
          "metadata": {},
          "execution_count": 104
        }
      ]
    },
    {
      "cell_type": "markdown",
      "source": [
        "Layer number 4 returns the latent space emebddings.\n",
        "\n",
        "Let's create a model with\n",
        "- input as model input and\n",
        "- output as layer 4 output"
      ],
      "metadata": {
        "id": "nAIoOfkrhX0E"
      }
    },
    {
      "cell_type": "code",
      "source": [
        "intermediate_model = keras.Model(autoencoder.input, autoencoder.layers[3].output)\n"
      ],
      "metadata": {
        "id": "KEe8ZXEvFL-u"
      },
      "execution_count": null,
      "outputs": []
    },
    {
      "cell_type": "markdown",
      "source": [
        "#### Predicting embeddings for all movies"
      ],
      "metadata": {
        "id": "_fnDAe5qhiBx"
      }
    },
    {
      "cell_type": "code",
      "source": [
        "embeddings = intermediate_model.predict(rm.values)"
      ],
      "metadata": {
        "colab": {
          "base_uri": "https://localhost:8080/"
        },
        "id": "LFdJjM6xHJaC",
        "outputId": "867d2541-2718-4ef4-9241-005fd80901f3"
      },
      "execution_count": null,
      "outputs": [
        {
          "output_type": "stream",
          "name": "stdout",
          "text": [
            "323/323 [==============================] - 1s 3ms/step\n"
          ]
        }
      ]
    },
    {
      "cell_type": "code",
      "source": [
        "embeddings"
      ],
      "metadata": {
        "id": "5j-cNRzvSGvO",
        "colab": {
          "base_uri": "https://localhost:8080/"
        },
        "outputId": "d003cdb9-a028-4d73-9969-906419effe6b"
      },
      "execution_count": null,
      "outputs": [
        {
          "output_type": "execute_result",
          "data": {
            "text/plain": [
              "array([[0.0000000e+00, 0.0000000e+00, 0.0000000e+00, ..., 1.3651494e+01,\n",
              "        3.4803386e+00, 0.0000000e+00],\n",
              "       [0.0000000e+00, 1.1449605e-02, 0.0000000e+00, ..., 1.1319354e+00,\n",
              "        1.9510438e+00, 0.0000000e+00],\n",
              "       [0.0000000e+00, 0.0000000e+00, 0.0000000e+00, ..., 7.6276131e+00,\n",
              "        4.5189867e+00, 0.0000000e+00],\n",
              "       ...,\n",
              "       [0.0000000e+00, 9.5751397e-02, 0.0000000e+00, ..., 1.9680148e-01,\n",
              "        4.0758547e-01, 0.0000000e+00],\n",
              "       [0.0000000e+00, 1.6079006e+00, 0.0000000e+00, ..., 4.3769965e-01,\n",
              "        3.3153665e-01, 0.0000000e+00],\n",
              "       [0.0000000e+00, 8.8318728e-02, 0.0000000e+00, ..., 2.2562157e-01,\n",
              "        5.4051644e-01, 0.0000000e+00]], dtype=float32)"
            ]
          },
          "metadata": {},
          "execution_count": 127
        }
      ]
    },
    {
      "cell_type": "code",
      "source": [
        "embeddings.shape"
      ],
      "metadata": {
        "colab": {
          "base_uri": "https://localhost:8080/"
        },
        "id": "PPyc4UBYf7Ge",
        "outputId": "b9740af1-60f6-4fa1-df59-704e643aeef8"
      },
      "execution_count": null,
      "outputs": [
        {
          "output_type": "execute_result",
          "data": {
            "text/plain": [
              "(10325, 128)"
            ]
          },
          "metadata": {},
          "execution_count": 128
        }
      ]
    },
    {
      "cell_type": "code",
      "source": [
        "embeddings[10]"
      ],
      "metadata": {
        "colab": {
          "base_uri": "https://localhost:8080/"
        },
        "id": "rQnRzPURf9pR",
        "outputId": "cc358469-8888-4544-b698-3501fc9ca1ef"
      },
      "execution_count": null,
      "outputs": [
        {
          "output_type": "execute_result",
          "data": {
            "text/plain": [
              "array([0.0000000e+00, 0.0000000e+00, 0.0000000e+00, 1.9658452e+00,\n",
              "       8.0590162e+00, 0.0000000e+00, 3.7221227e+00, 0.0000000e+00,\n",
              "       1.0226821e+01, 8.1159992e+00, 0.0000000e+00, 1.8327374e+00,\n",
              "       0.0000000e+00, 8.2238665e+00, 0.0000000e+00, 0.0000000e+00,\n",
              "       0.0000000e+00, 0.0000000e+00, 5.6204233e+00, 3.0633299e+00,\n",
              "       0.0000000e+00, 7.0646725e+00, 0.0000000e+00, 2.7049942e+00,\n",
              "       0.0000000e+00, 5.9217091e+00, 4.7638183e+00, 0.0000000e+00,\n",
              "       6.8396516e+00, 4.1846232e+00, 3.0754751e-01, 0.0000000e+00,\n",
              "       3.5070825e-01, 2.7261753e+00, 4.8433380e+00, 4.4773763e-01,\n",
              "       0.0000000e+00, 0.0000000e+00, 1.5257427e+00, 0.0000000e+00,\n",
              "       0.0000000e+00, 8.0603523e+00, 0.0000000e+00, 2.1496911e+00,\n",
              "       3.4151089e+00, 2.9382644e+00, 1.4833727e+01, 0.0000000e+00,\n",
              "       0.0000000e+00, 7.4706016e+00, 0.0000000e+00, 0.0000000e+00,\n",
              "       0.0000000e+00, 0.0000000e+00, 5.9207544e+00, 2.4117902e-03,\n",
              "       6.5173354e+00, 1.0831287e+01, 0.0000000e+00, 0.0000000e+00,\n",
              "       9.4732637e+00, 6.5200243e+00, 0.0000000e+00, 5.6516523e+00,\n",
              "       0.0000000e+00, 1.1550360e+01, 0.0000000e+00, 1.0015137e+00,\n",
              "       0.0000000e+00, 1.5498837e+00, 0.0000000e+00, 9.9607801e+00,\n",
              "       0.0000000e+00, 0.0000000e+00, 0.0000000e+00, 1.5138635e-01,\n",
              "       0.0000000e+00, 0.0000000e+00, 0.0000000e+00, 8.0790043e-01,\n",
              "       0.0000000e+00, 5.5743232e+00, 0.0000000e+00, 2.0077191e-01,\n",
              "       2.4721024e+00, 1.7662364e-01, 0.0000000e+00, 0.0000000e+00,\n",
              "       0.0000000e+00, 0.0000000e+00, 0.0000000e+00, 0.0000000e+00,\n",
              "       5.2709656e+00, 0.0000000e+00, 1.3146458e+01, 7.9421329e+00,\n",
              "       7.3212967e+00, 1.1268778e+00, 0.0000000e+00, 3.9041052e+00,\n",
              "       0.0000000e+00, 0.0000000e+00, 0.0000000e+00, 0.0000000e+00,\n",
              "       5.2551799e+00, 2.4510663e+00, 2.3059387e+00, 2.4024496e+00,\n",
              "       0.0000000e+00, 0.0000000e+00, 1.9249966e+00, 0.0000000e+00,\n",
              "       2.9486036e+00, 0.0000000e+00, 4.1414065e+00, 1.2645843e+01,\n",
              "       0.0000000e+00, 0.0000000e+00, 1.0438521e+01, 0.0000000e+00,\n",
              "       0.0000000e+00, 0.0000000e+00, 3.0717371e+00, 1.6371149e+00,\n",
              "       3.1045024e+00, 3.3553655e+00, 2.7030585e+00, 0.0000000e+00],\n",
              "      dtype=float32)"
            ]
          },
          "metadata": {},
          "execution_count": 130
        }
      ]
    },
    {
      "cell_type": "markdown",
      "source": [
        "#### Finding similar movies - Cosine similarity"
      ],
      "metadata": {
        "id": "OazwPG-kHapc"
      }
    },
    {
      "cell_type": "code",
      "source": [
        "from sklearn.metrics.pairwise import cosine_similarity\n"
      ],
      "metadata": {
        "id": "p138DjQ7Ht1z"
      },
      "execution_count": null,
      "outputs": []
    },
    {
      "cell_type": "code",
      "source": [
        "similarity_matrix = cosine_similarity(embeddings)"
      ],
      "metadata": {
        "id": "nlZDGVP8II1e"
      },
      "execution_count": null,
      "outputs": []
    },
    {
      "cell_type": "code",
      "source": [
        "similarity_matrix.shape"
      ],
      "metadata": {
        "colab": {
          "base_uri": "https://localhost:8080/"
        },
        "id": "92n1NY3_Ijax",
        "outputId": "c8ef874a-bb53-4895-e336-e5b93d7d7884"
      },
      "execution_count": null,
      "outputs": [
        {
          "output_type": "execute_result",
          "data": {
            "text/plain": [
              "(10325, 10325)"
            ]
          },
          "metadata": {},
          "execution_count": 133
        }
      ]
    },
    {
      "cell_type": "code",
      "source": [
        "similarity_matrix"
      ],
      "metadata": {
        "colab": {
          "base_uri": "https://localhost:8080/"
        },
        "id": "tCObPafyInuq",
        "outputId": "a9a3db00-63cf-4aba-bf37-37b3a7c881f9"
      },
      "execution_count": null,
      "outputs": [
        {
          "output_type": "execute_result",
          "data": {
            "text/plain": [
              "array([[1.0000001 , 0.6585631 , 0.67322814, ..., 0.59645236, 0.5442955 ,\n",
              "        0.5833119 ],\n",
              "       [0.6585631 , 0.9999999 , 0.6800547 , ..., 0.72579706, 0.6547908 ,\n",
              "        0.72038335],\n",
              "       [0.67322814, 0.6800547 , 0.99999964, ..., 0.68437904, 0.64143527,\n",
              "        0.6798124 ],\n",
              "       ...,\n",
              "       [0.59645236, 0.72579706, 0.68437904, ..., 0.9999999 , 0.77266556,\n",
              "        0.99907935],\n",
              "       [0.5442955 , 0.6547908 , 0.64143527, ..., 0.77266556, 0.99999994,\n",
              "        0.7622129 ],\n",
              "       [0.5833119 , 0.72038335, 0.6798124 , ..., 0.99907935, 0.7622129 ,\n",
              "        1.0000001 ]], dtype=float32)"
            ]
          },
          "metadata": {},
          "execution_count": 134
        }
      ]
    },
    {
      "cell_type": "markdown",
      "source": [
        "#### Creating df for the similarity matrix"
      ],
      "metadata": {
        "id": "X80WVc3Ei3Qk"
      }
    },
    {
      "cell_type": "code",
      "source": [
        "item_sim_matrix = pd.DataFrame(similarity_matrix, index=rm.index, columns=rm.index)\n",
        "item_sim_matrix.head() #Item-similarity Matrix"
      ],
      "metadata": {
        "colab": {
          "base_uri": "https://localhost:8080/",
          "height": 331
        },
        "id": "TOhZLjgSIpgt",
        "outputId": "c29df2ba-edce-4292-a396-664bd3519811"
      },
      "execution_count": null,
      "outputs": [
        {
          "output_type": "execute_result",
          "data": {
            "text/plain": [
              "movieId    1         2         3         4         5         6         7       \\\n",
              "movieId                                                                         \n",
              "1        1.000000  0.658563  0.673228  0.540021  0.648697  0.654453  0.684952   \n",
              "2        0.658563  1.000000  0.680055  0.664267  0.671681  0.682655  0.687399   \n",
              "3        0.673228  0.680055  1.000000  0.708798  0.811759  0.733264  0.744269   \n",
              "4        0.540021  0.664267  0.708798  1.000000  0.618423  0.682824  0.693533   \n",
              "5        0.648697  0.671681  0.811759  0.618423  1.000000  0.671731  0.777911   \n",
              "\n",
              "movieId    8         9         10      ...    144482    144656    144976  \\\n",
              "movieId                                ...                                 \n",
              "1        0.632444  0.610780  0.654408  ...  0.571254  0.589064  0.581250   \n",
              "2        0.736932  0.620380  0.721273  ...  0.682567  0.722754  0.673074   \n",
              "3        0.749439  0.778765  0.572502  ...  0.666188  0.681853  0.664915   \n",
              "4        0.851051  0.724973  0.665865  ...  0.695002  0.742990  0.726576   \n",
              "5        0.699758  0.702049  0.590483  ...  0.622101  0.651532  0.596869   \n",
              "\n",
              "movieId    146344    146656    146684    146878    148238    148626    149532  \n",
              "movieId                                                                        \n",
              "1        0.618699  0.550565  0.553673  0.570174  0.596452  0.544295  0.583312  \n",
              "2        0.735291  0.709819  0.600205  0.609749  0.725797  0.654791  0.720383  \n",
              "3        0.694079  0.674888  0.702747  0.707777  0.684379  0.641435  0.679812  \n",
              "4        0.756891  0.722054  0.685661  0.689927  0.746041  0.719017  0.740609  \n",
              "5        0.659810  0.634000  0.613933  0.619347  0.653561  0.596539  0.649576  \n",
              "\n",
              "[5 rows x 10325 columns]"
            ],
            "text/html": [
              "\n",
              "  <div id=\"df-ceb30f2a-b2c8-4cc1-8de5-2c7828c6dfbb\">\n",
              "    <div class=\"colab-df-container\">\n",
              "      <div>\n",
              "<style scoped>\n",
              "    .dataframe tbody tr th:only-of-type {\n",
              "        vertical-align: middle;\n",
              "    }\n",
              "\n",
              "    .dataframe tbody tr th {\n",
              "        vertical-align: top;\n",
              "    }\n",
              "\n",
              "    .dataframe thead th {\n",
              "        text-align: right;\n",
              "    }\n",
              "</style>\n",
              "<table border=\"1\" class=\"dataframe\">\n",
              "  <thead>\n",
              "    <tr style=\"text-align: right;\">\n",
              "      <th>movieId</th>\n",
              "      <th>1</th>\n",
              "      <th>2</th>\n",
              "      <th>3</th>\n",
              "      <th>4</th>\n",
              "      <th>5</th>\n",
              "      <th>6</th>\n",
              "      <th>7</th>\n",
              "      <th>8</th>\n",
              "      <th>9</th>\n",
              "      <th>10</th>\n",
              "      <th>...</th>\n",
              "      <th>144482</th>\n",
              "      <th>144656</th>\n",
              "      <th>144976</th>\n",
              "      <th>146344</th>\n",
              "      <th>146656</th>\n",
              "      <th>146684</th>\n",
              "      <th>146878</th>\n",
              "      <th>148238</th>\n",
              "      <th>148626</th>\n",
              "      <th>149532</th>\n",
              "    </tr>\n",
              "    <tr>\n",
              "      <th>movieId</th>\n",
              "      <th></th>\n",
              "      <th></th>\n",
              "      <th></th>\n",
              "      <th></th>\n",
              "      <th></th>\n",
              "      <th></th>\n",
              "      <th></th>\n",
              "      <th></th>\n",
              "      <th></th>\n",
              "      <th></th>\n",
              "      <th></th>\n",
              "      <th></th>\n",
              "      <th></th>\n",
              "      <th></th>\n",
              "      <th></th>\n",
              "      <th></th>\n",
              "      <th></th>\n",
              "      <th></th>\n",
              "      <th></th>\n",
              "      <th></th>\n",
              "      <th></th>\n",
              "    </tr>\n",
              "  </thead>\n",
              "  <tbody>\n",
              "    <tr>\n",
              "      <th>1</th>\n",
              "      <td>1.000000</td>\n",
              "      <td>0.658563</td>\n",
              "      <td>0.673228</td>\n",
              "      <td>0.540021</td>\n",
              "      <td>0.648697</td>\n",
              "      <td>0.654453</td>\n",
              "      <td>0.684952</td>\n",
              "      <td>0.632444</td>\n",
              "      <td>0.610780</td>\n",
              "      <td>0.654408</td>\n",
              "      <td>...</td>\n",
              "      <td>0.571254</td>\n",
              "      <td>0.589064</td>\n",
              "      <td>0.581250</td>\n",
              "      <td>0.618699</td>\n",
              "      <td>0.550565</td>\n",
              "      <td>0.553673</td>\n",
              "      <td>0.570174</td>\n",
              "      <td>0.596452</td>\n",
              "      <td>0.544295</td>\n",
              "      <td>0.583312</td>\n",
              "    </tr>\n",
              "    <tr>\n",
              "      <th>2</th>\n",
              "      <td>0.658563</td>\n",
              "      <td>1.000000</td>\n",
              "      <td>0.680055</td>\n",
              "      <td>0.664267</td>\n",
              "      <td>0.671681</td>\n",
              "      <td>0.682655</td>\n",
              "      <td>0.687399</td>\n",
              "      <td>0.736932</td>\n",
              "      <td>0.620380</td>\n",
              "      <td>0.721273</td>\n",
              "      <td>...</td>\n",
              "      <td>0.682567</td>\n",
              "      <td>0.722754</td>\n",
              "      <td>0.673074</td>\n",
              "      <td>0.735291</td>\n",
              "      <td>0.709819</td>\n",
              "      <td>0.600205</td>\n",
              "      <td>0.609749</td>\n",
              "      <td>0.725797</td>\n",
              "      <td>0.654791</td>\n",
              "      <td>0.720383</td>\n",
              "    </tr>\n",
              "    <tr>\n",
              "      <th>3</th>\n",
              "      <td>0.673228</td>\n",
              "      <td>0.680055</td>\n",
              "      <td>1.000000</td>\n",
              "      <td>0.708798</td>\n",
              "      <td>0.811759</td>\n",
              "      <td>0.733264</td>\n",
              "      <td>0.744269</td>\n",
              "      <td>0.749439</td>\n",
              "      <td>0.778765</td>\n",
              "      <td>0.572502</td>\n",
              "      <td>...</td>\n",
              "      <td>0.666188</td>\n",
              "      <td>0.681853</td>\n",
              "      <td>0.664915</td>\n",
              "      <td>0.694079</td>\n",
              "      <td>0.674888</td>\n",
              "      <td>0.702747</td>\n",
              "      <td>0.707777</td>\n",
              "      <td>0.684379</td>\n",
              "      <td>0.641435</td>\n",
              "      <td>0.679812</td>\n",
              "    </tr>\n",
              "    <tr>\n",
              "      <th>4</th>\n",
              "      <td>0.540021</td>\n",
              "      <td>0.664267</td>\n",
              "      <td>0.708798</td>\n",
              "      <td>1.000000</td>\n",
              "      <td>0.618423</td>\n",
              "      <td>0.682824</td>\n",
              "      <td>0.693533</td>\n",
              "      <td>0.851051</td>\n",
              "      <td>0.724973</td>\n",
              "      <td>0.665865</td>\n",
              "      <td>...</td>\n",
              "      <td>0.695002</td>\n",
              "      <td>0.742990</td>\n",
              "      <td>0.726576</td>\n",
              "      <td>0.756891</td>\n",
              "      <td>0.722054</td>\n",
              "      <td>0.685661</td>\n",
              "      <td>0.689927</td>\n",
              "      <td>0.746041</td>\n",
              "      <td>0.719017</td>\n",
              "      <td>0.740609</td>\n",
              "    </tr>\n",
              "    <tr>\n",
              "      <th>5</th>\n",
              "      <td>0.648697</td>\n",
              "      <td>0.671681</td>\n",
              "      <td>0.811759</td>\n",
              "      <td>0.618423</td>\n",
              "      <td>1.000000</td>\n",
              "      <td>0.671731</td>\n",
              "      <td>0.777911</td>\n",
              "      <td>0.699758</td>\n",
              "      <td>0.702049</td>\n",
              "      <td>0.590483</td>\n",
              "      <td>...</td>\n",
              "      <td>0.622101</td>\n",
              "      <td>0.651532</td>\n",
              "      <td>0.596869</td>\n",
              "      <td>0.659810</td>\n",
              "      <td>0.634000</td>\n",
              "      <td>0.613933</td>\n",
              "      <td>0.619347</td>\n",
              "      <td>0.653561</td>\n",
              "      <td>0.596539</td>\n",
              "      <td>0.649576</td>\n",
              "    </tr>\n",
              "  </tbody>\n",
              "</table>\n",
              "<p>5 rows × 10325 columns</p>\n",
              "</div>\n",
              "      <button class=\"colab-df-convert\" onclick=\"convertToInteractive('df-ceb30f2a-b2c8-4cc1-8de5-2c7828c6dfbb')\"\n",
              "              title=\"Convert this dataframe to an interactive table.\"\n",
              "              style=\"display:none;\">\n",
              "        \n",
              "  <svg xmlns=\"http://www.w3.org/2000/svg\" height=\"24px\"viewBox=\"0 0 24 24\"\n",
              "       width=\"24px\">\n",
              "    <path d=\"M0 0h24v24H0V0z\" fill=\"none\"/>\n",
              "    <path d=\"M18.56 5.44l.94 2.06.94-2.06 2.06-.94-2.06-.94-.94-2.06-.94 2.06-2.06.94zm-11 1L8.5 8.5l.94-2.06 2.06-.94-2.06-.94L8.5 2.5l-.94 2.06-2.06.94zm10 10l.94 2.06.94-2.06 2.06-.94-2.06-.94-.94-2.06-.94 2.06-2.06.94z\"/><path d=\"M17.41 7.96l-1.37-1.37c-.4-.4-.92-.59-1.43-.59-.52 0-1.04.2-1.43.59L10.3 9.45l-7.72 7.72c-.78.78-.78 2.05 0 2.83L4 21.41c.39.39.9.59 1.41.59.51 0 1.02-.2 1.41-.59l7.78-7.78 2.81-2.81c.8-.78.8-2.07 0-2.86zM5.41 20L4 18.59l7.72-7.72 1.47 1.35L5.41 20z\"/>\n",
              "  </svg>\n",
              "      </button>\n",
              "      \n",
              "  <style>\n",
              "    .colab-df-container {\n",
              "      display:flex;\n",
              "      flex-wrap:wrap;\n",
              "      gap: 12px;\n",
              "    }\n",
              "\n",
              "    .colab-df-convert {\n",
              "      background-color: #E8F0FE;\n",
              "      border: none;\n",
              "      border-radius: 50%;\n",
              "      cursor: pointer;\n",
              "      display: none;\n",
              "      fill: #1967D2;\n",
              "      height: 32px;\n",
              "      padding: 0 0 0 0;\n",
              "      width: 32px;\n",
              "    }\n",
              "\n",
              "    .colab-df-convert:hover {\n",
              "      background-color: #E2EBFA;\n",
              "      box-shadow: 0px 1px 2px rgba(60, 64, 67, 0.3), 0px 1px 3px 1px rgba(60, 64, 67, 0.15);\n",
              "      fill: #174EA6;\n",
              "    }\n",
              "\n",
              "    [theme=dark] .colab-df-convert {\n",
              "      background-color: #3B4455;\n",
              "      fill: #D2E3FC;\n",
              "    }\n",
              "\n",
              "    [theme=dark] .colab-df-convert:hover {\n",
              "      background-color: #434B5C;\n",
              "      box-shadow: 0px 1px 3px 1px rgba(0, 0, 0, 0.15);\n",
              "      filter: drop-shadow(0px 1px 2px rgba(0, 0, 0, 0.3));\n",
              "      fill: #FFFFFF;\n",
              "    }\n",
              "  </style>\n",
              "\n",
              "      <script>\n",
              "        const buttonEl =\n",
              "          document.querySelector('#df-ceb30f2a-b2c8-4cc1-8de5-2c7828c6dfbb button.colab-df-convert');\n",
              "        buttonEl.style.display =\n",
              "          google.colab.kernel.accessAllowed ? 'block' : 'none';\n",
              "\n",
              "        async function convertToInteractive(key) {\n",
              "          const element = document.querySelector('#df-ceb30f2a-b2c8-4cc1-8de5-2c7828c6dfbb');\n",
              "          const dataTable =\n",
              "            await google.colab.kernel.invokeFunction('convertToInteractive',\n",
              "                                                     [key], {});\n",
              "          if (!dataTable) return;\n",
              "\n",
              "          const docLinkHtml = 'Like what you see? Visit the ' +\n",
              "            '<a target=\"_blank\" href=https://colab.research.google.com/notebooks/data_table.ipynb>data table notebook</a>'\n",
              "            + ' to learn more about interactive tables.';\n",
              "          element.innerHTML = '';\n",
              "          dataTable['output_type'] = 'display_data';\n",
              "          await google.colab.output.renderOutput(dataTable, element);\n",
              "          const docLink = document.createElement('div');\n",
              "          docLink.innerHTML = docLinkHtml;\n",
              "          element.appendChild(docLink);\n",
              "        }\n",
              "      </script>\n",
              "    </div>\n",
              "  </div>\n",
              "  "
            ]
          },
          "metadata": {},
          "execution_count": 184
        }
      ]
    },
    {
      "cell_type": "markdown",
      "source": [
        "#### Finding movies similar to Liar Liar"
      ],
      "metadata": {
        "id": "R0d4shnHi6RQ"
      }
    },
    {
      "cell_type": "code",
      "source": [
        "movies = pd.read_csv('movies.csv')"
      ],
      "metadata": {
        "id": "8YGsrTZ3jon_"
      },
      "execution_count": null,
      "outputs": []
    },
    {
      "cell_type": "code",
      "source": [
        "movies[movies.title.str.contains('Liar Liar')]"
      ],
      "metadata": {
        "colab": {
          "base_uri": "https://localhost:8080/",
          "height": 81
        },
        "id": "tO5C1_krkPEB",
        "outputId": "32c17d81-faf7-4eef-e00f-77b6d84b346c"
      },
      "execution_count": null,
      "outputs": [
        {
          "output_type": "execute_result",
          "data": {
            "text/plain": [
              "      movieId             title  genres\n",
              "1202     1485  Liar Liar (1997)  Comedy"
            ],
            "text/html": [
              "\n",
              "  <div id=\"df-9cc421a2-ef48-48eb-a028-31d8a2398344\">\n",
              "    <div class=\"colab-df-container\">\n",
              "      <div>\n",
              "<style scoped>\n",
              "    .dataframe tbody tr th:only-of-type {\n",
              "        vertical-align: middle;\n",
              "    }\n",
              "\n",
              "    .dataframe tbody tr th {\n",
              "        vertical-align: top;\n",
              "    }\n",
              "\n",
              "    .dataframe thead th {\n",
              "        text-align: right;\n",
              "    }\n",
              "</style>\n",
              "<table border=\"1\" class=\"dataframe\">\n",
              "  <thead>\n",
              "    <tr style=\"text-align: right;\">\n",
              "      <th></th>\n",
              "      <th>movieId</th>\n",
              "      <th>title</th>\n",
              "      <th>genres</th>\n",
              "    </tr>\n",
              "  </thead>\n",
              "  <tbody>\n",
              "    <tr>\n",
              "      <th>1202</th>\n",
              "      <td>1485</td>\n",
              "      <td>Liar Liar (1997)</td>\n",
              "      <td>Comedy</td>\n",
              "    </tr>\n",
              "  </tbody>\n",
              "</table>\n",
              "</div>\n",
              "      <button class=\"colab-df-convert\" onclick=\"convertToInteractive('df-9cc421a2-ef48-48eb-a028-31d8a2398344')\"\n",
              "              title=\"Convert this dataframe to an interactive table.\"\n",
              "              style=\"display:none;\">\n",
              "        \n",
              "  <svg xmlns=\"http://www.w3.org/2000/svg\" height=\"24px\"viewBox=\"0 0 24 24\"\n",
              "       width=\"24px\">\n",
              "    <path d=\"M0 0h24v24H0V0z\" fill=\"none\"/>\n",
              "    <path d=\"M18.56 5.44l.94 2.06.94-2.06 2.06-.94-2.06-.94-.94-2.06-.94 2.06-2.06.94zm-11 1L8.5 8.5l.94-2.06 2.06-.94-2.06-.94L8.5 2.5l-.94 2.06-2.06.94zm10 10l.94 2.06.94-2.06 2.06-.94-2.06-.94-.94-2.06-.94 2.06-2.06.94z\"/><path d=\"M17.41 7.96l-1.37-1.37c-.4-.4-.92-.59-1.43-.59-.52 0-1.04.2-1.43.59L10.3 9.45l-7.72 7.72c-.78.78-.78 2.05 0 2.83L4 21.41c.39.39.9.59 1.41.59.51 0 1.02-.2 1.41-.59l7.78-7.78 2.81-2.81c.8-.78.8-2.07 0-2.86zM5.41 20L4 18.59l7.72-7.72 1.47 1.35L5.41 20z\"/>\n",
              "  </svg>\n",
              "      </button>\n",
              "      \n",
              "  <style>\n",
              "    .colab-df-container {\n",
              "      display:flex;\n",
              "      flex-wrap:wrap;\n",
              "      gap: 12px;\n",
              "    }\n",
              "\n",
              "    .colab-df-convert {\n",
              "      background-color: #E8F0FE;\n",
              "      border: none;\n",
              "      border-radius: 50%;\n",
              "      cursor: pointer;\n",
              "      display: none;\n",
              "      fill: #1967D2;\n",
              "      height: 32px;\n",
              "      padding: 0 0 0 0;\n",
              "      width: 32px;\n",
              "    }\n",
              "\n",
              "    .colab-df-convert:hover {\n",
              "      background-color: #E2EBFA;\n",
              "      box-shadow: 0px 1px 2px rgba(60, 64, 67, 0.3), 0px 1px 3px 1px rgba(60, 64, 67, 0.15);\n",
              "      fill: #174EA6;\n",
              "    }\n",
              "\n",
              "    [theme=dark] .colab-df-convert {\n",
              "      background-color: #3B4455;\n",
              "      fill: #D2E3FC;\n",
              "    }\n",
              "\n",
              "    [theme=dark] .colab-df-convert:hover {\n",
              "      background-color: #434B5C;\n",
              "      box-shadow: 0px 1px 3px 1px rgba(0, 0, 0, 0.15);\n",
              "      filter: drop-shadow(0px 1px 2px rgba(0, 0, 0, 0.3));\n",
              "      fill: #FFFFFF;\n",
              "    }\n",
              "  </style>\n",
              "\n",
              "      <script>\n",
              "        const buttonEl =\n",
              "          document.querySelector('#df-9cc421a2-ef48-48eb-a028-31d8a2398344 button.colab-df-convert');\n",
              "        buttonEl.style.display =\n",
              "          google.colab.kernel.accessAllowed ? 'block' : 'none';\n",
              "\n",
              "        async function convertToInteractive(key) {\n",
              "          const element = document.querySelector('#df-9cc421a2-ef48-48eb-a028-31d8a2398344');\n",
              "          const dataTable =\n",
              "            await google.colab.kernel.invokeFunction('convertToInteractive',\n",
              "                                                     [key], {});\n",
              "          if (!dataTable) return;\n",
              "\n",
              "          const docLinkHtml = 'Like what you see? Visit the ' +\n",
              "            '<a target=\"_blank\" href=https://colab.research.google.com/notebooks/data_table.ipynb>data table notebook</a>'\n",
              "            + ' to learn more about interactive tables.';\n",
              "          element.innerHTML = '';\n",
              "          dataTable['output_type'] = 'display_data';\n",
              "          await google.colab.output.renderOutput(dataTable, element);\n",
              "          const docLink = document.createElement('div');\n",
              "          docLink.innerHTML = docLinkHtml;\n",
              "          element.appendChild(docLink);\n",
              "        }\n",
              "      </script>\n",
              "    </div>\n",
              "  </div>\n",
              "  "
            ]
          },
          "metadata": {},
          "execution_count": 189
        }
      ]
    },
    {
      "cell_type": "markdown",
      "source": [
        "#### Sorting the movie id by similarity score"
      ],
      "metadata": {
        "id": "0jERZernlEdD"
      }
    },
    {
      "cell_type": "code",
      "source": [
        "item_sim_matrix[1485].sort_values(ascending=False).head(10)"
      ],
      "metadata": {
        "colab": {
          "base_uri": "https://localhost:8080/"
        },
        "id": "ZG_0jTRsexh-",
        "outputId": "d574155a-9673-403c-99cf-f1e47ee9df41"
      },
      "execution_count": null,
      "outputs": [
        {
          "output_type": "execute_result",
          "data": {
            "text/plain": [
              "movieId\n",
              "1485    1.000000\n",
              "1391    0.829599\n",
              "104     0.816998\n",
              "1760    0.815274\n",
              "1608    0.812336\n",
              "3033    0.810485\n",
              "1407    0.809809\n",
              "1461    0.808078\n",
              "1020    0.806623\n",
              "1777    0.803359\n",
              "Name: 1485, dtype: float32"
            ]
          },
          "metadata": {},
          "execution_count": 196
        }
      ]
    },
    {
      "cell_type": "markdown",
      "source": [
        "#### Fetching the index of moives"
      ],
      "metadata": {
        "id": "n95o0E52lKX6"
      }
    },
    {
      "cell_type": "code",
      "source": [
        "movie_index = item_sim_matrix[1485].sort_values(ascending=False).head(10).index"
      ],
      "metadata": {
        "id": "9bkXKinwgdfR"
      },
      "execution_count": null,
      "outputs": []
    },
    {
      "cell_type": "markdown",
      "source": [
        "#### Fetching the name of movies"
      ],
      "metadata": {
        "id": "9-hoYYqylNL2"
      }
    },
    {
      "cell_type": "code",
      "source": [
        "movies[movies.movieId.isin(movie_index)]"
      ],
      "metadata": {
        "colab": {
          "base_uri": "https://localhost:8080/",
          "height": 363
        },
        "id": "K2pLWVbijRV0",
        "outputId": "1ad5c0fa-9662-4d8d-99d3-0312ee1ae484"
      },
      "execution_count": null,
      "outputs": [
        {
          "output_type": "execute_result",
          "data": {
            "text/plain": [
              "      movieId                                              title  \\\n",
              "94        104                               Happy Gilmore (1996)   \n",
              "828      1020                               Cool Runnings (1993)   \n",
              "1130     1391                               Mars Attacks! (1996)   \n",
              "1143     1407                                      Scream (1996)   \n",
              "1184     1461  Vegas Vacation (National Lampoon's Las Vegas V...   \n",
              "1202     1485                                   Liar Liar (1997)   \n",
              "1287     1608                               Air Force One (1997)   \n",
              "1390     1760                                 Spice World (1997)   \n",
              "1398     1777                         Wedding Singer, The (1998)   \n",
              "2423     3033                                  Spaceballs (1987)   \n",
              "\n",
              "                              genres  \n",
              "94                            Comedy  \n",
              "828                           Comedy  \n",
              "1130            Action|Comedy|Sci-Fi  \n",
              "1143  Comedy|Horror|Mystery|Thriller  \n",
              "1184                          Comedy  \n",
              "1202                          Comedy  \n",
              "1287                 Action|Thriller  \n",
              "1390                          Comedy  \n",
              "1398                  Comedy|Romance  \n",
              "2423                   Comedy|Sci-Fi  "
            ],
            "text/html": [
              "\n",
              "  <div id=\"df-6d384a3c-7fd0-4964-8d41-7a5815f927f7\">\n",
              "    <div class=\"colab-df-container\">\n",
              "      <div>\n",
              "<style scoped>\n",
              "    .dataframe tbody tr th:only-of-type {\n",
              "        vertical-align: middle;\n",
              "    }\n",
              "\n",
              "    .dataframe tbody tr th {\n",
              "        vertical-align: top;\n",
              "    }\n",
              "\n",
              "    .dataframe thead th {\n",
              "        text-align: right;\n",
              "    }\n",
              "</style>\n",
              "<table border=\"1\" class=\"dataframe\">\n",
              "  <thead>\n",
              "    <tr style=\"text-align: right;\">\n",
              "      <th></th>\n",
              "      <th>movieId</th>\n",
              "      <th>title</th>\n",
              "      <th>genres</th>\n",
              "    </tr>\n",
              "  </thead>\n",
              "  <tbody>\n",
              "    <tr>\n",
              "      <th>94</th>\n",
              "      <td>104</td>\n",
              "      <td>Happy Gilmore (1996)</td>\n",
              "      <td>Comedy</td>\n",
              "    </tr>\n",
              "    <tr>\n",
              "      <th>828</th>\n",
              "      <td>1020</td>\n",
              "      <td>Cool Runnings (1993)</td>\n",
              "      <td>Comedy</td>\n",
              "    </tr>\n",
              "    <tr>\n",
              "      <th>1130</th>\n",
              "      <td>1391</td>\n",
              "      <td>Mars Attacks! (1996)</td>\n",
              "      <td>Action|Comedy|Sci-Fi</td>\n",
              "    </tr>\n",
              "    <tr>\n",
              "      <th>1143</th>\n",
              "      <td>1407</td>\n",
              "      <td>Scream (1996)</td>\n",
              "      <td>Comedy|Horror|Mystery|Thriller</td>\n",
              "    </tr>\n",
              "    <tr>\n",
              "      <th>1184</th>\n",
              "      <td>1461</td>\n",
              "      <td>Vegas Vacation (National Lampoon's Las Vegas V...</td>\n",
              "      <td>Comedy</td>\n",
              "    </tr>\n",
              "    <tr>\n",
              "      <th>1202</th>\n",
              "      <td>1485</td>\n",
              "      <td>Liar Liar (1997)</td>\n",
              "      <td>Comedy</td>\n",
              "    </tr>\n",
              "    <tr>\n",
              "      <th>1287</th>\n",
              "      <td>1608</td>\n",
              "      <td>Air Force One (1997)</td>\n",
              "      <td>Action|Thriller</td>\n",
              "    </tr>\n",
              "    <tr>\n",
              "      <th>1390</th>\n",
              "      <td>1760</td>\n",
              "      <td>Spice World (1997)</td>\n",
              "      <td>Comedy</td>\n",
              "    </tr>\n",
              "    <tr>\n",
              "      <th>1398</th>\n",
              "      <td>1777</td>\n",
              "      <td>Wedding Singer, The (1998)</td>\n",
              "      <td>Comedy|Romance</td>\n",
              "    </tr>\n",
              "    <tr>\n",
              "      <th>2423</th>\n",
              "      <td>3033</td>\n",
              "      <td>Spaceballs (1987)</td>\n",
              "      <td>Comedy|Sci-Fi</td>\n",
              "    </tr>\n",
              "  </tbody>\n",
              "</table>\n",
              "</div>\n",
              "      <button class=\"colab-df-convert\" onclick=\"convertToInteractive('df-6d384a3c-7fd0-4964-8d41-7a5815f927f7')\"\n",
              "              title=\"Convert this dataframe to an interactive table.\"\n",
              "              style=\"display:none;\">\n",
              "        \n",
              "  <svg xmlns=\"http://www.w3.org/2000/svg\" height=\"24px\"viewBox=\"0 0 24 24\"\n",
              "       width=\"24px\">\n",
              "    <path d=\"M0 0h24v24H0V0z\" fill=\"none\"/>\n",
              "    <path d=\"M18.56 5.44l.94 2.06.94-2.06 2.06-.94-2.06-.94-.94-2.06-.94 2.06-2.06.94zm-11 1L8.5 8.5l.94-2.06 2.06-.94-2.06-.94L8.5 2.5l-.94 2.06-2.06.94zm10 10l.94 2.06.94-2.06 2.06-.94-2.06-.94-.94-2.06-.94 2.06-2.06.94z\"/><path d=\"M17.41 7.96l-1.37-1.37c-.4-.4-.92-.59-1.43-.59-.52 0-1.04.2-1.43.59L10.3 9.45l-7.72 7.72c-.78.78-.78 2.05 0 2.83L4 21.41c.39.39.9.59 1.41.59.51 0 1.02-.2 1.41-.59l7.78-7.78 2.81-2.81c.8-.78.8-2.07 0-2.86zM5.41 20L4 18.59l7.72-7.72 1.47 1.35L5.41 20z\"/>\n",
              "  </svg>\n",
              "      </button>\n",
              "      \n",
              "  <style>\n",
              "    .colab-df-container {\n",
              "      display:flex;\n",
              "      flex-wrap:wrap;\n",
              "      gap: 12px;\n",
              "    }\n",
              "\n",
              "    .colab-df-convert {\n",
              "      background-color: #E8F0FE;\n",
              "      border: none;\n",
              "      border-radius: 50%;\n",
              "      cursor: pointer;\n",
              "      display: none;\n",
              "      fill: #1967D2;\n",
              "      height: 32px;\n",
              "      padding: 0 0 0 0;\n",
              "      width: 32px;\n",
              "    }\n",
              "\n",
              "    .colab-df-convert:hover {\n",
              "      background-color: #E2EBFA;\n",
              "      box-shadow: 0px 1px 2px rgba(60, 64, 67, 0.3), 0px 1px 3px 1px rgba(60, 64, 67, 0.15);\n",
              "      fill: #174EA6;\n",
              "    }\n",
              "\n",
              "    [theme=dark] .colab-df-convert {\n",
              "      background-color: #3B4455;\n",
              "      fill: #D2E3FC;\n",
              "    }\n",
              "\n",
              "    [theme=dark] .colab-df-convert:hover {\n",
              "      background-color: #434B5C;\n",
              "      box-shadow: 0px 1px 3px 1px rgba(0, 0, 0, 0.15);\n",
              "      filter: drop-shadow(0px 1px 2px rgba(0, 0, 0, 0.3));\n",
              "      fill: #FFFFFF;\n",
              "    }\n",
              "  </style>\n",
              "\n",
              "      <script>\n",
              "        const buttonEl =\n",
              "          document.querySelector('#df-6d384a3c-7fd0-4964-8d41-7a5815f927f7 button.colab-df-convert');\n",
              "        buttonEl.style.display =\n",
              "          google.colab.kernel.accessAllowed ? 'block' : 'none';\n",
              "\n",
              "        async function convertToInteractive(key) {\n",
              "          const element = document.querySelector('#df-6d384a3c-7fd0-4964-8d41-7a5815f927f7');\n",
              "          const dataTable =\n",
              "            await google.colab.kernel.invokeFunction('convertToInteractive',\n",
              "                                                     [key], {});\n",
              "          if (!dataTable) return;\n",
              "\n",
              "          const docLinkHtml = 'Like what you see? Visit the ' +\n",
              "            '<a target=\"_blank\" href=https://colab.research.google.com/notebooks/data_table.ipynb>data table notebook</a>'\n",
              "            + ' to learn more about interactive tables.';\n",
              "          element.innerHTML = '';\n",
              "          dataTable['output_type'] = 'display_data';\n",
              "          await google.colab.output.renderOutput(dataTable, element);\n",
              "          const docLink = document.createElement('div');\n",
              "          docLink.innerHTML = docLinkHtml;\n",
              "          element.appendChild(docLink);\n",
              "        }\n",
              "      </script>\n",
              "    </div>\n",
              "  </div>\n",
              "  "
            ]
          },
          "metadata": {},
          "execution_count": 201
        }
      ]
    }
  ]
}