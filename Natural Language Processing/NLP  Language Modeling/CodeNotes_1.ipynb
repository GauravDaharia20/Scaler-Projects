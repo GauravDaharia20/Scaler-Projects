{
 "cells": [
  {
   "cell_type": "code",
   "execution_count": 17,
   "metadata": {},
   "outputs": [
    {
     "name": "stdout",
     "output_type": "stream",
     "text": [
      "All the bigrams in the text are: [('cats', 'love'), ('love', 'to'), ('to', 'chase'), ('chase', 'mice'), ('cats', 'love'), ('love', 'to'), ('to', 'drink'), ('drink', 'milk'), ('dogs', 'love'), ('love', 'to'), ('to', 'chase'), ('chase', 'cats'), ('mice', 'are'), ('are', 'scared'), ('scared', 'of'), ('of', 'cats'), ('mice', 'are'), ('are', 'scared'), ('scared', 'of'), ('of', 'dogs'), ('cats', 'sometimes'), ('sometimes', 'sleep'), ('sleep', 'all'), ('all', 'day'), ('dogs', 'are'), ('are', 'loyal'), ('loyal', 'companions')]\n"
     ]
    },
    {
     "data": {
      "text/plain": [
       "Counter({('love', 'to'): 3,\n",
       "         ('cats', 'love'): 2,\n",
       "         ('to', 'chase'): 2,\n",
       "         ('mice', 'are'): 2,\n",
       "         ('are', 'scared'): 2,\n",
       "         ('scared', 'of'): 2,\n",
       "         ('chase', 'mice'): 1,\n",
       "         ('to', 'drink'): 1,\n",
       "         ('drink', 'milk'): 1,\n",
       "         ('dogs', 'love'): 1,\n",
       "         ('chase', 'cats'): 1,\n",
       "         ('of', 'cats'): 1,\n",
       "         ('of', 'dogs'): 1,\n",
       "         ('cats', 'sometimes'): 1,\n",
       "         ('sometimes', 'sleep'): 1,\n",
       "         ('sleep', 'all'): 1,\n",
       "         ('all', 'day'): 1,\n",
       "         ('dogs', 'are'): 1,\n",
       "         ('are', 'loyal'): 1,\n",
       "         ('loyal', 'companions'): 1})"
      ]
     },
     "execution_count": 17,
     "metadata": {},
     "output_type": "execute_result"
    }
   ],
   "source": [
    "from collections import defaultdict, Counter\n",
    "\n",
    "# Sample text lines\n",
    "text_lines = [\n",
    "    \"Cats love to chase mice\", # we can not do NC2\n",
    "    \"Cats love to drink milk\",\n",
    "    \"Dogs love to chase cats\",\n",
    "    \"Mice are scared of cats\",\n",
    "    \"Mice are scared of dogs\",\n",
    "    \"Cats sometimes sleep all day\",\n",
    "    \"Dogs are loyal companions\"\n",
    "]\n",
    "\n",
    "\n",
    "bigrams = []\n",
    "words = []\n",
    "for line in text_lines:\n",
    "    line_words = line.lower().split()\n",
    "    words.extend(line_words)\n",
    "    bigrams.extend([(line_words[i], line_words[i + 1]) for i in range(len(line_words) - 1)])\n",
    "\n",
    "print(\"All the bigrams in the text are:\", bigrams)\n",
    "\n",
    "\n",
    "from collections import Counter\n",
    "\n",
    "bigram_counts = Counter(bigrams)\n",
    "\n",
    "# print(\"The counts of each bigram are:\", bigram_counts)\n",
    "bigram_counts\n",
    "\n"
   ]
  },
  {
   "cell_type": "code",
   "execution_count": 18,
   "metadata": {},
   "outputs": [
    {
     "data": {
      "text/plain": [
       "{('cats', 'love'): 0.4,\n",
       " ('love', 'to'): 1.0,\n",
       " ('to', 'chase'): 0.6666666666666666,\n",
       " ('chase', 'mice'): 0.5,\n",
       " ('to', 'drink'): 0.3333333333333333,\n",
       " ('drink', 'milk'): 1.0,\n",
       " ('dogs', 'love'): 0.3333333333333333,\n",
       " ('chase', 'cats'): 0.5,\n",
       " ('mice', 'are'): 0.6666666666666666,\n",
       " ('are', 'scared'): 0.6666666666666666,\n",
       " ('scared', 'of'): 1.0,\n",
       " ('of', 'cats'): 0.5,\n",
       " ('of', 'dogs'): 0.5,\n",
       " ('cats', 'sometimes'): 0.2,\n",
       " ('sometimes', 'sleep'): 1.0,\n",
       " ('sleep', 'all'): 1.0,\n",
       " ('all', 'day'): 1.0,\n",
       " ('dogs', 'are'): 0.3333333333333333,\n",
       " ('are', 'loyal'): 0.3333333333333333,\n",
       " ('loyal', 'companions'): 1.0}"
      ]
     },
     "execution_count": 18,
     "metadata": {},
     "output_type": "execute_result"
    }
   ],
   "source": [
    "word_freq = Counter(words)\n",
    "\n",
    "conditional_probabilities = {}\n",
    "\n",
    "# write above conditional_probabilities in a for loop\n",
    "\n",
    "for bigram, count in bigram_counts.items():\n",
    "    conditional_probabilities[bigram] = count / word_freq[bigram[0]]\n",
    "\n",
    "conditional_probabilities"
   ]
  },
  {
   "cell_type": "code",
   "execution_count": 19,
   "metadata": {},
   "outputs": [
    {
     "data": {
      "text/plain": [
       "[(('all', 'day'), 1.0),\n",
       " (('are', 'scared'), 0.6666666666666666),\n",
       " (('are', 'loyal'), 0.3333333333333333),\n",
       " (('cats', 'love'), 0.4),\n",
       " (('cats', 'sometimes'), 0.2),\n",
       " (('chase', 'mice'), 0.5),\n",
       " (('chase', 'cats'), 0.5),\n",
       " (('dogs', 'love'), 0.3333333333333333),\n",
       " (('dogs', 'are'), 0.3333333333333333),\n",
       " (('drink', 'milk'), 1.0),\n",
       " (('love', 'to'), 1.0),\n",
       " (('loyal', 'companions'), 1.0),\n",
       " (('mice', 'are'), 0.6666666666666666),\n",
       " (('of', 'cats'), 0.5),\n",
       " (('of', 'dogs'), 0.5),\n",
       " (('scared', 'of'), 1.0),\n",
       " (('sleep', 'all'), 1.0),\n",
       " (('sometimes', 'sleep'), 1.0),\n",
       " (('to', 'chase'), 0.6666666666666666),\n",
       " (('to', 'drink'), 0.3333333333333333)]"
      ]
     },
     "execution_count": 19,
     "metadata": {},
     "output_type": "execute_result"
    }
   ],
   "source": [
    "# sort the conditional_probabilities by the first word in the bigram\n",
    "\n",
    "sorted(conditional_probabilities.items(), key=lambda x: x[0][0])"
   ]
  },
  {
   "cell_type": "code",
   "execution_count": 3,
   "metadata": {},
   "outputs": [
    {
     "name": "stdout",
     "output_type": "stream",
     "text": [
      "for i:  1 100.0\n",
      "for i:  2 10.0\n",
      "for i:  3 4.641588833612778\n",
      "for i:  4 3.1622776601683795\n",
      "for i:  5 2.51188643150958\n",
      "for i:  6 2.154434690031884\n",
      "for i:  7 1.93069772888325\n",
      "for i:  8 1.7782794100389228\n",
      "for i:  9 1.6681005372000588\n"
     ]
    }
   ],
   "source": [
    "import numpy as np\n",
    "\n",
    "\n",
    "# use cube-root of 8 using np\n",
    "\n",
    "n = 100\n",
    "\n",
    "for i in range(1, 10):\n",
    "    print(\"for i: \", i, np.power(np.abs(n), 1/i))"
   ]
  },
  {
   "cell_type": "code",
   "execution_count": null,
   "metadata": {},
   "outputs": [],
   "source": [
    "in bi-grams, you've more multiplications, -> smaller values\n",
    "in tr-grams, you've lesser multiplications, -> larger values, so you need to take cube root, so it compensates"
   ]
  }
 ],
 "metadata": {
  "kernelspec": {
   "display_name": "appy",
   "language": "python",
   "name": "python3"
  },
  "language_info": {
   "codemirror_mode": {
    "name": "ipython",
    "version": 3
   },
   "file_extension": ".py",
   "mimetype": "text/x-python",
   "name": "python",
   "nbconvert_exporter": "python",
   "pygments_lexer": "ipython3",
   "version": "3.9.6"
  }
 },
 "nbformat": 4,
 "nbformat_minor": 2
}
