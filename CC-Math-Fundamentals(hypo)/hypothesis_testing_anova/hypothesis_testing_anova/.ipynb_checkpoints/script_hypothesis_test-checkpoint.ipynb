{
 "cells": [
  {
   "cell_type": "code",
   "execution_count": 28,
   "id": "45ca2ac0",
   "metadata": {},
   "outputs": [],
   "source": [
    "import numpy as np\n",
    "import pandas as pd\n",
    "from scipy.stats import norm, t\n",
    "from scipy.stats import ttest_ind, ttest_1samp, ttest_ind_from_stats"
   ]
  },
  {
   "cell_type": "markdown",
   "id": "971dfa6b",
   "metadata": {},
   "source": [
    "# Z-Test - 1 Sample"
   ]
  },
  {
   "cell_type": "code",
   "execution_count": 2,
   "id": "d06124bd",
   "metadata": {
    "code_folding": [
     0,
     3
    ]
   },
   "outputs": [],
   "source": [
    "def z_test_1_samp_observed_mean(observed_mean, num_samples, sigma, alpha):\n",
    "    pass\n",
    "\n",
    "def z_test_1_samp(data, sigma, alpha):\n",
    "    pass"
   ]
  },
  {
   "cell_type": "markdown",
   "id": "e56511e9",
   "metadata": {},
   "source": [
    "## Customers entering a store"
   ]
  },
  {
   "cell_type": "code",
   "execution_count": 80,
   "id": "05bdcee8",
   "metadata": {},
   "outputs": [
    {
     "name": "stdout",
     "output_type": "stream",
     "text": [
      "Z-stat =  2.007984063681781\n",
      "P-value =  0.022322492581293485\n",
      "Reject H0\n"
     ]
    }
   ],
   "source": [
    "\"\"\"\n",
    "The average number of customers entering a store every day is 500,\n",
    "with a standard deviation of 125.\n",
    "\n",
    "A marketing company claims to increase this number.\n",
    "After 70 days, it is seen that the average is 530.\n",
    "Test the claim of the marketing company at a 95% confidence (or 5% significance)\n",
    "\"\"\"\n",
    "\n",
    "\"\"\"\n",
    "H0: mu = 500\n",
    "Ha: mu > 500\n",
    "Test-Statistic is sample mean\n",
    "Right-tailed\n",
    "Alpha = 0.05\n",
    "\"\"\"\n",
    "\n",
    "z_stat = (530 - 500)/(125/np.sqrt(70))\n",
    "p_value = 1 - norm.cdf(z_stat)\n",
    "print(\"Z-stat = \", z_stat)\n",
    "print(\"P-value = \", p_value)\n",
    "alpha = 0.05\n",
    "if p_value < alpha:\n",
    "    print(\"Reject H0\")\n",
    "else:\n",
    "    print(\"Fail to reject H0\")"
   ]
  },
  {
   "cell_type": "code",
   "execution_count": 83,
   "id": "7ad24e48",
   "metadata": {},
   "outputs": [
    {
     "data": {
      "text/plain": [
       "Ttest_indResult(statistic=2.0072816380114653, pvalue=0.02236118353955271)"
      ]
     },
     "execution_count": 83,
     "metadata": {},
     "output_type": "execute_result"
    }
   ],
   "source": [
    "ttest_ind_from_stats(530, 125, 70, 500, 125, 100000, alternative=\"greater\")"
   ]
  },
  {
   "cell_type": "markdown",
   "id": "3882b791",
   "metadata": {},
   "source": [
    "## India runs on chai (assessment)"
   ]
  },
  {
   "cell_type": "code",
   "execution_count": 91,
   "id": "871fa80e",
   "metadata": {},
   "outputs": [
    {
     "name": "stdout",
     "output_type": "stream",
     "text": [
      "Z-stat =  1.6431676725155\n",
      "P-value =  0.05017412323114523\n",
      "Fail to reject H0\n"
     ]
    }
   ],
   "source": [
    "\"\"\"\n",
    "The Chai Point stall at Bengaluru airport estimates that each person visiting the store drinks an average of 1.7 small cups of tea.\n",
    "\n",
    "Assume a population standard deviation of 0.5 small cups. A sample of 30 customers collected over a few days averaged 1.85 small cups of tea per person.\n",
    "\n",
    "Test the claim using a z-test at an alpha = 0.05 significance value, with a critical z-score value of .\n",
    "\n",
    "Note: Round off the z-score to two decimal places.\n",
    "\"\"\"\n",
    "\n",
    "\n",
    "\"\"\"\n",
    "H0: 1.7 cups\n",
    "Ha: > 1.7 cups\n",
    "\n",
    "Test statistic = sample mean; \n",
    "Observed test statistic = 1.85\n",
    "\n",
    "Right tailed\n",
    "\n",
    "Alpha = 0.05\n",
    "\"\"\"\n",
    "z_stat = (1.85 - 1.7)/(0.5/np.sqrt(30))\n",
    "p_value = 1 - norm.cdf(z_stat)\n",
    "print(\"Z-stat = \", z_stat)\n",
    "print(\"P-value = \", p_value)\n",
    "alpha = 0.05\n",
    "if p_value < alpha:\n",
    "    print(\"Reject H0\")\n",
    "else:\n",
    "    print(\"Fail to reject H0\")\n"
   ]
  },
  {
   "cell_type": "code",
   "execution_count": 92,
   "id": "f9fc1322",
   "metadata": {},
   "outputs": [
    {
     "data": {
      "text/plain": [
       "Ttest_indResult(statistic=1.6429212528076707, pvalue=0.05020118514142627)"
      ]
     },
     "execution_count": 92,
     "metadata": {},
     "output_type": "execute_result"
    }
   ],
   "source": [
    "ttest_ind_from_stats(1.85, 0.5, 30, 1.7, 0.5, 100000, alternative=\"greater\")"
   ]
  },
  {
   "cell_type": "markdown",
   "id": "477ef26e",
   "metadata": {},
   "source": [
    "## Local football game"
   ]
  },
  {
   "cell_type": "code",
   "execution_count": 4,
   "id": "2c97d193",
   "metadata": {},
   "outputs": [
    {
     "name": "stdout",
     "output_type": "stream",
     "text": [
      "3.633729699470687\n"
     ]
    }
   ],
   "source": [
    "\"\"\"\n",
    "A local football game sees 3.5 goals per match on average, with standard deviation of 0.7. \n",
    "A sample of 45 matches was taken. \n",
    "What should be the maximum average goal of these 45 matches such that we can continue\n",
    "to believe the statement that the population average is 3.5 goals, at a 10% confidence\n",
    "\"\"\"\n",
    "\n",
    "z_critical = norm.ppf(0.9)\n",
    "x = 3.5 + z_critical * 0.7/np.sqrt(45)\n",
    "print(x)"
   ]
  },
  {
   "cell_type": "markdown",
   "id": "1e674552",
   "metadata": {},
   "source": [
    "# Z-Test - 2 Sample"
   ]
  },
  {
   "cell_type": "code",
   "execution_count": 5,
   "id": "22e69698",
   "metadata": {
    "code_folding": [
     0,
     3
    ]
   },
   "outputs": [],
   "source": [
    "def z_test_2_samp_manual():\n",
    "    pass\n",
    "\n",
    "def z_test_2_samp_package():\n",
    "    pass"
   ]
  },
  {
   "cell_type": "markdown",
   "id": "8b0a9b62",
   "metadata": {},
   "source": [
    "# T-Test - 1 Sample"
   ]
  },
  {
   "cell_type": "code",
   "execution_count": 6,
   "id": "b3abdf65",
   "metadata": {
    "code_folding": [
     0,
     3
    ]
   },
   "outputs": [],
   "source": [
    "def t_test_1_samp_manual():\n",
    "    pass\n",
    "\n",
    "def t_test_1_samp_package():\n",
    "    pass"
   ]
  },
  {
   "cell_type": "code",
   "execution_count": null,
   "id": "964cfbb3",
   "metadata": {
    "code_folding": [
     0
    ]
   },
   "outputs": [],
   "source": [
    "def ttest_1_samp_from_data(d1, popmean, alternative):\n",
    "    pass"
   ]
  },
  {
   "cell_type": "markdown",
   "id": "ce24f337",
   "metadata": {},
   "source": [
    "## Students solving assessments"
   ]
  },
  {
   "cell_type": "code",
   "execution_count": 118,
   "id": "ed974fbe",
   "metadata": {},
   "outputs": [
    {
     "name": "stdout",
     "output_type": "stream",
     "text": [
      "T-stat =  -1.2770270270270263\n",
      "P value =  0.11870416200249816\n",
      "Fail to reject H0\n"
     ]
    }
   ],
   "source": [
    "\"\"\"\n",
    "An instructor claims that it takes 90 days to solve all assessment questions.\n",
    "A sample of 9 students took an average of 77.4 days with sample std dev = 29.6.\n",
    "Would you reject the instructor's claim at a 5% significance?\n",
    "\"\"\"\n",
    "t_stat = (77.4-90)/( 29.6 / np.sqrt(9))\n",
    "p_value = t.cdf(t_stat, df=8) \n",
    "alpha = 0.05\n",
    "print(\"T-stat = \", t_stat)\n",
    "print(\"P value = \", p_value)\n",
    "if p_value < alpha:\n",
    "    print(\"Reject H0\")\n",
    "else:\n",
    "    print(\"Fail to reject H0\")"
   ]
  },
  {
   "cell_type": "code",
   "execution_count": 115,
   "id": "09d12524",
   "metadata": {},
   "outputs": [
    {
     "data": {
      "text/plain": [
       "Ttest_indResult(statistic=-1.2770264523652521, pvalue=0.10079646907934484)"
      ]
     },
     "execution_count": 115,
     "metadata": {},
     "output_type": "execute_result"
    }
   ],
   "source": [
    "ttest_ind_from_stats(77.4, 29.6, 9, 90, 29.6, 10000000, alternative=\"less\")"
   ]
  },
  {
   "cell_type": "markdown",
   "id": "25e58a09",
   "metadata": {},
   "source": [
    "## Shoe company claim"
   ]
  },
  {
   "cell_type": "code",
   "execution_count": 144,
   "id": "3a6e21bc",
   "metadata": {},
   "outputs": [
    {
     "name": "stdout",
     "output_type": "stream",
     "text": [
      "T-stat =  -2.1125363706585896\n",
      "P value =  0.017320247256100447\n",
      "Reject H0\n"
     ]
    }
   ],
   "source": [
    "\"\"\"\n",
    "A shoe company says their shoes last for 6 years on average. \n",
    "A survey of 15 shoes showed an average lifetime of 5.4 years with sample std dev of 1.1 years\n",
    "Test the claim of the company at 5% significance\n",
    "\"\"\"\n",
    "t_stat = (5.4 - 6) / (1.1/np.sqrt(15))\n",
    "p_value = t.cdf(t_stat, df=10000000) \n",
    "alpha = 0.05\n",
    "print(\"T-stat = \", t_stat)\n",
    "print(\"P value = \", p_value)\n",
    "if p_value < alpha:\n",
    "    print(\"Reject H0\")\n",
    "else:\n",
    "    print(\"Fail to reject H0\")"
   ]
  },
  {
   "cell_type": "code",
   "execution_count": 133,
   "id": "665ccc66",
   "metadata": {},
   "outputs": [
    {
     "data": {
      "text/plain": [
       "Ttest_indResult(statistic=-2.1125347862580943, pvalue=0.017320315127828587)"
      ]
     },
     "execution_count": 133,
     "metadata": {},
     "output_type": "execute_result"
    }
   ],
   "source": [
    "ttest_ind_from_stats(5.4, 1.1, 15, 6, 1.1, 10000000, alternative=\"less\")"
   ]
  },
  {
   "cell_type": "code",
   "execution_count": 135,
   "id": "da999456",
   "metadata": {},
   "outputs": [
    {
     "name": "stdout",
     "output_type": "stream",
     "text": [
      "T-stat =  -2.1125347862580943\n",
      "P-value =  0.017320315127828587\n"
     ]
    }
   ],
   "source": [
    "ttest_ind_from_mean_and_std_dev(5.4, 1.1, 15, 6, 1.1, 10000000, alternative=\"less\")"
   ]
  },
  {
   "cell_type": "markdown",
   "id": "4c89e5fe",
   "metadata": {},
   "source": [
    "## Quality assurance (assessment)"
   ]
  },
  {
   "cell_type": "code",
   "execution_count": 65,
   "id": "d1709f93",
   "metadata": {},
   "outputs": [
    {
     "name": "stdout",
     "output_type": "stream",
     "text": [
      "Observed sample mean =  199.48888888888888\n",
      "Test statistic =  1.3689029903414232\n",
      "P-value =  0.0889889155615061\n",
      "Reject H0\n"
     ]
    }
   ],
   "source": [
    "\"\"\"\n",
    "The quality assurance department claims that on average the non-fat milk contains more than 190 mg of Calcium per 500 ml packet.\n",
    "\n",
    "To check this claim 45 packets of milk are collected and the content of calcium is recorded. perform the appropriate test with 90% confidence.\n",
    "\n",
    "\"\"\"\n",
    "data = pd.Series([193, 321, 222, 158, 176, 149, 154, 223, 233, 177, 280, 244, 138, 210, 167, 129, 254, 167, 194, 191, 128, 191, 144, 184, 330, 216, 212, 142, 216, 197, 231, 133, 205, 192, 195, 243, 224, 137, 234, 171, 176, 249, 222, 234, 191])\n",
    "print(\"Observed sample mean = \", data.mean())\n",
    "t_stat, p_value = ttest_1samp(data, popmean=190, alternative=\"greater\")\n",
    "print(\"Test statistic = \", t_stat)\n",
    "print(\"P-value = \", p_value)\n",
    "if p_value < 0.1:\n",
    "    print(\"Reject H0\")\n",
    "else: \n",
    "    print(\"Fail to reject H0\")\n"
   ]
  },
  {
   "cell_type": "code",
   "execution_count": 121,
   "id": "fb10b090",
   "metadata": {},
   "outputs": [
    {
     "data": {
      "text/plain": [
       "Ttest_indResult(statistic=1.3688999103200898, pvalue=0.08551529727616433)"
      ]
     },
     "execution_count": 121,
     "metadata": {},
     "output_type": "execute_result"
    }
   ],
   "source": [
    "ttest_ind_from_stats(data.mean(), data.std(), len(data), 190, data.std(), 10000000, alternative=\"greater\")"
   ]
  },
  {
   "cell_type": "markdown",
   "id": "997e6f22",
   "metadata": {},
   "source": [
    "# T-Test - 2 Sample"
   ]
  },
  {
   "cell_type": "code",
   "execution_count": 17,
   "id": "94baa9c6",
   "metadata": {
    "code_folding": [
     0
    ]
   },
   "outputs": [],
   "source": [
    "def ttest_ind_from_data(d1, d2, alternative=\"two-sided\"):\n",
    "    \"\"\"\n",
    "    d1: pandas Series\n",
    "    d2: pandas Series\n",
    "    alternative: {‘two-sided’, ‘less’, ‘greater’}, optional\n",
    "    \"\"\"\n",
    "    n1 = len(d1)\n",
    "    n2 = len(d2)\n",
    "    \n",
    "    m1 = d1.mean()\n",
    "    m2 = d2.mean()\n",
    "    \n",
    "    s1 = d1.std()\n",
    "    s2 = d2.std()\n",
    "    \n",
    "    df = n1 + n2 - 2\n",
    "    \n",
    "    s = np.sqrt((((n1-1)*(s1**2)) + ((n2-1)*(s2**2))) / (n1 + n2 - 2))\n",
    "    \n",
    "    t_stat = (m1 - m2) / (s*np.sqrt(1/n1+ 1/n2))\n",
    "    \n",
    "    if alternative == \"two-sided\":\n",
    "        p_value = 2*(1 - t.cdf(t_stat, df=df))\n",
    "    if alternative == \"less\":\n",
    "        p_value = t.cdf(t_stat, df=df)\n",
    "    if alternative == \"greater\":\n",
    "        p_value = 1 - t.cdf(t_stat, df=df)\n",
    "    print(\"T-stat = \", t_stat)\n",
    "    print(\"P-value = \", p_value)"
   ]
  },
  {
   "cell_type": "code",
   "execution_count": 34,
   "id": "c1fd7472",
   "metadata": {
    "code_folding": [
     0
    ]
   },
   "outputs": [],
   "source": [
    "def ttest_ind_from_mean_and_std_dev(m1, s1, n1, m2, s2, n2, alternative=\"two-sided\"):\n",
    "    \"\"\"\n",
    "    m1: mean of first set of samples\n",
    "    m2: mean of second set of samples\n",
    "    n1: number of samples in first set\n",
    "    alternative: {‘two-sided’, ‘less’, ‘greater’}, optional\n",
    "    \"\"\"\n",
    "    df = n1 + n2 - 2\n",
    "    \n",
    "    s = np.sqrt((((n1-1)*(s1**2)) + ((n2-1)*(s2**2))) / (n1 + n2 - 2))\n",
    "    \n",
    "    t_stat = (m1 - m2) / (s*np.sqrt(1/n1+ 1/n2))\n",
    "    \n",
    "    if alternative == \"two-sided\":\n",
    "        p_value = 2*(1 - t.cdf(t_stat, df=df))\n",
    "    if alternative == \"less\":\n",
    "        p_value = t.cdf(t_stat, df=df)\n",
    "    if alternative == \"greater\":\n",
    "        p_value = 1 - t.cdf(t_stat, df=df)\n",
    "    print(\"T-stat = \", t_stat)\n",
    "    print(\"P-value = \", p_value)"
   ]
  },
  {
   "cell_type": "markdown",
   "id": "3ff7dadf",
   "metadata": {},
   "source": [
    "## Average hourly wage (assessment)"
   ]
  },
  {
   "cell_type": "markdown",
   "id": "6503d2c3",
   "metadata": {},
   "source": [
    "The average hourly wage of a sample of 150 workers in plant 'A' was Rs.2·87 with a standard deviation of Rs. 1·08.\n",
    "\n",
    "The average wage of a sample of 200 workers in plant 'B' was Rs. 2·56 with a standard deviation of Rs. 1·28.\n",
    "\n",
    "Can an applicant safely assume that the hourly wages paid by plant 'A' are higher than those paid by plant 'B' at a 1% significance level?"
   ]
  },
  {
   "cell_type": "code",
   "execution_count": 35,
   "id": "1f358e98",
   "metadata": {},
   "outputs": [
    {
     "name": "stdout",
     "output_type": "stream",
     "text": [
      "T-stat =  2.3947738234213953\n",
      "P-value =  0.008579470194694738\n"
     ]
    }
   ],
   "source": [
    "ttest_ind_from_mean_and_std_dev(2.87, 1.08, 150, 2.56, 1.28, 200, alternative=\"greater\")"
   ]
  },
  {
   "cell_type": "code",
   "execution_count": 134,
   "id": "08770e56",
   "metadata": {},
   "outputs": [
    {
     "name": "stdout",
     "output_type": "stream",
     "text": [
      "Test statistic =  2.3947738234213953\n",
      "P-value 0.008579470194694674\n",
      "Reject H0\n"
     ]
    }
   ],
   "source": [
    "t_stat, p_value = ttest_ind_from_stats(2.87, 1.08, 150, 2.56, 1.28, 200, alternative=\"greater\")\n",
    "print(\"Test statistic = \", t_stat)\n",
    "print(\"P-value\", p_value)\n",
    "if p_value < 0.01:\n",
    "    print(\"Reject H0\")\n",
    "else: \n",
    "    print(\"Fail to reject H0\")"
   ]
  },
  {
   "cell_type": "markdown",
   "id": "4feb7dd6",
   "metadata": {},
   "source": [
    "## Smokers (assessment)"
   ]
  },
  {
   "cell_type": "markdown",
   "id": "2952e1d9",
   "metadata": {},
   "source": [
    "When smokers smoke, nicotine is transformed into cotinine, which can be tested.\n",
    "\n",
    "The average cotinine level in a group of 50 smokers was 243.5 ng ml.\n",
    "\n",
    "Assuming that the standard deviation is known to be 229.5 ng ml, at 95 % confidence, test the assertion that the mean cotinine level of all smokers is equal to 300.0 ng ml."
   ]
  },
  {
   "cell_type": "code",
   "execution_count": 74,
   "id": "d143f0a7",
   "metadata": {},
   "outputs": [
    {
     "name": "stdout",
     "output_type": "stream",
     "text": [
      "Test statistic =  -1.7408071088958776\n",
      "P-value 0.0817173985378351\n",
      "Fail to reject H0\n"
     ]
    }
   ],
   "source": [
    "t_stat, p_value = ttest_ind_from_stats(243.5, 229.5, 50, 300, 229.5, 100000000)\n",
    "print(\"Test statistic = \", t_stat)\n",
    "print(\"P-value\", p_value)\n",
    "if p_value < 0.01:\n",
    "    print(\"Reject H0\")\n",
    "else: \n",
    "    print(\"Fail to reject H0\")"
   ]
  },
  {
   "cell_type": "markdown",
   "id": "2b51ce59",
   "metadata": {},
   "source": [
    "## Institution's claim (assessment)"
   ]
  },
  {
   "cell_type": "code",
   "execution_count": 77,
   "id": "a9dc745d",
   "metadata": {},
   "outputs": [
    {
     "name": "stdout",
     "output_type": "stream",
     "text": [
      "Test statistic =  4.7140440293994565\n",
      "P-value 1.2142423949320067e-06\n",
      "Reject H0\n"
     ]
    }
   ],
   "source": [
    "t_stat, p_value = ttest_ind_from_stats(110, 15, 50, 100, 15, 100000000, alternative=\"greater\")\n",
    "print(\"Test statistic = \", t_stat)\n",
    "print(\"P-value\", p_value)\n",
    "if p_value < 0.05:\n",
    "    print(\"Reject H0\")\n",
    "else: \n",
    "    print(\"Fail to reject H0\")"
   ]
  },
  {
   "cell_type": "markdown",
   "id": "418e22df",
   "metadata": {},
   "source": [
    "##  Assessment across 2 batches"
   ]
  },
  {
   "cell_type": "code",
   "execution_count": 125,
   "id": "646c6798",
   "metadata": {},
   "outputs": [
    {
     "name": "stdout",
     "output_type": "stream",
     "text": [
      "Test statistic =  0.5795450171026676\n",
      "P-value=  0.5694047618891788\n",
      "Fail to reject H0\n"
     ]
    }
   ],
   "source": [
    "\"\"\"\n",
    "The number of hours a student spends solving assessment problems across two batches are known.\n",
    "Test if one batch takes lesser time.\n",
    "\"\"\"\n",
    "batch_1 = pd.Series([25,30,45,49,47,35,32,42])\n",
    "batch_2 = pd.Series([45,47,25,22,29,32,27,28,40,49,50,33])\n",
    "t_stat, p_value = ttest_ind(batch_1, batch_2, alternative=\"two-sided\")\n",
    "print(\"Test statistic = \", t_stat)\n",
    "print(\"P-value= \", p_value)\n",
    "if p_value < 0.05:\n",
    "    print(\"Reject H0\")\n",
    "else: \n",
    "    print(\"Fail to reject H0\")"
   ]
  },
  {
   "cell_type": "code",
   "execution_count": 123,
   "id": "2c279629",
   "metadata": {},
   "outputs": [
    {
     "data": {
      "text/plain": [
       "Ttest_indResult(statistic=0.5795450171026676, pvalue=0.5694047618891788)"
      ]
     },
     "execution_count": 123,
     "metadata": {},
     "output_type": "execute_result"
    }
   ],
   "source": [
    "ttest_ind_from_stats(batch_1.mean(), batch_1.std(), len(batch_1), batch_2.mean(), batch_2.std(), len(batch_2), alternative=\"two-sided\")"
   ]
  },
  {
   "cell_type": "markdown",
   "id": "f74eca00",
   "metadata": {},
   "source": [
    "# Unified approach"
   ]
  },
  {
   "cell_type": "code",
   "execution_count": 161,
   "id": "34d7c152",
   "metadata": {},
   "outputs": [],
   "source": [
    "data = pd.Series(\n",
    "        [110, 112, 99, 120, 105, 107, 109, 110, 100, 105, 102, 107, 109, 110, 100, 105, 102 ])"
   ]
  },
  {
   "cell_type": "code",
   "execution_count": 182,
   "id": "9ed2d001",
   "metadata": {},
   "outputs": [],
   "source": [
    "data = pd.Series(np.random.randint(95, 107, size=1000))"
   ]
  },
  {
   "cell_type": "code",
   "execution_count": 183,
   "id": "2a44ffa0",
   "metadata": {},
   "outputs": [
    {
     "data": {
      "text/plain": [
       "100.513"
      ]
     },
     "execution_count": 183,
     "metadata": {},
     "output_type": "execute_result"
    }
   ],
   "source": [
    "data.mean()"
   ]
  },
  {
   "cell_type": "code",
   "execution_count": 184,
   "id": "525d589c",
   "metadata": {},
   "outputs": [
    {
     "data": {
      "text/plain": [
       "TtestResult(statistic=4.659411508734172, pvalue=1.7999925319966461e-06, df=999)"
      ]
     },
     "execution_count": 184,
     "metadata": {},
     "output_type": "execute_result"
    }
   ],
   "source": [
    "ttest_1samp(data, 100, alternative=\"greater\")"
   ]
  },
  {
   "cell_type": "code",
   "execution_count": 185,
   "id": "a8ed2786",
   "metadata": {},
   "outputs": [
    {
     "data": {
      "text/plain": [
       "Ttest_indResult(statistic=4.659411275763614, pvalue=1.585575239438631e-06)"
      ]
     },
     "execution_count": 185,
     "metadata": {},
     "output_type": "execute_result"
    }
   ],
   "source": [
    "ttest_ind_from_stats(data.mean(), data.std(), len(data), 100, data.std(),  10000000000 ,alternative=\"greater\")     "
   ]
  },
  {
   "cell_type": "code",
   "execution_count": 174,
   "id": "06e7b470",
   "metadata": {},
   "outputs": [
    {
     "data": {
      "text/plain": [
       "5.126421573631301e-05"
      ]
     },
     "execution_count": 174,
     "metadata": {},
     "output_type": "execute_result"
    }
   ],
   "source": [
    "1 - t.cdf(5.121421648770584, df=16)"
   ]
  },
  {
   "cell_type": "code",
   "execution_count": 191,
   "id": "51e85b81",
   "metadata": {},
   "outputs": [
    {
     "data": {
      "text/plain": [
       "1.5164840583281602e-07"
      ]
     },
     "execution_count": 191,
     "metadata": {},
     "output_type": "execute_result"
    }
   ],
   "source": [
    "1 - t.cdf(5.121421648770584, df=1000000)"
   ]
  },
  {
   "cell_type": "code",
   "execution_count": 176,
   "id": "4ea3d836",
   "metadata": {},
   "outputs": [
    {
     "data": {
      "text/plain": [
       "-408.0889225881908"
      ]
     },
     "execution_count": 176,
     "metadata": {},
     "output_type": "execute_result"
    }
   ],
   "source": [
    "np.random.normal(loc=243, scale=229.5**2)"
   ]
  }
 ],
 "metadata": {
  "kernelspec": {
   "display_name": "Python 3 (ipykernel)",
   "language": "python",
   "name": "python3"
  },
  "language_info": {
   "codemirror_mode": {
    "name": "ipython",
    "version": 3
   },
   "file_extension": ".py",
   "mimetype": "text/x-python",
   "name": "python",
   "nbconvert_exporter": "python",
   "pygments_lexer": "ipython3",
   "version": "3.9.12"
  }
 },
 "nbformat": 4,
 "nbformat_minor": 5
}
