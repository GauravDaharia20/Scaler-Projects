{
 "cells": [
  {
   "cell_type": "code",
   "execution_count": 2,
   "id": "fd79e769",
   "metadata": {},
   "outputs": [],
   "source": [
    "import numpy as np\n",
    "from matplotlib import pyplot as plt\n",
    "\n",
    "from scipy.stats import binom"
   ]
  },
  {
   "cell_type": "code",
   "execution_count": 3,
   "id": "99452147",
   "metadata": {},
   "outputs": [
    {
     "ename": "TypeError",
     "evalue": "_parse_args() missing 1 required positional argument: 'p'",
     "output_type": "error",
     "traceback": [
      "\u001b[0;31m---------------------------------------------------------------------------\u001b[0m",
      "\u001b[0;31mTypeError\u001b[0m                                 Traceback (most recent call last)",
      "Input \u001b[0;32mIn [3]\u001b[0m, in \u001b[0;36m<cell line: 3>\u001b[0;34m()\u001b[0m\n\u001b[1;32m      1\u001b[0m n \u001b[38;5;241m=\u001b[39m \u001b[38;5;241m10\u001b[39m\n\u001b[1;32m      2\u001b[0m x_values \u001b[38;5;241m=\u001b[39m np\u001b[38;5;241m.\u001b[39marange(\u001b[38;5;241m0\u001b[39m, \u001b[38;5;241m11\u001b[39m)\n\u001b[0;32m----> 3\u001b[0m y_values \u001b[38;5;241m=\u001b[39m \u001b[43mbinom\u001b[49m\u001b[38;5;241;43m.\u001b[39;49m\u001b[43mpmf\u001b[49m\u001b[43m(\u001b[49m\u001b[43mx_values\u001b[49m\u001b[43m,\u001b[49m\u001b[43m \u001b[49m\u001b[43mn\u001b[49m\u001b[38;5;241;43m=\u001b[39;49m\u001b[38;5;241;43m10\u001b[39;49m\u001b[43m)\u001b[49m\n",
      "File \u001b[0;32m~/miniconda3/envs/def/lib/python3.9/site-packages/scipy/stats/_distn_infrastructure.py:3138\u001b[0m, in \u001b[0;36mrv_discrete.pmf\u001b[0;34m(self, k, *args, **kwds)\u001b[0m\n\u001b[1;32m   3119\u001b[0m \u001b[38;5;28;01mdef\u001b[39;00m \u001b[38;5;21mpmf\u001b[39m(\u001b[38;5;28mself\u001b[39m, k, \u001b[38;5;241m*\u001b[39margs, \u001b[38;5;241m*\u001b[39m\u001b[38;5;241m*\u001b[39mkwds):\n\u001b[1;32m   3120\u001b[0m     \u001b[38;5;124;03m\"\"\"Probability mass function at k of the given RV.\u001b[39;00m\n\u001b[1;32m   3121\u001b[0m \n\u001b[1;32m   3122\u001b[0m \u001b[38;5;124;03m    Parameters\u001b[39;00m\n\u001b[0;32m   (...)\u001b[0m\n\u001b[1;32m   3136\u001b[0m \n\u001b[1;32m   3137\u001b[0m \u001b[38;5;124;03m    \"\"\"\u001b[39;00m\n\u001b[0;32m-> 3138\u001b[0m     args, loc, _ \u001b[38;5;241m=\u001b[39m \u001b[38;5;28;43mself\u001b[39;49m\u001b[38;5;241;43m.\u001b[39;49m\u001b[43m_parse_args\u001b[49m\u001b[43m(\u001b[49m\u001b[38;5;241;43m*\u001b[39;49m\u001b[43margs\u001b[49m\u001b[43m,\u001b[49m\u001b[43m \u001b[49m\u001b[38;5;241;43m*\u001b[39;49m\u001b[38;5;241;43m*\u001b[39;49m\u001b[43mkwds\u001b[49m\u001b[43m)\u001b[49m\n\u001b[1;32m   3139\u001b[0m     k, loc \u001b[38;5;241m=\u001b[39m \u001b[38;5;28mmap\u001b[39m(asarray, (k, loc))\n\u001b[1;32m   3140\u001b[0m     args \u001b[38;5;241m=\u001b[39m \u001b[38;5;28mtuple\u001b[39m(\u001b[38;5;28mmap\u001b[39m(asarray, args))\n",
      "\u001b[0;31mTypeError\u001b[0m: _parse_args() missing 1 required positional argument: 'p'"
     ]
    }
   ],
   "source": [
    "n = 10\n",
    "x_values = np.arange(0, 11)\n",
    "y_values = binom.pmf(k=x_values, n=10)"
   ]
  },
  {
   "cell_type": "code",
   "execution_count": null,
   "id": "1cf05079",
   "metadata": {},
   "outputs": [],
   "source": []
  }
 ],
 "metadata": {
  "kernelspec": {
   "display_name": "Python 3 (ipykernel)",
   "language": "python",
   "name": "python3"
  },
  "language_info": {
   "codemirror_mode": {
    "name": "ipython",
    "version": 3
   },
   "file_extension": ".py",
   "mimetype": "text/x-python",
   "name": "python",
   "nbconvert_exporter": "python",
   "pygments_lexer": "ipython3",
   "version": "3.9.12"
  }
 },
 "nbformat": 4,
 "nbformat_minor": 5
}
