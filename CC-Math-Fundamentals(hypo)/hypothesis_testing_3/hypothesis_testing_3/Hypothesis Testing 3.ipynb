{
 "cells": [
  {
   "cell_type": "code",
   "execution_count": 7,
   "id": "ee20902c",
   "metadata": {},
   "outputs": [],
   "source": [
    "import numpy as np\n",
    "import pandas as pd\n",
    "import seaborn as sns\n",
    "import matplotlib.pyplot as plt\n",
    "\n",
    "from scipy.stats import ttest_ind, `,ttest_ind_from_stats,norm\n",
    "\n",
    "from statsmodels.distributions.empirical_distribution import ECDF"
   ]
  },
  {
   "cell_type": "code",
   "execution_count": 3,
   "id": "1b397b35",
   "metadata": {},
   "outputs": [
    {
     "data": {
      "text/plain": [
       "Ttest_indResult(statistic=2.3947738234213953, pvalue=0.008579470194694676)"
      ]
     },
     "execution_count": 3,
     "metadata": {},
     "output_type": "execute_result"
    }
   ],
   "source": [
    "ttest_ind_from_stats(2.87,1.08,150,2.56,1.28,200,alternative='greater')"
   ]
  },
  {
   "cell_type": "code",
   "execution_count": 6,
   "id": "2465bee0",
   "metadata": {},
   "outputs": [
    {
     "data": {
      "text/plain": [
       "Ttest_indResult(statistic=-1.2309368191721133, pvalue=0.8893537022294384)"
      ]
     },
     "execution_count": 6,
     "metadata": {},
     "output_type": "execute_result"
    }
   ],
   "source": [
    "ttest_ind_from_stats(243.5,229.5,50,300,229.5,50,alternative='greater')"
   ]
  },
  {
   "cell_type": "code",
   "execution_count": 18,
   "id": "386fdae5",
   "metadata": {},
   "outputs": [
    {
     "data": {
      "text/plain": [
       "1.2385839573969548e-06"
      ]
     },
     "execution_count": 18,
     "metadata": {},
     "output_type": "execute_result"
    }
   ],
   "source": [
    "1-norm.cdf(4.71)"
   ]
  },
  {
   "cell_type": "markdown",
   "id": "23e17c3a",
   "metadata": {},
   "source": [
    "### Two drug recovery test"
   ]
  },
  {
   "cell_type": "code",
   "execution_count": 9,
   "id": "a3962e69",
   "metadata": {},
   "outputs": [
    {
     "name": "stdout",
     "output_type": "stream",
     "text": [
      "Mean:  drug_1    7.104917\n",
      "dtype: float64\n"
     ]
    }
   ],
   "source": [
    "d1 = pd.read_csv(\"drug_1_recovery.csv\")\n",
    "print(\"Mean: \", d1.mean())"
   ]
  },
  {
   "cell_type": "code",
   "execution_count": 10,
   "id": "948c32ec",
   "metadata": {},
   "outputs": [
    {
     "name": "stdout",
     "output_type": "stream",
     "text": [
      "Mean:  drug_2    8.073423\n",
      "dtype: float64\n"
     ]
    }
   ],
   "source": [
    "d2 = pd.read_csv(\"drug_2_recovery.csv\")\n",
    "print(\"Mean: \", d2.mean())"
   ]
  },
  {
   "cell_type": "code",
   "execution_count": 15,
   "id": "756181bf",
   "metadata": {},
   "outputs": [
    {
     "name": "stdout",
     "output_type": "stream",
     "text": [
      "Test stat:  [-5.32112438]\n",
      "p-value:  [1.27713574e-07]\n",
      "Null rejected\n"
     ]
    }
   ],
   "source": [
    "## H0: u1 = u2\n",
    "## Ha: u1 < u2\n",
    "alpha = 0.01\n",
    "test_stat, p_value = ttest_ind(d1, d2, alternative=\"less\") # left-tailed test\n",
    "print(\"Test stat: \", test_stat)\n",
    "print(\"p-value: \", p_value)\n",
    "\n",
    "if p_value[0] < alpha:\n",
    "    print(\"Null rejected\")"
   ]
  },
  {
   "cell_type": "code",
   "execution_count": 16,
   "id": "634f9e17",
   "metadata": {},
   "outputs": [
    {
     "name": "stdout",
     "output_type": "stream",
     "text": [
      "Test stat:  [-5.32112438]\n",
      "p-value:  [2.55427147e-07]\n",
      "Null rejected\n"
     ]
    }
   ],
   "source": [
    "## H0: u1 = u2\n",
    "## Ha: u1 != u2\n",
    "alpha = 0.01\n",
    "test_stat, p_value = ttest_ind(d1, d2) # 2-tailed test\n",
    "print(\"Test stat: \", test_stat)\n",
    "print(\"p-value: \", p_value)\n",
    "\n",
    "if p_value[0] < alpha:\n",
    "    print(\"Null rejected\")"
   ]
  },
  {
   "cell_type": "code",
   "execution_count": 17,
   "id": "daedd256",
   "metadata": {},
   "outputs": [
    {
     "name": "stdout",
     "output_type": "stream",
     "text": [
      "Test stat:  [-5.32112438]\n",
      "p-value:  [0.99999987]\n"
     ]
    }
   ],
   "source": [
    "## H0: u1 = u2\n",
    "## Ha: u1 != u2\n",
    "alpha = 0.01\n",
    "test_stat, p_value = ttest_ind(d1, d2, alternative=\"greater\") # right-tailed test\n",
    "print(\"Test stat: \", test_stat)\n",
    "print(\"p-value: \", p_value)\n",
    "\n",
    "if p_value[0] < alpha:\n",
    "    print(\"Null rejected\")"
   ]
  },
  {
   "cell_type": "markdown",
   "id": "dc0c3925",
   "metadata": {},
   "source": [
    "### Sachin Tendulkar Batting Data Analysis"
   ]
  },
  {
   "cell_type": "code",
   "execution_count": 26,
   "id": "f70b4531",
   "metadata": {},
   "outputs": [
    {
     "data": {
      "text/html": [
       "<div>\n",
       "<style scoped>\n",
       "    .dataframe tbody tr th:only-of-type {\n",
       "        vertical-align: middle;\n",
       "    }\n",
       "\n",
       "    .dataframe tbody tr th {\n",
       "        vertical-align: top;\n",
       "    }\n",
       "\n",
       "    .dataframe thead th {\n",
       "        text-align: right;\n",
       "    }\n",
       "</style>\n",
       "<table border=\"1\" class=\"dataframe\">\n",
       "  <thead>\n",
       "    <tr style=\"text-align: right;\">\n",
       "      <th></th>\n",
       "      <th>runs</th>\n",
       "      <th>NotOut</th>\n",
       "      <th>mins</th>\n",
       "      <th>bf</th>\n",
       "      <th>fours</th>\n",
       "      <th>sixes</th>\n",
       "      <th>sr</th>\n",
       "      <th>Inns</th>\n",
       "      <th>Opp</th>\n",
       "      <th>Ground</th>\n",
       "      <th>Date</th>\n",
       "      <th>Winner</th>\n",
       "      <th>Won</th>\n",
       "      <th>century</th>\n",
       "    </tr>\n",
       "  </thead>\n",
       "  <tbody>\n",
       "    <tr>\n",
       "      <th>0</th>\n",
       "      <td>13</td>\n",
       "      <td>0</td>\n",
       "      <td>30</td>\n",
       "      <td>15</td>\n",
       "      <td>3</td>\n",
       "      <td>0</td>\n",
       "      <td>86.66</td>\n",
       "      <td>1</td>\n",
       "      <td>New Zealand</td>\n",
       "      <td>Napier</td>\n",
       "      <td>1995-02-16</td>\n",
       "      <td>New Zealand</td>\n",
       "      <td>False</td>\n",
       "      <td>False</td>\n",
       "    </tr>\n",
       "    <tr>\n",
       "      <th>1</th>\n",
       "      <td>37</td>\n",
       "      <td>0</td>\n",
       "      <td>75</td>\n",
       "      <td>51</td>\n",
       "      <td>3</td>\n",
       "      <td>1</td>\n",
       "      <td>72.54</td>\n",
       "      <td>2</td>\n",
       "      <td>South Africa</td>\n",
       "      <td>Hamilton</td>\n",
       "      <td>1995-02-18</td>\n",
       "      <td>South Africa</td>\n",
       "      <td>False</td>\n",
       "      <td>False</td>\n",
       "    </tr>\n",
       "    <tr>\n",
       "      <th>2</th>\n",
       "      <td>47</td>\n",
       "      <td>0</td>\n",
       "      <td>65</td>\n",
       "      <td>40</td>\n",
       "      <td>7</td>\n",
       "      <td>0</td>\n",
       "      <td>117.50</td>\n",
       "      <td>2</td>\n",
       "      <td>Australia</td>\n",
       "      <td>Dunedin</td>\n",
       "      <td>1995-02-22</td>\n",
       "      <td>India</td>\n",
       "      <td>True</td>\n",
       "      <td>False</td>\n",
       "    </tr>\n",
       "    <tr>\n",
       "      <th>3</th>\n",
       "      <td>48</td>\n",
       "      <td>0</td>\n",
       "      <td>37</td>\n",
       "      <td>30</td>\n",
       "      <td>9</td>\n",
       "      <td>1</td>\n",
       "      <td>160.00</td>\n",
       "      <td>2</td>\n",
       "      <td>Bangladesh</td>\n",
       "      <td>Sharjah</td>\n",
       "      <td>1995-04-05</td>\n",
       "      <td>India</td>\n",
       "      <td>True</td>\n",
       "      <td>False</td>\n",
       "    </tr>\n",
       "    <tr>\n",
       "      <th>4</th>\n",
       "      <td>4</td>\n",
       "      <td>0</td>\n",
       "      <td>13</td>\n",
       "      <td>9</td>\n",
       "      <td>1</td>\n",
       "      <td>0</td>\n",
       "      <td>44.44</td>\n",
       "      <td>2</td>\n",
       "      <td>Pakistan</td>\n",
       "      <td>Sharjah</td>\n",
       "      <td>1995-04-07</td>\n",
       "      <td>Pakistan</td>\n",
       "      <td>False</td>\n",
       "      <td>False</td>\n",
       "    </tr>\n",
       "    <tr>\n",
       "      <th>...</th>\n",
       "      <td>...</td>\n",
       "      <td>...</td>\n",
       "      <td>...</td>\n",
       "      <td>...</td>\n",
       "      <td>...</td>\n",
       "      <td>...</td>\n",
       "      <td>...</td>\n",
       "      <td>...</td>\n",
       "      <td>...</td>\n",
       "      <td>...</td>\n",
       "      <td>...</td>\n",
       "      <td>...</td>\n",
       "      <td>...</td>\n",
       "      <td>...</td>\n",
       "    </tr>\n",
       "    <tr>\n",
       "      <th>355</th>\n",
       "      <td>14</td>\n",
       "      <td>0</td>\n",
       "      <td>34</td>\n",
       "      <td>15</td>\n",
       "      <td>2</td>\n",
       "      <td>0</td>\n",
       "      <td>93.33</td>\n",
       "      <td>2</td>\n",
       "      <td>Australia</td>\n",
       "      <td>Sydney</td>\n",
       "      <td>2012-02-26</td>\n",
       "      <td>Australia</td>\n",
       "      <td>False</td>\n",
       "      <td>False</td>\n",
       "    </tr>\n",
       "    <tr>\n",
       "      <th>356</th>\n",
       "      <td>39</td>\n",
       "      <td>0</td>\n",
       "      <td>45</td>\n",
       "      <td>30</td>\n",
       "      <td>5</td>\n",
       "      <td>0</td>\n",
       "      <td>130.00</td>\n",
       "      <td>2</td>\n",
       "      <td>Sri Lanka</td>\n",
       "      <td>Hobart</td>\n",
       "      <td>2012-02-28</td>\n",
       "      <td>India</td>\n",
       "      <td>True</td>\n",
       "      <td>False</td>\n",
       "    </tr>\n",
       "    <tr>\n",
       "      <th>357</th>\n",
       "      <td>6</td>\n",
       "      <td>0</td>\n",
       "      <td>25</td>\n",
       "      <td>19</td>\n",
       "      <td>1</td>\n",
       "      <td>0</td>\n",
       "      <td>31.57</td>\n",
       "      <td>1</td>\n",
       "      <td>Sri Lanka</td>\n",
       "      <td>Dhaka</td>\n",
       "      <td>2012-03-13</td>\n",
       "      <td>India</td>\n",
       "      <td>True</td>\n",
       "      <td>False</td>\n",
       "    </tr>\n",
       "    <tr>\n",
       "      <th>358</th>\n",
       "      <td>114</td>\n",
       "      <td>0</td>\n",
       "      <td>205</td>\n",
       "      <td>147</td>\n",
       "      <td>12</td>\n",
       "      <td>1</td>\n",
       "      <td>77.55</td>\n",
       "      <td>1</td>\n",
       "      <td>Bangladesh</td>\n",
       "      <td>Dhaka</td>\n",
       "      <td>2012-03-16</td>\n",
       "      <td>Bangladesh</td>\n",
       "      <td>False</td>\n",
       "      <td>True</td>\n",
       "    </tr>\n",
       "    <tr>\n",
       "      <th>359</th>\n",
       "      <td>52</td>\n",
       "      <td>0</td>\n",
       "      <td>93</td>\n",
       "      <td>48</td>\n",
       "      <td>5</td>\n",
       "      <td>1</td>\n",
       "      <td>108.33</td>\n",
       "      <td>2</td>\n",
       "      <td>Pakistan</td>\n",
       "      <td>Dhaka</td>\n",
       "      <td>2012-03-18</td>\n",
       "      <td>India</td>\n",
       "      <td>True</td>\n",
       "      <td>False</td>\n",
       "    </tr>\n",
       "  </tbody>\n",
       "</table>\n",
       "<p>360 rows × 14 columns</p>\n",
       "</div>"
      ],
      "text/plain": [
       "     runs  NotOut mins   bf  fours  sixes      sr  Inns           Opp  \\\n",
       "0      13       0   30   15      3      0   86.66     1   New Zealand   \n",
       "1      37       0   75   51      3      1   72.54     2  South Africa   \n",
       "2      47       0   65   40      7      0  117.50     2     Australia   \n",
       "3      48       0   37   30      9      1  160.00     2    Bangladesh   \n",
       "4       4       0   13    9      1      0   44.44     2      Pakistan   \n",
       "..    ...     ...  ...  ...    ...    ...     ...   ...           ...   \n",
       "355    14       0   34   15      2      0   93.33     2     Australia   \n",
       "356    39       0   45   30      5      0  130.00     2     Sri Lanka   \n",
       "357     6       0   25   19      1      0   31.57     1     Sri Lanka   \n",
       "358   114       0  205  147     12      1   77.55     1    Bangladesh   \n",
       "359    52       0   93   48      5      1  108.33     2      Pakistan   \n",
       "\n",
       "       Ground        Date        Winner    Won  century  \n",
       "0      Napier  1995-02-16   New Zealand  False    False  \n",
       "1    Hamilton  1995-02-18  South Africa  False    False  \n",
       "2     Dunedin  1995-02-22         India   True    False  \n",
       "3     Sharjah  1995-04-05         India   True    False  \n",
       "4     Sharjah  1995-04-07      Pakistan  False    False  \n",
       "..        ...         ...           ...    ...      ...  \n",
       "355    Sydney  2012-02-26     Australia  False    False  \n",
       "356    Hobart  2012-02-28         India   True    False  \n",
       "357     Dhaka  2012-03-13         India   True    False  \n",
       "358     Dhaka  2012-03-16    Bangladesh  False     True  \n",
       "359     Dhaka  2012-03-18         India   True    False  \n",
       "\n",
       "[360 rows x 14 columns]"
      ]
     },
     "execution_count": 26,
     "metadata": {},
     "output_type": "execute_result"
    }
   ],
   "source": [
    "df = pd.read_csv(\"Sachin_ODI.csv\")\n",
    "df"
   ]
  },
  {
   "cell_type": "markdown",
   "id": "6e2ef137",
   "metadata": {},
   "source": [
    "### First innings vs. Second innings"
   ]
  },
  {
   "cell_type": "code",
   "execution_count": 27,
   "id": "4de887c6",
   "metadata": {
    "scrolled": true
   },
   "outputs": [
    {
     "data": {
      "text/plain": [
       "Inns\n",
       "1    46.670588\n",
       "2    40.173684\n",
       "Name: runs, dtype: float64"
      ]
     },
     "execution_count": 27,
     "metadata": {},
     "output_type": "execute_result"
    }
   ],
   "source": [
    "df.groupby([\"Inns\"])[\"runs\"].mean()"
   ]
  },
  {
   "cell_type": "code",
   "execution_count": 37,
   "id": "7dc49dfb",
   "metadata": {},
   "outputs": [
    {
     "name": "stdout",
     "output_type": "stream",
     "text": [
      "Test stat:  1.4612016295532178\n",
      "p-value:  0.14483724194759964\n"
     ]
    }
   ],
   "source": [
    "d1 = df[df[\"Inns\"]==1][\"runs\"]\n",
    "d2 = df[df[\"Inns\"]==2][\"runs\"]\n",
    "\n",
    "## We saw last class that p-value for 1-sample test was not < 0.05\n",
    "test_stat, p_value = ttest_ind(d1, d2) # two-tailed test\n",
    "print(\"Test stat: \", test_stat)\n",
    "print(\"p-value: \", p_value)\n",
    "\n",
    "if p_value < alpha:\n",
    "    print(\"Null rejected\")"
   ]
  },
  {
   "cell_type": "code",
   "execution_count": 44,
   "id": "15777e52",
   "metadata": {},
   "outputs": [],
   "source": [
    "e1 = ECDF(d1)\n",
    "e2 = ECDF(d2)"
   ]
  },
  {
   "cell_type": "code",
   "execution_count": 47,
   "id": "42ada494",
   "metadata": {},
   "outputs": [
    {
     "data": {
      "text/plain": [
       "[<matplotlib.lines.Line2D at 0x1553f8bb0>]"
      ]
     },
     "execution_count": 47,
     "metadata": {},
     "output_type": "execute_result"
    },
    {
     "data": {
      "image/png": "[encoded data removed]",
      "text/plain": [
       "<Figure size 432x288 with 1 Axes>"
      ]
     },
     "metadata": {
      "needs_background": "light"
     },
     "output_type": "display_data"
    }
   ],
   "source": [
    "plt.figure()\n",
    "plt.plot(e1.x, e1.y, c='b')\n",
    "plt.plot(e2.x, e2.y, c='r')"
   ]
  },
  {
   "cell_type": "code",
   "execution_count": 59,
   "id": "ba29ef72",
   "metadata": {},
   "outputs": [
    {
     "data": {
      "text/plain": [
       "KstestResult(statistic=0.10990712074303406, pvalue=0.2086874783173226)"
      ]
     },
     "execution_count": 59,
     "metadata": {},
     "output_type": "execute_result"
    }
   ],
   "source": [
    "kstest(d1, d2)"
   ]
  },
  {
   "cell_type": "markdown",
   "id": "958fe7e0",
   "metadata": {},
   "source": [
    "### Runs when India won vs. lost"
   ]
  },
  {
   "cell_type": "code",
   "execution_count": 61,
   "id": "d3ae8c0d",
   "metadata": {},
   "outputs": [],
   "source": [
    "df_won = df[df[\"Won\"]==True][\"runs\"]\n",
    "df_lost = df[df[\"Won\"]==False][\"runs\"]"
   ]
  },
  {
   "cell_type": "code",
   "execution_count": 62,
   "id": "4a3ea608",
   "metadata": {},
   "outputs": [],
   "source": [
    "e1 = ECDF(df_won)\n",
    "e2 = ECDF(df_lost)"
   ]
  },
  {
   "cell_type": "code",
   "execution_count": 63,
   "id": "95ff7519",
   "metadata": {},
   "outputs": [
    {
     "data": {
      "text/plain": [
       "[<matplotlib.lines.Line2D at 0x1554bd3a0>]"
      ]
     },
     "execution_count": 63,
     "metadata": {},
     "output_type": "execute_result"
    },
    {
     "data": {
      "image/png": "[encoded data removed]",
      "text/plain": [
       "<Figure size 432x288 with 1 Axes>"
      ]
     },
     "metadata": {
      "needs_background": "light"
     },
     "output_type": "display_data"
    }
   ],
   "source": [
    "plt.figure()\n",
    "plt.plot(e1.x, e1.y, c='b')\n",
    "plt.plot(e2.x, e2.y, c='r')"
   ]
  },
  {
   "cell_type": "code",
   "execution_count": 64,
   "id": "47bb3c61",
   "metadata": {},
   "outputs": [
    {
     "data": {
      "text/plain": [
       "KstestResult(statistic=0.20602766798418973, pvalue=0.0007769531141107455)"
      ]
     },
     "execution_count": 64,
     "metadata": {},
     "output_type": "execute_result"
    }
   ],
   "source": [
    "kstest(df_won, df_lost)"
   ]
  },
  {
   "cell_type": "markdown",
   "id": "794f6e67",
   "metadata": {},
   "source": [
    "## Youtube 2-ads example"
   ]
  },
  {
   "cell_type": "code",
   "execution_count": 67,
   "id": "064f430c",
   "metadata": {},
   "outputs": [
    {
     "data": {
      "text/html": [
       "<div>\n",
       "<style scoped>\n",
       "    .dataframe tbody tr th:only-of-type {\n",
       "        vertical-align: middle;\n",
       "    }\n",
       "\n",
       "    .dataframe tbody tr th {\n",
       "        vertical-align: top;\n",
       "    }\n",
       "\n",
       "    .dataframe thead th {\n",
       "        text-align: right;\n",
       "    }\n",
       "</style>\n",
       "<table border=\"1\" class=\"dataframe\">\n",
       "  <thead>\n",
       "    <tr style=\"text-align: right;\">\n",
       "      <th></th>\n",
       "      <th>date</th>\n",
       "      <th>customer_id</th>\n",
       "      <th>premium</th>\n",
       "      <th>watch_time_hrs</th>\n",
       "      <th>customer_segmnt</th>\n",
       "    </tr>\n",
       "  </thead>\n",
       "  <tbody>\n",
       "    <tr>\n",
       "      <th>6014</th>\n",
       "      <td>2018-10-13</td>\n",
       "      <td>760</td>\n",
       "      <td>0</td>\n",
       "      <td>2.293333</td>\n",
       "      <td>treatment</td>\n",
       "    </tr>\n",
       "    <tr>\n",
       "      <th>11950</th>\n",
       "      <td>2018-06-04</td>\n",
       "      <td>440</td>\n",
       "      <td>0</td>\n",
       "      <td>1.032188</td>\n",
       "      <td>control</td>\n",
       "    </tr>\n",
       "    <tr>\n",
       "      <th>5117</th>\n",
       "      <td>2018-11-04</td>\n",
       "      <td>410</td>\n",
       "      <td>0</td>\n",
       "      <td>0.810031</td>\n",
       "      <td>control</td>\n",
       "    </tr>\n",
       "    <tr>\n",
       "      <th>5300</th>\n",
       "      <td>2018-08-07</td>\n",
       "      <td>82</td>\n",
       "      <td>0</td>\n",
       "      <td>3.317615</td>\n",
       "      <td>control</td>\n",
       "    </tr>\n",
       "    <tr>\n",
       "      <th>12746</th>\n",
       "      <td>2018-10-22</td>\n",
       "      <td>589</td>\n",
       "      <td>0</td>\n",
       "      <td>0.966387</td>\n",
       "      <td>treatment</td>\n",
       "    </tr>\n",
       "    <tr>\n",
       "      <th>...</th>\n",
       "      <td>...</td>\n",
       "      <td>...</td>\n",
       "      <td>...</td>\n",
       "      <td>...</td>\n",
       "      <td>...</td>\n",
       "    </tr>\n",
       "    <tr>\n",
       "      <th>9543</th>\n",
       "      <td>2018-09-25</td>\n",
       "      <td>370</td>\n",
       "      <td>0</td>\n",
       "      <td>2.567534</td>\n",
       "      <td>control</td>\n",
       "    </tr>\n",
       "    <tr>\n",
       "      <th>16333</th>\n",
       "      <td>2018-07-10</td>\n",
       "      <td>859</td>\n",
       "      <td>0</td>\n",
       "      <td>1.215803</td>\n",
       "      <td>treatment</td>\n",
       "    </tr>\n",
       "    <tr>\n",
       "      <th>4370</th>\n",
       "      <td>2018-07-25</td>\n",
       "      <td>552</td>\n",
       "      <td>0</td>\n",
       "      <td>2.005096</td>\n",
       "      <td>treatment</td>\n",
       "    </tr>\n",
       "    <tr>\n",
       "      <th>6976</th>\n",
       "      <td>2018-09-22</td>\n",
       "      <td>329</td>\n",
       "      <td>0</td>\n",
       "      <td>0.595806</td>\n",
       "      <td>control</td>\n",
       "    </tr>\n",
       "    <tr>\n",
       "      <th>5944</th>\n",
       "      <td>2018-10-12</td>\n",
       "      <td>981</td>\n",
       "      <td>0</td>\n",
       "      <td>6.403412</td>\n",
       "      <td>treatment</td>\n",
       "    </tr>\n",
       "  </tbody>\n",
       "</table>\n",
       "<p>100 rows × 5 columns</p>\n",
       "</div>"
      ],
      "text/plain": [
       "             date  customer_id  premium  watch_time_hrs customer_segmnt\n",
       "6014   2018-10-13          760        0        2.293333       treatment\n",
       "11950  2018-06-04          440        0        1.032188         control\n",
       "5117   2018-11-04          410        0        0.810031         control\n",
       "5300   2018-08-07           82        0        3.317615         control\n",
       "12746  2018-10-22          589        0        0.966387       treatment\n",
       "...           ...          ...      ...             ...             ...\n",
       "9543   2018-09-25          370        0        2.567534         control\n",
       "16333  2018-07-10          859        0        1.215803       treatment\n",
       "4370   2018-07-25          552        0        2.005096       treatment\n",
       "6976   2018-09-22          329        0        0.595806         control\n",
       "5944   2018-10-12          981        0        6.403412       treatment\n",
       "\n",
       "[100 rows x 5 columns]"
      ]
     },
     "execution_count": 67,
     "metadata": {},
     "output_type": "execute_result"
    }
   ],
   "source": [
    "youtube_data = pd.read_csv(\"youtube.csv\")\n",
    "youtube_data.sample(100)\n",
    "\n",
    "## Here, control - 1 ad\n",
    "## treatment - 2 ads"
   ]
  },
  {
   "cell_type": "code",
   "execution_count": 68,
   "id": "a5c08c31",
   "metadata": {},
   "outputs": [
    {
     "data": {
      "text/plain": [
       "(20000, 5)"
      ]
     },
     "execution_count": 68,
     "metadata": {},
     "output_type": "execute_result"
    }
   ],
   "source": [
    "youtube_data.shape"
   ]
  },
  {
   "cell_type": "code",
   "execution_count": 69,
   "id": "427f9716",
   "metadata": {},
   "outputs": [
    {
     "data": {
      "text/plain": [
       "control      10000\n",
       "treatment    10000\n",
       "Name: customer_segmnt, dtype: int64"
      ]
     },
     "execution_count": 69,
     "metadata": {},
     "output_type": "execute_result"
    }
   ],
   "source": [
    "youtube_data['customer_segmnt'].value_counts()"
   ]
  },
  {
   "cell_type": "code",
   "execution_count": 70,
   "id": "868ca109",
   "metadata": {},
   "outputs": [
    {
     "data": {
      "text/html": [
       "<div>\n",
       "<style scoped>\n",
       "    .dataframe tbody tr th:only-of-type {\n",
       "        vertical-align: middle;\n",
       "    }\n",
       "\n",
       "    .dataframe tbody tr th {\n",
       "        vertical-align: top;\n",
       "    }\n",
       "\n",
       "    .dataframe thead th {\n",
       "        text-align: right;\n",
       "    }\n",
       "</style>\n",
       "<table border=\"1\" class=\"dataframe\">\n",
       "  <thead>\n",
       "    <tr style=\"text-align: right;\">\n",
       "      <th></th>\n",
       "      <th>customer_id</th>\n",
       "      <th>premium</th>\n",
       "      <th>watch_time_hrs</th>\n",
       "    </tr>\n",
       "  </thead>\n",
       "  <tbody>\n",
       "    <tr>\n",
       "      <th>count</th>\n",
       "      <td>20000.000000</td>\n",
       "      <td>20000.000000</td>\n",
       "      <td>20000.000000</td>\n",
       "    </tr>\n",
       "    <tr>\n",
       "      <th>mean</th>\n",
       "      <td>499.001650</td>\n",
       "      <td>0.176750</td>\n",
       "      <td>9.362542</td>\n",
       "    </tr>\n",
       "    <tr>\n",
       "      <th>std</th>\n",
       "      <td>288.223444</td>\n",
       "      <td>0.381467</td>\n",
       "      <td>244.884839</td>\n",
       "    </tr>\n",
       "    <tr>\n",
       "      <th>min</th>\n",
       "      <td>0.000000</td>\n",
       "      <td>0.000000</td>\n",
       "      <td>0.160268</td>\n",
       "    </tr>\n",
       "    <tr>\n",
       "      <th>25%</th>\n",
       "      <td>249.000000</td>\n",
       "      <td>0.000000</td>\n",
       "      <td>1.678066</td>\n",
       "    </tr>\n",
       "    <tr>\n",
       "      <th>50%</th>\n",
       "      <td>500.000000</td>\n",
       "      <td>0.000000</td>\n",
       "      <td>2.670953</td>\n",
       "    </tr>\n",
       "    <tr>\n",
       "      <th>75%</th>\n",
       "      <td>747.000000</td>\n",
       "      <td>0.000000</td>\n",
       "      <td>4.204673</td>\n",
       "    </tr>\n",
       "    <tr>\n",
       "      <th>max</th>\n",
       "      <td>999.000000</td>\n",
       "      <td>1.000000</td>\n",
       "      <td>10007.648185</td>\n",
       "    </tr>\n",
       "  </tbody>\n",
       "</table>\n",
       "</div>"
      ],
      "text/plain": [
       "        customer_id       premium  watch_time_hrs\n",
       "count  20000.000000  20000.000000    20000.000000\n",
       "mean     499.001650      0.176750        9.362542\n",
       "std      288.223444      0.381467      244.884839\n",
       "min        0.000000      0.000000        0.160268\n",
       "25%      249.000000      0.000000        1.678066\n",
       "50%      500.000000      0.000000        2.670953\n",
       "75%      747.000000      0.000000        4.204673\n",
       "max      999.000000      1.000000    10007.648185"
      ]
     },
     "execution_count": 70,
     "metadata": {},
     "output_type": "execute_result"
    }
   ],
   "source": [
    "youtube_data.describe()"
   ]
  },
  {
   "cell_type": "code",
   "execution_count": 71,
   "id": "3ee8b77e",
   "metadata": {},
   "outputs": [
    {
     "data": {
      "text/plain": [
       "21.356607722117484"
      ]
     },
     "execution_count": 71,
     "metadata": {},
     "output_type": "execute_result"
    }
   ],
   "source": [
    "youtube_data[\"watch_time_hrs\"].quantile(0.998)"
   ]
  },
  {
   "cell_type": "code",
   "execution_count": 72,
   "id": "c6c76e4e",
   "metadata": {},
   "outputs": [],
   "source": [
    "# Outlier\n",
    "q998 = youtube_data[\"watch_time_hrs\"].quantile(0.998)\n",
    "youtube_data_no_out = youtube_data[youtube_data[\"watch_time_hrs\"] < q998]"
   ]
  },
  {
   "cell_type": "code",
   "execution_count": 73,
   "id": "c2ef7fd0",
   "metadata": {},
   "outputs": [
    {
     "data": {
      "text/html": [
       "<div>\n",
       "<style scoped>\n",
       "    .dataframe tbody tr th:only-of-type {\n",
       "        vertical-align: middle;\n",
       "    }\n",
       "\n",
       "    .dataframe tbody tr th {\n",
       "        vertical-align: top;\n",
       "    }\n",
       "\n",
       "    .dataframe thead th {\n",
       "        text-align: right;\n",
       "    }\n",
       "</style>\n",
       "<table border=\"1\" class=\"dataframe\">\n",
       "  <thead>\n",
       "    <tr style=\"text-align: right;\">\n",
       "      <th></th>\n",
       "      <th>customer_id</th>\n",
       "      <th>premium</th>\n",
       "      <th>watch_time_hrs</th>\n",
       "    </tr>\n",
       "  </thead>\n",
       "  <tbody>\n",
       "    <tr>\n",
       "      <th>count</th>\n",
       "      <td>19960.000000</td>\n",
       "      <td>19960.000000</td>\n",
       "      <td>19960.000000</td>\n",
       "    </tr>\n",
       "    <tr>\n",
       "      <th>mean</th>\n",
       "      <td>499.160271</td>\n",
       "      <td>0.176653</td>\n",
       "      <td>3.331932</td>\n",
       "    </tr>\n",
       "    <tr>\n",
       "      <th>std</th>\n",
       "      <td>288.249181</td>\n",
       "      <td>0.381385</td>\n",
       "      <td>2.474943</td>\n",
       "    </tr>\n",
       "    <tr>\n",
       "      <th>min</th>\n",
       "      <td>0.000000</td>\n",
       "      <td>0.000000</td>\n",
       "      <td>0.160268</td>\n",
       "    </tr>\n",
       "    <tr>\n",
       "      <th>25%</th>\n",
       "      <td>249.000000</td>\n",
       "      <td>0.000000</td>\n",
       "      <td>1.676373</td>\n",
       "    </tr>\n",
       "    <tr>\n",
       "      <th>50%</th>\n",
       "      <td>501.000000</td>\n",
       "      <td>0.000000</td>\n",
       "      <td>2.664286</td>\n",
       "    </tr>\n",
       "    <tr>\n",
       "      <th>75%</th>\n",
       "      <td>747.000000</td>\n",
       "      <td>0.000000</td>\n",
       "      <td>4.186733</td>\n",
       "    </tr>\n",
       "    <tr>\n",
       "      <th>max</th>\n",
       "      <td>999.000000</td>\n",
       "      <td>1.000000</td>\n",
       "      <td>21.356119</td>\n",
       "    </tr>\n",
       "  </tbody>\n",
       "</table>\n",
       "</div>"
      ],
      "text/plain": [
       "        customer_id       premium  watch_time_hrs\n",
       "count  19960.000000  19960.000000    19960.000000\n",
       "mean     499.160271      0.176653        3.331932\n",
       "std      288.249181      0.381385        2.474943\n",
       "min        0.000000      0.000000        0.160268\n",
       "25%      249.000000      0.000000        1.676373\n",
       "50%      501.000000      0.000000        2.664286\n",
       "75%      747.000000      0.000000        4.186733\n",
       "max      999.000000      1.000000       21.356119"
      ]
     },
     "execution_count": 73,
     "metadata": {},
     "output_type": "execute_result"
    }
   ],
   "source": [
    "youtube_data_no_out.describe()"
   ]
  },
  {
   "cell_type": "code",
   "execution_count": 74,
   "id": "3e431c01",
   "metadata": {},
   "outputs": [
    {
     "data": {
      "image/png": "[encoded data removed]",
      "text/plain": [
       "<Figure size 432x288 with 1 Axes>"
      ]
     },
     "metadata": {
      "needs_background": "light"
     },
     "output_type": "display_data"
    }
   ],
   "source": [
    "sns.histplot(youtube_data_no_out['watch_time_hrs'], bins=100)\n",
    "plt.show()"
   ]
  },
  {
   "cell_type": "code",
   "execution_count": 75,
   "id": "cb78038e",
   "metadata": {},
   "outputs": [],
   "source": [
    "control_data = youtube_data_no_out[youtube_data_no_out[\"customer_segmnt\"] == \"control\"]\n",
    "treatment_data = youtube_data_no_out[youtube_data_no_out[\"customer_segmnt\"] == \"treatment\"]"
   ]
  },
  {
   "cell_type": "code",
   "execution_count": 76,
   "id": "2d396a78",
   "metadata": {},
   "outputs": [
    {
     "data": {
      "text/plain": [
       "3.6099602285795642"
      ]
     },
     "execution_count": 76,
     "metadata": {},
     "output_type": "execute_result"
    }
   ],
   "source": [
    "control_data[\"watch_time_hrs\"].mean()"
   ]
  },
  {
   "cell_type": "code",
   "execution_count": 77,
   "id": "e3e5b3a5",
   "metadata": {},
   "outputs": [
    {
     "data": {
      "text/plain": [
       "3.054293679735035"
      ]
     },
     "execution_count": 77,
     "metadata": {},
     "output_type": "execute_result"
    }
   ],
   "source": [
    "treatment_data[\"watch_time_hrs\"].mean()"
   ]
  },
  {
   "cell_type": "code",
   "execution_count": 79,
   "id": "9dd9bac9",
   "metadata": {},
   "outputs": [
    {
     "name": "stdout",
     "output_type": "stream",
     "text": [
      "2.719204293115659e-57\n"
     ]
    }
   ],
   "source": [
    "## u1 - 3.6, u2 - 3.0, u1>u2\n",
    "tstat, p = ttest_ind(control_data[\"watch_time_hrs\"], treatment_data[\"watch_time_hrs\"], alternative=\"greater\")\n",
    "print(p)"
   ]
  },
  {
   "cell_type": "markdown",
   "id": "02120031",
   "metadata": {},
   "source": [
    "### Manually computing the 2-sided ttest"
   ]
  },
  {
   "cell_type": "code",
   "execution_count": 80,
   "id": "794e9130",
   "metadata": {},
   "outputs": [
    {
     "name": "stdout",
     "output_type": "stream",
     "text": [
      "Mean:  drug_1    7.104917\n",
      "dtype: float64\n"
     ]
    }
   ],
   "source": [
    "d1 = pd.read_csv(\"drug_1_recovery.csv\")\n",
    "print(\"Mean: \", d1.mean())"
   ]
  },
  {
   "cell_type": "code",
   "execution_count": 81,
   "id": "4b3d1641",
   "metadata": {},
   "outputs": [
    {
     "name": "stdout",
     "output_type": "stream",
     "text": [
      "Mean:  drug_2    8.073423\n",
      "dtype: float64\n"
     ]
    }
   ],
   "source": [
    "d2 = pd.read_csv(\"drug_2_recovery.csv\")\n",
    "print(\"Mean: \", d2.mean())"
   ]
  },
  {
   "cell_type": "code",
   "execution_count": 82,
   "id": "92fe476e",
   "metadata": {},
   "outputs": [
    {
     "name": "stdout",
     "output_type": "stream",
     "text": [
      "Test stat:  [-5.32112438]\n",
      "p-value:  [2.55427147e-07]\n",
      "Null rejected\n"
     ]
    }
   ],
   "source": [
    "## H0: u1 = u2\n",
    "## Ha: u1 != u2\n",
    "alpha = 0.01\n",
    "test_stat, p_value = ttest_ind(d1, d2) # 2-tailed test\n",
    "print(\"Test stat: \", test_stat)\n",
    "print(\"p-value: \", p_value)\n",
    "\n",
    "if p_value[0] < alpha:\n",
    "    print(\"Null rejected\")"
   ]
  },
  {
   "cell_type": "code",
   "execution_count": 104,
   "id": "8b62d4de",
   "metadata": {},
   "outputs": [],
   "source": [
    "t_stat = (d1[\"drug_1\"].mean() - d2[\"drug_2\"].mean()) / np.sqrt( (d1[\"drug_1\"].var()/ (len(d1) - 1) ) + (d2[\"drug_2\"].var() / (len(d2) - 1) ) )"
   ]
  },
  {
   "cell_type": "code",
   "execution_count": 105,
   "id": "8d9328c0",
   "metadata": {},
   "outputs": [
    {
     "data": {
      "text/plain": [
       "-5.4609597826397005"
      ]
     },
     "execution_count": 105,
     "metadata": {},
     "output_type": "execute_result"
    }
   ],
   "source": [
    "t_stat"
   ]
  },
  {
   "cell_type": "code",
   "execution_count": 92,
   "id": "fbeba57d",
   "metadata": {},
   "outputs": [
    {
     "data": {
      "text/plain": [
       "0    1.425612\n",
       "dtype: float64"
      ]
     },
     "execution_count": 92,
     "metadata": {},
     "output_type": "execute_result"
    }
   ],
   "source": [
    "pooled.std()"
   ]
  },
  {
   "cell_type": "code",
   "execution_count": 93,
   "id": "b43a8f88",
   "metadata": {},
   "outputs": [
    {
     "data": {
      "text/plain": [
       "220"
      ]
     },
     "execution_count": 93,
     "metadata": {},
     "output_type": "execute_result"
    }
   ],
   "source": [
    "len(pooled)"
   ]
  },
  {
   "cell_type": "code",
   "execution_count": null,
   "id": "8ad6c95b",
   "metadata": {},
   "outputs": [],
   "source": []
  }
 ],
 "metadata": {
  "kernelspec": {
   "display_name": "Python 3 (ipykernel)",
   "language": "python",
   "name": "python3"
  },
  "language_info": {
   "codemirror_mode": {
    "name": "ipython",
    "version": 3
   },
   "file_extension": ".py",
   "mimetype": "text/x-python",
   "name": "python",
   "nbconvert_exporter": "python",
   "pygments_lexer": "ipython3",
   "version": "3.9.13"
  }
 },
 "nbformat": 4,
 "nbformat_minor": 5
}
