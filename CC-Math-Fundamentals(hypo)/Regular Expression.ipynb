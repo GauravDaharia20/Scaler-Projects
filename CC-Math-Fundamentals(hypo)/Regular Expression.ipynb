{
 "cells": [
  {
   "cell_type": "code",
   "execution_count": 67,
   "id": "739f873d",
   "metadata": {},
   "outputs": [],
   "source": [
    "data = open('data.txt','r').readlines()"
   ]
  },
  {
   "cell_type": "code",
   "execution_count": 69,
   "id": "57a27ba1",
   "metadata": {},
   "outputs": [
    {
     "data": {
      "text/plain": [
       "['Dave Martin\\n',\n",
       " '615-555-7164\\n',\n",
       " '173 Main St., Springfield RI 55924\\n',\n",
       " 'davemartin@bogusemail.com\\n',\n",
       " '\\n',\n",
       " 'Charles Harris\\n',\n",
       " '800-555-5669\\n',\n",
       " '969 High St., Atlantis VA 34075\\n',\n",
       " 'charlesharris@bogusemail.com\\n',\n",
       " '\\n',\n",
       " 'Eric Williams\\n',\n",
       " '560-555-5153\\n',\n",
       " '806 1st St., Faketown AK 86847\\n',\n",
       " 'laurawilliams@bogusemail.com\\n',\n",
       " '\\n',\n",
       " 'Corey Jefferson\\n',\n",
       " '900-555-9340\\n',\n",
       " '826 Elm St., Epicburg NE 10671\\n',\n",
       " 'coreyjefferson@bogusemail.com\\n',\n",
       " '\\n',\n",
       " 'Jennifer Martin-White\\n',\n",
       " '714-555-7405\\n',\n",
       " '212 Cedar St., Sunnydale CT 74983\\n',\n",
       " 'jenniferwhite@bogusemail.com\\n',\n",
       " '\\n',\n",
       " 'Erick Davis\\n',\n",
       " '800-555-6771\\n',\n",
       " '519 Washington St., Olympus TN 32425\\n',\n",
       " 'tomdavis@bogusemail.com\\n',\n",
       " '\\n',\n",
       " 'Neil Patterson\\n',\n",
       " '783-555-4799\\n',\n",
       " '625 Oak St., Dawnstar IL 61914\\n',\n",
       " 'neilpatterson@bogusemail.com\\n',\n",
       " '\\n',\n",
       " 'Laura Jefferson\\n',\n",
       " '516-555-4615\\n',\n",
       " '890 Main St., Pythonville LA 29947\\n',\n",
       " 'laurajefferson@bogusemail.com\\n',\n",
       " '\\n',\n",
       " 'Maria Johnson\\n',\n",
       " '127-555-1867\\n',\n",
       " '884 High St., Braavosâ€Ž ME 43597\\n',\n",
       " 'mariajohnson@bogusemail.com\\n',\n",
       " '\\n',\n",
       " 'Michael Arnold\\n',\n",
       " '608-555-4938\\n',\n",
       " '249 Elm St., Quahog OR 90938\\n',\n",
       " 'michaelarnold@bogusemail.com\\n',\n",
       " '\\n',\n",
       " 'Michael Smith\\n',\n",
       " '568-555-6051\\n',\n",
       " '619 Park St., Winterfell VA 99000\\n',\n",
       " 'michaelsmith@bogusemail.com\\n',\n",
       " '\\n',\n",
       " 'Erik Stuart\\n',\n",
       " '292-555-1875\\n',\n",
       " '220 Cedar St., Lakeview NY 87282\\n',\n",
       " 'robertstuart@bogusemail.com\\n',\n",
       " '\\n',\n",
       " 'Laura Martin\\n',\n",
       " '900-555-3205\\n',\n",
       " '391 High St., Smalltown WY 28362\\n',\n",
       " 'lauramartin@bogusemail.com\\n',\n",
       " '\\n',\n",
       " 'Barbara Martin\\n',\n",
       " '614-555-1166\\n',\n",
       " '121 Hill St., Braavosâ€Ž UT 92474\\n',\n",
       " 'barbaramartin@bogusemail.com\\n',\n",
       " '\\n',\n",
       " 'Linda Jackson\\n',\n",
       " '530-555-2676\\n',\n",
       " '433 Elm St., Westworld TX 61967\\n',\n",
       " 'lindajackson@bogusemail.com\\n',\n",
       " '\\n',\n",
       " 'Eric Miller\\n',\n",
       " '470-555-2750\\n',\n",
       " '838 Main St., Balmora MT 56526\\n',\n",
       " 'stevemiller@bogusemail.com\\n',\n",
       " '\\n',\n",
       " 'Dave Arnold\\n',\n",
       " '800-555-6089\\n',\n",
       " '732 High St., Valyria KY 97152\\n',\n",
       " 'davearnold@bogusemail.com\\n',\n",
       " '\\n',\n",
       " 'Jennifer Jacobs\\n',\n",
       " '880-555-8319\\n',\n",
       " '217 High St., Old-town IA 82767\\n',\n",
       " 'jenniferjacobs@bogusemail.com\\n',\n",
       " '\\n',\n",
       " 'Neil Wilson\\n',\n",
       " '777-555-8378\\n',\n",
       " '191 Main St., Mordor IL 72160\\n',\n",
       " 'neilwilson@bogusemail.com\\n',\n",
       " '\\n',\n",
       " 'Kurt Jackson\\n',\n",
       " '998-555-7385\\n',\n",
       " '607 Washington St., Blackwater NH 97183\\n',\n",
       " 'kurtjackson@bogusemail.com\\n',\n",
       " '\\n',\n",
       " 'Mary Jacobs\\n',\n",
       " '800-555-7100\\n',\n",
       " '478 Oak St., Bedrock IA 58176\\n',\n",
       " 'maryjacobs@bogusemail.com\\n',\n",
       " '\\n',\n",
       " 'Michael White\\n',\n",
       " '903-555-8277\\n',\n",
       " '906 Elm St., Mordor TX 89212\\n',\n",
       " 'michaelwhite@bogusemail.com\\n',\n",
       " '\\n',\n",
       " 'Jennifer Jenkins\\n',\n",
       " '196-555-5674\\n',\n",
       " '949 Main St., Smalltown SC 96962\\n',\n",
       " 'jenniferjenkins@bogusemail.com\\n',\n",
       " '\\n',\n",
       " 'Sam Wright\\n',\n",
       " '900-555-5118\\n',\n",
       " '835 Pearl St., Smalltown ND 77737\\n',\n",
       " 'samwright@bogusemail.com\\n',\n",
       " '\\n',\n",
       " 'John Davis\\n',\n",
       " '905-555-1630\\n',\n",
       " '451 Lake St., Bedrock GA 34615\\n',\n",
       " 'johndavis@bogusemail.com\\n',\n",
       " '\\n',\n",
       " 'Eric Davis\\n',\n",
       " '203-555-3475\\n',\n",
       " '419 Lake St., Balmora OR 30826\\n',\n",
       " 'neildavis@bogusemail.com\\n',\n",
       " '\\n',\n",
       " 'Laura Jackson\\n',\n",
       " '884-555-8444\\n',\n",
       " '443 Maple St., Quahog MS 29348\\n',\n",
       " 'laurajackson@bogusemail.com\\n',\n",
       " '\\n',\n",
       " 'John Williams\\n',\n",
       " '904-555-8559\\n',\n",
       " '756 Hill St., Valyria KY 94854\\n',\n",
       " 'johnwilliams@bogusemail.com\\n',\n",
       " '\\n',\n",
       " 'Michael Martin\\n',\n",
       " '889-555-7393\\n',\n",
       " '216 High St., Olympus NV 21888\\n',\n",
       " 'michaelmartin@bogusemail.com\\n',\n",
       " '\\n',\n",
       " 'Maggie Brown\\n',\n",
       " '195-555-2405\\n',\n",
       " '806 Lake St., Lakeview MD 59348\\n',\n",
       " 'maggiebrown@bogusemail.com\\n',\n",
       " '\\n',\n",
       " 'Erik Wilson\\n',\n",
       " '321-555-9053\\n',\n",
       " '354 Hill St., Mordor FL 74122\\n',\n",
       " 'kurtwilson@bogusemail.com\\n',\n",
       " '\\n',\n",
       " 'Elizabeth Arnold\\n',\n",
       " '133-555-1711\\n',\n",
       " '805 Maple St., Winterfell NV 99431\\n',\n",
       " 'elizabetharnold@bogusemail.com\\n',\n",
       " '\\n',\n",
       " 'Jane Martin\\n',\n",
       " '900-555-5428\\n',\n",
       " '418 Park St., Metropolis ID 16576\\n',\n",
       " 'janemartin@bogusemail.com\\n',\n",
       " '\\n',\n",
       " 'Travis Johnson\\n',\n",
       " '760-555-7147\\n',\n",
       " '749 Washington St., Braavosâ€Ž SD 25668\\n',\n",
       " 'travisjohnson@bogusemail.com\\n',\n",
       " '\\n',\n",
       " 'Laura Jefferson\\n',\n",
       " '391-555-6621\\n',\n",
       " '122 High St., Metropolis ME 29540\\n',\n",
       " 'laurajefferson@bogusemail.com\\n',\n",
       " '\\n',\n",
       " 'Tom Williams\\n',\n",
       " '932-555-7724\\n',\n",
       " '610 High St., Old-town FL 60758\\n',\n",
       " 'tomwilliams@bogusemail.com\\n',\n",
       " '\\n',\n",
       " 'Jennifer Taylor\\n',\n",
       " '609-555-7908\\n',\n",
       " '332 Main St., Pythonville OH 78172\\n',\n",
       " 'jennifertaylor@bogusemail.com\\n',\n",
       " '\\n',\n",
       " 'Erick Wright\\n',\n",
       " '800-555-8810\\n',\n",
       " '858 Hill St., Blackwater NC 79714\\n',\n",
       " 'jenniferwright@bogusemail.com\\n',\n",
       " '\\n',\n",
       " 'Steve Doe\\n',\n",
       " '149-555-7657\\n',\n",
       " '441 Elm St., Atlantis MS 87195\\n',\n",
       " 'stevedoe@bogusemail.com\\n',\n",
       " '\\n',\n",
       " 'Kurt Davis\\n',\n",
       " '130-555-9709\\n',\n",
       " '404 Oak St., Atlantis ND 85386\\n',\n",
       " 'kurtdavis@bogusemail.com\\n',\n",
       " '\\n',\n",
       " 'Corey Harris\\n',\n",
       " '143-555-9295\\n',\n",
       " '286 Pearl St., Vice City TX 57112\\n',\n",
       " 'coreyharris@bogusemail.com\\n',\n",
       " '\\n',\n",
       " 'Nicole Taylor\\n',\n",
       " '903-555-9878\\n',\n",
       " '465 Hill St., Old-town LA 64102\\n',\n",
       " 'nicoletaylor@bogusemail.com\\n',\n",
       " '\\n',\n",
       " 'Elizabeth Davis\\n',\n",
       " '574-555-3194\\n',\n",
       " '151 Lake St., Eerie SD 17880\\n',\n",
       " 'elizabethdavis@bogusemail.com\\n',\n",
       " '\\n',\n",
       " 'Maggie Jenkins\\n',\n",
       " '496-555-7533\\n',\n",
       " '504 Lake St., Gotham PA 46692\\n',\n",
       " 'maggiejenkins@bogusemail.com\\n',\n",
       " '\\n',\n",
       " 'Linda Davis\\n',\n",
       " '210-555-3757\\n',\n",
       " '201 Pine St., Vice City AR 78455\\n',\n",
       " 'lindadavis@bogusemail.com\\n',\n",
       " '\\n',\n",
       " 'Dave Moore\\n',\n",
       " '900-555-9598\\n',\n",
       " '251 Pine St., Old-town OK 29087\\n',\n",
       " 'davemoore@bogusemail.com\\n',\n",
       " '\\n',\n",
       " 'Linda Jenkins\\n',\n",
       " '866-555-9844\\n',\n",
       " '117 High St., Bedrock NE 11899\\n',\n",
       " 'lindajenkins@bogusemail.com\\n',\n",
       " '\\n',\n",
       " 'Eric White\\n',\n",
       " '669-555-7159\\n',\n",
       " '650 Oak St., Smalltown TN 43281\\n',\n",
       " 'samwhite@bogusemail.com\\n',\n",
       " '\\n',\n",
       " 'Laura Robinson\\n',\n",
       " '152-555-7417\\n',\n",
       " '377 Pine St., Valyria NC 78036\\n',\n",
       " 'laurarobinson@bogusemail.com\\n',\n",
       " '\\n',\n",
       " 'Charles Patterson\\n',\n",
       " '893-555-9832\\n',\n",
       " '416 Pearl St., Valyria AK 62260\\n',\n",
       " 'charlespatterson@bogusemail.com\\n',\n",
       " '\\n',\n",
       " 'Joe Jackson\\n',\n",
       " '217-555-7123\\n',\n",
       " '683 Cedar St., South Park KS 66724\\n',\n",
       " 'joejackson@bogusemail.com\\n',\n",
       " '\\n',\n",
       " 'Michael Johnson\\n',\n",
       " '786-555-6544\\n',\n",
       " '288 Hill St., Smalltown AZ 18586\\n',\n",
       " 'michaeljohnson@bogusemail.com\\n',\n",
       " '\\n',\n",
       " 'Corey Miller\\n',\n",
       " '780-555-2574\\n',\n",
       " '286 High St., Springfield IA 16272\\n',\n",
       " 'coreymiller@bogusemail.com\\n',\n",
       " '\\n',\n",
       " 'James Moore\\n',\n",
       " '926-555-8735\\n',\n",
       " '278 Main St., Gotham KY 89569\\n',\n",
       " 'jamesmoore@bogusemail.com\\n',\n",
       " '\\n',\n",
       " 'Jennifer Stuart\\n',\n",
       " '895-555-3539\\n',\n",
       " \"766 Hill St., King's Landing GA 54999\\n\",\n",
       " 'jenniferstuart@bogusemail.com\\n',\n",
       " '\\n',\n",
       " 'Charles Martin\\n',\n",
       " '874-555-3949\\n',\n",
       " '775 High St., Faketown PA 89260\\n',\n",
       " 'charlesmartin@bogusemail.com\\n',\n",
       " '\\n',\n",
       " 'Eric Wilks\\n',\n",
       " '800-555-2420\\n',\n",
       " '885 Main St., Blackwater OH 61275\\n',\n",
       " 'joewilks@bogusemail.com\\n',\n",
       " '\\n',\n",
       " 'Elizabeth Arnold\\n',\n",
       " '936-555-6340\\n',\n",
       " '528 Hill St., Atlantis NH 88289\\n',\n",
       " 'elizabetharnold@bogusemail.com\\n',\n",
       " '\\n',\n",
       " 'John Miller\\n',\n",
       " '372-555-9809\\n',\n",
       " '117 Cedar St., Thundera NM 75205\\n',\n",
       " 'johnmiller@bogusemail.com\\n',\n",
       " '\\n',\n",
       " 'Corey Jackson\\n',\n",
       " '890-555-5618\\n',\n",
       " '115 Oak St., Gotham UT 36433\\n',\n",
       " 'coreyjackson@bogusemail.com\\n',\n",
       " '\\n',\n",
       " 'Sam Thomas\\n',\n",
       " '670-555-3005\\n',\n",
       " '743 Lake St., Springfield MS 25473\\n',\n",
       " 'samthomas@bogusemail.com\\n',\n",
       " '\\n',\n",
       " 'Patricia Thomas\\n',\n",
       " '509-555-5997\\n',\n",
       " '381 Hill St., Blackwater CT 30958\\n',\n",
       " 'patriciathomas@bogusemail.com\\n',\n",
       " '\\n',\n",
       " 'Jennifer Davis\\n',\n",
       " '721-555-5632\\n',\n",
       " '125 Main St., Smalltown MT 62155\\n',\n",
       " 'jenniferdavis@bogusemail.com\\n',\n",
       " '\\n',\n",
       " 'Patricia Brown\\n',\n",
       " '900-555-3567\\n',\n",
       " '292 Hill St., Gotham WV 57680\\n',\n",
       " 'patriciabrown@bogusemail.com\\n',\n",
       " '\\n',\n",
       " 'Barbara Williams\\n',\n",
       " '147-555-6830\\n',\n",
       " '514 Park St., Balmora NV 55462\\n',\n",
       " 'barbarawilliams@bogusemail.com\\n',\n",
       " '\\n',\n",
       " 'James Taylor\\n',\n",
       " '582-555-3426\\n',\n",
       " '776 Hill St., Dawnstar MA 51312\\n',\n",
       " 'jamestaylor@bogusemail.com\\n',\n",
       " '\\n',\n",
       " 'Eric Harris\\n',\n",
       " '400-555-1706\\n',\n",
       " '421 Elm St., Smalltown NV 72025\\n',\n",
       " 'barbaraharris@bogusemail.com\\n',\n",
       " '\\n',\n",
       " 'Travis Anderson\\n',\n",
       " '525-555-1793\\n',\n",
       " '937 Cedar St., Thundera WA 78862\\n',\n",
       " 'travisanderson@bogusemail.com\\n',\n",
       " '\\n',\n",
       " 'Sam Robinson\\n',\n",
       " '317-555-6700\\n',\n",
       " '417 Pine St., Lakeview MD 13147\\n',\n",
       " 'samrobinson@bogusemail.com\\n',\n",
       " '\\n',\n",
       " 'Steve Robinson\\n',\n",
       " '974-555-8301\\n',\n",
       " '478 Park St., Springfield NM 92369\\n',\n",
       " 'steverobinson@bogusemail.com\\n',\n",
       " '\\n',\n",
       " 'Mary Wilson\\n',\n",
       " '800-555-3216\\n',\n",
       " '708 Maple St., Braavosâ€Ž UT 29551\\n',\n",
       " 'marywilson@bogusemail.com\\n',\n",
       " '\\n',\n",
       " 'Sam Wilson\\n',\n",
       " '746-555-4094\\n',\n",
       " '557 Pearl St., Westworld KS 23225\\n',\n",
       " 'samwilson@bogusemail.com\\n',\n",
       " '\\n',\n",
       " 'Charles Jones\\n',\n",
       " '922-555-1773\\n',\n",
       " '855 Hill St., Olympus HI 81427\\n',\n",
       " 'charlesjones@bogusemail.com\\n',\n",
       " '\\n',\n",
       " 'Laura Brown\\n',\n",
       " '711-555-4427\\n',\n",
       " '980 Maple St., Smalltown MO 96421\\n',\n",
       " 'laurabrown@bogusemail.com\\n',\n",
       " '\\n',\n",
       " 'Tom Harris\\n',\n",
       " '355-555-1872\\n',\n",
       " '676 Hill St., Blackwater AR 96698\\n',\n",
       " 'tomharris@bogusemail.com\\n',\n",
       " '\\n',\n",
       " 'Patricia Taylor\\n',\n",
       " '852-555-6521\\n',\n",
       " '588 Pine St., Olympus FL 98412\\n',\n",
       " 'patriciataylor@bogusemail.com\\n',\n",
       " '\\n',\n",
       " 'Barbara Williams\\n',\n",
       " '691-555-5773\\n',\n",
       " '351 Elm St., Sunnydale GA 26245\\n',\n",
       " 'barbarawilliams@bogusemail.com\\n',\n",
       " '\\n',\n",
       " 'Maggie Johnson\\n',\n",
       " '332-555-5441\\n',\n",
       " '948 Cedar St., Quahog DE 56449\\n',\n",
       " 'maggiejohnson@bogusemail.com\\n',\n",
       " '\\n',\n",
       " 'Kurt Miller\\n',\n",
       " '900-555-7755\\n',\n",
       " '381 Hill St., Quahog AL 97503\\n',\n",
       " 'kurtmiller@bogusemail.com\\n',\n",
       " '\\n',\n",
       " 'Neil Stuart\\n',\n",
       " '379-555-3685\\n',\n",
       " '496 Cedar St., Sunnydale RI 49113\\n',\n",
       " 'neilstuart@bogusemail.com\\n',\n",
       " '\\n',\n",
       " 'Linda Patterson\\n',\n",
       " '127-555-9682\\n',\n",
       " '736 Cedar St., Lakeview KY 47472\\n',\n",
       " 'lindapatterson@bogusemail.com\\n',\n",
       " '\\n',\n",
       " 'Charles Davis\\n',\n",
       " '789-555-7032\\n',\n",
       " '678 Lake St., Mordor MN 11845\\n',\n",
       " 'charlesdavis@bogusemail.com\\n',\n",
       " '\\n',\n",
       " 'Jennifer Jefferson\\n',\n",
       " '783-555-5135\\n',\n",
       " '289 Park St., Sunnydale WA 74526\\n',\n",
       " 'jenniferjefferson@bogusemail.com\\n',\n",
       " '\\n',\n",
       " 'Erick Taylor\\n',\n",
       " '315-555-6507\\n',\n",
       " '245 Washington St., Bedrock IL 26941\\n',\n",
       " 'coreytaylor@bogusemail.com\\n',\n",
       " '\\n',\n",
       " 'Robert Wilks\\n',\n",
       " '481-555-5835\\n',\n",
       " '573 Elm St., Sunnydale IL 47182\\n',\n",
       " 'robertwilks@bogusemail.com\\n',\n",
       " '\\n',\n",
       " 'Travis Jackson\\n',\n",
       " '365-555-8287\\n',\n",
       " '851 Lake St., Metropolis PA 22772\\n',\n",
       " 'travisjackson@bogusemail.com\\n',\n",
       " '\\n',\n",
       " 'Travis Jackson\\n',\n",
       " '911-555-7535\\n',\n",
       " '489 Oak St., Atlantis HI 73725\\n',\n",
       " 'travisjackson@bogusemail.com\\n',\n",
       " '\\n',\n",
       " 'Laura Wilks\\n',\n",
       " '681-555-2460\\n',\n",
       " '371 Pearl St., Smalltown SC 47466\\n',\n",
       " 'laurawilks@bogusemail.com\\n',\n",
       " '\\n',\n",
       " 'Neil Arnold\\n',\n",
       " '274-555-9800\\n',\n",
       " '504 Oak St., Faketown PA 73860\\n',\n",
       " 'neilarnold@bogusemail.com\\n',\n",
       " '\\n',\n",
       " 'Linda Johnson\\n',\n",
       " '800-555-1372\\n',\n",
       " '667 High St., Balmora IN 82473\\n',\n",
       " 'lindajohnson@bogusemail.com\\n',\n",
       " '\\n',\n",
       " 'Jennifer Wilson\\n',\n",
       " '300-555-7821\\n',\n",
       " '266 Pine St., Westworld DC 58720\\n',\n",
       " 'jenniferwilson@bogusemail.com\\n',\n",
       " '\\n',\n",
       " 'Nicole White\\n',\n",
       " '133-555-3889\\n',\n",
       " '276 High St., Braavosâ€Ž IL 57764\\n',\n",
       " 'nicolewhite@bogusemail.com\\n',\n",
       " '\\n',\n",
       " 'Maria Arnold\\n',\n",
       " '705-555-6863\\n',\n",
       " '491 Elm St., Metropolis PA 31836\\n',\n",
       " 'mariaarnold@bogusemail.com\\n',\n",
       " '\\n',\n",
       " 'Jennifer Davis\\n',\n",
       " '215-555-9449\\n',\n",
       " '859 Cedar St., Old-town MT 31169\\n',\n",
       " 'jenniferdavis@bogusemail.com\\n',\n",
       " '\\n',\n",
       " 'Mary Patterson\\n',\n",
       " '988-555-6112\\n',\n",
       " '956 Park St., Valyria CT 81541\\n',\n",
       " 'marypatterson@bogusemail.com\\n',\n",
       " '\\n',\n",
       " 'Jane Stuart\\n',\n",
       " '623-555-3006\\n',\n",
       " '983 Oak St., Old-town RI 15445\\n',\n",
       " 'janestuart@bogusemail.com\\n',\n",
       " '\\n',\n",
       " 'Robert Davis\\n',\n",
       " '192-555-4977\\n',\n",
       " '789 Maple St., Mordor IN 22215\\n',\n",
       " 'robertdavis@bogusemail.com\\n',\n",
       " '\\n',\n",
       " 'James Taylor\\n',\n",
       " '178-555-4899\\n',\n",
       " '439 Hill St., Olympus NV 39308\\n',\n",
       " 'jamestaylor@bogusemail.com\\n',\n",
       " '\\n',\n",
       " 'Eric Stuart\\n',\n",
       " '952-555-3089\\n',\n",
       " \"777 High St., King's Landing AZ 16547\\n\",\n",
       " 'johnstuart@bogusemail.com\\n',\n",
       " '\\n',\n",
       " 'Charles Miller\\n',\n",
       " '900-555-6426\\n',\n",
       " '207 Washington St., Blackwater MA 24886\\n',\n",
       " 'charlesmiller@bogusemail.com']"
      ]
     },
     "execution_count": 69,
     "metadata": {},
     "output_type": "execute_result"
    }
   ],
   "source": [
    "data"
   ]
  },
  {
   "cell_type": "code",
   "execution_count": 70,
   "id": "e7733d26",
   "metadata": {},
   "outputs": [
    {
     "ename": "AttributeError",
     "evalue": "'list' object has no attribute 'close'",
     "output_type": "error",
     "traceback": [
      "\u001b[1;31m---------------------------------------------------------------------------\u001b[0m",
      "\u001b[1;31mAttributeError\u001b[0m                            Traceback (most recent call last)",
      "\u001b[1;32m~\\AppData\\Local\\Temp\\ipykernel_15032\\2928248260.py\u001b[0m in \u001b[0;36m<module>\u001b[1;34m\u001b[0m\n\u001b[1;32m----> 1\u001b[1;33m \u001b[0mdata\u001b[0m\u001b[1;33m.\u001b[0m\u001b[0mclose\u001b[0m\u001b[1;33m(\u001b[0m\u001b[1;33m)\u001b[0m\u001b[1;33m\u001b[0m\u001b[1;33m\u001b[0m\u001b[0m\n\u001b[0m",
      "\u001b[1;31mAttributeError\u001b[0m: 'list' object has no attribute 'close'"
     ]
    }
   ],
   "source": [
    "data.close()"
   ]
  },
  {
   "cell_type": "code",
   "execution_count": 2,
   "id": "4b388db6",
   "metadata": {},
   "outputs": [],
   "source": [
    "words = data.split()"
   ]
  },
  {
   "cell_type": "code",
   "execution_count": 8,
   "id": "e58aaebd",
   "metadata": {},
   "outputs": [
    {
     "name": "stdout",
     "output_type": "stream",
     "text": [
      "Dave Martin\n",
      "615-555-7164\n",
      "173 Main St., Springfield RI 55924\n",
      "davemartin@bogusemail.com\n",
      "\n",
      "Charles Harris\n",
      "800-555-5669\n",
      "969 High St., Atlantis VA 34075\n",
      "charlesharris@bogusemail.com\n",
      "\n",
      "Eric Williams\n",
      "560-555-5153\n",
      "806 1st St., Faketown AK 86847\n",
      "laurawilliams@bogusemail.com\n",
      "\n",
      "Corey Jefferson\n",
      "900-555-9340\n",
      "826 Elm St., Epicburg NE 10671\n",
      "coreyjefferson@bogusemail.com\n",
      "\n",
      "Jennifer Martin-White\n",
      "714-555-7405\n",
      "212 Cedar St., Sunnydale CT 74983\n",
      "jenniferwhite@bogusemail.com\n",
      "\n",
      "Erick Davis\n",
      "800-555-6771\n",
      "519 Washington St., \n"
     ]
    }
   ],
   "source": [
    "print(data[:500])"
   ]
  },
  {
   "cell_type": "code",
   "execution_count": 3,
   "id": "e99bc695",
   "metadata": {},
   "outputs": [],
   "source": [
    "email_list = []\n",
    "for word in words:\n",
    "    if(\"@\" in word):\n",
    "        email_list.append(word)"
   ]
  },
  {
   "cell_type": "code",
   "execution_count": 4,
   "id": "2d89b2df",
   "metadata": {},
   "outputs": [],
   "source": [
    "def mask(s):\n",
    "    if('@' in s):\n",
    "        name,domain = s.split('@')\n",
    "        return (f'{name[0]}###{name[-1]}@{domain}')\n",
    "    else:\n",
    "        return (f'{s} is not valid')"
   ]
  },
  {
   "cell_type": "code",
   "execution_count": 5,
   "id": "10905aac",
   "metadata": {},
   "outputs": [
    {
     "name": "stdout",
     "output_type": "stream",
     "text": [
      "d###n@bogusemail.com\n",
      "c###s@bogusemail.com\n",
      "l###s@bogusemail.com\n",
      "c###n@bogusemail.com\n",
      "j###e@bogusemail.com\n",
      "t###s@bogusemail.com\n",
      "n###n@bogusemail.com\n",
      "l###n@bogusemail.com\n",
      "m###n@bogusemail.com\n",
      "m###d@bogusemail.com\n",
      "m###h@bogusemail.com\n",
      "r###t@bogusemail.com\n",
      "l###n@bogusemail.com\n",
      "b###n@bogusemail.com\n",
      "l###n@bogusemail.com\n",
      "s###r@bogusemail.com\n",
      "d###d@bogusemail.com\n",
      "j###s@bogusemail.com\n",
      "n###n@bogusemail.com\n",
      "k###n@bogusemail.com\n",
      "m###s@bogusemail.com\n",
      "m###e@bogusemail.com\n",
      "j###s@bogusemail.com\n",
      "s###t@bogusemail.com\n",
      "j###s@bogusemail.com\n",
      "n###s@bogusemail.com\n",
      "l###n@bogusemail.com\n",
      "j###s@bogusemail.com\n",
      "m###n@bogusemail.com\n",
      "m###n@bogusemail.com\n",
      "k###n@bogusemail.com\n",
      "e###d@bogusemail.com\n",
      "j###n@bogusemail.com\n",
      "t###n@bogusemail.com\n",
      "l###n@bogusemail.com\n",
      "t###s@bogusemail.com\n",
      "j###r@bogusemail.com\n",
      "j###t@bogusemail.com\n",
      "s###e@bogusemail.com\n",
      "k###s@bogusemail.com\n",
      "c###s@bogusemail.com\n",
      "n###r@bogusemail.com\n",
      "e###s@bogusemail.com\n",
      "m###s@bogusemail.com\n",
      "l###s@bogusemail.com\n",
      "d###e@bogusemail.com\n",
      "l###s@bogusemail.com\n",
      "s###e@bogusemail.com\n",
      "l###n@bogusemail.com\n",
      "c###n@bogusemail.com\n",
      "j###n@bogusemail.com\n",
      "m###n@bogusemail.com\n",
      "c###r@bogusemail.com\n",
      "j###e@bogusemail.com\n",
      "j###t@bogusemail.com\n",
      "c###n@bogusemail.com\n",
      "j###s@bogusemail.com\n",
      "e###d@bogusemail.com\n",
      "j###r@bogusemail.com\n",
      "c###n@bogusemail.com\n",
      "s###s@bogusemail.com\n",
      "p###s@bogusemail.com\n",
      "j###s@bogusemail.com\n",
      "p###n@bogusemail.com\n",
      "b###s@bogusemail.com\n",
      "j###r@bogusemail.com\n",
      "b###s@bogusemail.com\n",
      "t###n@bogusemail.com\n",
      "s###n@bogusemail.com\n",
      "s###n@bogusemail.com\n",
      "m###n@bogusemail.com\n",
      "s###n@bogusemail.com\n",
      "c###s@bogusemail.com\n",
      "l###n@bogusemail.com\n",
      "t###s@bogusemail.com\n",
      "p###r@bogusemail.com\n",
      "b###s@bogusemail.com\n",
      "m###n@bogusemail.com\n",
      "k###r@bogusemail.com\n",
      "n###t@bogusemail.com\n",
      "l###n@bogusemail.com\n",
      "c###s@bogusemail.com\n",
      "j###n@bogusemail.com\n",
      "c###r@bogusemail.com\n",
      "r###s@bogusemail.com\n",
      "t###n@bogusemail.com\n",
      "t###n@bogusemail.com\n",
      "l###s@bogusemail.com\n",
      "n###d@bogusemail.com\n",
      "l###n@bogusemail.com\n",
      "j###n@bogusemail.com\n",
      "n###e@bogusemail.com\n",
      "m###d@bogusemail.com\n",
      "j###s@bogusemail.com\n",
      "m###n@bogusemail.com\n",
      "j###t@bogusemail.com\n",
      "r###s@bogusemail.com\n",
      "j###r@bogusemail.com\n",
      "j###t@bogusemail.com\n",
      "c###r@bogusemail.com\n"
     ]
    }
   ],
   "source": [
    "for email in email_list:\n",
    "    print(mask(email))"
   ]
  },
  {
   "cell_type": "code",
   "execution_count": 9,
   "id": "126687ba",
   "metadata": {},
   "outputs": [
    {
     "name": "stdout",
     "output_type": "stream",
     "text": [
      "615-555-7164\n",
      "800-555-5669\n",
      "560-555-5153\n",
      "900-555-9340\n",
      "714-555-7405\n",
      "800-555-6771\n",
      "783-555-4799\n",
      "516-555-4615\n",
      "127-555-1867\n",
      "608-555-4938\n",
      "568-555-6051\n",
      "292-555-1875\n",
      "900-555-3205\n",
      "614-555-1166\n",
      "530-555-2676\n",
      "470-555-2750\n",
      "800-555-6089\n",
      "880-555-8319\n",
      "777-555-8378\n",
      "998-555-7385\n",
      "800-555-7100\n",
      "903-555-8277\n",
      "196-555-5674\n",
      "900-555-5118\n",
      "905-555-1630\n",
      "203-555-3475\n",
      "884-555-8444\n",
      "904-555-8559\n",
      "889-555-7393\n",
      "195-555-2405\n",
      "321-555-9053\n",
      "133-555-1711\n",
      "900-555-5428\n",
      "760-555-7147\n",
      "391-555-6621\n",
      "932-555-7724\n",
      "609-555-7908\n",
      "800-555-8810\n",
      "149-555-7657\n",
      "130-555-9709\n",
      "143-555-9295\n",
      "903-555-9878\n",
      "574-555-3194\n",
      "496-555-7533\n",
      "210-555-3757\n",
      "900-555-9598\n",
      "866-555-9844\n",
      "669-555-7159\n",
      "152-555-7417\n",
      "893-555-9832\n",
      "217-555-7123\n",
      "786-555-6544\n",
      "780-555-2574\n",
      "926-555-8735\n",
      "895-555-3539\n",
      "874-555-3949\n",
      "800-555-2420\n",
      "936-555-6340\n",
      "372-555-9809\n",
      "890-555-5618\n",
      "670-555-3005\n",
      "509-555-5997\n",
      "721-555-5632\n",
      "900-555-3567\n",
      "147-555-6830\n",
      "582-555-3426\n",
      "400-555-1706\n",
      "525-555-1793\n",
      "317-555-6700\n",
      "974-555-8301\n",
      "800-555-3216\n",
      "746-555-4094\n",
      "922-555-1773\n",
      "711-555-4427\n",
      "355-555-1872\n",
      "852-555-6521\n",
      "691-555-5773\n",
      "332-555-5441\n",
      "900-555-7755\n",
      "379-555-3685\n",
      "127-555-9682\n",
      "789-555-7032\n",
      "783-555-5135\n",
      "315-555-6507\n",
      "481-555-5835\n",
      "365-555-8287\n",
      "911-555-7535\n",
      "681-555-2460\n",
      "274-555-9800\n",
      "800-555-1372\n",
      "300-555-7821\n",
      "133-555-3889\n",
      "705-555-6863\n",
      "215-555-9449\n",
      "988-555-6112\n",
      "623-555-3006\n",
      "192-555-4977\n",
      "178-555-4899\n",
      "952-555-3089\n",
      "900-555-6426\n"
     ]
    }
   ],
   "source": [
    "import re\n",
    "email_list = []\n",
    "for word in words:\n",
    "    regex = '\\d\\d\\d-\\d\\d\\d-\\d\\d\\d\\d'\n",
    "    if(re.search(regex, word)):\n",
    "        print(word)\n",
    "    "
   ]
  },
  {
   "cell_type": "code",
   "execution_count": 24,
   "id": "c8d5c638",
   "metadata": {},
   "outputs": [],
   "source": [
    "arr = [1,2,3,4,2,1,2]"
   ]
  },
  {
   "cell_type": "code",
   "execution_count": 25,
   "id": "5f2a59ed",
   "metadata": {},
   "outputs": [],
   "source": [
    "def get_max_frequency_value(arr):\n",
    "    lookup = {}\n",
    "    # Creating & Populating Hashmap\n",
    "    for i in arr:\n",
    "        if(i in lookup):\n",
    "            lookup[i]+=1\n",
    "        else:\n",
    "            lookup[i]=1\n",
    "    ans = -1\n",
    "    indx = None\n",
    "    \n",
    "    for key,value in zip(lookup.keys(),lookup.values()):\n",
    "        if(value > ans):\n",
    "            ans = value\n",
    "            indx = key\n",
    "    return(indx)"
   ]
  },
  {
   "cell_type": "code",
   "execution_count": 26,
   "id": "cd89f535",
   "metadata": {},
   "outputs": [
    {
     "data": {
      "text/plain": [
       "2"
      ]
     },
     "execution_count": 26,
     "metadata": {},
     "output_type": "execute_result"
    }
   ],
   "source": [
    "get_max_frequency_value(arr)"
   ]
  },
  {
   "cell_type": "code",
   "execution_count": 63,
   "id": "17899722",
   "metadata": {},
   "outputs": [],
   "source": [
    "def check_power_of_three(n):\n",
    "    # base \n",
    "    if(n<=0):\n",
    "        return False\n",
    "    if(n%3==0):\n",
    "        return check_power_of_three(n//3) # Recursive case\n",
    "    if(n==1):\n",
    "        return True\n",
    "    return False"
   ]
  },
  {
   "cell_type": "code",
   "execution_count": 66,
   "id": "c6d5841e",
   "metadata": {},
   "outputs": [
    {
     "name": "stdout",
     "output_type": "stream",
     "text": [
      "True\n"
     ]
    }
   ],
   "source": [
    "print(check_power_of_three(9))"
   ]
  },
  {
   "cell_type": "code",
   "execution_count": 81,
   "id": "40f670a3",
   "metadata": {},
   "outputs": [],
   "source": [
    "file = open('sample_text.txt','r').read()"
   ]
  },
  {
   "cell_type": "code",
   "execution_count": 87,
   "id": "d4718fcf",
   "metadata": {},
   "outputs": [],
   "source": [
    "def get_sentence_length(file):\n",
    "    data = open(file,'r').read()\n",
    "    tmp = data.split('\\n')\n",
    "    return len(tmp)"
   ]
  },
  {
   "cell_type": "code",
   "execution_count": 88,
   "id": "2c87324d",
   "metadata": {},
   "outputs": [
    {
     "data": {
      "text/plain": [
       "7"
      ]
     },
     "execution_count": 88,
     "metadata": {},
     "output_type": "execute_result"
    }
   ],
   "source": [
    "get_sentence_length('sample_text.txt')"
   ]
  },
  {
   "cell_type": "code",
   "execution_count": 93,
   "id": "16ceeb1f",
   "metadata": {},
   "outputs": [
    {
     "name": "stdout",
     "output_type": "stream",
     "text": [
      "2\n",
      "3\n",
      "3\n",
      "2\n",
      "1\n"
     ]
    }
   ],
   "source": [
    "arr = [1,2,3,4,2,1,2]\n",
    "k=3\n",
    "st = 0\n",
    "end = k\n",
    "while(end <= len(arr)):\n",
    "    tmp_arr = (arr[st:end])\n",
    "    tmp_len = len(tmp_arr)\n",
    "    tmp_sum = sum(tmp_arr)\n",
    "    moving_avg = tmp_sum//tmp_len\n",
    "    print(moving_avg)\n",
    "    st+=1\n",
    "    end+=1"
   ]
  },
  {
   "cell_type": "code",
   "execution_count": 94,
   "id": "81c24671",
   "metadata": {},
   "outputs": [],
   "source": [
    "def get_moving_average(arr,window):\n",
    "    moving_avg_result = []\n",
    "    st = 0\n",
    "    end = window\n",
    "    while(end<=len(arr)):\n",
    "        tmp_arr = (arr[st:end])\n",
    "        tmp_len = len(tmp_arr)\n",
    "        tmp_sum = sum(tmp_arr)\n",
    "        moving_avg = tmp_sum//tmp_len\n",
    "        moving_avg_result.append(moving_avg)\n",
    "        st+=1\n",
    "        end+=1\n",
    "    return moving_avg_result\n",
    "    "
   ]
  },
  {
   "cell_type": "code",
   "execution_count": 96,
   "id": "404324f4",
   "metadata": {},
   "outputs": [
    {
     "name": "stdout",
     "output_type": "stream",
     "text": [
      "[2, 3, 3, 2, 1]\n"
     ]
    }
   ],
   "source": [
    "print(get_moving_average(arr,3))"
   ]
  },
  {
   "cell_type": "markdown",
   "id": "b1320b2f",
   "metadata": {},
   "source": [
    "# Assignment"
   ]
  },
  {
   "cell_type": "code",
   "execution_count": 4,
   "id": "724d06c0",
   "metadata": {},
   "outputs": [],
   "source": [
    "import re \n",
    "text = ''' \n",
    "\"One cannot have enough socks with him\", said Dora. \n",
    "\"Another has come and gone and I didn't get a single pair. \n",
    "People will keep on insisting on giving me books.\" \n",
    "Christmas Quote \n",
    "'''"
   ]
  },
  {
   "cell_type": "code",
   "execution_count": 8,
   "id": "b6a288da",
   "metadata": {},
   "outputs": [
    {
     "name": "stdout",
     "output_type": "stream",
     "text": [
      "None <re.Match object; span=(167, 183), match='Christmas Quote '>\n"
     ]
    }
   ],
   "source": [
    "pattern = \"Christ.*\"\n",
    "print(re.match(pattern,text),re.search(pattern,text))"
   ]
  },
  {
   "cell_type": "code",
   "execution_count": 9,
   "id": "fdd8e324",
   "metadata": {},
   "outputs": [],
   "source": [
    "new_input = ['18:29', '23:55', '123', 'ab:de', '18:299', '99:99']"
   ]
  },
  {
   "cell_type": "code",
   "execution_count": 17,
   "id": "54c9b894",
   "metadata": {},
   "outputs": [],
   "source": [
    "pattern = '[0-9]{2}:[0-9]{2}'\n",
    "res = lambda x : re.match(pattern,x)!=None"
   ]
  },
  {
   "cell_type": "code",
   "execution_count": 18,
   "id": "b24a63cb",
   "metadata": {},
   "outputs": [
    {
     "name": "stdout",
     "output_type": "stream",
     "text": [
      "True\n",
      "True\n",
      "False\n",
      "False\n",
      "True\n",
      "True\n"
     ]
    }
   ],
   "source": [
    "for i in new_input:\n",
    "    print(res(i))"
   ]
  },
  {
   "cell_type": "code",
   "execution_count": 25,
   "id": "20385137",
   "metadata": {},
   "outputs": [
    {
     "name": "stdout",
     "output_type": "stream",
     "text": [
      "44:52\n",
      "62:70\n"
     ]
    }
   ],
   "source": [
    "s1 = 'Artificial Intelligence consists of Machine Learning and Deep Learning'\n",
    "pattern = 'Learning'\n",
    "\n",
    "for s in re.finditer(pattern,s1):\n",
    "    print('%d:%d'%(s.start(),s.end()))"
   ]
  },
  {
   "cell_type": "code",
   "execution_count": 38,
   "id": "ba7ae747",
   "metadata": {},
   "outputs": [
    {
     "name": "stdout",
     "output_type": "stream",
     "text": [
      "www.scaler.com\n",
      "scaler\n"
     ]
    }
   ],
   "source": [
    "text = ''' Extract the doamin from the urls www.scaler.com'''\n",
    "pattern = '(www.([A-Za-z_0-9-]+)(.\\w+))'\n",
    "\n",
    "for i in re.finditer(pattern,text):\n",
    "    print(i.group(1))\n",
    "    \n",
    "for i in re.findall(pattern,text):\n",
    "    print(i[1])"
   ]
  },
  {
   "cell_type": "code",
   "execution_count": 39,
   "id": "bd57303a",
   "metadata": {},
   "outputs": [],
   "source": [
    "target_string = \"Emma is a basketball player who was born on June 17, 1993. She played 112 matches with a scoring average of 26.12 points per game. Her weight is 51 kg.\""
   ]
  },
  {
   "cell_type": "code",
   "execution_count": 44,
   "id": "6b356722",
   "metadata": {},
   "outputs": [
    {
     "name": "stdout",
     "output_type": "stream",
     "text": [
      "17\n",
      "19\n",
      "93\n",
      "11\n",
      "26\n",
      "12\n",
      "51\n"
     ]
    }
   ],
   "source": [
    "pattern = '\\d{2}'\n",
    "for i in re.finditer(pattern,target_string):\n",
    "    print(i.group())"
   ]
  },
  {
   "cell_type": "code",
   "execution_count": null,
   "id": "2bfc8fdb",
   "metadata": {},
   "outputs": [],
   "source": [
    "text = \"42456478931125789\"\n",
    "pattern = '^[456]*\\d{16}'"
   ]
  },
  {
   "cell_type": "code",
   "execution_count": 55,
   "id": "9a75ac1d",
   "metadata": {},
   "outputs": [
    {
     "data": {
      "text/plain": [
       "<re.Match object; span=(0, 17), match='42456478931125789'>"
      ]
     },
     "execution_count": 55,
     "metadata": {},
     "output_type": "execute_result"
    }
   ],
   "source": [
    "re.search(pattern,text)"
   ]
  },
  {
   "cell_type": "code",
   "execution_count": 5,
   "id": "1e9669de",
   "metadata": {},
   "outputs": [],
   "source": [
    "text = '''The intellectual content in a physical book need not be a composition, nor even be called a book. Books can consist only of drawings, engravings or photographs, crossword puzzles or cut-out dolls. In a physical book, the pages can be left blank or can feature an abstract set of lines to support entries. '''"
   ]
  },
  {
   "cell_type": "code",
   "execution_count": 6,
   "id": "0e386d54",
   "metadata": {},
   "outputs": [
    {
     "name": "stdout",
     "output_type": "stream",
     "text": [
      "['book', 'book', 'book']\n"
     ]
    }
   ],
   "source": [
    "print(re.findall('b..k', text))"
   ]
  },
  {
   "cell_type": "code",
   "execution_count": 7,
   "id": "890fcc46",
   "metadata": {},
   "outputs": [
    {
     "name": "stdout",
     "output_type": "stream",
     "text": [
      "None\n"
     ]
    }
   ],
   "source": [
    "sentence = \"cryptographic encryption methods that can be cracked easily with quantum computers\" \n",
    "pattern = re.compile(\"crypto(.{1,30})coin\")\n",
    "print(pattern.match(sentence))"
   ]
  },
  {
   "cell_type": "code",
   "execution_count": 8,
   "id": "e25235db",
   "metadata": {},
   "outputs": [
    {
     "name": "stdout",
     "output_type": "stream",
     "text": [
      "(8, 10)\n"
     ]
    }
   ],
   "source": [
    "sentence = 'cheetah is faster than a leopard'\n",
    "matched = re.search('is', sentence)\n",
    "print(matched.span())"
   ]
  },
  {
   "cell_type": "code",
   "execution_count": 12,
   "id": "a4ffe978",
   "metadata": {},
   "outputs": [],
   "source": [
    "import re\n",
    "paragraph = '''\n",
    "An investment of  $1 in the year 1801,  would have given you $18087791.41 today.\n",
    "This is a 7.967% return on investment.\n",
    "But with an investment of only $0.25 in 1801, you would end up with $4521947.8525.\n",
    "'''\n",
    "result = [x for x in re.findall('(\\$[0-9]+(\\.[0-9]*)?)', paragraph)]"
   ]
  },
  {
   "cell_type": "code",
   "execution_count": 13,
   "id": "389d40d2",
   "metadata": {},
   "outputs": [
    {
     "data": {
      "text/plain": [
       "[('$1', ''),\n",
       " ('$18087791.41', '.41'),\n",
       " ('$0.25', '.25'),\n",
       " ('$4521947.8525', '.8525')]"
      ]
     },
     "execution_count": 13,
     "metadata": {},
     "output_type": "execute_result"
    }
   ],
   "source": [
    "result"
   ]
  },
  {
   "cell_type": "code",
   "execution_count": 153,
   "id": "ab88564a",
   "metadata": {},
   "outputs": [],
   "source": [
    "text = 'Nikhil023$'"
   ]
  },
  {
   "cell_type": "code",
   "execution_count": 147,
   "id": "36df0214",
   "metadata": {},
   "outputs": [],
   "source": [
    "pattern = '^[A-Za-z0-9$#@]{8,}\\s'"
   ]
  },
  {
   "cell_type": "code",
   "execution_count": 148,
   "id": "e68ac4e1",
   "metadata": {},
   "outputs": [],
   "source": [
    "re.search(pattern, text)"
   ]
  },
  {
   "cell_type": "code",
   "execution_count": 154,
   "id": "d944f22e",
   "metadata": {},
   "outputs": [],
   "source": [
    "import re\n",
    "def valid_or_not(password):\n",
    "    if(len(password) < 8):\n",
    "        return 'Invalid Password'\n",
    "    if(re.search('[A-Za-z]+', password) is None):\n",
    "        return 'Invalid Password'\n",
    "    if(re.search('[0-9]+', password) is None):\n",
    "        return 'Invalid Password'\n",
    "    if(re.search('[@#$]+', password) is None):\n",
    "        return 'Invalid Password'\n",
    "    if(re.search('\\s+', password) is not None):\n",
    "        return 'Invalid Password'\n",
    "    return \"Valid Password\""
   ]
  },
  {
   "cell_type": "code",
   "execution_count": 155,
   "id": "7afa32c4",
   "metadata": {},
   "outputs": [
    {
     "name": "stdout",
     "output_type": "stream",
     "text": [
      "Valid Password\n"
     ]
    }
   ],
   "source": [
    "print(valid_or_not(text))"
   ]
  },
  {
   "cell_type": "code",
   "execution_count": 194,
   "id": "b1a8276f",
   "metadata": {},
   "outputs": [],
   "source": [
    "text = '4245647893112578'\n",
    "pattern = '^[456]'"
   ]
  },
  {
   "cell_type": "code",
   "execution_count": 195,
   "id": "0b9ee9ad",
   "metadata": {},
   "outputs": [],
   "source": [
    "re.search(pattern, text)"
   ]
  },
  {
   "cell_type": "code",
   "execution_count": 196,
   "id": "f4a1fa96",
   "metadata": {},
   "outputs": [],
   "source": [
    "pattern = '[aeiou]'\n",
    "text = 'adam is not a good person'"
   ]
  },
  {
   "cell_type": "code",
   "execution_count": 201,
   "id": "c203a332",
   "metadata": {},
   "outputs": [
    {
     "name": "stdout",
     "output_type": "stream",
     "text": [
      "dm s nt  gd prsn\n"
     ]
    }
   ],
   "source": [
    "ans  = re.sub(pattern,\"\",text)\n",
    "print(ans)"
   ]
  },
  {
   "cell_type": "code",
   "execution_count": 280,
   "id": "4726fc2b",
   "metadata": {},
   "outputs": [],
   "source": [
    "text = \"You are doing @Rama we have come a long way from the days when me @anand and you were in school together\"\n",
    "pattern = '@[A-Za-z]*'"
   ]
  },
  {
   "cell_type": "code",
   "execution_count": 286,
   "id": "ccb62f5b",
   "metadata": {},
   "outputs": [
    {
     "name": "stdout",
     "output_type": "stream",
     "text": [
      "['Rama', 'anand']\n"
     ]
    }
   ],
   "source": [
    "ans = []\n",
    "for i in re.findall(pattern, text):\n",
    "    ans.append(i.split('@')[1])\n",
    "print(ans)"
   ]
  },
  {
   "cell_type": "code",
   "execution_count": null,
   "id": "7bf7c646",
   "metadata": {},
   "outputs": [],
   "source": []
  },
  {
   "cell_type": "code",
   "execution_count": null,
   "id": "24a6ac5a",
   "metadata": {},
   "outputs": [],
   "source": []
  }
 ],
 "metadata": {
  "kernelspec": {
   "display_name": "Python 3 (ipykernel)",
   "language": "python",
   "name": "python3"
  },
  "language_info": {
   "codemirror_mode": {
    "name": "ipython",
    "version": 3
   },
   "file_extension": ".py",
   "mimetype": "text/x-python",
   "name": "python",
   "nbconvert_exporter": "python",
   "pygments_lexer": "ipython3",
   "version": "3.9.13"
  }
 },
 "nbformat": 4,
 "nbformat_minor": 5
}
