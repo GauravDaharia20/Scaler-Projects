{
 "cells": [
  {
   "cell_type": "code",
   "execution_count": 1,
   "id": "19e46b4c",
   "metadata": {},
   "outputs": [],
   "source": [
    "import numpy as np\n",
    "import pandas as pd\n",
    "import seaborn as sns\n",
    "import matplotlib.pyplot as plt\n",
    "\n",
    "from scipy.stats import norm, ttest_1samp\n",
    "from statsmodels.stats.weightstats import ztest\n",
    "\n",
    "from bioinfokit.analys import stat\n",
    "## You can install bioinfokit using !pip install bioinfokit"
   ]
  },
  {
   "cell_type": "code",
   "execution_count": 14,
   "id": "d6494bf3",
   "metadata": {},
   "outputs": [
    {
     "name": "stdout",
     "output_type": "stream",
     "text": [
      "0.0126736593387341\n"
     ]
    }
   ],
   "source": [
    "mu = 1800\n",
    "std = 100\n",
    "\n",
    "n = 5\n",
    "\n",
    "obs = 1900\n",
    "\n",
    "z = ( obs - mu ) / (std / np.sqrt(n))\n",
    "\n",
    "p_value = 1 - norm.cdf(z)\n",
    "print(p_value)"
   ]
  },
  {
   "cell_type": "markdown",
   "id": "2af4f5ac",
   "metadata": {},
   "source": [
    "### Population Average and standard deviation"
   ]
  },
  {
   "cell_type": "code",
   "execution_count": 47,
   "id": "42e3ecc5",
   "metadata": {},
   "outputs": [
    {
     "name": "stdout",
     "output_type": "stream",
     "text": [
      "Mean:  43.24166666666667  Std:  42.18245206052442\n"
     ]
    }
   ],
   "source": [
    "df = pd.read_csv(\"Sachin_ODI.csv\")\n",
    "\n",
    "mu = df[\"runs\"].mean()\n",
    "sigma = df[\"runs\"].std()\n",
    "\n",
    "print(\"Mean: \", mu, \" Std: \", sigma)"
   ]
  },
  {
   "cell_type": "code",
   "execution_count": 17,
   "id": "23a8f7e7",
   "metadata": {},
   "outputs": [
    {
     "data": {
      "text/plain": [
       "Inns\n",
       "1    46.670588\n",
       "2    40.173684\n",
       "Name: runs, dtype: float64"
      ]
     },
     "execution_count": 17,
     "metadata": {},
     "output_type": "execute_result"
    }
   ],
   "source": [
    "df.groupby([\"Inns\"])[\"runs\"].mean()"
   ]
  },
  {
   "cell_type": "markdown",
   "id": "4c0ad437",
   "metadata": {},
   "source": [
    "### India batting first - Does Sachin do better here?\n",
    "\n",
    "H0: Sachin does not score more than the average.\n",
    "\n",
    "Ha: Sachin scores more than his usual average."
   ]
  },
  {
   "cell_type": "code",
   "execution_count": 34,
   "id": "8c3cebf4",
   "metadata": {},
   "outputs": [],
   "source": [
    "first_innings_runs = df[df[\"Inns\"]==1][[\"runs\"]]\n",
    "data = first_innings_runs"
   ]
  },
  {
   "cell_type": "code",
   "execution_count": 36,
   "id": "9abdae85",
   "metadata": {},
   "outputs": [
    {
     "name": "stdout",
     "output_type": "stream",
     "text": [
      "p-value:  [0.14460321]\n",
      "Stick to your null hypothesis\n",
      "No difference between first innings and overall mean\n"
     ]
    }
   ],
   "source": [
    "z = (data.mean() - mu) / (sigma / np.sqrt(len(data)))\n",
    "p = 1 - norm.cdf(z)\n",
    "\n",
    "print(\"p-value: \", p)\n",
    "\n",
    "if p < 0.05:\n",
    "    print(\"Reject H0\")\n",
    "else:\n",
    "    print(\"Stick to your null hypothesis\")\n",
    "    print(\"No difference between first innings and overall mean\")"
   ]
  },
  {
   "cell_type": "markdown",
   "id": "6c02a8e1",
   "metadata": {},
   "source": [
    "### India Winning the match - Does Sachin score higher if India wins?\n",
    "\n",
    "H0: Sachin's mean score when india wins is similar to his overall performance.\n",
    "\n",
    "H1: Sachin scores higher when India wins."
   ]
  },
  {
   "cell_type": "code",
   "execution_count": 26,
   "id": "530fac07",
   "metadata": {},
   "outputs": [
    {
     "data": {
      "text/plain": [
       "Won\n",
       "False    35.130682\n",
       "True     51.000000\n",
       "Name: runs, dtype: float64"
      ]
     },
     "execution_count": 26,
     "metadata": {},
     "output_type": "execute_result"
    }
   ],
   "source": [
    "df.groupby([\"Won\"])[\"runs\"].mean()"
   ]
  },
  {
   "cell_type": "code",
   "execution_count": 42,
   "id": "fd2d2b9c",
   "metadata": {},
   "outputs": [
    {
     "name": "stdout",
     "output_type": "stream",
     "text": [
      "n:  184\n",
      "p-value:  [0.00630041]\n",
      "Reject H0\n"
     ]
    }
   ],
   "source": [
    "all_victory_runs = df[df[\"Won\"]==True][[\"runs\"]]\n",
    "data = all_victory_runs\n",
    "\n",
    "z = (data.mean() - mu) / (sigma / np.sqrt(len(data)))\n",
    "p = 1 - norm.cdf(z)\n",
    "\n",
    "print(\"n: \", len(data))\n",
    "print(\"p-value: \", p)\n",
    "\n",
    "if p < 0.05:\n",
    "    print(\"Reject H0\")\n",
    "else:\n",
    "    print(\"Stick to your null hypothesis\")\n",
    "    print(\"No difference between first innings and overall mean\")"
   ]
  },
  {
   "cell_type": "markdown",
   "id": "9200defa",
   "metadata": {},
   "source": [
    "### What to do if population standard deviation is not known?\n",
    "Practically speaking, it is nearly impossible to calculate the population standard deviation exactly. Hence, we have to switch from the z-test to the t-test. However, if \"n\" is large, then t and z test will give us the same results."
   ]
  },
  {
   "cell_type": "code",
   "execution_count": 56,
   "id": "19ad8c29",
   "metadata": {},
   "outputs": [],
   "source": [
    "all_victory_runs = df[df[\"Won\"]==True][[\"runs\"]]\n",
    "data = all_victory_runs"
   ]
  },
  {
   "cell_type": "code",
   "execution_count": 57,
   "id": "8112013b",
   "metadata": {},
   "outputs": [
    {
     "data": {
      "text/plain": [
       "(array([2.79170431]), array([0.00262156]))"
      ]
     },
     "execution_count": 57,
     "metadata": {},
     "output_type": "execute_result"
    }
   ],
   "source": [
    "ztest(data, value=mu, alternative=\"larger\") # Right tailed test: z_stat, p_value"
   ]
  },
  {
   "cell_type": "code",
   "execution_count": 58,
   "id": "1b08bb8a",
   "metadata": {},
   "outputs": [
    {
     "data": {
      "text/plain": [
       "Ttest_1sampResult(statistic=array([2.79170431]), pvalue=array([0.00352732]))"
      ]
     },
     "execution_count": 58,
     "metadata": {},
     "output_type": "execute_result"
    }
   ],
   "source": [
    "ttest_1samp(data, popmean=mu, alternative=\"greater\") # t-stat, pvalue"
   ]
  },
  {
   "cell_type": "code",
   "execution_count": 49,
   "id": "c77a1e76",
   "metadata": {},
   "outputs": [
    {
     "data": {
      "text/plain": [
       "184"
      ]
     },
     "execution_count": 49,
     "metadata": {},
     "output_type": "execute_result"
    }
   ],
   "source": [
    "len(data)"
   ]
  },
  {
   "cell_type": "code",
   "execution_count": null,
   "id": "02f55e7b",
   "metadata": {},
   "outputs": [],
   "source": []
  }
 ],
 "metadata": {
  "kernelspec": {
   "display_name": "Python 3 (ipykernel)",
   "language": "python",
   "name": "python3"
  },
  "language_info": {
   "codemirror_mode": {
    "name": "ipython",
    "version": 3
   },
   "file_extension": ".py",
   "mimetype": "text/x-python",
   "name": "python",
   "nbconvert_exporter": "python",
   "pygments_lexer": "ipython3",
   "version": "3.9.12"
  }
 },
 "nbformat": 4,
 "nbformat_minor": 5
}
