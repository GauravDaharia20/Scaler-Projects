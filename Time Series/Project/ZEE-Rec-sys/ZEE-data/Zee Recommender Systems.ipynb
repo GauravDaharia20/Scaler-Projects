{
 "cells": [
  {
   "cell_type": "code",
   "execution_count": 1,
   "id": "10c446ff",
   "metadata": {},
   "outputs": [],
   "source": [
    "import pandas as pd\n",
    "import numpy as np\n",
    "import seaborn as sns\n",
    "import matplotlib.pyplot as plt"
   ]
  },
  {
   "cell_type": "code",
   "execution_count": 2,
   "id": "9573d60e",
   "metadata": {},
   "outputs": [],
   "source": [
    "df_user = pd.read_table('zee-users.dat', sep='::',engine='python') "
   ]
  },
  {
   "cell_type": "code",
   "execution_count": 3,
   "id": "2f953193",
   "metadata": {},
   "outputs": [],
   "source": [
    "df_rating = pd.read_table('zee-ratings.dat', sep='::',engine='python') "
   ]
  },
  {
   "cell_type": "code",
   "execution_count": 4,
   "id": "6bca73c3",
   "metadata": {},
   "outputs": [],
   "source": [
    "df_movies = pd.read_table('zee-movies.dat', sep='::', encoding='latin1',engine='python')"
   ]
  },
  {
   "cell_type": "code",
   "execution_count": 5,
   "id": "fe34c341",
   "metadata": {},
   "outputs": [
    {
     "data": {
      "text/html": [
       "<div>\n",
       "<style scoped>\n",
       "    .dataframe tbody tr th:only-of-type {\n",
       "        vertical-align: middle;\n",
       "    }\n",
       "\n",
       "    .dataframe tbody tr th {\n",
       "        vertical-align: top;\n",
       "    }\n",
       "\n",
       "    .dataframe thead th {\n",
       "        text-align: right;\n",
       "    }\n",
       "</style>\n",
       "<table border=\"1\" class=\"dataframe\">\n",
       "  <thead>\n",
       "    <tr style=\"text-align: right;\">\n",
       "      <th></th>\n",
       "      <th>Movie ID</th>\n",
       "      <th>Title</th>\n",
       "      <th>Genres</th>\n",
       "    </tr>\n",
       "  </thead>\n",
       "  <tbody>\n",
       "    <tr>\n",
       "      <th>0</th>\n",
       "      <td>1</td>\n",
       "      <td>Toy Story (1995)</td>\n",
       "      <td>Animation|Children's|Comedy</td>\n",
       "    </tr>\n",
       "    <tr>\n",
       "      <th>1</th>\n",
       "      <td>2</td>\n",
       "      <td>Jumanji (1995)</td>\n",
       "      <td>Adventure|Children's|Fantasy</td>\n",
       "    </tr>\n",
       "    <tr>\n",
       "      <th>2</th>\n",
       "      <td>3</td>\n",
       "      <td>Grumpier Old Men (1995)</td>\n",
       "      <td>Comedy|Romance</td>\n",
       "    </tr>\n",
       "    <tr>\n",
       "      <th>3</th>\n",
       "      <td>4</td>\n",
       "      <td>Waiting to Exhale (1995)</td>\n",
       "      <td>Comedy|Drama</td>\n",
       "    </tr>\n",
       "    <tr>\n",
       "      <th>4</th>\n",
       "      <td>5</td>\n",
       "      <td>Father of the Bride Part II (1995)</td>\n",
       "      <td>Comedy</td>\n",
       "    </tr>\n",
       "  </tbody>\n",
       "</table>\n",
       "</div>"
      ],
      "text/plain": [
       "   Movie ID                               Title                        Genres\n",
       "0         1                    Toy Story (1995)   Animation|Children's|Comedy\n",
       "1         2                      Jumanji (1995)  Adventure|Children's|Fantasy\n",
       "2         3             Grumpier Old Men (1995)                Comedy|Romance\n",
       "3         4            Waiting to Exhale (1995)                  Comedy|Drama\n",
       "4         5  Father of the Bride Part II (1995)                        Comedy"
      ]
     },
     "execution_count": 5,
     "metadata": {},
     "output_type": "execute_result"
    }
   ],
   "source": [
    "df_movies.head()"
   ]
  },
  {
   "cell_type": "code",
   "execution_count": 6,
   "id": "5985a56c",
   "metadata": {},
   "outputs": [
    {
     "data": {
      "text/html": [
       "<div>\n",
       "<style scoped>\n",
       "    .dataframe tbody tr th:only-of-type {\n",
       "        vertical-align: middle;\n",
       "    }\n",
       "\n",
       "    .dataframe tbody tr th {\n",
       "        vertical-align: top;\n",
       "    }\n",
       "\n",
       "    .dataframe thead th {\n",
       "        text-align: right;\n",
       "    }\n",
       "</style>\n",
       "<table border=\"1\" class=\"dataframe\">\n",
       "  <thead>\n",
       "    <tr style=\"text-align: right;\">\n",
       "      <th></th>\n",
       "      <th>UserID</th>\n",
       "      <th>MovieID</th>\n",
       "      <th>Rating</th>\n",
       "      <th>Timestamp</th>\n",
       "    </tr>\n",
       "  </thead>\n",
       "  <tbody>\n",
       "    <tr>\n",
       "      <th>0</th>\n",
       "      <td>1</td>\n",
       "      <td>1193</td>\n",
       "      <td>5</td>\n",
       "      <td>978300760</td>\n",
       "    </tr>\n",
       "    <tr>\n",
       "      <th>1</th>\n",
       "      <td>1</td>\n",
       "      <td>661</td>\n",
       "      <td>3</td>\n",
       "      <td>978302109</td>\n",
       "    </tr>\n",
       "    <tr>\n",
       "      <th>2</th>\n",
       "      <td>1</td>\n",
       "      <td>914</td>\n",
       "      <td>3</td>\n",
       "      <td>978301968</td>\n",
       "    </tr>\n",
       "    <tr>\n",
       "      <th>3</th>\n",
       "      <td>1</td>\n",
       "      <td>3408</td>\n",
       "      <td>4</td>\n",
       "      <td>978300275</td>\n",
       "    </tr>\n",
       "    <tr>\n",
       "      <th>4</th>\n",
       "      <td>1</td>\n",
       "      <td>2355</td>\n",
       "      <td>5</td>\n",
       "      <td>978824291</td>\n",
       "    </tr>\n",
       "  </tbody>\n",
       "</table>\n",
       "</div>"
      ],
      "text/plain": [
       "   UserID  MovieID  Rating  Timestamp\n",
       "0       1     1193       5  978300760\n",
       "1       1      661       3  978302109\n",
       "2       1      914       3  978301968\n",
       "3       1     3408       4  978300275\n",
       "4       1     2355       5  978824291"
      ]
     },
     "execution_count": 6,
     "metadata": {},
     "output_type": "execute_result"
    }
   ],
   "source": [
    "df_rating.head()"
   ]
  },
  {
   "cell_type": "code",
   "execution_count": null,
   "id": "46f3897b",
   "metadata": {},
   "outputs": [],
   "source": []
  },
  {
   "cell_type": "markdown",
   "id": "be847df6",
   "metadata": {},
   "source": [
    "# EDA for Users"
   ]
  },
  {
   "cell_type": "code",
   "execution_count": 7,
   "id": "ba777eaa",
   "metadata": {},
   "outputs": [
    {
     "data": {
      "text/html": [
       "<div>\n",
       "<style scoped>\n",
       "    .dataframe tbody tr th:only-of-type {\n",
       "        vertical-align: middle;\n",
       "    }\n",
       "\n",
       "    .dataframe tbody tr th {\n",
       "        vertical-align: top;\n",
       "    }\n",
       "\n",
       "    .dataframe thead th {\n",
       "        text-align: right;\n",
       "    }\n",
       "</style>\n",
       "<table border=\"1\" class=\"dataframe\">\n",
       "  <thead>\n",
       "    <tr style=\"text-align: right;\">\n",
       "      <th></th>\n",
       "      <th>UserID</th>\n",
       "      <th>Gender</th>\n",
       "      <th>Age</th>\n",
       "      <th>Occupation</th>\n",
       "      <th>Zip-code</th>\n",
       "    </tr>\n",
       "  </thead>\n",
       "  <tbody>\n",
       "    <tr>\n",
       "      <th>0</th>\n",
       "      <td>1</td>\n",
       "      <td>F</td>\n",
       "      <td>1</td>\n",
       "      <td>10</td>\n",
       "      <td>48067</td>\n",
       "    </tr>\n",
       "    <tr>\n",
       "      <th>1</th>\n",
       "      <td>2</td>\n",
       "      <td>M</td>\n",
       "      <td>56</td>\n",
       "      <td>16</td>\n",
       "      <td>70072</td>\n",
       "    </tr>\n",
       "    <tr>\n",
       "      <th>2</th>\n",
       "      <td>3</td>\n",
       "      <td>M</td>\n",
       "      <td>25</td>\n",
       "      <td>15</td>\n",
       "      <td>55117</td>\n",
       "    </tr>\n",
       "    <tr>\n",
       "      <th>3</th>\n",
       "      <td>4</td>\n",
       "      <td>M</td>\n",
       "      <td>45</td>\n",
       "      <td>7</td>\n",
       "      <td>02460</td>\n",
       "    </tr>\n",
       "    <tr>\n",
       "      <th>4</th>\n",
       "      <td>5</td>\n",
       "      <td>M</td>\n",
       "      <td>25</td>\n",
       "      <td>20</td>\n",
       "      <td>55455</td>\n",
       "    </tr>\n",
       "  </tbody>\n",
       "</table>\n",
       "</div>"
      ],
      "text/plain": [
       "   UserID Gender  Age  Occupation Zip-code\n",
       "0       1      F    1          10    48067\n",
       "1       2      M   56          16    70072\n",
       "2       3      M   25          15    55117\n",
       "3       4      M   45           7    02460\n",
       "4       5      M   25          20    55455"
      ]
     },
     "execution_count": 7,
     "metadata": {},
     "output_type": "execute_result"
    }
   ],
   "source": [
    "df_user.head()"
   ]
  },
  {
   "cell_type": "code",
   "execution_count": 8,
   "id": "eb7516e3",
   "metadata": {},
   "outputs": [],
   "source": [
    "# 0: \"other\" or not specified\n",
    "\n",
    "# 1: \"academic/educator\"\n",
    "\n",
    "# 2: \"artist\"\n",
    "\n",
    "# 3: \"clerical/admin\"\n",
    "\n",
    "# 4: \"college/grad student\"\n",
    "\n",
    "# 5: \"customer service\"\n",
    "\n",
    "# 6: \"doctor/health care\"\n",
    "\n",
    "# 7: \"executive/managerial\"\n",
    "\n",
    "# 8: \"farmer\"\n",
    "\n",
    "# 9: \"homemaker\"\n",
    "\n",
    "# 10: \"K-12 student\"\n",
    "\n",
    "# 11: \"lawyer\"\n",
    "\n",
    "# 12: \"programmer\"\n",
    "\n",
    "# 13: \"retired\"\n",
    "\n",
    "# 14: \"sales/marketing\"\n",
    "\n",
    "# 15: \"scientist\"\n",
    "\n",
    "# 16: \"self-employed\"\n",
    "\n",
    "# 17: \"technician/engineer\"\n",
    "\n",
    "# 18: \"tradesman/craftsman\"\n",
    "\n",
    "# 19: \"unemployed\"\n",
    "\n",
    "# 20: \"writer\"\n",
    "\n",
    "def user_occupation_preprocessing(val):\n",
    "    if(val==20):\n",
    "        return \"writer\"\n",
    "    if(val==19):\n",
    "        \"Unemployed\"\n",
    "    if(val==18):\n",
    "        return \"tradesman/craftsman\"\n",
    "    if(val==17):\n",
    "        return \"technician/engineer\"\n",
    "    if(val==16):\n",
    "        return \"self-employed\"\n",
    "    if(val==15):\n",
    "        return \"scientist\"\n",
    "    if(val==14):\n",
    "        return \"sales/marketing\"\n",
    "    if(val==13):\n",
    "        return \"retired\"\n",
    "    if(val==14):\n",
    "        return \"sales/marketing\"\n",
    "    if(val==13):\n",
    "        return \"retired\"\n",
    "    if(val==12):\n",
    "        return \"programmer\"\n",
    "    if(val==11):\n",
    "        return \"lawyer\"\n",
    "    if(val==10):\n",
    "        return \"K-12 student\"\n",
    "    if(val==9):\n",
    "        return \"homemaker\"\n",
    "    if(val==8):\n",
    "        return \"farmer\"\n",
    "    if(val==7):\n",
    "        return \"executive/managerial\"\n",
    "    if(val==6):\n",
    "        return \"doctor/health care\"\n",
    "    if(val==5):\n",
    "        return \"customer service\"\n",
    "    if(val==4):\n",
    "        return \"college/grad student\"\n",
    "    if(val==3):\n",
    "        return \"clerical/admin\"\n",
    "    if(val==2):\n",
    "        return \"artist\"\n",
    "    if(val==1):\n",
    "        return \"academic/educator\"\n",
    "    if(val==0):\n",
    "        return \"other/not specified\"\n",
    "       \n",
    "        \n",
    "        \n",
    "        \n",
    "        \n",
    "        \n",
    "        \n",
    "        \n",
    "\n",
    "def user_age_preprocessing(val):\n",
    "    if(val==1):\n",
    "        return \"Under 18\"\n",
    "    if(val==18):\n",
    "        return \"18-24\"\n",
    "    if(val==25):\n",
    "        return \"25-34\"\n",
    "    if(val==35):\n",
    "        return \"35-44\"\n",
    "    if(val==50):\n",
    "        return \"50-55\"\n",
    "    if(val==56):\n",
    "        return \"56+\";"
   ]
  },
  {
   "cell_type": "markdown",
   "id": "f1d4466a",
   "metadata": {},
   "source": [
    "# Univariate Analysis of Gender"
   ]
  },
  {
   "cell_type": "code",
   "execution_count": 9,
   "id": "f20edaa6",
   "metadata": {},
   "outputs": [],
   "source": [
    "df_user['Age'] = df_user['Age'].apply(user_age_preprocessing)\n",
    "df_user['Occupation'] = df_user['Occupation'].apply(user_occupation_preprocessing)"
   ]
  },
  {
   "cell_type": "code",
   "execution_count": 10,
   "id": "f18ef3c1",
   "metadata": {},
   "outputs": [
    {
     "data": {
      "image/png": "[encoded data removed]",
      "text/plain": [
       "<Figure size 640x480 with 1 Axes>"
      ]
     },
     "metadata": {},
     "output_type": "display_data"
    }
   ],
   "source": [
    "plt.title('Gender Distribution Analysis')\n",
    "ax = sns.countplot(data=df_user,x='Gender')\n",
    "\n",
    "for p in ax.patches:\n",
    "    ax.annotate(f'{p.get_height()}', (p.get_x() + p.get_width() / 2., p.get_height()),\n",
    "                ha='center', va='center', xytext=(0, 5), textcoords='offset points')\n",
    "plt.show()"
   ]
  },
  {
   "cell_type": "markdown",
   "id": "6f8d48ec",
   "metadata": {},
   "source": [
    "# Observation \n",
    "Male Users are more as compare to Female User"
   ]
  },
  {
   "cell_type": "code",
   "execution_count": 14,
   "id": "9e29135a",
   "metadata": {},
   "outputs": [
    {
     "data": {
      "image/png": "[encoded data removed]",
      "text/plain": [
       "<Figure size 640x480 with 1 Axes>"
      ]
     },
     "metadata": {},
     "output_type": "display_data"
    },
    {
     "data": {
      "image/png": "[encoded data removed]",
      "text/plain": [
       "<Figure size 640x480 with 1 Axes>"
      ]
     },
     "metadata": {},
     "output_type": "display_data"
    }
   ],
   "source": [
    "ax = sns.countplot(data=df_user,x='Age')\n",
    "plt.title('Age Distribution Analysis')\n",
    "for p in ax.patches:\n",
    "    ax.annotate(f'{p.get_height()}', (p.get_x() + p.get_width() / 2., p.get_height()),\n",
    "                ha='center', va='center', xytext=(0, 5), textcoords='offset points')\n",
    "plt.show()\n",
    "\n",
    "ax = sns.countplot(data=df_user,x='Age',hue='Gender')\n",
    "plt.title('Age and Gender Distribution Analysis')\n",
    "for p in ax.patches:\n",
    "    ax.annotate(f'{p.get_height()}', (p.get_x() + p.get_width() / 2., p.get_height()),\n",
    "                ha='center', va='center', xytext=(0, 5), textcoords='offset points')\n",
    "plt.show()"
   ]
  },
  {
   "cell_type": "markdown",
   "id": "f909819c",
   "metadata": {},
   "source": [
    "# Observation \n",
    "1. It is observed that users of age between 25 to 34 are highly active.\n",
    "2. It is observed that Male users of age between 25 to 34 are highly active.\n",
    "3. It is observed that user with age group of 56+ is less."
   ]
  },
  {
   "cell_type": "code",
   "execution_count": null,
   "id": "0e319271",
   "metadata": {},
   "outputs": [],
   "source": []
  }
 ],
 "metadata": {
  "kernelspec": {
   "display_name": "Python 3 (ipykernel)",
   "language": "python",
   "name": "python3"
  },
  "language_info": {
   "codemirror_mode": {
    "name": "ipython",
    "version": 3
   },
   "file_extension": ".py",
   "mimetype": "text/x-python",
   "name": "python",
   "nbconvert_exporter": "python",
   "pygments_lexer": "ipython3",
   "version": "3.11.4"
  }
 },
 "nbformat": 4,
 "nbformat_minor": 5
}
