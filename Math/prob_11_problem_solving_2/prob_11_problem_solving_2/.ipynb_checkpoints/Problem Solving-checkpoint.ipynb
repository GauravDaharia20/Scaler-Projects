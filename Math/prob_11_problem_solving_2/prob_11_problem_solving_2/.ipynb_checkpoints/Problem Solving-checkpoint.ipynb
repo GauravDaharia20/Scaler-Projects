{
 "cells": [
  {
   "cell_type": "code",
   "execution_count": 57,
   "id": "ac237e65",
   "metadata": {},
   "outputs": [],
   "source": [
    "## Let's import the \"Usual Suspects\"\n",
    "from scipy.stats import expon, poisson, binom, norm\n",
    "import pandas as pd\n",
    "import seaborn as sns\n",
    "import numpy as np"
   ]
  },
  {
   "cell_type": "markdown",
   "id": "682c9271",
   "metadata": {},
   "source": [
    "## The Log-Normal Distribution"
   ]
  },
  {
   "cell_type": "code",
   "execution_count": 2,
   "id": "be09930b",
   "metadata": {},
   "outputs": [],
   "source": [
    "df_hosp = pd.read_csv(\"waiting_time.csv\")"
   ]
  },
  {
   "cell_type": "code",
   "execution_count": 3,
   "id": "5b9a6a84",
   "metadata": {},
   "outputs": [
    {
     "data": {
      "text/plain": [
       "<AxesSubplot:ylabel='Count'>"
      ]
     },
     "execution_count": 3,
     "metadata": {},
     "output_type": "execute_result"
    },
    {
     "data": {
      "image/png": "[encoded data removed]",
      "text/plain": [
       "<Figure size 432x288 with 1 Axes>"
      ]
     },
     "metadata": {
      "needs_background": "light"
     },
     "output_type": "display_data"
    }
   ],
   "source": [
    "sns.histplot(df_hosp, bins=30)"
   ]
  },
  {
   "cell_type": "code",
   "execution_count": 5,
   "id": "489e96dd",
   "metadata": {},
   "outputs": [
    {
     "data": {
      "text/plain": [
       "<AxesSubplot:ylabel='Density'>"
      ]
     },
     "execution_count": 5,
     "metadata": {},
     "output_type": "execute_result"
    },
    {
     "data": {
      "image/png": "[encoded data removed]",
      "text/plain": [
       "<Figure size 432x288 with 1 Axes>"
      ]
     },
     "metadata": {
      "needs_background": "light"
     },
     "output_type": "display_data"
    }
   ],
   "source": [
    "log_waiting_time = np.log(df_hosp)\n",
    "sns.histplot(log_waiting_time, bins=100, stat=\"density\")"
   ]
  },
  {
   "cell_type": "code",
   "execution_count": 6,
   "id": "bff062fb",
   "metadata": {},
   "outputs": [
    {
     "name": "stdout",
     "output_type": "stream",
     "text": [
      "Mean: time    3.986117\n",
      "dtype: float64\n",
      "STD: time    0.790491\n",
      "dtype: float64\n"
     ]
    }
   ],
   "source": [
    "print(f\"Mean: {log_waiting_time.mean()}\")\n",
    "print(f\"STD: {log_waiting_time.std()}\")"
   ]
  },
  {
   "cell_type": "markdown",
   "id": "b5c9e899",
   "metadata": {},
   "source": [
    "## Supply Chain"
   ]
  },
  {
   "cell_type": "code",
   "execution_count": 7,
   "id": "5757ae59",
   "metadata": {},
   "outputs": [],
   "source": [
    "df = pd.read_csv(\"toothpaste.csv\")"
   ]
  },
  {
   "cell_type": "code",
   "execution_count": 8,
   "id": "c6ab7213",
   "metadata": {},
   "outputs": [
    {
     "data": {
      "text/html": [
       "<div>\n",
       "<style scoped>\n",
       "    .dataframe tbody tr th:only-of-type {\n",
       "        vertical-align: middle;\n",
       "    }\n",
       "\n",
       "    .dataframe tbody tr th {\n",
       "        vertical-align: top;\n",
       "    }\n",
       "\n",
       "    .dataframe thead th {\n",
       "        text-align: right;\n",
       "    }\n",
       "</style>\n",
       "<table border=\"1\" class=\"dataframe\">\n",
       "  <thead>\n",
       "    <tr style=\"text-align: right;\">\n",
       "      <th></th>\n",
       "      <th>sales</th>\n",
       "    </tr>\n",
       "  </thead>\n",
       "  <tbody>\n",
       "    <tr>\n",
       "      <th>0</th>\n",
       "      <td>1274</td>\n",
       "    </tr>\n",
       "    <tr>\n",
       "      <th>1</th>\n",
       "      <td>1210</td>\n",
       "    </tr>\n",
       "    <tr>\n",
       "      <th>2</th>\n",
       "      <td>1036</td>\n",
       "    </tr>\n",
       "    <tr>\n",
       "      <th>3</th>\n",
       "      <td>966</td>\n",
       "    </tr>\n",
       "    <tr>\n",
       "      <th>4</th>\n",
       "      <td>1500</td>\n",
       "    </tr>\n",
       "  </tbody>\n",
       "</table>\n",
       "</div>"
      ],
      "text/plain": [
       "   sales\n",
       "0   1274\n",
       "1   1210\n",
       "2   1036\n",
       "3    966\n",
       "4   1500"
      ]
     },
     "execution_count": 8,
     "metadata": {},
     "output_type": "execute_result"
    }
   ],
   "source": [
    "df.head()"
   ]
  },
  {
   "cell_type": "code",
   "execution_count": 9,
   "id": "0f980e68",
   "metadata": {},
   "outputs": [
    {
     "data": {
      "text/plain": [
       "<AxesSubplot:ylabel='Count'>"
      ]
     },
     "execution_count": 9,
     "metadata": {},
     "output_type": "execute_result"
    },
    {
     "data": {
      "image/png": "[encoded data removed]",
      "text/plain": [
       "<Figure size 432x288 with 1 Axes>"
      ]
     },
     "metadata": {
      "needs_background": "light"
     },
     "output_type": "display_data"
    }
   ],
   "source": [
    "sns.histplot(df)"
   ]
  },
  {
   "cell_type": "code",
   "execution_count": 14,
   "id": "28477f83",
   "metadata": {},
   "outputs": [
    {
     "name": "stdout",
     "output_type": "stream",
     "text": [
      "Mean: sales    1006.336\n",
      "dtype: float64\n",
      "Mean: sales    199.152557\n",
      "dtype: float64\n"
     ]
    }
   ],
   "source": [
    "mu = df.mean()\n",
    "std = df.std()\n",
    "\n",
    "print(f\"Mean: {df.mean()}\")\n",
    "print(f\"Mean: {df.std()}\")"
   ]
  },
  {
   "cell_type": "markdown",
   "id": "42f4ba71",
   "metadata": {},
   "source": [
    "Suppose the store has **beginning on-hand (BOH)** inventory of 1300. If the demand is more than the BOH, there is a need for stock **replenishment**. "
   ]
  },
  {
   "cell_type": "markdown",
   "id": "5190c8e1",
   "metadata": {},
   "source": [
    "Suppose there are 2000 stores, each with BOH of 1300. The **distribution center (DC)** needs to calculate the number of stores which might need replenishment before next Sunday. Which distribution best characterizes this number?"
   ]
  },
  {
   "cell_type": "code",
   "execution_count": 15,
   "id": "243c254c",
   "metadata": {},
   "outputs": [
    {
     "name": "stdout",
     "output_type": "stream",
     "text": [
      "[0.07016435]\n"
     ]
    }
   ],
   "source": [
    "## Probability that a store sells more than 1300 toothpastes \n",
    "##  - P(X > 1300) = 1 - P(X <= 1300)\n",
    "z = (1300 -  mu) / std\n",
    "print(1 - norm.cdf(z))"
   ]
  },
  {
   "cell_type": "code",
   "execution_count": 17,
   "id": "d8281689",
   "metadata": {},
   "outputs": [
    {
     "name": "stdout",
     "output_type": "stream",
     "text": [
      "Expected number of stores:  [140.32870615]\n"
     ]
    }
   ],
   "source": [
    "n = 2000\n",
    "p = 1 - norm.cdf(z)\n",
    "\n",
    "## Binomial!!!\n",
    "# We are tossing a coin 2000 times, and the probability of heads is 0.07.\n",
    "# How many heads can I expect?\n",
    "print(\"Expected number of stores: \", n * p)"
   ]
  },
  {
   "cell_type": "code",
   "execution_count": 18,
   "id": "08483450",
   "metadata": {},
   "outputs": [
    {
     "name": "stdout",
     "output_type": "stream",
     "text": [
      "Prob: 0.7405030708792849\n"
     ]
    }
   ],
   "source": [
    "## Airline problem\n",
    "print(f\"Prob: {1 - binom.cdf(n=52, k = 1, p = 0.05)}\")"
   ]
  },
  {
   "cell_type": "code",
   "execution_count": 20,
   "id": "5e43f22f",
   "metadata": {},
   "outputs": [
    {
     "name": "stdout",
     "output_type": "stream",
     "text": [
      "Prob: 0.7405030708792848\n"
     ]
    }
   ],
   "source": [
    "print(f\"Prob: {binom.cdf(n=52, k = 50, p = 0.95)}\")"
   ]
  },
  {
   "cell_type": "code",
   "execution_count": 69,
   "id": "1c842c30",
   "metadata": {},
   "outputs": [
    {
     "name": "stdout",
     "output_type": "stream",
     "text": [
      "Prob: 0.7326151184283981\n"
     ]
    }
   ],
   "source": [
    "## This works becasue the two conditions are satisfied:\n",
    "## a) p <= 0.05, \n",
    "## b) n >= 30\n",
    "print(f\"Prob: {1 - poisson.cdf(k=1, mu = (0.05 * 52) )}\")"
   ]
  },
  {
   "cell_type": "code",
   "execution_count": 68,
   "id": "714bcf67",
   "metadata": {},
   "outputs": [
    {
     "name": "stdout",
     "output_type": "stream",
     "text": [
      "Prob: 0.571270939904176\n"
     ]
    }
   ],
   "source": [
    "## Won't work because p > 0.05\n",
    "print(f\"Prob: {poisson.cdf(k=50, mu = (0.95 * 52) )}\")"
   ]
  },
  {
   "cell_type": "code",
   "execution_count": 29,
   "id": "19760c99",
   "metadata": {},
   "outputs": [
    {
     "name": "stdout",
     "output_type": "stream",
     "text": [
      "probability that the first test shows healthy blood: 0.3486784401000001\n",
      "Expected number of tests conducted: 7.5132155990000005\n",
      "Number of tests saved: 2.0\n"
     ]
    }
   ],
   "source": [
    "## Blood test problem\n",
    "pool_size = 10\n",
    "py = binom.pmf(n = pool_size, k = 0, p = 0.1)\n",
    "expected_num = py * 1 + (1-py) * (pool_size+1)\n",
    "print(f\"probability that the first test shows healthy blood: {py}\")\n",
    "print(f\"Expected number of tests conducted: {expected_num}\")\n",
    "print(f\"Number of tests saved: {pool_size - np.ceil(expected_num)}\")"
   ]
  },
  {
   "cell_type": "code",
   "execution_count": 33,
   "id": "e6852463",
   "metadata": {},
   "outputs": [
    {
     "name": "stdout",
     "output_type": "stream",
     "text": [
      "Number of tests saved: -1.0\n",
      "Number of tests saved: 0.0\n",
      "Number of tests saved: 1.0\n",
      "Number of tests saved: 1.0\n",
      "Number of tests saved: 1.0\n",
      "Number of tests saved: 2.0\n",
      "Number of tests saved: 2.0\n",
      "Number of tests saved: 2.0\n",
      "Number of tests saved: 2.0\n",
      "Number of tests saved: 2.0\n"
     ]
    }
   ],
   "source": [
    "## Blood test problem\n",
    "for pool_size in range(1, 11):\n",
    "    py = binom.pmf(n = pool_size, k = 0, p = 0.1)\n",
    "    expected_num = py * 1 + (1-py) * (pool_size+1)\n",
    "    #print(f\"probability that the first test shows healthy blood: {py}\")\n",
    "    #print(f\"Expected number of tests conducted: {expected_num}\")\n",
    "    print(f\"Number of tests saved: {pool_size - np.ceil(expected_num)}\")"
   ]
  },
  {
   "cell_type": "code",
   "execution_count": 41,
   "id": "8d17eec3",
   "metadata": {},
   "outputs": [],
   "source": [
    "## Coin\n",
    "def biased_coin():\n",
    "    array = [\"H\"] * 7 + [\"T\"] * 3\n",
    "    return np.random.choice(array)"
   ]
  },
  {
   "cell_type": "code",
   "execution_count": 47,
   "id": "5cf12f63",
   "metadata": {},
   "outputs": [
    {
     "name": "stdout",
     "output_type": "stream",
     "text": [
      "H\n"
     ]
    }
   ],
   "source": [
    "print(biased_coin())"
   ]
  },
  {
   "cell_type": "code",
   "execution_count": 53,
   "id": "faea708a",
   "metadata": {},
   "outputs": [
    {
     "name": "stdout",
     "output_type": "stream",
     "text": [
      "T\n"
     ]
    }
   ],
   "source": [
    "def fair_coin():\n",
    "    result = biased_coin()\n",
    "    \n",
    "    ct1 = biased_coin()\n",
    "    ct2 = biased_coin()\n",
    "    \n",
    "    outcome = ct1 + ct2\n",
    "    \n",
    "    if outcome == \"HT\" or outcome == \"TH\":\n",
    "        ## X Has happened!!\n",
    "        if outcome == \"HT\":\n",
    "            return \"H\"\n",
    "        else:\n",
    "            return \"T\"\n",
    "    else:\n",
    "        return fair_coin()\n",
    "        \n",
    "print(fair_coin())"
   ]
  },
  {
   "cell_type": "code",
   "execution_count": 54,
   "id": "800b4ef8",
   "metadata": {},
   "outputs": [
    {
     "name": "stdout",
     "output_type": "stream",
     "text": [
      "prob:  0.4876\n"
     ]
    }
   ],
   "source": [
    "num_trials = 10000\n",
    "x = np.array([fair_coin() for i in range(num_trials)])\n",
    "den = len(x)\n",
    "num = len(x[x == \"H\"])\n",
    "\n",
    "print(\"prob: \", num/den)"
   ]
  },
  {
   "cell_type": "code",
   "execution_count": 56,
   "id": "6979336e",
   "metadata": {},
   "outputs": [
    {
     "name": "stdout",
     "output_type": "stream",
     "text": [
      "prob:  0.6955\n"
     ]
    }
   ],
   "source": [
    "num_trials = 10000\n",
    "x = np.array([biased_coin() for i in range(num_trials)])\n",
    "den = len(x)\n",
    "num = len(x[x == \"H\"])\n",
    "\n",
    "print(\"prob: \", num/den)"
   ]
  },
  {
   "cell_type": "code",
   "execution_count": 59,
   "id": "1e5a59ba",
   "metadata": {},
   "outputs": [
    {
     "name": "stdout",
     "output_type": "stream",
     "text": [
      "P(X <= 6):  0.950212931632136\n"
     ]
    }
   ],
   "source": [
    "print(\"P(X <= 6): \", expon.cdf(6, scale=2))"
   ]
  },
  {
   "cell_type": "code",
   "execution_count": 58,
   "id": "2ab18d4f",
   "metadata": {},
   "outputs": [
    {
     "name": "stdout",
     "output_type": "stream",
     "text": [
      "Help on method cdf in module scipy.stats._distn_infrastructure:\n",
      "\n",
      "cdf(x, *args, **kwds) method of scipy.stats._continuous_distns.expon_gen instance\n",
      "    Cumulative distribution function of the given RV.\n",
      "    \n",
      "    Parameters\n",
      "    ----------\n",
      "    x : array_like\n",
      "        quantiles\n",
      "    arg1, arg2, arg3,... : array_like\n",
      "        The shape parameter(s) for the distribution (see docstring of the\n",
      "        instance object for more information)\n",
      "    loc : array_like, optional\n",
      "        location parameter (default=0)\n",
      "    scale : array_like, optional\n",
      "        scale parameter (default=1)\n",
      "    \n",
      "    Returns\n",
      "    -------\n",
      "    cdf : ndarray\n",
      "        Cumulative distribution function evaluated at `x`\n",
      "\n"
     ]
    }
   ],
   "source": [
    "help(expon.cdf)"
   ]
  },
  {
   "cell_type": "code",
   "execution_count": null,
   "id": "d48678ed",
   "metadata": {},
   "outputs": [],
   "source": []
  }
 ],
 "metadata": {
  "kernelspec": {
   "display_name": "Python 3 (ipykernel)",
   "language": "python",
   "name": "python3"
  },
  "language_info": {
   "codemirror_mode": {
    "name": "ipython",
    "version": 3
   },
   "file_extension": ".py",
   "mimetype": "text/x-python",
   "name": "python",
   "nbconvert_exporter": "python",
   "pygments_lexer": "ipython3",
   "version": "3.9.12"
  }
 },
 "nbformat": 4,
 "nbformat_minor": 5
}
