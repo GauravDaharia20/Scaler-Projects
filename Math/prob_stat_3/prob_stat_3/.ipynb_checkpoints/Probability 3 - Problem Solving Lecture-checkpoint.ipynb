{
 "cells": [
  {
   "cell_type": "code",
   "execution_count": 1,
   "id": "bc2c2b1b",
   "metadata": {},
   "outputs": [],
   "source": [
    "import numpy as np"
   ]
  },
  {
   "cell_type": "code",
   "execution_count": 11,
   "id": "45f900ee",
   "metadata": {},
   "outputs": [
    {
     "data": {
      "text/plain": [
       "'G'"
      ]
     },
     "execution_count": 11,
     "metadata": {},
     "output_type": "execute_result"
    }
   ],
   "source": [
    "#'B' - the event that we have a boy\n",
    "#'G' - the event that we have a girl\n",
    "np.random.choice(['B', 'G'])"
   ]
  },
  {
   "cell_type": "code",
   "execution_count": 27,
   "id": "340004e7",
   "metadata": {},
   "outputs": [
    {
     "name": "stdout",
     "output_type": "stream",
     "text": [
      "Number of boys: 5041\n",
      "Probability of boy:  0.5041\n"
     ]
    }
   ],
   "source": [
    "outcomes = []\n",
    "for i in range(num_families):\n",
    "    x = np.random.choice(['B', 'G'])\n",
    "    outcomes.append(x)\n",
    "\n",
    "## What is the probability of boy?\n",
    "outcomes = np.array(outcomes)\n",
    "num_boys = len(outcomes[outcomes == \"B\"])\n",
    "print(f\"Number of boys: {num_boys}\")\n",
    "\n",
    "probability = num_boys / len(outcomes)\n",
    "print(\"Probability of boy: \", probability)"
   ]
  },
  {
   "cell_type": "code",
   "execution_count": 21,
   "id": "3a9a6e7e",
   "metadata": {},
   "outputs": [],
   "source": [
    "numerator = 0\n",
    "denominator = 0\n",
    "\n",
    "num_families = 10000\n",
    "\n",
    "outcomes = []\n",
    "for i in range(num_families):\n",
    "    x1 = np.random.choice(['B', 'G'])\n",
    "    x2 = np.random.choice(['B', 'G'])\n",
    "    outcomes.append((x1, x2))\n",
    "\n",
    "outcomes = np.array(outcomes)\n",
    "numerator = len(outcomes[outcomes == ('G', 'G')])\n",
    "denominator = len(outcomes[outcomes == ('G', 'G')]) + len(outcomes[outcomes == ('B', 'G')]) + len(outcomes[outcomes == ('G', 'B')])"
   ]
  },
  {
   "cell_type": "code",
   "execution_count": null,
   "id": "e1d87293",
   "metadata": {},
   "outputs": [],
   "source": []
  }
 ],
 "metadata": {
  "kernelspec": {
   "display_name": "Python 3 (ipykernel)",
   "language": "python",
   "name": "python3"
  },
  "language_info": {
   "codemirror_mode": {
    "name": "ipython",
    "version": 3
   },
   "file_extension": ".py",
   "mimetype": "text/x-python",
   "name": "python",
   "nbconvert_exporter": "python",
   "pygments_lexer": "ipython3",
   "version": "3.9.12"
  }
 },
 "nbformat": 4,
 "nbformat_minor": 5
}
