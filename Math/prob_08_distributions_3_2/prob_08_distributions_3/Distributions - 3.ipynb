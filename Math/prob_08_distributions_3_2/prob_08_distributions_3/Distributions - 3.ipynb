{
 "cells": [
  {
   "cell_type": "code",
   "execution_count": 9,
   "id": "7d7a547e",
   "metadata": {},
   "outputs": [],
   "source": [
    "from scipy.stats import poisson"
   ]
  },
  {
   "cell_type": "code",
   "execution_count": 10,
   "id": "b026fc3f",
   "metadata": {},
   "outputs": [
    {
     "data": {
      "text/plain": [
       "0.10081881344492458"
      ]
     },
     "execution_count": 10,
     "metadata": {},
     "output_type": "execute_result"
    }
   ],
   "source": [
    "poisson.pmf(k = 5, mu = 3)"
   ]
  },
  {
   "cell_type": "code",
   "execution_count": 7,
   "id": "bd9fdac5",
   "metadata": {},
   "outputs": [
    {
     "data": {
      "text/plain": [
       "0.10081881344492448"
      ]
     },
     "execution_count": 7,
     "metadata": {},
     "output_type": "execute_result"
    }
   ],
   "source": [
    "import math as m\n",
    "def poisson_pmf(k, mu):\n",
    "    return mu**k * m.exp(-mu) / m.factorial(k)\n",
    "\n",
    "poisson(5, 3)"
   ]
  },
  {
   "cell_type": "code",
   "execution_count": 11,
   "id": "8cab5bb9",
   "metadata": {},
   "outputs": [
    {
     "data": {
      "text/plain": [
       "0.1991482734714558"
      ]
     },
     "execution_count": 11,
     "metadata": {},
     "output_type": "execute_result"
    }
   ],
   "source": [
    "pX0 = poisson.pmf(k=0, mu=3)\n",
    "pX1 = poisson.pmf(k=1, mu=3)\n",
    "pX0 + pX1"
   ]
  },
  {
   "cell_type": "code",
   "execution_count": 15,
   "id": "ed3a1550",
   "metadata": {},
   "outputs": [
    {
     "name": "stdout",
     "output_type": "stream",
     "text": [
      "0.1991482734714558\n"
     ]
    }
   ],
   "source": [
    "print(poisson.cdf(k = 1, mu = 3))"
   ]
  },
  {
   "cell_type": "code",
   "execution_count": 16,
   "id": "40dbb012",
   "metadata": {},
   "outputs": [
    {
     "data": {
      "text/plain": [
       "0.24902769151284776"
      ]
     },
     "execution_count": 16,
     "metadata": {},
     "output_type": "execute_result"
    }
   ],
   "source": [
    "poisson.cdf(k = 15, mu = 18.5)"
   ]
  },
  {
   "cell_type": "code",
   "execution_count": 18,
   "id": "861deab6",
   "metadata": {},
   "outputs": [
    {
     "data": {
      "text/plain": [
       "0.9992622541111789"
      ]
     },
     "execution_count": 18,
     "metadata": {},
     "output_type": "execute_result"
    }
   ],
   "source": [
    "1 - poisson.cdf(k = 6, mu=18.5)"
   ]
  },
  {
   "cell_type": "code",
   "execution_count": 19,
   "id": "727d61a9",
   "metadata": {},
   "outputs": [
    {
     "data": {
      "text/plain": [
       "0.2706705664732254"
      ]
     },
     "execution_count": 19,
     "metadata": {},
     "output_type": "execute_result"
    }
   ],
   "source": [
    "poisson.pmf(k = 1, mu = 2)"
   ]
  },
  {
   "cell_type": "code",
   "execution_count": 20,
   "id": "2df52bec",
   "metadata": {},
   "outputs": [
    {
     "data": {
      "text/plain": [
       "0.36787944117144233"
      ]
     },
     "execution_count": 20,
     "metadata": {},
     "output_type": "execute_result"
    }
   ],
   "source": [
    "poisson.pmf(k = 0, mu=1)"
   ]
  },
  {
   "cell_type": "code",
   "execution_count": 21,
   "id": "1433203e",
   "metadata": {},
   "outputs": [
    {
     "data": {
      "text/plain": [
       "0.10370316509877235"
      ]
     },
     "execution_count": 21,
     "metadata": {},
     "output_type": "execute_result"
    }
   ],
   "source": [
    "poisson.pmf(k=3, mu=1.33)"
   ]
  },
  {
   "cell_type": "code",
   "execution_count": 22,
   "id": "d3cb695f",
   "metadata": {},
   "outputs": [
    {
     "data": {
      "text/plain": [
       "0.09645061728395063"
      ]
     },
     "execution_count": 22,
     "metadata": {},
     "output_type": "execute_result"
    }
   ],
   "source": [
    "from scipy.stats import geom\n",
    "geom.pmf(k=4, p=1/6)"
   ]
  },
  {
   "cell_type": "code",
   "execution_count": 23,
   "id": "87e0e458",
   "metadata": {},
   "outputs": [
    {
     "data": {
      "text/plain": [
       "0.4212962962962963"
      ]
     },
     "execution_count": 23,
     "metadata": {},
     "output_type": "execute_result"
    }
   ],
   "source": [
    "geom.cdf(k=3, p=1/6)"
   ]
  },
  {
   "cell_type": "code",
   "execution_count": 24,
   "id": "1f64fc45",
   "metadata": {},
   "outputs": [
    {
     "data": {
      "text/plain": [
       "0.6944444444444444"
      ]
     },
     "execution_count": 24,
     "metadata": {},
     "output_type": "execute_result"
    }
   ],
   "source": [
    "1 - geom.cdf(k=2, p=1/6)"
   ]
  },
  {
   "cell_type": "code",
   "execution_count": 25,
   "id": "0f7ec4b2",
   "metadata": {},
   "outputs": [
    {
     "data": {
      "text/plain": [
       "0.018900000000000007"
      ]
     },
     "execution_count": 25,
     "metadata": {},
     "output_type": "execute_result"
    }
   ],
   "source": [
    "geom.pmf(k=4, p=0.7)"
   ]
  },
  {
   "cell_type": "code",
   "execution_count": 26,
   "id": "bf9c965f",
   "metadata": {},
   "outputs": [
    {
     "data": {
      "text/plain": [
       "0.08999999999999997"
      ]
     },
     "execution_count": 26,
     "metadata": {},
     "output_type": "execute_result"
    }
   ],
   "source": [
    "1- geom.cdf(k=2, p = 0.7)"
   ]
  },
  {
   "cell_type": "code",
   "execution_count": 27,
   "id": "da9821c5",
   "metadata": {},
   "outputs": [
    {
     "data": {
      "text/plain": [
       "1.4285714285714286"
      ]
     },
     "execution_count": 27,
     "metadata": {},
     "output_type": "execute_result"
    }
   ],
   "source": [
    "geom.expect(args=(0.7,))"
   ]
  },
  {
   "cell_type": "code",
   "execution_count": 31,
   "id": "238ba4e8",
   "metadata": {},
   "outputs": [
    {
     "data": {
      "text/plain": [
       "0.08999999999999997"
      ]
     },
     "execution_count": 31,
     "metadata": {},
     "output_type": "execute_result"
    }
   ],
   "source": [
    "1 - geom.cdf(k=2, p=0.7)"
   ]
  },
  {
   "cell_type": "code",
   "execution_count": 33,
   "id": "55578139",
   "metadata": {},
   "outputs": [
    {
     "data": {
      "text/plain": [
       "<AxesSubplot:>"
      ]
     },
     "execution_count": 33,
     "metadata": {},
     "output_type": "execute_result"
    },
    {
     "data": {
      "image/png": "[encoded data removed]",
      "text/plain": [
       "<Figure size 432x288 with 1 Axes>"
      ]
     },
     "metadata": {
      "needs_background": "light"
     },
     "output_type": "display_data"
    }
   ],
   "source": [
    "from matplotlib import pyplot as plt\n",
    "import seaborn as sns\n",
    "import numpy as np\n",
    "\n",
    "mu = 3.5\n",
    "x_vals = np.arange(0, 20)\n",
    "y_vals = poisson.pmf(x_vals, mu=mu)\n",
    "sns.barplot(x=x_vals, y = y_vals)"
   ]
  },
  {
   "cell_type": "code",
   "execution_count": 35,
   "id": "44ed985b",
   "metadata": {},
   "outputs": [
    {
     "data": {
      "text/plain": [
       "array([0.03, 0.11, 0.18, 0.22, 0.19, 0.13, 0.08, 0.04, 0.02, 0.01, 0.  ,\n",
       "       0.  , 0.  , 0.  , 0.  , 0.  , 0.  , 0.  , 0.  , 0.  ])"
      ]
     },
     "execution_count": 35,
     "metadata": {},
     "output_type": "execute_result"
    }
   ],
   "source": [
    "np.round(y_vals, 2)"
   ]
  },
  {
   "cell_type": "code",
   "execution_count": 37,
   "id": "438b5d8b",
   "metadata": {},
   "outputs": [
    {
     "name": "stdout",
     "output_type": "stream",
     "text": [
      "0.9199974240184564\n",
      "0.9772498680518208\n"
     ]
    }
   ],
   "source": [
    "from scipy.stats import norm\n",
    "cdf = norm.cdf\n",
    "mu = 0\n",
    "s = 1\n",
    "print((cdf(1) + cdf(3))/2)\n",
    "print(cdf(2))"
   ]
  },
  {
   "cell_type": "code",
   "execution_count": 39,
   "id": "31046e68",
   "metadata": {},
   "outputs": [
    {
     "data": {
      "text/plain": [
       "<AxesSubplot:>"
      ]
     },
     "execution_count": 39,
     "metadata": {},
     "output_type": "execute_result"
    },
    {
     "data": {
      "image/png": "[encoded data removed]",
      "text/plain": [
       "<Figure size 432x288 with 1 Axes>"
      ]
     },
     "metadata": {
      "needs_background": "light"
     },
     "output_type": "display_data"
    }
   ],
   "source": [
    "from matplotlib import pyplot as plt\n",
    "import seaborn as sns\n",
    "import numpy as np\n",
    "\n",
    "p = 0.7\n",
    "x_vals = np.arange(0, 20)\n",
    "y_vals = geom.pmf(x_vals, p=p)\n",
    "sns.barplot(x=x_vals, y = y_vals)"
   ]
  },
  {
   "cell_type": "code",
   "execution_count": null,
   "id": "b124db25",
   "metadata": {},
   "outputs": [],
   "source": []
  }
 ],
 "metadata": {
  "kernelspec": {
   "display_name": "Python 3 (ipykernel)",
   "language": "python",
   "name": "python3"
  },
  "language_info": {
   "codemirror_mode": {
    "name": "ipython",
    "version": 3
   },
   "file_extension": ".py",
   "mimetype": "text/x-python",
   "name": "python",
   "nbconvert_exporter": "python",
   "pygments_lexer": "ipython3",
   "version": "3.9.12"
  }
 },
 "nbformat": 4,
 "nbformat_minor": 5
}
