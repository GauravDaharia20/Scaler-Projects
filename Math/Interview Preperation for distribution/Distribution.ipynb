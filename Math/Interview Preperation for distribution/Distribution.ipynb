{
 "cells": [
  {
   "cell_type": "code",
   "execution_count": 1,
   "id": "d9bedecb",
   "metadata": {},
   "outputs": [],
   "source": [
    "from scipy.stats import poisson"
   ]
  },
  {
   "cell_type": "code",
   "execution_count": 4,
   "id": "0966a0a5",
   "metadata": {},
   "outputs": [
    {
     "data": {
      "text/plain": [
       "'\\nrate -> 3 typo/page\\nprobability of atmost -> 1 typo/page\\n\\n'"
      ]
     },
     "execution_count": 4,
     "metadata": {},
     "output_type": "execute_result"
    }
   ],
   "source": [
    "\"\"\"\n",
    "rate -> 3 typo/page\n",
    "probability of atmost -> 1 typo/page\n",
    "\n",
    "\"\"\""
   ]
  },
  {
   "cell_type": "code",
   "execution_count": 7,
   "id": "e6d523c8",
   "metadata": {},
   "outputs": [
    {
     "name": "stdout",
     "output_type": "stream",
     "text": [
      "0.1991482734714558 0.1991482734714558\n"
     ]
    }
   ],
   "source": [
    "op1 = poisson.pmf(k=0,mu=3) + poisson.pmf(k=1,mu=3)\n",
    "\n",
    "op2 = poisson.cdf(k=1,mu=3)\n",
    "\n",
    "print(op1,op2)"
   ]
  },
  {
   "cell_type": "code",
   "execution_count": 8,
   "id": "2512c092",
   "metadata": {},
   "outputs": [
    {
     "data": {
      "text/plain": [
       "'\\nA shop is open for 8 hours. The average number of customers is 74 \\n\\n\\nQ1) What is the average or expected number of customers in 2 hours?\\n\\nQ2) What is the probability that in 2 hours, there will be at most 15 customers?\\n\\nQ3) What is the probability that in 2 hours, there will be at least 7 customers?\\n\\n'"
      ]
     },
     "execution_count": 8,
     "metadata": {},
     "output_type": "execute_result"
    }
   ],
   "source": [
    "\"\"\"\n",
    "A shop is open for 8 hours. The average number of customers is 74 \\n\n",
    "\n",
    "Q1) What is the average or expected number of customers in 2 hours?\n",
    "\n",
    "Q2) What is the probability that in 2 hours, there will be at most 15 customers?\n",
    "\n",
    "Q3) What is the probability that in 2 hours, there will be at least 7 customers?\n",
    "\n",
    "\"\"\""
   ]
  },
  {
   "cell_type": "code",
   "execution_count": 11,
   "id": "235f6a70",
   "metadata": {},
   "outputs": [
    {
     "name": "stdout",
     "output_type": "stream",
     "text": [
      "18.5 0.2490276915128477 0.9992622541111789\n"
     ]
    }
   ],
   "source": [
    "ans1 = 18.5\n",
    "ans2 = poisson.cdf(k=15,mu=18.5)\n",
    "\n",
    "ans3= 1-poisson.cdf(k=6,mu=18.5)\n",
    "\n",
    "print(ans1,ans2,ans3)"
   ]
  },
  {
   "cell_type": "code",
   "execution_count": 12,
   "id": "b181ce47",
   "metadata": {},
   "outputs": [
    {
     "data": {
      "text/plain": [
       "'\\nYou receive 240 messages per hour on average - assume Poisson distributed.\\n\\nQ1) What is the average or expected number of messages in 30 seconds?\\n\\nQ2) What is the probability of one message arriving over a 30 second time interval?\\n\\nQ3) What is the probability that there are no messages in 15 seconds?\\n\\nQ4) What is the probability that there are 3 messages in 20 seconds?\\n\\n'"
      ]
     },
     "execution_count": 12,
     "metadata": {},
     "output_type": "execute_result"
    }
   ],
   "source": [
    "\"\"\"\n",
    "You receive 240 messages per hour on average - assume Poisson distributed.\n",
    "\n",
    "Q1) What is the average or expected number of messages in 30 seconds?\n",
    "\n",
    "Q2) What is the probability of one message arriving over a 30 second time interval?\n",
    "\n",
    "Q3) What is the probability that there are no messages in 15 seconds?\n",
    "\n",
    "Q4) What is the probability that there are 3 messages in 20 seconds?\n",
    "\n",
    "\"\"\""
   ]
  },
  {
   "cell_type": "code",
   "execution_count": 13,
   "id": "e30a4673",
   "metadata": {},
   "outputs": [
    {
     "name": "stdout",
     "output_type": "stream",
     "text": [
      "0.2706705664732254 0.36787944117144233 0.10370316509877235\n"
     ]
    }
   ],
   "source": [
    "ans1 = 2\n",
    "\n",
    "ans2 = poisson.pmf(k=1,mu=2)\n",
    "\n",
    "ans3 = poisson.pmf(k=0,mu=1)\n",
    "\n",
    "ans4 = poisson.pmf(k=3,mu=1.33)\n",
    "\n",
    "print(ans2,ans3,ans4)"
   ]
  },
  {
   "cell_type": "code",
   "execution_count": null,
   "id": "17c9dd63",
   "metadata": {},
   "outputs": [],
   "source": []
  }
 ],
 "metadata": {
  "kernelspec": {
   "display_name": "Python 3 (ipykernel)",
   "language": "python",
   "name": "python3"
  },
  "language_info": {
   "codemirror_mode": {
    "name": "ipython",
    "version": 3
   },
   "file_extension": ".py",
   "mimetype": "text/x-python",
   "name": "python",
   "nbconvert_exporter": "python",
   "pygments_lexer": "ipython3",
   "version": "3.9.13"
  }
 },
 "nbformat": 4,
 "nbformat_minor": 5
}
