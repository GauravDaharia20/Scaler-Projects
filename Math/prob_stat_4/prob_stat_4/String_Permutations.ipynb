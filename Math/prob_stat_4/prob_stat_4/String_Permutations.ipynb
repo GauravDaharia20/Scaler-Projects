{
 "cells": [
  {
   "cell_type": "code",
   "execution_count": 6,
   "id": "726b0762",
   "metadata": {},
   "outputs": [
    {
     "data": {
      "text/plain": [
       "24"
      ]
     },
     "execution_count": 6,
     "metadata": {},
     "output_type": "execute_result"
    }
   ],
   "source": [
    "def perm(s):\n",
    "    l = [s[0], ]\n",
    "    idx = 1\n",
    "    for c in s[1:]:\n",
    "        nl = []\n",
    "        idx += 1\n",
    "        for ss in l:\n",
    "            for j in range(idx):\n",
    "                ns = ss[:j] + c + ss[j:] ## Focus on this to understand\n",
    "                nl.append(ns)\n",
    "        l = nl\n",
    "    return l\n",
    "\n",
    "perm(\"abc\")"
   ]
  },
  {
   "cell_type": "code",
   "execution_count": 7,
   "id": "9481953e",
   "metadata": {},
   "outputs": [
    {
     "name": "stdout",
     "output_type": "stream",
     "text": [
      "['abc', 'bac', 'bca', 'acb', 'cab', 'cba']\n"
     ]
    }
   ],
   "source": [
    "def perm(s):\n",
    "    if len(s) == 1:\n",
    "        return [s[0], ]\n",
    "    l = []\n",
    "    lm1 = perm(s[1:])\n",
    "    for ss in lm1:\n",
    "        for j in range(len(s)):\n",
    "            ns = ss[:j] + s[0] + ss[j:] ## Focus on this to understand\n",
    "            l.append(ns)\n",
    "    return l\n",
    "\n",
    "print(perm(\"abc\"))"
   ]
  },
  {
   "cell_type": "code",
   "execution_count": null,
   "id": "b614ecc9",
   "metadata": {},
   "outputs": [],
   "source": []
  }
 ],
 "metadata": {
  "kernelspec": {
   "display_name": "Python 3 (ipykernel)",
   "language": "python",
   "name": "python3"
  },
  "language_info": {
   "codemirror_mode": {
    "name": "ipython",
    "version": 3
   },
   "file_extension": ".py",
   "mimetype": "text/x-python",
   "name": "python",
   "nbconvert_exporter": "python",
   "pygments_lexer": "ipython3",
   "version": "3.9.12"
  }
 },
 "nbformat": 4,
 "nbformat_minor": 5
}
