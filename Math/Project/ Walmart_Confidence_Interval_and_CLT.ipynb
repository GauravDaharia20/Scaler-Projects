{
 "cells": [
  {
   "cell_type": "code",
   "execution_count": 1,
   "id": "3d2a2b13",
   "metadata": {},
   "outputs": [],
   "source": [
    "import matplotlib.pyplot as plt\n",
    "import pandas as pd\n",
    "import numpy as np\n",
    "import seaborn as sns\n",
    "from tqdm import tqdm\n",
    "#%matplotlib notebook\n",
    "#import matplotlib_inline\n",
    "#matplotlib_inline.backend_inline.set_matplotlib_formats('svg')\n",
    "# from IPython.display import display, HTML\n",
    "# display(HTML(\"<style>.container { width:100% !important; }</style>\"))"
   ]
  },
  {
   "cell_type": "markdown",
   "id": "ddacec75",
   "metadata": {},
   "source": [
    "# About Dataset\n",
    "1. User_ID:\tUser ID\n",
    "2. Product_ID:\tProduct ID\n",
    "3. Gender:\tSex of User\n",
    "4. Age:\tAge in bins\n",
    "5. Occupation:\tOccupation(Masked)\n",
    "6. City_Category:\tCategory of the City (A,B,C)\n",
    "7. StayInCurrentCityYears:\tNumber of years stay in current city\n",
    "8. Marital_Status:\tMarital Status\n",
    "9. ProductCategory:\tProduct Category (Masked)\n",
    "10. Purchase:\tPurchase Amount"
   ]
  },
  {
   "cell_type": "code",
   "execution_count": 2,
   "id": "ff3a438b",
   "metadata": {},
   "outputs": [],
   "source": [
    "data = pd.read_csv('walmart_data.csv')"
   ]
  },
  {
   "cell_type": "code",
   "execution_count": 3,
   "id": "3fe0b8d3",
   "metadata": {},
   "outputs": [
    {
     "data": {
      "text/html": [
       "<div>\n",
       "<style scoped>\n",
       "    .dataframe tbody tr th:only-of-type {\n",
       "        vertical-align: middle;\n",
       "    }\n",
       "\n",
       "    .dataframe tbody tr th {\n",
       "        vertical-align: top;\n",
       "    }\n",
       "\n",
       "    .dataframe thead th {\n",
       "        text-align: right;\n",
       "    }\n",
       "</style>\n",
       "<table border=\"1\" class=\"dataframe\">\n",
       "  <thead>\n",
       "    <tr style=\"text-align: right;\">\n",
       "      <th></th>\n",
       "      <th>User_ID</th>\n",
       "      <th>Product_ID</th>\n",
       "      <th>Gender</th>\n",
       "      <th>Age</th>\n",
       "      <th>Occupation</th>\n",
       "      <th>City_Category</th>\n",
       "      <th>Stay_In_Current_City_Years</th>\n",
       "      <th>Marital_Status</th>\n",
       "      <th>Product_Category</th>\n",
       "      <th>Purchase</th>\n",
       "    </tr>\n",
       "  </thead>\n",
       "  <tbody>\n",
       "    <tr>\n",
       "      <th>0</th>\n",
       "      <td>1000001</td>\n",
       "      <td>P00069042</td>\n",
       "      <td>F</td>\n",
       "      <td>0-17</td>\n",
       "      <td>10</td>\n",
       "      <td>A</td>\n",
       "      <td>2</td>\n",
       "      <td>0</td>\n",
       "      <td>3</td>\n",
       "      <td>8370</td>\n",
       "    </tr>\n",
       "    <tr>\n",
       "      <th>1</th>\n",
       "      <td>1000001</td>\n",
       "      <td>P00248942</td>\n",
       "      <td>F</td>\n",
       "      <td>0-17</td>\n",
       "      <td>10</td>\n",
       "      <td>A</td>\n",
       "      <td>2</td>\n",
       "      <td>0</td>\n",
       "      <td>1</td>\n",
       "      <td>15200</td>\n",
       "    </tr>\n",
       "    <tr>\n",
       "      <th>2</th>\n",
       "      <td>1000001</td>\n",
       "      <td>P00087842</td>\n",
       "      <td>F</td>\n",
       "      <td>0-17</td>\n",
       "      <td>10</td>\n",
       "      <td>A</td>\n",
       "      <td>2</td>\n",
       "      <td>0</td>\n",
       "      <td>12</td>\n",
       "      <td>1422</td>\n",
       "    </tr>\n",
       "    <tr>\n",
       "      <th>3</th>\n",
       "      <td>1000001</td>\n",
       "      <td>P00085442</td>\n",
       "      <td>F</td>\n",
       "      <td>0-17</td>\n",
       "      <td>10</td>\n",
       "      <td>A</td>\n",
       "      <td>2</td>\n",
       "      <td>0</td>\n",
       "      <td>12</td>\n",
       "      <td>1057</td>\n",
       "    </tr>\n",
       "    <tr>\n",
       "      <th>4</th>\n",
       "      <td>1000002</td>\n",
       "      <td>P00285442</td>\n",
       "      <td>M</td>\n",
       "      <td>55+</td>\n",
       "      <td>16</td>\n",
       "      <td>C</td>\n",
       "      <td>4+</td>\n",
       "      <td>0</td>\n",
       "      <td>8</td>\n",
       "      <td>7969</td>\n",
       "    </tr>\n",
       "  </tbody>\n",
       "</table>\n",
       "</div>"
      ],
      "text/plain": [
       "   User_ID Product_ID Gender   Age  Occupation City_Category  \\\n",
       "0  1000001  P00069042      F  0-17          10             A   \n",
       "1  1000001  P00248942      F  0-17          10             A   \n",
       "2  1000001  P00087842      F  0-17          10             A   \n",
       "3  1000001  P00085442      F  0-17          10             A   \n",
       "4  1000002  P00285442      M   55+          16             C   \n",
       "\n",
       "  Stay_In_Current_City_Years  Marital_Status  Product_Category  Purchase  \n",
       "0                          2               0                 3      8370  \n",
       "1                          2               0                 1     15200  \n",
       "2                          2               0                12      1422  \n",
       "3                          2               0                12      1057  \n",
       "4                         4+               0                 8      7969  "
      ]
     },
     "execution_count": 3,
     "metadata": {},
     "output_type": "execute_result"
    }
   ],
   "source": [
    "data.head()"
   ]
  },
  {
   "cell_type": "markdown",
   "id": "c134a0eb",
   "metadata": {},
   "source": [
    "# Shape of Data"
   ]
  },
  {
   "cell_type": "code",
   "execution_count": 4,
   "id": "699d39c9",
   "metadata": {},
   "outputs": [
    {
     "data": {
      "text/plain": [
       "(550068, 10)"
      ]
     },
     "execution_count": 4,
     "metadata": {},
     "output_type": "execute_result"
    }
   ],
   "source": [
    "data.shape"
   ]
  },
  {
   "cell_type": "markdown",
   "id": "47701be0",
   "metadata": {},
   "source": [
    "# Data Information"
   ]
  },
  {
   "cell_type": "code",
   "execution_count": 5,
   "id": "6673689c",
   "metadata": {},
   "outputs": [
    {
     "name": "stdout",
     "output_type": "stream",
     "text": [
      "<class 'pandas.core.frame.DataFrame'>\n",
      "RangeIndex: 550068 entries, 0 to 550067\n",
      "Data columns (total 10 columns):\n",
      " #   Column                      Non-Null Count   Dtype \n",
      "---  ------                      --------------   ----- \n",
      " 0   User_ID                     550068 non-null  int64 \n",
      " 1   Product_ID                  550068 non-null  object\n",
      " 2   Gender                      550068 non-null  object\n",
      " 3   Age                         550068 non-null  object\n",
      " 4   Occupation                  550068 non-null  int64 \n",
      " 5   City_Category               550068 non-null  object\n",
      " 6   Stay_In_Current_City_Years  550068 non-null  object\n",
      " 7   Marital_Status              550068 non-null  int64 \n",
      " 8   Product_Category            550068 non-null  int64 \n",
      " 9   Purchase                    550068 non-null  int64 \n",
      "dtypes: int64(5), object(5)\n",
      "memory usage: 42.0+ MB\n"
     ]
    }
   ],
   "source": [
    "data.info()"
   ]
  },
  {
   "cell_type": "markdown",
   "id": "9d1ca15e",
   "metadata": {},
   "source": [
    "# Null Check"
   ]
  },
  {
   "cell_type": "code",
   "execution_count": 6,
   "id": "56194cec",
   "metadata": {},
   "outputs": [
    {
     "data": {
      "text/plain": [
       "User_ID                       0\n",
       "Product_ID                    0\n",
       "Gender                        0\n",
       "Age                           0\n",
       "Occupation                    0\n",
       "City_Category                 0\n",
       "Stay_In_Current_City_Years    0\n",
       "Marital_Status                0\n",
       "Product_Category              0\n",
       "Purchase                      0\n",
       "dtype: int64"
      ]
     },
     "execution_count": 6,
     "metadata": {},
     "output_type": "execute_result"
    }
   ],
   "source": [
    "data.isna().sum()"
   ]
  },
  {
   "cell_type": "code",
   "execution_count": 7,
   "id": "26194177",
   "metadata": {},
   "outputs": [
    {
     "data": {
      "text/html": [
       "<div>\n",
       "<style scoped>\n",
       "    .dataframe tbody tr th:only-of-type {\n",
       "        vertical-align: middle;\n",
       "    }\n",
       "\n",
       "    .dataframe tbody tr th {\n",
       "        vertical-align: top;\n",
       "    }\n",
       "\n",
       "    .dataframe thead th {\n",
       "        text-align: right;\n",
       "    }\n",
       "</style>\n",
       "<table border=\"1\" class=\"dataframe\">\n",
       "  <thead>\n",
       "    <tr style=\"text-align: right;\">\n",
       "      <th></th>\n",
       "      <th>User_ID</th>\n",
       "      <th>Occupation</th>\n",
       "      <th>Marital_Status</th>\n",
       "      <th>Product_Category</th>\n",
       "      <th>Purchase</th>\n",
       "    </tr>\n",
       "  </thead>\n",
       "  <tbody>\n",
       "    <tr>\n",
       "      <th>count</th>\n",
       "      <td>5.500680e+05</td>\n",
       "      <td>550068.000000</td>\n",
       "      <td>550068.000000</td>\n",
       "      <td>550068.000000</td>\n",
       "      <td>550068.000000</td>\n",
       "    </tr>\n",
       "    <tr>\n",
       "      <th>mean</th>\n",
       "      <td>1.003029e+06</td>\n",
       "      <td>8.076707</td>\n",
       "      <td>0.409653</td>\n",
       "      <td>5.404270</td>\n",
       "      <td>9263.968713</td>\n",
       "    </tr>\n",
       "    <tr>\n",
       "      <th>std</th>\n",
       "      <td>1.727592e+03</td>\n",
       "      <td>6.522660</td>\n",
       "      <td>0.491770</td>\n",
       "      <td>3.936211</td>\n",
       "      <td>5023.065394</td>\n",
       "    </tr>\n",
       "    <tr>\n",
       "      <th>min</th>\n",
       "      <td>1.000001e+06</td>\n",
       "      <td>0.000000</td>\n",
       "      <td>0.000000</td>\n",
       "      <td>1.000000</td>\n",
       "      <td>12.000000</td>\n",
       "    </tr>\n",
       "    <tr>\n",
       "      <th>25%</th>\n",
       "      <td>1.001516e+06</td>\n",
       "      <td>2.000000</td>\n",
       "      <td>0.000000</td>\n",
       "      <td>1.000000</td>\n",
       "      <td>5823.000000</td>\n",
       "    </tr>\n",
       "    <tr>\n",
       "      <th>50%</th>\n",
       "      <td>1.003077e+06</td>\n",
       "      <td>7.000000</td>\n",
       "      <td>0.000000</td>\n",
       "      <td>5.000000</td>\n",
       "      <td>8047.000000</td>\n",
       "    </tr>\n",
       "    <tr>\n",
       "      <th>75%</th>\n",
       "      <td>1.004478e+06</td>\n",
       "      <td>14.000000</td>\n",
       "      <td>1.000000</td>\n",
       "      <td>8.000000</td>\n",
       "      <td>12054.000000</td>\n",
       "    </tr>\n",
       "    <tr>\n",
       "      <th>max</th>\n",
       "      <td>1.006040e+06</td>\n",
       "      <td>20.000000</td>\n",
       "      <td>1.000000</td>\n",
       "      <td>20.000000</td>\n",
       "      <td>23961.000000</td>\n",
       "    </tr>\n",
       "  </tbody>\n",
       "</table>\n",
       "</div>"
      ],
      "text/plain": [
       "            User_ID     Occupation  Marital_Status  Product_Category  \\\n",
       "count  5.500680e+05  550068.000000   550068.000000     550068.000000   \n",
       "mean   1.003029e+06       8.076707        0.409653          5.404270   \n",
       "std    1.727592e+03       6.522660        0.491770          3.936211   \n",
       "min    1.000001e+06       0.000000        0.000000          1.000000   \n",
       "25%    1.001516e+06       2.000000        0.000000          1.000000   \n",
       "50%    1.003077e+06       7.000000        0.000000          5.000000   \n",
       "75%    1.004478e+06      14.000000        1.000000          8.000000   \n",
       "max    1.006040e+06      20.000000        1.000000         20.000000   \n",
       "\n",
       "            Purchase  \n",
       "count  550068.000000  \n",
       "mean     9263.968713  \n",
       "std      5023.065394  \n",
       "min        12.000000  \n",
       "25%      5823.000000  \n",
       "50%      8047.000000  \n",
       "75%     12054.000000  \n",
       "max     23961.000000  "
      ]
     },
     "execution_count": 7,
     "metadata": {},
     "output_type": "execute_result"
    }
   ],
   "source": [
    "data.describe()"
   ]
  },
  {
   "cell_type": "code",
   "execution_count": 8,
   "id": "0b72e75b",
   "metadata": {},
   "outputs": [
    {
     "data": {
      "text/html": [
       "<div>\n",
       "<style scoped>\n",
       "    .dataframe tbody tr th:only-of-type {\n",
       "        vertical-align: middle;\n",
       "    }\n",
       "\n",
       "    .dataframe tbody tr th {\n",
       "        vertical-align: top;\n",
       "    }\n",
       "\n",
       "    .dataframe thead th {\n",
       "        text-align: right;\n",
       "    }\n",
       "</style>\n",
       "<table border=\"1\" class=\"dataframe\">\n",
       "  <thead>\n",
       "    <tr style=\"text-align: right;\">\n",
       "      <th></th>\n",
       "      <th>User_ID</th>\n",
       "      <th>Product_ID</th>\n",
       "      <th>Gender</th>\n",
       "      <th>Age</th>\n",
       "      <th>Occupation</th>\n",
       "      <th>City_Category</th>\n",
       "      <th>Stay_In_Current_City_Years</th>\n",
       "      <th>Marital_Status</th>\n",
       "      <th>Product_Category</th>\n",
       "      <th>Purchase</th>\n",
       "    </tr>\n",
       "  </thead>\n",
       "  <tbody>\n",
       "    <tr>\n",
       "      <th>0</th>\n",
       "      <td>1000001</td>\n",
       "      <td>P00069042</td>\n",
       "      <td>F</td>\n",
       "      <td>0-17</td>\n",
       "      <td>10</td>\n",
       "      <td>A</td>\n",
       "      <td>2</td>\n",
       "      <td>0</td>\n",
       "      <td>3</td>\n",
       "      <td>8370</td>\n",
       "    </tr>\n",
       "    <tr>\n",
       "      <th>1</th>\n",
       "      <td>1000001</td>\n",
       "      <td>P00248942</td>\n",
       "      <td>F</td>\n",
       "      <td>0-17</td>\n",
       "      <td>10</td>\n",
       "      <td>A</td>\n",
       "      <td>2</td>\n",
       "      <td>0</td>\n",
       "      <td>1</td>\n",
       "      <td>15200</td>\n",
       "    </tr>\n",
       "    <tr>\n",
       "      <th>2</th>\n",
       "      <td>1000001</td>\n",
       "      <td>P00087842</td>\n",
       "      <td>F</td>\n",
       "      <td>0-17</td>\n",
       "      <td>10</td>\n",
       "      <td>A</td>\n",
       "      <td>2</td>\n",
       "      <td>0</td>\n",
       "      <td>12</td>\n",
       "      <td>1422</td>\n",
       "    </tr>\n",
       "    <tr>\n",
       "      <th>3</th>\n",
       "      <td>1000001</td>\n",
       "      <td>P00085442</td>\n",
       "      <td>F</td>\n",
       "      <td>0-17</td>\n",
       "      <td>10</td>\n",
       "      <td>A</td>\n",
       "      <td>2</td>\n",
       "      <td>0</td>\n",
       "      <td>12</td>\n",
       "      <td>1057</td>\n",
       "    </tr>\n",
       "    <tr>\n",
       "      <th>4</th>\n",
       "      <td>1000002</td>\n",
       "      <td>P00285442</td>\n",
       "      <td>M</td>\n",
       "      <td>55+</td>\n",
       "      <td>16</td>\n",
       "      <td>C</td>\n",
       "      <td>4+</td>\n",
       "      <td>0</td>\n",
       "      <td>8</td>\n",
       "      <td>7969</td>\n",
       "    </tr>\n",
       "  </tbody>\n",
       "</table>\n",
       "</div>"
      ],
      "text/plain": [
       "   User_ID Product_ID Gender   Age  Occupation City_Category  \\\n",
       "0  1000001  P00069042      F  0-17          10             A   \n",
       "1  1000001  P00248942      F  0-17          10             A   \n",
       "2  1000001  P00087842      F  0-17          10             A   \n",
       "3  1000001  P00085442      F  0-17          10             A   \n",
       "4  1000002  P00285442      M   55+          16             C   \n",
       "\n",
       "  Stay_In_Current_City_Years  Marital_Status  Product_Category  Purchase  \n",
       "0                          2               0                 3      8370  \n",
       "1                          2               0                 1     15200  \n",
       "2                          2               0                12      1422  \n",
       "3                          2               0                12      1057  \n",
       "4                         4+               0                 8      7969  "
      ]
     },
     "execution_count": 8,
     "metadata": {},
     "output_type": "execute_result"
    }
   ],
   "source": [
    "data.head()"
   ]
  },
  {
   "cell_type": "code",
   "execution_count": null,
   "id": "6043b9ce",
   "metadata": {},
   "outputs": [],
   "source": []
  },
  {
   "cell_type": "markdown",
   "id": "9995a62b",
   "metadata": {},
   "source": [
    "# Relationship between Purchase made by Male User and Female Users"
   ]
  },
  {
   "cell_type": "code",
   "execution_count": 9,
   "id": "be7a947b",
   "metadata": {},
   "outputs": [
    {
     "data": {
      "image/png": "[encoded data removed]",
      "text/plain": [
       "<Figure size 640x480 with 1 Axes>"
      ]
     },
     "metadata": {},
     "output_type": "display_data"
    }
   ],
   "source": [
    "sns.boxplot(x='Gender',y='Purchase',data=data)\n",
    "plt.show()"
   ]
  },
  {
   "cell_type": "markdown",
   "id": "1f5fde32",
   "metadata": {},
   "source": [
    "# Observation\n",
    "1. Male users spend more than female users.\n",
    "2. Average spend for male users is more than female users."
   ]
  },
  {
   "cell_type": "code",
   "execution_count": 10,
   "id": "ed031bdc",
   "metadata": {},
   "outputs": [
    {
     "data": {
      "image/png": "[encoded data removed]",
      "text/plain": [
       "<Figure size 640x480 with 1 Axes>"
      ]
     },
     "metadata": {},
     "output_type": "display_data"
    }
   ],
   "source": [
    "sns.boxplot(x='Gender',y='Purchase',data=data,hue='City_Category')\n",
    "plt.legend(loc='upper center')\n",
    "plt.show()"
   ]
  },
  {
   "cell_type": "markdown",
   "id": "3cb13c6e",
   "metadata": {},
   "source": [
    "# From above observation we can see below insights for Female Users\n",
    "1. Female users spends equal amount which belongs to city A and city B.\n",
    "2. Female users from city C spends more than other city female users.\n",
    "\n",
    "\n",
    "# From above observation we can see below insights for Male Users\n",
    "1. Male user from City C spends more than city A and city B.\n",
    "2. Male user from city B spends more than city A.\n",
    "\n",
    "# Suggestion\n",
    "1. Provide some discount on product to female users from city A and city B.\n",
    "2. Provide some discount/good offers to male users from city A and city B."
   ]
  },
  {
   "cell_type": "code",
   "execution_count": 11,
   "id": "f982b77f",
   "metadata": {
    "scrolled": true
   },
   "outputs": [
    {
     "data": {
      "text/html": [
       "<div>\n",
       "<style scoped>\n",
       "    .dataframe tbody tr th:only-of-type {\n",
       "        vertical-align: middle;\n",
       "    }\n",
       "\n",
       "    .dataframe tbody tr th {\n",
       "        vertical-align: top;\n",
       "    }\n",
       "\n",
       "    .dataframe thead th {\n",
       "        text-align: right;\n",
       "    }\n",
       "</style>\n",
       "<table border=\"1\" class=\"dataframe\">\n",
       "  <thead>\n",
       "    <tr style=\"text-align: right;\">\n",
       "      <th></th>\n",
       "      <th>User_ID</th>\n",
       "      <th>Product_ID</th>\n",
       "      <th>Gender</th>\n",
       "      <th>Age</th>\n",
       "      <th>Occupation</th>\n",
       "      <th>City_Category</th>\n",
       "      <th>Stay_In_Current_City_Years</th>\n",
       "      <th>Marital_Status</th>\n",
       "      <th>Product_Category</th>\n",
       "      <th>Purchase</th>\n",
       "    </tr>\n",
       "  </thead>\n",
       "  <tbody>\n",
       "    <tr>\n",
       "      <th>0</th>\n",
       "      <td>1000001</td>\n",
       "      <td>P00069042</td>\n",
       "      <td>F</td>\n",
       "      <td>0-17</td>\n",
       "      <td>10</td>\n",
       "      <td>A</td>\n",
       "      <td>2</td>\n",
       "      <td>0</td>\n",
       "      <td>3</td>\n",
       "      <td>8370</td>\n",
       "    </tr>\n",
       "    <tr>\n",
       "      <th>1</th>\n",
       "      <td>1000001</td>\n",
       "      <td>P00248942</td>\n",
       "      <td>F</td>\n",
       "      <td>0-17</td>\n",
       "      <td>10</td>\n",
       "      <td>A</td>\n",
       "      <td>2</td>\n",
       "      <td>0</td>\n",
       "      <td>1</td>\n",
       "      <td>15200</td>\n",
       "    </tr>\n",
       "    <tr>\n",
       "      <th>2</th>\n",
       "      <td>1000001</td>\n",
       "      <td>P00087842</td>\n",
       "      <td>F</td>\n",
       "      <td>0-17</td>\n",
       "      <td>10</td>\n",
       "      <td>A</td>\n",
       "      <td>2</td>\n",
       "      <td>0</td>\n",
       "      <td>12</td>\n",
       "      <td>1422</td>\n",
       "    </tr>\n",
       "    <tr>\n",
       "      <th>3</th>\n",
       "      <td>1000001</td>\n",
       "      <td>P00085442</td>\n",
       "      <td>F</td>\n",
       "      <td>0-17</td>\n",
       "      <td>10</td>\n",
       "      <td>A</td>\n",
       "      <td>2</td>\n",
       "      <td>0</td>\n",
       "      <td>12</td>\n",
       "      <td>1057</td>\n",
       "    </tr>\n",
       "    <tr>\n",
       "      <th>4</th>\n",
       "      <td>1000002</td>\n",
       "      <td>P00285442</td>\n",
       "      <td>M</td>\n",
       "      <td>55+</td>\n",
       "      <td>16</td>\n",
       "      <td>C</td>\n",
       "      <td>4+</td>\n",
       "      <td>0</td>\n",
       "      <td>8</td>\n",
       "      <td>7969</td>\n",
       "    </tr>\n",
       "  </tbody>\n",
       "</table>\n",
       "</div>"
      ],
      "text/plain": [
       "   User_ID Product_ID Gender   Age  Occupation City_Category  \\\n",
       "0  1000001  P00069042      F  0-17          10             A   \n",
       "1  1000001  P00248942      F  0-17          10             A   \n",
       "2  1000001  P00087842      F  0-17          10             A   \n",
       "3  1000001  P00085442      F  0-17          10             A   \n",
       "4  1000002  P00285442      M   55+          16             C   \n",
       "\n",
       "  Stay_In_Current_City_Years  Marital_Status  Product_Category  Purchase  \n",
       "0                          2               0                 3      8370  \n",
       "1                          2               0                 1     15200  \n",
       "2                          2               0                12      1422  \n",
       "3                          2               0                12      1057  \n",
       "4                         4+               0                 8      7969  "
      ]
     },
     "execution_count": 11,
     "metadata": {},
     "output_type": "execute_result"
    }
   ],
   "source": [
    "data.head()"
   ]
  },
  {
   "cell_type": "code",
   "execution_count": 12,
   "id": "f830e267",
   "metadata": {},
   "outputs": [
    {
     "data": {
      "image/png": "[encoded data removed]",
      "text/plain": [
       "<Figure size 640x480 with 1 Axes>"
      ]
     },
     "metadata": {},
     "output_type": "display_data"
    }
   ],
   "source": [
    "sns.boxplot(data=data,x='Age',y='Purchase',hue='Gender')\n",
    "plt.legend(loc='upper right')\n",
    "plt.show()"
   ]
  },
  {
   "cell_type": "markdown",
   "id": "45f30149",
   "metadata": {},
   "source": [
    "# Observation\n",
    "1. No major difference in average purchase from users who are 55+ age group.\n",
    "2. It is observed that male users from age group 51-55 has average purchase more than female users.\n",
    "3. It is observed that male users from age group 18-25 has average purchase more than female users."
   ]
  },
  {
   "cell_type": "markdown",
   "id": "6a52e3c1",
   "metadata": {},
   "source": [
    "# Male Spending Habits"
   ]
  },
  {
   "cell_type": "code",
   "execution_count": 13,
   "id": "d85f0b0d",
   "metadata": {},
   "outputs": [],
   "source": [
    "def get_sample_means(df,sample_length,population_size):\n",
    "    sample_length = sample_length\n",
    "    population_size = population_size\n",
    "    means_list = []\n",
    "    for sample in tqdm(range(population_size)):\n",
    "        population_sample = np.random.choice(df,size=sample_length)\n",
    "        population_sample_mean = round(population_sample.mean(),2)\n",
    "        means_list.append(population_sample_mean)\n",
    "    means_list = np.array(means_list)\n",
    "    return means_list\n",
    "\n",
    "\n",
    "def get_confidence_range(means_array):\n",
    "    means_two_point_fifth = round(np.percentile(means_array,2.5),2)\n",
    "    means_ninty_seven_point_fifth = round(np.percentile(means_array,97.5),2)\n",
    "    return [means_two_point_fifth,means_ninty_seven_point_fifth]\n",
    "    "
   ]
  },
  {
   "cell_type": "code",
   "execution_count": 14,
   "id": "21234e43",
   "metadata": {},
   "outputs": [
    {
     "data": {
      "text/html": [
       "<div>\n",
       "<style scoped>\n",
       "    .dataframe tbody tr th:only-of-type {\n",
       "        vertical-align: middle;\n",
       "    }\n",
       "\n",
       "    .dataframe tbody tr th {\n",
       "        vertical-align: top;\n",
       "    }\n",
       "\n",
       "    .dataframe thead th {\n",
       "        text-align: right;\n",
       "    }\n",
       "</style>\n",
       "<table border=\"1\" class=\"dataframe\">\n",
       "  <thead>\n",
       "    <tr style=\"text-align: right;\">\n",
       "      <th></th>\n",
       "      <th>User_ID</th>\n",
       "      <th>Product_ID</th>\n",
       "      <th>Gender</th>\n",
       "      <th>Age</th>\n",
       "      <th>Occupation</th>\n",
       "      <th>City_Category</th>\n",
       "      <th>Stay_In_Current_City_Years</th>\n",
       "      <th>Marital_Status</th>\n",
       "      <th>Product_Category</th>\n",
       "      <th>Purchase</th>\n",
       "    </tr>\n",
       "  </thead>\n",
       "  <tbody>\n",
       "    <tr>\n",
       "      <th>4</th>\n",
       "      <td>1000002</td>\n",
       "      <td>P00285442</td>\n",
       "      <td>M</td>\n",
       "      <td>55+</td>\n",
       "      <td>16</td>\n",
       "      <td>C</td>\n",
       "      <td>4+</td>\n",
       "      <td>0</td>\n",
       "      <td>8</td>\n",
       "      <td>7969</td>\n",
       "    </tr>\n",
       "    <tr>\n",
       "      <th>5</th>\n",
       "      <td>1000003</td>\n",
       "      <td>P00193542</td>\n",
       "      <td>M</td>\n",
       "      <td>26-35</td>\n",
       "      <td>15</td>\n",
       "      <td>A</td>\n",
       "      <td>3</td>\n",
       "      <td>0</td>\n",
       "      <td>1</td>\n",
       "      <td>15227</td>\n",
       "    </tr>\n",
       "    <tr>\n",
       "      <th>6</th>\n",
       "      <td>1000004</td>\n",
       "      <td>P00184942</td>\n",
       "      <td>M</td>\n",
       "      <td>46-50</td>\n",
       "      <td>7</td>\n",
       "      <td>B</td>\n",
       "      <td>2</td>\n",
       "      <td>1</td>\n",
       "      <td>1</td>\n",
       "      <td>19215</td>\n",
       "    </tr>\n",
       "    <tr>\n",
       "      <th>7</th>\n",
       "      <td>1000004</td>\n",
       "      <td>P00346142</td>\n",
       "      <td>M</td>\n",
       "      <td>46-50</td>\n",
       "      <td>7</td>\n",
       "      <td>B</td>\n",
       "      <td>2</td>\n",
       "      <td>1</td>\n",
       "      <td>1</td>\n",
       "      <td>15854</td>\n",
       "    </tr>\n",
       "    <tr>\n",
       "      <th>8</th>\n",
       "      <td>1000004</td>\n",
       "      <td>P0097242</td>\n",
       "      <td>M</td>\n",
       "      <td>46-50</td>\n",
       "      <td>7</td>\n",
       "      <td>B</td>\n",
       "      <td>2</td>\n",
       "      <td>1</td>\n",
       "      <td>1</td>\n",
       "      <td>15686</td>\n",
       "    </tr>\n",
       "  </tbody>\n",
       "</table>\n",
       "</div>"
      ],
      "text/plain": [
       "   User_ID Product_ID Gender    Age  Occupation City_Category  \\\n",
       "4  1000002  P00285442      M    55+          16             C   \n",
       "5  1000003  P00193542      M  26-35          15             A   \n",
       "6  1000004  P00184942      M  46-50           7             B   \n",
       "7  1000004  P00346142      M  46-50           7             B   \n",
       "8  1000004   P0097242      M  46-50           7             B   \n",
       "\n",
       "  Stay_In_Current_City_Years  Marital_Status  Product_Category  Purchase  \n",
       "4                         4+               0                 8      7969  \n",
       "5                          3               0                 1     15227  \n",
       "6                          2               1                 1     19215  \n",
       "7                          2               1                 1     15854  \n",
       "8                          2               1                 1     15686  "
      ]
     },
     "execution_count": 14,
     "metadata": {},
     "output_type": "execute_result"
    }
   ],
   "source": [
    "male_purchase_data = data.loc[data['Gender']=='M']\n",
    "male_purchase_data.head()"
   ]
  },
  {
   "cell_type": "code",
   "execution_count": 15,
   "id": "eff42f6a",
   "metadata": {},
   "outputs": [
    {
     "name": "stdout",
     "output_type": "stream",
     "text": [
      "Population mean: 9437.53\n"
     ]
    }
   ],
   "source": [
    "male_purchase_data_population_mean = round(male_purchase_data['Purchase'].mean(),2)\n",
    "male_purchase_data_population_std = round(male_purchase_data['Purchase'].std(),2)\n",
    "print(f\"Population mean: {male_purchase_data_population_mean}\")"
   ]
  },
  {
   "cell_type": "code",
   "execution_count": 16,
   "id": "5d190e7f",
   "metadata": {},
   "outputs": [],
   "source": [
    "male_amt_spending_population = male_purchase_data['Purchase']"
   ]
  },
  {
   "cell_type": "code",
   "execution_count": 17,
   "id": "7b30c118",
   "metadata": {},
   "outputs": [
    {
     "name": "stdout",
     "output_type": "stream",
     "text": [
      "Population length : 414259\n"
     ]
    }
   ],
   "source": [
    "print(f'Population length : {len(male_amt_spending_population)}')"
   ]
  },
  {
   "cell_type": "markdown",
   "id": "bed7814b",
   "metadata": {},
   "source": []
  },
  {
   "cell_type": "code",
   "execution_count": 18,
   "id": "bace6793",
   "metadata": {},
   "outputs": [
    {
     "name": "stderr",
     "output_type": "stream",
     "text": [
      "100%|███████████████████████████████████████████████████████████████████████| 414000/414000 [00:20<00:00, 19867.33it/s]\n"
     ]
    }
   ],
   "source": [
    "sample_length = 1000\n",
    "population_size=414000\n",
    "male_amt_spending_means = get_sample_means(male_amt_spending_population,sample_length,population_size)"
   ]
  },
  {
   "cell_type": "code",
   "execution_count": 19,
   "id": "a1f96e3d",
   "metadata": {},
   "outputs": [
    {
     "name": "stdout",
     "output_type": "stream",
     "text": [
      "mean_male_amt_spending : 9437.34\n"
     ]
    }
   ],
   "source": [
    "sample_mean = round(male_amt_spending_means.mean(),2)\n",
    "print(f'mean_male_amt_spending : {sample_mean}')"
   ]
  },
  {
   "cell_type": "code",
   "execution_count": 20,
   "id": "54226e27",
   "metadata": {},
   "outputs": [
    {
     "name": "stdout",
     "output_type": "stream",
     "text": [
      "Confidence interval of male user purchase :[9122.49,9753.57]\n"
     ]
    }
   ],
   "source": [
    "male_amt_means_twopointfifth,male_amt_means_nintysevenpointfifth = get_confidence_range(male_amt_spending_means)\n",
    "print(f'Confidence interval of male user purchase :[{male_amt_means_twopointfifth},{male_amt_means_nintysevenpointfifth}]')"
   ]
  },
  {
   "cell_type": "code",
   "execution_count": 21,
   "id": "4b38d867",
   "metadata": {},
   "outputs": [
    {
     "data": {
      "image/png": "[encoded data removed]",
      "text/plain": [
       "<Figure size 640x480 with 1 Axes>"
      ]
     },
     "metadata": {},
     "output_type": "display_data"
    },
    {
     "name": "stdout",
     "output_type": "stream",
     "text": [
      "Confidence interval of male user purchase :[9122.49,9753.57]\n"
     ]
    }
   ],
   "source": [
    "plt.title('Amount Spending Trend of Male Customers')\n",
    "sns.histplot(male_amt_spending_means)\n",
    "plt.show()\n",
    "print(f'Confidence interval of male user purchase :[{male_amt_means_twopointfifth},{male_amt_means_nintysevenpointfifth}]')"
   ]
  },
  {
   "cell_type": "markdown",
   "id": "f51cce36",
   "metadata": {},
   "source": [
    "# Female Spending Habits"
   ]
  },
  {
   "cell_type": "code",
   "execution_count": 22,
   "id": "8d3d8082",
   "metadata": {},
   "outputs": [
    {
     "data": {
      "text/html": [
       "<div>\n",
       "<style scoped>\n",
       "    .dataframe tbody tr th:only-of-type {\n",
       "        vertical-align: middle;\n",
       "    }\n",
       "\n",
       "    .dataframe tbody tr th {\n",
       "        vertical-align: top;\n",
       "    }\n",
       "\n",
       "    .dataframe thead th {\n",
       "        text-align: right;\n",
       "    }\n",
       "</style>\n",
       "<table border=\"1\" class=\"dataframe\">\n",
       "  <thead>\n",
       "    <tr style=\"text-align: right;\">\n",
       "      <th></th>\n",
       "      <th>User_ID</th>\n",
       "      <th>Product_ID</th>\n",
       "      <th>Gender</th>\n",
       "      <th>Age</th>\n",
       "      <th>Occupation</th>\n",
       "      <th>City_Category</th>\n",
       "      <th>Stay_In_Current_City_Years</th>\n",
       "      <th>Marital_Status</th>\n",
       "      <th>Product_Category</th>\n",
       "      <th>Purchase</th>\n",
       "    </tr>\n",
       "  </thead>\n",
       "  <tbody>\n",
       "    <tr>\n",
       "      <th>0</th>\n",
       "      <td>1000001</td>\n",
       "      <td>P00069042</td>\n",
       "      <td>F</td>\n",
       "      <td>0-17</td>\n",
       "      <td>10</td>\n",
       "      <td>A</td>\n",
       "      <td>2</td>\n",
       "      <td>0</td>\n",
       "      <td>3</td>\n",
       "      <td>8370</td>\n",
       "    </tr>\n",
       "    <tr>\n",
       "      <th>1</th>\n",
       "      <td>1000001</td>\n",
       "      <td>P00248942</td>\n",
       "      <td>F</td>\n",
       "      <td>0-17</td>\n",
       "      <td>10</td>\n",
       "      <td>A</td>\n",
       "      <td>2</td>\n",
       "      <td>0</td>\n",
       "      <td>1</td>\n",
       "      <td>15200</td>\n",
       "    </tr>\n",
       "    <tr>\n",
       "      <th>2</th>\n",
       "      <td>1000001</td>\n",
       "      <td>P00087842</td>\n",
       "      <td>F</td>\n",
       "      <td>0-17</td>\n",
       "      <td>10</td>\n",
       "      <td>A</td>\n",
       "      <td>2</td>\n",
       "      <td>0</td>\n",
       "      <td>12</td>\n",
       "      <td>1422</td>\n",
       "    </tr>\n",
       "    <tr>\n",
       "      <th>3</th>\n",
       "      <td>1000001</td>\n",
       "      <td>P00085442</td>\n",
       "      <td>F</td>\n",
       "      <td>0-17</td>\n",
       "      <td>10</td>\n",
       "      <td>A</td>\n",
       "      <td>2</td>\n",
       "      <td>0</td>\n",
       "      <td>12</td>\n",
       "      <td>1057</td>\n",
       "    </tr>\n",
       "    <tr>\n",
       "      <th>14</th>\n",
       "      <td>1000006</td>\n",
       "      <td>P00231342</td>\n",
       "      <td>F</td>\n",
       "      <td>51-55</td>\n",
       "      <td>9</td>\n",
       "      <td>A</td>\n",
       "      <td>1</td>\n",
       "      <td>0</td>\n",
       "      <td>5</td>\n",
       "      <td>5378</td>\n",
       "    </tr>\n",
       "  </tbody>\n",
       "</table>\n",
       "</div>"
      ],
      "text/plain": [
       "    User_ID Product_ID Gender    Age  Occupation City_Category  \\\n",
       "0   1000001  P00069042      F   0-17          10             A   \n",
       "1   1000001  P00248942      F   0-17          10             A   \n",
       "2   1000001  P00087842      F   0-17          10             A   \n",
       "3   1000001  P00085442      F   0-17          10             A   \n",
       "14  1000006  P00231342      F  51-55           9             A   \n",
       "\n",
       "   Stay_In_Current_City_Years  Marital_Status  Product_Category  Purchase  \n",
       "0                           2               0                 3      8370  \n",
       "1                           2               0                 1     15200  \n",
       "2                           2               0                12      1422  \n",
       "3                           2               0                12      1057  \n",
       "14                          1               0                 5      5378  "
      ]
     },
     "execution_count": 22,
     "metadata": {},
     "output_type": "execute_result"
    }
   ],
   "source": [
    "female_purchase_data = data.loc[data['Gender']=='F']\n",
    "female_purchase_data.head()"
   ]
  },
  {
   "cell_type": "code",
   "execution_count": 23,
   "id": "18f6eeb8",
   "metadata": {},
   "outputs": [
    {
     "name": "stdout",
     "output_type": "stream",
     "text": [
      "Population mean: 8734.57\n"
     ]
    }
   ],
   "source": [
    "female_purchase_data_population_mean = round(female_purchase_data['Purchase'].mean(),2)\n",
    "print(f\"Population mean: {female_purchase_data_population_mean}\")"
   ]
  },
  {
   "cell_type": "code",
   "execution_count": 24,
   "id": "7b1c26f2",
   "metadata": {},
   "outputs": [],
   "source": [
    "female_amt_spending_population = female_purchase_data['Purchase']"
   ]
  },
  {
   "cell_type": "code",
   "execution_count": 25,
   "id": "046c65d4",
   "metadata": {},
   "outputs": [
    {
     "name": "stdout",
     "output_type": "stream",
     "text": [
      "Population length : 135809\n"
     ]
    }
   ],
   "source": [
    "print(f'Population length : {len(female_amt_spending_population)}')"
   ]
  },
  {
   "cell_type": "code",
   "execution_count": 26,
   "id": "e3a273e3",
   "metadata": {},
   "outputs": [
    {
     "name": "stderr",
     "output_type": "stream",
     "text": [
      "100%|███████████████████████████████████████████████████████████████████████| 135000/135000 [00:07<00:00, 17595.52it/s]\n"
     ]
    }
   ],
   "source": [
    "sample_length = 1000\n",
    "population_size=135000\n",
    "female_amt_spending_means = get_sample_means(female_amt_spending_population,sample_length,population_size)"
   ]
  },
  {
   "cell_type": "code",
   "execution_count": 27,
   "id": "e8b40758",
   "metadata": {},
   "outputs": [
    {
     "name": "stdout",
     "output_type": "stream",
     "text": [
      "mean_female_amt_spending : 8734.95\n"
     ]
    }
   ],
   "source": [
    "sample_mean = round(female_amt_spending_means.mean(),2)\n",
    "print(f'mean_female_amt_spending : {sample_mean}')"
   ]
  },
  {
   "cell_type": "code",
   "execution_count": 28,
   "id": "452df213",
   "metadata": {},
   "outputs": [
    {
     "name": "stdout",
     "output_type": "stream",
     "text": [
      "Confidence interval of female user purchase :[8439.13,9032.47]\n"
     ]
    }
   ],
   "source": [
    "female_amt_means_twopointfifth,female_amt_means_nintysevenpointfifth = get_confidence_range(female_amt_spending_means)\n",
    "print(f'Confidence interval of female user purchase :[{female_amt_means_twopointfifth},{female_amt_means_nintysevenpointfifth}]')"
   ]
  },
  {
   "cell_type": "code",
   "execution_count": 29,
   "id": "bda4b2bd",
   "metadata": {},
   "outputs": [
    {
     "data": {
      "image/png": "[encoded data removed]",
      "text/plain": [
       "<Figure size 640x480 with 1 Axes>"
      ]
     },
     "metadata": {},
     "output_type": "display_data"
    }
   ],
   "source": [
    "plt.title('Amount Spending Trend of Female Customers')\n",
    "sns.histplot(female_amt_spending_means)\n",
    "plt.show()"
   ]
  },
  {
   "cell_type": "markdown",
   "id": "2ca83f4b",
   "metadata": {},
   "source": [
    "# Are women spending more money per transaction than men? Why or Why not?"
   ]
  },
  {
   "cell_type": "code",
   "execution_count": 30,
   "id": "f3b9cdc4",
   "metadata": {},
   "outputs": [
    {
     "name": "stdout",
     "output_type": "stream",
     "text": [
      "Average male spending: 9437.53\n",
      "Average female spending: 8734.57\n"
     ]
    }
   ],
   "source": [
    "male_purchase_data_population_mean = round(male_purchase_data['Purchase'].mean(),2)\n",
    "female_purchase_data_population_mean = round(female_purchase_data['Purchase'].mean(),2)\n",
    "print(f\"Average male spending: {male_purchase_data_population_mean}\")\n",
    "print(f\"Average female spending: {female_purchase_data_population_mean}\")"
   ]
  },
  {
   "cell_type": "markdown",
   "id": "e697d969",
   "metadata": {},
   "source": [
    "# Observation\n",
    "From above calculation we can observe that average spending by male customers is higher than average spending by female customers."
   ]
  },
  {
   "cell_type": "markdown",
   "id": "3ba3d088",
   "metadata": {},
   "source": [
    "# Confidence intervals and distribution of the mean of the expenses by female and male customers\n",
    "\n",
    "# Here we are checking for 95% Confidence of purchase for Users"
   ]
  },
  {
   "cell_type": "code",
   "execution_count": 31,
   "id": "0261f304",
   "metadata": {},
   "outputs": [
    {
     "data": {
      "image/png": "[encoded data removed]",
      "text/plain": [
       "<Figure size 640x480 with 1 Axes>"
      ]
     },
     "metadata": {},
     "output_type": "display_data"
    },
    {
     "name": "stdout",
     "output_type": "stream",
     "text": [
      "Confidence interval of male customer purchase :[9122.49,9753.57]\n"
     ]
    }
   ],
   "source": [
    "male_amt_means_twopointfifth = round(np.percentile(male_amt_spending_means,2.5),2)\n",
    "male_amt_means_nintysevenpointfifth = round(np.percentile(male_amt_spending_means,97.5),2)\n",
    "plt.title('Amount Spending Trend of Male Customers')\n",
    "sns.histplot(male_amt_spending_means)\n",
    "plt.show()\n",
    "print(f'Confidence interval of male customer purchase :[{male_amt_means_twopointfifth},{male_amt_means_nintysevenpointfifth}]')"
   ]
  },
  {
   "cell_type": "code",
   "execution_count": 32,
   "id": "52f5df60",
   "metadata": {},
   "outputs": [
    {
     "data": {
      "image/png": "[encoded data removed]",
      "text/plain": [
       "<Figure size 640x480 with 1 Axes>"
      ]
     },
     "metadata": {},
     "output_type": "display_data"
    },
    {
     "name": "stdout",
     "output_type": "stream",
     "text": [
      "Confidence interval of female customer purchase :[8439.13,9032.47]\n"
     ]
    }
   ],
   "source": [
    "female_amt_means_twopointfifth = round(np.percentile(female_amt_spending_means,2.5),2)\n",
    "female_amt_means_nintysevenpointfifth = round(np.percentile(female_amt_spending_means,97.5),2)\n",
    "plt.title('Amount Spending trend of Female Customers')\n",
    "sns.histplot(female_amt_spending_means)\n",
    "plt.show()\n",
    "print(f'Confidence interval of female customer purchase :[{female_amt_means_twopointfifth},{female_amt_means_nintysevenpointfifth}]')"
   ]
  },
  {
   "cell_type": "markdown",
   "id": "c5a43f1e",
   "metadata": {},
   "source": [
    "# Observation\n",
    "1. It is observed that male customers can spend around `minimum amount = 9122.78 and maximum amount = 9755.02` in purchase.\n",
    "2. In average male customers are spending around `9264.01` amount in purchase.\n",
    "3. It is observed that female customers can spend around `minimum amount = 8443.5 and maximum amount = 9030.93 `in purchase.\n",
    "4. In average female customers are spending around `8734.65` amount in purchase.\n"
   ]
  },
  {
   "cell_type": "code",
   "execution_count": null,
   "id": "19f91eb5",
   "metadata": {},
   "outputs": [],
   "source": []
  },
  {
   "cell_type": "markdown",
   "id": "79ca06ae",
   "metadata": {},
   "source": [
    "# Are confidence intervals of average male and female spending overlapping? How can Walmart leverage this conclusion to make changes or improvements? "
   ]
  },
  {
   "cell_type": "code",
   "execution_count": 33,
   "id": "7d2c2902",
   "metadata": {},
   "outputs": [
    {
     "data": {
      "image/png": "[encoded data removed]",
      "text/plain": [
       "<Figure size 640x480 with 1 Axes>"
      ]
     },
     "metadata": {},
     "output_type": "display_data"
    }
   ],
   "source": [
    "plt.title('Average male and female amount spending plot')\n",
    "sns.histplot([female_amt_spending_means,male_amt_spending_means],legend=False)\n",
    "plt.legend(['Female','Male'])\n",
    "plt.show()"
   ]
  },
  {
   "cell_type": "code",
   "execution_count": 34,
   "id": "5637930f",
   "metadata": {},
   "outputs": [
    {
     "name": "stdout",
     "output_type": "stream",
     "text": [
      "Confidence interval of male user purchase :[9122.49,9753.57]\n"
     ]
    }
   ],
   "source": [
    "male_amt_means_twopointfifth = round(np.percentile(male_amt_spending_means,2.5),2)\n",
    "male_amt_means_nintysevenpointfifth = round(np.percentile(male_amt_spending_means,97.5),2)\n",
    "print(f'Confidence interval of male user purchase :[{male_amt_means_twopointfifth},{male_amt_means_nintysevenpointfifth}]')"
   ]
  },
  {
   "cell_type": "code",
   "execution_count": 35,
   "id": "77d5aec7",
   "metadata": {},
   "outputs": [
    {
     "name": "stdout",
     "output_type": "stream",
     "text": [
      "Confidence interval of female user purchase :[8439.13,9032.47]\n"
     ]
    }
   ],
   "source": [
    "female_amt_means_twopointfifth = round(np.percentile(female_amt_spending_means,2.5),2)\n",
    "female_amt_means_nintysevenpointfifth = round(np.percentile(female_amt_spending_means,97.5),2)\n",
    "print(f'Confidence interval of female user purchase :[{female_amt_means_twopointfifth},{female_amt_means_nintysevenpointfifth}]')"
   ]
  },
  {
   "cell_type": "markdown",
   "id": "0a6a7d87",
   "metadata": {},
   "source": [
    "# Checking for common amount both the user spending in purchase"
   ]
  },
  {
   "cell_type": "code",
   "execution_count": 36,
   "id": "4970d2b3",
   "metadata": {},
   "outputs": [],
   "source": [
    "common_interval_amount_spend_by_both_type_of_users = np.intersect1d(male_amt_spending_means,female_amt_spending_means)"
   ]
  },
  {
   "cell_type": "code",
   "execution_count": 37,
   "id": "21892573",
   "metadata": {},
   "outputs": [
    {
     "data": {
      "image/png": "[encoded data removed]",
      "text/plain": [
       "<Figure size 640x480 with 1 Axes>"
      ]
     },
     "metadata": {},
     "output_type": "display_data"
    },
    {
     "name": "stdout",
     "output_type": "stream",
     "text": [
      "minimum amount : 8708.85, maximum amount : 9370.25\n"
     ]
    }
   ],
   "source": [
    "plt.title('Common amount spend by male and female customers')\n",
    "sns.histplot(common_interval_amount_spend_by_both_type_of_users)\n",
    "plt.show()\n",
    "print(f'minimum amount : {min(common_interval_amount_spend_by_both_type_of_users)}, maximum amount : {max(common_interval_amount_spend_by_both_type_of_users)}')"
   ]
  },
  {
   "cell_type": "markdown",
   "id": "12c78ad9",
   "metadata": {},
   "source": [
    "# Observation\n",
    "1. Above `Average male and female amount spending plot` depicts that although male or female customer are spending on purchase but there is a common amount set upto which both the set of users are spending.\n",
    "\n",
    "2. This can be bring more benefits to bussiness by keeping product amount to that range it can bring more profit and it will attract more customers\n",
    "\n",
    "3. As per `common amount spend plot` we can see both the set of customers can spend in between 8703.25 to 9390.93 amount."
   ]
  },
  {
   "cell_type": "markdown",
   "id": "926a3524",
   "metadata": {},
   "source": [
    "# Married Users Spending Habits"
   ]
  },
  {
   "cell_type": "code",
   "execution_count": 38,
   "id": "6816600c",
   "metadata": {},
   "outputs": [],
   "source": [
    "df_married = data.loc[data['Marital_Status']==1]"
   ]
  },
  {
   "cell_type": "code",
   "execution_count": 39,
   "id": "a863db78",
   "metadata": {},
   "outputs": [
    {
     "name": "stdout",
     "output_type": "stream",
     "text": [
      "Population size :225337\n"
     ]
    }
   ],
   "source": [
    "df_married_purchase = df_married['Purchase']\n",
    "print(f'Population size :{len(df_married_purchase)}')"
   ]
  },
  {
   "cell_type": "code",
   "execution_count": 40,
   "id": "c76ec1fe",
   "metadata": {},
   "outputs": [
    {
     "name": "stdout",
     "output_type": "stream",
     "text": [
      "Married_customer_purchase_population_mean: 9261.17\n"
     ]
    }
   ],
   "source": [
    "df_married_purchase_population_mean = round(df_married_purchase.mean(),2)\n",
    "print(f'Married_customer_purchase_population_mean: {df_married_purchase_population_mean}')"
   ]
  },
  {
   "cell_type": "code",
   "execution_count": 41,
   "id": "35657169",
   "metadata": {},
   "outputs": [
    {
     "name": "stderr",
     "output_type": "stream",
     "text": [
      "100%|███████████████████████████████████████████████████████████████████████| 225000/225000 [00:10<00:00, 21762.74it/s]\n"
     ]
    }
   ],
   "source": [
    "married_cust_amt_spending_means = get_sample_means(df_married_purchase,1000,225000)"
   ]
  },
  {
   "cell_type": "code",
   "execution_count": 42,
   "id": "f0825873",
   "metadata": {},
   "outputs": [
    {
     "name": "stdout",
     "output_type": "stream",
     "text": [
      "sample_mean: 9261.64\n"
     ]
    }
   ],
   "source": [
    "married_cust_amt_spending_mean = married_cust_amt_spending_means.mean()\n",
    "print(f'sample_mean: {round(married_cust_amt_spending_mean,2)}')"
   ]
  },
  {
   "cell_type": "markdown",
   "id": "f57bcdaf",
   "metadata": {},
   "source": [
    "# Finding 95% confidence of purchase"
   ]
  },
  {
   "cell_type": "code",
   "execution_count": 43,
   "id": "5557f926",
   "metadata": {},
   "outputs": [
    {
     "name": "stdout",
     "output_type": "stream",
     "text": [
      "Confidence interval of married user purchase :[8952.28, 9573.69]\n"
     ]
    }
   ],
   "source": [
    "married_cust_amt_spending_two_point_five,married_cust_amt_spending_ninty_seven_point_five = get_confidence_range(married_cust_amt_spending_means)\n",
    "print(f'Confidence interval of married user purchase :[{married_cust_amt_spending_two_point_five}, {married_cust_amt_spending_ninty_seven_point_five}]')"
   ]
  },
  {
   "cell_type": "code",
   "execution_count": 44,
   "id": "60c6e92e",
   "metadata": {},
   "outputs": [
    {
     "data": {
      "image/png": "[encoded data removed]",
      "text/plain": [
       "<Figure size 640x480 with 1 Axes>"
      ]
     },
     "metadata": {},
     "output_type": "display_data"
    },
    {
     "name": "stdout",
     "output_type": "stream",
     "text": [
      "Confidence interval of married user purchase :[8952.28, 9573.69]\n"
     ]
    }
   ],
   "source": [
    "plt.title('Amount Spending trend of Married Customers')\n",
    "sns.histplot(married_cust_amt_spending_means)\n",
    "plt.show()\n",
    "print(f'Confidence interval of married user purchase :[{married_cust_amt_spending_two_point_five}, {married_cust_amt_spending_ninty_seven_point_five}]')"
   ]
  },
  {
   "cell_type": "markdown",
   "id": "2feb40a6",
   "metadata": {},
   "source": [
    "# Unmarried Users Spending Habits"
   ]
  },
  {
   "cell_type": "code",
   "execution_count": 50,
   "id": "00ab7642",
   "metadata": {},
   "outputs": [],
   "source": [
    "df_unmarried = data.loc[data['Marital_Status']==0]"
   ]
  },
  {
   "cell_type": "code",
   "execution_count": 51,
   "id": "29d6e59d",
   "metadata": {},
   "outputs": [
    {
     "name": "stdout",
     "output_type": "stream",
     "text": [
      "Population size :324731\n"
     ]
    }
   ],
   "source": [
    "df_unmarried_purchase = df_unmarried['Purchase']\n",
    "print(f'Population size :{len(df_unmarried_purchase)}')"
   ]
  },
  {
   "cell_type": "code",
   "execution_count": 52,
   "id": "b38f4d49",
   "metadata": {},
   "outputs": [
    {
     "name": "stdout",
     "output_type": "stream",
     "text": [
      "Unmarried_customer_purchase_population_mean: 9265.91\n"
     ]
    }
   ],
   "source": [
    "df_unmarried_purchase_population_mean = round(df_unmarried_purchase.mean(),2)\n",
    "print(f'Unmarried_customer_purchase_population_mean: {df_unmarried_purchase_population_mean}')"
   ]
  },
  {
   "cell_type": "code",
   "execution_count": 53,
   "id": "abecb05f",
   "metadata": {},
   "outputs": [
    {
     "name": "stderr",
     "output_type": "stream",
     "text": [
      "100%|███████████████████████████████████████████████████████████████████████| 320000/320000 [00:20<00:00, 15940.14it/s]\n"
     ]
    }
   ],
   "source": [
    "unmarried_cust_amt_spending_means = get_sample_means(df_unmarried_purchase,1000,320000)"
   ]
  },
  {
   "cell_type": "code",
   "execution_count": 54,
   "id": "336a474e",
   "metadata": {},
   "outputs": [
    {
     "name": "stdout",
     "output_type": "stream",
     "text": [
      "sample_mean: 9266.57\n"
     ]
    }
   ],
   "source": [
    "unmarried_cust_amt_spending_means = unmarried_cust_amt_spending_means.mean()\n",
    "print(f'sample_mean: {round(unmarried_cust_amt_spending_means,2)}')"
   ]
  },
  {
   "cell_type": "code",
   "execution_count": null,
   "id": "9bab0ad1",
   "metadata": {},
   "outputs": [],
   "source": []
  }
 ],
 "metadata": {
  "kernelspec": {
   "display_name": "Python 3 (ipykernel)",
   "language": "python",
   "name": "python3"
  },
  "language_info": {
   "codemirror_mode": {
    "name": "ipython",
    "version": 3
   },
   "file_extension": ".py",
   "mimetype": "text/x-python",
   "name": "python",
   "nbconvert_exporter": "python",
   "pygments_lexer": "ipython3",
   "version": "3.9.13"
  }
 },
 "nbformat": 4,
 "nbformat_minor": 5
}
