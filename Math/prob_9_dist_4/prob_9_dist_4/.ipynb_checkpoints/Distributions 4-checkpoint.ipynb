{
 "cells": [
  {
   "cell_type": "markdown",
   "id": "76e7bcf7",
   "metadata": {},
   "source": [
    "## Geometric Distribution - Expectation"
   ]
  },
  {
   "cell_type": "code",
   "execution_count": null,
   "id": "0bc0063c",
   "metadata": {},
   "outputs": [],
   "source": []
  },
  {
   "cell_type": "markdown",
   "id": "6b831684",
   "metadata": {},
   "source": [
    "## Coin Tosses"
   ]
  },
  {
   "cell_type": "code",
   "execution_count": null,
   "id": "8ec4f63c",
   "metadata": {},
   "outputs": [],
   "source": []
  },
  {
   "cell_type": "markdown",
   "id": "845a3f4b",
   "metadata": {},
   "source": [
    "## Goals in a Football match"
   ]
  },
  {
   "cell_type": "code",
   "execution_count": null,
   "id": "ebea5f49",
   "metadata": {},
   "outputs": [],
   "source": []
  },
  {
   "cell_type": "markdown",
   "id": "b8d3b52a",
   "metadata": {},
   "source": [
    "## Exponential Distribution"
   ]
  },
  {
   "cell_type": "code",
   "execution_count": null,
   "id": "c605cbad",
   "metadata": {},
   "outputs": [],
   "source": []
  },
  {
   "cell_type": "markdown",
   "id": "37705851",
   "metadata": {},
   "source": [
    "## Log-normal Distribution"
   ]
  },
  {
   "cell_type": "code",
   "execution_count": null,
   "id": "41dbc251",
   "metadata": {},
   "outputs": [],
   "source": []
  }
 ],
 "metadata": {
  "kernelspec": {
   "display_name": "Python 3 (ipykernel)",
   "language": "python",
   "name": "python3"
  },
  "language_info": {
   "codemirror_mode": {
    "name": "ipython",
    "version": 3
   },
   "file_extension": ".py",
   "mimetype": "text/x-python",
   "name": "python",
   "nbconvert_exporter": "python",
   "pygments_lexer": "ipython3",
   "version": "3.9.12"
  }
 },
 "nbformat": 4,
 "nbformat_minor": 5
}
