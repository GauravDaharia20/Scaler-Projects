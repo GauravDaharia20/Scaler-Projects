{
 "cells": [
  {
   "cell_type": "markdown",
   "id": "e35c26ae",
   "metadata": {},
   "source": [
    "## Geometric Distribution - Expectation"
   ]
  },
  {
   "cell_type": "code",
   "execution_count": 3,
   "id": "86e0660a",
   "metadata": {},
   "outputs": [
    {
     "name": "stdout",
     "output_type": "stream",
     "text": [
      "From Scipy: 33.822011005613255\n",
      "From Maths: 40.0\n"
     ]
    },
    {
     "name": "stderr",
     "output_type": "stream",
     "text": [
      "/Users/dhruv/miniconda3/envs/def/lib/python3.9/site-packages/scipy/stats/_distn_infrastructure.py:3558: RuntimeWarning: expect(): sum did not converge\n",
      "  warnings.warn('expect(): sum did not converge', RuntimeWarning)\n"
     ]
    }
   ],
   "source": [
    "from scipy.stats import geom\n",
    "\n",
    "geom_expect = lambda p:1/p\n",
    "\n",
    "p = 0.025\n",
    "print(f\"From Scipy: {geom.expect(args=(p,))}\")\n",
    "print(f\"From Maths: {geom_expect(p)}\")"
   ]
  },
  {
   "cell_type": "markdown",
   "id": "967e265e",
   "metadata": {},
   "source": [
    "## Birthday problem"
   ]
  },
  {
   "cell_type": "code",
   "execution_count": 12,
   "id": "d91d9143",
   "metadata": {},
   "outputs": [
    {
     "name": "stdout",
     "output_type": "stream",
     "text": [
      "0.34844017001836897\n"
     ]
    }
   ],
   "source": [
    "from scipy.stats import binom, poisson\n",
    "\n",
    "print(binom.pmf(k=1, n=500, p=1/365))"
   ]
  },
  {
   "cell_type": "markdown",
   "id": "463dcf87",
   "metadata": {},
   "source": [
    "## Coin Tosses"
   ]
  },
  {
   "cell_type": "code",
   "execution_count": 6,
   "id": "a1033c9a",
   "metadata": {},
   "outputs": [
    {
     "name": "stdout",
     "output_type": "stream",
     "text": [
      "0.43467880485600013\n",
      "0.8334000000000004\n"
     ]
    }
   ],
   "source": [
    "#1\n",
    "print(binom.pmf(k=1, n=3, p=0.2778))\n",
    "print(binom.expect(args=(3, 0.2778)))"
   ]
  },
  {
   "cell_type": "code",
   "execution_count": 7,
   "id": "384f18eb",
   "metadata": {},
   "outputs": [
    {
     "name": "stdout",
     "output_type": "stream",
     "text": [
      "0.18502679391168123\n",
      "2.5001999999999978\n"
     ]
    }
   ],
   "source": [
    "#2\n",
    "print(binom.pmf(k=1, n=9, p=0.2778))\n",
    "print(binom.expect(args=(9, 0.2778)))"
   ]
  },
  {
   "cell_type": "markdown",
   "id": "9eee39d1",
   "metadata": {},
   "source": [
    "## Goals in a Football match"
   ]
  },
  {
   "cell_type": "code",
   "execution_count": 9,
   "id": "e29ec22e",
   "metadata": {},
   "outputs": [
    {
     "name": "stdout",
     "output_type": "stream",
     "text": [
      "0.3627579632076897\n",
      "0.8333999999999998\n",
      "0.2050448325604843\n",
      "2.5002000000000004\n"
     ]
    }
   ],
   "source": [
    "#3\n",
    "print(binom.pmf(k=1, n=300, p=0.002778))\n",
    "print(binom.expect(args=(300, 0.002778)))\n",
    "\n",
    "print(binom.pmf(k=1, n=900, p=0.002778))\n",
    "print(binom.expect(args=(900, 0.002778)))"
   ]
  },
  {
   "cell_type": "code",
   "execution_count": 13,
   "id": "8eee3226",
   "metadata": {},
   "outputs": [
    {
     "name": "stdout",
     "output_type": "stream",
     "text": [
      "0.36217000149819234\n",
      "0.20518787188106452\n"
     ]
    }
   ],
   "source": [
    "print(poisson.pmf(k=1, mu=(300 * 0.002778) ))\n",
    "print(poisson.pmf(k=1, mu=(900 * 0.002778) ))"
   ]
  },
  {
   "cell_type": "markdown",
   "id": "ea3f1a7a",
   "metadata": {},
   "source": [
    "## Exponential Distribution"
   ]
  },
  {
   "cell_type": "code",
   "execution_count": 14,
   "id": "e11e2444",
   "metadata": {},
   "outputs": [
    {
     "name": "stdout",
     "output_type": "stream",
     "text": [
      "0.486582880967408\n"
     ]
    }
   ],
   "source": [
    "from scipy.stats import expon\n",
    "\n",
    "print(expon.cdf(x = 10, scale = 15))"
   ]
  },
  {
   "cell_type": "code",
   "execution_count": 15,
   "id": "91c73e72",
   "metadata": {},
   "outputs": [
    {
     "name": "stdout",
     "output_type": "stream",
     "text": [
      "0.08144952294577923\n"
     ]
    }
   ],
   "source": [
    "print(expon.cdf(x = 5, scale = 5) - expon.cdf(x = 4, scale = 5))"
   ]
  },
  {
   "cell_type": "code",
   "execution_count": 16,
   "id": "4f84df5c",
   "metadata": {},
   "outputs": [
    {
     "name": "stdout",
     "output_type": "stream",
     "text": [
      "0.30119421191220214\n"
     ]
    }
   ],
   "source": [
    "numerator = 1 - expon.cdf(x=9, scale=5)\n",
    "denominator = 1 - expon.cdf(x=3, scale=5)\n",
    "print(numerator/denominator)"
   ]
  },
  {
   "cell_type": "code",
   "execution_count": 18,
   "id": "7429f9cf",
   "metadata": {},
   "outputs": [
    {
     "name": "stdout",
     "output_type": "stream",
     "text": [
      "0.17377394345044517\n"
     ]
    }
   ],
   "source": [
    "print(1 - expon.cdf(x = 30, scale=60/3.5))"
   ]
  },
  {
   "cell_type": "code",
   "execution_count": 20,
   "id": "9cb51e61",
   "metadata": {},
   "outputs": [
    {
     "name": "stdout",
     "output_type": "stream",
     "text": [
      "0.17377394345044517\n"
     ]
    }
   ],
   "source": [
    "print(1 - expon.cdf(x = 1, scale=2/3.5))"
   ]
  },
  {
   "cell_type": "code",
   "execution_count": 21,
   "id": "a52e3cc2",
   "metadata": {},
   "outputs": [
    {
     "name": "stdout",
     "output_type": "stream",
     "text": [
      "0.17377394345044517\n"
     ]
    }
   ],
   "source": [
    "print(1 - expon.cdf(x = 0.5, scale=1/3.5))"
   ]
  },
  {
   "cell_type": "code",
   "execution_count": null,
   "id": "30a83c0e",
   "metadata": {},
   "outputs": [],
   "source": []
  }
 ],
 "metadata": {
  "kernelspec": {
   "display_name": "Python 3 (ipykernel)",
   "language": "python",
   "name": "python3"
  },
  "language_info": {
   "codemirror_mode": {
    "name": "ipython",
    "version": 3
   },
   "file_extension": ".py",
   "mimetype": "text/x-python",
   "name": "python",
   "nbconvert_exporter": "python",
   "pygments_lexer": "ipython3",
   "version": "3.9.12"
  }
 },
 "nbformat": 4,
 "nbformat_minor": 5
}
