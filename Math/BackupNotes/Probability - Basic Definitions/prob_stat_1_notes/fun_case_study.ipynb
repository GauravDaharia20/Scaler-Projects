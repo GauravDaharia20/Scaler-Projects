{
 "cells": [
  {
   "cell_type": "markdown",
   "id": "691ff03b",
   "metadata": {},
   "source": [
    "## Sachin Tendulkar Data analysis"
   ]
  },
  {
   "cell_type": "code",
   "execution_count": 1,
   "id": "767010f8",
   "metadata": {},
   "outputs": [],
   "source": [
    "import pandas as pd\n",
    "import numpy as np"
   ]
  },
  {
   "cell_type": "code",
   "execution_count": 2,
   "id": "fa2d136b",
   "metadata": {},
   "outputs": [],
   "source": [
    "df_sachin = pd.read_csv(\"sachin_odi.csv\")"
   ]
  },
  {
   "cell_type": "code",
   "execution_count": 4,
   "id": "155cf5d5",
   "metadata": {},
   "outputs": [
    {
     "data": {
      "text/html": [
       "<div>\n",
       "<style scoped>\n",
       "    .dataframe tbody tr th:only-of-type {\n",
       "        vertical-align: middle;\n",
       "    }\n",
       "\n",
       "    .dataframe tbody tr th {\n",
       "        vertical-align: top;\n",
       "    }\n",
       "\n",
       "    .dataframe thead th {\n",
       "        text-align: right;\n",
       "    }\n",
       "</style>\n",
       "<table border=\"1\" class=\"dataframe\">\n",
       "  <thead>\n",
       "    <tr style=\"text-align: right;\">\n",
       "      <th></th>\n",
       "      <th>runs</th>\n",
       "      <th>NotOut</th>\n",
       "      <th>mins</th>\n",
       "      <th>bf</th>\n",
       "      <th>fours</th>\n",
       "      <th>sixes</th>\n",
       "      <th>sr</th>\n",
       "      <th>Inns</th>\n",
       "      <th>Opp</th>\n",
       "      <th>Ground</th>\n",
       "      <th>Date</th>\n",
       "      <th>Winner</th>\n",
       "      <th>Century</th>\n",
       "      <th>Won</th>\n",
       "    </tr>\n",
       "  </thead>\n",
       "  <tbody>\n",
       "    <tr>\n",
       "      <th>0</th>\n",
       "      <td>13</td>\n",
       "      <td>0</td>\n",
       "      <td>30</td>\n",
       "      <td>15</td>\n",
       "      <td>3</td>\n",
       "      <td>0</td>\n",
       "      <td>86.66</td>\n",
       "      <td>1</td>\n",
       "      <td>New Zealand</td>\n",
       "      <td>Napier</td>\n",
       "      <td>1995-02-16</td>\n",
       "      <td>New Zealand</td>\n",
       "      <td>No</td>\n",
       "      <td>No</td>\n",
       "    </tr>\n",
       "    <tr>\n",
       "      <th>1</th>\n",
       "      <td>37</td>\n",
       "      <td>0</td>\n",
       "      <td>75</td>\n",
       "      <td>51</td>\n",
       "      <td>3</td>\n",
       "      <td>1</td>\n",
       "      <td>72.54</td>\n",
       "      <td>2</td>\n",
       "      <td>South Africa</td>\n",
       "      <td>Hamilton</td>\n",
       "      <td>1995-02-18</td>\n",
       "      <td>South Africa</td>\n",
       "      <td>No</td>\n",
       "      <td>No</td>\n",
       "    </tr>\n",
       "    <tr>\n",
       "      <th>2</th>\n",
       "      <td>47</td>\n",
       "      <td>0</td>\n",
       "      <td>65</td>\n",
       "      <td>40</td>\n",
       "      <td>7</td>\n",
       "      <td>0</td>\n",
       "      <td>117.50</td>\n",
       "      <td>2</td>\n",
       "      <td>Australia</td>\n",
       "      <td>Dunedin</td>\n",
       "      <td>1995-02-22</td>\n",
       "      <td>India</td>\n",
       "      <td>No</td>\n",
       "      <td>Yes</td>\n",
       "    </tr>\n",
       "    <tr>\n",
       "      <th>3</th>\n",
       "      <td>48</td>\n",
       "      <td>0</td>\n",
       "      <td>37</td>\n",
       "      <td>30</td>\n",
       "      <td>9</td>\n",
       "      <td>1</td>\n",
       "      <td>160.00</td>\n",
       "      <td>2</td>\n",
       "      <td>Bangladesh</td>\n",
       "      <td>Sharjah</td>\n",
       "      <td>1995-04-05</td>\n",
       "      <td>India</td>\n",
       "      <td>No</td>\n",
       "      <td>Yes</td>\n",
       "    </tr>\n",
       "    <tr>\n",
       "      <th>4</th>\n",
       "      <td>4</td>\n",
       "      <td>0</td>\n",
       "      <td>13</td>\n",
       "      <td>9</td>\n",
       "      <td>1</td>\n",
       "      <td>0</td>\n",
       "      <td>44.44</td>\n",
       "      <td>2</td>\n",
       "      <td>Pakistan</td>\n",
       "      <td>Sharjah</td>\n",
       "      <td>1995-04-07</td>\n",
       "      <td>Pakistan</td>\n",
       "      <td>No</td>\n",
       "      <td>No</td>\n",
       "    </tr>\n",
       "  </tbody>\n",
       "</table>\n",
       "</div>"
      ],
      "text/plain": [
       "   runs  NotOut mins  bf  fours  sixes      sr  Inns           Opp    Ground  \\\n",
       "0    13       0   30  15      3      0   86.66     1   New Zealand    Napier   \n",
       "1    37       0   75  51      3      1   72.54     2  South Africa  Hamilton   \n",
       "2    47       0   65  40      7      0  117.50     2     Australia   Dunedin   \n",
       "3    48       0   37  30      9      1  160.00     2    Bangladesh   Sharjah   \n",
       "4     4       0   13   9      1      0   44.44     2      Pakistan   Sharjah   \n",
       "\n",
       "         Date        Winner Century  Won  \n",
       "0  1995-02-16   New Zealand      No   No  \n",
       "1  1995-02-18  South Africa      No   No  \n",
       "2  1995-02-22         India      No  Yes  \n",
       "3  1995-04-05         India      No  Yes  \n",
       "4  1995-04-07      Pakistan      No   No  "
      ]
     },
     "execution_count": 4,
     "metadata": {},
     "output_type": "execute_result"
    }
   ],
   "source": [
    "df_sachin.head()"
   ]
  },
  {
   "cell_type": "code",
   "execution_count": 5,
   "id": "750a9dac",
   "metadata": {},
   "outputs": [
    {
     "data": {
      "text/plain": [
       "(360, 14)"
      ]
     },
     "execution_count": 5,
     "metadata": {},
     "output_type": "execute_result"
    }
   ],
   "source": [
    "df_sachin.shape"
   ]
  },
  {
   "cell_type": "markdown",
   "id": "856d6340",
   "metadata": {},
   "source": [
    "### What is the proabability of India winning when Sachin is playing?"
   ]
  },
  {
   "cell_type": "code",
   "execution_count": 15,
   "id": "c5457146",
   "metadata": {},
   "outputs": [
    {
     "data": {
      "text/plain": [
       "Yes    0.511111\n",
       "No     0.488889\n",
       "Name: Won, dtype: float64"
      ]
     },
     "execution_count": 15,
     "metadata": {},
     "output_type": "execute_result"
    }
   ],
   "source": [
    "df_sachin[\"Won\"].value_counts(normalize=True)"
   ]
  },
  {
   "cell_type": "code",
   "execution_count": 12,
   "id": "3c3abf4f",
   "metadata": {},
   "outputs": [
    {
     "data": {
      "text/plain": [
       "184"
      ]
     },
     "execution_count": 12,
     "metadata": {},
     "output_type": "execute_result"
    }
   ],
   "source": [
    "data_where_india_won = df_sachin[df_sachin[\"Won\"] == \"Yes\"]\n",
    "len(data_where_india_won)"
   ]
  },
  {
   "cell_type": "code",
   "execution_count": 14,
   "id": "b6002305",
   "metadata": {},
   "outputs": [
    {
     "name": "stdout",
     "output_type": "stream",
     "text": [
      "0.5111111111111111\n"
     ]
    }
   ],
   "source": [
    "probability_of_winning = len(data_where_india_won) / len(df_sachin)\n",
    "print(probability_of_winning)"
   ]
  },
  {
   "cell_type": "markdown",
   "id": "dfd16026",
   "metadata": {},
   "source": [
    "### Probability of Sachin scoring a century"
   ]
  },
  {
   "cell_type": "code",
   "execution_count": 16,
   "id": "0ac5948c",
   "metadata": {},
   "outputs": [
    {
     "data": {
      "text/plain": [
       "No     314\n",
       "Yes     46\n",
       "Name: Century, dtype: int64"
      ]
     },
     "execution_count": 16,
     "metadata": {},
     "output_type": "execute_result"
    }
   ],
   "source": [
    "df_sachin[\"Century\"].value_counts()"
   ]
  },
  {
   "cell_type": "code",
   "execution_count": 17,
   "id": "27f14aa3",
   "metadata": {},
   "outputs": [
    {
     "data": {
      "text/plain": [
       "0.12777777777777777"
      ]
     },
     "execution_count": 17,
     "metadata": {},
     "output_type": "execute_result"
    }
   ],
   "source": [
    "46 / (314 + 46)"
   ]
  },
  {
   "cell_type": "code",
   "execution_count": 21,
   "id": "e6578ef4",
   "metadata": {},
   "outputs": [],
   "source": [
    "number_of_matches_with_century = df_sachin[df_sachin[\"Century\"] == \"Yes\"]\n",
    "total = len(df_sachin)\n",
    "probability_of_century = len(number_of_matches_with_century) / total"
   ]
  },
  {
   "cell_type": "code",
   "execution_count": 22,
   "id": "ad8fd371",
   "metadata": {},
   "outputs": [
    {
     "name": "stdout",
     "output_type": "stream",
     "text": [
      "0.12777777777777777\n"
     ]
    }
   ],
   "source": [
    "print(probability_of_century)"
   ]
  },
  {
   "cell_type": "markdown",
   "id": "f3367806",
   "metadata": {},
   "source": [
    "## Prabability that sachin scored a century and we won P(century intersection Won)"
   ]
  },
  {
   "cell_type": "code",
   "execution_count": 23,
   "id": "7988f1c2",
   "metadata": {},
   "outputs": [
    {
     "data": {
      "text/plain": [
       "Century  Won\n",
       "No       No     160\n",
       "         Yes    154\n",
       "Yes      Yes     30\n",
       "         No      16\n",
       "dtype: int64"
      ]
     },
     "execution_count": 23,
     "metadata": {},
     "output_type": "execute_result"
    }
   ],
   "source": [
    "df_sachin[[\"Century\", \"Won\"]].value_counts()"
   ]
  },
  {
   "cell_type": "code",
   "execution_count": 24,
   "id": "826948bb",
   "metadata": {},
   "outputs": [
    {
     "name": "stdout",
     "output_type": "stream",
     "text": [
      "0.08333333333333333\n"
     ]
    }
   ],
   "source": [
    "probability_of_sachin_century_and_india_winning = 30 / 360\n",
    "print(probability_of_sachin_century_and_india_winning)"
   ]
  },
  {
   "cell_type": "code",
   "execution_count": 26,
   "id": "4183c004",
   "metadata": {},
   "outputs": [
    {
     "name": "stdout",
     "output_type": "stream",
     "text": [
      "Avg. runs when india won:  51.0\n",
      "Avg. runs when india lost:  35.13068181818182\n"
     ]
    }
   ],
   "source": [
    "## Preetham's Question:\n",
    "df_won = df_sachin[df_sachin[\"Won\"] == \"Yes\"]\n",
    "df_lost = df_sachin[df_sachin[\"Won\"] == \"No\"]\n",
    "avg_sachin_runs_when_india_win = df_won[\"runs\"].mean()\n",
    "avg_sachin_runs_when_india_lost = df_lost[\"runs\"].mean()\n",
    "\n",
    "print(\"Avg. runs when india won: \", avg_sachin_runs_when_india_win)\n",
    "print(\"Avg. runs when india lost: \", avg_sachin_runs_when_india_lost)"
   ]
  },
  {
   "cell_type": "code",
   "execution_count": null,
   "id": "21688bdb",
   "metadata": {},
   "outputs": [],
   "source": []
  }
 ],
 "metadata": {
  "kernelspec": {
   "display_name": "Python 3 (ipykernel)",
   "language": "python",
   "name": "python3"
  },
  "language_info": {
   "codemirror_mode": {
    "name": "ipython",
    "version": 3
   },
   "file_extension": ".py",
   "mimetype": "text/x-python",
   "name": "python",
   "nbconvert_exporter": "python",
   "pygments_lexer": "ipython3",
   "version": "3.9.12"
  }
 },
 "nbformat": 4,
 "nbformat_minor": 5
}
