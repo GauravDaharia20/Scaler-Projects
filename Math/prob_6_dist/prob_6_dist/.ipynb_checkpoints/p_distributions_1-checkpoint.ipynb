{
 "cells": [
  {
   "cell_type": "markdown",
   "id": "452f1784",
   "metadata": {},
   "source": [
    "### Computing percentiles using numpy: `\"linear\"` method"
   ]
  },
  {
   "cell_type": "code",
   "execution_count": 2,
   "id": "8c3fd74d",
   "metadata": {},
   "outputs": [],
   "source": [
    "import numpy as np"
   ]
  },
  {
   "cell_type": "code",
   "execution_count": 3,
   "id": "3ff273ad",
   "metadata": {},
   "outputs": [
    {
     "name": "stdout",
     "output_type": "stream",
     "text": [
      "P_25: 2.0\n",
      "P_50: 3.0\n",
      "P_75: 4.0\n"
     ]
    }
   ],
   "source": [
    "l = np.array([1, 2, 3, 4, 5])\n",
    "p50 = np.percentile(l, 50)\n",
    "\n",
    "p25 = np.percentile(l, 25)\n",
    "p75 = np.percentile(l, 75)\n",
    "\n",
    "print(f\"P_25: {p25}\")\n",
    "print(f\"P_50: {p50}\")\n",
    "print(f\"P_75: {p75}\")"
   ]
  },
  {
   "cell_type": "code",
   "execution_count": 6,
   "id": "3e0b946c",
   "metadata": {},
   "outputs": [
    {
     "name": "stdout",
     "output_type": "stream",
     "text": [
      "P_25: 2.625\n",
      "P_50: 3.5\n",
      "P_75: 4.75\n"
     ]
    }
   ],
   "source": [
    "l = np.array([1, 2.5, 3, 4, 5, 6])\n",
    "p50 = np.percentile(l, 50)\n",
    "\n",
    "p25 = np.percentile(l, 25)\n",
    "p75 = np.percentile(l, 75)\n",
    "\n",
    "print(f\"P_25: {p25}\")\n",
    "print(f\"P_50: {p50}\")\n",
    "print(f\"P_75: {p75}\")"
   ]
  },
  {
   "cell_type": "markdown",
   "id": "9457e29e",
   "metadata": {},
   "source": [
    "### Betting Game"
   ]
  },
  {
   "cell_type": "code",
   "execution_count": 14,
   "id": "0f888a89",
   "metadata": {},
   "outputs": [
    {
     "name": "stdout",
     "output_type": "stream",
     "text": [
      "2\n"
     ]
    }
   ],
   "source": [
    "import numpy as np\n",
    "\n",
    "ss = ['R', 'R', 'R', 'B', 'B']\n",
    "expt = np.random.choice(ss, size=4)\n",
    "num_red = np.count_nonzero(expt == \"R\")\n",
    "print(num_red)"
   ]
  },
  {
   "cell_type": "code",
   "execution_count": 30,
   "id": "176e8b89",
   "metadata": {},
   "outputs": [
    {
     "name": "stderr",
     "output_type": "stream",
     "text": [
      "/Users/dhruv/miniconda3/envs/def/lib/python3.9/site-packages/seaborn/_decorators.py:36: FutureWarning: Pass the following variable as a keyword arg: x. From version 0.12, the only valid positional argument will be `data`, and passing other arguments without an explicit keyword will result in an error or misinterpretation.\n",
      "  warnings.warn(\n"
     ]
    },
    {
     "data": {
      "image/png": "[encoded data removed]",
      "text/plain": [
       "<Figure size 432x288 with 1 Axes>"
      ]
     },
     "metadata": {
      "needs_background": "light"
     },
     "output_type": "display_data"
    }
   ],
   "source": [
    "from matplotlib import pyplot as plt\n",
    "import seaborn as sns\n",
    "\n",
    "num_people = 100000\n",
    "num_reds = []\n",
    "\n",
    "for i in range(num_people):\n",
    "    expt = np.random.choice(ss, size=4)\n",
    "    num_red = np.count_nonzero(expt == \"R\")\n",
    "    num_reds.append(num_red)\n",
    "\n",
    "plt.figure()\n",
    "sns.countplot(num_reds)\n",
    "plt.show()"
   ]
  },
  {
   "cell_type": "code",
   "execution_count": 33,
   "id": "db1e40df",
   "metadata": {},
   "outputs": [
    {
     "name": "stdout",
     "output_type": "stream",
     "text": [
      "2536\n",
      "15280\n",
      "34712\n",
      "34465\n",
      "13007\n"
     ]
    }
   ],
   "source": [
    "num_reds = np.array(num_reds)\n",
    "count_0 = np.count_nonzero(num_reds == 0)\n",
    "print(count_0)\n",
    "count_1 = np.count_nonzero(num_reds == 1)\n",
    "print(count_1)\n",
    "count_2 = np.count_nonzero(num_reds == 2)\n",
    "print(count_2)\n",
    "count_3 = np.count_nonzero(num_reds == 3)\n",
    "print(count_3)\n",
    "count_4 = np.count_nonzero(num_reds == 4)\n",
    "print(count_4)"
   ]
  },
  {
   "cell_type": "code",
   "execution_count": 38,
   "id": "bbf0b6a9",
   "metadata": {},
   "outputs": [
    {
     "name": "stdout",
     "output_type": "stream",
     "text": [
      "10.8112\n",
      "-10.8112\n"
     ]
    }
   ],
   "source": [
    "counts = [2536, 15280, 34712, 34465, 13007]\n",
    "p = [i/100000 for i in counts]\n",
    "\n",
    "print(\"Empirical probabilities: \", p)\n",
    "print(\"Theoretical probabilities: \")\n",
    "\n",
    "n = 4\n",
    "p = 0.6\n",
    "\n",
    "for k in range(n+1):\n",
    "    print(f\"k = {k}, p = \", binom.pmf(k=k, n=n, p=p))\n",
    "\n",
    "expected_winnings = 0 ## Player point of view\n",
    "money = 0 ## Casino point of view\n",
    "\n",
    "for i in range(len(p)):\n",
    "    if i != 4:\n",
    "        expected_winnings += p[i] * -10\n",
    "        money += counts[i] * 10\n",
    "    else:\n",
    "        expected_winnings += p[i] * 150\n",
    "        money -= counts[i] * 150\n",
    "print(expected_winnings)\n",
    "print(money/100000)"
   ]
  },
  {
   "cell_type": "code",
   "execution_count": 41,
   "id": "6cd70296",
   "metadata": {},
   "outputs": [
    {
     "name": "stdout",
     "output_type": "stream",
     "text": [
      "k = 0, p =  0.010240000000000003\n",
      "k = 1, p =  0.0768\n",
      "k = 2, p =  0.23040000000000008\n",
      "k = 3, p =  0.3455999999999999\n",
      "k = 4, p =  0.2592000000000001\n",
      "k = 5, p =  0.07775999999999998\n"
     ]
    }
   ],
   "source": [
    "from scipy.stats import binom\n",
    "\n",
    "n = 5\n",
    "k = 3\n",
    "p = 0.6\n",
    "\n",
    "for k in range(6):\n",
    "    print(f\"k = {k}, p = \", binom.pmf(k=k, n=n, p=p))"
   ]
  },
  {
   "cell_type": "code",
   "execution_count": 40,
   "id": "e740b438",
   "metadata": {},
   "outputs": [
    {
     "name": "stdout",
     "output_type": "stream",
     "text": [
      "0.3456\n"
     ]
    }
   ],
   "source": [
    "import math\n",
    "p = math.comb(5, 3) * (0.6)**3 * (0.4)**2\n",
    "print(p)"
   ]
  },
  {
   "cell_type": "code",
   "execution_count": null,
   "id": "4948dec0",
   "metadata": {},
   "outputs": [],
   "source": []
  }
 ],
 "metadata": {
  "kernelspec": {
   "display_name": "Python 3 (ipykernel)",
   "language": "python",
   "name": "python3"
  },
  "language_info": {
   "codemirror_mode": {
    "name": "ipython",
    "version": 3
   },
   "file_extension": ".py",
   "mimetype": "text/x-python",
   "name": "python",
   "nbconvert_exporter": "python",
   "pygments_lexer": "ipython3",
   "version": "3.9.12"
  }
 },
 "nbformat": 4,
 "nbformat_minor": 5
}
