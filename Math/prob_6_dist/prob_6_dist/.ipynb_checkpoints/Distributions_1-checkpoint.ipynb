{
 "cells": [
  {
   "cell_type": "markdown",
   "id": "452f1784",
   "metadata": {},
   "source": [
    "### Computing percentiles using numpy: `\"linear\"` method"
   ]
  },
  {
   "cell_type": "code",
   "execution_count": 1,
   "id": "8c3fd74d",
   "metadata": {},
   "outputs": [],
   "source": [
    "import numpy as np"
   ]
  },
  {
   "cell_type": "code",
   "execution_count": 4,
   "id": "3ff273ad",
   "metadata": {},
   "outputs": [
    {
     "name": "stdout",
     "output_type": "stream",
     "text": [
      "P_25: 2.0\n",
      "P_50: 3.0\n",
      "P_75: 4.0\n"
     ]
    }
   ],
   "source": [
    "l = np.array([1, 2, 3, 4, 5])\n",
    "p50 = np.percentile(l, 50)\n",
    "\n",
    "p25 = np.percentile(l, 25)\n",
    "p75 = np.percentile(l, 75)\n",
    "\n",
    "print(f\"P_25: {p25}\")\n",
    "print(f\"P_50: {p50}\")\n",
    "print(f\"P_75: {p75}\")"
   ]
  },
  {
   "cell_type": "code",
   "execution_count": 14,
   "id": "3e0b946c",
   "metadata": {},
   "outputs": [
    {
     "name": "stdout",
     "output_type": "stream",
     "text": [
      "P_25: 2.625\n",
      "P_50: 3.5\n",
      "P_75: 4.75\n"
     ]
    }
   ],
   "source": [
    "l = np.array([1, 2.5, 3, 4, 5, 6])\n",
    "p50 = np.percentile(l, 50)\n",
    "\n",
    "p25 = np.percentile(l, 25)\n",
    "p75 = np.percentile(l, 75)\n",
    "\n",
    "print(f\"P_25: {p25}\")\n",
    "print(f\"P_50: {p50}\")\n",
    "print(f\"P_75: {p75}\")"
   ]
  }
 ],
 "metadata": {
  "kernelspec": {
   "display_name": "Python 3 (ipykernel)",
   "language": "python",
   "name": "python3"
  },
  "language_info": {
   "codemirror_mode": {
    "name": "ipython",
    "version": 3
   },
   "file_extension": ".py",
   "mimetype": "text/x-python",
   "name": "python",
   "nbconvert_exporter": "python",
   "pygments_lexer": "ipython3",
   "version": "3.9.12"
  }
 },
 "nbformat": 4,
 "nbformat_minor": 5
}
