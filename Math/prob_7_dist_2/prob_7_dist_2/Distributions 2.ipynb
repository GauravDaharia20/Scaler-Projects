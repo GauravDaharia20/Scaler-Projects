{
 "cells": [
  {
   "cell_type": "code",
   "execution_count": 2,
   "id": "64fa5447",
   "metadata": {},
   "outputs": [],
   "source": [
    "import numpy as np\n",
    "from scipy.stats import norm"
   ]
  },
  {
   "cell_type": "code",
   "execution_count": 8,
   "id": "87ce0d2a",
   "metadata": {},
   "outputs": [
    {
     "name": "stdout",
     "output_type": "stream",
     "text": [
      "0.2118553985833967\n"
     ]
    }
   ],
   "source": [
    "z = (63 - 65)/2.5\n",
    "print(norm.cdf(z)) # Cumulative distribution function"
   ]
  },
  {
   "cell_type": "code",
   "execution_count": 6,
   "id": "331cde0b",
   "metadata": {},
   "outputs": [
    {
     "name": "stdout",
     "output_type": "stream",
     "text": [
      "fraction in [-1, 1]:  0.6826894921370859\n",
      "fraction in [-2, 2]:  0.9544997361036416\n",
      "fraction in [-3, 3]:  0.9973002039367398\n"
     ]
    }
   ],
   "source": [
    "print(f\"fraction in [-1, 1]: \", norm.cdf(1) - norm.cdf(-1))\n",
    "print(f\"fraction in [-2, 2]: \", norm.cdf(2) - norm.cdf(-2))\n",
    "print(f\"fraction in [-3, 3]: \", norm.cdf(3) - norm.cdf(-3))"
   ]
  },
  {
   "cell_type": "code",
   "execution_count": 9,
   "id": "fb35b726",
   "metadata": {},
   "outputs": [
    {
     "name": "stdout",
     "output_type": "stream",
     "text": [
      "0.9331927987311419\n"
     ]
    }
   ],
   "source": [
    "z = (53 - 50)/2\n",
    "print(norm.cdf(z)) # Cumulative distribution function"
   ]
  },
  {
   "cell_type": "code",
   "execution_count": 14,
   "id": "69b48d03",
   "metadata": {},
   "outputs": [
    {
     "name": "stdout",
     "output_type": "stream",
     "text": [
      "-1.6448536269514729\n",
      "6.860749766836499\n"
     ]
    }
   ],
   "source": [
    "fraction = 0.05\n",
    "z = norm.ppf(fraction) # Percent Point function - inverse of the cdf\n",
    "print(z)\n",
    "x = 7.42 + z * 0.34\n",
    "print(x)"
   ]
  },
  {
   "cell_type": "code",
   "execution_count": 12,
   "id": "ebe67e34",
   "metadata": {},
   "outputs": [
    {
     "name": "stdout",
     "output_type": "stream",
     "text": [
      "0.06680720126885809\n"
     ]
    }
   ],
   "source": [
    "z = 1.5\n",
    "print(1 - norm.cdf(z)) # Cumulative distribution function"
   ]
  },
  {
   "cell_type": "code",
   "execution_count": null,
   "id": "1244f3c1",
   "metadata": {},
   "outputs": [],
   "source": []
  }
 ],
 "metadata": {
  "kernelspec": {
   "display_name": "Python 3 (ipykernel)",
   "language": "python",
   "name": "python3"
  },
  "language_info": {
   "codemirror_mode": {
    "name": "ipython",
    "version": 3
   },
   "file_extension": ".py",
   "mimetype": "text/x-python",
   "name": "python",
   "nbconvert_exporter": "python",
   "pygments_lexer": "ipython3",
   "version": "3.9.12"
  }
 },
 "nbformat": 4,
 "nbformat_minor": 5
}
