{
 "cells": [
  {
   "cell_type": "markdown",
   "id": "435d60c9",
   "metadata": {},
   "source": [
    "### Imports"
   ]
  },
  {
   "cell_type": "code",
   "execution_count": 2,
   "id": "cc9627f0",
   "metadata": {},
   "outputs": [],
   "source": [
    "import numpy as np\n",
    "import pandas as pd\n",
    "import seaborn as sns\n",
    "import matplotlib.pyplot as plt\n",
    "\n",
    "from scipy.stats import norm"
   ]
  },
  {
   "cell_type": "markdown",
   "id": "3e04f7a7",
   "metadata": {},
   "source": [
    "### Sehwag"
   ]
  },
  {
   "cell_type": "code",
   "execution_count": 3,
   "id": "984d114f",
   "metadata": {},
   "outputs": [],
   "source": [
    "sehwag = pd.read_csv(\"sehwag.csv\")"
   ]
  },
  {
   "cell_type": "code",
   "execution_count": 42,
   "id": "53946bf7",
   "metadata": {},
   "outputs": [
    {
     "name": "stdout",
     "output_type": "stream",
     "text": [
      "total matches:  245\n"
     ]
    }
   ],
   "source": [
    "print(\"total matches: \", len(sehwag))"
   ]
  },
  {
   "cell_type": "code",
   "execution_count": 5,
   "id": "02487237",
   "metadata": {},
   "outputs": [
    {
     "data": {
      "text/html": [
       "<div>\n",
       "<style scoped>\n",
       "    .dataframe tbody tr th:only-of-type {\n",
       "        vertical-align: middle;\n",
       "    }\n",
       "\n",
       "    .dataframe tbody tr th {\n",
       "        vertical-align: top;\n",
       "    }\n",
       "\n",
       "    .dataframe thead th {\n",
       "        text-align: right;\n",
       "    }\n",
       "</style>\n",
       "<table border=\"1\" class=\"dataframe\">\n",
       "  <thead>\n",
       "    <tr style=\"text-align: right;\">\n",
       "      <th></th>\n",
       "      <th>Runs</th>\n",
       "      <th>Mins</th>\n",
       "      <th>BF</th>\n",
       "      <th>4s</th>\n",
       "      <th>6s</th>\n",
       "      <th>SR</th>\n",
       "      <th>Pos</th>\n",
       "      <th>Dismissal</th>\n",
       "      <th>Inns</th>\n",
       "      <th>Unnamed: 9</th>\n",
       "      <th>Opposition</th>\n",
       "      <th>Ground</th>\n",
       "      <th>Start Date</th>\n",
       "      <th>Unnamed: 13</th>\n",
       "    </tr>\n",
       "  </thead>\n",
       "  <tbody>\n",
       "    <tr>\n",
       "      <th>0</th>\n",
       "      <td>1</td>\n",
       "      <td>5</td>\n",
       "      <td>2</td>\n",
       "      <td>0</td>\n",
       "      <td>0</td>\n",
       "      <td>50.00</td>\n",
       "      <td>7</td>\n",
       "      <td>lbw</td>\n",
       "      <td>1</td>\n",
       "      <td>NaN</td>\n",
       "      <td>v Pakistan</td>\n",
       "      <td>Mohali</td>\n",
       "      <td>1 Apr 1999</td>\n",
       "      <td>ODI # 1427</td>\n",
       "    </tr>\n",
       "    <tr>\n",
       "      <th>1</th>\n",
       "      <td>19</td>\n",
       "      <td>18</td>\n",
       "      <td>24</td>\n",
       "      <td>0</td>\n",
       "      <td>1</td>\n",
       "      <td>79.16</td>\n",
       "      <td>6</td>\n",
       "      <td>caught</td>\n",
       "      <td>1</td>\n",
       "      <td>NaN</td>\n",
       "      <td>v Zimbabwe</td>\n",
       "      <td>Rajkot</td>\n",
       "      <td>14 Dec 2000</td>\n",
       "      <td>ODI # 1660</td>\n",
       "    </tr>\n",
       "    <tr>\n",
       "      <th>2</th>\n",
       "      <td>58</td>\n",
       "      <td>62</td>\n",
       "      <td>54</td>\n",
       "      <td>8</td>\n",
       "      <td>0</td>\n",
       "      <td>107.40</td>\n",
       "      <td>6</td>\n",
       "      <td>bowled</td>\n",
       "      <td>1</td>\n",
       "      <td>NaN</td>\n",
       "      <td>v Australia</td>\n",
       "      <td>Bengaluru</td>\n",
       "      <td>25 Mar 2001</td>\n",
       "      <td>ODI # 1696</td>\n",
       "    </tr>\n",
       "    <tr>\n",
       "      <th>3</th>\n",
       "      <td>2</td>\n",
       "      <td>7</td>\n",
       "      <td>7</td>\n",
       "      <td>0</td>\n",
       "      <td>0</td>\n",
       "      <td>28.57</td>\n",
       "      <td>6</td>\n",
       "      <td>caught</td>\n",
       "      <td>2</td>\n",
       "      <td>NaN</td>\n",
       "      <td>v Zimbabwe</td>\n",
       "      <td>Bulawayo</td>\n",
       "      <td>27 Jun 2001</td>\n",
       "      <td>ODI # 1730</td>\n",
       "    </tr>\n",
       "    <tr>\n",
       "      <th>4</th>\n",
       "      <td>11</td>\n",
       "      <td>19</td>\n",
       "      <td>16</td>\n",
       "      <td>1</td>\n",
       "      <td>0</td>\n",
       "      <td>68.75</td>\n",
       "      <td>6</td>\n",
       "      <td>not out</td>\n",
       "      <td>2</td>\n",
       "      <td>NaN</td>\n",
       "      <td>v West Indies</td>\n",
       "      <td>Bulawayo</td>\n",
       "      <td>30 Jun 2001</td>\n",
       "      <td>ODI # 1731</td>\n",
       "    </tr>\n",
       "  </tbody>\n",
       "</table>\n",
       "</div>"
      ],
      "text/plain": [
       "   Runs Mins  BF  4s  6s      SR  Pos Dismissal  Inns  Unnamed: 9  \\\n",
       "0     1    5   2   0   0   50.00    7       lbw     1         NaN   \n",
       "1    19   18  24   0   1   79.16    6    caught     1         NaN   \n",
       "2    58   62  54   8   0  107.40    6    bowled     1         NaN   \n",
       "3     2    7   7   0   0   28.57    6    caught     2         NaN   \n",
       "4    11   19  16   1   0   68.75    6   not out     2         NaN   \n",
       "\n",
       "      Opposition     Ground   Start Date Unnamed: 13  \n",
       "0     v Pakistan     Mohali   1 Apr 1999  ODI # 1427  \n",
       "1     v Zimbabwe     Rajkot  14 Dec 2000  ODI # 1660  \n",
       "2    v Australia  Bengaluru  25 Mar 2001  ODI # 1696  \n",
       "3     v Zimbabwe   Bulawayo  27 Jun 2001  ODI # 1730  \n",
       "4  v West Indies   Bulawayo  30 Jun 2001  ODI # 1731  "
      ]
     },
     "execution_count": 5,
     "metadata": {},
     "output_type": "execute_result"
    }
   ],
   "source": [
    "sehwag.head()"
   ]
  },
  {
   "cell_type": "markdown",
   "id": "473b35a7",
   "metadata": {},
   "source": [
    "## Population mean, and population std"
   ]
  },
  {
   "cell_type": "code",
   "execution_count": 8,
   "id": "c95224b1",
   "metadata": {},
   "outputs": [
    {
     "name": "stdout",
     "output_type": "stream",
     "text": [
      "Mean:  33.77\n"
     ]
    }
   ],
   "source": [
    "mean = round(sehwag[\"Runs\"].mean(), 2)\n",
    "print(\"Mean: \", mean)"
   ]
  },
  {
   "cell_type": "code",
   "execution_count": 10,
   "id": "8776df34",
   "metadata": {},
   "outputs": [
    {
     "name": "stdout",
     "output_type": "stream",
     "text": [
      "STD:  34.81\n"
     ]
    }
   ],
   "source": [
    "std = round(sehwag[\"Runs\"].std(), 2)\n",
    "print(\"STD: \", std)"
   ]
  },
  {
   "cell_type": "code",
   "execution_count": 48,
   "id": "abbcc585",
   "metadata": {},
   "outputs": [
    {
     "name": "stdout",
     "output_type": "stream",
     "text": [
      "Sample mean:  34.89\n",
      "Sample std:  34.83\n"
     ]
    }
   ],
   "source": [
    "num_samples = 150\n",
    "\n",
    "sample = sehwag[\"Runs\"].sample(num_samples)\n",
    "\n",
    "print(\"Sample mean: \", round(sample.mean(), 2))\n",
    "print(\"Sample std: \", round(sample.std(), 2))"
   ]
  },
  {
   "cell_type": "code",
   "execution_count": 112,
   "id": "1674abe7",
   "metadata": {},
   "outputs": [],
   "source": [
    "num_people = 1000\n",
    "\n",
    "num_samples = 5\n",
    "\n",
    "means = []\n",
    "stds = []\n",
    "\n",
    "for i in range(num_people):\n",
    "    sample = sehwag[\"Runs\"].sample(num_samples)\n",
    "\n",
    "    means.append(round(sample.mean(), 2))\n",
    "    stds.append(round(sample.std(), 2))"
   ]
  },
  {
   "cell_type": "code",
   "execution_count": 113,
   "id": "fe914b11",
   "metadata": {},
   "outputs": [
    {
     "data": {
      "text/plain": [
       "<AxesSubplot:ylabel='Count'>"
      ]
     },
     "execution_count": 113,
     "metadata": {},
     "output_type": "execute_result"
    },
    {
     "data": {
      "image/png": "[encoded data removed]",
      "text/plain": [
       "<Figure size 432x288 with 1 Axes>"
      ]
     },
     "metadata": {
      "needs_background": "light"
     },
     "output_type": "display_data"
    }
   ],
   "source": [
    "sns.histplot(means, bins = 20)"
   ]
  },
  {
   "cell_type": "code",
   "execution_count": 114,
   "id": "9bd6b005",
   "metadata": {},
   "outputs": [
    {
     "data": {
      "text/plain": [
       "<AxesSubplot:ylabel='Count'>"
      ]
     },
     "execution_count": 114,
     "metadata": {},
     "output_type": "execute_result"
    },
    {
     "data": {
      "image/png": "[encoded data removed]",
      "text/plain": [
       "<Figure size 432x288 with 1 Axes>"
      ]
     },
     "metadata": {
      "needs_background": "light"
     },
     "output_type": "display_data"
    }
   ],
   "source": [
    "sns.histplot(stds, bins = 20)"
   ]
  },
  {
   "cell_type": "markdown",
   "id": "b2c546a5",
   "metadata": {},
   "source": [
    "## Sample mean trend\n",
    "  1. as `n` - sample size increases, we expect lesser variance.\n",
    "  2. If `n` increases a lot, then the sample mean is very close to the actual mean."
   ]
  },
  {
   "cell_type": "code",
   "execution_count": 77,
   "id": "7d70e3f8",
   "metadata": {},
   "outputs": [
    {
     "data": {
      "text/plain": [
       "Text(0, 0.5, 'Sample mean')"
      ]
     },
     "execution_count": 77,
     "metadata": {},
     "output_type": "execute_result"
    },
    {
     "data": {
      "image/png": "[encoded data removed]",
      "text/plain": [
       "<Figure size 432x288 with 1 Axes>"
      ]
     },
     "metadata": {
      "needs_background": "light"
     },
     "output_type": "display_data"
    }
   ],
   "source": [
    "sample_mean_trend = []\n",
    "for person in range(62):\n",
    "    for num_samples in range(5, len(sehwag)):\n",
    "        sample = sehwag[\"Runs\"].sample(num_samples)\n",
    "\n",
    "        sample_mean = round(sample.mean(), 2)\n",
    "        sample_std  = round(sample.std(), 2)\n",
    "        \n",
    "        sample_mean_trend.append(sample_mean)\n",
    "    plt.plot(sample_mean_trend)\n",
    "    sample_mean_trend = []\n",
    "plt.xlabel(\"Number of samples\")\n",
    "plt.ylabel(\"Sample mean\")"
   ]
  },
  {
   "cell_type": "code",
   "execution_count": 78,
   "id": "07d77a29",
   "metadata": {},
   "outputs": [
    {
     "name": "stdout",
     "output_type": "stream",
     "text": [
      "0.9544997361036416\n"
     ]
    }
   ],
   "source": [
    "from scipy.stats import norm\n",
    "print(norm.cdf(2) - norm.cdf(-2))"
   ]
  },
  {
   "cell_type": "code",
   "execution_count": 83,
   "id": "6f2e6356",
   "metadata": {},
   "outputs": [
    {
     "name": "stdout",
     "output_type": "stream",
     "text": [
      "-1.96\n"
     ]
    }
   ],
   "source": [
    "print(round(norm.ppf(0.025), 2))"
   ]
  },
  {
   "cell_type": "code",
   "execution_count": 82,
   "id": "78862473",
   "metadata": {},
   "outputs": [
    {
     "name": "stdout",
     "output_type": "stream",
     "text": [
      "1.96\n"
     ]
    }
   ],
   "source": [
    "print(round(norm.ppf(0.975), 2))"
   ]
  },
  {
   "cell_type": "code",
   "execution_count": 87,
   "id": "4a54f51e",
   "metadata": {},
   "outputs": [],
   "source": [
    "survey_1 = [35, 36, 33, 37, 34, 35]\n",
    "np.mean(survey_1)\n",
    "\n",
    "survey_2 = [20, 37, 17, 50, 53, 33]\n",
    "np.mean(survey_2)\n",
    "\n",
    "n = len(survey_1)"
   ]
  },
  {
   "cell_type": "code",
   "execution_count": 88,
   "id": "c94193d9",
   "metadata": {},
   "outputs": [
    {
     "data": {
      "text/plain": [
       "array(['T', 'H', 'T', 'H', 'T'], dtype='<U1')"
      ]
     },
     "execution_count": 88,
     "metadata": {},
     "output_type": "execute_result"
    }
   ],
   "source": [
    "np.random.choice([\"H\", \"T\"], size = 5)"
   ]
  },
  {
   "cell_type": "code",
   "execution_count": 89,
   "id": "df0b4943",
   "metadata": {},
   "outputs": [
    {
     "name": "stdout",
     "output_type": "stream",
     "text": [
      "[34 33 37 34 35 36]\n"
     ]
    },
    {
     "data": {
      "text/plain": [
       "34.833333333333336"
      ]
     },
     "execution_count": 89,
     "metadata": {},
     "output_type": "execute_result"
    }
   ],
   "source": [
    "bootstrapped_samples = np.random.choice(survey_1, size=n)\n",
    "print(bootstrapped_samples)\n",
    "np.mean(bootstrapped_samples)"
   ]
  },
  {
   "cell_type": "code",
   "execution_count": 91,
   "id": "c54c5013",
   "metadata": {},
   "outputs": [],
   "source": [
    "list_of_means = []\n",
    "for i in range(10000):\n",
    "    bootstrapped_samples = np.random.choice(survey_1, size=n)\n",
    "    list_of_means.append(np.mean(bootstrapped_samples))"
   ]
  },
  {
   "cell_type": "code",
   "execution_count": 92,
   "id": "9d02d6d8",
   "metadata": {},
   "outputs": [
    {
     "data": {
      "text/plain": [
       "<AxesSubplot:ylabel='Count'>"
      ]
     },
     "execution_count": 92,
     "metadata": {},
     "output_type": "execute_result"
    },
    {
     "data": {
      "image/png": "[encoded data removed]",
      "text/plain": [
       "<Figure size 432x288 with 1 Axes>"
      ]
     },
     "metadata": {
      "needs_background": "light"
     },
     "output_type": "display_data"
    }
   ],
   "source": [
    "sns.histplot(list_of_means)"
   ]
  },
  {
   "cell_type": "code",
   "execution_count": 94,
   "id": "be61b3c7",
   "metadata": {},
   "outputs": [
    {
     "name": "stdout",
     "output_type": "stream",
     "text": [
      "Confidence interval:  [34.0, 36.0]\n"
     ]
    }
   ],
   "source": [
    "## Survey_1\n",
    "left = np.percentile(list_of_means, 2.5)\n",
    "right = np.percentile(list_of_means, 97.5)\n",
    "\n",
    "print(\"Confidence interval: \", [left, right])"
   ]
  },
  {
   "cell_type": "code",
   "execution_count": 95,
   "id": "7b470d0d",
   "metadata": {},
   "outputs": [],
   "source": [
    "survey_1 = [20, 37, 17, 50, 53, 33]\n",
    "np.mean(survey_1)\n",
    "\n",
    "n = len(survey_1)"
   ]
  },
  {
   "cell_type": "code",
   "execution_count": 96,
   "id": "28af1500",
   "metadata": {},
   "outputs": [],
   "source": [
    "list_of_means = []\n",
    "for i in range(10000):\n",
    "    bootstrapped_samples = np.random.choice(survey_1, size=n)\n",
    "    list_of_means.append(np.mean(bootstrapped_samples))"
   ]
  },
  {
   "cell_type": "code",
   "execution_count": 97,
   "id": "b2698298",
   "metadata": {},
   "outputs": [
    {
     "data": {
      "text/plain": [
       "<AxesSubplot:ylabel='Count'>"
      ]
     },
     "execution_count": 97,
     "metadata": {},
     "output_type": "execute_result"
    },
    {
     "data": {
      "image/png": "[encoded data removed]",
      "text/plain": [
       "<Figure size 432x288 with 1 Axes>"
      ]
     },
     "metadata": {
      "needs_background": "light"
     },
     "output_type": "display_data"
    }
   ],
   "source": [
    "sns.histplot(list_of_means)"
   ]
  },
  {
   "cell_type": "code",
   "execution_count": 98,
   "id": "24b77035",
   "metadata": {},
   "outputs": [
    {
     "name": "stdout",
     "output_type": "stream",
     "text": [
      "Confidence interval:  [24.0, 46.0]\n"
     ]
    }
   ],
   "source": [
    "## Survey_2\n",
    "left = np.percentile(list_of_means, 2.5)\n",
    "right = np.percentile(list_of_means, 97.5)\n",
    "\n",
    "print(\"Confidence interval: \", [left, right])"
   ]
  },
  {
   "cell_type": "code",
   "execution_count": null,
   "id": "215410d5",
   "metadata": {},
   "outputs": [],
   "source": []
  }
 ],
 "metadata": {
  "kernelspec": {
   "display_name": "Python 3 (ipykernel)",
   "language": "python",
   "name": "python3"
  },
  "language_info": {
   "codemirror_mode": {
    "name": "ipython",
    "version": 3
   },
   "file_extension": ".py",
   "mimetype": "text/x-python",
   "name": "python",
   "nbconvert_exporter": "python",
   "pygments_lexer": "ipython3",
   "version": "3.9.12"
  }
 },
 "nbformat": 4,
 "nbformat_minor": 5
}
