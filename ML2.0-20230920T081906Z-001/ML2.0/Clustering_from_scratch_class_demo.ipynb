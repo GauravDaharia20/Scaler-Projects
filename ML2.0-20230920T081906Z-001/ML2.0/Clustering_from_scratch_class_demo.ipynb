{
 "cells": [
  {
   "cell_type": "code",
   "execution_count": 57,
   "metadata": {},
   "outputs": [],
   "source": [
    "import pandas as pd\n",
    "import numpy as np\n",
    "import seaborn as sns\n",
    "from matplotlib import pyplot as plt"
   ]
  },
  {
   "cell_type": "code",
   "execution_count": 58,
   "metadata": {},
   "outputs": [],
   "source": [
    "# make some dummy data sklearn.datasets import make_blobs\n",
    "# 1\n",
    "from sklearn.datasets import make_blobs\n",
    "\n",
    "data, y = make_blobs(n_samples=2000, centers=4, n_features=2,random_state=0, cluster_std=0.5)"
   ]
  },
  {
   "cell_type": "code",
   "execution_count": 59,
   "metadata": {},
   "outputs": [
    {
     "data": {
      "text/plain": [
       "(2000, 2)"
      ]
     },
     "execution_count": 59,
     "metadata": {},
     "output_type": "execute_result"
    }
   ],
   "source": [
    "data.shape"
   ]
  },
  {
   "cell_type": "code",
   "execution_count": 60,
   "metadata": {},
   "outputs": [
    {
     "data": {
      "text/plain": [
       "array([[-0.99610393,  2.32543854],\n",
       "       [ 0.31831637,  4.07299503],\n",
       "       [ 2.15418161,  0.94653906],\n",
       "       ...,\n",
       "       [ 1.00621742,  4.19752581],\n",
       "       [-1.05850641,  3.3030477 ],\n",
       "       [ 1.64016143,  4.25314658]])"
      ]
     },
     "execution_count": 60,
     "metadata": {},
     "output_type": "execute_result"
    }
   ],
   "source": [
    "data"
   ]
  },
  {
   "cell_type": "code",
   "execution_count": 61,
   "metadata": {},
   "outputs": [
    {
     "data": {
      "text/plain": [
       "array([[-2.26210488,  3.42309604],\n",
       "       [-1.89026003,  2.8093007 ],\n",
       "       [-1.97992831,  7.62055726],\n",
       "       [-1.14648592,  6.79324395]])"
      ]
     },
     "execution_count": 61,
     "metadata": {},
     "output_type": "execute_result"
    }
   ],
   "source": [
    "# Initialise centroids \n",
    "# 2\n",
    "centroids = data[np.random.choice(range(data.shape[0]), size = (4, ))]\n",
    "centroids"
   ]
  },
  {
   "cell_type": "code",
   "execution_count": 62,
   "metadata": {},
   "outputs": [],
   "source": [
    "import matplotlib.pyplot as plt\n",
    "def plot(data, centroids):\n",
    "    plt.scatter(data[:, 0], data[:, 1], marker = '.',\n",
    "                color = 'gray', label = 'data points')\n",
    "    plt.scatter(centroids[:, 0], centroids[:, 1],\n",
    "                color = 'red', label = 'centroid')     \n",
    "    plt.legend()\n",
    "    plt.xlim(-5, 12)\n",
    "    plt.ylim(-10, 15)\n",
    "    plt.show()"
   ]
  },
  {
   "cell_type": "code",
   "execution_count": 63,
   "metadata": {},
   "outputs": [
    {
     "data": {
      "image/png": "[encoded data removed]",
      "text/plain": [
       "<Figure size 640x480 with 1 Axes>"
      ]
     },
     "metadata": {},
     "output_type": "display_data"
    }
   ],
   "source": [
    "plot(data, centroids)"
   ]
  },
  {
   "cell_type": "code",
   "execution_count": 64,
   "metadata": {},
   "outputs": [
    {
     "data": {
      "text/plain": [
       "1.675592550929076"
      ]
     },
     "execution_count": 64,
     "metadata": {},
     "output_type": "execute_result"
    }
   ],
   "source": [
    "import math\n",
    "#point1 (x1,x2)   point2(y1,y2)\n",
    "#sqrt((x1-y1)**2 + (x2-y2)**2)\n",
    "\n",
    "sum((data[0] -centroids[0])**2)**0.5"
   ]
  },
  {
   "cell_type": "code",
   "execution_count": 65,
   "metadata": {},
   "outputs": [
    {
     "name": "stdout",
     "output_type": "stream",
     "text": [
      "(2000, 2)\n",
      "(4, 2)\n"
     ]
    }
   ],
   "source": [
    "print(data.shape)\n",
    "print(centroids.shape)"
   ]
  },
  {
   "cell_type": "code",
   "execution_count": 66,
   "metadata": {},
   "outputs": [
    {
     "data": {
      "text/plain": [
       "(2000,)"
      ]
     },
     "execution_count": 66,
     "metadata": {},
     "output_type": "execute_result"
    }
   ],
   "source": [
    "# vectorized - 4\n",
    "(((data - centroids[0])**2).sum(axis=1)**0.5).shape\n"
   ]
  },
  {
   "cell_type": "code",
   "execution_count": 67,
   "metadata": {},
   "outputs": [],
   "source": [
    "def euclidean(x, centroids):\n",
    "    dist = np.array([]).reshape(len(x),0)\n",
    "    for centroid in centroids:\n",
    "        distance = (((data - centroid)**2).sum(axis=1)**0.5).reshape(-1,1)\n",
    "        dist = np.hstack([dist, distance])    \n",
    "    return dist"
   ]
  },
  {
   "cell_type": "code",
   "execution_count": 68,
   "metadata": {},
   "outputs": [
    {
     "name": "stdout",
     "output_type": "stream",
     "text": [
      "[[1.67559255 1.01667975 5.38573975 4.47033555]\n",
      " [2.66100405 2.54454968 4.22695238 3.08956307]\n",
      " [5.0632915  4.45279564 7.8506932  6.71404231]\n",
      " ...\n",
      " [3.35882005 3.21196988 4.54248948 3.37222247]\n",
      " [1.20957054 0.96726428 4.41473749 3.49130495]\n",
      " [3.98956968 3.81425832 4.94413838 3.77060978]]\n"
     ]
    }
   ],
   "source": [
    "d = euclidean(data, centroids)\n",
    "print(d)"
   ]
  },
  {
   "cell_type": "code",
   "execution_count": 69,
   "metadata": {},
   "outputs": [
    {
     "name": "stdout",
     "output_type": "stream",
     "text": [
      "(2000, 4)\n"
     ]
    }
   ],
   "source": [
    "print(d.shape)"
   ]
  },
  {
   "cell_type": "code",
   "execution_count": 70,
   "metadata": {},
   "outputs": [
    {
     "data": {
      "text/plain": [
       "array([1, 1, 1, ..., 1, 1, 3], dtype=int64)"
      ]
     },
     "execution_count": 70,
     "metadata": {},
     "output_type": "execute_result"
    }
   ],
   "source": [
    "assigned_c = d.argmin(axis=1)\n",
    "assigned_c"
   ]
  },
  {
   "cell_type": "code",
   "execution_count": 71,
   "metadata": {},
   "outputs": [
    {
     "data": {
      "text/plain": [
       "1    1171\n",
       "3     392\n",
       "2     336\n",
       "0     101\n",
       "Name: count, dtype: int64"
      ]
     },
     "execution_count": 71,
     "metadata": {},
     "output_type": "execute_result"
    }
   ],
   "source": [
    "pd.Series(assigned_c).value_counts()\n"
   ]
  },
  {
   "cell_type": "code",
   "execution_count": 72,
   "metadata": {},
   "outputs": [
    {
     "data": {
      "text/plain": [
       "array([-1.72918598,  3.5715256 ])"
      ]
     },
     "execution_count": 72,
     "metadata": {},
     "output_type": "execute_result"
    }
   ],
   "source": [
    "data[assigned_c==0].mean(axis=0)"
   ]
  },
  {
   "cell_type": "code",
   "execution_count": 73,
   "metadata": {},
   "outputs": [
    {
     "data": {
      "text/plain": [
       "array([0.55976203, 2.23307641])"
      ]
     },
     "execution_count": 73,
     "metadata": {},
     "output_type": "execute_result"
    }
   ],
   "source": [
    "data[assigned_c==1].mean(axis=0)"
   ]
  },
  {
   "cell_type": "code",
   "execution_count": 74,
   "metadata": {},
   "outputs": [],
   "source": [
    "data_size = 1000\n",
    "num_iters = 15\n",
    "num_clusters = 4\n"
   ]
  },
  {
   "cell_type": "code",
   "execution_count": 75,
   "metadata": {},
   "outputs": [],
   "source": [
    "def calculate_wcss(data,centroids,assigned_centroids):\n",
    "    wcss = 0 \n",
    "    for c in range(len(centroids)):\n",
    "      wcss += np.sum((data[assigned_centroids==c]- centroids[c])**2)\n",
    "    print(\"Check_the_shape_of_data \",centroids.shape,wcss)\n",
    "    return wcss\n",
    "\n",
    "def get_closest_centroid(x, centroids):\n",
    "    \n",
    "    # Loop over each centroid and compute the distance from data point.\n",
    "    dist = euclidean(x, centroids)\n",
    "\n",
    "    # Get the index of the centroid with the smallest distance to the data point\n",
    "    closest_centroid_index =  np.argmin(dist, axis = 1)\n",
    "    \n",
    "    return closest_centroid_index\n",
    "\n",
    "def update_centroid(data,assigned_centroids, centroids):\n",
    "\n",
    "    # Loop over centroids and compute the new ones.\n",
    "    for c in range(len(centroids)):\n",
    "        # Get all the data points belonging to a particular cluster\n",
    "        cluster_data = data[assigned_centroids == c]\n",
    "        # Compute the average of cluster members to compute new centroid\n",
    "        new_centroid = cluster_data.mean(axis = 0)\n",
    "        # assign the new centroidq\n",
    "        centroids[c] = new_centroid \n",
    "    return centroids"
   ]
  },
  {
   "cell_type": "code",
   "execution_count": 76,
   "metadata": {},
   "outputs": [],
   "source": [
    "\n",
    "def k_means_algo(num_of_cluster):\n",
    "\n",
    "  # Initialise centroids\n",
    "  centroids = data[np.random.choice(range(data.shape[0]), size = (num_of_cluster, ))]\n",
    "  # Create a list to store which centroid is assigned to each dataset\n",
    "  assigned_centroids = np.zeros(len(data), dtype = np.int32)\n",
    "  # Loop over iterations\n",
    "  for n in range(num_iters):  \n",
    "    # Get the closest centroid\n",
    "    closest_centroid = get_closest_centroid(data, centroids)\n",
    "    # Assign the centroid to the data point.\n",
    "    assigned_centroids = closest_centroid\n",
    "    centroids = update_centroid(data,assigned_centroids, centroids)\n",
    "  wcss = calculate_wcss(data=data,centroids=centroids,assigned_centroids=assigned_centroids)\n",
    "  return wcss\n",
    "\n",
    "    \n"
   ]
  },
  {
   "cell_type": "code",
   "execution_count": null,
   "metadata": {},
   "outputs": [],
   "source": []
  },
  {
   "cell_type": "code",
   "execution_count": 81,
   "metadata": {},
   "outputs": [
    {
     "name": "stdout",
     "output_type": "stream",
     "text": [
      "Check_the_shape_of_data  (1, 2) 18421.051404351798\n",
      "Check_the_shape_of_data  (2, 2) 7315.947400368651\n",
      "Check_the_shape_of_data  (3, 2) 3000.388797353955\n",
      "Check_the_shape_of_data  (4, 2) 961.3663549726266\n",
      "Check_the_shape_of_data  (5, 2) 870.8974799892359\n",
      "Check_the_shape_of_data  (6, 2) 808.8597592506269\n",
      "Check_the_shape_of_data  (7, 2) 730.8969109636384\n",
      "Check_the_shape_of_data  (8, 2) 682.4662386004873\n",
      "Check_the_shape_of_data  (9, 2) 772.9073331415941\n"
     ]
    },
    {
     "data": {
      "text/plain": [
       "Text(0.5, 0, 'No of clusters')"
      ]
     },
     "execution_count": 81,
     "metadata": {},
     "output_type": "execute_result"
    },
    {
     "data": {
      "image/png": "[encoded data removed]",
      "text/plain": [
       "<Figure size 640x480 with 1 Axes>"
      ]
     },
     "metadata": {},
     "output_type": "display_data"
    }
   ],
   "source": [
    "lis_wcss = [] \n",
    "for i in range(1,10):    \n",
    "   lis_wcss.append(k_means_algo(num_of_cluster=i))\n",
    "plt.plot(list(range(1,10)),lis_wcss,)\n",
    "plt.ylabel(\"WCSS\")\n",
    "plt.xlabel(\"No of clusters\")\n"
   ]
  }
 ],
 "metadata": {
  "kernelspec": {
   "display_name": "python3_8",
   "language": "python",
   "name": "python3"
  },
  "language_info": {
   "codemirror_mode": {
    "name": "ipython",
    "version": 3
   },
   "file_extension": ".py",
   "mimetype": "text/x-python",
   "name": "python",
   "nbconvert_exporter": "python",
   "pygments_lexer": "ipython3",
   "version": "3.8.16"
  },
  "orig_nbformat": 4
 },
 "nbformat": 4,
 "nbformat_minor": 2
}
