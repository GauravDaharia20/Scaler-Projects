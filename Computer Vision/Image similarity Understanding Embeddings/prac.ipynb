{
 "cells": [
  {
   "cell_type": "code",
   "execution_count": 15,
   "metadata": {},
   "outputs": [],
   "source": [
    "import numpy as np\n",
    "from numpy.linalg import norm\n",
    "import pickle\n",
    "from tqdm import tqdm, tqdm_notebook\n",
    "import os\n",
    "import random\n",
    "import time\n",
    "import math\n",
    "import tensorflow as tf\n",
    "import numpy as np\n",
    "from sklearn.manifold import TSNE\n",
    "from sklearn.decomposition import PCA\n",
    "import PIL\n",
    "from PIL import Image\n",
    "from sklearn.neighbors import NearestNeighbors\n",
    "from tensorflow.keras.preprocessing.image import ImageDataGenerator\n",
    "from tensorflow.keras.preprocessing import image\n",
    "from tensorflow.keras.applications.resnet50 import ResNet50, preprocess_input\n",
    "import glob\n",
    "import matplotlib\n",
    "import matplotlib.pyplot as plt\n",
    "import matplotlib.image as mpimg\n",
    "%matplotlib inline\n"
   ]
  },
  {
   "cell_type": "code",
   "execution_count": 16,
   "metadata": {},
   "outputs": [
    {
     "name": "stdout",
     "output_type": "stream",
     "text": [
      "['accordion', 'airplanes', 'anchor', 'ant', 'BACKGROUND_Google', 'barrel', 'bass', 'beaver', 'binocular', 'bonsai', 'brain', 'brontosaurus', 'buddha', 'butterfly', 'camera', 'cannon', 'car_side', 'ceiling_fan', 'cellphone', 'chair', 'chandelier', 'cougar_body', 'cougar_face', 'crab', 'crayfish', 'crocodile', 'crocodile_head', 'cup', 'dalmatian', 'dollar_bill', 'dolphin', 'dragonfly', 'electric_guitar', 'elephant', 'emu', 'euphonium', 'ewer', 'Faces', 'Faces_easy', 'ferry', 'flamingo', 'flamingo_head', 'garfield', 'gerenuk', 'gramophone', 'grand_piano', 'hawksbill', 'headphone', 'hedgehog', 'helicopter', 'ibis', 'inline_skate', 'joshua_tree', 'kangaroo', 'ketch', 'lamp', 'laptop', 'Leopards', 'llama', 'lobster', 'lotus', 'mandolin', 'mayfly', 'menorah', 'metronome', 'minaret', 'Motorbikes', 'nautilus', 'octopus', 'okapi', 'pagoda', 'panda', 'pigeon', 'pizza', 'platypus', 'pyramid', 'revolver', 'rhino', 'rooster', 'saxophone', 'schooner', 'scissors', 'scorpion', 'sea_horse', 'snoopy', 'soccer_ball', 'stapler', 'starfish', 'stegosaurus', 'stop_sign', 'strawberry', 'sunflower', 'tick', 'trilobite', 'umbrella', 'watch', 'water_lilly', 'wheelchair', 'wild_cat', 'windsor_chair', 'wrench', 'yin_yang']\n"
     ]
    }
   ],
   "source": [
    "path = \"C:\\\\Users\\\\gaura\\\\Documents\\\\GitHub\\\\Scaler-Projects\\\\Computer Vision\\\\Image similarity Understanding Embeddings\\\\101_ObjectCategories\\\\101_ObjectCategories\"\n",
    "dir_list = os.listdir(path)\n",
    "print(dir_list)\n"
   ]
  },
  {
   "cell_type": "code",
   "execution_count": 21,
   "metadata": {},
   "outputs": [
    {
     "name": "stdout",
     "output_type": "stream",
     "text": [
      "{'accordion': 55, 'airplanes': 800, 'anchor': 42, 'ant': 42, 'BACKGROUND_Google': 468, 'barrel': 47, 'bass': 54, 'beaver': 46, 'binocular': 33, 'bonsai': 128, 'brain': 98, 'brontosaurus': 43, 'buddha': 85, 'butterfly': 91, 'camera': 50, 'cannon': 43, 'car_side': 123, 'ceiling_fan': 47, 'cellphone': 59, 'chair': 62, 'chandelier': 107, 'cougar_body': 47, 'cougar_face': 69, 'crab': 73, 'crayfish': 70, 'crocodile': 50, 'crocodile_head': 51, 'cup': 57, 'dalmatian': 67, 'dollar_bill': 52, 'dolphin': 65, 'dragonfly': 68, 'electric_guitar': 75, 'elephant': 64, 'emu': 53, 'euphonium': 64, 'ewer': 85, 'Faces': 435, 'Faces_easy': 435, 'ferry': 67, 'flamingo': 67, 'flamingo_head': 45, 'garfield': 34, 'gerenuk': 34, 'gramophone': 51, 'grand_piano': 99, 'hawksbill': 100, 'headphone': 42, 'hedgehog': 54, 'helicopter': 88, 'ibis': 80, 'inline_skate': 31, 'joshua_tree': 64, 'kangaroo': 86, 'ketch': 114, 'lamp': 61, 'laptop': 81, 'Leopards': 200, 'llama': 78, 'lobster': 41, 'lotus': 66, 'mandolin': 43, 'mayfly': 40, 'menorah': 87, 'metronome': 32, 'minaret': 76, 'Motorbikes': 798, 'nautilus': 55, 'octopus': 35, 'okapi': 39, 'pagoda': 47, 'panda': 38, 'pigeon': 45, 'pizza': 53, 'platypus': 34, 'pyramid': 57, 'revolver': 82, 'rhino': 59, 'rooster': 49, 'saxophone': 40, 'schooner': 63, 'scissors': 39, 'scorpion': 84, 'sea_horse': 57, 'snoopy': 35, 'soccer_ball': 64, 'stapler': 45, 'starfish': 86, 'stegosaurus': 59, 'stop_sign': 64, 'strawberry': 35, 'sunflower': 85, 'tick': 49, 'trilobite': 86, 'umbrella': 75, 'watch': 239, 'water_lilly': 37, 'wheelchair': 59, 'wild_cat': 34, 'windsor_chair': 56, 'wrench': 39, 'yin_yang': 60}\n"
     ]
    }
   ],
   "source": [
    "image_dir = {}\n",
    "for val in dir_list:\n",
    "    img_path = os.path.join(path,val)\n",
    "    images = os.listdir(img_path)\n",
    "    image_dir[val] = len(images)"
   ]
  },
  {
   "cell_type": "code",
   "execution_count": 22,
   "metadata": {},
   "outputs": [
    {
     "data": {
      "text/plain": [
       "{'accordion': 55,\n",
       " 'airplanes': 800,\n",
       " 'anchor': 42,\n",
       " 'ant': 42,\n",
       " 'BACKGROUND_Google': 468,\n",
       " 'barrel': 47,\n",
       " 'bass': 54,\n",
       " 'beaver': 46,\n",
       " 'binocular': 33,\n",
       " 'bonsai': 128,\n",
       " 'brain': 98,\n",
       " 'brontosaurus': 43,\n",
       " 'buddha': 85,\n",
       " 'butterfly': 91,\n",
       " 'camera': 50,\n",
       " 'cannon': 43,\n",
       " 'car_side': 123,\n",
       " 'ceiling_fan': 47,\n",
       " 'cellphone': 59,\n",
       " 'chair': 62,\n",
       " 'chandelier': 107,\n",
       " 'cougar_body': 47,\n",
       " 'cougar_face': 69,\n",
       " 'crab': 73,\n",
       " 'crayfish': 70,\n",
       " 'crocodile': 50,\n",
       " 'crocodile_head': 51,\n",
       " 'cup': 57,\n",
       " 'dalmatian': 67,\n",
       " 'dollar_bill': 52,\n",
       " 'dolphin': 65,\n",
       " 'dragonfly': 68,\n",
       " 'electric_guitar': 75,\n",
       " 'elephant': 64,\n",
       " 'emu': 53,\n",
       " 'euphonium': 64,\n",
       " 'ewer': 85,\n",
       " 'Faces': 435,\n",
       " 'Faces_easy': 435,\n",
       " 'ferry': 67,\n",
       " 'flamingo': 67,\n",
       " 'flamingo_head': 45,\n",
       " 'garfield': 34,\n",
       " 'gerenuk': 34,\n",
       " 'gramophone': 51,\n",
       " 'grand_piano': 99,\n",
       " 'hawksbill': 100,\n",
       " 'headphone': 42,\n",
       " 'hedgehog': 54,\n",
       " 'helicopter': 88,\n",
       " 'ibis': 80,\n",
       " 'inline_skate': 31,\n",
       " 'joshua_tree': 64,\n",
       " 'kangaroo': 86,\n",
       " 'ketch': 114,\n",
       " 'lamp': 61,\n",
       " 'laptop': 81,\n",
       " 'Leopards': 200,\n",
       " 'llama': 78,\n",
       " 'lobster': 41,\n",
       " 'lotus': 66,\n",
       " 'mandolin': 43,\n",
       " 'mayfly': 40,\n",
       " 'menorah': 87,\n",
       " 'metronome': 32,\n",
       " 'minaret': 76,\n",
       " 'Motorbikes': 798,\n",
       " 'nautilus': 55,\n",
       " 'octopus': 35,\n",
       " 'okapi': 39,\n",
       " 'pagoda': 47,\n",
       " 'panda': 38,\n",
       " 'pigeon': 45,\n",
       " 'pizza': 53,\n",
       " 'platypus': 34,\n",
       " 'pyramid': 57,\n",
       " 'revolver': 82,\n",
       " 'rhino': 59,\n",
       " 'rooster': 49,\n",
       " 'saxophone': 40,\n",
       " 'schooner': 63,\n",
       " 'scissors': 39,\n",
       " 'scorpion': 84,\n",
       " 'sea_horse': 57,\n",
       " 'snoopy': 35,\n",
       " 'soccer_ball': 64,\n",
       " 'stapler': 45,\n",
       " 'starfish': 86,\n",
       " 'stegosaurus': 59,\n",
       " 'stop_sign': 64,\n",
       " 'strawberry': 35,\n",
       " 'sunflower': 85,\n",
       " 'tick': 49,\n",
       " 'trilobite': 86,\n",
       " 'umbrella': 75,\n",
       " 'watch': 239,\n",
       " 'water_lilly': 37,\n",
       " 'wheelchair': 59,\n",
       " 'wild_cat': 34,\n",
       " 'windsor_chair': 56,\n",
       " 'wrench': 39,\n",
       " 'yin_yang': 60}"
      ]
     },
     "execution_count": 22,
     "metadata": {},
     "output_type": "execute_result"
    }
   ],
   "source": [
    "image_dir"
   ]
  },
  {
   "cell_type": "code",
   "execution_count": null,
   "metadata": {},
   "outputs": [],
   "source": []
  }
 ],
 "metadata": {
  "kernelspec": {
   "display_name": "tf_gpu",
   "language": "python",
   "name": "python3"
  },
  "language_info": {
   "codemirror_mode": {
    "name": "ipython",
    "version": 3
   },
   "file_extension": ".py",
   "mimetype": "text/x-python",
   "name": "python",
   "nbconvert_exporter": "python",
   "pygments_lexer": "ipython3",
   "version": "3.10.14"
  }
 },
 "nbformat": 4,
 "nbformat_minor": 2
}
