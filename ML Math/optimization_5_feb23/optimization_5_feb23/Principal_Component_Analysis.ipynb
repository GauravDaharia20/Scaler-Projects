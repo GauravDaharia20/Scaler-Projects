{
 "cells": [
  {
   "cell_type": "code",
   "execution_count": 1,
   "metadata": {
    "id": "jS4FZnZubSA0"
   },
   "outputs": [],
   "source": [
    "import numpy as np\n",
    "from matplotlib import pyplot as plt"
   ]
  },
  {
   "cell_type": "code",
   "execution_count": 2,
   "metadata": {
    "id": "PEOgA8Zvbjho"
   },
   "outputs": [
    {
     "data": {
      "image/png": "[encoded data removed]",
      "text/plain": [
       "<Figure size 432x288 with 1 Axes>"
      ]
     },
     "metadata": {
      "needs_background": "light"
     },
     "output_type": "display_data"
    }
   ],
   "source": [
    "## Create and visualize the data - 2D, roughly linear\n",
    "\n",
    "# Set the slope parameter and y-intercept for the line\n",
    "m =  0.8\n",
    "c = -0.5\n",
    "\n",
    "# Create a line\n",
    "x = np.linspace(0., 2., 100)\n",
    "y = m * x + c\n",
    "\n",
    "# sample some points and add noise\n",
    "num_samples = 20\n",
    "samples = np.random.permutation(100)[:num_samples]\n",
    "\n",
    "# noise_factor here controls the spread\n",
    "noise_factor = 0.05\n",
    "ex = np.random.randn(num_samples) * noise_factor\n",
    "ey = np.random.randn(num_samples) * noise_factor\n",
    "\n",
    "# Create the actual dataset\n",
    "x_data = x[samples] + ex\n",
    "y_data = y[samples] + ey\n",
    "\n",
    "# Create the data matrix with the datapoints as rows\n",
    "X = np.zeros((num_samples, 2))\n",
    "X[:, 0] = x_data\n",
    "X[:, 1] = y_data\n",
    "\n",
    "plt.figure()\n",
    "plt.plot(x, y)\n",
    "plt.scatter(x_data, y_data, color='red')\n",
    "plt.show()"
   ]
  },
  {
   "cell_type": "code",
   "execution_count": 3,
   "metadata": {
    "id": "Xn4YXGDW_Z83"
   },
   "outputs": [
    {
     "name": "stdout",
     "output_type": "stream",
     "text": [
      "[39.87799837  0.12200163]\n"
     ]
    },
    {
     "data": {
      "image/png": "[encoded data removed]",
      "text/plain": [
       "<Figure size 432x288 with 1 Axes>"
      ]
     },
     "metadata": {
      "needs_background": "light"
     },
     "output_type": "display_data"
    }
   ],
   "source": [
    "## Implement PCA!!\n",
    "# Step 1: Column standardization\n",
    "mean_x = np.mean(x_data)\n",
    "mean_y = np.mean(y_data)\n",
    "\n",
    "std_x = np.std(x_data)\n",
    "std_y = np.std(y_data)\n",
    "\n",
    "x_data_cs = (x_data - mean_x) / std_x\n",
    "y_data_cs = (y_data - mean_y) / std_y\n",
    "\n",
    "X_st = np.zeros((num_samples, 2))\n",
    "X_st[:, 0] = x_data_cs\n",
    "X_st[:, 1] = y_data_cs\n",
    "\n",
    "# Step 2: Eigenvalue decomposition\n",
    "cov_X_st = np.matmul(X_st.T, X_st)\n",
    "eigenvalues, eigenvectors = np.linalg.eig(cov_X_st)\n",
    "\n",
    "print(eigenvalues)\n",
    "\n",
    "# Step 3: Reduce the dimension! Choose the eigenvector corresponding to the largest eigenvalue\n",
    "max_idx = np.argmax(eigenvalues)\n",
    "X_prime = eigenvectors[:, max_idx].dot(X_st.T)\n",
    "X_prime_reduced = X_prime\n",
    "\n",
    "# Step 4: Visualize\n",
    "plt.figure()\n",
    "plt.scatter(X_prime_reduced, np.zeros((num_samples,)))\n",
    "plt.show()"
   ]
  },
  {
   "cell_type": "code",
   "execution_count": 4,
   "metadata": {
    "id": "8wqYaqIlBR_6"
   },
   "outputs": [
    {
     "data": {
      "image/png": "[encoded data removed]",
      "text/plain": [
       "<Figure size 432x288 with 1 Axes>"
      ]
     },
     "metadata": {
      "needs_background": "light"
     },
     "output_type": "display_data"
    }
   ],
   "source": [
    "from sklearn import decomposition\n",
    "from sklearn import datasets\n",
    "\n",
    "pca = decomposition.PCA(n_components=2)\n",
    "\n",
    "X_p = pca.fit_transform(X_st)\n",
    "\n",
    "plt.figure()\n",
    "plt.scatter(X_p[:, 0], np.zeros((num_samples,)))\n",
    "plt.show()"
   ]
  },
  {
   "cell_type": "code",
   "execution_count": null,
   "metadata": {
    "id": "GbBzDsgqM3s9"
   },
   "outputs": [],
   "source": []
  }
 ],
 "metadata": {
  "colab": {
   "collapsed_sections": [],
   "name": "Principal Component Analysis.ipynb",
   "provenance": []
  },
  "kernelspec": {
   "display_name": "Python 3 (ipykernel)",
   "language": "python",
   "name": "python3"
  },
  "language_info": {
   "codemirror_mode": {
    "name": "ipython",
    "version": 3
   },
   "file_extension": ".py",
   "mimetype": "text/x-python",
   "name": "python",
   "nbconvert_exporter": "python",
   "pygments_lexer": "ipython3",
   "version": "3.9.12"
  }
 },
 "nbformat": 4,
 "nbformat_minor": 1
}
