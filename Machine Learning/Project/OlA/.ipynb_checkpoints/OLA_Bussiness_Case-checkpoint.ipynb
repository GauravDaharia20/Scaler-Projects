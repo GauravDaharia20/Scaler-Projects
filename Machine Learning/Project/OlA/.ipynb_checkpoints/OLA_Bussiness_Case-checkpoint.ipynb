{
 "cells": [
  {
   "cell_type": "code",
   "execution_count": 1,
   "id": "26d073a9",
   "metadata": {},
   "outputs": [],
   "source": [
    "import pandas as pd\n",
    "import numpy as np\n",
    "import seaborn as sns\n",
    "import matplotlib.pyplot as plt\n",
    "pd.set_option('display.max_columns',None)\n",
    "pd.set_option('display.max_rows',None)"
   ]
  },
  {
   "cell_type": "code",
   "execution_count": 2,
   "id": "2b4fee3a",
   "metadata": {},
   "outputs": [],
   "source": [
    "data=pd.read_csv('ola_data.csv')"
   ]
  },
  {
   "cell_type": "code",
   "execution_count": 3,
   "id": "f432d3f2",
   "metadata": {},
   "outputs": [],
   "source": [
    "data.drop('Unnamed: 0',axis=1,inplace=True)"
   ]
  },
  {
   "cell_type": "markdown",
   "id": "06b1620e",
   "metadata": {},
   "source": [
    "1. MMMM-YY : Reporting Date (Monthly)\n",
    "\n",
    "2. Driver_ID : Unique id for drivers\n",
    "\n",
    "3. Age : Age of the driver\n",
    "\n",
    "4. Gender : Gender of the driver – Male : 0, Female: 1\n",
    "\n",
    "5. City : City Code of the driver\n",
    "\n",
    "6. Education_Level : Education level – 0 for 10+ ,1 for 12+ ,2 for graduate\n",
    "\n",
    "7. Income : Monthly average Income of the driver\n",
    "\n",
    "8. Date Of Joining : Joining date for the driver\n",
    "\n",
    "9. LastWorkingDate : Last date of working for the driver\n",
    "\n",
    "10. Joining Designation : Designation of the driver at the time of joining\n",
    "\n",
    "11. Grade : Grade of the driver at the time of reporting\n",
    "\n",
    "12. Total Business Value : The total business value acquired by the driver in a month (negative business indicates cancellation/refund or car EMI adjustments)\n",
    "\n",
    "13. Quarterly Rating : Quarterly rating of the driver: 1,2,3,4,5 (higher is better)"
   ]
  },
  {
   "cell_type": "code",
   "execution_count": 79,
   "id": "20fb6426",
   "metadata": {},
   "outputs": [
    {
     "data": {
      "text/html": [
       "<div>\n",
       "<style scoped>\n",
       "    .dataframe tbody tr th:only-of-type {\n",
       "        vertical-align: middle;\n",
       "    }\n",
       "\n",
       "    .dataframe tbody tr th {\n",
       "        vertical-align: top;\n",
       "    }\n",
       "\n",
       "    .dataframe thead th {\n",
       "        text-align: right;\n",
       "    }\n",
       "</style>\n",
       "<table border=\"1\" class=\"dataframe\">\n",
       "  <thead>\n",
       "    <tr style=\"text-align: right;\">\n",
       "      <th></th>\n",
       "      <th>MMM-YY</th>\n",
       "      <th>Driver_ID</th>\n",
       "      <th>Age</th>\n",
       "      <th>Gender</th>\n",
       "      <th>City</th>\n",
       "      <th>Education_Level</th>\n",
       "      <th>Income</th>\n",
       "      <th>Dateofjoining</th>\n",
       "      <th>LastWorkingDate</th>\n",
       "      <th>Joining Designation</th>\n",
       "      <th>Grade</th>\n",
       "      <th>Total Business Value</th>\n",
       "      <th>Quarterly Rating</th>\n",
       "    </tr>\n",
       "  </thead>\n",
       "  <tbody>\n",
       "    <tr>\n",
       "      <th>0</th>\n",
       "      <td>01/01/19</td>\n",
       "      <td>1</td>\n",
       "      <td>28.0</td>\n",
       "      <td>0.0</td>\n",
       "      <td>C23</td>\n",
       "      <td>2</td>\n",
       "      <td>57387</td>\n",
       "      <td>24/12/18</td>\n",
       "      <td>NaN</td>\n",
       "      <td>1</td>\n",
       "      <td>1</td>\n",
       "      <td>2381060</td>\n",
       "      <td>2</td>\n",
       "    </tr>\n",
       "    <tr>\n",
       "      <th>1</th>\n",
       "      <td>02/01/19</td>\n",
       "      <td>1</td>\n",
       "      <td>28.0</td>\n",
       "      <td>0.0</td>\n",
       "      <td>C23</td>\n",
       "      <td>2</td>\n",
       "      <td>57387</td>\n",
       "      <td>24/12/18</td>\n",
       "      <td>NaN</td>\n",
       "      <td>1</td>\n",
       "      <td>1</td>\n",
       "      <td>-665480</td>\n",
       "      <td>2</td>\n",
       "    </tr>\n",
       "    <tr>\n",
       "      <th>2</th>\n",
       "      <td>03/01/19</td>\n",
       "      <td>1</td>\n",
       "      <td>28.0</td>\n",
       "      <td>0.0</td>\n",
       "      <td>C23</td>\n",
       "      <td>2</td>\n",
       "      <td>57387</td>\n",
       "      <td>24/12/18</td>\n",
       "      <td>03/11/19</td>\n",
       "      <td>1</td>\n",
       "      <td>1</td>\n",
       "      <td>0</td>\n",
       "      <td>2</td>\n",
       "    </tr>\n",
       "    <tr>\n",
       "      <th>3</th>\n",
       "      <td>11/01/20</td>\n",
       "      <td>2</td>\n",
       "      <td>31.0</td>\n",
       "      <td>0.0</td>\n",
       "      <td>C7</td>\n",
       "      <td>2</td>\n",
       "      <td>67016</td>\n",
       "      <td>11/06/20</td>\n",
       "      <td>NaN</td>\n",
       "      <td>2</td>\n",
       "      <td>2</td>\n",
       "      <td>0</td>\n",
       "      <td>1</td>\n",
       "    </tr>\n",
       "    <tr>\n",
       "      <th>4</th>\n",
       "      <td>12/01/20</td>\n",
       "      <td>2</td>\n",
       "      <td>31.0</td>\n",
       "      <td>0.0</td>\n",
       "      <td>C7</td>\n",
       "      <td>2</td>\n",
       "      <td>67016</td>\n",
       "      <td>11/06/20</td>\n",
       "      <td>NaN</td>\n",
       "      <td>2</td>\n",
       "      <td>2</td>\n",
       "      <td>0</td>\n",
       "      <td>1</td>\n",
       "    </tr>\n",
       "  </tbody>\n",
       "</table>\n",
       "</div>"
      ],
      "text/plain": [
       "     MMM-YY  Driver_ID   Age  Gender City  Education_Level  Income  \\\n",
       "0  01/01/19          1  28.0     0.0  C23                2   57387   \n",
       "1  02/01/19          1  28.0     0.0  C23                2   57387   \n",
       "2  03/01/19          1  28.0     0.0  C23                2   57387   \n",
       "3  11/01/20          2  31.0     0.0   C7                2   67016   \n",
       "4  12/01/20          2  31.0     0.0   C7                2   67016   \n",
       "\n",
       "  Dateofjoining LastWorkingDate  Joining Designation  Grade  \\\n",
       "0      24/12/18             NaN                    1      1   \n",
       "1      24/12/18             NaN                    1      1   \n",
       "2      24/12/18        03/11/19                    1      1   \n",
       "3      11/06/20             NaN                    2      2   \n",
       "4      11/06/20             NaN                    2      2   \n",
       "\n",
       "   Total Business Value  Quarterly Rating  \n",
       "0               2381060                 2  \n",
       "1               -665480                 2  \n",
       "2                     0                 2  \n",
       "3                     0                 1  \n",
       "4                     0                 1  "
      ]
     },
     "execution_count": 79,
     "metadata": {},
     "output_type": "execute_result"
    }
   ],
   "source": [
    "data.head()"
   ]
  },
  {
   "cell_type": "code",
   "execution_count": 5,
   "id": "a1fa4a47",
   "metadata": {},
   "outputs": [
    {
     "data": {
      "text/plain": [
       "MMM-YY                      0\n",
       "Driver_ID                   0\n",
       "Age                        61\n",
       "Gender                     52\n",
       "City                        0\n",
       "Education_Level             0\n",
       "Income                      0\n",
       "Dateofjoining               0\n",
       "LastWorkingDate         17488\n",
       "Joining Designation         0\n",
       "Grade                       0\n",
       "Total Business Value        0\n",
       "Quarterly Rating            0\n",
       "dtype: int64"
      ]
     },
     "execution_count": 5,
     "metadata": {},
     "output_type": "execute_result"
    }
   ],
   "source": [
    "data.isna().sum()"
   ]
  },
  {
   "cell_type": "code",
   "execution_count": 6,
   "id": "a9b978c6",
   "metadata": {},
   "outputs": [],
   "source": [
    "new_df = data.groupby('Driver_ID').agg(\n",
    "{'MMM-YY':'last',\n",
    " 'Age':'last',\n",
    " 'Gender':'last',\n",
    " 'City':'last',\n",
    " 'Education_Level':'last',\n",
    " 'Income':'last',\n",
    " 'Dateofjoining':'last',\n",
    " 'LastWorkingDate':'last',\n",
    " 'Joining Designation':'last',\n",
    " 'Grade':'last',\n",
    " 'Total Business Value':'sum',\n",
    " 'Quarterly Rating':'last'\n",
    "}\n",
    ").reset_index()"
   ]
  },
  {
   "cell_type": "code",
   "execution_count": 7,
   "id": "8b27a63d",
   "metadata": {},
   "outputs": [],
   "source": [
    "target_label=[0 if(lwd==None)else 1 for lwd in new_df['LastWorkingDate']]\n",
    "new_df['target_label'] = target_label"
   ]
  },
  {
   "cell_type": "code",
   "execution_count": 8,
   "id": "f586098d",
   "metadata": {},
   "outputs": [],
   "source": [
    "new_df = pd.DataFrame(new_df)"
   ]
  },
  {
   "cell_type": "code",
   "execution_count": 9,
   "id": "0d0ea3c4",
   "metadata": {},
   "outputs": [],
   "source": [
    "#new_df.to_csv('cleaned_ola_data.csv',index=False)"
   ]
  },
  {
   "cell_type": "code",
   "execution_count": 10,
   "id": "eb4f02ed",
   "metadata": {},
   "outputs": [],
   "source": [
    "new_df.rename(columns={'MMM-YY':'Reporting Date'},inplace=True)"
   ]
  },
  {
   "cell_type": "code",
   "execution_count": 11,
   "id": "2fc018b1",
   "metadata": {},
   "outputs": [
    {
     "data": {
      "text/html": [
       "<div>\n",
       "<style scoped>\n",
       "    .dataframe tbody tr th:only-of-type {\n",
       "        vertical-align: middle;\n",
       "    }\n",
       "\n",
       "    .dataframe tbody tr th {\n",
       "        vertical-align: top;\n",
       "    }\n",
       "\n",
       "    .dataframe thead th {\n",
       "        text-align: right;\n",
       "    }\n",
       "</style>\n",
       "<table border=\"1\" class=\"dataframe\">\n",
       "  <thead>\n",
       "    <tr style=\"text-align: right;\">\n",
       "      <th></th>\n",
       "      <th>Driver_ID</th>\n",
       "      <th>Reporting Date</th>\n",
       "      <th>Age</th>\n",
       "      <th>Gender</th>\n",
       "      <th>City</th>\n",
       "      <th>Education_Level</th>\n",
       "      <th>Income</th>\n",
       "      <th>Dateofjoining</th>\n",
       "      <th>LastWorkingDate</th>\n",
       "      <th>Joining Designation</th>\n",
       "      <th>Grade</th>\n",
       "      <th>Total Business Value</th>\n",
       "      <th>Quarterly Rating</th>\n",
       "      <th>target_label</th>\n",
       "    </tr>\n",
       "  </thead>\n",
       "  <tbody>\n",
       "    <tr>\n",
       "      <th>0</th>\n",
       "      <td>1</td>\n",
       "      <td>03/01/19</td>\n",
       "      <td>28.0</td>\n",
       "      <td>0.0</td>\n",
       "      <td>C23</td>\n",
       "      <td>2</td>\n",
       "      <td>57387</td>\n",
       "      <td>24/12/18</td>\n",
       "      <td>03/11/19</td>\n",
       "      <td>1</td>\n",
       "      <td>1</td>\n",
       "      <td>1715580</td>\n",
       "      <td>2</td>\n",
       "      <td>1</td>\n",
       "    </tr>\n",
       "    <tr>\n",
       "      <th>1</th>\n",
       "      <td>2</td>\n",
       "      <td>12/01/20</td>\n",
       "      <td>31.0</td>\n",
       "      <td>0.0</td>\n",
       "      <td>C7</td>\n",
       "      <td>2</td>\n",
       "      <td>67016</td>\n",
       "      <td>11/06/20</td>\n",
       "      <td>None</td>\n",
       "      <td>2</td>\n",
       "      <td>2</td>\n",
       "      <td>0</td>\n",
       "      <td>1</td>\n",
       "      <td>0</td>\n",
       "    </tr>\n",
       "    <tr>\n",
       "      <th>2</th>\n",
       "      <td>4</td>\n",
       "      <td>04/01/20</td>\n",
       "      <td>43.0</td>\n",
       "      <td>0.0</td>\n",
       "      <td>C13</td>\n",
       "      <td>2</td>\n",
       "      <td>65603</td>\n",
       "      <td>12/07/19</td>\n",
       "      <td>27/04/20</td>\n",
       "      <td>2</td>\n",
       "      <td>2</td>\n",
       "      <td>350000</td>\n",
       "      <td>1</td>\n",
       "      <td>1</td>\n",
       "    </tr>\n",
       "    <tr>\n",
       "      <th>3</th>\n",
       "      <td>5</td>\n",
       "      <td>03/01/19</td>\n",
       "      <td>29.0</td>\n",
       "      <td>0.0</td>\n",
       "      <td>C9</td>\n",
       "      <td>0</td>\n",
       "      <td>46368</td>\n",
       "      <td>01/09/19</td>\n",
       "      <td>03/07/19</td>\n",
       "      <td>1</td>\n",
       "      <td>1</td>\n",
       "      <td>120360</td>\n",
       "      <td>1</td>\n",
       "      <td>1</td>\n",
       "    </tr>\n",
       "    <tr>\n",
       "      <th>4</th>\n",
       "      <td>6</td>\n",
       "      <td>12/01/20</td>\n",
       "      <td>31.0</td>\n",
       "      <td>1.0</td>\n",
       "      <td>C11</td>\n",
       "      <td>1</td>\n",
       "      <td>78728</td>\n",
       "      <td>31/07/20</td>\n",
       "      <td>None</td>\n",
       "      <td>3</td>\n",
       "      <td>3</td>\n",
       "      <td>1265000</td>\n",
       "      <td>2</td>\n",
       "      <td>0</td>\n",
       "    </tr>\n",
       "  </tbody>\n",
       "</table>\n",
       "</div>"
      ],
      "text/plain": [
       "   Driver_ID Reporting Date   Age  Gender City  Education_Level  Income  \\\n",
       "0          1       03/01/19  28.0     0.0  C23                2   57387   \n",
       "1          2       12/01/20  31.0     0.0   C7                2   67016   \n",
       "2          4       04/01/20  43.0     0.0  C13                2   65603   \n",
       "3          5       03/01/19  29.0     0.0   C9                0   46368   \n",
       "4          6       12/01/20  31.0     1.0  C11                1   78728   \n",
       "\n",
       "  Dateofjoining LastWorkingDate  Joining Designation  Grade  \\\n",
       "0      24/12/18        03/11/19                    1      1   \n",
       "1      11/06/20            None                    2      2   \n",
       "2      12/07/19        27/04/20                    2      2   \n",
       "3      01/09/19        03/07/19                    1      1   \n",
       "4      31/07/20            None                    3      3   \n",
       "\n",
       "   Total Business Value  Quarterly Rating  target_label  \n",
       "0               1715580                 2             1  \n",
       "1                     0                 1             0  \n",
       "2                350000                 1             1  \n",
       "3                120360                 1             1  \n",
       "4               1265000                 2             0  "
      ]
     },
     "execution_count": 11,
     "metadata": {},
     "output_type": "execute_result"
    }
   ],
   "source": [
    "new_df.head()"
   ]
  },
  {
   "cell_type": "code",
   "execution_count": 12,
   "id": "b4e445d9",
   "metadata": {},
   "outputs": [],
   "source": [
    "new_df['Reporting Date'] = pd.to_datetime(new_df['Reporting Date'])\n",
    "new_df['Dateofjoining'] = pd.to_datetime(new_df['Dateofjoining'])\n",
    "new_df['LastWorkingDate'] = pd.to_datetime(new_df['LastWorkingDate'])"
   ]
  },
  {
   "cell_type": "code",
   "execution_count": 13,
   "id": "c20194d3",
   "metadata": {},
   "outputs": [
    {
     "data": {
      "text/html": [
       "<div>\n",
       "<style scoped>\n",
       "    .dataframe tbody tr th:only-of-type {\n",
       "        vertical-align: middle;\n",
       "    }\n",
       "\n",
       "    .dataframe tbody tr th {\n",
       "        vertical-align: top;\n",
       "    }\n",
       "\n",
       "    .dataframe thead th {\n",
       "        text-align: right;\n",
       "    }\n",
       "</style>\n",
       "<table border=\"1\" class=\"dataframe\">\n",
       "  <thead>\n",
       "    <tr style=\"text-align: right;\">\n",
       "      <th></th>\n",
       "      <th>Driver_ID</th>\n",
       "      <th>Reporting Date</th>\n",
       "      <th>Age</th>\n",
       "      <th>Gender</th>\n",
       "      <th>City</th>\n",
       "      <th>Education_Level</th>\n",
       "      <th>Income</th>\n",
       "      <th>Dateofjoining</th>\n",
       "      <th>LastWorkingDate</th>\n",
       "      <th>Joining Designation</th>\n",
       "      <th>Grade</th>\n",
       "      <th>Total Business Value</th>\n",
       "      <th>Quarterly Rating</th>\n",
       "      <th>target_label</th>\n",
       "    </tr>\n",
       "  </thead>\n",
       "  <tbody>\n",
       "    <tr>\n",
       "      <th>0</th>\n",
       "      <td>1</td>\n",
       "      <td>2019-03-01</td>\n",
       "      <td>28.0</td>\n",
       "      <td>0.0</td>\n",
       "      <td>C23</td>\n",
       "      <td>2</td>\n",
       "      <td>57387</td>\n",
       "      <td>2018-12-24</td>\n",
       "      <td>2019-03-11</td>\n",
       "      <td>1</td>\n",
       "      <td>1</td>\n",
       "      <td>1715580</td>\n",
       "      <td>2</td>\n",
       "      <td>1</td>\n",
       "    </tr>\n",
       "    <tr>\n",
       "      <th>1</th>\n",
       "      <td>2</td>\n",
       "      <td>2020-12-01</td>\n",
       "      <td>31.0</td>\n",
       "      <td>0.0</td>\n",
       "      <td>C7</td>\n",
       "      <td>2</td>\n",
       "      <td>67016</td>\n",
       "      <td>2020-11-06</td>\n",
       "      <td>NaT</td>\n",
       "      <td>2</td>\n",
       "      <td>2</td>\n",
       "      <td>0</td>\n",
       "      <td>1</td>\n",
       "      <td>0</td>\n",
       "    </tr>\n",
       "    <tr>\n",
       "      <th>2</th>\n",
       "      <td>4</td>\n",
       "      <td>2020-04-01</td>\n",
       "      <td>43.0</td>\n",
       "      <td>0.0</td>\n",
       "      <td>C13</td>\n",
       "      <td>2</td>\n",
       "      <td>65603</td>\n",
       "      <td>2019-12-07</td>\n",
       "      <td>2020-04-27</td>\n",
       "      <td>2</td>\n",
       "      <td>2</td>\n",
       "      <td>350000</td>\n",
       "      <td>1</td>\n",
       "      <td>1</td>\n",
       "    </tr>\n",
       "    <tr>\n",
       "      <th>3</th>\n",
       "      <td>5</td>\n",
       "      <td>2019-03-01</td>\n",
       "      <td>29.0</td>\n",
       "      <td>0.0</td>\n",
       "      <td>C9</td>\n",
       "      <td>0</td>\n",
       "      <td>46368</td>\n",
       "      <td>2019-01-09</td>\n",
       "      <td>2019-03-07</td>\n",
       "      <td>1</td>\n",
       "      <td>1</td>\n",
       "      <td>120360</td>\n",
       "      <td>1</td>\n",
       "      <td>1</td>\n",
       "    </tr>\n",
       "    <tr>\n",
       "      <th>4</th>\n",
       "      <td>6</td>\n",
       "      <td>2020-12-01</td>\n",
       "      <td>31.0</td>\n",
       "      <td>1.0</td>\n",
       "      <td>C11</td>\n",
       "      <td>1</td>\n",
       "      <td>78728</td>\n",
       "      <td>2020-07-31</td>\n",
       "      <td>NaT</td>\n",
       "      <td>3</td>\n",
       "      <td>3</td>\n",
       "      <td>1265000</td>\n",
       "      <td>2</td>\n",
       "      <td>0</td>\n",
       "    </tr>\n",
       "  </tbody>\n",
       "</table>\n",
       "</div>"
      ],
      "text/plain": [
       "   Driver_ID Reporting Date   Age  Gender City  Education_Level  Income  \\\n",
       "0          1     2019-03-01  28.0     0.0  C23                2   57387   \n",
       "1          2     2020-12-01  31.0     0.0   C7                2   67016   \n",
       "2          4     2020-04-01  43.0     0.0  C13                2   65603   \n",
       "3          5     2019-03-01  29.0     0.0   C9                0   46368   \n",
       "4          6     2020-12-01  31.0     1.0  C11                1   78728   \n",
       "\n",
       "  Dateofjoining LastWorkingDate  Joining Designation  Grade  \\\n",
       "0    2018-12-24      2019-03-11                    1      1   \n",
       "1    2020-11-06             NaT                    2      2   \n",
       "2    2019-12-07      2020-04-27                    2      2   \n",
       "3    2019-01-09      2019-03-07                    1      1   \n",
       "4    2020-07-31             NaT                    3      3   \n",
       "\n",
       "   Total Business Value  Quarterly Rating  target_label  \n",
       "0               1715580                 2             1  \n",
       "1                     0                 1             0  \n",
       "2                350000                 1             1  \n",
       "3                120360                 1             1  \n",
       "4               1265000                 2             0  "
      ]
     },
     "execution_count": 13,
     "metadata": {},
     "output_type": "execute_result"
    }
   ],
   "source": [
    "new_df.head()"
   ]
  },
  {
   "cell_type": "code",
   "execution_count": 14,
   "id": "5e362425",
   "metadata": {},
   "outputs": [],
   "source": [
    "new_df['Reporting_Date_year'] = new_df['Reporting Date'].dt.strftime('%Y')\n",
    "new_df['Reporting_Date_month'] = new_df['Reporting Date'].dt.strftime('%m')\n",
    "\n",
    "new_df['Last_Working_Date_year'] = new_df['LastWorkingDate'].dt.strftime('%Y')\n",
    "new_df['Last_Working_Date_month'] = new_df['LastWorkingDate'].dt.strftime('%m')\n",
    "\n",
    "new_df['Date_of_joining_year'] = new_df['Dateofjoining'].dt.strftime('%Y')\n",
    "new_df['Date_of_joining_month'] = new_df['LastWorkingDate'].dt.strftime('%m')"
   ]
  },
  {
   "cell_type": "code",
   "execution_count": 15,
   "id": "f223d4cf",
   "metadata": {},
   "outputs": [
    {
     "data": {
      "text/html": [
       "<div>\n",
       "<style scoped>\n",
       "    .dataframe tbody tr th:only-of-type {\n",
       "        vertical-align: middle;\n",
       "    }\n",
       "\n",
       "    .dataframe tbody tr th {\n",
       "        vertical-align: top;\n",
       "    }\n",
       "\n",
       "    .dataframe thead th {\n",
       "        text-align: right;\n",
       "    }\n",
       "</style>\n",
       "<table border=\"1\" class=\"dataframe\">\n",
       "  <thead>\n",
       "    <tr style=\"text-align: right;\">\n",
       "      <th></th>\n",
       "      <th>Driver_ID</th>\n",
       "      <th>Reporting Date</th>\n",
       "      <th>Age</th>\n",
       "      <th>Gender</th>\n",
       "      <th>City</th>\n",
       "      <th>Education_Level</th>\n",
       "      <th>Income</th>\n",
       "      <th>Dateofjoining</th>\n",
       "      <th>LastWorkingDate</th>\n",
       "      <th>Joining Designation</th>\n",
       "      <th>Grade</th>\n",
       "      <th>Total Business Value</th>\n",
       "      <th>Quarterly Rating</th>\n",
       "      <th>target_label</th>\n",
       "      <th>Reporting_Date_year</th>\n",
       "      <th>Reporting_Date_month</th>\n",
       "      <th>Last_Working_Date_year</th>\n",
       "      <th>Last_Working_Date_month</th>\n",
       "      <th>Date_of_joining_year</th>\n",
       "      <th>Date_of_joining_month</th>\n",
       "    </tr>\n",
       "  </thead>\n",
       "  <tbody>\n",
       "    <tr>\n",
       "      <th>0</th>\n",
       "      <td>1</td>\n",
       "      <td>2019-03-01</td>\n",
       "      <td>28.0</td>\n",
       "      <td>0.0</td>\n",
       "      <td>C23</td>\n",
       "      <td>2</td>\n",
       "      <td>57387</td>\n",
       "      <td>2018-12-24</td>\n",
       "      <td>2019-03-11</td>\n",
       "      <td>1</td>\n",
       "      <td>1</td>\n",
       "      <td>1715580</td>\n",
       "      <td>2</td>\n",
       "      <td>1</td>\n",
       "      <td>2019</td>\n",
       "      <td>03</td>\n",
       "      <td>2019</td>\n",
       "      <td>03</td>\n",
       "      <td>2018</td>\n",
       "      <td>03</td>\n",
       "    </tr>\n",
       "    <tr>\n",
       "      <th>1</th>\n",
       "      <td>2</td>\n",
       "      <td>2020-12-01</td>\n",
       "      <td>31.0</td>\n",
       "      <td>0.0</td>\n",
       "      <td>C7</td>\n",
       "      <td>2</td>\n",
       "      <td>67016</td>\n",
       "      <td>2020-11-06</td>\n",
       "      <td>NaT</td>\n",
       "      <td>2</td>\n",
       "      <td>2</td>\n",
       "      <td>0</td>\n",
       "      <td>1</td>\n",
       "      <td>0</td>\n",
       "      <td>2020</td>\n",
       "      <td>12</td>\n",
       "      <td>NaN</td>\n",
       "      <td>NaN</td>\n",
       "      <td>2020</td>\n",
       "      <td>NaN</td>\n",
       "    </tr>\n",
       "    <tr>\n",
       "      <th>2</th>\n",
       "      <td>4</td>\n",
       "      <td>2020-04-01</td>\n",
       "      <td>43.0</td>\n",
       "      <td>0.0</td>\n",
       "      <td>C13</td>\n",
       "      <td>2</td>\n",
       "      <td>65603</td>\n",
       "      <td>2019-12-07</td>\n",
       "      <td>2020-04-27</td>\n",
       "      <td>2</td>\n",
       "      <td>2</td>\n",
       "      <td>350000</td>\n",
       "      <td>1</td>\n",
       "      <td>1</td>\n",
       "      <td>2020</td>\n",
       "      <td>04</td>\n",
       "      <td>2020</td>\n",
       "      <td>04</td>\n",
       "      <td>2019</td>\n",
       "      <td>04</td>\n",
       "    </tr>\n",
       "    <tr>\n",
       "      <th>3</th>\n",
       "      <td>5</td>\n",
       "      <td>2019-03-01</td>\n",
       "      <td>29.0</td>\n",
       "      <td>0.0</td>\n",
       "      <td>C9</td>\n",
       "      <td>0</td>\n",
       "      <td>46368</td>\n",
       "      <td>2019-01-09</td>\n",
       "      <td>2019-03-07</td>\n",
       "      <td>1</td>\n",
       "      <td>1</td>\n",
       "      <td>120360</td>\n",
       "      <td>1</td>\n",
       "      <td>1</td>\n",
       "      <td>2019</td>\n",
       "      <td>03</td>\n",
       "      <td>2019</td>\n",
       "      <td>03</td>\n",
       "      <td>2019</td>\n",
       "      <td>03</td>\n",
       "    </tr>\n",
       "    <tr>\n",
       "      <th>4</th>\n",
       "      <td>6</td>\n",
       "      <td>2020-12-01</td>\n",
       "      <td>31.0</td>\n",
       "      <td>1.0</td>\n",
       "      <td>C11</td>\n",
       "      <td>1</td>\n",
       "      <td>78728</td>\n",
       "      <td>2020-07-31</td>\n",
       "      <td>NaT</td>\n",
       "      <td>3</td>\n",
       "      <td>3</td>\n",
       "      <td>1265000</td>\n",
       "      <td>2</td>\n",
       "      <td>0</td>\n",
       "      <td>2020</td>\n",
       "      <td>12</td>\n",
       "      <td>NaN</td>\n",
       "      <td>NaN</td>\n",
       "      <td>2020</td>\n",
       "      <td>NaN</td>\n",
       "    </tr>\n",
       "  </tbody>\n",
       "</table>\n",
       "</div>"
      ],
      "text/plain": [
       "   Driver_ID Reporting Date   Age  Gender City  Education_Level  Income  \\\n",
       "0          1     2019-03-01  28.0     0.0  C23                2   57387   \n",
       "1          2     2020-12-01  31.0     0.0   C7                2   67016   \n",
       "2          4     2020-04-01  43.0     0.0  C13                2   65603   \n",
       "3          5     2019-03-01  29.0     0.0   C9                0   46368   \n",
       "4          6     2020-12-01  31.0     1.0  C11                1   78728   \n",
       "\n",
       "  Dateofjoining LastWorkingDate  Joining Designation  Grade  \\\n",
       "0    2018-12-24      2019-03-11                    1      1   \n",
       "1    2020-11-06             NaT                    2      2   \n",
       "2    2019-12-07      2020-04-27                    2      2   \n",
       "3    2019-01-09      2019-03-07                    1      1   \n",
       "4    2020-07-31             NaT                    3      3   \n",
       "\n",
       "   Total Business Value  Quarterly Rating  target_label Reporting_Date_year  \\\n",
       "0               1715580                 2             1                2019   \n",
       "1                     0                 1             0                2020   \n",
       "2                350000                 1             1                2020   \n",
       "3                120360                 1             1                2019   \n",
       "4               1265000                 2             0                2020   \n",
       "\n",
       "  Reporting_Date_month Last_Working_Date_year Last_Working_Date_month  \\\n",
       "0                   03                   2019                      03   \n",
       "1                   12                    NaN                     NaN   \n",
       "2                   04                   2020                      04   \n",
       "3                   03                   2019                      03   \n",
       "4                   12                    NaN                     NaN   \n",
       "\n",
       "  Date_of_joining_year Date_of_joining_month  \n",
       "0                 2018                    03  \n",
       "1                 2020                   NaN  \n",
       "2                 2019                    04  \n",
       "3                 2019                    03  \n",
       "4                 2020                   NaN  "
      ]
     },
     "execution_count": 15,
     "metadata": {},
     "output_type": "execute_result"
    }
   ],
   "source": [
    "new_df.head()"
   ]
  },
  {
   "cell_type": "code",
   "execution_count": 16,
   "id": "e0be2494",
   "metadata": {},
   "outputs": [],
   "source": [
    "new_df.drop(['Reporting Date','Dateofjoining','LastWorkingDate','City','Driver_ID'],axis=1,inplace=True)"
   ]
  },
  {
   "cell_type": "code",
   "execution_count": 17,
   "id": "595eb844",
   "metadata": {},
   "outputs": [
    {
     "data": {
      "text/html": [
       "<div>\n",
       "<style scoped>\n",
       "    .dataframe tbody tr th:only-of-type {\n",
       "        vertical-align: middle;\n",
       "    }\n",
       "\n",
       "    .dataframe tbody tr th {\n",
       "        vertical-align: top;\n",
       "    }\n",
       "\n",
       "    .dataframe thead th {\n",
       "        text-align: right;\n",
       "    }\n",
       "</style>\n",
       "<table border=\"1\" class=\"dataframe\">\n",
       "  <thead>\n",
       "    <tr style=\"text-align: right;\">\n",
       "      <th></th>\n",
       "      <th>Age</th>\n",
       "      <th>Gender</th>\n",
       "      <th>Education_Level</th>\n",
       "      <th>Income</th>\n",
       "      <th>Joining Designation</th>\n",
       "      <th>Grade</th>\n",
       "      <th>Total Business Value</th>\n",
       "      <th>Quarterly Rating</th>\n",
       "      <th>target_label</th>\n",
       "      <th>Reporting_Date_year</th>\n",
       "      <th>Reporting_Date_month</th>\n",
       "      <th>Last_Working_Date_year</th>\n",
       "      <th>Last_Working_Date_month</th>\n",
       "      <th>Date_of_joining_year</th>\n",
       "      <th>Date_of_joining_month</th>\n",
       "    </tr>\n",
       "  </thead>\n",
       "  <tbody>\n",
       "    <tr>\n",
       "      <th>0</th>\n",
       "      <td>28.0</td>\n",
       "      <td>0.0</td>\n",
       "      <td>2</td>\n",
       "      <td>57387</td>\n",
       "      <td>1</td>\n",
       "      <td>1</td>\n",
       "      <td>1715580</td>\n",
       "      <td>2</td>\n",
       "      <td>1</td>\n",
       "      <td>2019</td>\n",
       "      <td>03</td>\n",
       "      <td>2019</td>\n",
       "      <td>03</td>\n",
       "      <td>2018</td>\n",
       "      <td>03</td>\n",
       "    </tr>\n",
       "    <tr>\n",
       "      <th>1</th>\n",
       "      <td>31.0</td>\n",
       "      <td>0.0</td>\n",
       "      <td>2</td>\n",
       "      <td>67016</td>\n",
       "      <td>2</td>\n",
       "      <td>2</td>\n",
       "      <td>0</td>\n",
       "      <td>1</td>\n",
       "      <td>0</td>\n",
       "      <td>2020</td>\n",
       "      <td>12</td>\n",
       "      <td>NaN</td>\n",
       "      <td>NaN</td>\n",
       "      <td>2020</td>\n",
       "      <td>NaN</td>\n",
       "    </tr>\n",
       "    <tr>\n",
       "      <th>2</th>\n",
       "      <td>43.0</td>\n",
       "      <td>0.0</td>\n",
       "      <td>2</td>\n",
       "      <td>65603</td>\n",
       "      <td>2</td>\n",
       "      <td>2</td>\n",
       "      <td>350000</td>\n",
       "      <td>1</td>\n",
       "      <td>1</td>\n",
       "      <td>2020</td>\n",
       "      <td>04</td>\n",
       "      <td>2020</td>\n",
       "      <td>04</td>\n",
       "      <td>2019</td>\n",
       "      <td>04</td>\n",
       "    </tr>\n",
       "    <tr>\n",
       "      <th>3</th>\n",
       "      <td>29.0</td>\n",
       "      <td>0.0</td>\n",
       "      <td>0</td>\n",
       "      <td>46368</td>\n",
       "      <td>1</td>\n",
       "      <td>1</td>\n",
       "      <td>120360</td>\n",
       "      <td>1</td>\n",
       "      <td>1</td>\n",
       "      <td>2019</td>\n",
       "      <td>03</td>\n",
       "      <td>2019</td>\n",
       "      <td>03</td>\n",
       "      <td>2019</td>\n",
       "      <td>03</td>\n",
       "    </tr>\n",
       "    <tr>\n",
       "      <th>4</th>\n",
       "      <td>31.0</td>\n",
       "      <td>1.0</td>\n",
       "      <td>1</td>\n",
       "      <td>78728</td>\n",
       "      <td>3</td>\n",
       "      <td>3</td>\n",
       "      <td>1265000</td>\n",
       "      <td>2</td>\n",
       "      <td>0</td>\n",
       "      <td>2020</td>\n",
       "      <td>12</td>\n",
       "      <td>NaN</td>\n",
       "      <td>NaN</td>\n",
       "      <td>2020</td>\n",
       "      <td>NaN</td>\n",
       "    </tr>\n",
       "  </tbody>\n",
       "</table>\n",
       "</div>"
      ],
      "text/plain": [
       "    Age  Gender  Education_Level  Income  Joining Designation  Grade  \\\n",
       "0  28.0     0.0                2   57387                    1      1   \n",
       "1  31.0     0.0                2   67016                    2      2   \n",
       "2  43.0     0.0                2   65603                    2      2   \n",
       "3  29.0     0.0                0   46368                    1      1   \n",
       "4  31.0     1.0                1   78728                    3      3   \n",
       "\n",
       "   Total Business Value  Quarterly Rating  target_label Reporting_Date_year  \\\n",
       "0               1715580                 2             1                2019   \n",
       "1                     0                 1             0                2020   \n",
       "2                350000                 1             1                2020   \n",
       "3                120360                 1             1                2019   \n",
       "4               1265000                 2             0                2020   \n",
       "\n",
       "  Reporting_Date_month Last_Working_Date_year Last_Working_Date_month  \\\n",
       "0                   03                   2019                      03   \n",
       "1                   12                    NaN                     NaN   \n",
       "2                   04                   2020                      04   \n",
       "3                   03                   2019                      03   \n",
       "4                   12                    NaN                     NaN   \n",
       "\n",
       "  Date_of_joining_year Date_of_joining_month  \n",
       "0                 2018                    03  \n",
       "1                 2020                   NaN  \n",
       "2                 2019                    04  \n",
       "3                 2019                    03  \n",
       "4                 2020                   NaN  "
      ]
     },
     "execution_count": 17,
     "metadata": {},
     "output_type": "execute_result"
    }
   ],
   "source": [
    "new_df.head()"
   ]
  },
  {
   "cell_type": "code",
   "execution_count": 18,
   "id": "0ffa60c6",
   "metadata": {
    "scrolled": true
   },
   "outputs": [
    {
     "data": {
      "text/plain": [
       "Age                          0\n",
       "Gender                       0\n",
       "Education_Level              0\n",
       "Income                       0\n",
       "Joining Designation          0\n",
       "Grade                        0\n",
       "Total Business Value         0\n",
       "Quarterly Rating             0\n",
       "target_label                 0\n",
       "Reporting_Date_year          0\n",
       "Reporting_Date_month         0\n",
       "Last_Working_Date_year     765\n",
       "Last_Working_Date_month    765\n",
       "Date_of_joining_year         0\n",
       "Date_of_joining_month      765\n",
       "dtype: int64"
      ]
     },
     "execution_count": 18,
     "metadata": {},
     "output_type": "execute_result"
    }
   ],
   "source": [
    "new_df.isna().sum()"
   ]
  },
  {
   "cell_type": "code",
   "execution_count": 19,
   "id": "0399e7d2",
   "metadata": {},
   "outputs": [],
   "source": [
    "Y = new_df['target_label']\n",
    "X = new_df.drop('target_label',axis=1)"
   ]
  },
  {
   "cell_type": "code",
   "execution_count": 80,
   "id": "4041ef6f",
   "metadata": {},
   "outputs": [
    {
     "data": {
      "text/html": [
       "<div>\n",
       "<style scoped>\n",
       "    .dataframe tbody tr th:only-of-type {\n",
       "        vertical-align: middle;\n",
       "    }\n",
       "\n",
       "    .dataframe tbody tr th {\n",
       "        vertical-align: top;\n",
       "    }\n",
       "\n",
       "    .dataframe thead th {\n",
       "        text-align: right;\n",
       "    }\n",
       "</style>\n",
       "<table border=\"1\" class=\"dataframe\">\n",
       "  <thead>\n",
       "    <tr style=\"text-align: right;\">\n",
       "      <th></th>\n",
       "      <th>Age</th>\n",
       "      <th>Gender</th>\n",
       "      <th>Education_Level</th>\n",
       "      <th>Income</th>\n",
       "      <th>Joining Designation</th>\n",
       "      <th>Grade</th>\n",
       "      <th>Total Business Value</th>\n",
       "      <th>Quarterly Rating</th>\n",
       "      <th>Reporting_Date_year</th>\n",
       "      <th>Reporting_Date_month</th>\n",
       "      <th>Last_Working_Date_year</th>\n",
       "      <th>Last_Working_Date_month</th>\n",
       "      <th>Date_of_joining_year</th>\n",
       "      <th>Date_of_joining_month</th>\n",
       "    </tr>\n",
       "  </thead>\n",
       "  <tbody>\n",
       "    <tr>\n",
       "      <th>0</th>\n",
       "      <td>28</td>\n",
       "      <td>0</td>\n",
       "      <td>2</td>\n",
       "      <td>57387</td>\n",
       "      <td>1</td>\n",
       "      <td>1</td>\n",
       "      <td>1715580</td>\n",
       "      <td>2</td>\n",
       "      <td>2019</td>\n",
       "      <td>3</td>\n",
       "      <td>2019</td>\n",
       "      <td>3</td>\n",
       "      <td>2018</td>\n",
       "      <td>3</td>\n",
       "    </tr>\n",
       "    <tr>\n",
       "      <th>1</th>\n",
       "      <td>31</td>\n",
       "      <td>0</td>\n",
       "      <td>2</td>\n",
       "      <td>67016</td>\n",
       "      <td>2</td>\n",
       "      <td>2</td>\n",
       "      <td>0</td>\n",
       "      <td>1</td>\n",
       "      <td>2020</td>\n",
       "      <td>12</td>\n",
       "      <td>2019</td>\n",
       "      <td>7</td>\n",
       "      <td>2020</td>\n",
       "      <td>7</td>\n",
       "    </tr>\n",
       "    <tr>\n",
       "      <th>2</th>\n",
       "      <td>43</td>\n",
       "      <td>0</td>\n",
       "      <td>2</td>\n",
       "      <td>65603</td>\n",
       "      <td>2</td>\n",
       "      <td>2</td>\n",
       "      <td>350000</td>\n",
       "      <td>1</td>\n",
       "      <td>2020</td>\n",
       "      <td>4</td>\n",
       "      <td>2020</td>\n",
       "      <td>4</td>\n",
       "      <td>2019</td>\n",
       "      <td>4</td>\n",
       "    </tr>\n",
       "    <tr>\n",
       "      <th>3</th>\n",
       "      <td>29</td>\n",
       "      <td>0</td>\n",
       "      <td>0</td>\n",
       "      <td>46368</td>\n",
       "      <td>1</td>\n",
       "      <td>1</td>\n",
       "      <td>120360</td>\n",
       "      <td>1</td>\n",
       "      <td>2019</td>\n",
       "      <td>3</td>\n",
       "      <td>2019</td>\n",
       "      <td>3</td>\n",
       "      <td>2019</td>\n",
       "      <td>3</td>\n",
       "    </tr>\n",
       "    <tr>\n",
       "      <th>4</th>\n",
       "      <td>31</td>\n",
       "      <td>1</td>\n",
       "      <td>1</td>\n",
       "      <td>78728</td>\n",
       "      <td>3</td>\n",
       "      <td>3</td>\n",
       "      <td>1265000</td>\n",
       "      <td>2</td>\n",
       "      <td>2020</td>\n",
       "      <td>12</td>\n",
       "      <td>2019</td>\n",
       "      <td>4</td>\n",
       "      <td>2020</td>\n",
       "      <td>4</td>\n",
       "    </tr>\n",
       "  </tbody>\n",
       "</table>\n",
       "</div>"
      ],
      "text/plain": [
       "   Age  Gender  Education_Level  Income  Joining Designation  Grade  \\\n",
       "0   28       0                2   57387                    1      1   \n",
       "1   31       0                2   67016                    2      2   \n",
       "2   43       0                2   65603                    2      2   \n",
       "3   29       0                0   46368                    1      1   \n",
       "4   31       1                1   78728                    3      3   \n",
       "\n",
       "   Total Business Value  Quarterly Rating  Reporting_Date_year  \\\n",
       "0               1715580                 2                 2019   \n",
       "1                     0                 1                 2020   \n",
       "2                350000                 1                 2020   \n",
       "3                120360                 1                 2019   \n",
       "4               1265000                 2                 2020   \n",
       "\n",
       "   Reporting_Date_month  Last_Working_Date_year  Last_Working_Date_month  \\\n",
       "0                     3                    2019                        3   \n",
       "1                    12                    2019                        7   \n",
       "2                     4                    2020                        4   \n",
       "3                     3                    2019                        3   \n",
       "4                    12                    2019                        4   \n",
       "\n",
       "   Date_of_joining_year  Date_of_joining_month  \n",
       "0                  2018                      3  \n",
       "1                  2020                      7  \n",
       "2                  2019                      4  \n",
       "3                  2019                      3  \n",
       "4                  2020                      4  "
      ]
     },
     "execution_count": 80,
     "metadata": {},
     "output_type": "execute_result"
    }
   ],
   "source": [
    "X.head()"
   ]
  },
  {
   "cell_type": "code",
   "execution_count": 21,
   "id": "db9e64af",
   "metadata": {},
   "outputs": [
    {
     "data": {
      "text/plain": [
       "Index(['Age', 'Gender', 'Education_Level', 'Income', 'Joining Designation',\n",
       "       'Grade', 'Total Business Value', 'Quarterly Rating',\n",
       "       'Reporting_Date_year', 'Reporting_Date_month', 'Last_Working_Date_year',\n",
       "       'Last_Working_Date_month', 'Date_of_joining_year',\n",
       "       'Date_of_joining_month'],\n",
       "      dtype='object')"
      ]
     },
     "execution_count": 21,
     "metadata": {},
     "output_type": "execute_result"
    }
   ],
   "source": [
    "cols=X.columns\n",
    "cols"
   ]
  },
  {
   "cell_type": "markdown",
   "id": "ad108484",
   "metadata": {},
   "source": [
    "# Handling Missing value"
   ]
  },
  {
   "cell_type": "code",
   "execution_count": 22,
   "id": "e572c175",
   "metadata": {},
   "outputs": [],
   "source": [
    "from sklearn.impute import KNNImputer"
   ]
  },
  {
   "cell_type": "code",
   "execution_count": 23,
   "id": "e287d1fb",
   "metadata": {},
   "outputs": [
    {
     "data": {
      "text/plain": [
       "0    2019\n",
       "1     NaN\n",
       "2    2020\n",
       "3    2019\n",
       "4     NaN\n",
       "Name: Last_Working_Date_year, dtype: object"
      ]
     },
     "execution_count": 23,
     "metadata": {},
     "output_type": "execute_result"
    }
   ],
   "source": [
    "new_df['Last_Working_Date_year'][:5]"
   ]
  },
  {
   "cell_type": "code",
   "execution_count": 24,
   "id": "51d26c0a",
   "metadata": {},
   "outputs": [],
   "source": [
    "imputer = KNNImputer()"
   ]
  },
  {
   "cell_type": "code",
   "execution_count": 25,
   "id": "8d73b3ee",
   "metadata": {},
   "outputs": [],
   "source": [
    "X = imputer.fit_transform(X)"
   ]
  },
  {
   "cell_type": "code",
   "execution_count": 26,
   "id": "a4e10e86",
   "metadata": {},
   "outputs": [],
   "source": [
    "X = pd.DataFrame(X,columns=cols)"
   ]
  },
  {
   "cell_type": "code",
   "execution_count": 81,
   "id": "68ceef1c",
   "metadata": {},
   "outputs": [
    {
     "data": {
      "text/html": [
       "<div>\n",
       "<style scoped>\n",
       "    .dataframe tbody tr th:only-of-type {\n",
       "        vertical-align: middle;\n",
       "    }\n",
       "\n",
       "    .dataframe tbody tr th {\n",
       "        vertical-align: top;\n",
       "    }\n",
       "\n",
       "    .dataframe thead th {\n",
       "        text-align: right;\n",
       "    }\n",
       "</style>\n",
       "<table border=\"1\" class=\"dataframe\">\n",
       "  <thead>\n",
       "    <tr style=\"text-align: right;\">\n",
       "      <th></th>\n",
       "      <th>Age</th>\n",
       "      <th>Gender</th>\n",
       "      <th>Education_Level</th>\n",
       "      <th>Income</th>\n",
       "      <th>Joining Designation</th>\n",
       "      <th>Grade</th>\n",
       "      <th>Total Business Value</th>\n",
       "      <th>Quarterly Rating</th>\n",
       "      <th>Reporting_Date_year</th>\n",
       "      <th>Reporting_Date_month</th>\n",
       "      <th>Last_Working_Date_year</th>\n",
       "      <th>Last_Working_Date_month</th>\n",
       "      <th>Date_of_joining_year</th>\n",
       "      <th>Date_of_joining_month</th>\n",
       "    </tr>\n",
       "  </thead>\n",
       "  <tbody>\n",
       "    <tr>\n",
       "      <th>0</th>\n",
       "      <td>28</td>\n",
       "      <td>0</td>\n",
       "      <td>2</td>\n",
       "      <td>57387</td>\n",
       "      <td>1</td>\n",
       "      <td>1</td>\n",
       "      <td>1715580</td>\n",
       "      <td>2</td>\n",
       "      <td>2019</td>\n",
       "      <td>3</td>\n",
       "      <td>2019</td>\n",
       "      <td>3</td>\n",
       "      <td>2018</td>\n",
       "      <td>3</td>\n",
       "    </tr>\n",
       "    <tr>\n",
       "      <th>1</th>\n",
       "      <td>31</td>\n",
       "      <td>0</td>\n",
       "      <td>2</td>\n",
       "      <td>67016</td>\n",
       "      <td>2</td>\n",
       "      <td>2</td>\n",
       "      <td>0</td>\n",
       "      <td>1</td>\n",
       "      <td>2020</td>\n",
       "      <td>12</td>\n",
       "      <td>2019</td>\n",
       "      <td>7</td>\n",
       "      <td>2020</td>\n",
       "      <td>7</td>\n",
       "    </tr>\n",
       "    <tr>\n",
       "      <th>2</th>\n",
       "      <td>43</td>\n",
       "      <td>0</td>\n",
       "      <td>2</td>\n",
       "      <td>65603</td>\n",
       "      <td>2</td>\n",
       "      <td>2</td>\n",
       "      <td>350000</td>\n",
       "      <td>1</td>\n",
       "      <td>2020</td>\n",
       "      <td>4</td>\n",
       "      <td>2020</td>\n",
       "      <td>4</td>\n",
       "      <td>2019</td>\n",
       "      <td>4</td>\n",
       "    </tr>\n",
       "    <tr>\n",
       "      <th>3</th>\n",
       "      <td>29</td>\n",
       "      <td>0</td>\n",
       "      <td>0</td>\n",
       "      <td>46368</td>\n",
       "      <td>1</td>\n",
       "      <td>1</td>\n",
       "      <td>120360</td>\n",
       "      <td>1</td>\n",
       "      <td>2019</td>\n",
       "      <td>3</td>\n",
       "      <td>2019</td>\n",
       "      <td>3</td>\n",
       "      <td>2019</td>\n",
       "      <td>3</td>\n",
       "    </tr>\n",
       "    <tr>\n",
       "      <th>4</th>\n",
       "      <td>31</td>\n",
       "      <td>1</td>\n",
       "      <td>1</td>\n",
       "      <td>78728</td>\n",
       "      <td>3</td>\n",
       "      <td>3</td>\n",
       "      <td>1265000</td>\n",
       "      <td>2</td>\n",
       "      <td>2020</td>\n",
       "      <td>12</td>\n",
       "      <td>2019</td>\n",
       "      <td>4</td>\n",
       "      <td>2020</td>\n",
       "      <td>4</td>\n",
       "    </tr>\n",
       "  </tbody>\n",
       "</table>\n",
       "</div>"
      ],
      "text/plain": [
       "   Age  Gender  Education_Level  Income  Joining Designation  Grade  \\\n",
       "0   28       0                2   57387                    1      1   \n",
       "1   31       0                2   67016                    2      2   \n",
       "2   43       0                2   65603                    2      2   \n",
       "3   29       0                0   46368                    1      1   \n",
       "4   31       1                1   78728                    3      3   \n",
       "\n",
       "   Total Business Value  Quarterly Rating  Reporting_Date_year  \\\n",
       "0               1715580                 2                 2019   \n",
       "1                     0                 1                 2020   \n",
       "2                350000                 1                 2020   \n",
       "3                120360                 1                 2019   \n",
       "4               1265000                 2                 2020   \n",
       "\n",
       "   Reporting_Date_month  Last_Working_Date_year  Last_Working_Date_month  \\\n",
       "0                     3                    2019                        3   \n",
       "1                    12                    2019                        7   \n",
       "2                     4                    2020                        4   \n",
       "3                     3                    2019                        3   \n",
       "4                    12                    2019                        4   \n",
       "\n",
       "   Date_of_joining_year  Date_of_joining_month  \n",
       "0                  2018                      3  \n",
       "1                  2020                      7  \n",
       "2                  2019                      4  \n",
       "3                  2019                      3  \n",
       "4                  2020                      4  "
      ]
     },
     "execution_count": 81,
     "metadata": {},
     "output_type": "execute_result"
    }
   ],
   "source": [
    "X.head()"
   ]
  },
  {
   "cell_type": "code",
   "execution_count": 28,
   "id": "4c399353",
   "metadata": {},
   "outputs": [],
   "source": [
    "X['Reporting_Date_year'] = np.array(X['Reporting_Date_year'],dtype='int64')\n",
    "X['Reporting_Date_month'] = np.array(X['Reporting_Date_month'],dtype='int64')\n",
    "X['Last_Working_Date_year'] = np.array(X['Last_Working_Date_year'],dtype='int64')\n",
    "X['Last_Working_Date_month'] = np.array(X['Last_Working_Date_month'],dtype='int64')\n",
    "X['Date_of_joining_year'] = np.array(X['Date_of_joining_year'],dtype='int64')\n",
    "X['Date_of_joining_month'] = np.array(X['Date_of_joining_month'],dtype='int64')\n",
    "X['Age'] = np.array(X['Age'],dtype='int64')\n",
    "X['Gender'] = np.array(X['Gender'],dtype='int64')\n",
    "X['Education_Level'] = np.array(X['Education_Level'],dtype='int64')\n",
    "X['Joining Designation'] = np.array(X['Joining Designation'],dtype='int64')\n",
    "X['Grade'] = np.array(X['Grade'],dtype='int64')\n",
    "X['Total Business Value'] = np.array(X['Total Business Value'],dtype='int64')\n",
    "X['Quarterly Rating'] = np.array(X['Quarterly Rating'],dtype='int64')\n",
    "X['Income'] = np.array(X['Income'],dtype='int64')"
   ]
  },
  {
   "cell_type": "code",
   "execution_count": 29,
   "id": "d6be2d05",
   "metadata": {},
   "outputs": [
    {
     "name": "stdout",
     "output_type": "stream",
     "text": [
      "<class 'pandas.core.frame.DataFrame'>\n",
      "RangeIndex: 2381 entries, 0 to 2380\n",
      "Data columns (total 14 columns):\n",
      " #   Column                   Non-Null Count  Dtype\n",
      "---  ------                   --------------  -----\n",
      " 0   Age                      2381 non-null   int64\n",
      " 1   Gender                   2381 non-null   int64\n",
      " 2   Education_Level          2381 non-null   int64\n",
      " 3   Income                   2381 non-null   int64\n",
      " 4   Joining Designation      2381 non-null   int64\n",
      " 5   Grade                    2381 non-null   int64\n",
      " 6   Total Business Value     2381 non-null   int64\n",
      " 7   Quarterly Rating         2381 non-null   int64\n",
      " 8   Reporting_Date_year      2381 non-null   int64\n",
      " 9   Reporting_Date_month     2381 non-null   int64\n",
      " 10  Last_Working_Date_year   2381 non-null   int64\n",
      " 11  Last_Working_Date_month  2381 non-null   int64\n",
      " 12  Date_of_joining_year     2381 non-null   int64\n",
      " 13  Date_of_joining_month    2381 non-null   int64\n",
      "dtypes: int64(14)\n",
      "memory usage: 260.5 KB\n"
     ]
    }
   ],
   "source": [
    "X.info()"
   ]
  },
  {
   "cell_type": "code",
   "execution_count": 30,
   "id": "4b53f1e2",
   "metadata": {},
   "outputs": [
    {
     "data": {
      "text/html": [
       "<div>\n",
       "<style scoped>\n",
       "    .dataframe tbody tr th:only-of-type {\n",
       "        vertical-align: middle;\n",
       "    }\n",
       "\n",
       "    .dataframe tbody tr th {\n",
       "        vertical-align: top;\n",
       "    }\n",
       "\n",
       "    .dataframe thead th {\n",
       "        text-align: right;\n",
       "    }\n",
       "</style>\n",
       "<table border=\"1\" class=\"dataframe\">\n",
       "  <thead>\n",
       "    <tr style=\"text-align: right;\">\n",
       "      <th></th>\n",
       "      <th>Age</th>\n",
       "      <th>Gender</th>\n",
       "      <th>Education_Level</th>\n",
       "      <th>Income</th>\n",
       "      <th>Joining Designation</th>\n",
       "      <th>Grade</th>\n",
       "      <th>Total Business Value</th>\n",
       "      <th>Quarterly Rating</th>\n",
       "      <th>Reporting_Date_year</th>\n",
       "      <th>Reporting_Date_month</th>\n",
       "      <th>Last_Working_Date_year</th>\n",
       "      <th>Last_Working_Date_month</th>\n",
       "      <th>Date_of_joining_year</th>\n",
       "      <th>Date_of_joining_month</th>\n",
       "    </tr>\n",
       "  </thead>\n",
       "  <tbody>\n",
       "    <tr>\n",
       "      <th>0</th>\n",
       "      <td>28</td>\n",
       "      <td>0</td>\n",
       "      <td>2</td>\n",
       "      <td>57387</td>\n",
       "      <td>1</td>\n",
       "      <td>1</td>\n",
       "      <td>1715580</td>\n",
       "      <td>2</td>\n",
       "      <td>2019</td>\n",
       "      <td>3</td>\n",
       "      <td>2019</td>\n",
       "      <td>3</td>\n",
       "      <td>2018</td>\n",
       "      <td>3</td>\n",
       "    </tr>\n",
       "    <tr>\n",
       "      <th>1</th>\n",
       "      <td>31</td>\n",
       "      <td>0</td>\n",
       "      <td>2</td>\n",
       "      <td>67016</td>\n",
       "      <td>2</td>\n",
       "      <td>2</td>\n",
       "      <td>0</td>\n",
       "      <td>1</td>\n",
       "      <td>2020</td>\n",
       "      <td>12</td>\n",
       "      <td>2019</td>\n",
       "      <td>7</td>\n",
       "      <td>2020</td>\n",
       "      <td>7</td>\n",
       "    </tr>\n",
       "    <tr>\n",
       "      <th>2</th>\n",
       "      <td>43</td>\n",
       "      <td>0</td>\n",
       "      <td>2</td>\n",
       "      <td>65603</td>\n",
       "      <td>2</td>\n",
       "      <td>2</td>\n",
       "      <td>350000</td>\n",
       "      <td>1</td>\n",
       "      <td>2020</td>\n",
       "      <td>4</td>\n",
       "      <td>2020</td>\n",
       "      <td>4</td>\n",
       "      <td>2019</td>\n",
       "      <td>4</td>\n",
       "    </tr>\n",
       "    <tr>\n",
       "      <th>3</th>\n",
       "      <td>29</td>\n",
       "      <td>0</td>\n",
       "      <td>0</td>\n",
       "      <td>46368</td>\n",
       "      <td>1</td>\n",
       "      <td>1</td>\n",
       "      <td>120360</td>\n",
       "      <td>1</td>\n",
       "      <td>2019</td>\n",
       "      <td>3</td>\n",
       "      <td>2019</td>\n",
       "      <td>3</td>\n",
       "      <td>2019</td>\n",
       "      <td>3</td>\n",
       "    </tr>\n",
       "    <tr>\n",
       "      <th>4</th>\n",
       "      <td>31</td>\n",
       "      <td>1</td>\n",
       "      <td>1</td>\n",
       "      <td>78728</td>\n",
       "      <td>3</td>\n",
       "      <td>3</td>\n",
       "      <td>1265000</td>\n",
       "      <td>2</td>\n",
       "      <td>2020</td>\n",
       "      <td>12</td>\n",
       "      <td>2019</td>\n",
       "      <td>4</td>\n",
       "      <td>2020</td>\n",
       "      <td>4</td>\n",
       "    </tr>\n",
       "  </tbody>\n",
       "</table>\n",
       "</div>"
      ],
      "text/plain": [
       "   Age  Gender  Education_Level  Income  Joining Designation  Grade  \\\n",
       "0   28       0                2   57387                    1      1   \n",
       "1   31       0                2   67016                    2      2   \n",
       "2   43       0                2   65603                    2      2   \n",
       "3   29       0                0   46368                    1      1   \n",
       "4   31       1                1   78728                    3      3   \n",
       "\n",
       "   Total Business Value  Quarterly Rating  Reporting_Date_year  \\\n",
       "0               1715580                 2                 2019   \n",
       "1                     0                 1                 2020   \n",
       "2                350000                 1                 2020   \n",
       "3                120360                 1                 2019   \n",
       "4               1265000                 2                 2020   \n",
       "\n",
       "   Reporting_Date_month  Last_Working_Date_year  Last_Working_Date_month  \\\n",
       "0                     3                    2019                        3   \n",
       "1                    12                    2019                        7   \n",
       "2                     4                    2020                        4   \n",
       "3                     3                    2019                        3   \n",
       "4                    12                    2019                        4   \n",
       "\n",
       "   Date_of_joining_year  Date_of_joining_month  \n",
       "0                  2018                      3  \n",
       "1                  2020                      7  \n",
       "2                  2019                      4  \n",
       "3                  2019                      3  \n",
       "4                  2020                      4  "
      ]
     },
     "execution_count": 30,
     "metadata": {},
     "output_type": "execute_result"
    }
   ],
   "source": [
    "X.head()"
   ]
  },
  {
   "cell_type": "markdown",
   "id": "4f4c017f",
   "metadata": {},
   "source": [
    "# NULL Check after preprocessing"
   ]
  },
  {
   "cell_type": "code",
   "execution_count": 31,
   "id": "18548582",
   "metadata": {},
   "outputs": [
    {
     "data": {
      "text/plain": [
       "Age                        0\n",
       "Gender                     0\n",
       "Education_Level            0\n",
       "Income                     0\n",
       "Joining Designation        0\n",
       "Grade                      0\n",
       "Total Business Value       0\n",
       "Quarterly Rating           0\n",
       "Reporting_Date_year        0\n",
       "Reporting_Date_month       0\n",
       "Last_Working_Date_year     0\n",
       "Last_Working_Date_month    0\n",
       "Date_of_joining_year       0\n",
       "Date_of_joining_month      0\n",
       "dtype: int64"
      ]
     },
     "execution_count": 31,
     "metadata": {},
     "output_type": "execute_result"
    }
   ],
   "source": [
    "X.isna().sum()"
   ]
  },
  {
   "cell_type": "code",
   "execution_count": 32,
   "id": "dff72aba",
   "metadata": {},
   "outputs": [],
   "source": [
    "new_df = pd.concat([X,Y],axis=1)"
   ]
  },
  {
   "cell_type": "code",
   "execution_count": 33,
   "id": "5938d4d7",
   "metadata": {},
   "outputs": [
    {
     "data": {
      "text/html": [
       "<div>\n",
       "<style scoped>\n",
       "    .dataframe tbody tr th:only-of-type {\n",
       "        vertical-align: middle;\n",
       "    }\n",
       "\n",
       "    .dataframe tbody tr th {\n",
       "        vertical-align: top;\n",
       "    }\n",
       "\n",
       "    .dataframe thead th {\n",
       "        text-align: right;\n",
       "    }\n",
       "</style>\n",
       "<table border=\"1\" class=\"dataframe\">\n",
       "  <thead>\n",
       "    <tr style=\"text-align: right;\">\n",
       "      <th></th>\n",
       "      <th>Age</th>\n",
       "      <th>Gender</th>\n",
       "      <th>Education_Level</th>\n",
       "      <th>Income</th>\n",
       "      <th>Joining Designation</th>\n",
       "      <th>Grade</th>\n",
       "      <th>Total Business Value</th>\n",
       "      <th>Quarterly Rating</th>\n",
       "      <th>Reporting_Date_year</th>\n",
       "      <th>Reporting_Date_month</th>\n",
       "      <th>Last_Working_Date_year</th>\n",
       "      <th>Last_Working_Date_month</th>\n",
       "      <th>Date_of_joining_year</th>\n",
       "      <th>Date_of_joining_month</th>\n",
       "      <th>target_label</th>\n",
       "    </tr>\n",
       "  </thead>\n",
       "  <tbody>\n",
       "    <tr>\n",
       "      <th>0</th>\n",
       "      <td>28</td>\n",
       "      <td>0</td>\n",
       "      <td>2</td>\n",
       "      <td>57387</td>\n",
       "      <td>1</td>\n",
       "      <td>1</td>\n",
       "      <td>1715580</td>\n",
       "      <td>2</td>\n",
       "      <td>2019</td>\n",
       "      <td>3</td>\n",
       "      <td>2019</td>\n",
       "      <td>3</td>\n",
       "      <td>2018</td>\n",
       "      <td>3</td>\n",
       "      <td>1</td>\n",
       "    </tr>\n",
       "    <tr>\n",
       "      <th>1</th>\n",
       "      <td>31</td>\n",
       "      <td>0</td>\n",
       "      <td>2</td>\n",
       "      <td>67016</td>\n",
       "      <td>2</td>\n",
       "      <td>2</td>\n",
       "      <td>0</td>\n",
       "      <td>1</td>\n",
       "      <td>2020</td>\n",
       "      <td>12</td>\n",
       "      <td>2019</td>\n",
       "      <td>7</td>\n",
       "      <td>2020</td>\n",
       "      <td>7</td>\n",
       "      <td>0</td>\n",
       "    </tr>\n",
       "    <tr>\n",
       "      <th>2</th>\n",
       "      <td>43</td>\n",
       "      <td>0</td>\n",
       "      <td>2</td>\n",
       "      <td>65603</td>\n",
       "      <td>2</td>\n",
       "      <td>2</td>\n",
       "      <td>350000</td>\n",
       "      <td>1</td>\n",
       "      <td>2020</td>\n",
       "      <td>4</td>\n",
       "      <td>2020</td>\n",
       "      <td>4</td>\n",
       "      <td>2019</td>\n",
       "      <td>4</td>\n",
       "      <td>1</td>\n",
       "    </tr>\n",
       "    <tr>\n",
       "      <th>3</th>\n",
       "      <td>29</td>\n",
       "      <td>0</td>\n",
       "      <td>0</td>\n",
       "      <td>46368</td>\n",
       "      <td>1</td>\n",
       "      <td>1</td>\n",
       "      <td>120360</td>\n",
       "      <td>1</td>\n",
       "      <td>2019</td>\n",
       "      <td>3</td>\n",
       "      <td>2019</td>\n",
       "      <td>3</td>\n",
       "      <td>2019</td>\n",
       "      <td>3</td>\n",
       "      <td>1</td>\n",
       "    </tr>\n",
       "    <tr>\n",
       "      <th>4</th>\n",
       "      <td>31</td>\n",
       "      <td>1</td>\n",
       "      <td>1</td>\n",
       "      <td>78728</td>\n",
       "      <td>3</td>\n",
       "      <td>3</td>\n",
       "      <td>1265000</td>\n",
       "      <td>2</td>\n",
       "      <td>2020</td>\n",
       "      <td>12</td>\n",
       "      <td>2019</td>\n",
       "      <td>4</td>\n",
       "      <td>2020</td>\n",
       "      <td>4</td>\n",
       "      <td>0</td>\n",
       "    </tr>\n",
       "  </tbody>\n",
       "</table>\n",
       "</div>"
      ],
      "text/plain": [
       "   Age  Gender  Education_Level  Income  Joining Designation  Grade  \\\n",
       "0   28       0                2   57387                    1      1   \n",
       "1   31       0                2   67016                    2      2   \n",
       "2   43       0                2   65603                    2      2   \n",
       "3   29       0                0   46368                    1      1   \n",
       "4   31       1                1   78728                    3      3   \n",
       "\n",
       "   Total Business Value  Quarterly Rating  Reporting_Date_year  \\\n",
       "0               1715580                 2                 2019   \n",
       "1                     0                 1                 2020   \n",
       "2                350000                 1                 2020   \n",
       "3                120360                 1                 2019   \n",
       "4               1265000                 2                 2020   \n",
       "\n",
       "   Reporting_Date_month  Last_Working_Date_year  Last_Working_Date_month  \\\n",
       "0                     3                    2019                        3   \n",
       "1                    12                    2019                        7   \n",
       "2                     4                    2020                        4   \n",
       "3                     3                    2019                        3   \n",
       "4                    12                    2019                        4   \n",
       "\n",
       "   Date_of_joining_year  Date_of_joining_month  target_label  \n",
       "0                  2018                      3             1  \n",
       "1                  2020                      7             0  \n",
       "2                  2019                      4             1  \n",
       "3                  2019                      3             1  \n",
       "4                  2020                      4             0  "
      ]
     },
     "execution_count": 33,
     "metadata": {},
     "output_type": "execute_result"
    }
   ],
   "source": [
    "new_df.head()"
   ]
  },
  {
   "cell_type": "code",
   "execution_count": 34,
   "id": "4692b595",
   "metadata": {},
   "outputs": [
    {
     "data": {
      "text/html": [
       "<div>\n",
       "<style scoped>\n",
       "    .dataframe tbody tr th:only-of-type {\n",
       "        vertical-align: middle;\n",
       "    }\n",
       "\n",
       "    .dataframe tbody tr th {\n",
       "        vertical-align: top;\n",
       "    }\n",
       "\n",
       "    .dataframe thead th {\n",
       "        text-align: right;\n",
       "    }\n",
       "</style>\n",
       "<table border=\"1\" class=\"dataframe\">\n",
       "  <thead>\n",
       "    <tr style=\"text-align: right;\">\n",
       "      <th></th>\n",
       "      <th>Age</th>\n",
       "      <th>Gender</th>\n",
       "      <th>Education_Level</th>\n",
       "      <th>Income</th>\n",
       "      <th>Joining Designation</th>\n",
       "      <th>Grade</th>\n",
       "      <th>Total Business Value</th>\n",
       "      <th>Quarterly Rating</th>\n",
       "      <th>Reporting_Date_year</th>\n",
       "      <th>Reporting_Date_month</th>\n",
       "      <th>Last_Working_Date_year</th>\n",
       "      <th>Last_Working_Date_month</th>\n",
       "      <th>Date_of_joining_year</th>\n",
       "      <th>Date_of_joining_month</th>\n",
       "      <th>target_label</th>\n",
       "    </tr>\n",
       "  </thead>\n",
       "  <tbody>\n",
       "    <tr>\n",
       "      <th>count</th>\n",
       "      <td>2381.000000</td>\n",
       "      <td>2381.000000</td>\n",
       "      <td>2381.00000</td>\n",
       "      <td>2381.000000</td>\n",
       "      <td>2381.000000</td>\n",
       "      <td>2381.000000</td>\n",
       "      <td>2.381000e+03</td>\n",
       "      <td>2381.000000</td>\n",
       "      <td>2381.000000</td>\n",
       "      <td>2381.000000</td>\n",
       "      <td>2381.000000</td>\n",
       "      <td>2381.000000</td>\n",
       "      <td>2381.000000</td>\n",
       "      <td>2381.000000</td>\n",
       "      <td>2381.000000</td>\n",
       "    </tr>\n",
       "    <tr>\n",
       "      <th>mean</th>\n",
       "      <td>33.663167</td>\n",
       "      <td>0.410332</td>\n",
       "      <td>1.00756</td>\n",
       "      <td>59334.157077</td>\n",
       "      <td>1.820244</td>\n",
       "      <td>2.096598</td>\n",
       "      <td>4.586742e+06</td>\n",
       "      <td>1.427971</td>\n",
       "      <td>2019.651407</td>\n",
       "      <td>8.166737</td>\n",
       "      <td>2019.391432</td>\n",
       "      <td>6.402772</td>\n",
       "      <td>2018.536329</td>\n",
       "      <td>6.402772</td>\n",
       "      <td>0.678706</td>\n",
       "    </tr>\n",
       "    <tr>\n",
       "      <th>std</th>\n",
       "      <td>5.983375</td>\n",
       "      <td>0.491997</td>\n",
       "      <td>0.81629</td>\n",
       "      <td>28383.666384</td>\n",
       "      <td>0.841433</td>\n",
       "      <td>0.941522</td>\n",
       "      <td>9.127115e+06</td>\n",
       "      <td>0.809839</td>\n",
       "      <td>0.476625</td>\n",
       "      <td>3.893261</td>\n",
       "      <td>0.493310</td>\n",
       "      <td>3.024045</td>\n",
       "      <td>1.609597</td>\n",
       "      <td>3.024045</td>\n",
       "      <td>0.467071</td>\n",
       "    </tr>\n",
       "    <tr>\n",
       "      <th>min</th>\n",
       "      <td>21.000000</td>\n",
       "      <td>0.000000</td>\n",
       "      <td>0.00000</td>\n",
       "      <td>10747.000000</td>\n",
       "      <td>1.000000</td>\n",
       "      <td>1.000000</td>\n",
       "      <td>-1.385530e+06</td>\n",
       "      <td>1.000000</td>\n",
       "      <td>2019.000000</td>\n",
       "      <td>1.000000</td>\n",
       "      <td>2018.000000</td>\n",
       "      <td>1.000000</td>\n",
       "      <td>2013.000000</td>\n",
       "      <td>1.000000</td>\n",
       "      <td>0.000000</td>\n",
       "    </tr>\n",
       "    <tr>\n",
       "      <th>25%</th>\n",
       "      <td>29.000000</td>\n",
       "      <td>0.000000</td>\n",
       "      <td>0.00000</td>\n",
       "      <td>39104.000000</td>\n",
       "      <td>1.000000</td>\n",
       "      <td>1.000000</td>\n",
       "      <td>0.000000e+00</td>\n",
       "      <td>1.000000</td>\n",
       "      <td>2019.000000</td>\n",
       "      <td>5.000000</td>\n",
       "      <td>2019.000000</td>\n",
       "      <td>4.000000</td>\n",
       "      <td>2018.000000</td>\n",
       "      <td>4.000000</td>\n",
       "      <td>0.000000</td>\n",
       "    </tr>\n",
       "    <tr>\n",
       "      <th>50%</th>\n",
       "      <td>33.000000</td>\n",
       "      <td>0.000000</td>\n",
       "      <td>1.00000</td>\n",
       "      <td>55315.000000</td>\n",
       "      <td>2.000000</td>\n",
       "      <td>2.000000</td>\n",
       "      <td>8.176800e+05</td>\n",
       "      <td>1.000000</td>\n",
       "      <td>2020.000000</td>\n",
       "      <td>9.000000</td>\n",
       "      <td>2019.000000</td>\n",
       "      <td>6.000000</td>\n",
       "      <td>2019.000000</td>\n",
       "      <td>6.000000</td>\n",
       "      <td>1.000000</td>\n",
       "    </tr>\n",
       "    <tr>\n",
       "      <th>75%</th>\n",
       "      <td>37.000000</td>\n",
       "      <td>1.000000</td>\n",
       "      <td>2.00000</td>\n",
       "      <td>75986.000000</td>\n",
       "      <td>2.000000</td>\n",
       "      <td>3.000000</td>\n",
       "      <td>4.173650e+06</td>\n",
       "      <td>2.000000</td>\n",
       "      <td>2020.000000</td>\n",
       "      <td>12.000000</td>\n",
       "      <td>2020.000000</td>\n",
       "      <td>9.000000</td>\n",
       "      <td>2020.000000</td>\n",
       "      <td>9.000000</td>\n",
       "      <td>1.000000</td>\n",
       "    </tr>\n",
       "    <tr>\n",
       "      <th>max</th>\n",
       "      <td>58.000000</td>\n",
       "      <td>1.000000</td>\n",
       "      <td>2.00000</td>\n",
       "      <td>188418.000000</td>\n",
       "      <td>5.000000</td>\n",
       "      <td>5.000000</td>\n",
       "      <td>9.533106e+07</td>\n",
       "      <td>4.000000</td>\n",
       "      <td>2020.000000</td>\n",
       "      <td>12.000000</td>\n",
       "      <td>2020.000000</td>\n",
       "      <td>12.000000</td>\n",
       "      <td>2020.000000</td>\n",
       "      <td>12.000000</td>\n",
       "      <td>1.000000</td>\n",
       "    </tr>\n",
       "  </tbody>\n",
       "</table>\n",
       "</div>"
      ],
      "text/plain": [
       "               Age       Gender  Education_Level         Income  \\\n",
       "count  2381.000000  2381.000000       2381.00000    2381.000000   \n",
       "mean     33.663167     0.410332          1.00756   59334.157077   \n",
       "std       5.983375     0.491997          0.81629   28383.666384   \n",
       "min      21.000000     0.000000          0.00000   10747.000000   \n",
       "25%      29.000000     0.000000          0.00000   39104.000000   \n",
       "50%      33.000000     0.000000          1.00000   55315.000000   \n",
       "75%      37.000000     1.000000          2.00000   75986.000000   \n",
       "max      58.000000     1.000000          2.00000  188418.000000   \n",
       "\n",
       "       Joining Designation        Grade  Total Business Value  \\\n",
       "count          2381.000000  2381.000000          2.381000e+03   \n",
       "mean              1.820244     2.096598          4.586742e+06   \n",
       "std               0.841433     0.941522          9.127115e+06   \n",
       "min               1.000000     1.000000         -1.385530e+06   \n",
       "25%               1.000000     1.000000          0.000000e+00   \n",
       "50%               2.000000     2.000000          8.176800e+05   \n",
       "75%               2.000000     3.000000          4.173650e+06   \n",
       "max               5.000000     5.000000          9.533106e+07   \n",
       "\n",
       "       Quarterly Rating  Reporting_Date_year  Reporting_Date_month  \\\n",
       "count       2381.000000          2381.000000           2381.000000   \n",
       "mean           1.427971          2019.651407              8.166737   \n",
       "std            0.809839             0.476625              3.893261   \n",
       "min            1.000000          2019.000000              1.000000   \n",
       "25%            1.000000          2019.000000              5.000000   \n",
       "50%            1.000000          2020.000000              9.000000   \n",
       "75%            2.000000          2020.000000             12.000000   \n",
       "max            4.000000          2020.000000             12.000000   \n",
       "\n",
       "       Last_Working_Date_year  Last_Working_Date_month  Date_of_joining_year  \\\n",
       "count             2381.000000              2381.000000           2381.000000   \n",
       "mean              2019.391432                 6.402772           2018.536329   \n",
       "std                  0.493310                 3.024045              1.609597   \n",
       "min               2018.000000                 1.000000           2013.000000   \n",
       "25%               2019.000000                 4.000000           2018.000000   \n",
       "50%               2019.000000                 6.000000           2019.000000   \n",
       "75%               2020.000000                 9.000000           2020.000000   \n",
       "max               2020.000000                12.000000           2020.000000   \n",
       "\n",
       "       Date_of_joining_month  target_label  \n",
       "count            2381.000000   2381.000000  \n",
       "mean                6.402772      0.678706  \n",
       "std                 3.024045      0.467071  \n",
       "min                 1.000000      0.000000  \n",
       "25%                 4.000000      0.000000  \n",
       "50%                 6.000000      1.000000  \n",
       "75%                 9.000000      1.000000  \n",
       "max                12.000000      1.000000  "
      ]
     },
     "execution_count": 34,
     "metadata": {},
     "output_type": "execute_result"
    }
   ],
   "source": [
    "new_df.describe()"
   ]
  },
  {
   "cell_type": "markdown",
   "id": "ffdc1555",
   "metadata": {},
   "source": [
    "# Univariance Analysis"
   ]
  },
  {
   "cell_type": "code",
   "execution_count": 35,
   "id": "7dcb34c4",
   "metadata": {},
   "outputs": [
    {
     "data": {
      "image/png": "[encoded data removed]",
      "text/plain": [
       "<Figure size 640x480 with 1 Axes>"
      ]
     },
     "metadata": {},
     "output_type": "display_data"
    }
   ],
   "source": [
    "plt.title('Univariance Analysis of age')\n",
    "sns.histplot(data=new_df,x='Age',kde=True,hue='target_label')\n",
    "plt.show()"
   ]
  },
  {
   "cell_type": "markdown",
   "id": "327834ca",
   "metadata": {},
   "source": [
    "# Analysis from age distribution\n",
    "\n",
    "1. Driver of age between 28 to 40 are contributing more in retention\n",
    "2. Driver of age between 25 to 40 are contributing more in churn."
   ]
  },
  {
   "cell_type": "code",
   "execution_count": 36,
   "id": "5332c65c",
   "metadata": {},
   "outputs": [
    {
     "data": {
      "image/png": "[encoded data removed]",
      "text/plain": [
       "<Figure size 640x480 with 1 Axes>"
      ]
     },
     "metadata": {},
     "output_type": "display_data"
    }
   ],
   "source": [
    "plt.title('Univariance Analysis of Gender')\n",
    "sns.countplot(data=new_df,x='Gender',hue='target_label')\n",
    "plt.show()"
   ]
  },
  {
   "cell_type": "markdown",
   "id": "e3743b0a",
   "metadata": {},
   "source": [
    "# Analysis of Gender distribution wrt to target\n",
    "\n",
    "It is observed that churn rate for both male and female is high."
   ]
  },
  {
   "cell_type": "code",
   "execution_count": 37,
   "id": "80c71f72",
   "metadata": {},
   "outputs": [
    {
     "data": {
      "text/html": [
       "<div>\n",
       "<style scoped>\n",
       "    .dataframe tbody tr th:only-of-type {\n",
       "        vertical-align: middle;\n",
       "    }\n",
       "\n",
       "    .dataframe tbody tr th {\n",
       "        vertical-align: top;\n",
       "    }\n",
       "\n",
       "    .dataframe thead th {\n",
       "        text-align: right;\n",
       "    }\n",
       "</style>\n",
       "<table border=\"1\" class=\"dataframe\">\n",
       "  <thead>\n",
       "    <tr style=\"text-align: right;\">\n",
       "      <th></th>\n",
       "      <th>Age</th>\n",
       "      <th>Gender</th>\n",
       "      <th>Education_Level</th>\n",
       "      <th>Income</th>\n",
       "      <th>Joining Designation</th>\n",
       "      <th>Grade</th>\n",
       "      <th>Total Business Value</th>\n",
       "      <th>Quarterly Rating</th>\n",
       "      <th>Reporting_Date_year</th>\n",
       "      <th>Reporting_Date_month</th>\n",
       "      <th>Last_Working_Date_year</th>\n",
       "      <th>Last_Working_Date_month</th>\n",
       "      <th>Date_of_joining_year</th>\n",
       "      <th>Date_of_joining_month</th>\n",
       "      <th>target_label</th>\n",
       "    </tr>\n",
       "  </thead>\n",
       "  <tbody>\n",
       "    <tr>\n",
       "      <th>0</th>\n",
       "      <td>28</td>\n",
       "      <td>0</td>\n",
       "      <td>2</td>\n",
       "      <td>57387</td>\n",
       "      <td>1</td>\n",
       "      <td>1</td>\n",
       "      <td>1715580</td>\n",
       "      <td>2</td>\n",
       "      <td>2019</td>\n",
       "      <td>3</td>\n",
       "      <td>2019</td>\n",
       "      <td>3</td>\n",
       "      <td>2018</td>\n",
       "      <td>3</td>\n",
       "      <td>1</td>\n",
       "    </tr>\n",
       "    <tr>\n",
       "      <th>1</th>\n",
       "      <td>31</td>\n",
       "      <td>0</td>\n",
       "      <td>2</td>\n",
       "      <td>67016</td>\n",
       "      <td>2</td>\n",
       "      <td>2</td>\n",
       "      <td>0</td>\n",
       "      <td>1</td>\n",
       "      <td>2020</td>\n",
       "      <td>12</td>\n",
       "      <td>2019</td>\n",
       "      <td>7</td>\n",
       "      <td>2020</td>\n",
       "      <td>7</td>\n",
       "      <td>0</td>\n",
       "    </tr>\n",
       "    <tr>\n",
       "      <th>2</th>\n",
       "      <td>43</td>\n",
       "      <td>0</td>\n",
       "      <td>2</td>\n",
       "      <td>65603</td>\n",
       "      <td>2</td>\n",
       "      <td>2</td>\n",
       "      <td>350000</td>\n",
       "      <td>1</td>\n",
       "      <td>2020</td>\n",
       "      <td>4</td>\n",
       "      <td>2020</td>\n",
       "      <td>4</td>\n",
       "      <td>2019</td>\n",
       "      <td>4</td>\n",
       "      <td>1</td>\n",
       "    </tr>\n",
       "    <tr>\n",
       "      <th>3</th>\n",
       "      <td>29</td>\n",
       "      <td>0</td>\n",
       "      <td>0</td>\n",
       "      <td>46368</td>\n",
       "      <td>1</td>\n",
       "      <td>1</td>\n",
       "      <td>120360</td>\n",
       "      <td>1</td>\n",
       "      <td>2019</td>\n",
       "      <td>3</td>\n",
       "      <td>2019</td>\n",
       "      <td>3</td>\n",
       "      <td>2019</td>\n",
       "      <td>3</td>\n",
       "      <td>1</td>\n",
       "    </tr>\n",
       "    <tr>\n",
       "      <th>4</th>\n",
       "      <td>31</td>\n",
       "      <td>1</td>\n",
       "      <td>1</td>\n",
       "      <td>78728</td>\n",
       "      <td>3</td>\n",
       "      <td>3</td>\n",
       "      <td>1265000</td>\n",
       "      <td>2</td>\n",
       "      <td>2020</td>\n",
       "      <td>12</td>\n",
       "      <td>2019</td>\n",
       "      <td>4</td>\n",
       "      <td>2020</td>\n",
       "      <td>4</td>\n",
       "      <td>0</td>\n",
       "    </tr>\n",
       "  </tbody>\n",
       "</table>\n",
       "</div>"
      ],
      "text/plain": [
       "   Age  Gender  Education_Level  Income  Joining Designation  Grade  \\\n",
       "0   28       0                2   57387                    1      1   \n",
       "1   31       0                2   67016                    2      2   \n",
       "2   43       0                2   65603                    2      2   \n",
       "3   29       0                0   46368                    1      1   \n",
       "4   31       1                1   78728                    3      3   \n",
       "\n",
       "   Total Business Value  Quarterly Rating  Reporting_Date_year  \\\n",
       "0               1715580                 2                 2019   \n",
       "1                     0                 1                 2020   \n",
       "2                350000                 1                 2020   \n",
       "3                120360                 1                 2019   \n",
       "4               1265000                 2                 2020   \n",
       "\n",
       "   Reporting_Date_month  Last_Working_Date_year  Last_Working_Date_month  \\\n",
       "0                     3                    2019                        3   \n",
       "1                    12                    2019                        7   \n",
       "2                     4                    2020                        4   \n",
       "3                     3                    2019                        3   \n",
       "4                    12                    2019                        4   \n",
       "\n",
       "   Date_of_joining_year  Date_of_joining_month  target_label  \n",
       "0                  2018                      3             1  \n",
       "1                  2020                      7             0  \n",
       "2                  2019                      4             1  \n",
       "3                  2019                      3             1  \n",
       "4                  2020                      4             0  "
      ]
     },
     "execution_count": 37,
     "metadata": {},
     "output_type": "execute_result"
    }
   ],
   "source": [
    "new_df.head()"
   ]
  },
  {
   "cell_type": "code",
   "execution_count": 38,
   "id": "94fa4eb8",
   "metadata": {},
   "outputs": [
    {
     "data": {
      "image/png": "[encoded data removed]",
      "text/plain": [
       "<Figure size 640x480 with 1 Axes>"
      ]
     },
     "metadata": {},
     "output_type": "display_data"
    }
   ],
   "source": [
    "plt.title('Univariance Analysis of Education_Level')\n",
    "plt.grid()\n",
    "sns.countplot(data=new_df,x='Education_Level',hue='target_label')\n",
    "plt.show()"
   ]
  },
  {
   "cell_type": "markdown",
   "id": "6717b7fc",
   "metadata": {},
   "source": [
    "1. According to observation 12+ education level population tend to retain in company.\n",
    "2. According to observation 10+ & graduate education level population tend to leave company soon."
   ]
  },
  {
   "cell_type": "code",
   "execution_count": 39,
   "id": "04b2d946",
   "metadata": {},
   "outputs": [
    {
     "data": {
      "image/png": "[encoded data removed]",
      "text/plain": [
       "<Figure size 640x480 with 1 Axes>"
      ]
     },
     "metadata": {},
     "output_type": "display_data"
    }
   ],
   "source": [
    "plt.title('Univariance Analysis of Income')\n",
    "sns.boxplot(data=new_df,x='Income',hue='target_label')\n",
    "plt.show()"
   ]
  },
  {
   "cell_type": "code",
   "execution_count": 40,
   "id": "1b2e4d0c",
   "metadata": {},
   "outputs": [],
   "source": [
    "income_val = new_df['Income']\n",
    "Q1,Q3 = income_val.quantile(0.25),income_val.quantile(0.75)\n",
    "IQR = Q3-Q1\n",
    "left_wisker = Q1-(1.5*IQR)\n",
    "right_wisker = Q3+(1.5*IQR)\n",
    "median_to_impute = np.median(new_df[((new_df['Income'] >= left_wisker) | (new_df['Income'] <= right_wisker))]['Income'])\n",
    "new_df.loc[((new_df['Income'] <= (left_wisker)) | (new_df['Income'] >=(right_wisker))), 'Income'] = median_to_impute"
   ]
  },
  {
   "cell_type": "code",
   "execution_count": 41,
   "id": "c232cd5d",
   "metadata": {},
   "outputs": [
    {
     "data": {
      "image/png": "[encoded data removed]",
      "text/plain": [
       "<Figure size 640x480 with 1 Axes>"
      ]
     },
     "metadata": {},
     "output_type": "display_data"
    }
   ],
   "source": [
    "plt.title('Univariance Analysis of Income after outlier treatment')\n",
    "sns.boxplot(data=new_df,x='Income')\n",
    "plt.show()"
   ]
  },
  {
   "cell_type": "code",
   "execution_count": 42,
   "id": "72b5f37a",
   "metadata": {},
   "outputs": [
    {
     "data": {
      "text/html": [
       "<div>\n",
       "<style scoped>\n",
       "    .dataframe tbody tr th:only-of-type {\n",
       "        vertical-align: middle;\n",
       "    }\n",
       "\n",
       "    .dataframe tbody tr th {\n",
       "        vertical-align: top;\n",
       "    }\n",
       "\n",
       "    .dataframe thead th {\n",
       "        text-align: right;\n",
       "    }\n",
       "</style>\n",
       "<table border=\"1\" class=\"dataframe\">\n",
       "  <thead>\n",
       "    <tr style=\"text-align: right;\">\n",
       "      <th></th>\n",
       "      <th>Age</th>\n",
       "      <th>Gender</th>\n",
       "      <th>Education_Level</th>\n",
       "      <th>Income</th>\n",
       "      <th>Joining Designation</th>\n",
       "      <th>Grade</th>\n",
       "      <th>Total Business Value</th>\n",
       "      <th>Quarterly Rating</th>\n",
       "      <th>Reporting_Date_year</th>\n",
       "      <th>Reporting_Date_month</th>\n",
       "      <th>Last_Working_Date_year</th>\n",
       "      <th>Last_Working_Date_month</th>\n",
       "      <th>Date_of_joining_year</th>\n",
       "      <th>Date_of_joining_month</th>\n",
       "      <th>target_label</th>\n",
       "    </tr>\n",
       "  </thead>\n",
       "  <tbody>\n",
       "    <tr>\n",
       "      <th>0</th>\n",
       "      <td>28</td>\n",
       "      <td>0</td>\n",
       "      <td>2</td>\n",
       "      <td>57387</td>\n",
       "      <td>1</td>\n",
       "      <td>1</td>\n",
       "      <td>1715580</td>\n",
       "      <td>2</td>\n",
       "      <td>2019</td>\n",
       "      <td>3</td>\n",
       "      <td>2019</td>\n",
       "      <td>3</td>\n",
       "      <td>2018</td>\n",
       "      <td>3</td>\n",
       "      <td>1</td>\n",
       "    </tr>\n",
       "    <tr>\n",
       "      <th>1</th>\n",
       "      <td>31</td>\n",
       "      <td>0</td>\n",
       "      <td>2</td>\n",
       "      <td>67016</td>\n",
       "      <td>2</td>\n",
       "      <td>2</td>\n",
       "      <td>0</td>\n",
       "      <td>1</td>\n",
       "      <td>2020</td>\n",
       "      <td>12</td>\n",
       "      <td>2019</td>\n",
       "      <td>7</td>\n",
       "      <td>2020</td>\n",
       "      <td>7</td>\n",
       "      <td>0</td>\n",
       "    </tr>\n",
       "    <tr>\n",
       "      <th>2</th>\n",
       "      <td>43</td>\n",
       "      <td>0</td>\n",
       "      <td>2</td>\n",
       "      <td>65603</td>\n",
       "      <td>2</td>\n",
       "      <td>2</td>\n",
       "      <td>350000</td>\n",
       "      <td>1</td>\n",
       "      <td>2020</td>\n",
       "      <td>4</td>\n",
       "      <td>2020</td>\n",
       "      <td>4</td>\n",
       "      <td>2019</td>\n",
       "      <td>4</td>\n",
       "      <td>1</td>\n",
       "    </tr>\n",
       "    <tr>\n",
       "      <th>3</th>\n",
       "      <td>29</td>\n",
       "      <td>0</td>\n",
       "      <td>0</td>\n",
       "      <td>46368</td>\n",
       "      <td>1</td>\n",
       "      <td>1</td>\n",
       "      <td>120360</td>\n",
       "      <td>1</td>\n",
       "      <td>2019</td>\n",
       "      <td>3</td>\n",
       "      <td>2019</td>\n",
       "      <td>3</td>\n",
       "      <td>2019</td>\n",
       "      <td>3</td>\n",
       "      <td>1</td>\n",
       "    </tr>\n",
       "    <tr>\n",
       "      <th>4</th>\n",
       "      <td>31</td>\n",
       "      <td>1</td>\n",
       "      <td>1</td>\n",
       "      <td>78728</td>\n",
       "      <td>3</td>\n",
       "      <td>3</td>\n",
       "      <td>1265000</td>\n",
       "      <td>2</td>\n",
       "      <td>2020</td>\n",
       "      <td>12</td>\n",
       "      <td>2019</td>\n",
       "      <td>4</td>\n",
       "      <td>2020</td>\n",
       "      <td>4</td>\n",
       "      <td>0</td>\n",
       "    </tr>\n",
       "  </tbody>\n",
       "</table>\n",
       "</div>"
      ],
      "text/plain": [
       "   Age  Gender  Education_Level  Income  Joining Designation  Grade  \\\n",
       "0   28       0                2   57387                    1      1   \n",
       "1   31       0                2   67016                    2      2   \n",
       "2   43       0                2   65603                    2      2   \n",
       "3   29       0                0   46368                    1      1   \n",
       "4   31       1                1   78728                    3      3   \n",
       "\n",
       "   Total Business Value  Quarterly Rating  Reporting_Date_year  \\\n",
       "0               1715580                 2                 2019   \n",
       "1                     0                 1                 2020   \n",
       "2                350000                 1                 2020   \n",
       "3                120360                 1                 2019   \n",
       "4               1265000                 2                 2020   \n",
       "\n",
       "   Reporting_Date_month  Last_Working_Date_year  Last_Working_Date_month  \\\n",
       "0                     3                    2019                        3   \n",
       "1                    12                    2019                        7   \n",
       "2                     4                    2020                        4   \n",
       "3                     3                    2019                        3   \n",
       "4                    12                    2019                        4   \n",
       "\n",
       "   Date_of_joining_year  Date_of_joining_month  target_label  \n",
       "0                  2018                      3             1  \n",
       "1                  2020                      7             0  \n",
       "2                  2019                      4             1  \n",
       "3                  2019                      3             1  \n",
       "4                  2020                      4             0  "
      ]
     },
     "execution_count": 42,
     "metadata": {},
     "output_type": "execute_result"
    }
   ],
   "source": [
    "new_df.head()"
   ]
  },
  {
   "cell_type": "code",
   "execution_count": 43,
   "id": "fd90b6e3",
   "metadata": {},
   "outputs": [
    {
     "data": {
      "image/png": "[encoded data removed]",
      "text/plain": [
       "<Figure size 640x480 with 1 Axes>"
      ]
     },
     "metadata": {},
     "output_type": "display_data"
    }
   ],
   "source": [
    "plt.title('Univariance Analysis of Joining Designation')\n",
    "sns.countplot(data=new_df,x='Joining Designation',hue='target_label')\n",
    "plt.show()"
   ]
  },
  {
   "cell_type": "markdown",
   "id": "dfdd7418",
   "metadata": {},
   "source": [
    "According to above observation drivers with joining designation 1,2,3 are more prone to leave organisation\n",
    "\n",
    "as compare to joining designation with 4 & 5."
   ]
  },
  {
   "cell_type": "code",
   "execution_count": 44,
   "id": "e5d1406e",
   "metadata": {},
   "outputs": [
    {
     "data": {
      "image/png": "[encoded data removed]",
      "text/plain": [
       "<Figure size 640x480 with 1 Axes>"
      ]
     },
     "metadata": {},
     "output_type": "display_data"
    }
   ],
   "source": [
    "plt.title('Univariance Analysis of Grade')\n",
    "sns.countplot(data=new_df,x='Grade',hue='target_label')\n",
    "plt.show()"
   ]
  },
  {
   "cell_type": "markdown",
   "id": "ef7fb5c9",
   "metadata": {},
   "source": [
    "Drivers with grade 1 and 2 are more prone to leave organisation as compare to 3,4,5 grade drivers."
   ]
  },
  {
   "cell_type": "code",
   "execution_count": 45,
   "id": "ecc82d35",
   "metadata": {},
   "outputs": [
    {
     "data": {
      "image/png": "[encoded data removed]",
      "text/plain": [
       "<Figure size 640x480 with 1 Axes>"
      ]
     },
     "metadata": {},
     "output_type": "display_data"
    }
   ],
   "source": [
    "plt.title('Univariance Analysis of Total Business Value before outlier treatment')\n",
    "sns.boxplot(data=new_df,x='Total Business Value')\n",
    "plt.show()"
   ]
  },
  {
   "cell_type": "code",
   "execution_count": 46,
   "id": "12178ea2",
   "metadata": {},
   "outputs": [],
   "source": [
    "income_val = new_df['Total Business Value']\n",
    "Q1,Q3 = income_val.quantile(0.25),income_val.quantile(0.75)\n",
    "IQR = Q3-Q1\n",
    "left_wisker = Q1-(1.5*IQR)\n",
    "right_wisker = Q3+(1.5*IQR)\n",
    "median_to_impute = np.median(new_df[((new_df['Total Business Value'] >= left_wisker) | (new_df['Total Business Value'] <= right_wisker))]['Total Business Value'])\n",
    "new_df.loc[((new_df['Total Business Value'] <= (left_wisker)) | (new_df['Total Business Value'] >=(right_wisker))), 'Total Business Value'] = median_to_impute"
   ]
  },
  {
   "cell_type": "code",
   "execution_count": 47,
   "id": "3195c451",
   "metadata": {},
   "outputs": [
    {
     "data": {
      "image/png": "[encoded data removed]",
      "text/plain": [
       "<Figure size 640x480 with 1 Axes>"
      ]
     },
     "metadata": {},
     "output_type": "display_data"
    }
   ],
   "source": [
    "plt.title('Univariance Analysis of Total Business Value after outlier treatment')\n",
    "sns.boxplot(data=new_df,x='Total Business Value')\n",
    "plt.show()"
   ]
  },
  {
   "cell_type": "code",
   "execution_count": 48,
   "id": "a4b5b8a6",
   "metadata": {},
   "outputs": [
    {
     "name": "stderr",
     "output_type": "stream",
     "text": [
      "C:\\Users\\gaura\\anaconda3\\envs\\tf_gpu\\lib\\site-packages\\IPython\\core\\pylabtools.py:151: UserWarning: Glyph 9 (\t) missing from current font.\n",
      "  fig.canvas.print_figure(bytes_io, **kw)\n"
     ]
    },
    {
     "data": {
      "image/png": "[encoded data removed]",
      "text/plain": [
       "<Figure size 640x480 with 1 Axes>"
      ]
     },
     "metadata": {},
     "output_type": "display_data"
    }
   ],
   "source": [
    "plt.title('Univariance Analysis of Quarterly Rating\t')\n",
    "sns.countplot(data=new_df,x='Quarterly Rating',hue='target_label')\n",
    "plt.show()"
   ]
  },
  {
   "cell_type": "markdown",
   "id": "1a33bfeb",
   "metadata": {},
   "source": [
    "Drivers with Quaterly rating as 1 has more probability of leaving organisation."
   ]
  },
  {
   "cell_type": "code",
   "execution_count": 49,
   "id": "08d99e20",
   "metadata": {},
   "outputs": [
    {
     "data": {
      "image/png": "[encoded data removed]",
      "text/plain": [
       "<Figure size 640x480 with 1 Axes>"
      ]
     },
     "metadata": {},
     "output_type": "display_data"
    }
   ],
   "source": [
    "plt.title('Univariance Analysis of target_label')\n",
    "sns.countplot(data=new_df,x='target_label')\n",
    "plt.show()"
   ]
  },
  {
   "cell_type": "code",
   "execution_count": 50,
   "id": "b78114d1",
   "metadata": {},
   "outputs": [
    {
     "data": {
      "text/plain": [
       "(2381, 15)"
      ]
     },
     "execution_count": 50,
     "metadata": {},
     "output_type": "execute_result"
    }
   ],
   "source": [
    "new_df.shape"
   ]
  },
  {
   "cell_type": "markdown",
   "id": "da6051c9",
   "metadata": {},
   "source": [
    "# Splitting data into train and test "
   ]
  },
  {
   "cell_type": "code",
   "execution_count": 51,
   "id": "73af1eb9",
   "metadata": {},
   "outputs": [],
   "source": [
    "X = new_df.loc[:,'Age':'Date_of_joining_month']\n",
    "Y = new_df['target_label']"
   ]
  },
  {
   "cell_type": "code",
   "execution_count": 52,
   "id": "3c0aa70b",
   "metadata": {},
   "outputs": [],
   "source": [
    "from sklearn.model_selection import train_test_split as tts,KFold,cross_validate\n",
    "from sklearn.ensemble import RandomForestClassifier"
   ]
  },
  {
   "cell_type": "code",
   "execution_count": 53,
   "id": "d3fdd75f",
   "metadata": {},
   "outputs": [],
   "source": [
    "xtrain,xtest,ytrain,ytest = tts(X,Y,test_size=0.39,random_state=0)"
   ]
  },
  {
   "cell_type": "code",
   "execution_count": 54,
   "id": "76b80744",
   "metadata": {},
   "outputs": [
    {
     "name": "stdout",
     "output_type": "stream",
     "text": [
      "xtrain_shape : (1452, 14) , xtest_shape : (929, 14) , ytrain_shape : (1452,) , ytest_shape : (929,)\n"
     ]
    }
   ],
   "source": [
    "print(f'xtrain_shape : {xtrain.shape} , xtest_shape : {xtest.shape} , ytrain_shape : {ytrain.shape} , ytest_shape : {ytest.shape}')"
   ]
  },
  {
   "cell_type": "markdown",
   "id": "ecbfda26",
   "metadata": {},
   "source": [
    "# Handling imbalance Class issue"
   ]
  },
  {
   "cell_type": "code",
   "execution_count": 55,
   "id": "312729bd",
   "metadata": {},
   "outputs": [],
   "source": [
    "from imblearn.combine import SMOTETomek\n",
    "from imblearn.over_sampling import ADASYN\n",
    "from collections import Counter"
   ]
  },
  {
   "cell_type": "code",
   "execution_count": 56,
   "id": "d1acbba4",
   "metadata": {},
   "outputs": [
    {
     "name": "stdout",
     "output_type": "stream",
     "text": [
      "Counter before imbalance class handling : Counter({1: 1013, 0: 439})\n"
     ]
    }
   ],
   "source": [
    "print(f'Counter before imbalance class handling : {Counter(ytrain)}')"
   ]
  },
  {
   "cell_type": "code",
   "execution_count": 57,
   "id": "1f732cf6",
   "metadata": {},
   "outputs": [],
   "source": [
    "smotek = ADASYN(sampling_strategy='minority')"
   ]
  },
  {
   "cell_type": "code",
   "execution_count": 58,
   "id": "15bab43b",
   "metadata": {},
   "outputs": [],
   "source": [
    "xtrain,ytrain = smotek.fit_resample(xtrain,ytrain)"
   ]
  },
  {
   "cell_type": "code",
   "execution_count": 59,
   "id": "7276c85b",
   "metadata": {},
   "outputs": [
    {
     "name": "stdout",
     "output_type": "stream",
     "text": [
      "Counter after imbalance class handling : Counter({1: 1013, 0: 960})\n"
     ]
    }
   ],
   "source": [
    "print(f'Counter after imbalance class handling : {Counter(ytrain)}')"
   ]
  },
  {
   "cell_type": "markdown",
   "id": "805a1154",
   "metadata": {},
   "source": [
    "# Train model without hyperparameters tuning"
   ]
  },
  {
   "cell_type": "code",
   "execution_count": 60,
   "id": "bbeda3e2",
   "metadata": {},
   "outputs": [
    {
     "data": {
      "text/html": [
       "<style>#sk-container-id-1 {color: black;background-color: white;}#sk-container-id-1 pre{padding: 0;}#sk-container-id-1 div.sk-toggleable {background-color: white;}#sk-container-id-1 label.sk-toggleable__label {cursor: pointer;display: block;width: 100%;margin-bottom: 0;padding: 0.3em;box-sizing: border-box;text-align: center;}#sk-container-id-1 label.sk-toggleable__label-arrow:before {content: \"▸\";float: left;margin-right: 0.25em;color: #696969;}#sk-container-id-1 label.sk-toggleable__label-arrow:hover:before {color: black;}#sk-container-id-1 div.sk-estimator:hover label.sk-toggleable__label-arrow:before {color: black;}#sk-container-id-1 div.sk-toggleable__content {max-height: 0;max-width: 0;overflow: hidden;text-align: left;background-color: #f0f8ff;}#sk-container-id-1 div.sk-toggleable__content pre {margin: 0.2em;color: black;border-radius: 0.25em;background-color: #f0f8ff;}#sk-container-id-1 input.sk-toggleable__control:checked~div.sk-toggleable__content {max-height: 200px;max-width: 100%;overflow: auto;}#sk-container-id-1 input.sk-toggleable__control:checked~label.sk-toggleable__label-arrow:before {content: \"▾\";}#sk-container-id-1 div.sk-estimator input.sk-toggleable__control:checked~label.sk-toggleable__label {background-color: #d4ebff;}#sk-container-id-1 div.sk-label input.sk-toggleable__control:checked~label.sk-toggleable__label {background-color: #d4ebff;}#sk-container-id-1 input.sk-hidden--visually {border: 0;clip: rect(1px 1px 1px 1px);clip: rect(1px, 1px, 1px, 1px);height: 1px;margin: -1px;overflow: hidden;padding: 0;position: absolute;width: 1px;}#sk-container-id-1 div.sk-estimator {font-family: monospace;background-color: #f0f8ff;border: 1px dotted black;border-radius: 0.25em;box-sizing: border-box;margin-bottom: 0.5em;}#sk-container-id-1 div.sk-estimator:hover {background-color: #d4ebff;}#sk-container-id-1 div.sk-parallel-item::after {content: \"\";width: 100%;border-bottom: 1px solid gray;flex-grow: 1;}#sk-container-id-1 div.sk-label:hover label.sk-toggleable__label {background-color: #d4ebff;}#sk-container-id-1 div.sk-serial::before {content: \"\";position: absolute;border-left: 1px solid gray;box-sizing: border-box;top: 0;bottom: 0;left: 50%;z-index: 0;}#sk-container-id-1 div.sk-serial {display: flex;flex-direction: column;align-items: center;background-color: white;padding-right: 0.2em;padding-left: 0.2em;position: relative;}#sk-container-id-1 div.sk-item {position: relative;z-index: 1;}#sk-container-id-1 div.sk-parallel {display: flex;align-items: stretch;justify-content: center;background-color: white;position: relative;}#sk-container-id-1 div.sk-item::before, #sk-container-id-1 div.sk-parallel-item::before {content: \"\";position: absolute;border-left: 1px solid gray;box-sizing: border-box;top: 0;bottom: 0;left: 50%;z-index: -1;}#sk-container-id-1 div.sk-parallel-item {display: flex;flex-direction: column;z-index: 1;position: relative;background-color: white;}#sk-container-id-1 div.sk-parallel-item:first-child::after {align-self: flex-end;width: 50%;}#sk-container-id-1 div.sk-parallel-item:last-child::after {align-self: flex-start;width: 50%;}#sk-container-id-1 div.sk-parallel-item:only-child::after {width: 0;}#sk-container-id-1 div.sk-dashed-wrapped {border: 1px dashed gray;margin: 0 0.4em 0.5em 0.4em;box-sizing: border-box;padding-bottom: 0.4em;background-color: white;}#sk-container-id-1 div.sk-label label {font-family: monospace;font-weight: bold;display: inline-block;line-height: 1.2em;}#sk-container-id-1 div.sk-label-container {text-align: center;}#sk-container-id-1 div.sk-container {/* jupyter's `normalize.less` sets `[hidden] { display: none; }` but bootstrap.min.css set `[hidden] { display: none !important; }` so we also need the `!important` here to be able to override the default hidden behavior on the sphinx rendered scikit-learn.org. See: https://github.com/scikit-learn/scikit-learn/issues/21755 */display: inline-block !important;position: relative;}#sk-container-id-1 div.sk-text-repr-fallback {display: none;}</style><div id=\"sk-container-id-1\" class=\"sk-top-container\"><div class=\"sk-text-repr-fallback\"><pre>RandomForestClassifier()</pre><b>In a Jupyter environment, please rerun this cell to show the HTML representation or trust the notebook. <br />On GitHub, the HTML representation is unable to render, please try loading this page with nbviewer.org.</b></div><div class=\"sk-container\" hidden><div class=\"sk-item\"><div class=\"sk-estimator sk-toggleable\"><input class=\"sk-toggleable__control sk-hidden--visually\" id=\"sk-estimator-id-1\" type=\"checkbox\" checked><label for=\"sk-estimator-id-1\" class=\"sk-toggleable__label sk-toggleable__label-arrow\">RandomForestClassifier</label><div class=\"sk-toggleable__content\"><pre>RandomForestClassifier()</pre></div></div></div></div></div>"
      ],
      "text/plain": [
       "RandomForestClassifier()"
      ]
     },
     "execution_count": 60,
     "metadata": {},
     "output_type": "execute_result"
    }
   ],
   "source": [
    "model = RandomForestClassifier()\n",
    "model.fit(xtrain,ytrain)"
   ]
  },
  {
   "cell_type": "code",
   "execution_count": 61,
   "id": "0a1b5887",
   "metadata": {},
   "outputs": [],
   "source": [
    "y_pred = model.predict(xtest)"
   ]
  },
  {
   "cell_type": "code",
   "execution_count": 62,
   "id": "9530297c",
   "metadata": {},
   "outputs": [],
   "source": [
    "from sklearn.metrics import classification_report,confusion_matrix,ConfusionMatrixDisplay,roc_auc_score,roc_curve,precision_recall_curve"
   ]
  },
  {
   "cell_type": "code",
   "execution_count": 63,
   "id": "84140dc2",
   "metadata": {},
   "outputs": [
    {
     "data": {
      "image/png": "[encoded data removed]",
      "text/plain": [
       "<Figure size 640x480 with 2 Axes>"
      ]
     },
     "metadata": {},
     "output_type": "display_data"
    }
   ],
   "source": [
    "ConfusionMatrixDisplay(confusion_matrix(ytest,y_pred)).plot()\n",
    "plt.show()"
   ]
  },
  {
   "cell_type": "code",
   "execution_count": 64,
   "id": "1ba9568d",
   "metadata": {},
   "outputs": [
    {
     "name": "stdout",
     "output_type": "stream",
     "text": [
      "training accuracy : 1.0, testing accuracy : 0.9956942949407965\n"
     ]
    }
   ],
   "source": [
    "print(f'training accuracy : {model.score(xtrain,ytrain)}, testing accuracy : {model.score(xtest,ytest)}')"
   ]
  },
  {
   "cell_type": "code",
   "execution_count": 65,
   "id": "1fdc29c3",
   "metadata": {},
   "outputs": [
    {
     "name": "stdout",
     "output_type": "stream",
     "text": [
      "              precision    recall  f1-score   support\n",
      "\n",
      "           0       1.00      0.99      0.99       326\n",
      "           1       0.99      1.00      1.00       603\n",
      "\n",
      "    accuracy                           1.00       929\n",
      "   macro avg       1.00      0.99      1.00       929\n",
      "weighted avg       1.00      1.00      1.00       929\n",
      "\n"
     ]
    }
   ],
   "source": [
    "print(classification_report(ytest,y_pred))"
   ]
  },
  {
   "cell_type": "code",
   "execution_count": 66,
   "id": "031597d5",
   "metadata": {},
   "outputs": [
    {
     "name": "stdout",
     "output_type": "stream",
     "text": [
      "model AUC_ROC score : 0.9981457741965021\n"
     ]
    }
   ],
   "source": [
    "print(f'model AUC_ROC score : {roc_auc_score(ytest, model.predict_proba(xtest)[:,1])}')"
   ]
  },
  {
   "cell_type": "code",
   "execution_count": 67,
   "id": "8ecba841",
   "metadata": {},
   "outputs": [
    {
     "data": {
      "image/png": "[encoded data removed]",
      "text/plain": [
       "<Figure size 640x480 with 1 Axes>"
      ]
     },
     "metadata": {},
     "output_type": "display_data"
    }
   ],
   "source": [
    "pred_prob=model.predict_proba(xtest)\n",
    "fpr, tpr, thr = roc_curve(ytest, pred_prob[:,1])\n",
    "\n",
    "plt.plot(fpr,tpr,'-')\n",
    "plt.title('ROC curve')\n",
    "plt.xlabel('FPR')\n",
    "plt.ylabel('TPR')\n",
    "plt.show()"
   ]
  },
  {
   "cell_type": "code",
   "execution_count": 68,
   "id": "4526b6b0",
   "metadata": {},
   "outputs": [
    {
     "data": {
      "image/png": "[encoded data removed]",
      "text/plain": [
       "<Figure size 640x480 with 1 Axes>"
      ]
     },
     "metadata": {},
     "output_type": "display_data"
    }
   ],
   "source": [
    "precision, recall, thr = precision_recall_curve(ytest, model.predict_proba(xtest)[:,1])\n",
    "plt.plot(recall, precision)\n",
    "plt.xlabel('Recall')\n",
    "plt.ylabel('Precision')\n",
    "plt.title('PR curve')\n",
    "plt.show()"
   ]
  },
  {
   "cell_type": "markdown",
   "id": "3e4429f1",
   "metadata": {},
   "source": [
    "# Training model through boosting algorithm"
   ]
  },
  {
   "cell_type": "code",
   "execution_count": 69,
   "id": "54753647",
   "metadata": {},
   "outputs": [],
   "source": [
    "from sklearn.ensemble import GradientBoostingClassifier"
   ]
  },
  {
   "cell_type": "code",
   "execution_count": 70,
   "id": "402b419c",
   "metadata": {},
   "outputs": [],
   "source": [
    "gbc = GradientBoostingClassifier(n_estimators=150, max_depth=2, loss = 'log_loss',verbose =1)"
   ]
  },
  {
   "cell_type": "code",
   "execution_count": 71,
   "id": "273742a1",
   "metadata": {},
   "outputs": [
    {
     "name": "stdout",
     "output_type": "stream",
     "text": [
      "      Iter       Train Loss   Remaining Time \n",
      "         1           1.2110            0.32s\n",
      "         2           1.0682            0.23s\n",
      "         3           0.9493            0.31s\n",
      "         4           0.8490            0.30s\n",
      "         5           0.7635            0.27s\n",
      "         6           0.6902            0.25s\n",
      "         7           0.6268            0.21s\n",
      "         8           0.5717            0.28s\n",
      "         9           0.5236            0.28s\n",
      "        10           0.4815            0.26s\n",
      "        20           0.2518            0.21s\n",
      "        30           0.1088            0.19s\n",
      "        40           0.0656            0.18s\n",
      "        50           0.0415            0.16s\n",
      "        60           0.0272            0.14s\n",
      "        70           0.0192            0.13s\n",
      "        80           0.0129            0.12s\n",
      "        90           0.0089            0.11s\n",
      "       100           0.0064            0.09s\n"
     ]
    },
    {
     "data": {
      "text/html": [
       "<style>#sk-container-id-2 {color: black;background-color: white;}#sk-container-id-2 pre{padding: 0;}#sk-container-id-2 div.sk-toggleable {background-color: white;}#sk-container-id-2 label.sk-toggleable__label {cursor: pointer;display: block;width: 100%;margin-bottom: 0;padding: 0.3em;box-sizing: border-box;text-align: center;}#sk-container-id-2 label.sk-toggleable__label-arrow:before {content: \"▸\";float: left;margin-right: 0.25em;color: #696969;}#sk-container-id-2 label.sk-toggleable__label-arrow:hover:before {color: black;}#sk-container-id-2 div.sk-estimator:hover label.sk-toggleable__label-arrow:before {color: black;}#sk-container-id-2 div.sk-toggleable__content {max-height: 0;max-width: 0;overflow: hidden;text-align: left;background-color: #f0f8ff;}#sk-container-id-2 div.sk-toggleable__content pre {margin: 0.2em;color: black;border-radius: 0.25em;background-color: #f0f8ff;}#sk-container-id-2 input.sk-toggleable__control:checked~div.sk-toggleable__content {max-height: 200px;max-width: 100%;overflow: auto;}#sk-container-id-2 input.sk-toggleable__control:checked~label.sk-toggleable__label-arrow:before {content: \"▾\";}#sk-container-id-2 div.sk-estimator input.sk-toggleable__control:checked~label.sk-toggleable__label {background-color: #d4ebff;}#sk-container-id-2 div.sk-label input.sk-toggleable__control:checked~label.sk-toggleable__label {background-color: #d4ebff;}#sk-container-id-2 input.sk-hidden--visually {border: 0;clip: rect(1px 1px 1px 1px);clip: rect(1px, 1px, 1px, 1px);height: 1px;margin: -1px;overflow: hidden;padding: 0;position: absolute;width: 1px;}#sk-container-id-2 div.sk-estimator {font-family: monospace;background-color: #f0f8ff;border: 1px dotted black;border-radius: 0.25em;box-sizing: border-box;margin-bottom: 0.5em;}#sk-container-id-2 div.sk-estimator:hover {background-color: #d4ebff;}#sk-container-id-2 div.sk-parallel-item::after {content: \"\";width: 100%;border-bottom: 1px solid gray;flex-grow: 1;}#sk-container-id-2 div.sk-label:hover label.sk-toggleable__label {background-color: #d4ebff;}#sk-container-id-2 div.sk-serial::before {content: \"\";position: absolute;border-left: 1px solid gray;box-sizing: border-box;top: 0;bottom: 0;left: 50%;z-index: 0;}#sk-container-id-2 div.sk-serial {display: flex;flex-direction: column;align-items: center;background-color: white;padding-right: 0.2em;padding-left: 0.2em;position: relative;}#sk-container-id-2 div.sk-item {position: relative;z-index: 1;}#sk-container-id-2 div.sk-parallel {display: flex;align-items: stretch;justify-content: center;background-color: white;position: relative;}#sk-container-id-2 div.sk-item::before, #sk-container-id-2 div.sk-parallel-item::before {content: \"\";position: absolute;border-left: 1px solid gray;box-sizing: border-box;top: 0;bottom: 0;left: 50%;z-index: -1;}#sk-container-id-2 div.sk-parallel-item {display: flex;flex-direction: column;z-index: 1;position: relative;background-color: white;}#sk-container-id-2 div.sk-parallel-item:first-child::after {align-self: flex-end;width: 50%;}#sk-container-id-2 div.sk-parallel-item:last-child::after {align-self: flex-start;width: 50%;}#sk-container-id-2 div.sk-parallel-item:only-child::after {width: 0;}#sk-container-id-2 div.sk-dashed-wrapped {border: 1px dashed gray;margin: 0 0.4em 0.5em 0.4em;box-sizing: border-box;padding-bottom: 0.4em;background-color: white;}#sk-container-id-2 div.sk-label label {font-family: monospace;font-weight: bold;display: inline-block;line-height: 1.2em;}#sk-container-id-2 div.sk-label-container {text-align: center;}#sk-container-id-2 div.sk-container {/* jupyter's `normalize.less` sets `[hidden] { display: none; }` but bootstrap.min.css set `[hidden] { display: none !important; }` so we also need the `!important` here to be able to override the default hidden behavior on the sphinx rendered scikit-learn.org. See: https://github.com/scikit-learn/scikit-learn/issues/21755 */display: inline-block !important;position: relative;}#sk-container-id-2 div.sk-text-repr-fallback {display: none;}</style><div id=\"sk-container-id-2\" class=\"sk-top-container\"><div class=\"sk-text-repr-fallback\"><pre>GradientBoostingClassifier(max_depth=2, n_estimators=150, verbose=1)</pre><b>In a Jupyter environment, please rerun this cell to show the HTML representation or trust the notebook. <br />On GitHub, the HTML representation is unable to render, please try loading this page with nbviewer.org.</b></div><div class=\"sk-container\" hidden><div class=\"sk-item\"><div class=\"sk-estimator sk-toggleable\"><input class=\"sk-toggleable__control sk-hidden--visually\" id=\"sk-estimator-id-2\" type=\"checkbox\" checked><label for=\"sk-estimator-id-2\" class=\"sk-toggleable__label sk-toggleable__label-arrow\">GradientBoostingClassifier</label><div class=\"sk-toggleable__content\"><pre>GradientBoostingClassifier(max_depth=2, n_estimators=150, verbose=1)</pre></div></div></div></div></div>"
      ],
      "text/plain": [
       "GradientBoostingClassifier(max_depth=2, n_estimators=150, verbose=1)"
      ]
     },
     "execution_count": 71,
     "metadata": {},
     "output_type": "execute_result"
    }
   ],
   "source": [
    "gbc.fit(xtrain,ytrain)"
   ]
  },
  {
   "cell_type": "code",
   "execution_count": 72,
   "id": "a9114ded",
   "metadata": {},
   "outputs": [
    {
     "name": "stdout",
     "output_type": "stream",
     "text": [
      "training accuracy : 1.0, testing accuracy : 0.9978471474703983\n"
     ]
    }
   ],
   "source": [
    "print(f'training accuracy : {gbc.score(xtrain,ytrain)}, testing accuracy : {gbc.score(xtest,ytest)}')"
   ]
  },
  {
   "cell_type": "code",
   "execution_count": 73,
   "id": "d714eeff",
   "metadata": {},
   "outputs": [],
   "source": [
    "y_pred = gbc.predict(xtest)"
   ]
  },
  {
   "cell_type": "code",
   "execution_count": 74,
   "id": "6f2df10c",
   "metadata": {},
   "outputs": [
    {
     "data": {
      "image/png": "[encoded data removed]",
      "text/plain": [
       "<Figure size 640x480 with 2 Axes>"
      ]
     },
     "metadata": {},
     "output_type": "display_data"
    }
   ],
   "source": [
    "ConfusionMatrixDisplay(confusion_matrix(ytest,y_pred)).plot()\n",
    "plt.show()"
   ]
  },
  {
   "cell_type": "code",
   "execution_count": 75,
   "id": "e2f3e4ae",
   "metadata": {},
   "outputs": [
    {
     "name": "stdout",
     "output_type": "stream",
     "text": [
      "              precision    recall  f1-score   support\n",
      "\n",
      "           0       1.00      0.99      1.00       326\n",
      "           1       1.00      1.00      1.00       603\n",
      "\n",
      "    accuracy                           1.00       929\n",
      "   macro avg       1.00      1.00      1.00       929\n",
      "weighted avg       1.00      1.00      1.00       929\n",
      "\n"
     ]
    }
   ],
   "source": [
    "print(classification_report(ytest,y_pred))"
   ]
  },
  {
   "cell_type": "code",
   "execution_count": 76,
   "id": "07a0e261",
   "metadata": {},
   "outputs": [
    {
     "name": "stdout",
     "output_type": "stream",
     "text": [
      "model AUC_ROC score : 0.9990080273479229\n"
     ]
    }
   ],
   "source": [
    "print(f'model AUC_ROC score : {roc_auc_score(ytest, gbc.predict_proba(xtest)[:,1])}')"
   ]
  },
  {
   "cell_type": "code",
   "execution_count": 77,
   "id": "9cbd0f54",
   "metadata": {},
   "outputs": [
    {
     "data": {
      "image/png": "[encoded data removed]",
      "text/plain": [
       "<Figure size 640x480 with 1 Axes>"
      ]
     },
     "metadata": {},
     "output_type": "display_data"
    }
   ],
   "source": [
    "pred_prob=gbc.predict_proba(xtest)\n",
    "fpr, tpr, thr = roc_curve(ytest, pred_prob[:,1])\n",
    "\n",
    "plt.plot(fpr,tpr,'-')\n",
    "plt.title('ROC curve')\n",
    "plt.xlabel('FPR')\n",
    "plt.ylabel('TPR')\n",
    "plt.show()"
   ]
  },
  {
   "cell_type": "code",
   "execution_count": 78,
   "id": "7cf1f35f",
   "metadata": {},
   "outputs": [
    {
     "data": {
      "image/png": "[encoded data removed]",
      "text/plain": [
       "<Figure size 640x480 with 1 Axes>"
      ]
     },
     "metadata": {},
     "output_type": "display_data"
    }
   ],
   "source": [
    "precision, recall, thr = precision_recall_curve(ytest, gbc.predict_proba(xtest)[:,1])\n",
    "plt.plot(recall, precision)\n",
    "plt.xlabel('Recall')\n",
    "plt.ylabel('Precision')\n",
    "plt.title('PR curve')\n",
    "plt.show()"
   ]
  },
  {
   "cell_type": "markdown",
   "id": "afd9f95c",
   "metadata": {},
   "source": [
    "# Actionable Insights & Recommendations"
   ]
  },
  {
   "cell_type": "markdown",
   "id": "8362c6d8",
   "metadata": {},
   "source": [
    "1. Business should focus more on drivers whose joining designation is in range of 1,2,3 they are more prone to leave company.\n",
    "\n",
    "2. Business should focus more on drivers whose grade is in range of 1,2,3 because they are more prone to leave company.\n",
    "\n",
    "3. Business should focus more on drivers whose rating is 1 because they are more prone to leave company.\n"
   ]
  },
  {
   "cell_type": "code",
   "execution_count": null,
   "id": "cef2ba5a",
   "metadata": {},
   "outputs": [],
   "source": []
  }
 ],
 "metadata": {
  "kernelspec": {
   "display_name": "Python 3 (ipykernel)",
   "language": "python",
   "name": "python3"
  },
  "language_info": {
   "codemirror_mode": {
    "name": "ipython",
    "version": 3
   },
   "file_extension": ".py",
   "mimetype": "text/x-python",
   "name": "python",
   "nbconvert_exporter": "python",
   "pygments_lexer": "ipython3",
   "version": "3.9.13"
  }
 },
 "nbformat": 4,
 "nbformat_minor": 5
}
