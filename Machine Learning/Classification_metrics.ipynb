{
 "cells": [
  {
   "cell_type": "code",
   "execution_count": 1,
   "id": "0898082a",
   "metadata": {},
   "outputs": [],
   "source": [
    "import numpy as np\n",
    "import pandas as pd"
   ]
  },
  {
   "cell_type": "code",
   "execution_count": 2,
   "id": "c83242c1",
   "metadata": {},
   "outputs": [],
   "source": [
    "data = pd.read_csv('pred_data.csv')"
   ]
  },
  {
   "cell_type": "code",
   "execution_count": 3,
   "id": "22f53ae6",
   "metadata": {},
   "outputs": [
    {
     "data": {
      "text/html": [
       "<div>\n",
       "<style scoped>\n",
       "    .dataframe tbody tr th:only-of-type {\n",
       "        vertical-align: middle;\n",
       "    }\n",
       "\n",
       "    .dataframe tbody tr th {\n",
       "        vertical-align: top;\n",
       "    }\n",
       "\n",
       "    .dataframe thead th {\n",
       "        text-align: right;\n",
       "    }\n",
       "</style>\n",
       "<table border=\"1\" class=\"dataframe\">\n",
       "  <thead>\n",
       "    <tr style=\"text-align: right;\">\n",
       "      <th></th>\n",
       "      <th>y</th>\n",
       "      <th>proba</th>\n",
       "    </tr>\n",
       "  </thead>\n",
       "  <tbody>\n",
       "    <tr>\n",
       "      <th>0</th>\n",
       "      <td>0.0</td>\n",
       "      <td>0.281035</td>\n",
       "    </tr>\n",
       "    <tr>\n",
       "      <th>1</th>\n",
       "      <td>0.0</td>\n",
       "      <td>0.465152</td>\n",
       "    </tr>\n",
       "    <tr>\n",
       "      <th>2</th>\n",
       "      <td>0.0</td>\n",
       "      <td>0.352793</td>\n",
       "    </tr>\n",
       "    <tr>\n",
       "      <th>3</th>\n",
       "      <td>0.0</td>\n",
       "      <td>0.157818</td>\n",
       "    </tr>\n",
       "    <tr>\n",
       "      <th>4</th>\n",
       "      <td>0.0</td>\n",
       "      <td>0.276648</td>\n",
       "    </tr>\n",
       "    <tr>\n",
       "      <th>...</th>\n",
       "      <td>...</td>\n",
       "      <td>...</td>\n",
       "    </tr>\n",
       "    <tr>\n",
       "      <th>10095</th>\n",
       "      <td>0.0</td>\n",
       "      <td>0.474401</td>\n",
       "    </tr>\n",
       "    <tr>\n",
       "      <th>10096</th>\n",
       "      <td>0.0</td>\n",
       "      <td>0.128403</td>\n",
       "    </tr>\n",
       "    <tr>\n",
       "      <th>10097</th>\n",
       "      <td>0.0</td>\n",
       "      <td>0.499331</td>\n",
       "    </tr>\n",
       "    <tr>\n",
       "      <th>10098</th>\n",
       "      <td>0.0</td>\n",
       "      <td>0.157616</td>\n",
       "    </tr>\n",
       "    <tr>\n",
       "      <th>10099</th>\n",
       "      <td>0.0</td>\n",
       "      <td>0.296618</td>\n",
       "    </tr>\n",
       "  </tbody>\n",
       "</table>\n",
       "<p>10100 rows × 2 columns</p>\n",
       "</div>"
      ],
      "text/plain": [
       "         y     proba\n",
       "0      0.0  0.281035\n",
       "1      0.0  0.465152\n",
       "2      0.0  0.352793\n",
       "3      0.0  0.157818\n",
       "4      0.0  0.276648\n",
       "...    ...       ...\n",
       "10095  0.0  0.474401\n",
       "10096  0.0  0.128403\n",
       "10097  0.0  0.499331\n",
       "10098  0.0  0.157616\n",
       "10099  0.0  0.296618\n",
       "\n",
       "[10100 rows x 2 columns]"
      ]
     },
     "execution_count": 3,
     "metadata": {},
     "output_type": "execute_result"
    }
   ],
   "source": [
    "data"
   ]
  },
  {
   "cell_type": "code",
   "execution_count": 5,
   "id": "608bfbcf",
   "metadata": {},
   "outputs": [
    {
     "data": {
      "text/plain": [
       "0.0    10000\n",
       "1.0      100\n",
       "Name: y, dtype: int64"
      ]
     },
     "execution_count": 5,
     "metadata": {},
     "output_type": "execute_result"
    }
   ],
   "source": [
    "data['y'].value_counts()"
   ]
  },
  {
   "cell_type": "code",
   "execution_count": 6,
   "id": "7b9a3d88",
   "metadata": {},
   "outputs": [],
   "source": [
    "data['y_pred'] = data['proba'].apply(lambda x: 0.0 if x < 0.5 else 1.0)"
   ]
  },
  {
   "cell_type": "code",
   "execution_count": 7,
   "id": "3a776642",
   "metadata": {},
   "outputs": [],
   "source": [
    "from sklearn.metrics import confusion_matrix , ConfusionMatrixDisplay"
   ]
  },
  {
   "cell_type": "code",
   "execution_count": 9,
   "id": "2b15a014",
   "metadata": {},
   "outputs": [
    {
     "data": {
      "text/plain": [
       "array([[9761,  239],\n",
       "       [  45,   55]], dtype=int64)"
      ]
     },
     "execution_count": 9,
     "metadata": {},
     "output_type": "execute_result"
    }
   ],
   "source": [
    "conf_matrix = confusion_matrix(data['y'],data['y_pred'])\n",
    "conf_matrix"
   ]
  },
  {
   "cell_type": "code",
   "execution_count": 11,
   "id": "ed6578d8",
   "metadata": {
    "scrolled": false
   },
   "outputs": [
    {
     "data": {
      "text/plain": [
       "<sklearn.metrics._plot.confusion_matrix.ConfusionMatrixDisplay at 0x228d3b6e190>"
      ]
     },
     "execution_count": 11,
     "metadata": {},
     "output_type": "execute_result"
    },
    {
     "data": {
      "image/png": "[encoded data removed]",
      "text/plain": [
       "<Figure size 640x480 with 2 Axes>"
      ]
     },
     "metadata": {},
     "output_type": "display_data"
    }
   ],
   "source": [
    "ConfusionMatrixDisplay(conf_matrix).plot()"
   ]
  },
  {
   "cell_type": "code",
   "execution_count": 14,
   "id": "89fd880a",
   "metadata": {},
   "outputs": [
    {
     "data": {
      "text/plain": [
       "0.9718811881188119"
      ]
     },
     "execution_count": 14,
     "metadata": {},
     "output_type": "execute_result"
    }
   ],
   "source": [
    "np.diag(conf_matrix).sum()/np.sum(conf_matrix)"
   ]
  },
  {
   "cell_type": "code",
   "execution_count": 15,
   "id": "64b47152",
   "metadata": {},
   "outputs": [],
   "source": [
    "y_pred = np.zeros(len(data['y']))"
   ]
  },
  {
   "cell_type": "code",
   "execution_count": 16,
   "id": "68daac0f",
   "metadata": {},
   "outputs": [
    {
     "data": {
      "text/plain": [
       "array([[10000,     0],\n",
       "       [  100,     0]], dtype=int64)"
      ]
     },
     "execution_count": 16,
     "metadata": {},
     "output_type": "execute_result"
    }
   ],
   "source": [
    "conf_matrix = confusion_matrix(data['y'],y_pred)\n",
    "conf_matrix"
   ]
  },
  {
   "cell_type": "code",
   "execution_count": 17,
   "id": "97df933c",
   "metadata": {},
   "outputs": [
    {
     "data": {
      "text/plain": [
       "<sklearn.metrics._plot.confusion_matrix.ConfusionMatrixDisplay at 0x228f3ed3820>"
      ]
     },
     "execution_count": 17,
     "metadata": {},
     "output_type": "execute_result"
    },
    {
     "data": {
      "image/png": "[encoded data removed]",
      "text/plain": [
       "<Figure size 640x480 with 2 Axes>"
      ]
     },
     "metadata": {},
     "output_type": "display_data"
    }
   ],
   "source": [
    "ConfusionMatrixDisplay(conf_matrix).plot()"
   ]
  },
  {
   "cell_type": "code",
   "execution_count": 24,
   "id": "7321f432",
   "metadata": {},
   "outputs": [
    {
     "name": "stdout",
     "output_type": "stream",
     "text": [
      "tp : 0\n",
      "pred_pos : 0.0001\n"
     ]
    }
   ],
   "source": [
    "# TP for class 1\n",
    "\n",
    "tp = conf_matrix[1,1]\n",
    "print(f'tp : {tp}')\n",
    "\n",
    "pred_pos = conf_matrix[:,1].sum() + 1e-4\n",
    "print(f'pred_pos : {pred_pos}')"
   ]
  },
  {
   "cell_type": "code",
   "execution_count": 25,
   "id": "8ad99061",
   "metadata": {},
   "outputs": [
    {
     "name": "stdout",
     "output_type": "stream",
     "text": [
      "0.0\n"
     ]
    }
   ],
   "source": [
    "precision = tp/pred_pos\n",
    "print(precision)"
   ]
  },
  {
   "cell_type": "code",
   "execution_count": 37,
   "id": "7c4503f5",
   "metadata": {},
   "outputs": [],
   "source": [
    "from sklearn.metrics import precision_score,recall_score,f1_score"
   ]
  },
  {
   "cell_type": "code",
   "execution_count": 27,
   "id": "9c5db2b9",
   "metadata": {},
   "outputs": [
    {
     "name": "stderr",
     "output_type": "stream",
     "text": [
      "C:\\Users\\gaura\\anaconda3\\envs\\tf_gpu\\lib\\site-packages\\sklearn\\metrics\\_classification.py:1344: UndefinedMetricWarning: Precision is ill-defined and being set to 0.0 due to no predicted samples. Use `zero_division` parameter to control this behavior.\n",
      "  _warn_prf(average, modifier, msg_start, len(result))\n"
     ]
    },
    {
     "data": {
      "text/plain": [
       "0.0"
      ]
     },
     "execution_count": 27,
     "metadata": {},
     "output_type": "execute_result"
    }
   ],
   "source": [
    "precision_score(data['y'],y_pred)"
   ]
  },
  {
   "cell_type": "code",
   "execution_count": 28,
   "id": "8017563c",
   "metadata": {},
   "outputs": [
    {
     "data": {
      "text/plain": [
       "0.1870748299319728"
      ]
     },
     "execution_count": 28,
     "metadata": {},
     "output_type": "execute_result"
    }
   ],
   "source": [
    "precision_score(data['y'],data['y_pred'])"
   ]
  },
  {
   "cell_type": "code",
   "execution_count": 31,
   "id": "94a4107f",
   "metadata": {},
   "outputs": [
    {
     "data": {
      "text/plain": [
       "0.55"
      ]
     },
     "execution_count": 31,
     "metadata": {},
     "output_type": "execute_result"
    }
   ],
   "source": [
    "recall_score(data['y'],data['y_pred']) # recall for random model"
   ]
  },
  {
   "cell_type": "code",
   "execution_count": 33,
   "id": "a60cce9c",
   "metadata": {},
   "outputs": [
    {
     "data": {
      "text/plain": [
       "0.0"
      ]
     },
     "execution_count": 33,
     "metadata": {},
     "output_type": "execute_result"
    }
   ],
   "source": [
    "recall_score(data['y'],y_pred) # recall for dumb model"
   ]
  },
  {
   "cell_type": "code",
   "execution_count": 36,
   "id": "eba5a43d",
   "metadata": {},
   "outputs": [
    {
     "name": "stdout",
     "output_type": "stream",
     "text": [
      "0.2791878172588833\n"
     ]
    }
   ],
   "source": [
    "precision = precision_score(data['y'],data['y_pred'])\n",
    "recall = recall_score(data['y'],data['y_pred'])\n",
    "f1_score = 2*(precision  * recall)/(precision  + recall)\n",
    "print(f1_score)"
   ]
  },
  {
   "cell_type": "code",
   "execution_count": 38,
   "id": "062fd16a",
   "metadata": {},
   "outputs": [
    {
     "data": {
      "text/plain": [
       "0.2791878172588833"
      ]
     },
     "execution_count": 38,
     "metadata": {},
     "output_type": "execute_result"
    }
   ],
   "source": [
    "f1_score(data['y'],data['y_pred'])"
   ]
  },
  {
   "cell_type": "code",
   "execution_count": 62,
   "id": "730cda61",
   "metadata": {},
   "outputs": [
    {
     "data": {
      "image/png": "[encoded data removed]",
      "text/plain": [
       "<Figure size 640x480 with 1 Axes>"
      ]
     },
     "metadata": {},
     "output_type": "display_data"
    }
   ],
   "source": [
    "from sklearn.metrics import roc_curve , roc_auc_score\n",
    "import matplotlib.pyplot as plt\n",
    "\n",
    "fpr , tpr , thr = roc_curve(data['y'],(data['proba']))\n",
    "plt.plot(fpr,tpr)\n",
    "plt.title('ROC Curve')\n",
    "plt.xlabel('FPR')\n",
    "plt.ylabel('TPR')\n",
    "plt.show()"
   ]
  },
  {
   "cell_type": "code",
   "execution_count": 64,
   "id": "8015b3a7",
   "metadata": {},
   "outputs": [
    {
     "data": {
      "image/png": "[encoded data removed]",
      "text/plain": [
       "<Figure size 640x480 with 1 Axes>"
      ]
     },
     "metadata": {},
     "output_type": "display_data"
    }
   ],
   "source": [
    "fpr_sq , tpr_sq , thr_sq = roc_curve(data['y'],np.sqrt(data['proba']))\n",
    "plt.plot(fpr_sq,tpr_sq)\n",
    "plt.title('ROC Curve')\n",
    "plt.xlabel('FPR')\n",
    "plt.ylabel('TPR')\n",
    "plt.show()"
   ]
  },
  {
   "cell_type": "code",
   "execution_count": 65,
   "id": "4347c8b3",
   "metadata": {},
   "outputs": [
    {
     "data": {
      "text/plain": [
       "array([ True,  True,  True,  True,  True,  True,  True,  True,  True,\n",
       "        True,  True,  True,  True,  True,  True,  True,  True,  True,\n",
       "        True,  True,  True,  True,  True,  True,  True,  True,  True,\n",
       "        True,  True,  True,  True,  True,  True,  True,  True,  True,\n",
       "        True,  True,  True,  True,  True,  True,  True,  True,  True,\n",
       "        True,  True,  True,  True,  True,  True,  True,  True,  True,\n",
       "        True,  True,  True,  True,  True,  True,  True,  True,  True,\n",
       "        True,  True,  True,  True,  True,  True,  True,  True,  True,\n",
       "        True,  True,  True,  True,  True,  True,  True,  True,  True,\n",
       "        True,  True,  True,  True,  True,  True,  True,  True,  True,\n",
       "        True,  True,  True,  True,  True,  True,  True,  True,  True,\n",
       "        True,  True,  True,  True,  True])"
      ]
     },
     "execution_count": 65,
     "metadata": {},
     "output_type": "execute_result"
    }
   ],
   "source": [
    "tpr == tpr_sq"
   ]
  },
  {
   "cell_type": "code",
   "execution_count": 60,
   "id": "59faced5",
   "metadata": {},
   "outputs": [
    {
     "name": "stdout",
     "output_type": "stream",
     "text": [
      "[1.7715531  0.7715531  0.71432814 0.71394953 0.71389608 0.71325391\n",
      " 0.71325139 0.7120658  0.71206154 0.70940231 0.70940182 0.70907156\n",
      " 0.70906691 0.70637292 0.70635671 0.70279895 0.70277595 0.70216988\n",
      " 0.7021417  0.70047245 0.70043409 0.70021581 0.70020477 0.69700636\n",
      " 0.69699647 0.6969732  0.69697309 0.69657481 0.69655972 0.69273865\n",
      " 0.69269717 0.69244343 0.69243399 0.69200814 0.69197555 0.69191275\n",
      " 0.69184243 0.69098958 0.69098953 0.69072087 0.69071486 0.69013265\n",
      " 0.69011697 0.68981094 0.68980844 0.68545814 0.68543927 0.68376124\n",
      " 0.6836989  0.68082746 0.68078603 0.68035598 0.68034531 0.68024794\n",
      " 0.68023714 0.67730079 0.6772911  0.67379399 0.67374726 0.67202695\n",
      " 0.67197687 0.66874281 0.66873238 0.66691798 0.66690013 0.66669108\n",
      " 0.6666811  0.66525459 0.66521555 0.66461566 0.66454564 0.6642888\n",
      " 0.66428466 0.66299236 0.66296217 0.66167337 0.66164379 0.66081228\n",
      " 0.66080731 0.66033734 0.66033155 0.65755896 0.65750362 0.65026315\n",
      " 0.65022303 0.64968187 0.64967183 0.64701293 0.64695285 0.64536174\n",
      " 0.64531753 0.64340006 0.64335422 0.64057901 0.64056789 0.63904295\n",
      " 0.63901245 0.63765162 0.6375869  0.63517612 0.63517087 0.6329563\n",
      " 0.63295362 0.31623   ]\n"
     ]
    }
   ],
   "source": [
    "print(thr)"
   ]
  },
  {
   "cell_type": "code",
   "execution_count": 61,
   "id": "01e62b6d",
   "metadata": {},
   "outputs": [
    {
     "data": {
      "image/png": "[encoded data removed]",
      "text/plain": [
       "<Figure size 640x480 with 1 Axes>"
      ]
     },
     "metadata": {},
     "output_type": "display_data"
    }
   ],
   "source": []
  },
  {
   "cell_type": "code",
   "execution_count": 44,
   "id": "2c9ad123",
   "metadata": {},
   "outputs": [
    {
     "data": {
      "text/plain": [
       "0.9377570000000001"
      ]
     },
     "execution_count": 44,
     "metadata": {},
     "output_type": "execute_result"
    }
   ],
   "source": [
    "roc_auc_score(data['y'],data['proba'])"
   ]
  },
  {
   "cell_type": "code",
   "execution_count": 45,
   "id": "b6a22273",
   "metadata": {},
   "outputs": [],
   "source": [
    "from sklearn.metrics import precision_recall_curve , auc"
   ]
  },
  {
   "cell_type": "code",
   "execution_count": 46,
   "id": "16cabedb",
   "metadata": {},
   "outputs": [],
   "source": [
    "precision , recall , thr = precision_recall_curve(data['y'],data['proba'])"
   ]
  },
  {
   "cell_type": "code",
   "execution_count": 48,
   "id": "6af6090b",
   "metadata": {},
   "outputs": [
    {
     "name": "stdout",
     "output_type": "stream",
     "text": [
      "[0.10000141 0.1001608  0.10016508 ... 0.59219787 0.5948084  0.59529418] 10100\n"
     ]
    }
   ],
   "source": [
    "print(thr,len(thr))"
   ]
  },
  {
   "cell_type": "code",
   "execution_count": 50,
   "id": "1df2d8e4",
   "metadata": {},
   "outputs": [
    {
     "data": {
      "image/png": "[encoded data removed]",
      "text/plain": [
       "<Figure size 640x480 with 1 Axes>"
      ]
     },
     "metadata": {},
     "output_type": "display_data"
    }
   ],
   "source": [
    "plt.plot(recall,precision)\n",
    "plt.title('P_R Curve')\n",
    "plt.xlabel('recall')\n",
    "plt.ylabel('precision')\n",
    "plt.show()"
   ]
  },
  {
   "cell_type": "code",
   "execution_count": 52,
   "id": "07ef0f87",
   "metadata": {},
   "outputs": [
    {
     "data": {
      "text/plain": [
       "0.554765146410734"
      ]
     },
     "execution_count": 52,
     "metadata": {},
     "output_type": "execute_result"
    }
   ],
   "source": [
    "auc(recall,precision)"
   ]
  },
  {
   "cell_type": "code",
   "execution_count": null,
   "id": "701688ab",
   "metadata": {},
   "outputs": [],
   "source": []
  }
 ],
 "metadata": {
  "kernelspec": {
   "display_name": "Python 3 (ipykernel)",
   "language": "python",
   "name": "python3"
  },
  "language_info": {
   "codemirror_mode": {
    "name": "ipython",
    "version": 3
   },
   "file_extension": ".py",
   "mimetype": "text/x-python",
   "name": "python",
   "nbconvert_exporter": "python",
   "pygments_lexer": "ipython3",
   "version": "3.9.13"
  }
 },
 "nbformat": 4,
 "nbformat_minor": 5
}
