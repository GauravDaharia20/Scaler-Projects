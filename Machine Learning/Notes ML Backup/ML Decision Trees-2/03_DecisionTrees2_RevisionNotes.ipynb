{
  "nbformat": 4,
  "nbformat_minor": 0,
  "metadata": {
    "colab": {
      "provenance": []
    },
    "kernelspec": {
      "name": "python3",
      "display_name": "Python 3"
    },
    "language_info": {
      "name": "python"
    }
  },
  "cells": [
    {
      "cell_type": "markdown",
      "source": [
        "## Content"
      ],
      "metadata": {
        "id": "7i1zqyfM2QTN"
      }
    },
    {
      "cell_type": "markdown",
      "source": [
        "- **DT intuition**\n",
        "\n",
        "- **How to split the nodes?**\n",
        "\n",
        "- **Entropy**\n",
        "\n",
        "- **Building a DT intuition**\n",
        "\n",
        "- **Visualizing the process of building DT**\n",
        "\n",
        "- **Scratch impl of DT (optional) - Post read**\n",
        "\n",
        "- **Sklearn implementation**\n"
      ],
      "metadata": {
        "id": "QWUSV6ds2gJS"
      }
    },
    {
      "cell_type": "markdown",
      "source": [
        "## UseCase Intro: Employee Attrition\n",
        "### You are a Data Scientist working at a Jio\n",
        "\n",
        "- The company is facing a huge problem of employee attrition\n",
        "- Your task is to help the company find a solution to this problem.\n",
        "\n",
        "#### Why is attrition a problem?\n",
        "\n",
        "  - A new employee asks for more compensation\n",
        "  - Training of new employees\n",
        "  - Lots of time and resources required for searching a new candidate\n",
        "\n",
        "#### What can be done to solve the problem ?\n",
        "\n",
        "1. Identify the employees who may leave in future.\n",
        "  - Targeted approaches can be undertaken to retain such employees.\n",
        "  - These might include addressing their problems with the company and so on ...\n",
        "\n",
        "2. Help identify the key indicators/factors leading to an employee leaving.\n",
        "  - #### What all reasons can you think of contributing to attrition ?\n",
        "    - Forcing employees to come to office daily\n",
        "    - Unhealthy culture etc\n",
        "  - Identifying these key factors helps in taking better measures to improve employee retention"
      ],
      "metadata": {
        "id": "mPrwn9Ek-tj3"
      }
    },
    {
      "cell_type": "markdown",
      "source": [
        "#### Dataset"
      ],
      "metadata": {
        "id": "D3Z6hPcW-1n7"
      }
    },
    {
      "cell_type": "code",
      "source": [
        "import numpy as np\n",
        "import pandas as pd\n",
        "import matplotlib.pyplot as plt\n",
        "import io"
      ],
      "metadata": {
        "id": "0Fmutqcs-7Dm"
      },
      "execution_count": null,
      "outputs": []
    },
    {
      "cell_type": "code",
      "execution_count": null,
      "metadata": {
        "colab": {
          "base_uri": "https://localhost:8080/"
        },
        "id": "tC34Fdu3vlNr",
        "outputId": "5d8b9065-1eee-421c-9813-06cbbf5fa907"
      },
      "outputs": [
        {
          "output_type": "stream",
          "name": "stdout",
          "text": [
            "Downloading...\n",
            "From: https://drive.google.com/uc?id=16KtxSt_QEGQvfluEaMls5cCHPwhRXgCk\n",
            "To: /content/HR-Employee-Attrition.csv\n",
            "\r  0% 0.00/228k [00:00<?, ?B/s]\r100% 228k/228k [00:00<00:00, 91.6MB/s]\n"
          ]
        }
      ],
      "source": [
        "!gdown 16KtxSt_QEGQvfluEaMls5cCHPwhRXgCk"
      ]
    },
    {
      "cell_type": "code",
      "execution_count": null,
      "metadata": {
        "colab": {
          "base_uri": "https://localhost:8080/"
        },
        "id": "mvn-Bc7ywh6z",
        "outputId": "90caaf3d-7752-47d0-d034-843c57d2f73a"
      },
      "outputs": [
        {
          "output_type": "stream",
          "name": "stdout",
          "text": [
            "<class 'pandas.core.frame.DataFrame'>\n",
            "RangeIndex: 1470 entries, 0 to 1469\n",
            "Data columns (total 35 columns):\n",
            " #   Column                    Non-Null Count  Dtype \n",
            "---  ------                    --------------  ----- \n",
            " 0   Age                       1470 non-null   int64 \n",
            " 1   Attrition                 1470 non-null   object\n",
            " 2   BusinessTravel            1470 non-null   object\n",
            " 3   DailyRate                 1470 non-null   int64 \n",
            " 4   Department                1470 non-null   object\n",
            " 5   DistanceFromHome          1470 non-null   int64 \n",
            " 6   Education                 1470 non-null   int64 \n",
            " 7   EducationField            1470 non-null   object\n",
            " 8   EmployeeCount             1470 non-null   int64 \n",
            " 9   EmployeeNumber            1470 non-null   int64 \n",
            " 10  EnvironmentSatisfaction   1470 non-null   int64 \n",
            " 11  Gender                    1470 non-null   object\n",
            " 12  HourlyRate                1470 non-null   int64 \n",
            " 13  JobInvolvement            1470 non-null   int64 \n",
            " 14  JobLevel                  1470 non-null   int64 \n",
            " 15  JobRole                   1470 non-null   object\n",
            " 16  JobSatisfaction           1470 non-null   int64 \n",
            " 17  MaritalStatus             1470 non-null   object\n",
            " 18  MonthlyIncome             1470 non-null   int64 \n",
            " 19  MonthlyRate               1470 non-null   int64 \n",
            " 20  NumCompaniesWorked        1470 non-null   int64 \n",
            " 21  Over18                    1470 non-null   object\n",
            " 22  OverTime                  1470 non-null   object\n",
            " 23  PercentSalaryHike         1470 non-null   int64 \n",
            " 24  PerformanceRating         1470 non-null   int64 \n",
            " 25  RelationshipSatisfaction  1470 non-null   int64 \n",
            " 26  StandardHours             1470 non-null   int64 \n",
            " 27  StockOptionLevel          1470 non-null   int64 \n",
            " 28  TotalWorkingYears         1470 non-null   int64 \n",
            " 29  TrainingTimesLastYear     1470 non-null   int64 \n",
            " 30  WorkLifeBalance           1470 non-null   int64 \n",
            " 31  YearsAtCompany            1470 non-null   int64 \n",
            " 32  YearsInCurrentRole        1470 non-null   int64 \n",
            " 33  YearsSinceLastPromotion   1470 non-null   int64 \n",
            " 34  YearsWithCurrManager      1470 non-null   int64 \n",
            "dtypes: int64(26), object(9)\n",
            "memory usage: 402.1+ KB\n"
          ]
        }
      ],
      "source": [
        "df = pd.read_csv(\"HR-Employee-Attrition.csv\")\n",
        "df.info()"
      ]
    },
    {
      "cell_type": "code",
      "execution_count": null,
      "metadata": {
        "colab": {
          "base_uri": "https://localhost:8080/",
          "height": 369
        },
        "id": "7aoTdNEKwj0c",
        "outputId": "fbb63948-d643-497a-ea1d-823e78f8b74d"
      },
      "outputs": [
        {
          "output_type": "execute_result",
          "data": {
            "text/plain": [
              "   Age Attrition     BusinessTravel  DailyRate              Department  \\\n",
              "0   41       Yes      Travel_Rarely       1102                   Sales   \n",
              "1   49        No  Travel_Frequently        279  Research & Development   \n",
              "2   37       Yes      Travel_Rarely       1373  Research & Development   \n",
              "3   33        No  Travel_Frequently       1392  Research & Development   \n",
              "4   27        No      Travel_Rarely        591  Research & Development   \n",
              "\n",
              "   DistanceFromHome  Education EducationField  EmployeeCount  EmployeeNumber  \\\n",
              "0                 1          2  Life Sciences              1               1   \n",
              "1                 8          1  Life Sciences              1               2   \n",
              "2                 2          2          Other              1               4   \n",
              "3                 3          4  Life Sciences              1               5   \n",
              "4                 2          1        Medical              1               7   \n",
              "\n",
              "   ...  RelationshipSatisfaction StandardHours  StockOptionLevel  \\\n",
              "0  ...                         1            80                 0   \n",
              "1  ...                         4            80                 1   \n",
              "2  ...                         2            80                 0   \n",
              "3  ...                         3            80                 0   \n",
              "4  ...                         4            80                 1   \n",
              "\n",
              "   TotalWorkingYears  TrainingTimesLastYear WorkLifeBalance  YearsAtCompany  \\\n",
              "0                  8                      0               1               6   \n",
              "1                 10                      3               3              10   \n",
              "2                  7                      3               3               0   \n",
              "3                  8                      3               3               8   \n",
              "4                  6                      3               3               2   \n",
              "\n",
              "  YearsInCurrentRole  YearsSinceLastPromotion  YearsWithCurrManager  \n",
              "0                  4                        0                     5  \n",
              "1                  7                        1                     7  \n",
              "2                  0                        0                     0  \n",
              "3                  7                        3                     0  \n",
              "4                  2                        2                     2  \n",
              "\n",
              "[5 rows x 35 columns]"
            ],
            "text/html": [
              "\n",
              "  <div id=\"df-121669ab-734f-4a0d-a339-42ed7bff9b2e\">\n",
              "    <div class=\"colab-df-container\">\n",
              "      <div>\n",
              "<style scoped>\n",
              "    .dataframe tbody tr th:only-of-type {\n",
              "        vertical-align: middle;\n",
              "    }\n",
              "\n",
              "    .dataframe tbody tr th {\n",
              "        vertical-align: top;\n",
              "    }\n",
              "\n",
              "    .dataframe thead th {\n",
              "        text-align: right;\n",
              "    }\n",
              "</style>\n",
              "<table border=\"1\" class=\"dataframe\">\n",
              "  <thead>\n",
              "    <tr style=\"text-align: right;\">\n",
              "      <th></th>\n",
              "      <th>Age</th>\n",
              "      <th>Attrition</th>\n",
              "      <th>BusinessTravel</th>\n",
              "      <th>DailyRate</th>\n",
              "      <th>Department</th>\n",
              "      <th>DistanceFromHome</th>\n",
              "      <th>Education</th>\n",
              "      <th>EducationField</th>\n",
              "      <th>EmployeeCount</th>\n",
              "      <th>EmployeeNumber</th>\n",
              "      <th>...</th>\n",
              "      <th>RelationshipSatisfaction</th>\n",
              "      <th>StandardHours</th>\n",
              "      <th>StockOptionLevel</th>\n",
              "      <th>TotalWorkingYears</th>\n",
              "      <th>TrainingTimesLastYear</th>\n",
              "      <th>WorkLifeBalance</th>\n",
              "      <th>YearsAtCompany</th>\n",
              "      <th>YearsInCurrentRole</th>\n",
              "      <th>YearsSinceLastPromotion</th>\n",
              "      <th>YearsWithCurrManager</th>\n",
              "    </tr>\n",
              "  </thead>\n",
              "  <tbody>\n",
              "    <tr>\n",
              "      <th>0</th>\n",
              "      <td>41</td>\n",
              "      <td>Yes</td>\n",
              "      <td>Travel_Rarely</td>\n",
              "      <td>1102</td>\n",
              "      <td>Sales</td>\n",
              "      <td>1</td>\n",
              "      <td>2</td>\n",
              "      <td>Life Sciences</td>\n",
              "      <td>1</td>\n",
              "      <td>1</td>\n",
              "      <td>...</td>\n",
              "      <td>1</td>\n",
              "      <td>80</td>\n",
              "      <td>0</td>\n",
              "      <td>8</td>\n",
              "      <td>0</td>\n",
              "      <td>1</td>\n",
              "      <td>6</td>\n",
              "      <td>4</td>\n",
              "      <td>0</td>\n",
              "      <td>5</td>\n",
              "    </tr>\n",
              "    <tr>\n",
              "      <th>1</th>\n",
              "      <td>49</td>\n",
              "      <td>No</td>\n",
              "      <td>Travel_Frequently</td>\n",
              "      <td>279</td>\n",
              "      <td>Research &amp; Development</td>\n",
              "      <td>8</td>\n",
              "      <td>1</td>\n",
              "      <td>Life Sciences</td>\n",
              "      <td>1</td>\n",
              "      <td>2</td>\n",
              "      <td>...</td>\n",
              "      <td>4</td>\n",
              "      <td>80</td>\n",
              "      <td>1</td>\n",
              "      <td>10</td>\n",
              "      <td>3</td>\n",
              "      <td>3</td>\n",
              "      <td>10</td>\n",
              "      <td>7</td>\n",
              "      <td>1</td>\n",
              "      <td>7</td>\n",
              "    </tr>\n",
              "    <tr>\n",
              "      <th>2</th>\n",
              "      <td>37</td>\n",
              "      <td>Yes</td>\n",
              "      <td>Travel_Rarely</td>\n",
              "      <td>1373</td>\n",
              "      <td>Research &amp; Development</td>\n",
              "      <td>2</td>\n",
              "      <td>2</td>\n",
              "      <td>Other</td>\n",
              "      <td>1</td>\n",
              "      <td>4</td>\n",
              "      <td>...</td>\n",
              "      <td>2</td>\n",
              "      <td>80</td>\n",
              "      <td>0</td>\n",
              "      <td>7</td>\n",
              "      <td>3</td>\n",
              "      <td>3</td>\n",
              "      <td>0</td>\n",
              "      <td>0</td>\n",
              "      <td>0</td>\n",
              "      <td>0</td>\n",
              "    </tr>\n",
              "    <tr>\n",
              "      <th>3</th>\n",
              "      <td>33</td>\n",
              "      <td>No</td>\n",
              "      <td>Travel_Frequently</td>\n",
              "      <td>1392</td>\n",
              "      <td>Research &amp; Development</td>\n",
              "      <td>3</td>\n",
              "      <td>4</td>\n",
              "      <td>Life Sciences</td>\n",
              "      <td>1</td>\n",
              "      <td>5</td>\n",
              "      <td>...</td>\n",
              "      <td>3</td>\n",
              "      <td>80</td>\n",
              "      <td>0</td>\n",
              "      <td>8</td>\n",
              "      <td>3</td>\n",
              "      <td>3</td>\n",
              "      <td>8</td>\n",
              "      <td>7</td>\n",
              "      <td>3</td>\n",
              "      <td>0</td>\n",
              "    </tr>\n",
              "    <tr>\n",
              "      <th>4</th>\n",
              "      <td>27</td>\n",
              "      <td>No</td>\n",
              "      <td>Travel_Rarely</td>\n",
              "      <td>591</td>\n",
              "      <td>Research &amp; Development</td>\n",
              "      <td>2</td>\n",
              "      <td>1</td>\n",
              "      <td>Medical</td>\n",
              "      <td>1</td>\n",
              "      <td>7</td>\n",
              "      <td>...</td>\n",
              "      <td>4</td>\n",
              "      <td>80</td>\n",
              "      <td>1</td>\n",
              "      <td>6</td>\n",
              "      <td>3</td>\n",
              "      <td>3</td>\n",
              "      <td>2</td>\n",
              "      <td>2</td>\n",
              "      <td>2</td>\n",
              "      <td>2</td>\n",
              "    </tr>\n",
              "  </tbody>\n",
              "</table>\n",
              "<p>5 rows × 35 columns</p>\n",
              "</div>\n",
              "      <button class=\"colab-df-convert\" onclick=\"convertToInteractive('df-121669ab-734f-4a0d-a339-42ed7bff9b2e')\"\n",
              "              title=\"Convert this dataframe to an interactive table.\"\n",
              "              style=\"display:none;\">\n",
              "        \n",
              "  <svg xmlns=\"http://www.w3.org/2000/svg\" height=\"24px\"viewBox=\"0 0 24 24\"\n",
              "       width=\"24px\">\n",
              "    <path d=\"M0 0h24v24H0V0z\" fill=\"none\"/>\n",
              "    <path d=\"M18.56 5.44l.94 2.06.94-2.06 2.06-.94-2.06-.94-.94-2.06-.94 2.06-2.06.94zm-11 1L8.5 8.5l.94-2.06 2.06-.94-2.06-.94L8.5 2.5l-.94 2.06-2.06.94zm10 10l.94 2.06.94-2.06 2.06-.94-2.06-.94-.94-2.06-.94 2.06-2.06.94z\"/><path d=\"M17.41 7.96l-1.37-1.37c-.4-.4-.92-.59-1.43-.59-.52 0-1.04.2-1.43.59L10.3 9.45l-7.72 7.72c-.78.78-.78 2.05 0 2.83L4 21.41c.39.39.9.59 1.41.59.51 0 1.02-.2 1.41-.59l7.78-7.78 2.81-2.81c.8-.78.8-2.07 0-2.86zM5.41 20L4 18.59l7.72-7.72 1.47 1.35L5.41 20z\"/>\n",
              "  </svg>\n",
              "      </button>\n",
              "      \n",
              "  <style>\n",
              "    .colab-df-container {\n",
              "      display:flex;\n",
              "      flex-wrap:wrap;\n",
              "      gap: 12px;\n",
              "    }\n",
              "\n",
              "    .colab-df-convert {\n",
              "      background-color: #E8F0FE;\n",
              "      border: none;\n",
              "      border-radius: 50%;\n",
              "      cursor: pointer;\n",
              "      display: none;\n",
              "      fill: #1967D2;\n",
              "      height: 32px;\n",
              "      padding: 0 0 0 0;\n",
              "      width: 32px;\n",
              "    }\n",
              "\n",
              "    .colab-df-convert:hover {\n",
              "      background-color: #E2EBFA;\n",
              "      box-shadow: 0px 1px 2px rgba(60, 64, 67, 0.3), 0px 1px 3px 1px rgba(60, 64, 67, 0.15);\n",
              "      fill: #174EA6;\n",
              "    }\n",
              "\n",
              "    [theme=dark] .colab-df-convert {\n",
              "      background-color: #3B4455;\n",
              "      fill: #D2E3FC;\n",
              "    }\n",
              "\n",
              "    [theme=dark] .colab-df-convert:hover {\n",
              "      background-color: #434B5C;\n",
              "      box-shadow: 0px 1px 3px 1px rgba(0, 0, 0, 0.15);\n",
              "      filter: drop-shadow(0px 1px 2px rgba(0, 0, 0, 0.3));\n",
              "      fill: #FFFFFF;\n",
              "    }\n",
              "  </style>\n",
              "\n",
              "      <script>\n",
              "        const buttonEl =\n",
              "          document.querySelector('#df-121669ab-734f-4a0d-a339-42ed7bff9b2e button.colab-df-convert');\n",
              "        buttonEl.style.display =\n",
              "          google.colab.kernel.accessAllowed ? 'block' : 'none';\n",
              "\n",
              "        async function convertToInteractive(key) {\n",
              "          const element = document.querySelector('#df-121669ab-734f-4a0d-a339-42ed7bff9b2e');\n",
              "          const dataTable =\n",
              "            await google.colab.kernel.invokeFunction('convertToInteractive',\n",
              "                                                     [key], {});\n",
              "          if (!dataTable) return;\n",
              "\n",
              "          const docLinkHtml = 'Like what you see? Visit the ' +\n",
              "            '<a target=\"_blank\" href=https://colab.research.google.com/notebooks/data_table.ipynb>data table notebook</a>'\n",
              "            + ' to learn more about interactive tables.';\n",
              "          element.innerHTML = '';\n",
              "          dataTable['output_type'] = 'display_data';\n",
              "          await google.colab.output.renderOutput(dataTable, element);\n",
              "          const docLink = document.createElement('div');\n",
              "          docLink.innerHTML = docLinkHtml;\n",
              "          element.appendChild(docLink);\n",
              "        }\n",
              "      </script>\n",
              "    </div>\n",
              "  </div>\n",
              "  "
            ]
          },
          "metadata": {},
          "execution_count": 4
        }
      ],
      "source": [
        "df.head()\n"
      ]
    },
    {
      "cell_type": "markdown",
      "source": [
        "#### Summary of EDA and Preprocessing"
      ],
      "metadata": {
        "id": "rni4T_uYNASO"
      }
    },
    {
      "cell_type": "markdown",
      "source": [
        "<center><img src='https://drive.google.com/uc?id=1T1y2z8iVyZViUuOlEYlo9YETMoq_N9qd' width=600>\n"
      ],
      "metadata": {
        "id": "1mYd1vq_NFQu"
      }
    },
    {
      "cell_type": "markdown",
      "source": [
        "<center><img src='https://drive.google.com/uc?id=1HBd8-c4JDSqyHtFljx88EChNjsV1Qx6b' width=600>\n",
        "\n"
      ],
      "metadata": {
        "id": "SpV3KJIKNZu4"
      }
    },
    {
      "cell_type": "markdown",
      "source": [
        "We perform EDA followed by preprocessing on the data which is covered in the post read"
      ],
      "metadata": {
        "id": "FI5j49ax_mJC"
      }
    },
    {
      "cell_type": "markdown",
      "source": [
        "#### Post Read - Employee Attrition Usecase"
      ],
      "metadata": {
        "id": "4kN-CtX5qvPw"
      }
    },
    {
      "cell_type": "markdown",
      "source": [
        "Employee EDA: https://colab.research.google.com/drive/1OdxmAv5q-92ll5Jf8XrDYQp-4-mitgC8?usp=sharing"
      ],
      "metadata": {
        "id": "v2zV2pdhsBnM"
      }
    },
    {
      "cell_type": "markdown",
      "source": [
        "#### Final dataset after preprocessing"
      ],
      "metadata": {
        "id": "mP2Tbsq9_J-L"
      }
    },
    {
      "cell_type": "code",
      "execution_count": null,
      "metadata": {
        "colab": {
          "base_uri": "https://localhost:8080/"
        },
        "id": "YK15a4m5aZmd",
        "outputId": "19891123-0fa7-47f1-c411-dd0210b1c10f"
      },
      "outputs": [
        {
          "output_type": "stream",
          "name": "stdout",
          "text": [
            "Downloading...\n",
            "From: https://drive.google.com/uc?id=19L3rYatfhbBL1r5MHrv-p_oM2wlvrhqk\n",
            "To: /content/preprocessed_X_sm.pickle\n",
            "100% 534k/534k [00:00<00:00, 129MB/s]\n",
            "Downloading...\n",
            "From: https://drive.google.com/uc?id=1OHLKJwA3qZopKPvlKoRldM6BvA1A4dYF\n",
            "To: /content/X_test.pickle\n",
            "100% 111k/111k [00:00<00:00, 94.9MB/s]\n",
            "Downloading...\n",
            "From: https://drive.google.com/uc?id=1N7O_fWCTJLu8SIa_paKcDEzllgpMk8sK\n",
            "To: /content/y_sm.pickle\n",
            "100% 15.4k/15.4k [00:00<00:00, 68.9MB/s]\n",
            "Downloading...\n",
            "From: https://drive.google.com/uc?id=12Bh2AN8LcZAlg20ehpQrEWccUDaSdsOG\n",
            "To: /content/y_test.pickle\n",
            "100% 9.49k/9.49k [00:00<00:00, 35.7MB/s]\n"
          ]
        }
      ],
      "source": [
        "!gdown 19L3rYatfhbBL1r5MHrv-p_oM2wlvrhqk\n",
        "!gdown 1OHLKJwA3qZopKPvlKoRldM6BvA1A4dYF\n",
        "!gdown 1N7O_fWCTJLu8SIa_paKcDEzllgpMk8sK\n",
        "!gdown 12Bh2AN8LcZAlg20ehpQrEWccUDaSdsOG"
      ]
    },
    {
      "cell_type": "code",
      "execution_count": null,
      "metadata": {
        "id": "lLOv-ppuaas8"
      },
      "outputs": [],
      "source": [
        "import pickle\n",
        "# Load data (deserialize)\n",
        "with open('preprocessed_X_sm.pickle', 'rb') as handle:\n",
        "    X_train = pickle.load(handle)\n",
        "\n",
        "with open('X_test.pickle', 'rb') as handle:\n",
        "    X_test = pickle.load(handle)\n",
        "\n",
        "with open('y_sm.pickle', 'rb') as handle:\n",
        "    y_train = pickle.load(handle)\n",
        "\n",
        "with open('y_test.pickle', 'rb') as handle:\n",
        "    y_test = pickle.load(handle)"
      ]
    },
    {
      "cell_type": "code",
      "source": [
        "# train data shape\n",
        "X_train.shape"
      ],
      "metadata": {
        "colab": {
          "base_uri": "https://localhost:8080/"
        },
        "id": "zSHckkrE_sas",
        "outputId": "adfee6c3-55f9-45fe-9130-c879b4e7e7ec"
      },
      "execution_count": null,
      "outputs": [
        {
          "output_type": "execute_result",
          "data": {
            "text/plain": [
              "(1848, 36)"
            ]
          },
          "metadata": {},
          "execution_count": 7
        }
      ]
    },
    {
      "cell_type": "code",
      "source": [
        "# test data shape\n",
        "X_test.shape"
      ],
      "metadata": {
        "colab": {
          "base_uri": "https://localhost:8080/"
        },
        "id": "H_mW0cGL_wvK",
        "outputId": "a556b441-bd03-4d16-dead-7f92390b5f3e"
      },
      "execution_count": null,
      "outputs": [
        {
          "output_type": "execute_result",
          "data": {
            "text/plain": [
              "(368, 36)"
            ]
          },
          "metadata": {},
          "execution_count": 8
        }
      ]
    },
    {
      "cell_type": "code",
      "source": [
        "X_train.head()"
      ],
      "metadata": {
        "colab": {
          "base_uri": "https://localhost:8080/",
          "height": 317
        },
        "id": "tcv9d6Oz_z6M",
        "outputId": "1b367e44-8339-4089-9a73-b905f0300b98"
      },
      "execution_count": null,
      "outputs": [
        {
          "output_type": "execute_result",
          "data": {
            "text/plain": [
              "   Age  DailyRate  DistanceFromHome  Education  EducationField  \\\n",
              "0   36       1174                 3          4        0.233871   \n",
              "1   21        546                 5          1        0.127479   \n",
              "2   43        422                 1          3        0.151584   \n",
              "3   42        188                29          3        0.127479   \n",
              "4   35        992                 1          3        0.127479   \n",
              "\n",
              "   EnvironmentSatisfaction  Gender  HourlyRate  JobInvolvement  JobLevel  ...  \\\n",
              "0                        1       0          99               3         2  ...   \n",
              "1                        3       1          97               3         1  ...   \n",
              "2                        4       0          33               3         2  ...   \n",
              "3                        2       1          56               1         2  ...   \n",
              "4                        4       1          68               2         1  ...   \n",
              "\n",
              "   YearsWithCurrManager  BusinessTravel_Non-Travel  \\\n",
              "0                     1                        0.0   \n",
              "1                     2                        0.0   \n",
              "2                     2                        0.0   \n",
              "3                     0                        0.0   \n",
              "4                     2                        0.0   \n",
              "\n",
              "   BusinessTravel_Travel_Frequently  BusinessTravel_Travel_Rarely  \\\n",
              "0                               0.0                           1.0   \n",
              "1                               0.0                           1.0   \n",
              "2                               1.0                           0.0   \n",
              "3                               0.0                           1.0   \n",
              "4                               0.0                           1.0   \n",
              "\n",
              "   Department_Human Resources  Department_Research & Development  \\\n",
              "0                         0.0                                0.0   \n",
              "1                         0.0                                1.0   \n",
              "2                         0.0                                1.0   \n",
              "3                         0.0                                1.0   \n",
              "4                         0.0                                1.0   \n",
              "\n",
              "   Department_Sales  MaritalStatus_Divorced  MaritalStatus_Married  \\\n",
              "0               1.0                     0.0                    0.0   \n",
              "1               0.0                     0.0                    0.0   \n",
              "2               0.0                     0.0                    1.0   \n",
              "3               0.0                     0.0                    0.0   \n",
              "4               0.0                     0.0                    0.0   \n",
              "\n",
              "   MaritalStatus_Single  \n",
              "0                   1.0  \n",
              "1                   1.0  \n",
              "2                   0.0  \n",
              "3                   1.0  \n",
              "4                   1.0  \n",
              "\n",
              "[5 rows x 36 columns]"
            ],
            "text/html": [
              "\n",
              "  <div id=\"df-07a990d6-20e5-4e45-9f96-4ae1c5edea93\">\n",
              "    <div class=\"colab-df-container\">\n",
              "      <div>\n",
              "<style scoped>\n",
              "    .dataframe tbody tr th:only-of-type {\n",
              "        vertical-align: middle;\n",
              "    }\n",
              "\n",
              "    .dataframe tbody tr th {\n",
              "        vertical-align: top;\n",
              "    }\n",
              "\n",
              "    .dataframe thead th {\n",
              "        text-align: right;\n",
              "    }\n",
              "</style>\n",
              "<table border=\"1\" class=\"dataframe\">\n",
              "  <thead>\n",
              "    <tr style=\"text-align: right;\">\n",
              "      <th></th>\n",
              "      <th>Age</th>\n",
              "      <th>DailyRate</th>\n",
              "      <th>DistanceFromHome</th>\n",
              "      <th>Education</th>\n",
              "      <th>EducationField</th>\n",
              "      <th>EnvironmentSatisfaction</th>\n",
              "      <th>Gender</th>\n",
              "      <th>HourlyRate</th>\n",
              "      <th>JobInvolvement</th>\n",
              "      <th>JobLevel</th>\n",
              "      <th>...</th>\n",
              "      <th>YearsWithCurrManager</th>\n",
              "      <th>BusinessTravel_Non-Travel</th>\n",
              "      <th>BusinessTravel_Travel_Frequently</th>\n",
              "      <th>BusinessTravel_Travel_Rarely</th>\n",
              "      <th>Department_Human Resources</th>\n",
              "      <th>Department_Research &amp; Development</th>\n",
              "      <th>Department_Sales</th>\n",
              "      <th>MaritalStatus_Divorced</th>\n",
              "      <th>MaritalStatus_Married</th>\n",
              "      <th>MaritalStatus_Single</th>\n",
              "    </tr>\n",
              "  </thead>\n",
              "  <tbody>\n",
              "    <tr>\n",
              "      <th>0</th>\n",
              "      <td>36</td>\n",
              "      <td>1174</td>\n",
              "      <td>3</td>\n",
              "      <td>4</td>\n",
              "      <td>0.233871</td>\n",
              "      <td>1</td>\n",
              "      <td>0</td>\n",
              "      <td>99</td>\n",
              "      <td>3</td>\n",
              "      <td>2</td>\n",
              "      <td>...</td>\n",
              "      <td>1</td>\n",
              "      <td>0.0</td>\n",
              "      <td>0.0</td>\n",
              "      <td>1.0</td>\n",
              "      <td>0.0</td>\n",
              "      <td>0.0</td>\n",
              "      <td>1.0</td>\n",
              "      <td>0.0</td>\n",
              "      <td>0.0</td>\n",
              "      <td>1.0</td>\n",
              "    </tr>\n",
              "    <tr>\n",
              "      <th>1</th>\n",
              "      <td>21</td>\n",
              "      <td>546</td>\n",
              "      <td>5</td>\n",
              "      <td>1</td>\n",
              "      <td>0.127479</td>\n",
              "      <td>3</td>\n",
              "      <td>1</td>\n",
              "      <td>97</td>\n",
              "      <td>3</td>\n",
              "      <td>1</td>\n",
              "      <td>...</td>\n",
              "      <td>2</td>\n",
              "      <td>0.0</td>\n",
              "      <td>0.0</td>\n",
              "      <td>1.0</td>\n",
              "      <td>0.0</td>\n",
              "      <td>1.0</td>\n",
              "      <td>0.0</td>\n",
              "      <td>0.0</td>\n",
              "      <td>0.0</td>\n",
              "      <td>1.0</td>\n",
              "    </tr>\n",
              "    <tr>\n",
              "      <th>2</th>\n",
              "      <td>43</td>\n",
              "      <td>422</td>\n",
              "      <td>1</td>\n",
              "      <td>3</td>\n",
              "      <td>0.151584</td>\n",
              "      <td>4</td>\n",
              "      <td>0</td>\n",
              "      <td>33</td>\n",
              "      <td>3</td>\n",
              "      <td>2</td>\n",
              "      <td>...</td>\n",
              "      <td>2</td>\n",
              "      <td>0.0</td>\n",
              "      <td>1.0</td>\n",
              "      <td>0.0</td>\n",
              "      <td>0.0</td>\n",
              "      <td>1.0</td>\n",
              "      <td>0.0</td>\n",
              "      <td>0.0</td>\n",
              "      <td>1.0</td>\n",
              "      <td>0.0</td>\n",
              "    </tr>\n",
              "    <tr>\n",
              "      <th>3</th>\n",
              "      <td>42</td>\n",
              "      <td>188</td>\n",
              "      <td>29</td>\n",
              "      <td>3</td>\n",
              "      <td>0.127479</td>\n",
              "      <td>2</td>\n",
              "      <td>1</td>\n",
              "      <td>56</td>\n",
              "      <td>1</td>\n",
              "      <td>2</td>\n",
              "      <td>...</td>\n",
              "      <td>0</td>\n",
              "      <td>0.0</td>\n",
              "      <td>0.0</td>\n",
              "      <td>1.0</td>\n",
              "      <td>0.0</td>\n",
              "      <td>1.0</td>\n",
              "      <td>0.0</td>\n",
              "      <td>0.0</td>\n",
              "      <td>0.0</td>\n",
              "      <td>1.0</td>\n",
              "    </tr>\n",
              "    <tr>\n",
              "      <th>4</th>\n",
              "      <td>35</td>\n",
              "      <td>992</td>\n",
              "      <td>1</td>\n",
              "      <td>3</td>\n",
              "      <td>0.127479</td>\n",
              "      <td>4</td>\n",
              "      <td>1</td>\n",
              "      <td>68</td>\n",
              "      <td>2</td>\n",
              "      <td>1</td>\n",
              "      <td>...</td>\n",
              "      <td>2</td>\n",
              "      <td>0.0</td>\n",
              "      <td>0.0</td>\n",
              "      <td>1.0</td>\n",
              "      <td>0.0</td>\n",
              "      <td>1.0</td>\n",
              "      <td>0.0</td>\n",
              "      <td>0.0</td>\n",
              "      <td>0.0</td>\n",
              "      <td>1.0</td>\n",
              "    </tr>\n",
              "  </tbody>\n",
              "</table>\n",
              "<p>5 rows × 36 columns</p>\n",
              "</div>\n",
              "      <button class=\"colab-df-convert\" onclick=\"convertToInteractive('df-07a990d6-20e5-4e45-9f96-4ae1c5edea93')\"\n",
              "              title=\"Convert this dataframe to an interactive table.\"\n",
              "              style=\"display:none;\">\n",
              "        \n",
              "  <svg xmlns=\"http://www.w3.org/2000/svg\" height=\"24px\"viewBox=\"0 0 24 24\"\n",
              "       width=\"24px\">\n",
              "    <path d=\"M0 0h24v24H0V0z\" fill=\"none\"/>\n",
              "    <path d=\"M18.56 5.44l.94 2.06.94-2.06 2.06-.94-2.06-.94-.94-2.06-.94 2.06-2.06.94zm-11 1L8.5 8.5l.94-2.06 2.06-.94-2.06-.94L8.5 2.5l-.94 2.06-2.06.94zm10 10l.94 2.06.94-2.06 2.06-.94-2.06-.94-.94-2.06-.94 2.06-2.06.94z\"/><path d=\"M17.41 7.96l-1.37-1.37c-.4-.4-.92-.59-1.43-.59-.52 0-1.04.2-1.43.59L10.3 9.45l-7.72 7.72c-.78.78-.78 2.05 0 2.83L4 21.41c.39.39.9.59 1.41.59.51 0 1.02-.2 1.41-.59l7.78-7.78 2.81-2.81c.8-.78.8-2.07 0-2.86zM5.41 20L4 18.59l7.72-7.72 1.47 1.35L5.41 20z\"/>\n",
              "  </svg>\n",
              "      </button>\n",
              "      \n",
              "  <style>\n",
              "    .colab-df-container {\n",
              "      display:flex;\n",
              "      flex-wrap:wrap;\n",
              "      gap: 12px;\n",
              "    }\n",
              "\n",
              "    .colab-df-convert {\n",
              "      background-color: #E8F0FE;\n",
              "      border: none;\n",
              "      border-radius: 50%;\n",
              "      cursor: pointer;\n",
              "      display: none;\n",
              "      fill: #1967D2;\n",
              "      height: 32px;\n",
              "      padding: 0 0 0 0;\n",
              "      width: 32px;\n",
              "    }\n",
              "\n",
              "    .colab-df-convert:hover {\n",
              "      background-color: #E2EBFA;\n",
              "      box-shadow: 0px 1px 2px rgba(60, 64, 67, 0.3), 0px 1px 3px 1px rgba(60, 64, 67, 0.15);\n",
              "      fill: #174EA6;\n",
              "    }\n",
              "\n",
              "    [theme=dark] .colab-df-convert {\n",
              "      background-color: #3B4455;\n",
              "      fill: #D2E3FC;\n",
              "    }\n",
              "\n",
              "    [theme=dark] .colab-df-convert:hover {\n",
              "      background-color: #434B5C;\n",
              "      box-shadow: 0px 1px 3px 1px rgba(0, 0, 0, 0.15);\n",
              "      filter: drop-shadow(0px 1px 2px rgba(0, 0, 0, 0.3));\n",
              "      fill: #FFFFFF;\n",
              "    }\n",
              "  </style>\n",
              "\n",
              "      <script>\n",
              "        const buttonEl =\n",
              "          document.querySelector('#df-07a990d6-20e5-4e45-9f96-4ae1c5edea93 button.colab-df-convert');\n",
              "        buttonEl.style.display =\n",
              "          google.colab.kernel.accessAllowed ? 'block' : 'none';\n",
              "\n",
              "        async function convertToInteractive(key) {\n",
              "          const element = document.querySelector('#df-07a990d6-20e5-4e45-9f96-4ae1c5edea93');\n",
              "          const dataTable =\n",
              "            await google.colab.kernel.invokeFunction('convertToInteractive',\n",
              "                                                     [key], {});\n",
              "          if (!dataTable) return;\n",
              "\n",
              "          const docLinkHtml = 'Like what you see? Visit the ' +\n",
              "            '<a target=\"_blank\" href=https://colab.research.google.com/notebooks/data_table.ipynb>data table notebook</a>'\n",
              "            + ' to learn more about interactive tables.';\n",
              "          element.innerHTML = '';\n",
              "          dataTable['output_type'] = 'display_data';\n",
              "          await google.colab.output.renderOutput(dataTable, element);\n",
              "          const docLink = document.createElement('div');\n",
              "          docLink.innerHTML = docLinkHtml;\n",
              "          element.appendChild(docLink);\n",
              "        }\n",
              "      </script>\n",
              "    </div>\n",
              "  </div>\n",
              "  "
            ]
          },
          "metadata": {},
          "execution_count": 9
        }
      ]
    },
    {
      "cell_type": "markdown",
      "source": [
        "## Entropy"
      ],
      "metadata": {
        "id": "whcJ7OtlEwmo"
      }
    },
    {
      "cell_type": "markdown",
      "source": [
        "Entropy is used to **measure the impurity** not purity\n",
        "- i.e. it measures the hetrogenity of the node.\n",
        "\n",
        "\n",
        "Fun fact:\n",
        "- The concept of entropy comes from basic probability/ information theory\n",
        "- where it is used to measure the randomness.\n",
        "\n",
        "So,\n",
        "\n",
        "More the hetrogenity in the node,\n",
        "- larger the value of entropy will be and vice versa.\n",
        "\n",
        "\n",
        "\n",
        "\n"
      ],
      "metadata": {
        "id": "RUyJogmyF76I"
      }
    },
    {
      "cell_type": "markdown",
      "source": [
        "```\n",
        "Quiz 7 - Try it yourself\n",
        "\n",
        "In which of the cases will the entropy be minimum ?\n",
        "\n",
        "A. A node will all datapoints belonging to one class only\n",
        "B. Node with datapoints belonging to both class\n",
        "C. Node with 100 datapoints with one datapoint belonging to positive and rest belonging to other class\n",
        "D. Entropy is independent of proportion of datapoints in the node.\n",
        "\n",
        "\n",
        "Ans: A. A node will all datapoints belonging to one class only\n",
        "\n",
        "\n",
        "```"
      ],
      "metadata": {
        "id": "dEDThyiTHXlm"
      }
    },
    {
      "cell_type": "markdown",
      "source": [
        "Since we want the **nodes** to be **pure**,\n",
        "- we want **entropy** as **low** as possible."
      ],
      "metadata": {
        "id": "O69aRi5OHl3T"
      }
    },
    {
      "cell_type": "markdown",
      "source": [
        "Let's look into the fomulation of Entropy"
      ],
      "metadata": {
        "id": "oC-gYqP2Xh6T"
      }
    },
    {
      "cell_type": "markdown",
      "source": [
        "### Entropy formulation"
      ],
      "metadata": {
        "id": "zd-tyGSnX2Or"
      }
    },
    {
      "cell_type": "markdown",
      "source": [
        "Say, Y be a **discrete random variable**.\n",
        "\n",
        "- it can take **k discrete values** i.e y ∈ {$y_1, y_2, y_3, ..., y_k$}\n",
        "\n",
        "\n",
        "#### How many discrete values of y do we have in employee attrition problem ?\n",
        "\n",
        "Since, there are **two classes** (churn or stay),\n",
        "- we have two discrete values for y in this case."
      ],
      "metadata": {
        "id": "T4vgJCAHX3wv"
      }
    },
    {
      "cell_type": "markdown",
      "source": [
        "The formulation is given as:\n",
        "\n"
      ],
      "metadata": {
        "id": "XBWuwbRNYKFX"
      }
    },
    {
      "cell_type": "markdown",
      "source": [
        "<center><img src='https://drive.google.com/uc?id=1x1wfT0y6auF3NlpWcCMeFPIWeqHueLZT' width=600>\n"
      ],
      "metadata": {
        "id": "R1-ii1y2YwB4"
      }
    },
    {
      "cell_type": "markdown",
      "source": [
        "#### What will be the entropy for our binary case classification problem ?"
      ],
      "metadata": {
        "id": "OT1Ag6pwaAyt"
      }
    },
    {
      "cell_type": "markdown",
      "source": [
        "<center><img src='https://drive.google.com/uc?id=1lHAGUBjV0TqdfAFqLGL9Q7-y7o_CfL_1' width=700>\n",
        "\n",
        "\n"
      ],
      "metadata": {
        "id": "PDULOOd7aNMR"
      }
    },
    {
      "cell_type": "markdown",
      "source": [
        "Let's try to understand entropy for binary class case using an example"
      ],
      "metadata": {
        "id": "lQ8k-i0KdrRP"
      }
    },
    {
      "cell_type": "markdown",
      "source": [
        "Say, we have 4 jars.\n",
        "- Each jar is filled with balls\n",
        "\n",
        "Balls are of two colors\n",
        "- Red ball\n",
        "- Blue ball\n",
        "\n"
      ],
      "metadata": {
        "id": "UOu1WBTfbB-U"
      }
    },
    {
      "cell_type": "markdown",
      "source": [
        "<center><img src='https://drive.google.com/uc?id=1AUz2RQgzVfgGnkhAGy1vtAufpR2j28Ev' width=700>\n"
      ],
      "metadata": {
        "id": "tRMQuaRMbWcy"
      }
    },
    {
      "cell_type": "markdown",
      "source": [
        "You have been asked to pick a ball from these 4 jars\n",
        "\n",
        "\n",
        "#### Which jars will give you highest confidence on whether the ball you have picked is red or not ?\n",
        "\n",
        "Jar 3 and 4 will give us highest confidence.\n",
        "- As there jars are pure.\n",
        "- So, we are pretty sure\n",
        "    - We won't get a red ball in Jar 3\n",
        "    - And we'll definately get red ball in Jar 4.\n",
        "\n",
        "- In Jar 1,\n",
        "    - which is impure (as it has both red and blue balls)\n",
        "    - we won't have much confidence on whether the ball being picked is red or not."
      ],
      "metadata": {
        "id": "KbZ8f0dJdXE0"
      }
    },
    {
      "cell_type": "markdown",
      "source": [
        "Let's represent these confidence in numerical terms. i.e. **calculate entropy of each jar**."
      ],
      "metadata": {
        "id": "crX4mGqueMz0"
      }
    },
    {
      "cell_type": "markdown",
      "source": [
        "<center><img src='https://drive.google.com/uc?id=1dQRwq9qLj5ZQKtzv4nl6M3CP7BjwUod1' width=800>\n",
        "\n",
        "\n"
      ],
      "metadata": {
        "id": "GojqlJl6enxE"
      }
    },
    {
      "cell_type": "markdown",
      "source": [
        "Notice that\n",
        "- Jar with equal number of red and blue balls have highest entropy i.e. 1\n",
        "- Jar with only red balls or blue balls has lowest entropy i.e. 0.\n",
        "\n",
        "\n"
      ],
      "metadata": {
        "id": "FSwX8hPMjR-d"
      }
    },
    {
      "cell_type": "markdown",
      "source": [
        "```\n",
        "Quiz-8 - Check your understanding\n",
        "\n",
        "Which of the following statements is true ?\n",
        "\n",
        "a. More the entropy, more pure the node is.\n",
        "b. Less the entropy, more impure the node is.\n",
        "c. More the entropy, more homogenous the node is.\n",
        "d. Less the entropy, more homogenous the node is.\n",
        "\n",
        "\n",
        "Correct option: d. Less the entropy, more homogenous the node is\n",
        "\n",
        "\n",
        "Explanation:\n",
        "- More pure the node is i.e. more homogenous\n",
        "    - less will be the entropy.\n",
        "\n",
        "```"
      ],
      "metadata": {
        "id": "rc8O6jyZYB_D"
      }
    },
    {
      "cell_type": "markdown",
      "source": [
        "\n",
        "\n",
        "` Quiz 9 - Try it yourself`\n",
        "\n",
        "```\n",
        "At what probability value will the entropy value be maximum for binary class?\n",
        "\n",
        "A. 0\n",
        "B. 0.5\n",
        "C. 0.33\n",
        "D. 1\n",
        "\n",
        "\n",
        "Ans: B. 0.5\n",
        "\n",
        "```\n",
        "\n",
        "Let's understand it by plotting the the curve"
      ],
      "metadata": {
        "id": "YjMH5mXGjyZr"
      }
    },
    {
      "cell_type": "markdown",
      "source": [
        "#### Plotting entropy"
      ],
      "metadata": {
        "id": "RJmvqfGFkA2b"
      }
    },
    {
      "cell_type": "markdown",
      "source": [
        "Let's plot entropy for binary system and see how it looks like:"
      ],
      "metadata": {
        "id": "tS_P7w5NkDNt"
      }
    },
    {
      "cell_type": "markdown",
      "source": [
        "Desmos plot: https://www.desmos.com/calculator/avaplvktso"
      ],
      "metadata": {
        "id": "GIpsQNPIuAtR"
      }
    },
    {
      "cell_type": "code",
      "source": [
        "from IPython.display import IFrame"
      ],
      "metadata": {
        "id": "LOoCgCeprKSx"
      },
      "execution_count": null,
      "outputs": []
    },
    {
      "cell_type": "code",
      "source": [
        "IFrame(src=\"https://www.desmos.com/calculator/avaplvktso\", width=700, height=375)"
      ],
      "metadata": {
        "colab": {
          "base_uri": "https://localhost:8080/",
          "height": 416
        },
        "id": "70H9Q_hprR_c",
        "outputId": "3a89fe6f-a810-4776-ec01-73b9993659fa"
      },
      "execution_count": null,
      "outputs": [
        {
          "output_type": "execute_result",
          "data": {
            "text/plain": [
              "<IPython.lib.display.IFrame at 0x7f30bc437af0>"
            ],
            "text/html": [
              "\n",
              "        <iframe\n",
              "            width=\"700\"\n",
              "            height=\"375\"\n",
              "            src=\"https://www.desmos.com/calculator/avaplvktso\"\n",
              "            frameborder=\"0\"\n",
              "            allowfullscreen\n",
              "            \n",
              "        ></iframe>\n",
              "        "
            ]
          },
          "metadata": {},
          "execution_count": 11
        }
      ]
    },
    {
      "cell_type": "markdown",
      "source": [
        "Notice that\n",
        "- Value of entropy is maximum\n",
        "    - when the probability is 0.5 i.e. equal number of datapoints for each class\n",
        "- Entropy value is minimum (Entropy = 0 )\n",
        "    - when the probability P(Y = 1) is either 0 or 1 (pure node)"
      ],
      "metadata": {
        "id": "-VreJXJSo-tp"
      }
    },
    {
      "cell_type": "markdown",
      "source": [
        "#### Visualization for entropy"
      ],
      "metadata": {
        "id": "09jKfFxgqrf7"
      }
    },
    {
      "cell_type": "markdown",
      "source": [
        "In case you want to how entropy changes as number of datapoint changes, here's a visualization for that.\n",
        "\n",
        "https://mlu-explain.github.io/decision-tree/\n",
        "\n",
        "\n",
        "<center><img src='https://drive.google.com/uc?id=14IvM3S60i8EExtGlHm_Jt8T0N45F42VH' width=800>\n"
      ],
      "metadata": {
        "id": "IARnkW0mqtX1"
      }
    },
    {
      "cell_type": "markdown",
      "source": [
        "**Conclusion:**\n",
        "- Entropy is **maximum** when the node is **impure** (P(Y =1) = 0.5) i.e. 1\n",
        "- Entropy is  **minimum** when the node is **pure** i.e. 0\n",
        "- Entropy lies between 0 and 1."
      ],
      "metadata": {
        "id": "dZEbusbophxi"
      }
    },
    {
      "cell_type": "markdown",
      "source": [
        "Now, that we have learnt about purity and how to use entropy to calculate that.\n",
        "\n",
        "Let's see how Decision Trees uses it for internal working"
      ],
      "metadata": {
        "id": "lgoTklj-piJ_"
      }
    },
    {
      "cell_type": "markdown",
      "source": [
        "```\n",
        "Quiz 10 - Check your understanding\n",
        "\n",
        "What will the value of entropy for following distribution of datapoints in node:\n",
        "\n",
        "Positive class: 50\n",
        "Negative class: 0\n",
        "\n",
        "\n",
        "Options:\n",
        "A. 0.33\n",
        "B. 1\n",
        "C. -1\n",
        "D. 0\n",
        "\n",
        "Answer: D. 0\n",
        "\n",
        "\n",
        "Explanation:\n",
        "- Since it is a pure node, it's entropy will be 0 .\n",
        "\n",
        "```"
      ],
      "metadata": {
        "id": "eKxP13OzWxw_"
      }
    },
    {
      "cell_type": "markdown",
      "source": [
        "## How Decision Tree works? Building a DT intuition"
      ],
      "metadata": {
        "id": "6SanfczxvFoH"
      }
    },
    {
      "cell_type": "markdown",
      "source": [
        "Let's understand it using a dummy example.\n",
        "\n",
        "\n",
        "Consider a dataset with 100 datapoints\n",
        "- and 2 features (Gender , Age < 35 )\n",
        "\n"
      ],
      "metadata": {
        "id": "F91BUgBFvXzI"
      }
    },
    {
      "cell_type": "markdown",
      "source": [
        "\n",
        "<center><img src='https://drive.google.com/uc?id=1rjw7epTMltvY4QVpbO_yJ4u1DtUhzpyy' width=800>\n"
      ],
      "metadata": {
        "id": "Ozn561IS1V8P"
      }
    },
    {
      "cell_type": "markdown",
      "source": [
        "#### Can we use this root node for predicition ?\n",
        "\n",
        "No. We can't. It is highly hetrogenous\n",
        "\n",
        "Hence, it'll have a high entropy.\n",
        "\n",
        "Let's calculate its entropy"
      ],
      "metadata": {
        "id": "VDTI7Rma1jEO"
      }
    },
    {
      "cell_type": "markdown",
      "source": [
        "\n",
        "\n",
        "<center><img src='https://drive.google.com/uc?id=17rs_8_aqjDX9o_qEbKutxx82ul3NmJ0p' width=800>\n"
      ],
      "metadata": {
        "id": "n-h4hPWmIbfL"
      }
    },
    {
      "cell_type": "markdown",
      "source": [
        "So, we should split the node in order to reduce the entropy.\n",
        "- and make it homogenous.\n",
        "\n",
        "We have two features with us. i.e. Gender and Age < 35.\n",
        "\n",
        "\n"
      ],
      "metadata": {
        "id": "bH4rS8s7JKa-"
      }
    },
    {
      "cell_type": "markdown",
      "source": [
        "\n",
        "\n",
        "<center><img src='https://drive.google.com/uc?id=124uJms16f7eIxw4_5WwhGc0tIMHVt9Fd' width=800>\n"
      ],
      "metadata": {
        "id": "ReoCWnGxJZun"
      }
    },
    {
      "cell_type": "markdown",
      "source": [
        "#### Which feature shall we use for splitting ?\n",
        "\n",
        "We don't know until we calculate the entropy of split for the feature.\n",
        "\n",
        "\n"
      ],
      "metadata": {
        "id": "X9DFcnN7Jnw1"
      }
    },
    {
      "cell_type": "markdown",
      "source": [
        "#### Splitting using Gender feature"
      ],
      "metadata": {
        "id": "Nj39SX-EKG6G"
      }
    },
    {
      "cell_type": "markdown",
      "source": [
        "Let's first split using Gender feature\n",
        "\n",
        "\n",
        "When we split using gender\n",
        "- we get two child nodes\n",
        "- one for Male\n",
        "- other for Female."
      ],
      "metadata": {
        "id": "dpKhNdWyKDJh"
      }
    },
    {
      "cell_type": "markdown",
      "source": [
        "\n",
        "\n",
        "<center><img src='https://drive.google.com/uc?id=1iyYqbJTmvaM1yGQaUlI0fAzV4T8JhUqk' width=800>\n",
        "\n"
      ],
      "metadata": {
        "id": "6EZTGXRlKGqL"
      }
    },
    {
      "cell_type": "markdown",
      "source": [
        "Let's calculate the entropy of child to check whether the entropy has reduced or not"
      ],
      "metadata": {
        "id": "LKB9yB7qMNsK"
      }
    },
    {
      "cell_type": "markdown",
      "source": [
        "\n",
        "\n",
        "<center><img src='https://drive.google.com/uc?id=1IblNbE0nmQadijkdrjh0AJv8d10NLNQ9' width=800>\n"
      ],
      "metadata": {
        "id": "Cy1ZOUeWMhbM"
      }
    },
    {
      "cell_type": "markdown",
      "source": [
        "\n",
        "\n",
        "<center><img src='https://drive.google.com/uc?id=1_tWend5rLS3cy8jw8XFFQWi_Q4ksxmEe' width=700>\n",
        "\n"
      ],
      "metadata": {
        "id": "7Wz-0vGRNgE8"
      }
    },
    {
      "cell_type": "markdown",
      "source": [
        "Now that we have calculated entropy of parent as well as both child\n",
        "- we need to check if there is a reduction in entropy.\n",
        "\n",
        "But, each child node has an entropy value.\n",
        "- In order to see the reduction in entropy,\n",
        "    - we first need to combine the child entropy to get a single value out of it.\n",
        "    - then we can compare it with parent entropy.\n",
        "\n",
        "#### How do we combine child entropy ?"
      ],
      "metadata": {
        "id": "frAhtm_JOYfz"
      }
    },
    {
      "cell_type": "markdown",
      "source": [
        "```\n",
        "Quiz 11 - Try it out\n",
        "\n",
        "Which strategy should we use for combining child entropy?\n",
        "\n",
        "A. Simple average\n",
        "B. Weighted average\n",
        "C. Median of child entropy\n",
        "D. Maximum of child entropy\n",
        "\n",
        "\n",
        "Ans: B. Weighted average\n",
        "\n",
        "```"
      ],
      "metadata": {
        "id": "DIopfxsUXkOC"
      }
    },
    {
      "cell_type": "markdown",
      "source": [
        "**Simple average?**\n",
        "\n",
        "- When we take simple average,\n",
        "    - we are ignoring the proportions of datapoints belonging to each node\n",
        "\n",
        "There can be a case where\n",
        "- Child 1 contains 98 datapoints\n",
        "- Child 2 contains 2 datapoints\n",
        "\n",
        "We should include the number of datapoints it is impacting while calculating combined entropy.\n",
        "\n",
        "\n",
        "So, we should take **weighted average** in this case.\n",
        "\n"
      ],
      "metadata": {
        "id": "wztUinjYP9FD"
      }
    },
    {
      "cell_type": "markdown",
      "source": [
        "#### How do we calculate weighted entropy of child nodes ?"
      ],
      "metadata": {
        "id": "QuBK3FdiQAQz"
      }
    },
    {
      "cell_type": "markdown",
      "source": [
        "We simply do so by multiplying the datapoint proportion with its entropy value"
      ],
      "metadata": {
        "id": "E7zwJy6qQ986"
      }
    },
    {
      "cell_type": "markdown",
      "source": [
        "\n",
        "\n",
        "<center><img src='https://drive.google.com/uc?id=1PI1jQrmsvCOBySr71kC-Pcmui314Pvfn' width=700>\n",
        "\n",
        "\n"
      ],
      "metadata": {
        "id": "KphZq8rZREL_"
      }
    },
    {
      "cell_type": "markdown",
      "source": [
        "There is a slight reduction in weighted child entropy (0.88) compared to parent entropy (0.97)\n",
        "\n",
        "- So, we are moving towards purer nodes."
      ],
      "metadata": {
        "id": "QT84NXV0SOXN"
      }
    },
    {
      "cell_type": "markdown",
      "source": [
        "This **reduction in entropy** i.e. Parent - weight entropy of child is termed as **Information gain**\n",
        "\n"
      ],
      "metadata": {
        "id": "aicquSD1SjZN"
      }
    },
    {
      "cell_type": "markdown",
      "source": [
        "\n",
        "\n",
        "<center><img src='https://drive.google.com/uc?id=1yCnBggqgcUyQlk8FMaVFhwffXJ_osKP1' width=700>\n",
        "\n"
      ],
      "metadata": {
        "id": "b0s1foA0TBlQ"
      }
    },
    {
      "cell_type": "markdown",
      "source": [
        "We can say that we want to\n",
        "- **maximize information gain**\n",
        "- or **minimize entropy**"
      ],
      "metadata": {
        "id": "uAnY51VuX5VA"
      }
    },
    {
      "cell_type": "markdown",
      "source": [
        "We want to maximize information gain.\n",
        "\n",
        "So, there is chance that there is some other feature\n",
        "- which is providing more information gain than Gender feature\n",
        "\n",
        "So, we should use that feature instead.\n",
        "\n",
        "This means we should calculate Information gain for Age < 35 feature as well\n",
        "\n"
      ],
      "metadata": {
        "id": "F-42mWOuYL3O"
      }
    },
    {
      "cell_type": "markdown",
      "source": [
        "```\n",
        "Quiz 12 - Check your understanding\n",
        "\n",
        "Which of the following statement related to Information gain is false ?\n",
        "\n",
        "\n",
        "a. Information gain is defined as reduction in entropy.\n",
        "b. We want to maximize information gain\n",
        "c. It is calculated by subtracting weighted child entropy from parent entropy.\n",
        "d. It is calculated by subtracting parent entropy from weighted child entropy\n",
        "\n",
        "\n",
        "Correct option : d. It is calculated by subtracting parent entropy from weighted child entropy\n",
        "\n",
        "```"
      ],
      "metadata": {
        "id": "TdVZ-9J9ZAKz"
      }
    },
    {
      "cell_type": "markdown",
      "source": [
        "#### Splitting using Age < 35 feature"
      ],
      "metadata": {
        "id": "D76cV7LMbPlZ"
      }
    },
    {
      "cell_type": "markdown",
      "source": [
        "\n",
        "\n",
        "<center><img src='https://drive.google.com/uc?id=1CQf19m7dRznESi4boe9p3bN3jUmx16xM' width=700>\n",
        "\n",
        "\n",
        "\n"
      ],
      "metadata": {
        "id": "6Yq3YtQmY7Z_"
      }
    },
    {
      "cell_type": "markdown",
      "source": [
        "Now, we calculate the weighted entropy of child"
      ],
      "metadata": {
        "id": "G6cMsAAHbL0P"
      }
    },
    {
      "cell_type": "markdown",
      "source": [
        "\n",
        "\n",
        "<center><img src='https://drive.google.com/uc?id=1XgZfEV-sWoYHIrqnmEh_VUKtNw8yT_Li' width=700>\n",
        "\n"
      ],
      "metadata": {
        "id": "LbdekayLbZ3c"
      }
    },
    {
      "cell_type": "markdown",
      "source": [
        "and lastly using both parent and weighted entropy,\n",
        "\n",
        "we calculate the information gain using Age < 35"
      ],
      "metadata": {
        "id": "RVtOpANBbd2O"
      }
    },
    {
      "cell_type": "markdown",
      "source": [
        "\n",
        "\n",
        "<center><img src='https://drive.google.com/uc?id=1-jeaTntSBAjSSVhK7COj84qH0lAtlJk7' width=700>\n",
        "\n",
        "\n",
        "\n"
      ],
      "metadata": {
        "id": "7A8RSHakbswb"
      }
    },
    {
      "cell_type": "markdown",
      "source": [
        "The information gain for each feature is as follows:\n",
        "\n",
        "- $I_G(Parent, Age < 35) = 0.257$\n",
        "- $I_G(Parent, Gender) = 0.091$\n",
        "\n",
        "#### Which feature shall we pick to split the root node ?\n",
        "\n",
        "We pick feature s.t it gives us maximum information gain\n",
        "- In this case, splitting using Age < 35 is giving us maximum information gain.\n",
        "    - So, we'll pick it to split our root node."
      ],
      "metadata": {
        "id": "X_7AcE87bvt4"
      }
    },
    {
      "cell_type": "markdown",
      "source": [
        "Let's split our node using Age<35 feature"
      ],
      "metadata": {
        "id": "7jstL3p-dAvU"
      }
    },
    {
      "cell_type": "markdown",
      "source": [
        "\n",
        "\n",
        "<center><img src='https://drive.google.com/uc?id=1Sqt0j06cqRBoZZudrxKGYFXL_Y8ORvv4' width=700>\n",
        "\n"
      ],
      "metadata": {
        "id": "crGPTjuFdxU9"
      }
    },
    {
      "cell_type": "markdown",
      "source": [
        "Let's talk about left child node\n",
        "\n",
        "#### Has the entropy of left child node reduced to 0 or close to 0 ?\n",
        "\n",
        "No.\n",
        "- Although the entropy is lower than before\n",
        "- but it is still an impure node.\n",
        "\n",
        "In order to achieve more confidence in prediction,\n",
        "- we should further split this node.\n",
        "\n",
        "\n"
      ],
      "metadata": {
        "id": "huk4nCVogs6P"
      }
    },
    {
      "cell_type": "markdown",
      "source": [
        "Again, in order to split this node\n",
        "- we'll calculate information gain using features\n",
        "- say, these features are gender, salary, years of experience.\n",
        "\n",
        "\n",
        "Whichever feature gives us the maximum information gain,\n",
        "- we'll split the node using that feature."
      ],
      "metadata": {
        "id": "uKfAP0-UhfXO"
      }
    },
    {
      "cell_type": "markdown",
      "source": [
        "Assume that gender gave us highest info. gain,\n",
        "- we'll split this node using gender"
      ],
      "metadata": {
        "id": "Gf1G51g7hw6G"
      }
    },
    {
      "cell_type": "markdown",
      "source": [
        "\n",
        "\n",
        "\n",
        "<center><img src='https://drive.google.com/uc?id=1KrHe9ZzRPo_lenh38cW-IAl3TjW3z1cp' width=700>\n",
        "\n"
      ],
      "metadata": {
        "id": "yT-mgVVoh39H"
      }
    },
    {
      "cell_type": "markdown",
      "source": [
        "We continue doing so\n",
        "- until we get purer nodes\n",
        "- i.e. confidence in prediction is high."
      ],
      "metadata": {
        "id": "HE0F8NsyinjE"
      }
    },
    {
      "cell_type": "markdown",
      "source": [
        "#### What happens if we have more than 2 categories for a feature ? How do we split in that case ?"
      ],
      "metadata": {
        "id": "DqBlliCcuL70"
      }
    },
    {
      "cell_type": "markdown",
      "source": [
        "In case where there are more than 2 categories in a feature,\n",
        "- we simply make a child node for each category"
      ],
      "metadata": {
        "id": "9Z-yRomzO5NN"
      }
    },
    {
      "cell_type": "markdown",
      "source": [
        "\n",
        "\n",
        "\n",
        "<center><img src='https://drive.google.com/uc?id=1ZnLjc2fDdy42iC-j3Ly6QXRzjWhqc_XD' width=700>\n"
      ],
      "metadata": {
        "id": "RH2-wMXDQwKh"
      }
    },
    {
      "cell_type": "markdown",
      "source": [
        "```\n",
        "Quiz 13 - Check your understanding\n",
        "\n",
        "We calculated information gain for 3 features which is as follows:\n",
        "\n",
        "Feature 1 : 0.3\n",
        "Feature 2 : 0.03\n",
        "Feature 3: 0.2\n",
        "\n",
        "\n",
        "Which feature would you pick for splitting the node ?\n",
        "\n",
        "A. Feature 1\n",
        "B. Feature 2\n",
        "C. Feature 3\n",
        "\n",
        "Ans: A. Feature 1\n",
        "\n",
        "\n",
        "Explanation:\n",
        "- We want to pick feature which gives us maximum information gain.\n",
        "- Hence, we'll pick Feature 1\n",
        "\n",
        "```"
      ],
      "metadata": {
        "id": "Rh1ea6U-SuL5"
      }
    },
    {
      "cell_type": "markdown",
      "source": [
        "## Visualizing the process of building DT"
      ],
      "metadata": {
        "id": "WV0K8HAkiwmA"
      }
    },
    {
      "cell_type": "markdown",
      "metadata": {
        "id": "x6CTCUvKXF__"
      },
      "source": [
        "\n",
        "\n",
        "link: https://drive.google.com/file/d/1CBFhQ2bYf81kTN-x_T6B1hcbIVqbXjAz/view?usp=sharing\n",
        "\n",
        "paper: https://opus.bibliothek.uni-augsburg.de/opus4/frontdoor/deliver/index/docId/79711/file/ECML_PKDD_Decision_Tree_Learning.pdf\n",
        "\n",
        "Steps to follow:\n",
        "1. Unzip the file\n",
        "2. Launch index.html to launch the project\n",
        "3. Go to Data (top right) -> Import training data -> data.csv\n",
        "\n",
        "4. Dataset are present in folder named \"Files\". You can move your custom dataset into that folder. However, there are few limits on number of columns and format of data (csv)\n",
        "\n",
        "It contains data for attrition use case (3 features)\n",
        "- Gender\n",
        "- Age < 35\n",
        "- Marital Status\n",
        "\n",
        "\n",
        "4. Select Mode as \"Stepwise\". It'll build DT node by node.\n",
        "\n",
        "5. Click on build.\n",
        "\n",
        "6. Click build again to move to next stage of DT\n",
        "\n",
        "For each stage, you can view the information gain on left pane of window.\n",
        "\n",
        "\n"
      ]
    },
    {
      "cell_type": "markdown",
      "metadata": {
        "id": "cV32zf_fXks-"
      },
      "source": [
        "<img src='https://drive.google.com/uc?id=14isfl0c12jpwLRMcuLI1WleLQh5UP3zo' width = 700>\n"
      ]
    },
    {
      "cell_type": "markdown",
      "metadata": {
        "id": "00sI10S0XFUo"
      },
      "source": [
        "<center><img src='https://drive.google.com/uc?id=1_gayxjqaf_WaasqCbApkU10Q-Xi5EflL' width=800>\n",
        "\n",
        "\n"
      ]
    },
    {
      "cell_type": "markdown",
      "source": [
        "Now that we have learnt how decision tree works.\n",
        "\n",
        "Let's try to implement it from scratch"
      ],
      "metadata": {
        "id": "pZ82bNVNh7tl"
      }
    },
    {
      "cell_type": "markdown",
      "source": [
        "## (Optional) Post Read - Scratch impl of DT"
      ],
      "metadata": {
        "id": "rE7YmSlGwy-U"
      }
    },
    {
      "cell_type": "markdown",
      "source": [
        "link : https://colab.research.google.com/drive/1QpgOv1W8x_l81GPN6ebQTb58eqA0RaNm?usp=sharing"
      ],
      "metadata": {
        "id": "etysml3Gw5Ch"
      }
    }
  ]
}