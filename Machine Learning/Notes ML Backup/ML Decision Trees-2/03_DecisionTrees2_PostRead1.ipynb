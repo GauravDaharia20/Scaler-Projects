{
  "nbformat": 4,
  "nbformat_minor": 0,
  "metadata": {
    "colab": {
      "provenance": []
    },
    "kernelspec": {
      "name": "python3",
      "display_name": "Python 3"
    },
    "language_info": {
      "name": "python"
    }
  },
  "cells": [
    {
      "cell_type": "markdown",
      "source": [
        "## Scratch impl of DT"
      ],
      "metadata": {
        "id": "GchOChVvpIJ6"
      }
    },
    {
      "cell_type": "markdown",
      "source": [
        "#### Loading data"
      ],
      "metadata": {
        "id": "E3SyzIzepu71"
      }
    },
    {
      "cell_type": "code",
      "execution_count": null,
      "metadata": {
        "colab": {
          "base_uri": "https://localhost:8080/"
        },
        "id": "_jrDhf01B0Zl",
        "outputId": "8e18f7b9-5346-4f74-98a5-6cb9e6d24418"
      },
      "outputs": [
        {
          "output_type": "stream",
          "name": "stdout",
          "text": [
            "Downloading...\n",
            "From: https://drive.google.com/uc?id=1l53Fgkg1G1ekCxxgaDQ00EXrnSMTeJj-\n",
            "To: /content/sample_data.csv\n",
            "\r  0% 0.00/32.5k [00:00<?, ?B/s]\r100% 32.5k/32.5k [00:00<00:00, 62.2MB/s]\n"
          ]
        }
      ],
      "source": [
        "!gdown  1l53Fgkg1G1ekCxxgaDQ00EXrnSMTeJj-"
      ]
    },
    {
      "cell_type": "code",
      "source": [
        "import pandas as pd\n",
        "import numpy as np"
      ],
      "metadata": {
        "id": "PZYCHqSbqao-"
      },
      "execution_count": null,
      "outputs": []
    },
    {
      "cell_type": "code",
      "execution_count": null,
      "metadata": {
        "id": "Ikwr0foEB4Xz"
      },
      "outputs": [],
      "source": [
        "sample_data = pd.read_csv('sample_data.csv')"
      ]
    },
    {
      "cell_type": "code",
      "execution_count": null,
      "metadata": {
        "colab": {
          "base_uri": "https://localhost:8080/",
          "height": 424
        },
        "id": "V1Nve3XVB_8W",
        "outputId": "a006d861-6efc-4f5f-80bf-0b300f912885"
      },
      "outputs": [
        {
          "output_type": "execute_result",
          "data": {
            "text/plain": [
              "     Gender  Age_less_35                    JobRole  Attrition\n",
              "0      Male         True      Laboratory Technician          0\n",
              "1      Male        False            Sales Executive          1\n",
              "2      Male         True       Sales Representative          1\n",
              "3    Female        False  Healthcare Representative          0\n",
              "4      Male         True            Sales Executive          0\n",
              "..      ...          ...                        ...        ...\n",
              "995    Male        False      Laboratory Technician          1\n",
              "996  Female        False     Manufacturing Director          0\n",
              "997  Female         True            Sales Executive          0\n",
              "998    Male        False                    Manager          0\n",
              "999  Female         True      Laboratory Technician          0\n",
              "\n",
              "[1000 rows x 4 columns]"
            ],
            "text/html": [
              "\n",
              "  <div id=\"df-d250cce6-bbd9-45da-bdff-545599e9a976\">\n",
              "    <div class=\"colab-df-container\">\n",
              "      <div>\n",
              "<style scoped>\n",
              "    .dataframe tbody tr th:only-of-type {\n",
              "        vertical-align: middle;\n",
              "    }\n",
              "\n",
              "    .dataframe tbody tr th {\n",
              "        vertical-align: top;\n",
              "    }\n",
              "\n",
              "    .dataframe thead th {\n",
              "        text-align: right;\n",
              "    }\n",
              "</style>\n",
              "<table border=\"1\" class=\"dataframe\">\n",
              "  <thead>\n",
              "    <tr style=\"text-align: right;\">\n",
              "      <th></th>\n",
              "      <th>Gender</th>\n",
              "      <th>Age_less_35</th>\n",
              "      <th>JobRole</th>\n",
              "      <th>Attrition</th>\n",
              "    </tr>\n",
              "  </thead>\n",
              "  <tbody>\n",
              "    <tr>\n",
              "      <th>0</th>\n",
              "      <td>Male</td>\n",
              "      <td>True</td>\n",
              "      <td>Laboratory Technician</td>\n",
              "      <td>0</td>\n",
              "    </tr>\n",
              "    <tr>\n",
              "      <th>1</th>\n",
              "      <td>Male</td>\n",
              "      <td>False</td>\n",
              "      <td>Sales Executive</td>\n",
              "      <td>1</td>\n",
              "    </tr>\n",
              "    <tr>\n",
              "      <th>2</th>\n",
              "      <td>Male</td>\n",
              "      <td>True</td>\n",
              "      <td>Sales Representative</td>\n",
              "      <td>1</td>\n",
              "    </tr>\n",
              "    <tr>\n",
              "      <th>3</th>\n",
              "      <td>Female</td>\n",
              "      <td>False</td>\n",
              "      <td>Healthcare Representative</td>\n",
              "      <td>0</td>\n",
              "    </tr>\n",
              "    <tr>\n",
              "      <th>4</th>\n",
              "      <td>Male</td>\n",
              "      <td>True</td>\n",
              "      <td>Sales Executive</td>\n",
              "      <td>0</td>\n",
              "    </tr>\n",
              "    <tr>\n",
              "      <th>...</th>\n",
              "      <td>...</td>\n",
              "      <td>...</td>\n",
              "      <td>...</td>\n",
              "      <td>...</td>\n",
              "    </tr>\n",
              "    <tr>\n",
              "      <th>995</th>\n",
              "      <td>Male</td>\n",
              "      <td>False</td>\n",
              "      <td>Laboratory Technician</td>\n",
              "      <td>1</td>\n",
              "    </tr>\n",
              "    <tr>\n",
              "      <th>996</th>\n",
              "      <td>Female</td>\n",
              "      <td>False</td>\n",
              "      <td>Manufacturing Director</td>\n",
              "      <td>0</td>\n",
              "    </tr>\n",
              "    <tr>\n",
              "      <th>997</th>\n",
              "      <td>Female</td>\n",
              "      <td>True</td>\n",
              "      <td>Sales Executive</td>\n",
              "      <td>0</td>\n",
              "    </tr>\n",
              "    <tr>\n",
              "      <th>998</th>\n",
              "      <td>Male</td>\n",
              "      <td>False</td>\n",
              "      <td>Manager</td>\n",
              "      <td>0</td>\n",
              "    </tr>\n",
              "    <tr>\n",
              "      <th>999</th>\n",
              "      <td>Female</td>\n",
              "      <td>True</td>\n",
              "      <td>Laboratory Technician</td>\n",
              "      <td>0</td>\n",
              "    </tr>\n",
              "  </tbody>\n",
              "</table>\n",
              "<p>1000 rows × 4 columns</p>\n",
              "</div>\n",
              "      <button class=\"colab-df-convert\" onclick=\"convertToInteractive('df-d250cce6-bbd9-45da-bdff-545599e9a976')\"\n",
              "              title=\"Convert this dataframe to an interactive table.\"\n",
              "              style=\"display:none;\">\n",
              "        \n",
              "  <svg xmlns=\"http://www.w3.org/2000/svg\" height=\"24px\"viewBox=\"0 0 24 24\"\n",
              "       width=\"24px\">\n",
              "    <path d=\"M0 0h24v24H0V0z\" fill=\"none\"/>\n",
              "    <path d=\"M18.56 5.44l.94 2.06.94-2.06 2.06-.94-2.06-.94-.94-2.06-.94 2.06-2.06.94zm-11 1L8.5 8.5l.94-2.06 2.06-.94-2.06-.94L8.5 2.5l-.94 2.06-2.06.94zm10 10l.94 2.06.94-2.06 2.06-.94-2.06-.94-.94-2.06-.94 2.06-2.06.94z\"/><path d=\"M17.41 7.96l-1.37-1.37c-.4-.4-.92-.59-1.43-.59-.52 0-1.04.2-1.43.59L10.3 9.45l-7.72 7.72c-.78.78-.78 2.05 0 2.83L4 21.41c.39.39.9.59 1.41.59.51 0 1.02-.2 1.41-.59l7.78-7.78 2.81-2.81c.8-.78.8-2.07 0-2.86zM5.41 20L4 18.59l7.72-7.72 1.47 1.35L5.41 20z\"/>\n",
              "  </svg>\n",
              "      </button>\n",
              "      \n",
              "  <style>\n",
              "    .colab-df-container {\n",
              "      display:flex;\n",
              "      flex-wrap:wrap;\n",
              "      gap: 12px;\n",
              "    }\n",
              "\n",
              "    .colab-df-convert {\n",
              "      background-color: #E8F0FE;\n",
              "      border: none;\n",
              "      border-radius: 50%;\n",
              "      cursor: pointer;\n",
              "      display: none;\n",
              "      fill: #1967D2;\n",
              "      height: 32px;\n",
              "      padding: 0 0 0 0;\n",
              "      width: 32px;\n",
              "    }\n",
              "\n",
              "    .colab-df-convert:hover {\n",
              "      background-color: #E2EBFA;\n",
              "      box-shadow: 0px 1px 2px rgba(60, 64, 67, 0.3), 0px 1px 3px 1px rgba(60, 64, 67, 0.15);\n",
              "      fill: #174EA6;\n",
              "    }\n",
              "\n",
              "    [theme=dark] .colab-df-convert {\n",
              "      background-color: #3B4455;\n",
              "      fill: #D2E3FC;\n",
              "    }\n",
              "\n",
              "    [theme=dark] .colab-df-convert:hover {\n",
              "      background-color: #434B5C;\n",
              "      box-shadow: 0px 1px 3px 1px rgba(0, 0, 0, 0.15);\n",
              "      filter: drop-shadow(0px 1px 2px rgba(0, 0, 0, 0.3));\n",
              "      fill: #FFFFFF;\n",
              "    }\n",
              "  </style>\n",
              "\n",
              "      <script>\n",
              "        const buttonEl =\n",
              "          document.querySelector('#df-d250cce6-bbd9-45da-bdff-545599e9a976 button.colab-df-convert');\n",
              "        buttonEl.style.display =\n",
              "          google.colab.kernel.accessAllowed ? 'block' : 'none';\n",
              "\n",
              "        async function convertToInteractive(key) {\n",
              "          const element = document.querySelector('#df-d250cce6-bbd9-45da-bdff-545599e9a976');\n",
              "          const dataTable =\n",
              "            await google.colab.kernel.invokeFunction('convertToInteractive',\n",
              "                                                     [key], {});\n",
              "          if (!dataTable) return;\n",
              "\n",
              "          const docLinkHtml = 'Like what you see? Visit the ' +\n",
              "            '<a target=\"_blank\" href=https://colab.research.google.com/notebooks/data_table.ipynb>data table notebook</a>'\n",
              "            + ' to learn more about interactive tables.';\n",
              "          element.innerHTML = '';\n",
              "          dataTable['output_type'] = 'display_data';\n",
              "          await google.colab.output.renderOutput(dataTable, element);\n",
              "          const docLink = document.createElement('div');\n",
              "          docLink.innerHTML = docLinkHtml;\n",
              "          element.appendChild(docLink);\n",
              "        }\n",
              "      </script>\n",
              "    </div>\n",
              "  </div>\n",
              "  "
            ]
          },
          "metadata": {},
          "execution_count": 4
        }
      ],
      "source": [
        "sample_data"
      ]
    },
    {
      "cell_type": "code",
      "execution_count": null,
      "metadata": {
        "colab": {
          "base_uri": "https://localhost:8080/"
        },
        "id": "gQo8HcXwCBOS",
        "outputId": "b7871e96-3c66-4d82-e5ec-4cd3fe8a3ef2"
      },
      "outputs": [
        {
          "output_type": "execute_result",
          "data": {
            "text/plain": [
              "0    831\n",
              "1    169\n",
              "Name: Attrition, dtype: int64"
            ]
          },
          "metadata": {},
          "execution_count": 5
        }
      ],
      "source": [
        "sample_data.Attrition.value_counts()"
      ]
    },
    {
      "cell_type": "markdown",
      "metadata": {
        "id": "MsiexF7OBuJN"
      },
      "source": [
        "#### Entropy"
      ]
    },
    {
      "cell_type": "code",
      "execution_count": null,
      "metadata": {
        "id": "YWPa4V38o09R"
      },
      "outputs": [],
      "source": [
        "def entropy(y):\n",
        "\n",
        "    if isinstance(y, pd.Series):\n",
        "        # calculating probability\n",
        "        p = y.value_counts()/y.shape[0]\n",
        "\n",
        "        entropy = np.sum(-p*np.log2(p+1e-9)) # adding delta 1e-9 in case p = 0 as log(0) is not defined\n",
        "\n",
        "        return(entropy)\n",
        "\n",
        "    else:\n",
        "        raise('Object must be a Pandas Series.')\n",
        "\n"
      ]
    },
    {
      "cell_type": "markdown",
      "metadata": {
        "id": "9y0PYN9GBvsm"
      },
      "source": [
        "#### Weighted entropy for child nodes"
      ]
    },
    {
      "cell_type": "code",
      "execution_count": null,
      "metadata": {
        "id": "Y4oWtuYA-sK-"
      },
      "outputs": [],
      "source": [
        "def calculate_weighted_entropy(feature,y):\n",
        "    '''\n",
        "        feature -> series (Gender/ Age < 35)\n",
        "        y -> series\n",
        "    '''\n",
        "    categories = feature.unique()\n",
        "\n",
        "    weighted_entropy = 0\n",
        "\n",
        "    for category in categories:\n",
        "        y_category = y[feature == category]\n",
        "        entropy_category = entropy(y_category)\n",
        "        # print(category)\n",
        "        # print(entropy_category)\n",
        "        weighted_entropy += y_category.shape[0]/y.shape[0]*entropy_category\n",
        "\n",
        "\n",
        "    return weighted_entropy\n",
        "\n"
      ]
    },
    {
      "cell_type": "markdown",
      "metadata": {
        "id": "JEuqUXv4ByIl"
      },
      "source": [
        "#### Information gain"
      ]
    },
    {
      "cell_type": "code",
      "execution_count": null,
      "metadata": {
        "id": "lA04rBkH-t6p"
      },
      "outputs": [],
      "source": [
        "def information_gain(feature,y):\n",
        "    parent_entropy = entropy(y)\n",
        "\n",
        "    child_entropy = calculate_weighted_entropy(feature,y)\n",
        "\n",
        "    ig = parent_entropy - child_entropy\n",
        "\n",
        "    return ig"
      ]
    },
    {
      "cell_type": "markdown",
      "metadata": {
        "id": "_SGKH2bxDibf"
      },
      "source": [
        "#### Entropy at root node"
      ]
    },
    {
      "cell_type": "code",
      "execution_count": null,
      "metadata": {
        "colab": {
          "base_uri": "https://localhost:8080/"
        },
        "id": "BE4jkur1CuEO",
        "outputId": "c04ea8ea-5e09-4281-eb7c-7700ac0c4ed9"
      },
      "outputs": [
        {
          "output_type": "execute_result",
          "data": {
            "text/plain": [
              "0.6554120789588516"
            ]
          },
          "metadata": {},
          "execution_count": 9
        }
      ],
      "source": [
        "entropy(sample_data.Attrition)"
      ]
    },
    {
      "cell_type": "markdown",
      "metadata": {
        "id": "B3nMZ_FHDpRK"
      },
      "source": [
        "#### Weighted entropy of child for Gender"
      ]
    },
    {
      "cell_type": "code",
      "execution_count": null,
      "metadata": {
        "colab": {
          "base_uri": "https://localhost:8080/"
        },
        "id": "Avr8hABYC1eQ",
        "outputId": "8b4840dd-3e79-4485-a088-25492af90a2f"
      },
      "outputs": [
        {
          "output_type": "execute_result",
          "data": {
            "text/plain": [
              "0.6554087812684072"
            ]
          },
          "metadata": {},
          "execution_count": 10
        }
      ],
      "source": [
        "calculate_weighted_entropy(sample_data.Gender, sample_data.Attrition)"
      ]
    },
    {
      "cell_type": "markdown",
      "metadata": {
        "id": "TAYPxWcXDtuY"
      },
      "source": [
        "#### Information Gain for Gender"
      ]
    },
    {
      "cell_type": "code",
      "execution_count": null,
      "metadata": {
        "colab": {
          "base_uri": "https://localhost:8080/"
        },
        "id": "JwrQl7l9DDeg",
        "outputId": "9aeaf006-29c5-474c-b992-c9996c0844a1"
      },
      "outputs": [
        {
          "output_type": "execute_result",
          "data": {
            "text/plain": [
              "3.2976904443815513e-06"
            ]
          },
          "metadata": {},
          "execution_count": 11
        }
      ],
      "source": [
        "information_gain(sample_data.Gender,sample_data.Attrition)"
      ]
    },
    {
      "cell_type": "markdown",
      "metadata": {
        "id": "_EvvgR45DzrO"
      },
      "source": [
        "#### Comparing Information gain for features"
      ]
    },
    {
      "cell_type": "code",
      "execution_count": null,
      "metadata": {
        "id": "dwrRQ_CkDLX2",
        "colab": {
          "base_uri": "https://localhost:8080/"
        },
        "outputId": "186cd62d-bd2e-443a-cd99-307e81c11763"
      },
      "outputs": [
        {
          "output_type": "stream",
          "name": "stdout",
          "text": [
            "Information Gain for feature Gender is 3.2976904443815513e-06\n",
            "Information Gain for feature Age_less_35 is 0.021463064919737374\n",
            "Information Gain for feature JobRole is 0.05429906805101925\n"
          ]
        }
      ],
      "source": [
        "for feature in sample_data.columns[:-1]:\n",
        "    print(f'Information Gain for feature {feature} is {information_gain(sample_data[feature],sample_data.Attrition)}')"
      ]
    }
  ]
}