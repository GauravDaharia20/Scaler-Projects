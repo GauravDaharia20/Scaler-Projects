{
  "nbformat": 4,
  "nbformat_minor": 0,
  "metadata": {
    "colab": {
      "provenance": []
    },
    "kernelspec": {
      "name": "python3",
      "display_name": "Python 3"
    },
    "language_info": {
      "name": "python"
    }
  },
  "cells": [
    {
      "cell_type": "markdown",
      "source": [
        "## Content"
      ],
      "metadata": {
        "id": "5dNRgHATK_PV"
      }
    },
    {
      "cell_type": "markdown",
      "source": [
        "- **Bagging recap**\n",
        "\n",
        "- **Boosting Introduction**\n",
        "    \n",
        "    \n",
        "\n",
        "\n",
        "- **Boosting Intuition - How do we combine base learners ?**\n",
        "    - Residual\n",
        "    - Geometrical Intuition\n",
        "    \n",
        "\n",
        "- **What happens at train and test time ?**\n",
        "\n",
        "- **Why Boosting ? - GBDT Intuition**\n",
        "    - Pseudo residual\n",
        "    \n",
        "\n",
        "- **Sklearn implementation**\n",
        "    "
      ],
      "metadata": {
        "id": "8IuPvF_f8F4f"
      }
    },
    {
      "cell_type": "markdown",
      "source": [
        "## Bagging recap"
      ],
      "metadata": {
        "id": "6rlvQ_c96ler"
      }
    },
    {
      "cell_type": "markdown",
      "source": [
        "#### What did we do in Bagging?\n",
        "\n",
        "We had base learners which were\n",
        "- low bias\n",
        "- high varianace\n",
        "\n",
        "\\\n",
        "#### How did we reduced the variance ?\n",
        "\n",
        "We performed\n",
        "- randomization i.e. **row & column sampling**.\n",
        "\n",
        "And finally\n",
        "- **aggregated** these learners together.\n",
        "\n",
        "\n"
      ],
      "metadata": {
        "id": "WbeU6G45vrz0"
      }
    },
    {
      "cell_type": "markdown",
      "source": [
        "## Boosting Introduction"
      ],
      "metadata": {
        "id": "MjfcVaVnvpr8"
      }
    },
    {
      "cell_type": "markdown",
      "source": [
        "On the other hand, in boosting, we again have **base learners**\n"
      ],
      "metadata": {
        "id": "lFsLQgc75lhP"
      }
    },
    {
      "cell_type": "markdown",
      "source": [
        "\n",
        "<br>\n",
        "\n",
        "#### So, what's the nature of base learners in boosting ?\n",
        "\n",
        "Here the learners are\n",
        "- **high bias and low variance**"
      ],
      "metadata": {
        "id": "s20XY12G6rrn"
      }
    },
    {
      "cell_type": "markdown",
      "source": [
        "```\n",
        "Quiz 1 - Check your understanding\n",
        "\n",
        "\n",
        "Typically, high bias low variance models are:\n",
        "a. Overfit\n",
        "b. Underfit\n",
        "c. Best fit\n",
        "\n",
        "Correct option: b. Underfit\n",
        "\n",
        "```"
      ],
      "metadata": {
        "id": "y_Og5WAV8OBw"
      }
    },
    {
      "cell_type": "markdown",
      "source": [
        "Now, that we have base learners, we need something to combine them.\n",
        "\n",
        "#### Do you think we can use randomization and aggregation to combine these learners ?\n",
        "\n",
        "No.\n",
        "\n",
        "Recall that\n",
        "    \n",
        "    Randomization was used in bagging in order to reduce the variance\n",
        "\n",
        "Here, variance is already low.\n",
        "\n",
        "    Goal: We have to reduce the bias\n",
        "\n",
        "\n",
        "\n",
        "#### So, how do we combine these learners and reduce the bias ?\n",
        "\n",
        "We use something called **additive combination**\n",
        "\n",
        "Let's see how we combine them."
      ],
      "metadata": {
        "id": "yAiJy_Wm8fxu"
      }
    },
    {
      "cell_type": "markdown",
      "source": [
        "```\n",
        "Quiz 2 - Try it out\n",
        "\n",
        "\n",
        "Which of the following model are underfit models ?\n",
        "\n",
        "a. Decision Stump (Decision Tree with depth = 1)\n",
        "b. Decision Tree with depth = 20\n",
        "c. Decision Tree with depth = 10\n",
        "d. None of the above.\n",
        "\n",
        "Correct option: a. Decision Stump\n",
        "```"
      ],
      "metadata": {
        "id": "XOufWAWA9hJk"
      }
    },
    {
      "cell_type": "markdown",
      "source": [
        "## Boosting Intuition - How do we combine base learners ?"
      ],
      "metadata": {
        "id": "sUfN_O7wHyPU"
      }
    },
    {
      "cell_type": "markdown",
      "source": [
        "\n",
        "Remeber that,\n",
        "\n",
        "The **core idea** is\n",
        "- we have **high bias low variance** base learners.\n",
        "\n",
        "and we have to **reduce the bias**"
      ],
      "metadata": {
        "id": "WQx54nRqH_Ak"
      }
    },
    {
      "cell_type": "markdown",
      "source": [
        "Let's understand how we do this using an example.\n",
        "\n",
        "\n",
        "For simplicity, we'll use an **regression example**\n",
        "- i.e. **target variable** will be numerical/**continuous**."
      ],
      "metadata": {
        "id": "7yC5YldaJnn8"
      }
    },
    {
      "cell_type": "markdown",
      "source": [
        "Say, we have a regression problem where\n",
        "- **given** the **weight** and **gender** of person\n",
        "- we have to **predict** the **height** of the person."
      ],
      "metadata": {
        "id": "bu7QqBVzKhVn"
      }
    },
    {
      "cell_type": "markdown",
      "source": [
        "\n",
        "\n",
        "<center><img src='https://drive.google.com/uc?id=1UZR-pIJbsO5OdtKad_L5h3T6XrZliy97' width=700></center>\n",
        "\n"
      ],
      "metadata": {
        "id": "bodh-Dv3NQ5b"
      }
    },
    {
      "cell_type": "markdown",
      "source": [
        "On this training data ($D_{Train}$), we build our model in steps"
      ],
      "metadata": {
        "id": "wWSjNnQ6XMuH"
      }
    },
    {
      "cell_type": "markdown",
      "source": [
        "### Step 0 : $M_0$"
      ],
      "metadata": {
        "id": "5RzKm2F5MX-v"
      }
    },
    {
      "cell_type": "markdown",
      "source": [
        "We use this training data\n",
        "- and **build a model $M_0$** on it"
      ],
      "metadata": {
        "id": "vujDQjsOMZk8"
      }
    },
    {
      "cell_type": "markdown",
      "source": [
        "\n",
        "\n",
        "Note that, this model has to be **high bias low variance** model i.e. **simplest model**.\n",
        "\n",
        "\n"
      ],
      "metadata": {
        "id": "OL_ZV5qSOp7B"
      }
    },
    {
      "cell_type": "markdown",
      "source": [
        "```\n",
        "Quiz 3 - What model will have high bias low variance ? (Hint: think of simplest model)\n",
        "\n",
        "\n",
        "a. Mean model (which predict mean value everytime)\n",
        "b. Random model (model which predicts random value everytime)\n",
        "c. A DT fit perfectly on training data\n",
        "\n",
        "Correct option: a. Mean model\n",
        "\n",
        "Explanation:\n",
        "- Mean model will have high bias and low variance\n",
        "- Random model will have high bias high variance.\n",
        "```"
      ],
      "metadata": {
        "id": "n82DqMcoSwHE"
      }
    },
    {
      "cell_type": "markdown",
      "source": [
        "So, we use **Mean Model**\n",
        "- i.e. take the **average** of **y values** given to us."
      ],
      "metadata": {
        "id": "eXJ4FzwkT3iM"
      }
    },
    {
      "cell_type": "markdown",
      "source": [
        "\n",
        "\n",
        "<center><img src='https://drive.google.com/uc?id=17INR8oKMa_foHcobDEkimN-KxfYi1KnA' width=500></center>\n"
      ],
      "metadata": {
        "id": "1bLoaaTKU_ca"
      }
    },
    {
      "cell_type": "markdown",
      "source": [
        "Let's represent the prediction using $h_0(x)$\n"
      ],
      "metadata": {
        "id": "u-X3cUhVWdfR"
      }
    },
    {
      "cell_type": "markdown",
      "source": [
        "\n",
        "\n",
        "<center><img src='https://drive.google.com/uc?id=15Ei-54hye3-ikxvnzNQ4NqaypZratpLj' width=500></center>\n"
      ],
      "metadata": {
        "id": "CADW9O7PbE6o"
      }
    },
    {
      "cell_type": "markdown",
      "source": [
        "Now, there'll be some error associated with these predictions"
      ],
      "metadata": {
        "id": "g8moS71ycz9L"
      }
    },
    {
      "cell_type": "markdown",
      "source": [
        "```\n",
        "Quiz 4 - Try it out\n",
        "\n",
        "What will be the training error for high bias model ?\n",
        "\n",
        "a. High error\n",
        "b. No error\n",
        "c. Low error\n",
        "\n",
        "\n",
        "Correct option: a. High error\n",
        "\n",
        "```"
      ],
      "metadata": {
        "id": "zM2VOHeodNfs"
      }
    },
    {
      "cell_type": "markdown",
      "source": [
        "Since, it is a **mean model**,\n",
        "- it'll have **large training error**\n",
        "\n",
        "\n",
        "After building the model,\n",
        " - we calculate these error/ residual\n",
        "\n"
      ],
      "metadata": {
        "id": "1jPzZXe0dgz_"
      }
    },
    {
      "cell_type": "markdown",
      "source": [
        "\n",
        "\n",
        "<center><img src='https://drive.google.com/uc?id=1dUoUFdpmxKTQRofTStXgh7HNdRrGYcNe' width=700></center>\n",
        "\n"
      ],
      "metadata": {
        "id": "LCBudVWyeDyh"
      }
    },
    {
      "cell_type": "markdown",
      "source": [
        "Using this,\n",
        "\n",
        "- we can represent actual value ($y^{i}$) as. :"
      ],
      "metadata": {
        "id": "gCNKe60GeOjM"
      }
    },
    {
      "cell_type": "markdown",
      "source": [
        "\n",
        "\n",
        "<center><img src='https://drive.google.com/uc?id=16oWLjRmzFs3MeQ8cXV68CWQSy2mrKU5p' width=600></center>\n",
        "\n",
        "\n"
      ],
      "metadata": {
        "id": "ijE1xpZChKZh"
      }
    },
    {
      "cell_type": "markdown",
      "source": [
        "i.e.  **combination of prediction and error.**"
      ],
      "metadata": {
        "id": "_u_jbXfpZukk"
      }
    },
    {
      "cell_type": "markdown",
      "source": [
        "#### What is our goal ?\n",
        "\n",
        "We want to improve our prediction by reducing the error.\n",
        "\n",
        "In order to do so,\n",
        "\n",
        "#### **What if we fit a new model to predict the error and add that prediction to original prediction ($h_0(x)$) ?**\n",
        "\n",
        "\n",
        "This is what we do in next step"
      ],
      "metadata": {
        "id": "8nNBZMpGZ0gT"
      }
    },
    {
      "cell_type": "markdown",
      "source": [
        "\n",
        "\n",
        "<center><img src='https://drive.google.com/uc?id=1497YY5EvjAqUKZNnZ9Z3ZMV-KWycBIYX' width=600></center>\n",
        "\n",
        "\n"
      ],
      "metadata": {
        "id": "zU6o0sgrbuEo"
      }
    },
    {
      "cell_type": "markdown",
      "source": [
        "### Step 1 : $M_1$"
      ],
      "metadata": {
        "id": "xB4NK2fGaAAc"
      }
    },
    {
      "cell_type": "markdown",
      "source": [
        "We take the {$x^i, err^i_0$} from the previous step and\n",
        "- fit a model on it.\n",
        "\n",
        "\n",
        "Let's call this model $M_1$\n",
        "\n",
        "<br>\n",
        "\n",
        "#### Which model shall we use as $M_1$ ?\n",
        "\n",
        "Generally, it can be any model (be linear regression etc)\n",
        "- but since we are talking about boosted decision trees\n",
        "- so, we'll consider a **decision tree** over here\n",
        "\n",
        "Remember that\n",
        "- **Decision Tree** used here will be of **low depth**\n",
        "\n"
      ],
      "metadata": {
        "id": "_PRiV3iJZ_X3"
      }
    },
    {
      "cell_type": "markdown",
      "source": [
        "```\n",
        "Quiz 5 - Try it out\n",
        "\n",
        "Why are we using DT with low depth here ?\n",
        "\n",
        "a. we are looking for high variance low bias model\n",
        "b. we are looking for high bias low variance model\n",
        "c. we are looking for overfit model\n",
        "d. no reason. just picked it randomly.\n",
        "\n",
        "Correct option: b. we are looking for high bias low variance model\n",
        "\n",
        "```"
      ],
      "metadata": {
        "id": "z_AUJzcHc0-M"
      }
    },
    {
      "cell_type": "markdown",
      "source": [
        "**Low depth** model will be **high bias and low variance models**."
      ],
      "metadata": {
        "id": "9NbUCIj0esy4"
      }
    },
    {
      "cell_type": "markdown",
      "source": [
        "\n",
        "\n",
        "<center><img src='https://drive.google.com/uc?id=1a_vHw6XGQPj2hhDrvOexDsH8DLPW5TQ-' width=800></center>\n",
        "\n"
      ],
      "metadata": {
        "id": "aGlRsmEhezDp"
      }
    },
    {
      "cell_type": "markdown",
      "source": [
        "The prediction of this model is represented using $h_1(x)$"
      ],
      "metadata": {
        "id": "c_2UAg5Zhxlz"
      }
    },
    {
      "cell_type": "markdown",
      "source": [
        "Now, we need to add Step 1's prediction with Step 0's prediction\n",
        "\n",
        "This is what **additive combination** is called."
      ],
      "metadata": {
        "id": "nRDrBzEriDCx"
      }
    },
    {
      "cell_type": "markdown",
      "source": [
        "The final model $F_1(x)$ at the end of step 1 is defined as:"
      ],
      "metadata": {
        "id": "BY51SF5FiNHP"
      }
    },
    {
      "cell_type": "markdown",
      "source": [
        "\n",
        "\n",
        "<center><img src='https://drive.google.com/uc?id=1pmPoYRvKE9__R3pEfSd0UTuMl6l5CN_k' width=700></center>\n",
        "\n",
        "\n",
        "\n"
      ],
      "metadata": {
        "id": "Om6ZeO5DkPFj"
      }
    },
    {
      "cell_type": "markdown",
      "source": [
        "#### Issues with simple addition"
      ],
      "metadata": {
        "id": "XBPR5zEvm4cR"
      }
    },
    {
      "cell_type": "markdown",
      "source": [
        "There's a **possibility** that\n",
        "- model trained at **stage 1 has large residuals**\n",
        "- and **isn't contributing** much to the final prediction\n",
        "\n",
        "So, we **need** to have a **mechanism** which\n",
        "- defines how much of **model contribution** do we want to add **to final model predicition**\n",
        "\n"
      ],
      "metadata": {
        "id": "09xO14kIoXXf"
      }
    },
    {
      "cell_type": "markdown",
      "source": [
        "#### How do we resolve this issue ?"
      ],
      "metadata": {
        "id": "Rg1lWtHjpJsv"
      }
    },
    {
      "cell_type": "markdown",
      "source": [
        "**Instead** of using simple addition,\n",
        "- **multiply** the model with a **weight value** (γ)\n",
        "\n",
        "\n",
        "If the model has **lower residual**,\n",
        "- then we'll have **large weight** assign to it\n",
        "- i.e. **more influence** to final predicition\n",
        "\n",
        "If the model has **higher residual**\n",
        "- then we'll **reduce its infludence** by assigning it **small weight**\n",
        "\n",
        "\n",
        "\n",
        "\n"
      ],
      "metadata": {
        "id": "TReDhcFnpMWE"
      }
    },
    {
      "cell_type": "markdown",
      "source": [
        "#### How do we learn these weights ?\n",
        "\n",
        "We do so using optimization (will be discussed later)"
      ],
      "metadata": {
        "id": "241hrqxJqNqK"
      }
    },
    {
      "cell_type": "markdown",
      "source": [
        "So, the final model prediction @ stage 1 becomes :"
      ],
      "metadata": {
        "id": "EuiQQF9rp9s0"
      }
    },
    {
      "cell_type": "markdown",
      "source": [
        "\n",
        "\n",
        "<center><img src='https://drive.google.com/uc?id=14_OC9qz7rOJT3ESgqhGO29zleliWqv0y' width=700></center>\n",
        "\n"
      ],
      "metadata": {
        "id": "BSqx4cIWqNFL"
      }
    },
    {
      "cell_type": "markdown",
      "source": [
        "But, we don't stop here.\n",
        "\n",
        "We move onto next step"
      ],
      "metadata": {
        "id": "vqRWN9VYqmWm"
      }
    },
    {
      "cell_type": "markdown",
      "source": [
        "### Step 2: $M_2$"
      ],
      "metadata": {
        "id": "GHMCW7-8rT16"
      }
    },
    {
      "cell_type": "markdown",
      "source": [
        "\n",
        "For stage 2,\n",
        "\n",
        "- we also train the model on residual i.e.\n",
        "\n",
        "- {$x^i, err^i$}"
      ],
      "metadata": {
        "id": "JqxiQrACrV6G"
      }
    },
    {
      "cell_type": "markdown",
      "source": [
        "#### What will be residual used in step 2 ?"
      ],
      "metadata": {
        "id": "TeBAWIGYxFRX"
      }
    },
    {
      "cell_type": "markdown",
      "source": [
        "```\n",
        "Quiz 6 - Check your understanding\n",
        "\n",
        "What error shall we use here at stage 2 ?\n",
        "\n",
        "\n",
        "a. Residual left after subtracting final model prediction\n",
        " (F_1(x)) from actual value\n",
        "b. Residual left after subtracting Stage 1 model (M_1) from actual value\n",
        "c. Residual left after subtracting Stage 0 model (M_0) from actual value\n",
        "d. None of the above\n",
        "\n",
        "\n",
        "Correct option: a. Residual left after subtracting final model prediction  (F_1(x)) from actual value\n",
        "\n",
        "```"
      ],
      "metadata": {
        "id": "msipnvYeuz2h"
      }
    },
    {
      "cell_type": "markdown",
      "source": [
        "Here,\n",
        "- $err^i$ will be $err^i_1$\n",
        "- i.e. residual left after Stage 1 final model prediction"
      ],
      "metadata": {
        "id": "30Ud-p4dwDtP"
      }
    },
    {
      "cell_type": "markdown",
      "source": [
        "\n",
        "\n",
        "<center><img src='https://drive.google.com/uc?id=1klWmUbMSEFRRe_k43WSAjMq9z0INXfO5' width=700></center>\n",
        "\n"
      ],
      "metadata": {
        "id": "68lqlnPjwTNa"
      }
    },
    {
      "cell_type": "markdown",
      "source": [
        "Now, using this {$x^i, err^i_1$}\n",
        "- we again **train a model** (say, $M_2$)\n",
        "- i.e. a DT with small depth"
      ],
      "metadata": {
        "id": "Fx5TrCUJxTWg"
      }
    },
    {
      "cell_type": "markdown",
      "source": [
        "\n",
        "\n",
        "<center><img src='https://drive.google.com/uc?id=1HXbhoiEMsot00eaC1OcWXYByIJ9ObsFs' width=800></center>\n"
      ],
      "metadata": {
        "id": "OONItezMx1Or"
      }
    },
    {
      "cell_type": "markdown",
      "source": [
        "The final prediction at the end of step 2 will be :"
      ],
      "metadata": {
        "id": "DZMNc20Jz76k"
      }
    },
    {
      "cell_type": "markdown",
      "source": [
        "\n",
        "\n",
        "<center><img src='https://drive.google.com/uc?id=1jSATsUVoOldtevpKXZs3McQjXRzsSmJW' width=800></center>\n"
      ],
      "metadata": {
        "id": "uJUwMnER0cNy"
      }
    },
    {
      "cell_type": "markdown",
      "source": [
        "If we keep doing this till M steps"
      ],
      "metadata": {
        "id": "Zg0N3XpK1DE1"
      }
    },
    {
      "cell_type": "markdown",
      "source": [
        "### Step M :"
      ],
      "metadata": {
        "id": "l3U7N78q1kDK"
      }
    },
    {
      "cell_type": "markdown",
      "source": [
        "The final model @ end of stage M will be :"
      ],
      "metadata": {
        "id": "wAzl89W41t1Q"
      }
    },
    {
      "cell_type": "markdown",
      "source": [
        "\n",
        "\n",
        "<center><img src='https://drive.google.com/uc?id=1Q74iZo3XCr1vOC4sXix8JrlL2bJRT9iK' width=800></center>\n",
        "\n"
      ],
      "metadata": {
        "id": "OGq4uUIP1y_d"
      }
    },
    {
      "cell_type": "markdown",
      "source": [
        "Here **M is the number of models (base learners)**\n",
        "- It can be 100, 200 or 300 etc\n",
        "- i.e it is a **hyperparameter**"
      ],
      "metadata": {
        "id": "uioditSc4b61"
      }
    },
    {
      "cell_type": "markdown",
      "source": [
        "To **conclude**:\n",
        "\n",
        "- we are **iteratively** building our **models** on the **error of the previous models**.\n",
        "- i.e. it is a sequential technique\n",
        "- Each model is high bias low variance model\n",
        "- We use weights to adjust the influence of model in final prediction\n",
        "\n"
      ],
      "metadata": {
        "id": "feVWCgqP207D"
      }
    },
    {
      "cell_type": "markdown",
      "source": [
        "```\n",
        "Quiz 7 - Check your understanding\n",
        "\n",
        "Which of the following statement is true?\n",
        "\n",
        "a. Boosting is a sequential model building technique\n",
        "b. We use weights to adjust the influence of model in final predicition\n",
        "c. New model is build on the error of previous models\n",
        "d. All of the above\n",
        "\n",
        "\n",
        "Correct option: All of the above.\n",
        "\n",
        "```"
      ],
      "metadata": {
        "id": "YtQeILiS3Itm"
      }
    },
    {
      "cell_type": "markdown",
      "source": [
        "### Example"
      ],
      "metadata": {
        "id": "Bnl4eQao3pvo"
      }
    },
    {
      "cell_type": "markdown",
      "source": [
        "Let's recap the process using an example\n",
        "\n",
        "- Predicting the weight using height and gender"
      ],
      "metadata": {
        "id": "2JkWwkW25WK9"
      }
    },
    {
      "cell_type": "markdown",
      "source": [
        "\n",
        "\n",
        "<center><img src='https://drive.google.com/uc?id=1UZR-pIJbsO5OdtKad_L5h3T6XrZliy97' width=700></center>\n",
        "\n"
      ],
      "metadata": {
        "id": "4UWBNq905bo1"
      }
    },
    {
      "cell_type": "markdown",
      "source": [
        "We start off with stage 0\n",
        "\n",
        "- where the prediction will be average of all values"
      ],
      "metadata": {
        "id": "bwOLtPji5g8f"
      }
    },
    {
      "cell_type": "markdown",
      "source": [
        "\n",
        "\n",
        "<center><img src='https://drive.google.com/uc?id=1tX2E9YyhobXfRpzycmQuGDa10FJ01j-n' width=700></center>\n",
        "\n",
        "\n"
      ],
      "metadata": {
        "id": "O7U70LiT5qeM"
      }
    },
    {
      "cell_type": "markdown",
      "source": [
        "Now, using the prediction of stage 0\n",
        "- we calculate the residual"
      ],
      "metadata": {
        "id": "F8dQFFIh6YEX"
      }
    },
    {
      "cell_type": "markdown",
      "source": [
        "\n",
        "\n",
        "<center><img src='https://drive.google.com/uc?id=12VngbawGHJm6W5YVb3EbythzWS6guuD5' width=700></center>\n",
        "\n",
        "\n",
        "\n",
        "\n"
      ],
      "metadata": {
        "id": "4ZdfcdIC6ghZ"
      }
    },
    {
      "cell_type": "markdown",
      "source": [
        "Now, we use the features (height , gender) and these error value to fit a new model to it\n",
        "- i.e. Stage 1 model"
      ],
      "metadata": {
        "id": "fQRHTtBy7div"
      }
    },
    {
      "cell_type": "markdown",
      "source": [
        "\n",
        "\n",
        "<center><img src='https://drive.google.com/uc?id=1D7Mr1DTd2dkUbM6_Ie7woH8QmrIOj_EJ' width=700></center>\n",
        "\n",
        "\n"
      ],
      "metadata": {
        "id": "fwbNSFDq7dgr"
      }
    },
    {
      "cell_type": "markdown",
      "source": [
        "Then we calculate the final predicition\n",
        "\n",
        "- followed by error i.e. (y - final prediction @ end of stage 1 )\n",
        "\n",
        "\n",
        "This process goes on till M steps."
      ],
      "metadata": {
        "id": "n7VmvENL7acn"
      }
    },
    {
      "cell_type": "markdown",
      "source": [
        "### Geometrical Intution"
      ],
      "metadata": {
        "id": "Q_WG2Q_QFrD-"
      }
    },
    {
      "cell_type": "markdown",
      "source": [
        "#### How does model fitting looks like geometrically ?\n"
      ],
      "metadata": {
        "id": "MYjDuVsfFzjG"
      }
    },
    {
      "cell_type": "markdown",
      "source": [
        "Imagine we have 2D regression data which looks like :"
      ],
      "metadata": {
        "id": "hPmUnz_NF35c"
      }
    },
    {
      "cell_type": "markdown",
      "source": [
        "\n",
        "\n",
        "<center><img src='https://drive.google.com/uc?id=1aar45UOa-XOUqykyDsrNxy8Mobepw7HO' width=700></center>\n"
      ],
      "metadata": {
        "id": "I5biLy8OGB1V"
      }
    },
    {
      "cell_type": "markdown",
      "source": [
        "The regression line after each model stage will look like :"
      ],
      "metadata": {
        "id": "KO9YMUepGXPt"
      }
    },
    {
      "cell_type": "markdown",
      "source": [
        "\n",
        "\n",
        "<center><img src='https://drive.google.com/uc?id=1vr-XTgG7DNAuDCNTVs7oTFnp0ejLXNUC' width=700></center>\n",
        "\n"
      ],
      "metadata": {
        "id": "F3Z3kAdqGhSQ"
      }
    },
    {
      "cell_type": "markdown",
      "source": [
        "Notice that\n",
        "- how it starts from a straight line (mean model)\n",
        "- and adds on the complexity as iteration (Steps) increase"
      ],
      "metadata": {
        "id": "BTBdSKe7GjfX"
      }
    },
    {
      "cell_type": "markdown",
      "source": [
        "The whole process along with the reduction in residual looks as follows :"
      ],
      "metadata": {
        "id": "8-zq2zS3GwYv"
      }
    },
    {
      "cell_type": "markdown",
      "source": [
        "\n",
        "\n",
        "<center><img src='https://drive.google.com/uc?id=1uAPBbE0PORxg3K_UUJuYpVMTxaWwavJL' width=700></center>\n",
        "\n",
        "\n"
      ],
      "metadata": {
        "id": "BGjNvPNSG25y"
      }
    },
    {
      "cell_type": "markdown",
      "source": [
        "Notice that\n",
        "- as we add the stage K's prediction to the final prediction\n",
        "    - the regression like fits better to the data\n",
        "- also the residual is reducing for each iteration."
      ],
      "metadata": {
        "id": "qt3uckNaG50T"
      }
    },
    {
      "cell_type": "markdown",
      "source": [
        "## What happens at train and test time ?\n"
      ],
      "metadata": {
        "id": "rOixy3QKJHjH"
      }
    },
    {
      "cell_type": "markdown",
      "source": [
        "#### At train time"
      ],
      "metadata": {
        "id": "elMXaR0PJKNr"
      }
    },
    {
      "cell_type": "markdown",
      "source": [
        "\n",
        "- it fits all the decision trees\n",
        "- and find the value of weights (γ)\n",
        "\n",
        "\n",
        "\n",
        "Recall that\n",
        "- the model were **trained** **iteratively** on the error of previous model\n",
        "\n",
        "- i.e. **kth model** is **trained** only **after k-1 th** model is done with the training\n",
        "- it is a **sequential** **process**\n",
        "\n",
        "Hence, **training** is bit **slow**.\n",
        "\n",
        "\n"
      ],
      "metadata": {
        "id": "623aHZpzJMjR"
      }
    },
    {
      "cell_type": "markdown",
      "source": [
        "#### At test time"
      ],
      "metadata": {
        "id": "fCn9yu_MJhkh"
      }
    },
    {
      "cell_type": "markdown",
      "source": [
        "Say, we found out M = 3 as best hyperparam\n",
        "\n",
        "So, final prediction will be :"
      ],
      "metadata": {
        "id": "PCHQ56cNJ8qz"
      }
    },
    {
      "cell_type": "markdown",
      "source": [
        "\n",
        "\n",
        "<center><img src='https://drive.google.com/uc?id=1m3NA4Uono3Dh3MKN9qN9IyHodI0Rjgio' width=700></center>\n",
        "\n"
      ],
      "metadata": {
        "id": "VklQQj6pKKZz"
      }
    },
    {
      "cell_type": "markdown",
      "source": [
        "We have already found out of the values of $h_0(x), h_1(x) ... h_3(x)$\n",
        "- these are nothing but Decision Trees\n",
        "\n",
        "- We also find the weights ($γ_1, γ_2, γ_3$) during the training time.\n",
        "\n",
        "So, for a query point\n",
        "- we just need to pass it thorugh the DTs and get the prediction\n",
        "- and multiply it with the weight values (which were calculated at train time)"
      ],
      "metadata": {
        "id": "eCh6f922Knjk"
      }
    },
    {
      "cell_type": "markdown",
      "source": [
        "## Why Boosting ? - Gradient Boosting Intuition"
      ],
      "metadata": {
        "id": "EFZNEmoQL_Ah"
      }
    },
    {
      "cell_type": "markdown",
      "source": [
        "```\n",
        "Quiz 8 - Try it out\n",
        "\n",
        "\n",
        "True or False: We can parallelize boosting process i.e. build each model parallely\n",
        "\n",
        "a. True\n",
        "b. False\n",
        "\n",
        "\n",
        "Correct option: False\n",
        "\n",
        "```"
      ],
      "metadata": {
        "id": "viGKWWqeN9uh"
      }
    },
    {
      "cell_type": "markdown",
      "source": [
        "Since each subsequent model depends upon\n",
        "- the error of the previous model\n",
        "\n",
        "It is **impossible** to **parallelize** the process.\n",
        "- So, it'll be slower than RF.\n",
        "\n",
        "#### We already have Random forest which can be easily be parallilized. Why do we need boosting then ?"
      ],
      "metadata": {
        "id": "OlGZ8f9hOdN8"
      }
    },
    {
      "cell_type": "markdown",
      "source": [
        "The real magic of boosting lies in the fact that\n",
        "- **it can minimize any loss**\n",
        "\n",
        "\n",
        "Be it squared loss, logloss\n",
        "- we can minimize it using **gradient boosting**\n",
        "\n",
        "Let's see how boosting does that"
      ],
      "metadata": {
        "id": "VB_psbAdO5ct"
      }
    },
    {
      "cell_type": "markdown",
      "source": [
        "### Pseudo residuals"
      ],
      "metadata": {
        "id": "6EvuHL_L_rJX"
      }
    },
    {
      "cell_type": "markdown",
      "source": [
        "Say, we want to minimize the squared loss"
      ],
      "metadata": {
        "id": "ykdlStRs_tXm"
      }
    },
    {
      "cell_type": "markdown",
      "source": [
        "\n",
        "\n",
        "<center><img src='https://drive.google.com/uc?id=1xep9g-StbvgmmtYxDzmMFQs-PNlSoPd-' width=700></center>\n"
      ],
      "metadata": {
        "id": "Ob-IGNFXAeCx"
      }
    },
    {
      "cell_type": "markdown",
      "source": [
        "Let's **differentiate** the **loss** function **w.r.t** **ŷ** (output of the model)\n",
        "\n",
        "The differentiation will come out to be :"
      ],
      "metadata": {
        "id": "wrkSJX1rBSM6"
      }
    },
    {
      "cell_type": "markdown",
      "source": [
        "\n",
        "\n",
        "<center><img src='https://drive.google.com/uc?id=1aGQE6W8NDoqGd-jMrbumV8lneEKJG1xh' width=700></center>\n",
        "\n"
      ],
      "metadata": {
        "id": "ljg64jrlB26j"
      }
    },
    {
      "cell_type": "markdown",
      "source": [
        "Let's multiply both sides with -1.\n",
        "\n"
      ],
      "metadata": {
        "id": "152UkUPVGxc0"
      }
    },
    {
      "cell_type": "markdown",
      "source": [
        "\n",
        "\n",
        "<center><img src='https://drive.google.com/uc?id=11Xst6go_BIf59i0K5083dT_JCVVCpkVZ' width=700></center>\n",
        "\n"
      ],
      "metadata": {
        "id": "QAvwcd15HGBd"
      }
    },
    {
      "cell_type": "markdown",
      "source": [
        "If we were to ignore 2 in the equation, we can say that\n",
        "\n",
        "- **Residual** is **proportional** to the **negative of the graident of the Loss function w.r.t to model prediction**\n",
        "\n",
        "\n"
      ],
      "metadata": {
        "id": "QahUAUgoJhu7"
      }
    },
    {
      "cell_type": "markdown",
      "source": [
        "We also know that,\n",
        "\n",
        "$$ŷ = F_k(x^i)$$\n",
        "\n",
        "\n",
        "Let's replace ŷ in the eq. with $F_k(x^i)$"
      ],
      "metadata": {
        "id": "Z88-9U_mHFJr"
      }
    },
    {
      "cell_type": "markdown",
      "source": [
        "\n",
        "\n",
        "<center><img src='https://drive.google.com/uc?id=1Pjh4PLjI5XZigeMVFahQvoMbwJfGZwcl' width=700></center>\n",
        "\n",
        "\n"
      ],
      "metadata": {
        "id": "Uur0yhrtHFh1"
      }
    },
    {
      "cell_type": "markdown",
      "source": [
        "These negative graidents are called a **pseudo residuals**"
      ],
      "metadata": {
        "id": "KTnC_Ap2Li4A"
      }
    },
    {
      "cell_type": "markdown",
      "source": [
        "If it were a classification problem\n",
        "- we simply need to replace squared loss with log loss\n"
      ],
      "metadata": {
        "id": "mCqdxDbZKniw"
      }
    },
    {
      "cell_type": "markdown",
      "source": [
        "#### But, how do we use these pseudo residuals ?"
      ],
      "metadata": {
        "id": "Ri1KeBAbLRnj"
      }
    },
    {
      "cell_type": "markdown",
      "source": [
        "Let's say we are building the model  and\n",
        "- we are at step j\n",
        "\n",
        "Let's term the model as **$M_j$**\n",
        "\n",
        "\n",
        "#### What do we need to train this model ?\n",
        "\n"
      ],
      "metadata": {
        "id": "esamaPHpLoML"
      }
    },
    {
      "cell_type": "markdown",
      "source": [
        "We need {$x^i, err^i$}"
      ],
      "metadata": {
        "id": "Mvzn1eSdLtzS"
      }
    },
    {
      "cell_type": "markdown",
      "source": [
        "```\n",
        "Quiz 9 - Check your understanding\n",
        "\n",
        "\n",
        "Fill in the blanks:\n",
        "\n",
        "In order to build model M_j (i.e. model at step j). We need err_i i.e. error of previous models.\n",
        "\n",
        "err_i = y_i - ____ ?\n",
        "\n",
        "a. h_{j-1}(x)\n",
        "b. h_j(x)\n",
        "c. F_j(x)\n",
        "d. F_{j-1}(x)\n",
        "\n",
        "\n",
        "\n",
        "Correct option: d. F_{j-1}(x)\n",
        "\n",
        "```"
      ],
      "metadata": {
        "id": "Ou1fKiuNMSqU"
      }
    },
    {
      "cell_type": "markdown",
      "source": [
        "In order to calculate the error for Model $M_j$,\n",
        "- we calculate $err^i$ using $y^i - F_{j-1}(x^i)$\n",
        "\n",
        "\n",
        "The calculation is as follows:"
      ],
      "metadata": {
        "id": "MkMIx9KRNLRq"
      }
    },
    {
      "cell_type": "markdown",
      "source": [
        "\n",
        "\n",
        "<center><img src='https://drive.google.com/uc?id=1Nh7ebdoPGTWCFzrxW80ivBPk3IJfvB9e' width=700></center>\n",
        "\n",
        "\n",
        "\n",
        "\n"
      ],
      "metadata": {
        "id": "UQk_KoCuNa8W"
      }
    },
    {
      "cell_type": "markdown",
      "source": [
        "\n",
        "Instead of calculating the residual at each step,\n",
        "- we can simply calculate pseudo residual"
      ],
      "metadata": {
        "id": "xiW6iuxvORvp"
      }
    },
    {
      "cell_type": "markdown",
      "source": [
        "\n",
        "\n",
        "<center><img src='https://drive.google.com/uc?id=1U1xE7Okq5jL_TED1z-7QhapDZooCyyEg' width=800></center>\n",
        "\n"
      ],
      "metadata": {
        "id": "9A5cEE95O4Zf"
      }
    },
    {
      "cell_type": "markdown",
      "source": [
        "#### How does using pseudo residual helping us ?"
      ],
      "metadata": {
        "id": "ErUq_UqJO7A_"
      }
    },
    {
      "cell_type": "markdown",
      "source": [
        "As we have proved already using sqaured loss,\n",
        "- taking negative graident of loss is proportional to residual\n",
        "\n",
        "\n",
        "And By building model at each step,\n",
        "- we are **trying to minimize the residuals**\n",
        "\n",
        "\n",
        "So,\n",
        "- If we were to **use pseudo residual instead of residual**\n",
        "    - we are **indirectly minimizing the loss function** we have taken."
      ],
      "metadata": {
        "id": "u_vaclKrO97C"
      }
    },
    {
      "cell_type": "markdown",
      "source": [
        "Using this,\n",
        "- we can **minimize any custom loss function**\n",
        "- as long as it is **differentiable**.\n",
        "\n",
        "\n",
        "This is the **true power of gradient boosting**\n",
        "- which isn't given by another algo including Random forest\n"
      ],
      "metadata": {
        "id": "nPon1Di1PmZm"
      }
    },
    {
      "cell_type": "markdown",
      "source": [
        "#### (Optional) Extra Read - Pseudo residual Log loss"
      ],
      "metadata": {
        "id": "QIi-5M56eoqP"
      }
    },
    {
      "cell_type": "markdown",
      "source": [
        "The computation of Log loss pseudo residual is a bit math heavy.\n",
        "- hence, has been provided as extra read\n",
        "\n",
        "Do check it out: https://colab.research.google.com/drive/1TAp1vuROQyVyhntq8Bv4VhfshouSKvnB?usp=sharing"
      ],
      "metadata": {
        "id": "zMTRcvOke2rg"
      }
    },
    {
      "cell_type": "markdown",
      "source": [
        "## Sklearn implemntation"
      ],
      "metadata": {
        "id": "L9SqCVtEB4dm"
      }
    },
    {
      "cell_type": "markdown",
      "source": [
        "Let's implement it on the one of the previously used dataset\n",
        "- Employee attrition dataset (used in DT)"
      ],
      "metadata": {
        "id": "udZ2F2sJ_s8j"
      }
    },
    {
      "cell_type": "code",
      "execution_count": null,
      "metadata": {
        "colab": {
          "base_uri": "https://localhost:8080/"
        },
        "id": "YK15a4m5aZmd",
        "outputId": "4cee75a3-ac9a-4ce6-fe30-8c5bf039762f"
      },
      "outputs": [
        {
          "output_type": "stream",
          "name": "stdout",
          "text": [
            "Downloading...\n",
            "From: https://drive.google.com/uc?id=19L3rYatfhbBL1r5MHrv-p_oM2wlvrhqk\n",
            "To: /content/preprocessed_X_sm.pickle\n",
            "100% 534k/534k [00:00<00:00, 5.63MB/s]\n",
            "Downloading...\n",
            "From: https://drive.google.com/uc?id=1OHLKJwA3qZopKPvlKoRldM6BvA1A4dYF\n",
            "To: /content/X_test.pickle\n",
            "100% 111k/111k [00:00<00:00, 2.51MB/s]\n",
            "Downloading...\n",
            "From: https://drive.google.com/uc?id=1N7O_fWCTJLu8SIa_paKcDEzllgpMk8sK\n",
            "To: /content/y_sm.pickle\n",
            "100% 15.4k/15.4k [00:00<00:00, 52.3MB/s]\n",
            "Downloading...\n",
            "From: https://drive.google.com/uc?id=12Bh2AN8LcZAlg20ehpQrEWccUDaSdsOG\n",
            "To: /content/y_test.pickle\n",
            "100% 9.49k/9.49k [00:00<00:00, 34.4MB/s]\n"
          ]
        }
      ],
      "source": [
        "!gdown 19L3rYatfhbBL1r5MHrv-p_oM2wlvrhqk\n",
        "!gdown 1OHLKJwA3qZopKPvlKoRldM6BvA1A4dYF\n",
        "!gdown 1N7O_fWCTJLu8SIa_paKcDEzllgpMk8sK\n",
        "!gdown 12Bh2AN8LcZAlg20ehpQrEWccUDaSdsOG"
      ]
    },
    {
      "cell_type": "code",
      "execution_count": null,
      "metadata": {
        "id": "lLOv-ppuaas8"
      },
      "outputs": [],
      "source": [
        "import pickle\n",
        "# Load data (deserialize)\n",
        "with open('preprocessed_X_sm.pickle', 'rb') as handle:\n",
        "    X_train = pickle.load(handle)\n",
        "\n",
        "with open('X_test.pickle', 'rb') as handle:\n",
        "    X_test = pickle.load(handle)\n",
        "\n",
        "with open('y_sm.pickle', 'rb') as handle:\n",
        "    y_train = pickle.load(handle)\n",
        "\n",
        "with open('y_test.pickle', 'rb') as handle:\n",
        "    y_test = pickle.load(handle)"
      ]
    },
    {
      "cell_type": "markdown",
      "source": [
        "<br>\n",
        "\n",
        "But before that\n",
        "- we need to know what are the hyperparams we need to tune"
      ],
      "metadata": {
        "id": "s77U_wsT_owX"
      }
    },
    {
      "cell_type": "markdown",
      "source": [
        "```\n",
        "Quiz 10 - Try it out\n",
        "\n",
        "What do you think are the hyperparameter for boosting ?\n",
        "\n",
        "\n",
        "a. Number of trees\n",
        "b. Depth\n",
        "c. which loss to use\n",
        "d. All of the above\n",
        "\n",
        "\n",
        "Correct option: d. All of the above\n",
        "```"
      ],
      "metadata": {
        "id": "WodjvUR2_sou"
      }
    },
    {
      "cell_type": "markdown",
      "source": [
        "As we learnt that\n",
        "- there are M step in making the model\n",
        "- we need to control how many steps/iteration we want i.e. how many base learners we want\n",
        "\n",
        "As learners should be high bias low variance\n",
        "- we would have to experiment with depth of the tree\n",
        "- hence, it is again a hyperparam\n",
        "\n",
        "\n",
        "Boosting also gives us flexibility to choose the loss function\n",
        "- Hence, it is also an hyperparam.\n",
        "\n",
        "\n",
        "<br>\n",
        "\n",
        "Other than that,\n",
        "- there are hyperparam related to DT which we have already seen."
      ],
      "metadata": {
        "id": "iYtN44zOBZnm"
      }
    },
    {
      "cell_type": "markdown",
      "source": [
        "Now, let's import the class from sklearn\n",
        "\n",
        "sklearn GBDT: https://scikit-learn.org/stable/modules/generated/sklearn.ensemble.GradientBoostingClassifier.html"
      ],
      "metadata": {
        "id": "rN4iERcqByv2"
      }
    },
    {
      "cell_type": "code",
      "source": [
        "from sklearn.ensemble import GradientBoostingClassifier"
      ],
      "metadata": {
        "id": "bVQrni4LYjek"
      },
      "execution_count": null,
      "outputs": []
    },
    {
      "cell_type": "code",
      "source": [
        "gbc = GradientBoostingClassifier(n_estimators=150, max_depth=2, loss = 'log_loss')"
      ],
      "metadata": {
        "id": "TQGz7aDOYjbs"
      },
      "execution_count": null,
      "outputs": []
    },
    {
      "cell_type": "code",
      "source": [
        "gbc.fit(X_train, y_train)"
      ],
      "metadata": {
        "colab": {
          "base_uri": "https://localhost:8080/",
          "height": 75
        },
        "id": "ZOtGMddYYjY8",
        "outputId": "db0a10dc-846f-4815-ef5b-6fc7170870ea"
      },
      "execution_count": null,
      "outputs": [
        {
          "output_type": "execute_result",
          "data": {
            "text/plain": [
              "GradientBoostingClassifier(max_depth=2, n_estimators=150)"
            ],
            "text/html": [
              "<style>#sk-container-id-4 {color: black;background-color: white;}#sk-container-id-4 pre{padding: 0;}#sk-container-id-4 div.sk-toggleable {background-color: white;}#sk-container-id-4 label.sk-toggleable__label {cursor: pointer;display: block;width: 100%;margin-bottom: 0;padding: 0.3em;box-sizing: border-box;text-align: center;}#sk-container-id-4 label.sk-toggleable__label-arrow:before {content: \"▸\";float: left;margin-right: 0.25em;color: #696969;}#sk-container-id-4 label.sk-toggleable__label-arrow:hover:before {color: black;}#sk-container-id-4 div.sk-estimator:hover label.sk-toggleable__label-arrow:before {color: black;}#sk-container-id-4 div.sk-toggleable__content {max-height: 0;max-width: 0;overflow: hidden;text-align: left;background-color: #f0f8ff;}#sk-container-id-4 div.sk-toggleable__content pre {margin: 0.2em;color: black;border-radius: 0.25em;background-color: #f0f8ff;}#sk-container-id-4 input.sk-toggleable__control:checked~div.sk-toggleable__content {max-height: 200px;max-width: 100%;overflow: auto;}#sk-container-id-4 input.sk-toggleable__control:checked~label.sk-toggleable__label-arrow:before {content: \"▾\";}#sk-container-id-4 div.sk-estimator input.sk-toggleable__control:checked~label.sk-toggleable__label {background-color: #d4ebff;}#sk-container-id-4 div.sk-label input.sk-toggleable__control:checked~label.sk-toggleable__label {background-color: #d4ebff;}#sk-container-id-4 input.sk-hidden--visually {border: 0;clip: rect(1px 1px 1px 1px);clip: rect(1px, 1px, 1px, 1px);height: 1px;margin: -1px;overflow: hidden;padding: 0;position: absolute;width: 1px;}#sk-container-id-4 div.sk-estimator {font-family: monospace;background-color: #f0f8ff;border: 1px dotted black;border-radius: 0.25em;box-sizing: border-box;margin-bottom: 0.5em;}#sk-container-id-4 div.sk-estimator:hover {background-color: #d4ebff;}#sk-container-id-4 div.sk-parallel-item::after {content: \"\";width: 100%;border-bottom: 1px solid gray;flex-grow: 1;}#sk-container-id-4 div.sk-label:hover label.sk-toggleable__label {background-color: #d4ebff;}#sk-container-id-4 div.sk-serial::before {content: \"\";position: absolute;border-left: 1px solid gray;box-sizing: border-box;top: 0;bottom: 0;left: 50%;z-index: 0;}#sk-container-id-4 div.sk-serial {display: flex;flex-direction: column;align-items: center;background-color: white;padding-right: 0.2em;padding-left: 0.2em;position: relative;}#sk-container-id-4 div.sk-item {position: relative;z-index: 1;}#sk-container-id-4 div.sk-parallel {display: flex;align-items: stretch;justify-content: center;background-color: white;position: relative;}#sk-container-id-4 div.sk-item::before, #sk-container-id-4 div.sk-parallel-item::before {content: \"\";position: absolute;border-left: 1px solid gray;box-sizing: border-box;top: 0;bottom: 0;left: 50%;z-index: -1;}#sk-container-id-4 div.sk-parallel-item {display: flex;flex-direction: column;z-index: 1;position: relative;background-color: white;}#sk-container-id-4 div.sk-parallel-item:first-child::after {align-self: flex-end;width: 50%;}#sk-container-id-4 div.sk-parallel-item:last-child::after {align-self: flex-start;width: 50%;}#sk-container-id-4 div.sk-parallel-item:only-child::after {width: 0;}#sk-container-id-4 div.sk-dashed-wrapped {border: 1px dashed gray;margin: 0 0.4em 0.5em 0.4em;box-sizing: border-box;padding-bottom: 0.4em;background-color: white;}#sk-container-id-4 div.sk-label label {font-family: monospace;font-weight: bold;display: inline-block;line-height: 1.2em;}#sk-container-id-4 div.sk-label-container {text-align: center;}#sk-container-id-4 div.sk-container {/* jupyter's `normalize.less` sets `[hidden] { display: none; }` but bootstrap.min.css set `[hidden] { display: none !important; }` so we also need the `!important` here to be able to override the default hidden behavior on the sphinx rendered scikit-learn.org. See: https://github.com/scikit-learn/scikit-learn/issues/21755 */display: inline-block !important;position: relative;}#sk-container-id-4 div.sk-text-repr-fallback {display: none;}</style><div id=\"sk-container-id-4\" class=\"sk-top-container\"><div class=\"sk-text-repr-fallback\"><pre>GradientBoostingClassifier(max_depth=2, n_estimators=150)</pre><b>In a Jupyter environment, please rerun this cell to show the HTML representation or trust the notebook. <br />On GitHub, the HTML representation is unable to render, please try loading this page with nbviewer.org.</b></div><div class=\"sk-container\" hidden><div class=\"sk-item\"><div class=\"sk-estimator sk-toggleable\"><input class=\"sk-toggleable__control sk-hidden--visually\" id=\"sk-estimator-id-4\" type=\"checkbox\" checked><label for=\"sk-estimator-id-4\" class=\"sk-toggleable__label sk-toggleable__label-arrow\">GradientBoostingClassifier</label><div class=\"sk-toggleable__content\"><pre>GradientBoostingClassifier(max_depth=2, n_estimators=150)</pre></div></div></div></div></div>"
            ]
          },
          "metadata": {},
          "execution_count": 21
        }
      ]
    },
    {
      "cell_type": "code",
      "source": [
        "gbc.score(X_test, y_test)"
      ],
      "metadata": {
        "colab": {
          "base_uri": "https://localhost:8080/"
        },
        "id": "NUd-PfoYYjWh",
        "outputId": "51249a51-3fb2-4e1f-9a73-3b79f6e7e66f"
      },
      "execution_count": null,
      "outputs": [
        {
          "output_type": "execute_result",
          "data": {
            "text/plain": [
              "0.8804347826086957"
            ]
          },
          "metadata": {},
          "execution_count": 22
        }
      ]
    },
    {
      "cell_type": "code",
      "source": [
        "gbc.score(X_train, y_train)"
      ],
      "metadata": {
        "colab": {
          "base_uri": "https://localhost:8080/"
        },
        "id": "LUDBHomkZpQA",
        "outputId": "5163163a-6e31-461a-fb10-eb788cc37433"
      },
      "execution_count": null,
      "outputs": [
        {
          "output_type": "execute_result",
          "data": {
            "text/plain": [
              "0.948051948051948"
            ]
          },
          "metadata": {},
          "execution_count": 23
        }
      ]
    },
    {
      "cell_type": "markdown",
      "source": [
        "Model is slightly overfitting.\n",
        "\n",
        "\n",
        "Do Note that:\n",
        "- It is very easy to overfit the boosting model\n",
        "- So, we have to careful while tuning it.\n",
        "\n",
        "We'll see in next lecture how to regularize GBDT\n",
        "\n"
      ],
      "metadata": {
        "id": "xtois1VaCRiS"
      }
    }
  ]
}