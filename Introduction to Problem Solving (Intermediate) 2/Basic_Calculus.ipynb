{
  "nbformat": 4,
  "nbformat_minor": 0,
  "metadata": {
    "colab": {
      "provenance": []
    },
    "kernelspec": {
      "name": "python3",
      "display_name": "Python 3"
    },
    "language_info": {
      "name": "python"
    }
  },
  "cells": [
    {
      "cell_type": "code",
      "execution_count": 1,
      "metadata": {
        "id": "_gSB7JLRxfF_"
      },
      "outputs": [],
      "source": [
        "def f(x):\n",
        "  return x**2"
      ]
    },
    {
      "cell_type": "code",
      "source": [
        "inputs = [0, 1, 2, 3, 4, 5]\n",
        "outputs = []\n",
        "\n",
        "outputs = [f(x) for x in inputs]\n",
        "\n",
        "print(\"Inputs:  \", inputs)\n",
        "print(\"Outputs: \", outputs)"
      ],
      "metadata": {
        "colab": {
          "base_uri": "https://localhost:8080/"
        },
        "id": "1DDCAJ6iF333",
        "outputId": "83e58de3-1b03-46d5-ce0c-39a8045baabd"
      },
      "execution_count": 2,
      "outputs": [
        {
          "output_type": "stream",
          "name": "stdout",
          "text": [
            "Inputs:   [0, 1, 2, 3, 4, 5]\n",
            "Outputs:  [0, 1, 4, 9, 16, 25]\n"
          ]
        }
      ]
    },
    {
      "cell_type": "code",
      "source": [
        "inputs = [-10, -100, -1000, -10000, -100000]\n",
        "outputs = [2**x for x in inputs]\n",
        "\n",
        "print(outputs)"
      ],
      "metadata": {
        "colab": {
          "base_uri": "https://localhost:8080/"
        },
        "id": "7_iXjuFvGUux",
        "outputId": "c7a9e462-a27f-4489-862a-48cc0c610d8e"
      },
      "execution_count": 3,
      "outputs": [
        {
          "output_type": "stream",
          "name": "stdout",
          "text": [
            "[0.0009765625, 7.888609052210118e-31, 9.332636185032189e-302, 0.0, 0.0]\n"
          ]
        }
      ]
    },
    {
      "cell_type": "code",
      "source": [
        "def f(x, a=1):\n",
        "  if x >= a:\n",
        "    return x**2\n",
        "  else:\n",
        "    return x\n",
        "\n",
        "a = 1\n",
        "left_hand_inputs = [a + i for i in [-0.5, -0.1, -0.001, -0.0001]]\n",
        "right_hand_inputs = [a + i for i in [0.5,  0.1,  0.001,  0.0001]]\n",
        "\n",
        "lhop = [f(x) for x in left_hand_inputs]  ## left hand outputs\n",
        "rhop = [f(x) for x in right_hand_inputs] ## right hand outputs\n",
        "\n",
        "print(\"Left hand outputs:  \", lhop)\n",
        "print(\"Right hand outputs: \", rhop)"
      ],
      "metadata": {
        "colab": {
          "base_uri": "https://localhost:8080/"
        },
        "id": "tep5jwOKJu1y",
        "outputId": "197c7e32-9e58-4ad8-c627-bd72c2189494"
      },
      "execution_count": 8,
      "outputs": [
        {
          "output_type": "stream",
          "name": "stdout",
          "text": [
            "Left hand outputs:   [0.25, 0.81, 0.998001, 0.9998000100000001]\n",
            "Right hand outputs:  [2.25, 1.2100000000000002, 1.0020009999999997, 1.00020001]\n"
          ]
        }
      ]
    },
    {
      "cell_type": "code",
      "source": [
        "## Implementation of the derivative\n",
        "def derivative(f, a):\n",
        "  h = 0.0001\n",
        "  d = (f(a + h) - f(a)) / h\n",
        "  return d\n",
        "\n",
        "def f(x):\n",
        "  return x**3\n",
        "\n",
        "inputs = [1, 2, 3, 4, 5]\n",
        "outputs = [f(x) for x in inputs]\n",
        "derivatives = [derivative(f, x) for x in inputs]\n",
        "\n",
        "print(\"Inputs:      \", inputs)\n",
        "print(\"Outputs:     \", outputs)\n",
        "print(\"Derivatives: \", derivatives)"
      ],
      "metadata": {
        "colab": {
          "base_uri": "https://localhost:8080/"
        },
        "id": "GgPccNI-QvgM",
        "outputId": "a0b1321b-c94e-441d-8630-511abbe80721"
      },
      "execution_count": 10,
      "outputs": [
        {
          "output_type": "stream",
          "name": "stdout",
          "text": [
            "Inputs:       [1, 2, 3, 4, 5]\n",
            "Outputs:      [1, 8, 27, 64, 125]\n",
            "Derivatives:  [3.0003000099987354, 12.000600010022566, 27.00090001006572, 48.00120000993502, 75.00150000979033]\n"
          ]
        }
      ]
    },
    {
      "cell_type": "code",
      "source": [
        "## Implementation of the derivative\n",
        "def derivative(f, a):\n",
        "  h = 0.0001\n",
        "  d = (f(a + h) - f(a)) / h\n",
        "  return d\n",
        "\n",
        "import math\n",
        "def f(x):\n",
        "  return math.log(x)\n",
        "\n",
        "inputs = [1, 10, 100, 1000, 10000]\n",
        "outputs = [f(x) for x in inputs]\n",
        "derivatives = [derivative(f, x) for x in inputs]\n",
        "\n",
        "print(\"Inputs:      \", inputs)\n",
        "print(\"Outputs:     \", outputs)\n",
        "print(\"Derivatives: \", derivatives)"
      ],
      "metadata": {
        "colab": {
          "base_uri": "https://localhost:8080/"
        },
        "id": "au52S3sQQvVh",
        "outputId": "45b73a5f-53c0-486c-f82c-bd89638c2522"
      },
      "execution_count": 16,
      "outputs": [
        {
          "output_type": "stream",
          "name": "stdout",
          "text": [
            "Inputs:       [1, 10, 100, 1000, 10000]\n",
            "Outputs:      [0.0, 2.302585092994046, 4.605170185988092, 6.907755278982137, 9.210340371976184]\n",
            "Derivatives:  [1.000000082735371, 0.0999644811372491, 0.009947598300641403, 0.0010658141036401503, 0.0]\n"
          ]
        }
      ]
    },
    {
      "cell_type": "code",
      "source": [],
      "metadata": {
        "id": "H5DCly_XQRV3"
      },
      "execution_count": null,
      "outputs": []
    }
  ]
}