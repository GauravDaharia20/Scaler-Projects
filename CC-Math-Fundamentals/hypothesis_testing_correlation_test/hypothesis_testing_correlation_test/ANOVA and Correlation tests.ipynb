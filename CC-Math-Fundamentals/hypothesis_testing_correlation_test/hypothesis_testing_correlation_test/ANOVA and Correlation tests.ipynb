{
 "cells": [
  {
   "cell_type": "code",
   "execution_count": 2,
   "id": "222078bc",
   "metadata": {},
   "outputs": [],
   "source": [
    "import numpy as np\n",
    "import pandas as pd\n",
    "import seaborn as sns\n",
    "import matplotlib.pyplot as plt"
   ]
  },
  {
   "cell_type": "markdown",
   "id": "9c463511",
   "metadata": {},
   "source": [
    "## ANOVA: Analysis of Variance"
   ]
  },
  {
   "cell_type": "markdown",
   "id": "81d5fc3c",
   "metadata": {},
   "source": [
    "### iPhone Sales"
   ]
  },
  {
   "cell_type": "code",
   "execution_count": 3,
   "id": "68c02e0d",
   "metadata": {},
   "outputs": [
    {
     "data": {
      "text/html": [
       "<div>\n",
       "<style scoped>\n",
       "    .dataframe tbody tr th:only-of-type {\n",
       "        vertical-align: middle;\n",
       "    }\n",
       "\n",
       "    .dataframe tbody tr th {\n",
       "        vertical-align: top;\n",
       "    }\n",
       "\n",
       "    .dataframe thead th {\n",
       "        text-align: right;\n",
       "    }\n",
       "</style>\n",
       "<table border=\"1\" class=\"dataframe\">\n",
       "  <thead>\n",
       "    <tr style=\"text-align: right;\">\n",
       "      <th></th>\n",
       "      <th>A</th>\n",
       "      <th>B</th>\n",
       "      <th>C</th>\n",
       "    </tr>\n",
       "  </thead>\n",
       "  <tbody>\n",
       "    <tr>\n",
       "      <th>0</th>\n",
       "      <td>25</td>\n",
       "      <td>30</td>\n",
       "      <td>18</td>\n",
       "    </tr>\n",
       "    <tr>\n",
       "      <th>1</th>\n",
       "      <td>25</td>\n",
       "      <td>30</td>\n",
       "      <td>30</td>\n",
       "    </tr>\n",
       "    <tr>\n",
       "      <th>2</th>\n",
       "      <td>27</td>\n",
       "      <td>21</td>\n",
       "      <td>29</td>\n",
       "    </tr>\n",
       "    <tr>\n",
       "      <th>3</th>\n",
       "      <td>30</td>\n",
       "      <td>24</td>\n",
       "      <td>29</td>\n",
       "    </tr>\n",
       "    <tr>\n",
       "      <th>4</th>\n",
       "      <td>23</td>\n",
       "      <td>26</td>\n",
       "      <td>24</td>\n",
       "    </tr>\n",
       "    <tr>\n",
       "      <th>5</th>\n",
       "      <td>20</td>\n",
       "      <td>28</td>\n",
       "      <td>26</td>\n",
       "    </tr>\n",
       "  </tbody>\n",
       "</table>\n",
       "</div>"
      ],
      "text/plain": [
       "    A   B   C\n",
       "0  25  30  18\n",
       "1  25  30  30\n",
       "2  27  21  29\n",
       "3  30  24  29\n",
       "4  23  26  24\n",
       "5  20  28  26"
      ]
     },
     "execution_count": 3,
     "metadata": {},
     "output_type": "execute_result"
    }
   ],
   "source": [
    "a = [25, 25, 27, 30, 23, 20]\n",
    "b = [30, 30, 21, 24, 26, 28]\n",
    "c = [18, 30, 29, 29, 24, 26]\n",
    "list_of_tuples = list(zip(a, b,c))\n",
    "df = pd.DataFrame(list_of_tuples, columns = ['A', 'B', 'C'])\n",
    "df"
   ]
  },
  {
   "cell_type": "code",
   "execution_count": 4,
   "id": "c421b34a",
   "metadata": {},
   "outputs": [
    {
     "name": "stdout",
     "output_type": "stream",
     "text": [
      "Average sales for A: 25.0\n",
      "Average sales for B: 26.5\n",
      "Average sales for C: 26.0\n"
     ]
    }
   ],
   "source": [
    "m1 = np.mean(a)\n",
    "m2 = np.mean(b)\n",
    "m3 = np.mean(c)\n",
    "\n",
    "print('Average sales for A: {}'.format(m1))\n",
    "print('Average sales for B: {}'.format(m2))\n",
    "print('Average sales for C: {}'.format(m3))"
   ]
  },
  {
   "cell_type": "code",
   "execution_count": 5,
   "id": "2803d327",
   "metadata": {},
   "outputs": [
    {
     "name": "stdout",
     "output_type": "stream",
     "text": [
      "Overall mean: 25.833333333333332\n"
     ]
    }
   ],
   "source": [
    "m = (m1+m2+m3)/3 \n",
    "print('Overall mean: {}'.format(m))"
   ]
  },
  {
   "cell_type": "code",
   "execution_count": 6,
   "id": "2528a0a4",
   "metadata": {},
   "outputs": [
    {
     "name": "stdout",
     "output_type": "stream",
     "text": [
      "Between-groups Sum of Squared Differences: 6.999999999999999\n"
     ]
    }
   ],
   "source": [
    "SSb = 6*((m1-m)**2+(m2-m)**2+(m3-m)**2)\n",
    "print(f'Between-groups Sum of Squared Differences: {SSb}')"
   ]
  },
  {
   "cell_type": "code",
   "execution_count": 7,
   "id": "c5e2cf4c",
   "metadata": {},
   "outputs": [
    {
     "name": "stdout",
     "output_type": "stream",
     "text": [
      "Between-groups Mean Square value: 3.4999999999999996\n"
     ]
    }
   ],
   "source": [
    "MSb = SSb/2\n",
    "print('Between-groups Mean Square value: {}'.format(MSb))"
   ]
  },
  {
   "cell_type": "code",
   "execution_count": 8,
   "id": "f969693d",
   "metadata": {},
   "outputs": [
    {
     "name": "stdout",
     "output_type": "stream",
     "text": [
      "223.5\n"
     ]
    }
   ],
   "source": [
    "err_a = list(a-m1)\n",
    "err_b = list(b-m2)\n",
    "err_c = list(c-m3)\n",
    "err = err_a+err_b+err_c\n",
    "ssw = []\n",
    "for i in err:\n",
    "    ssw.append(i**2)\n",
    "    \n",
    "SSw = np.sum(ssw)\n",
    "print(SSw)"
   ]
  },
  {
   "cell_type": "code",
   "execution_count": 9,
   "id": "bf1c02de",
   "metadata": {},
   "outputs": [
    {
     "name": "stdout",
     "output_type": "stream",
     "text": [
      "Within-group Mean Square Value: 14.9\n"
     ]
    }
   ],
   "source": [
    "MSw = SSw/15\n",
    "print(f'Within-group Mean Square Value: {MSw}')"
   ]
  },
  {
   "cell_type": "code",
   "execution_count": 10,
   "id": "f1f5dc84",
   "metadata": {},
   "outputs": [
    {
     "name": "stdout",
     "output_type": "stream",
     "text": [
      "F-score: 0.23489932885906037\n"
     ]
    }
   ],
   "source": [
    "F = MSb / MSw\n",
    "print(f'F-score: {F}')"
   ]
  },
  {
   "cell_type": "code",
   "execution_count": 11,
   "id": "6939487f",
   "metadata": {},
   "outputs": [
    {
     "name": "stdout",
     "output_type": "stream",
     "text": [
      "p-value: 0.7935046627328333\n"
     ]
    }
   ],
   "source": [
    "d1 = 2\n",
    "d2 = 15\n",
    "\n",
    "from scipy.stats import f\n",
    "p_value = 1 - f.cdf(F, d1, d2)\n",
    "print(f'p-value: {p_value}')"
   ]
  },
  {
   "cell_type": "code",
   "execution_count": 12,
   "id": "6f709679",
   "metadata": {},
   "outputs": [
    {
     "name": "stdout",
     "output_type": "stream",
     "text": [
      "F-stat:  0.2348993288590604\n",
      "p-value:  0.793504662732833\n"
     ]
    }
   ],
   "source": [
    "from scipy.stats import f_oneway\n",
    "f_stat, p_value = f_oneway(a, b, c)\n",
    "print(\"F-stat: \", f_stat)\n",
    "print(\"p-value: \", p_value)"
   ]
  },
  {
   "cell_type": "code",
   "execution_count": 32,
   "id": "4cf2d719",
   "metadata": {},
   "outputs": [
    {
     "name": "stdout",
     "output_type": "stream",
     "text": [
      "10.0 7.0 13.25 22.5\n",
      "f_test :25.22 , p_value : 1.8124793267561276e-05\n"
     ]
    }
   ],
   "source": [
    "#Q5\n",
    "m1 = [8,9,11,12]\n",
    "m2 = [6,8,10,4]\n",
    "m3 = [14,12,18,9]\n",
    "m4 = [20,22,25,23]\n",
    "print(np.mean(m1),np.mean(m2),np.mean(m3),np.mean(m4))\n",
    "all_val = zip(m1,m2,m3,m4)\n",
    "df = pd.DataFrame(all_val,columns=['m1','m2','m3','m4'])\n",
    "df\n",
    "f_test,p_value = f_oneway(m1,m2,m3,m4)\n",
    "print(f'f_test :{round(f_test,2)} , p_value : {(p_value)}')"
   ]
  },
  {
   "cell_type": "code",
   "execution_count": 37,
   "id": "30e9438f",
   "metadata": {},
   "outputs": [
    {
     "name": "stdout",
     "output_type": "stream",
     "text": [
      "300.0 400.0 500.0\n",
      "f_test :25.22 , p_value : 1.8124793267561276e-05\n"
     ]
    },
    {
     "data": {
      "text/plain": [
       "0.051513170677201556"
      ]
     },
     "execution_count": 37,
     "metadata": {},
     "output_type": "execute_result"
    }
   ],
   "source": [
    "s = [300,400,300,500,0]\n",
    "n = [600,300,300,400]\n",
    "r = [700,300,400,600,500]\n",
    "print(np.mean(s),np.mean(n),np.mean(r))\n",
    "f_test,p_value = f_oneway(m1,m2,m3,m4)\n",
    "print(f'f_test :{round(f_test,2)} , p_value : {(p_value)}')\n",
    "f.ppf(0.05,2,12)"
   ]
  },
  {
   "cell_type": "markdown",
   "id": "15267620",
   "metadata": {},
   "source": [
    "### Aerofit data\n",
    "\n",
    "Let us apply ANOVA to study the relationships between the following variables:\n",
    "  1. Income vs. Product\n",
    "  2. Income vs. Gender"
   ]
  },
  {
   "cell_type": "code",
   "execution_count": 14,
   "id": "f11cfc47",
   "metadata": {},
   "outputs": [],
   "source": [
    "df_aerofit = pd.read_csv(\"aerofit.csv\")"
   ]
  },
  {
   "cell_type": "code",
   "execution_count": 15,
   "id": "c3d14744",
   "metadata": {},
   "outputs": [
    {
     "data": {
      "text/html": [
       "<div>\n",
       "<style scoped>\n",
       "    .dataframe tbody tr th:only-of-type {\n",
       "        vertical-align: middle;\n",
       "    }\n",
       "\n",
       "    .dataframe tbody tr th {\n",
       "        vertical-align: top;\n",
       "    }\n",
       "\n",
       "    .dataframe thead th {\n",
       "        text-align: right;\n",
       "    }\n",
       "</style>\n",
       "<table border=\"1\" class=\"dataframe\">\n",
       "  <thead>\n",
       "    <tr style=\"text-align: right;\">\n",
       "      <th></th>\n",
       "      <th>Product</th>\n",
       "      <th>Age</th>\n",
       "      <th>Gender</th>\n",
       "      <th>Education</th>\n",
       "      <th>MaritalStatus</th>\n",
       "      <th>Usage</th>\n",
       "      <th>Fitness</th>\n",
       "      <th>Income</th>\n",
       "      <th>Miles</th>\n",
       "    </tr>\n",
       "  </thead>\n",
       "  <tbody>\n",
       "    <tr>\n",
       "      <th>0</th>\n",
       "      <td>KP281</td>\n",
       "      <td>18</td>\n",
       "      <td>Male</td>\n",
       "      <td>14</td>\n",
       "      <td>Single</td>\n",
       "      <td>3</td>\n",
       "      <td>4</td>\n",
       "      <td>29562</td>\n",
       "      <td>112</td>\n",
       "    </tr>\n",
       "    <tr>\n",
       "      <th>1</th>\n",
       "      <td>KP281</td>\n",
       "      <td>19</td>\n",
       "      <td>Male</td>\n",
       "      <td>15</td>\n",
       "      <td>Single</td>\n",
       "      <td>2</td>\n",
       "      <td>3</td>\n",
       "      <td>31836</td>\n",
       "      <td>75</td>\n",
       "    </tr>\n",
       "    <tr>\n",
       "      <th>2</th>\n",
       "      <td>KP281</td>\n",
       "      <td>19</td>\n",
       "      <td>Female</td>\n",
       "      <td>14</td>\n",
       "      <td>Partnered</td>\n",
       "      <td>4</td>\n",
       "      <td>3</td>\n",
       "      <td>30699</td>\n",
       "      <td>66</td>\n",
       "    </tr>\n",
       "    <tr>\n",
       "      <th>3</th>\n",
       "      <td>KP281</td>\n",
       "      <td>19</td>\n",
       "      <td>Male</td>\n",
       "      <td>12</td>\n",
       "      <td>Single</td>\n",
       "      <td>3</td>\n",
       "      <td>3</td>\n",
       "      <td>32973</td>\n",
       "      <td>85</td>\n",
       "    </tr>\n",
       "    <tr>\n",
       "      <th>4</th>\n",
       "      <td>KP281</td>\n",
       "      <td>20</td>\n",
       "      <td>Male</td>\n",
       "      <td>13</td>\n",
       "      <td>Partnered</td>\n",
       "      <td>4</td>\n",
       "      <td>2</td>\n",
       "      <td>35247</td>\n",
       "      <td>47</td>\n",
       "    </tr>\n",
       "  </tbody>\n",
       "</table>\n",
       "</div>"
      ],
      "text/plain": [
       "  Product  Age  Gender  Education MaritalStatus  Usage  Fitness  Income  Miles\n",
       "0   KP281   18    Male         14        Single      3        4   29562    112\n",
       "1   KP281   19    Male         15        Single      2        3   31836     75\n",
       "2   KP281   19  Female         14     Partnered      4        3   30699     66\n",
       "3   KP281   19    Male         12        Single      3        3   32973     85\n",
       "4   KP281   20    Male         13     Partnered      4        2   35247     47"
      ]
     },
     "execution_count": 15,
     "metadata": {},
     "output_type": "execute_result"
    }
   ],
   "source": [
    "df_aerofit.head()"
   ]
  },
  {
   "cell_type": "markdown",
   "id": "a99d51c0",
   "metadata": {},
   "source": [
    "#### Income vs. Product"
   ]
  },
  {
   "cell_type": "code",
   "execution_count": 16,
   "id": "b12fdcbb",
   "metadata": {},
   "outputs": [
    {
     "data": {
      "text/plain": [
       "<AxesSubplot: xlabel='Product', ylabel='Income'>"
      ]
     },
     "execution_count": 16,
     "metadata": {},
     "output_type": "execute_result"
    },
    {
     "data": {
      "image/png": "[encoded data removed]",
      "text/plain": [
       "<Figure size 640x480 with 1 Axes>"
      ]
     },
     "metadata": {},
     "output_type": "display_data"
    }
   ],
   "source": [
    "sns.boxplot(x='Product', y='Income', data=df_aerofit)"
   ]
  },
  {
   "cell_type": "code",
   "execution_count": 17,
   "id": "b938e181",
   "metadata": {},
   "outputs": [],
   "source": [
    "a = df_aerofit[df_aerofit[\"Product\"]==\"KP281\"][\"Income\"]\n",
    "b = df_aerofit[df_aerofit[\"Product\"]==\"KP481\"][\"Income\"]\n",
    "c = df_aerofit[df_aerofit[\"Product\"]==\"KP781\"][\"Income\"]"
   ]
  },
  {
   "cell_type": "code",
   "execution_count": 18,
   "id": "6fc6fad4",
   "metadata": {},
   "outputs": [
    {
     "data": {
      "text/plain": [
       "F_onewayResult(statistic=89.25903546601671, pvalue=1.564499131634248e-27)"
      ]
     },
     "execution_count": 18,
     "metadata": {},
     "output_type": "execute_result"
    }
   ],
   "source": [
    "# H0: all three have same mean\n",
    "f_oneway(a, b, c)"
   ]
  },
  {
   "cell_type": "code",
   "execution_count": 19,
   "id": "8dc48d81",
   "metadata": {},
   "outputs": [
    {
     "data": {
      "text/plain": [
       "F_onewayResult(statistic=2.8283463437143213, pvalue=0.09487529747265082)"
      ]
     },
     "execution_count": 19,
     "metadata": {},
     "output_type": "execute_result"
    }
   ],
   "source": [
    "f_oneway(a, b)"
   ]
  },
  {
   "cell_type": "code",
   "execution_count": 20,
   "id": "130f320b",
   "metadata": {},
   "outputs": [
    {
     "data": {
      "text/plain": [
       "<AxesSubplot: xlabel='Income', ylabel='Count'>"
      ]
     },
     "execution_count": 20,
     "metadata": {},
     "output_type": "execute_result"
    },
    {
     "data": {
      "image/png": "[encoded data removed]",
      "text/plain": [
       "<Figure size 640x480 with 1 Axes>"
      ]
     },
     "metadata": {},
     "output_type": "display_data"
    }
   ],
   "source": [
    "sns.histplot(c)"
   ]
  },
  {
   "cell_type": "code",
   "execution_count": 21,
   "id": "e1011003",
   "metadata": {},
   "outputs": [],
   "source": [
    "from scipy.stats import kruskal"
   ]
  },
  {
   "cell_type": "code",
   "execution_count": 22,
   "id": "3e4290f0",
   "metadata": {},
   "outputs": [
    {
     "data": {
      "text/plain": [
       "KruskalResult(statistic=61.43670384567185, pvalue=4.562357014275808e-14)"
      ]
     },
     "execution_count": 22,
     "metadata": {},
     "output_type": "execute_result"
    }
   ],
   "source": [
    "kruskal(a, b, c)"
   ]
  },
  {
   "cell_type": "markdown",
   "id": "0f0bd0a2",
   "metadata": {},
   "source": [
    "### Doubt Session"
   ]
  },
  {
   "cell_type": "markdown",
   "id": "115c39b7",
   "metadata": {},
   "source": [
    "__Is education gender independent?__\n",
    "\n",
    "A random sample of 395 people was surveyed and each person was asked to report the highest education level they obtained.\n",
    "\n",
    "The data observed are summarized below:\n",
    "\n",
    "Female(60, 54, 46, 41, 201), Male(40, 44, 53, 57, 194) and Total(100, 98, 99, 98, 395),\n",
    "\n",
    "where variables in each class are (High school, Bachelors, Masters, Ph.d, Total).\n",
    "\n",
    "The expected values are: Female(50.866, 49.868, 50.377, 49.868, 201), Male(49.114, 48.132, 48.623, 48.132, 194) and Total(100, 98, 99, 98, 395).\n",
    "\n",
    "Are gender and education levels dependent at a 5% significance level?"
   ]
  },
  {
   "cell_type": "code",
   "execution_count": 23,
   "id": "38deac8a",
   "metadata": {},
   "outputs": [
    {
     "data": {
      "text/plain": [
       "(8.006066246262538,\n",
       " 0.04588650089174722,\n",
       " 3,\n",
       " array([[50.88607595, 49.11392405],\n",
       "        [49.86835443, 48.13164557],\n",
       "        [50.37721519, 48.62278481],\n",
       "        [49.86835443, 48.13164557]]))"
      ]
     },
     "execution_count": 23,
     "metadata": {},
     "output_type": "execute_result"
    }
   ],
   "source": [
    "from scipy.stats import chi2_contingency\n",
    "\n",
    "ct = [\n",
    "    [60, 40],\n",
    "    [54, 44],\n",
    "    [46, 53],\n",
    "    [41, 57]\n",
    "]\n",
    "\n",
    "chi2_contingency(ct)"
   ]
  },
  {
   "cell_type": "code",
   "execution_count": null,
   "id": "d4a2298e",
   "metadata": {},
   "outputs": [],
   "source": []
  }
 ],
 "metadata": {
  "kernelspec": {
   "display_name": "Python 3 (ipykernel)",
   "language": "python",
   "name": "python3"
  },
  "language_info": {
   "codemirror_mode": {
    "name": "ipython",
    "version": 3
   },
   "file_extension": ".py",
   "mimetype": "text/x-python",
   "name": "python",
   "nbconvert_exporter": "python",
   "pygments_lexer": "ipython3",
   "version": "3.9.13"
  }
 },
 "nbformat": 4,
 "nbformat_minor": 5
}
