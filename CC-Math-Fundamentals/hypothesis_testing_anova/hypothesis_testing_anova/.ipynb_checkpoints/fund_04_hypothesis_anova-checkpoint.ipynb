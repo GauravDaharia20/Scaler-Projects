{
 "cells": [
  {
   "cell_type": "code",
   "execution_count": 1,
   "id": "1f36a583",
   "metadata": {},
   "outputs": [],
   "source": [
    "import numpy as np\n",
    "import pandas as pd\n",
    "import seaborn as sns\n",
    "import matplotlib.pyplot as plt\n",
    "\n",
    "from scipy.stats import norm, chi2, f # distributions\n",
    "\n",
    "from scipy.stats import ttest_ind, f_oneway, kruskal # numerical vs categorical\n",
    "from scipy.stats import chisquare, chi2_contingency # categorical features\n",
    "from scipy.stats import kstest # cdf\n",
    "\n",
    "from statsmodels.distributions.empirical_distribution import ECDF\n",
    "# Empirical CDF"
   ]
  },
  {
   "cell_type": "markdown",
   "id": "901a2b11",
   "metadata": {},
   "source": [
    "# Coin example"
   ]
  },
  {
   "cell_type": "code",
   "execution_count": 2,
   "id": "524e6be0",
   "metadata": {},
   "outputs": [
    {
     "data": {
      "text/plain": [
       "0.72"
      ]
     },
     "execution_count": 2,
     "metadata": {},
     "output_type": "execute_result"
    }
   ],
   "source": [
    "# A coin is tossed 50 times, and 28 heads were seen\n",
    "# H0: Coin is fair\n",
    "# Ha: Coin is biased\n",
    "(28 - 25)**2/25 + (22 - 25)**2 /25 # chistat"
   ]
  },
  {
   "cell_type": "code",
   "execution_count": 3,
   "id": "f790f905",
   "metadata": {},
   "outputs": [
    {
     "data": {
      "text/plain": [
       "0.3961439091520741"
      ]
     },
     "execution_count": 3,
     "metadata": {},
     "output_type": "execute_result"
    }
   ],
   "source": [
    "1 - chi2.cdf(0.72, df=1) # pvalue"
   ]
  },
  {
   "cell_type": "code",
   "execution_count": 4,
   "id": "e5b6244d",
   "metadata": {},
   "outputs": [
    {
     "name": "stdout",
     "output_type": "stream",
     "text": [
      "0.72 0.3961439091520741\n"
     ]
    }
   ],
   "source": [
    "chi_stat, p_value = chisquare(\n",
    "    [28, 22],\n",
    "    [25, 25]\n",
    ")\n",
    "print(chi_stat, p_value)"
   ]
  },
  {
   "cell_type": "code",
   "execution_count": 5,
   "id": "d8e1ca42",
   "metadata": {},
   "outputs": [
    {
     "data": {
      "text/plain": [
       "3.841458820694124"
      ]
     },
     "execution_count": 5,
     "metadata": {},
     "output_type": "execute_result"
    }
   ],
   "source": [
    "cr = chi2.ppf(q=0.95, df=1)\n",
    "cr"
   ]
  },
  {
   "cell_type": "code",
   "execution_count": 6,
   "id": "c4c269e5",
   "metadata": {
    "code_folding": []
   },
   "outputs": [
    {
     "name": "stdout",
     "output_type": "stream",
     "text": [
      "64.22222222222221 1.1114800157454535e-15\n"
     ]
    }
   ],
   "source": [
    "# A coin is tossed 50 times, and 45 heads were seen\n",
    "# H0: Coin is fair\n",
    "# Ha: Coin is biased\n",
    "chi_stat, p_value = chisquare(\n",
    "    [28, 22],\n",
    "    [45, 5]\n",
    ")\n",
    "print(chi_stat, p_value)"
   ]
  },
  {
   "cell_type": "code",
   "execution_count": 7,
   "id": "831e1adc",
   "metadata": {},
   "outputs": [],
   "source": [
    "# p-value is very small --> reject H0"
   ]
  },
  {
   "cell_type": "markdown",
   "id": "ab1b7cae",
   "metadata": {
    "heading_collapsed": true
   },
   "source": [
    "# Dice example"
   ]
  },
  {
   "cell_type": "code",
   "execution_count": 8,
   "id": "5d45e9ef",
   "metadata": {
    "hidden": true
   },
   "outputs": [
    {
     "data": {
      "text/plain": [
       "9.666666666666666"
      ]
     },
     "execution_count": 8,
     "metadata": {},
     "output_type": "execute_result"
    }
   ],
   "source": [
    "(2 - 6)**2/6 + (4 - 6)**2/6 + (8 - 6)**2/6 + (9 - 6)**2/6 + (3 - 6)**2/6 + (10 - 6)**2/6 "
   ]
  },
  {
   "cell_type": "code",
   "execution_count": 9,
   "id": "9d723fa1",
   "metadata": {
    "hidden": true
   },
   "outputs": [
    {
     "data": {
      "text/plain": [
       "0.08525020077588863"
      ]
     },
     "execution_count": 9,
     "metadata": {},
     "output_type": "execute_result"
    }
   ],
   "source": [
    "1 - chi2.cdf(9.666666666666666, df=5)"
   ]
  },
  {
   "cell_type": "code",
   "execution_count": 10,
   "id": "271a210a",
   "metadata": {
    "hidden": true
   },
   "outputs": [
    {
     "name": "stdout",
     "output_type": "stream",
     "text": [
      "Reject H0\n"
     ]
    }
   ],
   "source": [
    "chi_stat, p_value = chisquare(\n",
    "    [2, 4, 8, 9, 3, 10],\n",
    "    [6, 6, 6, 6, 6, 6]\n",
    ")\n",
    "if p_value < 0.1:\n",
    "    print(\"Reject H0\")"
   ]
  },
  {
   "cell_type": "markdown",
   "id": "50db4208",
   "metadata": {
    "heading_collapsed": true
   },
   "source": [
    "# Online Vs Offline -- Gender"
   ]
  },
  {
   "cell_type": "code",
   "execution_count": 11,
   "id": "b71b84fa",
   "metadata": {
    "hidden": true
   },
   "outputs": [
    {
     "name": "stdout",
     "output_type": "stream",
     "text": [
      "57.04098674049609 4.268230756875865e-14\n"
     ]
    }
   ],
   "source": [
    "observed = [\n",
    "    [527, 72],\n",
    "    [206, 102]\n",
    "]\n",
    "chi_stat, p_value, df, exp_freq = chi2_contingency(observed)\n",
    "print(chi_stat, p_value)"
   ]
  },
  {
   "cell_type": "code",
   "execution_count": 12,
   "id": "e099c733",
   "metadata": {
    "hidden": true
   },
   "outputs": [
    {
     "name": "stdout",
     "output_type": "stream",
     "text": [
      "1\n"
     ]
    }
   ],
   "source": [
    "print(df)"
   ]
  },
  {
   "cell_type": "code",
   "execution_count": 13,
   "id": "646e32bc",
   "metadata": {
    "hidden": true
   },
   "outputs": [
    {
     "name": "stdout",
     "output_type": "stream",
     "text": [
      "[[484.08710033 114.91289967]\n",
      " [248.91289967  59.08710033]]\n"
     ]
    }
   ],
   "source": [
    "print(exp_freq)"
   ]
  },
  {
   "cell_type": "markdown",
   "id": "f1868f62",
   "metadata": {
    "hidden": true
   },
   "source": [
    " p-value is very small --> Gender affects preference for online vs offline"
   ]
  },
  {
   "cell_type": "markdown",
   "id": "36b56353",
   "metadata": {
    "heading_collapsed": true
   },
   "source": [
    "# Aerofit"
   ]
  },
  {
   "cell_type": "code",
   "execution_count": 14,
   "id": "db9ad87b",
   "metadata": {
    "hidden": true
   },
   "outputs": [],
   "source": [
    "df_aerofit = pd.read_csv(\"aerofit.csv\")"
   ]
  },
  {
   "cell_type": "code",
   "execution_count": 15,
   "id": "a6b85520",
   "metadata": {
    "hidden": true
   },
   "outputs": [
    {
     "data": {
      "text/html": [
       "<div>\n",
       "<style scoped>\n",
       "    .dataframe tbody tr th:only-of-type {\n",
       "        vertical-align: middle;\n",
       "    }\n",
       "\n",
       "    .dataframe tbody tr th {\n",
       "        vertical-align: top;\n",
       "    }\n",
       "\n",
       "    .dataframe thead th {\n",
       "        text-align: right;\n",
       "    }\n",
       "</style>\n",
       "<table border=\"1\" class=\"dataframe\">\n",
       "  <thead>\n",
       "    <tr style=\"text-align: right;\">\n",
       "      <th></th>\n",
       "      <th>Product</th>\n",
       "      <th>Age</th>\n",
       "      <th>Gender</th>\n",
       "      <th>Education</th>\n",
       "      <th>MaritalStatus</th>\n",
       "      <th>Usage</th>\n",
       "      <th>Fitness</th>\n",
       "      <th>Income</th>\n",
       "      <th>Miles</th>\n",
       "    </tr>\n",
       "  </thead>\n",
       "  <tbody>\n",
       "    <tr>\n",
       "      <th>0</th>\n",
       "      <td>KP281</td>\n",
       "      <td>18</td>\n",
       "      <td>Male</td>\n",
       "      <td>14</td>\n",
       "      <td>Single</td>\n",
       "      <td>3</td>\n",
       "      <td>4</td>\n",
       "      <td>29562</td>\n",
       "      <td>112</td>\n",
       "    </tr>\n",
       "    <tr>\n",
       "      <th>1</th>\n",
       "      <td>KP281</td>\n",
       "      <td>19</td>\n",
       "      <td>Male</td>\n",
       "      <td>15</td>\n",
       "      <td>Single</td>\n",
       "      <td>2</td>\n",
       "      <td>3</td>\n",
       "      <td>31836</td>\n",
       "      <td>75</td>\n",
       "    </tr>\n",
       "    <tr>\n",
       "      <th>2</th>\n",
       "      <td>KP281</td>\n",
       "      <td>19</td>\n",
       "      <td>Female</td>\n",
       "      <td>14</td>\n",
       "      <td>Partnered</td>\n",
       "      <td>4</td>\n",
       "      <td>3</td>\n",
       "      <td>30699</td>\n",
       "      <td>66</td>\n",
       "    </tr>\n",
       "    <tr>\n",
       "      <th>3</th>\n",
       "      <td>KP281</td>\n",
       "      <td>19</td>\n",
       "      <td>Male</td>\n",
       "      <td>12</td>\n",
       "      <td>Single</td>\n",
       "      <td>3</td>\n",
       "      <td>3</td>\n",
       "      <td>32973</td>\n",
       "      <td>85</td>\n",
       "    </tr>\n",
       "    <tr>\n",
       "      <th>4</th>\n",
       "      <td>KP281</td>\n",
       "      <td>20</td>\n",
       "      <td>Male</td>\n",
       "      <td>13</td>\n",
       "      <td>Partnered</td>\n",
       "      <td>4</td>\n",
       "      <td>2</td>\n",
       "      <td>35247</td>\n",
       "      <td>47</td>\n",
       "    </tr>\n",
       "  </tbody>\n",
       "</table>\n",
       "</div>"
      ],
      "text/plain": [
       "  Product  Age  Gender  Education MaritalStatus  Usage  Fitness  Income  Miles\n",
       "0   KP281   18    Male         14        Single      3        4   29562    112\n",
       "1   KP281   19    Male         15        Single      2        3   31836     75\n",
       "2   KP281   19  Female         14     Partnered      4        3   30699     66\n",
       "3   KP281   19    Male         12        Single      3        3   32973     85\n",
       "4   KP281   20    Male         13     Partnered      4        2   35247     47"
      ]
     },
     "execution_count": 15,
     "metadata": {},
     "output_type": "execute_result"
    }
   ],
   "source": [
    "df_aerofit.head()"
   ]
  },
  {
   "cell_type": "code",
   "execution_count": 16,
   "id": "cd471a22",
   "metadata": {
    "hidden": true
   },
   "outputs": [
    {
     "data": {
      "text/plain": [
       "array(['KP281', 'KP481', 'KP781'], dtype=object)"
      ]
     },
     "execution_count": 16,
     "metadata": {},
     "output_type": "execute_result"
    }
   ],
   "source": [
    "df_aerofit[\"Product\"].unique()"
   ]
  },
  {
   "cell_type": "markdown",
   "id": "c07a334b",
   "metadata": {
    "heading_collapsed": true,
    "hidden": true
   },
   "source": [
    "## Income VS product"
   ]
  },
  {
   "cell_type": "code",
   "execution_count": 17,
   "id": "67a019e8",
   "metadata": {
    "hidden": true
   },
   "outputs": [
    {
     "data": {
      "text/plain": [
       "<AxesSubplot:xlabel='Product', ylabel='Income'>"
      ]
     },
     "execution_count": 17,
     "metadata": {},
     "output_type": "execute_result"
    },
    {
     "data": {
      "image/png": "[encoded data removed]",
      "text/plain": [
       "<Figure size 432x288 with 1 Axes>"
      ]
     },
     "metadata": {
      "needs_background": "light"
     },
     "output_type": "display_data"
    }
   ],
   "source": [
    "sns.boxplot(x='Product', y='Income', data=df_aerofit)"
   ]
  },
  {
   "cell_type": "code",
   "execution_count": 18,
   "id": "a47916b5",
   "metadata": {
    "hidden": true
   },
   "outputs": [],
   "source": [
    "a = df_aerofit[df_aerofit[\"Product\"]==\"KP281\"][\"Income\"]\n",
    "b = df_aerofit[df_aerofit[\"Product\"]==\"KP481\"][\"Income\"]\n",
    "c = df_aerofit[df_aerofit[\"Product\"]==\"KP781\"][\"Income\"]"
   ]
  },
  {
   "cell_type": "code",
   "execution_count": 19,
   "id": "29de7a78",
   "metadata": {
    "hidden": true
   },
   "outputs": [
    {
     "data": {
      "text/plain": [
       "F_onewayResult(statistic=89.25903546601671, pvalue=1.5644991316342494e-27)"
      ]
     },
     "execution_count": 19,
     "metadata": {},
     "output_type": "execute_result"
    }
   ],
   "source": [
    "# H0: all three have same mean\n",
    "f_oneway(a, b, c)"
   ]
  },
  {
   "cell_type": "code",
   "execution_count": 20,
   "id": "ffb9e56a",
   "metadata": {
    "hidden": true
   },
   "outputs": [],
   "source": [
    "# p-value is small -- Reject H0"
   ]
  },
  {
   "cell_type": "code",
   "execution_count": 21,
   "id": "4f36cbe9",
   "metadata": {
    "hidden": true
   },
   "outputs": [
    {
     "data": {
      "text/plain": [
       "KruskalResult(statistic=61.43670384567185, pvalue=4.562357014275808e-14)"
      ]
     },
     "execution_count": 21,
     "metadata": {},
     "output_type": "execute_result"
    }
   ],
   "source": [
    "kruskal(a, b, c)"
   ]
  },
  {
   "cell_type": "code",
   "execution_count": 22,
   "id": "afaeddc6",
   "metadata": {
    "hidden": true
   },
   "outputs": [],
   "source": [
    "# p-value is small -- Reject H0"
   ]
  },
  {
   "cell_type": "code",
   "execution_count": 23,
   "id": "140dba2f",
   "metadata": {
    "hidden": true
   },
   "outputs": [],
   "source": [
    "bins = [0, df_aerofit[\"Income\"].median(), df_aerofit[\"Income\"].max()]\n",
    "labels = [\"low\", \"high\"]\n",
    "df_aerofit[\"Income_bin\"] = pd.cut(df_aerofit[\"Income\"], bins, labels=labels)"
   ]
  },
  {
   "cell_type": "code",
   "execution_count": 24,
   "id": "89afb31a",
   "metadata": {
    "hidden": true
   },
   "outputs": [
    {
     "data": {
      "text/html": [
       "<div>\n",
       "<style scoped>\n",
       "    .dataframe tbody tr th:only-of-type {\n",
       "        vertical-align: middle;\n",
       "    }\n",
       "\n",
       "    .dataframe tbody tr th {\n",
       "        vertical-align: top;\n",
       "    }\n",
       "\n",
       "    .dataframe thead th {\n",
       "        text-align: right;\n",
       "    }\n",
       "</style>\n",
       "<table border=\"1\" class=\"dataframe\">\n",
       "  <thead>\n",
       "    <tr style=\"text-align: right;\">\n",
       "      <th></th>\n",
       "      <th>Product</th>\n",
       "      <th>Age</th>\n",
       "      <th>Gender</th>\n",
       "      <th>Education</th>\n",
       "      <th>MaritalStatus</th>\n",
       "      <th>Usage</th>\n",
       "      <th>Fitness</th>\n",
       "      <th>Income</th>\n",
       "      <th>Miles</th>\n",
       "      <th>Income_bin</th>\n",
       "    </tr>\n",
       "  </thead>\n",
       "  <tbody>\n",
       "    <tr>\n",
       "      <th>0</th>\n",
       "      <td>KP281</td>\n",
       "      <td>18</td>\n",
       "      <td>Male</td>\n",
       "      <td>14</td>\n",
       "      <td>Single</td>\n",
       "      <td>3</td>\n",
       "      <td>4</td>\n",
       "      <td>29562</td>\n",
       "      <td>112</td>\n",
       "      <td>low</td>\n",
       "    </tr>\n",
       "    <tr>\n",
       "      <th>1</th>\n",
       "      <td>KP281</td>\n",
       "      <td>19</td>\n",
       "      <td>Male</td>\n",
       "      <td>15</td>\n",
       "      <td>Single</td>\n",
       "      <td>2</td>\n",
       "      <td>3</td>\n",
       "      <td>31836</td>\n",
       "      <td>75</td>\n",
       "      <td>low</td>\n",
       "    </tr>\n",
       "    <tr>\n",
       "      <th>2</th>\n",
       "      <td>KP281</td>\n",
       "      <td>19</td>\n",
       "      <td>Female</td>\n",
       "      <td>14</td>\n",
       "      <td>Partnered</td>\n",
       "      <td>4</td>\n",
       "      <td>3</td>\n",
       "      <td>30699</td>\n",
       "      <td>66</td>\n",
       "      <td>low</td>\n",
       "    </tr>\n",
       "    <tr>\n",
       "      <th>3</th>\n",
       "      <td>KP281</td>\n",
       "      <td>19</td>\n",
       "      <td>Male</td>\n",
       "      <td>12</td>\n",
       "      <td>Single</td>\n",
       "      <td>3</td>\n",
       "      <td>3</td>\n",
       "      <td>32973</td>\n",
       "      <td>85</td>\n",
       "      <td>low</td>\n",
       "    </tr>\n",
       "    <tr>\n",
       "      <th>4</th>\n",
       "      <td>KP281</td>\n",
       "      <td>20</td>\n",
       "      <td>Male</td>\n",
       "      <td>13</td>\n",
       "      <td>Partnered</td>\n",
       "      <td>4</td>\n",
       "      <td>2</td>\n",
       "      <td>35247</td>\n",
       "      <td>47</td>\n",
       "      <td>low</td>\n",
       "    </tr>\n",
       "  </tbody>\n",
       "</table>\n",
       "</div>"
      ],
      "text/plain": [
       "  Product  Age  Gender  Education MaritalStatus  Usage  Fitness  Income  \\\n",
       "0   KP281   18    Male         14        Single      3        4   29562   \n",
       "1   KP281   19    Male         15        Single      2        3   31836   \n",
       "2   KP281   19  Female         14     Partnered      4        3   30699   \n",
       "3   KP281   19    Male         12        Single      3        3   32973   \n",
       "4   KP281   20    Male         13     Partnered      4        2   35247   \n",
       "\n",
       "   Miles Income_bin  \n",
       "0    112        low  \n",
       "1     75        low  \n",
       "2     66        low  \n",
       "3     85        low  \n",
       "4     47        low  "
      ]
     },
     "execution_count": 24,
     "metadata": {},
     "output_type": "execute_result"
    }
   ],
   "source": [
    "df_aerofit.head()"
   ]
  },
  {
   "cell_type": "code",
   "execution_count": 25,
   "id": "9471c29f",
   "metadata": {
    "hidden": true
   },
   "outputs": [
    {
     "data": {
      "text/html": [
       "<div>\n",
       "<style scoped>\n",
       "    .dataframe tbody tr th:only-of-type {\n",
       "        vertical-align: middle;\n",
       "    }\n",
       "\n",
       "    .dataframe tbody tr th {\n",
       "        vertical-align: top;\n",
       "    }\n",
       "\n",
       "    .dataframe thead th {\n",
       "        text-align: right;\n",
       "    }\n",
       "</style>\n",
       "<table border=\"1\" class=\"dataframe\">\n",
       "  <thead>\n",
       "    <tr style=\"text-align: right;\">\n",
       "      <th>Product</th>\n",
       "      <th>KP281</th>\n",
       "      <th>KP481</th>\n",
       "      <th>KP781</th>\n",
       "    </tr>\n",
       "    <tr>\n",
       "      <th>Income_bin</th>\n",
       "      <th></th>\n",
       "      <th></th>\n",
       "      <th></th>\n",
       "    </tr>\n",
       "  </thead>\n",
       "  <tbody>\n",
       "    <tr>\n",
       "      <th>low</th>\n",
       "      <td>50</td>\n",
       "      <td>35</td>\n",
       "      <td>5</td>\n",
       "    </tr>\n",
       "    <tr>\n",
       "      <th>high</th>\n",
       "      <td>30</td>\n",
       "      <td>25</td>\n",
       "      <td>35</td>\n",
       "    </tr>\n",
       "  </tbody>\n",
       "</table>\n",
       "</div>"
      ],
      "text/plain": [
       "Product     KP281  KP481  KP781\n",
       "Income_bin                     \n",
       "low            50     35      5\n",
       "high           30     25     35"
      ]
     },
     "execution_count": 25,
     "metadata": {},
     "output_type": "execute_result"
    }
   ],
   "source": [
    "income_bin_product = pd.crosstab(index=df_aerofit[\"Income_bin\"], columns=df_aerofit[\"Product\"])\n",
    "income_bin_product"
   ]
  },
  {
   "cell_type": "code",
   "execution_count": 26,
   "id": "e8c65ae0",
   "metadata": {
    "hidden": true
   },
   "outputs": [
    {
     "data": {
      "text/plain": [
       "(29.166666666666668,\n",
       " 4.640222499769401e-07,\n",
       " 2,\n",
       " array([[40., 30., 20.],\n",
       "        [40., 30., 20.]]))"
      ]
     },
     "execution_count": 26,
     "metadata": {},
     "output_type": "execute_result"
    }
   ],
   "source": [
    "# H0: income bin and product are independent\n",
    "# Ha: dependant\n",
    "chi2_contingency(income_bin_product) # chistat, p-value, df, expected"
   ]
  },
  {
   "cell_type": "code",
   "execution_count": 27,
   "id": "9105da3e",
   "metadata": {
    "hidden": true
   },
   "outputs": [],
   "source": [
    "# p-value is small -- we reject H0"
   ]
  },
  {
   "cell_type": "markdown",
   "id": "78e39113",
   "metadata": {
    "heading_collapsed": true,
    "hidden": true
   },
   "source": [
    "## Gender and product"
   ]
  },
  {
   "cell_type": "code",
   "execution_count": 28,
   "id": "422b398a",
   "metadata": {
    "hidden": true
   },
   "outputs": [
    {
     "data": {
      "text/html": [
       "<div>\n",
       "<style scoped>\n",
       "    .dataframe tbody tr th:only-of-type {\n",
       "        vertical-align: middle;\n",
       "    }\n",
       "\n",
       "    .dataframe tbody tr th {\n",
       "        vertical-align: top;\n",
       "    }\n",
       "\n",
       "    .dataframe thead th {\n",
       "        text-align: right;\n",
       "    }\n",
       "</style>\n",
       "<table border=\"1\" class=\"dataframe\">\n",
       "  <thead>\n",
       "    <tr style=\"text-align: right;\">\n",
       "      <th>Product</th>\n",
       "      <th>KP281</th>\n",
       "      <th>KP481</th>\n",
       "      <th>KP781</th>\n",
       "    </tr>\n",
       "    <tr>\n",
       "      <th>Gender</th>\n",
       "      <th></th>\n",
       "      <th></th>\n",
       "      <th></th>\n",
       "    </tr>\n",
       "  </thead>\n",
       "  <tbody>\n",
       "    <tr>\n",
       "      <th>Female</th>\n",
       "      <td>40</td>\n",
       "      <td>29</td>\n",
       "      <td>7</td>\n",
       "    </tr>\n",
       "    <tr>\n",
       "      <th>Male</th>\n",
       "      <td>40</td>\n",
       "      <td>31</td>\n",
       "      <td>33</td>\n",
       "    </tr>\n",
       "  </tbody>\n",
       "</table>\n",
       "</div>"
      ],
      "text/plain": [
       "Product  KP281  KP481  KP781\n",
       "Gender                      \n",
       "Female      40     29      7\n",
       "Male        40     31     33"
      ]
     },
     "execution_count": 28,
     "metadata": {},
     "output_type": "execute_result"
    }
   ],
   "source": [
    "gender_product = pd.crosstab(index=df_aerofit['Gender'],columns=df_aerofit['Product'])\n",
    "gender_product"
   ]
  },
  {
   "cell_type": "code",
   "execution_count": 29,
   "id": "900a3ee5",
   "metadata": {
    "hidden": true
   },
   "outputs": [
    {
     "data": {
      "text/plain": [
       "(12.923836032388664,\n",
       " 0.0015617972833158714,\n",
       " 2,\n",
       " array([[33.77777778, 25.33333333, 16.88888889],\n",
       "        [46.22222222, 34.66666667, 23.11111111]]))"
      ]
     },
     "execution_count": 29,
     "metadata": {},
     "output_type": "execute_result"
    }
   ],
   "source": [
    "chi2_contingency(gender_product) # chi_stat, p_value, dof, expected"
   ]
  },
  {
   "cell_type": "markdown",
   "id": "994ffe08",
   "metadata": {
    "hidden": true
   },
   "source": [
    "## Gender and income"
   ]
  },
  {
   "cell_type": "code",
   "execution_count": 30,
   "id": "f3c2b3ac",
   "metadata": {
    "hidden": true
   },
   "outputs": [
    {
     "data": {
      "text/plain": [
       "<AxesSubplot:xlabel='Gender', ylabel='Income'>"
      ]
     },
     "execution_count": 30,
     "metadata": {},
     "output_type": "execute_result"
    },
    {
     "data": {
      "image/png": "[encoded data removed]",
      "text/plain": [
       "<Figure size 432x288 with 1 Axes>"
      ]
     },
     "metadata": {
      "needs_background": "light"
     },
     "output_type": "display_data"
    }
   ],
   "source": [
    "sns.boxplot(x='Gender', y='Income', data=df_aerofit)"
   ]
  },
  {
   "cell_type": "code",
   "execution_count": 31,
   "id": "27ab6bf5",
   "metadata": {
    "hidden": true
   },
   "outputs": [],
   "source": [
    "a = df_aerofit[df_aerofit[\"Gender\"]==\"Male\"][\"Income\"]\n",
    "b = df_aerofit[df_aerofit[\"Gender\"]==\"Female\"][\"Income\"]"
   ]
  },
  {
   "cell_type": "code",
   "execution_count": 32,
   "id": "fc313dc3",
   "metadata": {
    "hidden": true
   },
   "outputs": [
    {
     "data": {
      "text/plain": [
       "Ttest_indResult(statistic=2.752488637540257, pvalue=0.006527263097214258)"
      ]
     },
     "execution_count": 32,
     "metadata": {},
     "output_type": "execute_result"
    }
   ],
   "source": [
    "# H0: Gender and income are independent (equal mean)\n",
    "ttest_ind(a, b)"
   ]
  },
  {
   "cell_type": "code",
   "execution_count": 33,
   "id": "029d89ae",
   "metadata": {
    "hidden": true
   },
   "outputs": [
    {
     "data": {
      "text/plain": [
       "F_onewayResult(statistic=7.576193699788215, pvalue=0.0065272630972144025)"
      ]
     },
     "execution_count": 33,
     "metadata": {},
     "output_type": "execute_result"
    }
   ],
   "source": [
    "f_oneway(a, b)"
   ]
  },
  {
   "cell_type": "code",
   "execution_count": 34,
   "id": "db813921",
   "metadata": {
    "hidden": true
   },
   "outputs": [
    {
     "data": {
      "text/plain": [
       "KruskalResult(statistic=5.42858267650535, pvalue=0.019809750488529315)"
      ]
     },
     "execution_count": 34,
     "metadata": {},
     "output_type": "execute_result"
    }
   ],
   "source": [
    "kruskal(a, b)"
   ]
  },
  {
   "cell_type": "code",
   "execution_count": 35,
   "id": "9cce8adb",
   "metadata": {
    "hidden": true
   },
   "outputs": [
    {
     "data": {
      "text/html": [
       "<div>\n",
       "<style scoped>\n",
       "    .dataframe tbody tr th:only-of-type {\n",
       "        vertical-align: middle;\n",
       "    }\n",
       "\n",
       "    .dataframe tbody tr th {\n",
       "        vertical-align: top;\n",
       "    }\n",
       "\n",
       "    .dataframe thead th {\n",
       "        text-align: right;\n",
       "    }\n",
       "</style>\n",
       "<table border=\"1\" class=\"dataframe\">\n",
       "  <thead>\n",
       "    <tr style=\"text-align: right;\">\n",
       "      <th>Income_bin</th>\n",
       "      <th>low</th>\n",
       "      <th>high</th>\n",
       "    </tr>\n",
       "    <tr>\n",
       "      <th>Gender</th>\n",
       "      <th></th>\n",
       "      <th></th>\n",
       "    </tr>\n",
       "  </thead>\n",
       "  <tbody>\n",
       "    <tr>\n",
       "      <th>Female</th>\n",
       "      <td>46</td>\n",
       "      <td>30</td>\n",
       "    </tr>\n",
       "    <tr>\n",
       "      <th>Male</th>\n",
       "      <td>44</td>\n",
       "      <td>60</td>\n",
       "    </tr>\n",
       "  </tbody>\n",
       "</table>\n",
       "</div>"
      ],
      "text/plain": [
       "Income_bin  low  high\n",
       "Gender               \n",
       "Female       46    30\n",
       "Male         44    60"
      ]
     },
     "execution_count": 35,
     "metadata": {},
     "output_type": "execute_result"
    }
   ],
   "source": [
    "# Gender and Income Bin\n",
    "gender_income = pd.crosstab(index=df_aerofit[\"Gender\"], columns=df_aerofit[\"Income_bin\"])\n",
    "gender_income"
   ]
  },
  {
   "cell_type": "code",
   "execution_count": 36,
   "id": "dd1836f4",
   "metadata": {
    "hidden": true
   },
   "outputs": [
    {
     "data": {
      "text/plain": [
       "(5.123987854251012,\n",
       " 0.023597328751612016,\n",
       " 1,\n",
       " array([[38., 38.],\n",
       "        [52., 52.]]))"
      ]
     },
     "execution_count": 36,
     "metadata": {},
     "output_type": "execute_result"
    }
   ],
   "source": [
    "# H0: Gender does not affect income\n",
    "chi2_contingency(gender_income)"
   ]
  },
  {
   "cell_type": "code",
   "execution_count": 37,
   "id": "dd0ebef9",
   "metadata": {
    "hidden": true
   },
   "outputs": [],
   "source": [
    "# Statistically significant at 95% confidence\n",
    "# Reject H0"
   ]
  },
  {
   "cell_type": "markdown",
   "id": "d9d5ebb8",
   "metadata": {
    "heading_collapsed": true
   },
   "source": [
    "# iPhone Sales"
   ]
  },
  {
   "cell_type": "code",
   "execution_count": 38,
   "id": "d108d07f",
   "metadata": {
    "hidden": true
   },
   "outputs": [
    {
     "data": {
      "text/html": [
       "<div>\n",
       "<style scoped>\n",
       "    .dataframe tbody tr th:only-of-type {\n",
       "        vertical-align: middle;\n",
       "    }\n",
       "\n",
       "    .dataframe tbody tr th {\n",
       "        vertical-align: top;\n",
       "    }\n",
       "\n",
       "    .dataframe thead th {\n",
       "        text-align: right;\n",
       "    }\n",
       "</style>\n",
       "<table border=\"1\" class=\"dataframe\">\n",
       "  <thead>\n",
       "    <tr style=\"text-align: right;\">\n",
       "      <th></th>\n",
       "      <th>A</th>\n",
       "      <th>B</th>\n",
       "      <th>C</th>\n",
       "    </tr>\n",
       "  </thead>\n",
       "  <tbody>\n",
       "    <tr>\n",
       "      <th>0</th>\n",
       "      <td>25</td>\n",
       "      <td>30</td>\n",
       "      <td>18</td>\n",
       "    </tr>\n",
       "    <tr>\n",
       "      <th>1</th>\n",
       "      <td>25</td>\n",
       "      <td>30</td>\n",
       "      <td>30</td>\n",
       "    </tr>\n",
       "    <tr>\n",
       "      <th>2</th>\n",
       "      <td>27</td>\n",
       "      <td>21</td>\n",
       "      <td>29</td>\n",
       "    </tr>\n",
       "    <tr>\n",
       "      <th>3</th>\n",
       "      <td>30</td>\n",
       "      <td>24</td>\n",
       "      <td>29</td>\n",
       "    </tr>\n",
       "    <tr>\n",
       "      <th>4</th>\n",
       "      <td>23</td>\n",
       "      <td>26</td>\n",
       "      <td>24</td>\n",
       "    </tr>\n",
       "    <tr>\n",
       "      <th>5</th>\n",
       "      <td>20</td>\n",
       "      <td>28</td>\n",
       "      <td>26</td>\n",
       "    </tr>\n",
       "  </tbody>\n",
       "</table>\n",
       "</div>"
      ],
      "text/plain": [
       "    A   B   C\n",
       "0  25  30  18\n",
       "1  25  30  30\n",
       "2  27  21  29\n",
       "3  30  24  29\n",
       "4  23  26  24\n",
       "5  20  28  26"
      ]
     },
     "execution_count": 38,
     "metadata": {},
     "output_type": "execute_result"
    }
   ],
   "source": [
    "a = [25, 25, 27, 30, 23, 20]\n",
    "b = [30, 30, 21, 24, 26, 28]\n",
    "c = [18, 30, 29, 29, 24, 26]\n",
    "list_of_tuples = list(zip(a, b,c))\n",
    "df = pd.DataFrame(list_of_tuples, columns = ['A', 'B', 'C'])\n",
    "df"
   ]
  },
  {
   "cell_type": "code",
   "execution_count": 39,
   "id": "c2d44008",
   "metadata": {
    "hidden": true
   },
   "outputs": [
    {
     "name": "stdout",
     "output_type": "stream",
     "text": [
      "Average sales for A: 25.0\n",
      "Average sales for B: 26.5\n",
      "Average sales for C: 26.0\n"
     ]
    }
   ],
   "source": [
    "m1 = np.mean(a)\n",
    "m2 = np.mean(b)\n",
    "m3 = np.mean(c)\n",
    "\n",
    "print('Average sales for A: {}'.format(m1))\n",
    "print('Average sales for B: {}'.format(m2))\n",
    "print('Average sales for C: {}'.format(m3))"
   ]
  },
  {
   "cell_type": "code",
   "execution_count": 40,
   "id": "d86373e2",
   "metadata": {
    "hidden": true
   },
   "outputs": [
    {
     "name": "stdout",
     "output_type": "stream",
     "text": [
      "Overall mean: 25.833333333333332\n"
     ]
    }
   ],
   "source": [
    "m = (m1+m2+m3)/3 \n",
    "print('Overall mean: {}'.format(m)) "
   ]
  },
  {
   "cell_type": "code",
   "execution_count": 41,
   "id": "62d8a45e",
   "metadata": {
    "hidden": true
   },
   "outputs": [
    {
     "name": "stdout",
     "output_type": "stream",
     "text": [
      "Between-groups Sum of Squared Differences: 6.999999999999999\n"
     ]
    }
   ],
   "source": [
    "SSb = 6*((m1-m)**2+(m2-m)**2+(m3-m)**2)\n",
    "print('Between-groups Sum of Squared Differences: {}'.format(SSb))"
   ]
  },
  {
   "cell_type": "code",
   "execution_count": 42,
   "id": "e6120573",
   "metadata": {
    "hidden": true
   },
   "outputs": [
    {
     "name": "stdout",
     "output_type": "stream",
     "text": [
      "Between-groups Mean Square value: 3.4999999999999996\n"
     ]
    }
   ],
   "source": [
    "MSb = SSb/2\n",
    "print('Between-groups Mean Square value: {}'.format(MSb))"
   ]
  },
  {
   "cell_type": "code",
   "execution_count": 43,
   "id": "34634834",
   "metadata": {
    "hidden": true
   },
   "outputs": [],
   "source": [
    "err_a = list(a-m1)\n",
    "err_b = list(b-m2)\n",
    "err_c = list(c-m3)\n",
    "err = err_a+err_b+err_c\n",
    "ssw = []\n",
    "for i in err:\n",
    "    ssw.append(i**2)\n",
    "    \n",
    "SSw = np.sum(ssw)"
   ]
  },
  {
   "cell_type": "code",
   "execution_count": 44,
   "id": "5ea19c3c",
   "metadata": {
    "hidden": true
   },
   "outputs": [
    {
     "name": "stdout",
     "output_type": "stream",
     "text": [
      "Within-group Mean Square value: 14.9\n"
     ]
    }
   ],
   "source": [
    "MSw = SSw/15\n",
    "print('Within-group Mean Square value: {}'.format(MSw))"
   ]
  },
  {
   "cell_type": "code",
   "execution_count": 45,
   "id": "3b441832",
   "metadata": {
    "hidden": true
   },
   "outputs": [
    {
     "name": "stdout",
     "output_type": "stream",
     "text": [
      "F-score: 0.23489932885906037\n"
     ]
    }
   ],
   "source": [
    "F = MSb/MSw\n",
    "print('F-score: {}'.format(F))"
   ]
  },
  {
   "cell_type": "code",
   "execution_count": 46,
   "id": "f3580dad",
   "metadata": {
    "hidden": true
   },
   "outputs": [
    {
     "name": "stdout",
     "output_type": "stream",
     "text": [
      "0.2348993288590604 0.793504662732833\n"
     ]
    }
   ],
   "source": [
    "f_stat, p_value = f_oneway(a,b,c) \n",
    "print(f_stat, p_value)"
   ]
  },
  {
   "cell_type": "code",
   "execution_count": 47,
   "id": "3d051c35",
   "metadata": {
    "hidden": true
   },
   "outputs": [
    {
     "data": {
      "text/plain": [
       "KruskalResult(statistic=0.6794066317626576, pvalue=0.7119815250421468)"
      ]
     },
     "execution_count": 47,
     "metadata": {},
     "output_type": "execute_result"
    }
   ],
   "source": [
    "# If assumptions of ANOVA don't hold, we need Kruskal Wallis\n",
    "kruskal(a, b, c)"
   ]
  },
  {
   "cell_type": "code",
   "execution_count": 48,
   "id": "921e3478",
   "metadata": {
    "hidden": true
   },
   "outputs": [],
   "source": [
    "cr = f.ppf(0.95, dfn=2, dfd=15)"
   ]
  },
  {
   "cell_type": "code",
   "execution_count": 49,
   "id": "964585ec",
   "metadata": {
    "hidden": true
   },
   "outputs": [
    {
     "data": {
      "text/plain": [
       "3.6823203436732412"
      ]
     },
     "execution_count": 49,
     "metadata": {},
     "output_type": "execute_result"
    }
   ],
   "source": [
    "cr"
   ]
  },
  {
   "cell_type": "markdown",
   "id": "59dc18e9",
   "metadata": {
    "heading_collapsed": true
   },
   "source": [
    "# Two drug recovery"
   ]
  },
  {
   "cell_type": "code",
   "execution_count": 50,
   "id": "f6582342",
   "metadata": {
    "hidden": true
   },
   "outputs": [
    {
     "data": {
      "text/html": [
       "<div>\n",
       "<style scoped>\n",
       "    .dataframe tbody tr th:only-of-type {\n",
       "        vertical-align: middle;\n",
       "    }\n",
       "\n",
       "    .dataframe tbody tr th {\n",
       "        vertical-align: top;\n",
       "    }\n",
       "\n",
       "    .dataframe thead th {\n",
       "        text-align: right;\n",
       "    }\n",
       "</style>\n",
       "<table border=\"1\" class=\"dataframe\">\n",
       "  <thead>\n",
       "    <tr style=\"text-align: right;\">\n",
       "      <th></th>\n",
       "      <th>drug_1</th>\n",
       "    </tr>\n",
       "  </thead>\n",
       "  <tbody>\n",
       "    <tr>\n",
       "      <th>0</th>\n",
       "      <td>8.824208</td>\n",
       "    </tr>\n",
       "    <tr>\n",
       "      <th>1</th>\n",
       "      <td>7.477745</td>\n",
       "    </tr>\n",
       "    <tr>\n",
       "      <th>2</th>\n",
       "      <td>7.557121</td>\n",
       "    </tr>\n",
       "    <tr>\n",
       "      <th>3</th>\n",
       "      <td>7.981314</td>\n",
       "    </tr>\n",
       "    <tr>\n",
       "      <th>4</th>\n",
       "      <td>6.827716</td>\n",
       "    </tr>\n",
       "    <tr>\n",
       "      <th>...</th>\n",
       "      <td>...</td>\n",
       "    </tr>\n",
       "    <tr>\n",
       "      <th>95</th>\n",
       "      <td>6.890506</td>\n",
       "    </tr>\n",
       "    <tr>\n",
       "      <th>96</th>\n",
       "      <td>7.725759</td>\n",
       "    </tr>\n",
       "    <tr>\n",
       "      <th>97</th>\n",
       "      <td>6.848016</td>\n",
       "    </tr>\n",
       "    <tr>\n",
       "      <th>98</th>\n",
       "      <td>7.969997</td>\n",
       "    </tr>\n",
       "    <tr>\n",
       "      <th>99</th>\n",
       "      <td>7.104209</td>\n",
       "    </tr>\n",
       "  </tbody>\n",
       "</table>\n",
       "<p>100 rows × 1 columns</p>\n",
       "</div>"
      ],
      "text/plain": [
       "      drug_1\n",
       "0   8.824208\n",
       "1   7.477745\n",
       "2   7.557121\n",
       "3   7.981314\n",
       "4   6.827716\n",
       "..       ...\n",
       "95  6.890506\n",
       "96  7.725759\n",
       "97  6.848016\n",
       "98  7.969997\n",
       "99  7.104209\n",
       "\n",
       "[100 rows x 1 columns]"
      ]
     },
     "execution_count": 50,
     "metadata": {},
     "output_type": "execute_result"
    }
   ],
   "source": [
    "d1 = pd.read_csv(\"drug_1_recovery.csv\")\n",
    "d1"
   ]
  },
  {
   "cell_type": "code",
   "execution_count": 51,
   "id": "4a38bcf5",
   "metadata": {
    "hidden": true
   },
   "outputs": [],
   "source": [
    "d2 = pd.read_csv(\"drug_2_recovery.csv\")"
   ]
  },
  {
   "cell_type": "code",
   "execution_count": 52,
   "id": "7ab783e3",
   "metadata": {
    "hidden": true
   },
   "outputs": [
    {
     "data": {
      "text/plain": [
       "100"
      ]
     },
     "execution_count": 52,
     "metadata": {},
     "output_type": "execute_result"
    }
   ],
   "source": [
    "len(d1)"
   ]
  },
  {
   "cell_type": "code",
   "execution_count": 53,
   "id": "8b4ee081",
   "metadata": {
    "hidden": true
   },
   "outputs": [
    {
     "data": {
      "text/plain": [
       "120"
      ]
     },
     "execution_count": 53,
     "metadata": {},
     "output_type": "execute_result"
    }
   ],
   "source": [
    "len(d2)"
   ]
  },
  {
   "cell_type": "code",
   "execution_count": 54,
   "id": "ea637a66",
   "metadata": {
    "hidden": true
   },
   "outputs": [
    {
     "data": {
      "text/plain": [
       "drug_1    7.104917\n",
       "dtype: float64"
      ]
     },
     "execution_count": 54,
     "metadata": {},
     "output_type": "execute_result"
    }
   ],
   "source": [
    "d1.mean()"
   ]
  },
  {
   "cell_type": "code",
   "execution_count": 55,
   "id": "f602e845",
   "metadata": {
    "hidden": true
   },
   "outputs": [
    {
     "data": {
      "text/plain": [
       "drug_2    8.073423\n",
       "dtype: float64"
      ]
     },
     "execution_count": 55,
     "metadata": {},
     "output_type": "execute_result"
    }
   ],
   "source": [
    "d2.mean()"
   ]
  },
  {
   "cell_type": "code",
   "execution_count": 56,
   "id": "d71b837d",
   "metadata": {
    "hidden": true
   },
   "outputs": [
    {
     "data": {
      "text/plain": [
       "Ttest_indResult(statistic=array([-5.32112438]), pvalue=array([2.55427147e-07]))"
      ]
     },
     "execution_count": 56,
     "metadata": {},
     "output_type": "execute_result"
    }
   ],
   "source": [
    "# H0: mu1 = mu2 (both drugs are same)\n",
    "# Ha: mu1 not= mu2\n",
    "ttest_ind(d1, d2)"
   ]
  },
  {
   "cell_type": "markdown",
   "id": "f0d2ed25",
   "metadata": {
    "hidden": true
   },
   "source": [
    "p-values is very small --> reject null hypothesis"
   ]
  },
  {
   "cell_type": "code",
   "execution_count": 57,
   "id": "5f8e171d",
   "metadata": {
    "hidden": true
   },
   "outputs": [
    {
     "data": {
      "text/plain": [
       "Ttest_indResult(statistic=array([-5.32112438]), pvalue=array([1.27713574e-07]))"
      ]
     },
     "execution_count": 57,
     "metadata": {},
     "output_type": "execute_result"
    }
   ],
   "source": [
    "# H0: mu1 = mu2 (both drugs are same)\n",
    "# Ha: mu1 < mu2\n",
    "ttest_ind(d1, d2, alternative=\"less\") # left tailed"
   ]
  },
  {
   "cell_type": "code",
   "execution_count": 58,
   "id": "9a40d03b",
   "metadata": {
    "hidden": true
   },
   "outputs": [
    {
     "data": {
      "text/plain": [
       "Ttest_indResult(statistic=array([-5.32112438]), pvalue=array([0.99999987]))"
      ]
     },
     "execution_count": 58,
     "metadata": {},
     "output_type": "execute_result"
    }
   ],
   "source": [
    "# H0: mu1 = mu2 (both drugs are same)\n",
    "# Ha: mu1 > mu2\n",
    "ttest_ind(d1, d2, alternative=\"greater\") # right tailed"
   ]
  },
  {
   "cell_type": "markdown",
   "id": "cd22a5e2",
   "metadata": {
    "heading_collapsed": true
   },
   "source": [
    "# Sachin "
   ]
  },
  {
   "cell_type": "code",
   "execution_count": 59,
   "id": "f06b2524",
   "metadata": {
    "hidden": true
   },
   "outputs": [],
   "source": [
    "df = pd.read_csv(\"Sachin_ODI.csv\")"
   ]
  },
  {
   "cell_type": "code",
   "execution_count": 60,
   "id": "54d918b5",
   "metadata": {
    "hidden": true
   },
   "outputs": [
    {
     "data": {
      "text/html": [
       "<div>\n",
       "<style scoped>\n",
       "    .dataframe tbody tr th:only-of-type {\n",
       "        vertical-align: middle;\n",
       "    }\n",
       "\n",
       "    .dataframe tbody tr th {\n",
       "        vertical-align: top;\n",
       "    }\n",
       "\n",
       "    .dataframe thead th {\n",
       "        text-align: right;\n",
       "    }\n",
       "</style>\n",
       "<table border=\"1\" class=\"dataframe\">\n",
       "  <thead>\n",
       "    <tr style=\"text-align: right;\">\n",
       "      <th></th>\n",
       "      <th>runs</th>\n",
       "      <th>NotOut</th>\n",
       "      <th>mins</th>\n",
       "      <th>bf</th>\n",
       "      <th>fours</th>\n",
       "      <th>sixes</th>\n",
       "      <th>sr</th>\n",
       "      <th>Inns</th>\n",
       "      <th>Opp</th>\n",
       "      <th>Ground</th>\n",
       "      <th>Date</th>\n",
       "      <th>Winner</th>\n",
       "      <th>Won</th>\n",
       "      <th>century</th>\n",
       "    </tr>\n",
       "  </thead>\n",
       "  <tbody>\n",
       "    <tr>\n",
       "      <th>0</th>\n",
       "      <td>13</td>\n",
       "      <td>0</td>\n",
       "      <td>30</td>\n",
       "      <td>15</td>\n",
       "      <td>3</td>\n",
       "      <td>0</td>\n",
       "      <td>86.66</td>\n",
       "      <td>1</td>\n",
       "      <td>New Zealand</td>\n",
       "      <td>Napier</td>\n",
       "      <td>1995-02-16</td>\n",
       "      <td>New Zealand</td>\n",
       "      <td>False</td>\n",
       "      <td>False</td>\n",
       "    </tr>\n",
       "    <tr>\n",
       "      <th>1</th>\n",
       "      <td>37</td>\n",
       "      <td>0</td>\n",
       "      <td>75</td>\n",
       "      <td>51</td>\n",
       "      <td>3</td>\n",
       "      <td>1</td>\n",
       "      <td>72.54</td>\n",
       "      <td>2</td>\n",
       "      <td>South Africa</td>\n",
       "      <td>Hamilton</td>\n",
       "      <td>1995-02-18</td>\n",
       "      <td>South Africa</td>\n",
       "      <td>False</td>\n",
       "      <td>False</td>\n",
       "    </tr>\n",
       "    <tr>\n",
       "      <th>2</th>\n",
       "      <td>47</td>\n",
       "      <td>0</td>\n",
       "      <td>65</td>\n",
       "      <td>40</td>\n",
       "      <td>7</td>\n",
       "      <td>0</td>\n",
       "      <td>117.50</td>\n",
       "      <td>2</td>\n",
       "      <td>Australia</td>\n",
       "      <td>Dunedin</td>\n",
       "      <td>1995-02-22</td>\n",
       "      <td>India</td>\n",
       "      <td>True</td>\n",
       "      <td>False</td>\n",
       "    </tr>\n",
       "    <tr>\n",
       "      <th>3</th>\n",
       "      <td>48</td>\n",
       "      <td>0</td>\n",
       "      <td>37</td>\n",
       "      <td>30</td>\n",
       "      <td>9</td>\n",
       "      <td>1</td>\n",
       "      <td>160.00</td>\n",
       "      <td>2</td>\n",
       "      <td>Bangladesh</td>\n",
       "      <td>Sharjah</td>\n",
       "      <td>1995-04-05</td>\n",
       "      <td>India</td>\n",
       "      <td>True</td>\n",
       "      <td>False</td>\n",
       "    </tr>\n",
       "    <tr>\n",
       "      <th>4</th>\n",
       "      <td>4</td>\n",
       "      <td>0</td>\n",
       "      <td>13</td>\n",
       "      <td>9</td>\n",
       "      <td>1</td>\n",
       "      <td>0</td>\n",
       "      <td>44.44</td>\n",
       "      <td>2</td>\n",
       "      <td>Pakistan</td>\n",
       "      <td>Sharjah</td>\n",
       "      <td>1995-04-07</td>\n",
       "      <td>Pakistan</td>\n",
       "      <td>False</td>\n",
       "      <td>False</td>\n",
       "    </tr>\n",
       "  </tbody>\n",
       "</table>\n",
       "</div>"
      ],
      "text/plain": [
       "   runs  NotOut mins  bf  fours  sixes      sr  Inns           Opp    Ground  \\\n",
       "0    13       0   30  15      3      0   86.66     1   New Zealand    Napier   \n",
       "1    37       0   75  51      3      1   72.54     2  South Africa  Hamilton   \n",
       "2    47       0   65  40      7      0  117.50     2     Australia   Dunedin   \n",
       "3    48       0   37  30      9      1  160.00     2    Bangladesh   Sharjah   \n",
       "4     4       0   13   9      1      0   44.44     2      Pakistan   Sharjah   \n",
       "\n",
       "         Date        Winner    Won  century  \n",
       "0  1995-02-16   New Zealand  False    False  \n",
       "1  1995-02-18  South Africa  False    False  \n",
       "2  1995-02-22         India   True    False  \n",
       "3  1995-04-05         India   True    False  \n",
       "4  1995-04-07      Pakistan  False    False  "
      ]
     },
     "execution_count": 60,
     "metadata": {},
     "output_type": "execute_result"
    }
   ],
   "source": [
    "df.head()"
   ]
  },
  {
   "cell_type": "markdown",
   "id": "5f75f6d4",
   "metadata": {
    "heading_collapsed": true,
    "hidden": true
   },
   "source": [
    "## First Vs Second innings"
   ]
  },
  {
   "cell_type": "code",
   "execution_count": 61,
   "id": "a217ee8a",
   "metadata": {
    "hidden": true
   },
   "outputs": [
    {
     "data": {
      "text/plain": [
       "Inns\n",
       "1    46.670588\n",
       "2    40.173684\n",
       "Name: runs, dtype: float64"
      ]
     },
     "execution_count": 61,
     "metadata": {},
     "output_type": "execute_result"
    }
   ],
   "source": [
    "df.groupby([\"Inns\"])[\"runs\"].mean()"
   ]
  },
  {
   "cell_type": "code",
   "execution_count": 62,
   "id": "d137e54b",
   "metadata": {
    "hidden": true
   },
   "outputs": [],
   "source": [
    "df_first_innings = df[df[\"Inns\"]==1]\n",
    "df_second_innings = df[df[\"Inns\"]==2]"
   ]
  },
  {
   "cell_type": "code",
   "execution_count": 63,
   "id": "4afdb2a7",
   "metadata": {
    "hidden": true
   },
   "outputs": [
    {
     "data": {
      "text/plain": [
       "Ttest_indResult(statistic=1.4612016295532178, pvalue=0.14483724194759964)"
      ]
     },
     "execution_count": 63,
     "metadata": {},
     "output_type": "execute_result"
    }
   ],
   "source": [
    "# H0: scoring pattern across these two are the same\n",
    "ttest_ind(df_first_innings[\"runs\"], df_second_innings[\"runs\"])\n",
    "# Fail to reject: they are the same"
   ]
  },
  {
   "cell_type": "code",
   "execution_count": 64,
   "id": "3d3c39b4",
   "metadata": {
    "hidden": true
   },
   "outputs": [
    {
     "data": {
      "text/plain": [
       "F_onewayResult(statistic=2.1351102022089794, pvalue=0.1448372419476105)"
      ]
     },
     "execution_count": 64,
     "metadata": {},
     "output_type": "execute_result"
    }
   ],
   "source": [
    "f_oneway(df_first_innings[\"runs\"], df_second_innings[\"runs\"])"
   ]
  },
  {
   "cell_type": "code",
   "execution_count": 65,
   "id": "8f0c22b8",
   "metadata": {
    "hidden": true
   },
   "outputs": [],
   "source": [
    "e1 = ECDF(df_first_innings[\"runs\"])\n",
    "e2 = ECDF(df_second_innings[\"runs\"])"
   ]
  },
  {
   "cell_type": "code",
   "execution_count": 66,
   "id": "a68fa787",
   "metadata": {
    "hidden": true
   },
   "outputs": [
    {
     "data": {
      "text/plain": [
       "[<matplotlib.lines.Line2D at 0x14792b430>]"
      ]
     },
     "execution_count": 66,
     "metadata": {},
     "output_type": "execute_result"
    },
    {
     "data": {
      "image/png": "[encoded data removed]",
      "text/plain": [
       "<Figure size 432x288 with 1 Axes>"
      ]
     },
     "metadata": {
      "needs_background": "light"
     },
     "output_type": "display_data"
    }
   ],
   "source": [
    "plt.plot(e1.x, e1.y, c='b')\n",
    "plt.plot(e2.x, e2.y, c='r')"
   ]
  },
  {
   "cell_type": "code",
   "execution_count": 67,
   "id": "7b25ed3d",
   "metadata": {
    "hidden": true
   },
   "outputs": [
    {
     "data": {
      "text/plain": [
       "KstestResult(statistic=0.10990712074303406, pvalue=0.20868747831732348)"
      ]
     },
     "execution_count": 67,
     "metadata": {},
     "output_type": "execute_result"
    }
   ],
   "source": [
    "# H0: two samples come from same distribution\n",
    "kstest(df_first_innings[\"runs\"], df_second_innings[\"runs\"])"
   ]
  },
  {
   "cell_type": "code",
   "execution_count": 68,
   "id": "139f4954",
   "metadata": {
    "hidden": true
   },
   "outputs": [],
   "source": [
    "# p-value is high\n",
    "# Stick with the null hypothesis"
   ]
  },
  {
   "cell_type": "markdown",
   "id": "0220616d",
   "metadata": {
    "heading_collapsed": true,
    "hidden": true
   },
   "source": [
    "## Won Vs Lost"
   ]
  },
  {
   "cell_type": "code",
   "execution_count": 69,
   "id": "615ed875",
   "metadata": {
    "hidden": true
   },
   "outputs": [
    {
     "data": {
      "text/plain": [
       "Won\n",
       "False    35.130682\n",
       "True     51.000000\n",
       "Name: runs, dtype: float64"
      ]
     },
     "execution_count": 69,
     "metadata": {},
     "output_type": "execute_result"
    }
   ],
   "source": [
    "df.groupby([\"Won\"])[\"runs\"].mean()"
   ]
  },
  {
   "cell_type": "code",
   "execution_count": 70,
   "id": "9db10d6f",
   "metadata": {
    "hidden": true
   },
   "outputs": [],
   "source": [
    "df_won = df[df[\"Won\"]==True]\n",
    "df_lost = df[df[\"Won\"]==False]"
   ]
  },
  {
   "cell_type": "code",
   "execution_count": 71,
   "id": "0053509a",
   "metadata": {
    "hidden": true
   },
   "outputs": [
    {
     "data": {
      "text/plain": [
       "Ttest_indResult(statistic=3.628068563969343, pvalue=0.00032706154973653116)"
      ]
     },
     "execution_count": 71,
     "metadata": {},
     "output_type": "execute_result"
    }
   ],
   "source": [
    "# H0: same scoring pattern\n",
    "# Ha: different scoring pattern (2-tailed)\n",
    "ttest_ind(df_won[\"runs\"], df_lost[\"runs\"])"
   ]
  },
  {
   "cell_type": "code",
   "execution_count": 72,
   "id": "156669ea",
   "metadata": {
    "hidden": true
   },
   "outputs": [
    {
     "data": {
      "text/plain": [
       "F_onewayResult(statistic=13.162881504862579, pvalue=0.0003270615497365505)"
      ]
     },
     "execution_count": 72,
     "metadata": {},
     "output_type": "execute_result"
    }
   ],
   "source": [
    "f_oneway(df_won[\"runs\"], df_lost[\"runs\"])"
   ]
  },
  {
   "cell_type": "code",
   "execution_count": 73,
   "id": "44149a6c",
   "metadata": {
    "hidden": true
   },
   "outputs": [
    {
     "data": {
      "text/plain": [
       "Ttest_indResult(statistic=3.628068563969343, pvalue=0.00016353077486826558)"
      ]
     },
     "execution_count": 73,
     "metadata": {},
     "output_type": "execute_result"
    }
   ],
   "source": [
    "# H0: same scoring pattern\n",
    "# Ha: better scoring in matches won\n",
    "ttest_ind(df_won[\"runs\"], df_lost[\"runs\"], alternative=\"greater\")"
   ]
  },
  {
   "cell_type": "code",
   "execution_count": 74,
   "id": "93c7f985",
   "metadata": {
    "hidden": true
   },
   "outputs": [
    {
     "data": {
      "text/plain": [
       "Ttest_indResult(statistic=3.628068563969343, pvalue=0.9998364692251317)"
      ]
     },
     "execution_count": 74,
     "metadata": {},
     "output_type": "execute_result"
    }
   ],
   "source": [
    "# H0: same scoring pattern\n",
    "# Ha: worse scoring in matches won\n",
    "ttest_ind(df_won[\"runs\"], df_lost[\"runs\"], alternative=\"less\")"
   ]
  },
  {
   "cell_type": "code",
   "execution_count": 75,
   "id": "844332b4",
   "metadata": {
    "hidden": true
   },
   "outputs": [],
   "source": [
    "e1 = ECDF(df_won[\"runs\"])\n",
    "e2 = ECDF(df_lost[\"runs\"])"
   ]
  },
  {
   "cell_type": "code",
   "execution_count": 76,
   "id": "68c32656",
   "metadata": {
    "hidden": true
   },
   "outputs": [
    {
     "data": {
      "text/plain": [
       "[<matplotlib.lines.Line2D at 0x1479a2880>]"
      ]
     },
     "execution_count": 76,
     "metadata": {},
     "output_type": "execute_result"
    },
    {
     "data": {
      "image/png": "[encoded data removed]",
      "text/plain": [
       "<Figure size 432x288 with 1 Axes>"
      ]
     },
     "metadata": {
      "needs_background": "light"
     },
     "output_type": "display_data"
    }
   ],
   "source": [
    "plt.plot(e1.x, e1.y, c=\"r\")\n",
    "plt.plot(e2.x, e2.y, c=\"b\")"
   ]
  },
  {
   "cell_type": "code",
   "execution_count": 77,
   "id": "f3373583",
   "metadata": {
    "hidden": true
   },
   "outputs": [],
   "source": [
    "# Is the gap in the cdf statistically significant or not"
   ]
  },
  {
   "cell_type": "code",
   "execution_count": 78,
   "id": "ac6078ef",
   "metadata": {
    "hidden": true
   },
   "outputs": [
    {
     "data": {
      "text/plain": [
       "KstestResult(statistic=0.20602766798418973, pvalue=0.0007769531141111421)"
      ]
     },
     "execution_count": 78,
     "metadata": {},
     "output_type": "execute_result"
    }
   ],
   "source": [
    "# H0: two cdfs are same\n",
    "# Ha: two cdfs are different\n",
    "kstest(df_won[\"runs\"], df_lost[\"runs\"])"
   ]
  },
  {
   "cell_type": "code",
   "execution_count": 79,
   "id": "ec270423",
   "metadata": {
    "hidden": true
   },
   "outputs": [],
   "source": [
    "#p-value is small, so we go with the alternate"
   ]
  },
  {
   "cell_type": "markdown",
   "id": "6a2a7dd2",
   "metadata": {
    "heading_collapsed": true,
    "hidden": true
   },
   "source": [
    "## Century Vs no century"
   ]
  },
  {
   "cell_type": "code",
   "execution_count": 80,
   "id": "47a1a7b5",
   "metadata": {
    "hidden": true
   },
   "outputs": [
    {
     "data": {
      "text/plain": [
       "century\n",
       "False     31.130573\n",
       "True     125.913043\n",
       "Name: runs, dtype: float64"
      ]
     },
     "execution_count": 80,
     "metadata": {},
     "output_type": "execute_result"
    }
   ],
   "source": [
    "df.groupby([\"century\"])[\"runs\"].mean()"
   ]
  },
  {
   "cell_type": "code",
   "execution_count": 81,
   "id": "2b5219b8",
   "metadata": {
    "hidden": true
   },
   "outputs": [],
   "source": [
    "df_century = df[df[\"century\"]==True]\n",
    "df_no_century = df[df[\"century\"]==False]"
   ]
  },
  {
   "cell_type": "code",
   "execution_count": 82,
   "id": "e9fa89ee",
   "metadata": {
    "hidden": true
   },
   "outputs": [
    {
     "data": {
      "text/plain": [
       "Ttest_indResult(statistic=21.531368860785147, pvalue=1.4753208832764008e-66)"
      ]
     },
     "execution_count": 82,
     "metadata": {},
     "output_type": "execute_result"
    }
   ],
   "source": [
    "ttest_ind(df_century[\"runs\"], df_no_century[\"runs\"])"
   ]
  },
  {
   "cell_type": "code",
   "execution_count": 83,
   "id": "7e9993b0",
   "metadata": {
    "hidden": true
   },
   "outputs": [],
   "source": [
    "e1 = ECDF(df_century[\"runs\"])\n",
    "e2 = ECDF(df_no_century[\"runs\"])"
   ]
  },
  {
   "cell_type": "code",
   "execution_count": 84,
   "id": "802b22d4",
   "metadata": {
    "hidden": true
   },
   "outputs": [
    {
     "data": {
      "text/plain": [
       "[<matplotlib.lines.Line2D at 0x147a08be0>]"
      ]
     },
     "execution_count": 84,
     "metadata": {},
     "output_type": "execute_result"
    },
    {
     "data": {
      "image/png": "[encoded data removed]",
      "text/plain": [
       "<Figure size 432x288 with 1 Axes>"
      ]
     },
     "metadata": {
      "needs_background": "light"
     },
     "output_type": "display_data"
    }
   ],
   "source": [
    "plt.plot(e1.x, e1.y)\n",
    "plt.plot(e2.x, e2.y)"
   ]
  },
  {
   "cell_type": "code",
   "execution_count": 85,
   "id": "3c0060ce",
   "metadata": {
    "hidden": true
   },
   "outputs": [
    {
     "data": {
      "text/plain": [
       "KstestResult(statistic=1.0, pvalue=5.707992264778033e-59)"
      ]
     },
     "execution_count": 85,
     "metadata": {},
     "output_type": "execute_result"
    }
   ],
   "source": [
    "kstest(df_century[\"runs\"], df_no_century[\"runs\"])"
   ]
  },
  {
   "cell_type": "markdown",
   "id": "a04e7b01",
   "metadata": {
    "hidden": true
   },
   "source": [
    "## Out of form"
   ]
  },
  {
   "cell_type": "code",
   "execution_count": 86,
   "id": "6ae54d43",
   "metadata": {
    "hidden": true
   },
   "outputs": [
    {
     "data": {
      "text/html": [
       "<div>\n",
       "<style scoped>\n",
       "    .dataframe tbody tr th:only-of-type {\n",
       "        vertical-align: middle;\n",
       "    }\n",
       "\n",
       "    .dataframe tbody tr th {\n",
       "        vertical-align: top;\n",
       "    }\n",
       "\n",
       "    .dataframe thead th {\n",
       "        text-align: right;\n",
       "    }\n",
       "</style>\n",
       "<table border=\"1\" class=\"dataframe\">\n",
       "  <thead>\n",
       "    <tr style=\"text-align: right;\">\n",
       "      <th></th>\n",
       "      <th>runs</th>\n",
       "      <th>NotOut</th>\n",
       "      <th>mins</th>\n",
       "      <th>bf</th>\n",
       "      <th>fours</th>\n",
       "      <th>sixes</th>\n",
       "      <th>sr</th>\n",
       "      <th>Inns</th>\n",
       "      <th>Opp</th>\n",
       "      <th>Ground</th>\n",
       "      <th>Date</th>\n",
       "      <th>Winner</th>\n",
       "      <th>Won</th>\n",
       "      <th>century</th>\n",
       "    </tr>\n",
       "  </thead>\n",
       "  <tbody>\n",
       "    <tr>\n",
       "      <th>0</th>\n",
       "      <td>13</td>\n",
       "      <td>0</td>\n",
       "      <td>30</td>\n",
       "      <td>15</td>\n",
       "      <td>3</td>\n",
       "      <td>0</td>\n",
       "      <td>86.66</td>\n",
       "      <td>1</td>\n",
       "      <td>New Zealand</td>\n",
       "      <td>Napier</td>\n",
       "      <td>1995-02-16</td>\n",
       "      <td>New Zealand</td>\n",
       "      <td>False</td>\n",
       "      <td>False</td>\n",
       "    </tr>\n",
       "    <tr>\n",
       "      <th>1</th>\n",
       "      <td>37</td>\n",
       "      <td>0</td>\n",
       "      <td>75</td>\n",
       "      <td>51</td>\n",
       "      <td>3</td>\n",
       "      <td>1</td>\n",
       "      <td>72.54</td>\n",
       "      <td>2</td>\n",
       "      <td>South Africa</td>\n",
       "      <td>Hamilton</td>\n",
       "      <td>1995-02-18</td>\n",
       "      <td>South Africa</td>\n",
       "      <td>False</td>\n",
       "      <td>False</td>\n",
       "    </tr>\n",
       "    <tr>\n",
       "      <th>2</th>\n",
       "      <td>47</td>\n",
       "      <td>0</td>\n",
       "      <td>65</td>\n",
       "      <td>40</td>\n",
       "      <td>7</td>\n",
       "      <td>0</td>\n",
       "      <td>117.50</td>\n",
       "      <td>2</td>\n",
       "      <td>Australia</td>\n",
       "      <td>Dunedin</td>\n",
       "      <td>1995-02-22</td>\n",
       "      <td>India</td>\n",
       "      <td>True</td>\n",
       "      <td>False</td>\n",
       "    </tr>\n",
       "    <tr>\n",
       "      <th>3</th>\n",
       "      <td>48</td>\n",
       "      <td>0</td>\n",
       "      <td>37</td>\n",
       "      <td>30</td>\n",
       "      <td>9</td>\n",
       "      <td>1</td>\n",
       "      <td>160.00</td>\n",
       "      <td>2</td>\n",
       "      <td>Bangladesh</td>\n",
       "      <td>Sharjah</td>\n",
       "      <td>1995-04-05</td>\n",
       "      <td>India</td>\n",
       "      <td>True</td>\n",
       "      <td>False</td>\n",
       "    </tr>\n",
       "    <tr>\n",
       "      <th>4</th>\n",
       "      <td>4</td>\n",
       "      <td>0</td>\n",
       "      <td>13</td>\n",
       "      <td>9</td>\n",
       "      <td>1</td>\n",
       "      <td>0</td>\n",
       "      <td>44.44</td>\n",
       "      <td>2</td>\n",
       "      <td>Pakistan</td>\n",
       "      <td>Sharjah</td>\n",
       "      <td>1995-04-07</td>\n",
       "      <td>Pakistan</td>\n",
       "      <td>False</td>\n",
       "      <td>False</td>\n",
       "    </tr>\n",
       "  </tbody>\n",
       "</table>\n",
       "</div>"
      ],
      "text/plain": [
       "   runs  NotOut mins  bf  fours  sixes      sr  Inns           Opp    Ground  \\\n",
       "0    13       0   30  15      3      0   86.66     1   New Zealand    Napier   \n",
       "1    37       0   75  51      3      1   72.54     2  South Africa  Hamilton   \n",
       "2    47       0   65  40      7      0  117.50     2     Australia   Dunedin   \n",
       "3    48       0   37  30      9      1  160.00     2    Bangladesh   Sharjah   \n",
       "4     4       0   13   9      1      0   44.44     2      Pakistan   Sharjah   \n",
       "\n",
       "         Date        Winner    Won  century  \n",
       "0  1995-02-16   New Zealand  False    False  \n",
       "1  1995-02-18  South Africa  False    False  \n",
       "2  1995-02-22         India   True    False  \n",
       "3  1995-04-05         India   True    False  \n",
       "4  1995-04-07      Pakistan  False    False  "
      ]
     },
     "execution_count": 86,
     "metadata": {},
     "output_type": "execute_result"
    }
   ],
   "source": [
    "df.head()"
   ]
  },
  {
   "cell_type": "code",
   "execution_count": 87,
   "id": "9e68ab74",
   "metadata": {
    "hidden": true
   },
   "outputs": [],
   "source": [
    "df[\"year\"] = pd.DatetimeIndex(df['Date']).year"
   ]
  },
  {
   "cell_type": "code",
   "execution_count": 88,
   "id": "d5b105d2",
   "metadata": {
    "hidden": true
   },
   "outputs": [
    {
     "data": {
      "text/html": [
       "<div>\n",
       "<style scoped>\n",
       "    .dataframe tbody tr th:only-of-type {\n",
       "        vertical-align: middle;\n",
       "    }\n",
       "\n",
       "    .dataframe tbody tr th {\n",
       "        vertical-align: top;\n",
       "    }\n",
       "\n",
       "    .dataframe thead th {\n",
       "        text-align: right;\n",
       "    }\n",
       "</style>\n",
       "<table border=\"1\" class=\"dataframe\">\n",
       "  <thead>\n",
       "    <tr style=\"text-align: right;\">\n",
       "      <th></th>\n",
       "      <th>runs</th>\n",
       "      <th>NotOut</th>\n",
       "      <th>mins</th>\n",
       "      <th>bf</th>\n",
       "      <th>fours</th>\n",
       "      <th>sixes</th>\n",
       "      <th>sr</th>\n",
       "      <th>Inns</th>\n",
       "      <th>Opp</th>\n",
       "      <th>Ground</th>\n",
       "      <th>Date</th>\n",
       "      <th>Winner</th>\n",
       "      <th>Won</th>\n",
       "      <th>century</th>\n",
       "      <th>year</th>\n",
       "    </tr>\n",
       "  </thead>\n",
       "  <tbody>\n",
       "    <tr>\n",
       "      <th>0</th>\n",
       "      <td>13</td>\n",
       "      <td>0</td>\n",
       "      <td>30</td>\n",
       "      <td>15</td>\n",
       "      <td>3</td>\n",
       "      <td>0</td>\n",
       "      <td>86.66</td>\n",
       "      <td>1</td>\n",
       "      <td>New Zealand</td>\n",
       "      <td>Napier</td>\n",
       "      <td>1995-02-16</td>\n",
       "      <td>New Zealand</td>\n",
       "      <td>False</td>\n",
       "      <td>False</td>\n",
       "      <td>1995</td>\n",
       "    </tr>\n",
       "    <tr>\n",
       "      <th>1</th>\n",
       "      <td>37</td>\n",
       "      <td>0</td>\n",
       "      <td>75</td>\n",
       "      <td>51</td>\n",
       "      <td>3</td>\n",
       "      <td>1</td>\n",
       "      <td>72.54</td>\n",
       "      <td>2</td>\n",
       "      <td>South Africa</td>\n",
       "      <td>Hamilton</td>\n",
       "      <td>1995-02-18</td>\n",
       "      <td>South Africa</td>\n",
       "      <td>False</td>\n",
       "      <td>False</td>\n",
       "      <td>1995</td>\n",
       "    </tr>\n",
       "    <tr>\n",
       "      <th>2</th>\n",
       "      <td>47</td>\n",
       "      <td>0</td>\n",
       "      <td>65</td>\n",
       "      <td>40</td>\n",
       "      <td>7</td>\n",
       "      <td>0</td>\n",
       "      <td>117.50</td>\n",
       "      <td>2</td>\n",
       "      <td>Australia</td>\n",
       "      <td>Dunedin</td>\n",
       "      <td>1995-02-22</td>\n",
       "      <td>India</td>\n",
       "      <td>True</td>\n",
       "      <td>False</td>\n",
       "      <td>1995</td>\n",
       "    </tr>\n",
       "    <tr>\n",
       "      <th>3</th>\n",
       "      <td>48</td>\n",
       "      <td>0</td>\n",
       "      <td>37</td>\n",
       "      <td>30</td>\n",
       "      <td>9</td>\n",
       "      <td>1</td>\n",
       "      <td>160.00</td>\n",
       "      <td>2</td>\n",
       "      <td>Bangladesh</td>\n",
       "      <td>Sharjah</td>\n",
       "      <td>1995-04-05</td>\n",
       "      <td>India</td>\n",
       "      <td>True</td>\n",
       "      <td>False</td>\n",
       "      <td>1995</td>\n",
       "    </tr>\n",
       "    <tr>\n",
       "      <th>4</th>\n",
       "      <td>4</td>\n",
       "      <td>0</td>\n",
       "      <td>13</td>\n",
       "      <td>9</td>\n",
       "      <td>1</td>\n",
       "      <td>0</td>\n",
       "      <td>44.44</td>\n",
       "      <td>2</td>\n",
       "      <td>Pakistan</td>\n",
       "      <td>Sharjah</td>\n",
       "      <td>1995-04-07</td>\n",
       "      <td>Pakistan</td>\n",
       "      <td>False</td>\n",
       "      <td>False</td>\n",
       "      <td>1995</td>\n",
       "    </tr>\n",
       "  </tbody>\n",
       "</table>\n",
       "</div>"
      ],
      "text/plain": [
       "   runs  NotOut mins  bf  fours  sixes      sr  Inns           Opp    Ground  \\\n",
       "0    13       0   30  15      3      0   86.66     1   New Zealand    Napier   \n",
       "1    37       0   75  51      3      1   72.54     2  South Africa  Hamilton   \n",
       "2    47       0   65  40      7      0  117.50     2     Australia   Dunedin   \n",
       "3    48       0   37  30      9      1  160.00     2    Bangladesh   Sharjah   \n",
       "4     4       0   13   9      1      0   44.44     2      Pakistan   Sharjah   \n",
       "\n",
       "         Date        Winner    Won  century  year  \n",
       "0  1995-02-16   New Zealand  False    False  1995  \n",
       "1  1995-02-18  South Africa  False    False  1995  \n",
       "2  1995-02-22         India   True    False  1995  \n",
       "3  1995-04-05         India   True    False  1995  \n",
       "4  1995-04-07      Pakistan  False    False  1995  "
      ]
     },
     "execution_count": 88,
     "metadata": {},
     "output_type": "execute_result"
    }
   ],
   "source": [
    "df.head()"
   ]
  },
  {
   "cell_type": "code",
   "execution_count": 89,
   "id": "636b87bb",
   "metadata": {
    "hidden": true
   },
   "outputs": [
    {
     "data": {
      "text/plain": [
       "43.24166666666667"
      ]
     },
     "execution_count": 89,
     "metadata": {},
     "output_type": "execute_result"
    }
   ],
   "source": [
    "df[\"runs\"].mean()"
   ]
  },
  {
   "cell_type": "code",
   "execution_count": 90,
   "id": "4661963f",
   "metadata": {
    "hidden": true
   },
   "outputs": [
    {
     "data": {
      "text/html": [
       "<div>\n",
       "<style scoped>\n",
       "    .dataframe tbody tr th:only-of-type {\n",
       "        vertical-align: middle;\n",
       "    }\n",
       "\n",
       "    .dataframe tbody tr th {\n",
       "        vertical-align: top;\n",
       "    }\n",
       "\n",
       "    .dataframe thead tr th {\n",
       "        text-align: left;\n",
       "    }\n",
       "\n",
       "    .dataframe thead tr:last-of-type th {\n",
       "        text-align: right;\n",
       "    }\n",
       "</style>\n",
       "<table border=\"1\" class=\"dataframe\">\n",
       "  <thead>\n",
       "    <tr>\n",
       "      <th></th>\n",
       "      <th colspan=\"2\" halign=\"left\">runs</th>\n",
       "    </tr>\n",
       "    <tr>\n",
       "      <th></th>\n",
       "      <th>mean</th>\n",
       "      <th>count</th>\n",
       "    </tr>\n",
       "    <tr>\n",
       "      <th>year</th>\n",
       "      <th></th>\n",
       "      <th></th>\n",
       "    </tr>\n",
       "  </thead>\n",
       "  <tbody>\n",
       "    <tr>\n",
       "      <th>1995</th>\n",
       "      <td>37.000000</td>\n",
       "      <td>12</td>\n",
       "    </tr>\n",
       "    <tr>\n",
       "      <th>1996</th>\n",
       "      <td>52.666667</td>\n",
       "      <td>30</td>\n",
       "    </tr>\n",
       "    <tr>\n",
       "      <th>1997</th>\n",
       "      <td>28.083333</td>\n",
       "      <td>36</td>\n",
       "    </tr>\n",
       "    <tr>\n",
       "      <th>1998</th>\n",
       "      <td>57.393939</td>\n",
       "      <td>33</td>\n",
       "    </tr>\n",
       "    <tr>\n",
       "      <th>1999</th>\n",
       "      <td>39.095238</td>\n",
       "      <td>21</td>\n",
       "    </tr>\n",
       "    <tr>\n",
       "      <th>2000</th>\n",
       "      <td>39.151515</td>\n",
       "      <td>33</td>\n",
       "    </tr>\n",
       "    <tr>\n",
       "      <th>2001</th>\n",
       "      <td>56.500000</td>\n",
       "      <td>16</td>\n",
       "    </tr>\n",
       "    <tr>\n",
       "      <th>2002</th>\n",
       "      <td>39.000000</td>\n",
       "      <td>19</td>\n",
       "    </tr>\n",
       "    <tr>\n",
       "      <th>2003</th>\n",
       "      <td>54.333333</td>\n",
       "      <td>21</td>\n",
       "    </tr>\n",
       "    <tr>\n",
       "      <th>2004</th>\n",
       "      <td>38.666667</td>\n",
       "      <td>21</td>\n",
       "    </tr>\n",
       "    <tr>\n",
       "      <th>2005</th>\n",
       "      <td>25.750000</td>\n",
       "      <td>16</td>\n",
       "    </tr>\n",
       "    <tr>\n",
       "      <th>2006</th>\n",
       "      <td>41.733333</td>\n",
       "      <td>15</td>\n",
       "    </tr>\n",
       "    <tr>\n",
       "      <th>2007</th>\n",
       "      <td>44.531250</td>\n",
       "      <td>32</td>\n",
       "    </tr>\n",
       "    <tr>\n",
       "      <th>2008</th>\n",
       "      <td>38.333333</td>\n",
       "      <td>12</td>\n",
       "    </tr>\n",
       "    <tr>\n",
       "      <th>2009</th>\n",
       "      <td>48.600000</td>\n",
       "      <td>20</td>\n",
       "    </tr>\n",
       "    <tr>\n",
       "      <th>2010</th>\n",
       "      <td>102.000000</td>\n",
       "      <td>2</td>\n",
       "    </tr>\n",
       "    <tr>\n",
       "      <th>2011</th>\n",
       "      <td>46.636364</td>\n",
       "      <td>11</td>\n",
       "    </tr>\n",
       "    <tr>\n",
       "      <th>2012</th>\n",
       "      <td>31.500000</td>\n",
       "      <td>10</td>\n",
       "    </tr>\n",
       "  </tbody>\n",
       "</table>\n",
       "</div>"
      ],
      "text/plain": [
       "            runs      \n",
       "            mean count\n",
       "year                  \n",
       "1995   37.000000    12\n",
       "1996   52.666667    30\n",
       "1997   28.083333    36\n",
       "1998   57.393939    33\n",
       "1999   39.095238    21\n",
       "2000   39.151515    33\n",
       "2001   56.500000    16\n",
       "2002   39.000000    19\n",
       "2003   54.333333    21\n",
       "2004   38.666667    21\n",
       "2005   25.750000    16\n",
       "2006   41.733333    15\n",
       "2007   44.531250    32\n",
       "2008   38.333333    12\n",
       "2009   48.600000    20\n",
       "2010  102.000000     2\n",
       "2011   46.636364    11\n",
       "2012   31.500000    10"
      ]
     },
     "execution_count": 90,
     "metadata": {},
     "output_type": "execute_result"
    }
   ],
   "source": [
    "df.groupby([\"year\"]).agg({\"runs\":[np.mean, \"count\"]})"
   ]
  },
  {
   "cell_type": "code",
   "execution_count": 91,
   "id": "28449276",
   "metadata": {
    "hidden": true
   },
   "outputs": [
    {
     "name": "stdout",
     "output_type": "stream",
     "text": [
      "Sachin was out of form in  1997\n",
      "Sachin was out of form in  2005\n"
     ]
    }
   ],
   "source": [
    "# Out of form\n",
    "for year in df[\"year\"].unique():\n",
    "    df_year = df[df[\"year\"]==year]\n",
    "    df_other_years = df[df[\"year\"]!=year]\n",
    "    t_stat, p_value = ttest_ind(df_year[\"runs\"], df_other_years[\"runs\"], alternative=\"less\")\n",
    "    if p_value < 0.05:\n",
    "        print(\"Sachin was out of form in \", year)"
   ]
  },
  {
   "cell_type": "code",
   "execution_count": 92,
   "id": "0525c17d",
   "metadata": {
    "hidden": true
   },
   "outputs": [
    {
     "name": "stdout",
     "output_type": "stream",
     "text": [
      "Sachin was in best form in  1998\n",
      "Sachin was in best form in  2010\n"
     ]
    }
   ],
   "source": [
    "# Best years\n",
    "for year in df[\"year\"].unique():\n",
    "    df_year = df[df[\"year\"]==year]\n",
    "    df_other_years = df[df[\"year\"]!=year]\n",
    "    t_stat, p_value = ttest_ind(df_year[\"runs\"], df_other_years[\"runs\"], alternative=\"greater\")\n",
    "    if p_value < 0.05:\n",
    "        print(\"Sachin was in best form in \", year)"
   ]
  },
  {
   "cell_type": "markdown",
   "id": "b72613a0",
   "metadata": {
    "heading_collapsed": true,
    "hidden": true
   },
   "source": [
    "## Century Vs win"
   ]
  },
  {
   "cell_type": "code",
   "execution_count": 93,
   "id": "71e2edc8",
   "metadata": {
    "hidden": true
   },
   "outputs": [
    {
     "data": {
      "text/html": [
       "<div>\n",
       "<style scoped>\n",
       "    .dataframe tbody tr th:only-of-type {\n",
       "        vertical-align: middle;\n",
       "    }\n",
       "\n",
       "    .dataframe tbody tr th {\n",
       "        vertical-align: top;\n",
       "    }\n",
       "\n",
       "    .dataframe thead th {\n",
       "        text-align: right;\n",
       "    }\n",
       "</style>\n",
       "<table border=\"1\" class=\"dataframe\">\n",
       "  <thead>\n",
       "    <tr style=\"text-align: right;\">\n",
       "      <th>century</th>\n",
       "      <th>False</th>\n",
       "      <th>True</th>\n",
       "    </tr>\n",
       "    <tr>\n",
       "      <th>Won</th>\n",
       "      <th></th>\n",
       "      <th></th>\n",
       "    </tr>\n",
       "  </thead>\n",
       "  <tbody>\n",
       "    <tr>\n",
       "      <th>False</th>\n",
       "      <td>160</td>\n",
       "      <td>16</td>\n",
       "    </tr>\n",
       "    <tr>\n",
       "      <th>True</th>\n",
       "      <td>154</td>\n",
       "      <td>30</td>\n",
       "    </tr>\n",
       "  </tbody>\n",
       "</table>\n",
       "</div>"
      ],
      "text/plain": [
       "century  False  True\n",
       "Won                 \n",
       "False      160    16\n",
       "True       154    30"
      ]
     },
     "execution_count": 93,
     "metadata": {},
     "output_type": "execute_result"
    }
   ],
   "source": [
    "df_won_and_century = pd.crosstab(df[\"Won\"], df[\"century\"])\n",
    "df_won_and_century"
   ]
  },
  {
   "cell_type": "code",
   "execution_count": 94,
   "id": "337ad4d9",
   "metadata": {
    "hidden": true
   },
   "outputs": [
    {
     "data": {
      "text/plain": [
       "(3.5775197765282374,\n",
       " 0.05856653223833202,\n",
       " 1,\n",
       " array([[153.51111111,  22.48888889],\n",
       "        [160.48888889,  23.51111111]]))"
      ]
     },
     "execution_count": 94,
     "metadata": {},
     "output_type": "execute_result"
    }
   ],
   "source": [
    "chi2_contingency(df_won_and_century)"
   ]
  },
  {
   "cell_type": "code",
   "execution_count": 95,
   "id": "517c6fc8",
   "metadata": {
    "hidden": true
   },
   "outputs": [],
   "source": [
    "# At 95% confidence, it is not statistically significant\n",
    "# At 90% confidence, it is statistically significant"
   ]
  },
  {
   "cell_type": "markdown",
   "id": "935a6377",
   "metadata": {},
   "source": [
    "# Youtube 2-ads example"
   ]
  },
  {
   "cell_type": "code",
   "execution_count": 96,
   "id": "874157d2",
   "metadata": {},
   "outputs": [
    {
     "data": {
      "text/html": [
       "<div>\n",
       "<style scoped>\n",
       "    .dataframe tbody tr th:only-of-type {\n",
       "        vertical-align: middle;\n",
       "    }\n",
       "\n",
       "    .dataframe tbody tr th {\n",
       "        vertical-align: top;\n",
       "    }\n",
       "\n",
       "    .dataframe thead th {\n",
       "        text-align: right;\n",
       "    }\n",
       "</style>\n",
       "<table border=\"1\" class=\"dataframe\">\n",
       "  <thead>\n",
       "    <tr style=\"text-align: right;\">\n",
       "      <th></th>\n",
       "      <th>date</th>\n",
       "      <th>customer_id</th>\n",
       "      <th>premium</th>\n",
       "      <th>watch_time_hrs</th>\n",
       "      <th>customer_segmnt</th>\n",
       "    </tr>\n",
       "  </thead>\n",
       "  <tbody>\n",
       "    <tr>\n",
       "      <th>11900</th>\n",
       "      <td>2018-01-23</td>\n",
       "      <td>947</td>\n",
       "      <td>0</td>\n",
       "      <td>2.174098</td>\n",
       "      <td>treatment</td>\n",
       "    </tr>\n",
       "    <tr>\n",
       "      <th>17146</th>\n",
       "      <td>2018-01-09</td>\n",
       "      <td>83</td>\n",
       "      <td>0</td>\n",
       "      <td>1.488219</td>\n",
       "      <td>control</td>\n",
       "    </tr>\n",
       "    <tr>\n",
       "      <th>3221</th>\n",
       "      <td>2018-12-05</td>\n",
       "      <td>481</td>\n",
       "      <td>0</td>\n",
       "      <td>2.344997</td>\n",
       "      <td>control</td>\n",
       "    </tr>\n",
       "    <tr>\n",
       "      <th>3856</th>\n",
       "      <td>2018-03-15</td>\n",
       "      <td>560</td>\n",
       "      <td>0</td>\n",
       "      <td>2.358079</td>\n",
       "      <td>treatment</td>\n",
       "    </tr>\n",
       "    <tr>\n",
       "      <th>12845</th>\n",
       "      <td>2018-07-07</td>\n",
       "      <td>185</td>\n",
       "      <td>0</td>\n",
       "      <td>5.943910</td>\n",
       "      <td>control</td>\n",
       "    </tr>\n",
       "    <tr>\n",
       "      <th>...</th>\n",
       "      <td>...</td>\n",
       "      <td>...</td>\n",
       "      <td>...</td>\n",
       "      <td>...</td>\n",
       "      <td>...</td>\n",
       "    </tr>\n",
       "    <tr>\n",
       "      <th>7311</th>\n",
       "      <td>2018-04-02</td>\n",
       "      <td>676</td>\n",
       "      <td>1</td>\n",
       "      <td>5.772616</td>\n",
       "      <td>treatment</td>\n",
       "    </tr>\n",
       "    <tr>\n",
       "      <th>6385</th>\n",
       "      <td>2018-01-30</td>\n",
       "      <td>730</td>\n",
       "      <td>1</td>\n",
       "      <td>1.680468</td>\n",
       "      <td>treatment</td>\n",
       "    </tr>\n",
       "    <tr>\n",
       "      <th>10599</th>\n",
       "      <td>2018-11-24</td>\n",
       "      <td>282</td>\n",
       "      <td>1</td>\n",
       "      <td>1.900887</td>\n",
       "      <td>control</td>\n",
       "    </tr>\n",
       "    <tr>\n",
       "      <th>2165</th>\n",
       "      <td>2018-08-05</td>\n",
       "      <td>742</td>\n",
       "      <td>1</td>\n",
       "      <td>2.397962</td>\n",
       "      <td>treatment</td>\n",
       "    </tr>\n",
       "    <tr>\n",
       "      <th>13279</th>\n",
       "      <td>2018-11-19</td>\n",
       "      <td>356</td>\n",
       "      <td>0</td>\n",
       "      <td>6.946827</td>\n",
       "      <td>control</td>\n",
       "    </tr>\n",
       "  </tbody>\n",
       "</table>\n",
       "<p>100 rows × 5 columns</p>\n",
       "</div>"
      ],
      "text/plain": [
       "             date  customer_id  premium  watch_time_hrs customer_segmnt\n",
       "11900  2018-01-23          947        0        2.174098       treatment\n",
       "17146  2018-01-09           83        0        1.488219         control\n",
       "3221   2018-12-05          481        0        2.344997         control\n",
       "3856   2018-03-15          560        0        2.358079       treatment\n",
       "12845  2018-07-07          185        0        5.943910         control\n",
       "...           ...          ...      ...             ...             ...\n",
       "7311   2018-04-02          676        1        5.772616       treatment\n",
       "6385   2018-01-30          730        1        1.680468       treatment\n",
       "10599  2018-11-24          282        1        1.900887         control\n",
       "2165   2018-08-05          742        1        2.397962       treatment\n",
       "13279  2018-11-19          356        0        6.946827         control\n",
       "\n",
       "[100 rows x 5 columns]"
      ]
     },
     "execution_count": 96,
     "metadata": {},
     "output_type": "execute_result"
    }
   ],
   "source": [
    "youtube_data = pd.read_csv(\"youtube.csv\")\n",
    "youtube_data.sample(100)"
   ]
  },
  {
   "cell_type": "code",
   "execution_count": 97,
   "id": "6cb061c4",
   "metadata": {},
   "outputs": [
    {
     "data": {
      "text/plain": [
       "(20000, 5)"
      ]
     },
     "execution_count": 97,
     "metadata": {},
     "output_type": "execute_result"
    }
   ],
   "source": [
    "youtube_data.shape"
   ]
  },
  {
   "cell_type": "code",
   "execution_count": 98,
   "id": "590a5ef8",
   "metadata": {},
   "outputs": [
    {
     "data": {
      "text/plain": [
       "control      10000\n",
       "treatment    10000\n",
       "Name: customer_segmnt, dtype: int64"
      ]
     },
     "execution_count": 98,
     "metadata": {},
     "output_type": "execute_result"
    }
   ],
   "source": [
    "youtube_data['customer_segmnt'].value_counts()"
   ]
  },
  {
   "cell_type": "code",
   "execution_count": 99,
   "id": "ef86e030",
   "metadata": {},
   "outputs": [
    {
     "data": {
      "text/html": [
       "<div>\n",
       "<style scoped>\n",
       "    .dataframe tbody tr th:only-of-type {\n",
       "        vertical-align: middle;\n",
       "    }\n",
       "\n",
       "    .dataframe tbody tr th {\n",
       "        vertical-align: top;\n",
       "    }\n",
       "\n",
       "    .dataframe thead th {\n",
       "        text-align: right;\n",
       "    }\n",
       "</style>\n",
       "<table border=\"1\" class=\"dataframe\">\n",
       "  <thead>\n",
       "    <tr style=\"text-align: right;\">\n",
       "      <th></th>\n",
       "      <th>customer_id</th>\n",
       "      <th>premium</th>\n",
       "      <th>watch_time_hrs</th>\n",
       "    </tr>\n",
       "  </thead>\n",
       "  <tbody>\n",
       "    <tr>\n",
       "      <th>count</th>\n",
       "      <td>20000.000000</td>\n",
       "      <td>20000.000000</td>\n",
       "      <td>20000.000000</td>\n",
       "    </tr>\n",
       "    <tr>\n",
       "      <th>mean</th>\n",
       "      <td>499.001650</td>\n",
       "      <td>0.176750</td>\n",
       "      <td>9.362542</td>\n",
       "    </tr>\n",
       "    <tr>\n",
       "      <th>std</th>\n",
       "      <td>288.223444</td>\n",
       "      <td>0.381467</td>\n",
       "      <td>244.884839</td>\n",
       "    </tr>\n",
       "    <tr>\n",
       "      <th>min</th>\n",
       "      <td>0.000000</td>\n",
       "      <td>0.000000</td>\n",
       "      <td>0.160268</td>\n",
       "    </tr>\n",
       "    <tr>\n",
       "      <th>25%</th>\n",
       "      <td>249.000000</td>\n",
       "      <td>0.000000</td>\n",
       "      <td>1.678066</td>\n",
       "    </tr>\n",
       "    <tr>\n",
       "      <th>50%</th>\n",
       "      <td>500.000000</td>\n",
       "      <td>0.000000</td>\n",
       "      <td>2.670953</td>\n",
       "    </tr>\n",
       "    <tr>\n",
       "      <th>75%</th>\n",
       "      <td>747.000000</td>\n",
       "      <td>0.000000</td>\n",
       "      <td>4.204673</td>\n",
       "    </tr>\n",
       "    <tr>\n",
       "      <th>max</th>\n",
       "      <td>999.000000</td>\n",
       "      <td>1.000000</td>\n",
       "      <td>10007.648185</td>\n",
       "    </tr>\n",
       "  </tbody>\n",
       "</table>\n",
       "</div>"
      ],
      "text/plain": [
       "        customer_id       premium  watch_time_hrs\n",
       "count  20000.000000  20000.000000    20000.000000\n",
       "mean     499.001650      0.176750        9.362542\n",
       "std      288.223444      0.381467      244.884839\n",
       "min        0.000000      0.000000        0.160268\n",
       "25%      249.000000      0.000000        1.678066\n",
       "50%      500.000000      0.000000        2.670953\n",
       "75%      747.000000      0.000000        4.204673\n",
       "max      999.000000      1.000000    10007.648185"
      ]
     },
     "execution_count": 99,
     "metadata": {},
     "output_type": "execute_result"
    }
   ],
   "source": [
    "youtube_data.describe()"
   ]
  },
  {
   "cell_type": "code",
   "execution_count": 100,
   "id": "3def928d",
   "metadata": {},
   "outputs": [
    {
     "data": {
      "text/plain": [
       "21.356607722117484"
      ]
     },
     "execution_count": 100,
     "metadata": {},
     "output_type": "execute_result"
    }
   ],
   "source": [
    "youtube_data[\"watch_time_hrs\"].quantile(0.998)"
   ]
  },
  {
   "cell_type": "code",
   "execution_count": 101,
   "id": "29a692c5",
   "metadata": {},
   "outputs": [],
   "source": [
    "# Outlier\n",
    "q998 = youtube_data[\"watch_time_hrs\"].quantile(0.998)\n",
    "youtube_data_no_out = youtube_data[youtube_data[\"watch_time_hrs\"] < q998]"
   ]
  },
  {
   "cell_type": "code",
   "execution_count": 102,
   "id": "8d85db88",
   "metadata": {},
   "outputs": [
    {
     "data": {
      "text/plain": [
       "(19960, 5)"
      ]
     },
     "execution_count": 102,
     "metadata": {},
     "output_type": "execute_result"
    }
   ],
   "source": [
    "youtube_data_no_out.shape"
   ]
  },
  {
   "cell_type": "code",
   "execution_count": 103,
   "id": "ee852eef",
   "metadata": {},
   "outputs": [
    {
     "data": {
      "text/html": [
       "<div>\n",
       "<style scoped>\n",
       "    .dataframe tbody tr th:only-of-type {\n",
       "        vertical-align: middle;\n",
       "    }\n",
       "\n",
       "    .dataframe tbody tr th {\n",
       "        vertical-align: top;\n",
       "    }\n",
       "\n",
       "    .dataframe thead th {\n",
       "        text-align: right;\n",
       "    }\n",
       "</style>\n",
       "<table border=\"1\" class=\"dataframe\">\n",
       "  <thead>\n",
       "    <tr style=\"text-align: right;\">\n",
       "      <th></th>\n",
       "      <th>customer_id</th>\n",
       "      <th>premium</th>\n",
       "      <th>watch_time_hrs</th>\n",
       "    </tr>\n",
       "  </thead>\n",
       "  <tbody>\n",
       "    <tr>\n",
       "      <th>count</th>\n",
       "      <td>19960.000000</td>\n",
       "      <td>19960.000000</td>\n",
       "      <td>19960.000000</td>\n",
       "    </tr>\n",
       "    <tr>\n",
       "      <th>mean</th>\n",
       "      <td>499.160271</td>\n",
       "      <td>0.176653</td>\n",
       "      <td>3.331932</td>\n",
       "    </tr>\n",
       "    <tr>\n",
       "      <th>std</th>\n",
       "      <td>288.249181</td>\n",
       "      <td>0.381385</td>\n",
       "      <td>2.474943</td>\n",
       "    </tr>\n",
       "    <tr>\n",
       "      <th>min</th>\n",
       "      <td>0.000000</td>\n",
       "      <td>0.000000</td>\n",
       "      <td>0.160268</td>\n",
       "    </tr>\n",
       "    <tr>\n",
       "      <th>25%</th>\n",
       "      <td>249.000000</td>\n",
       "      <td>0.000000</td>\n",
       "      <td>1.676373</td>\n",
       "    </tr>\n",
       "    <tr>\n",
       "      <th>50%</th>\n",
       "      <td>501.000000</td>\n",
       "      <td>0.000000</td>\n",
       "      <td>2.664286</td>\n",
       "    </tr>\n",
       "    <tr>\n",
       "      <th>75%</th>\n",
       "      <td>747.000000</td>\n",
       "      <td>0.000000</td>\n",
       "      <td>4.186733</td>\n",
       "    </tr>\n",
       "    <tr>\n",
       "      <th>max</th>\n",
       "      <td>999.000000</td>\n",
       "      <td>1.000000</td>\n",
       "      <td>21.356119</td>\n",
       "    </tr>\n",
       "  </tbody>\n",
       "</table>\n",
       "</div>"
      ],
      "text/plain": [
       "        customer_id       premium  watch_time_hrs\n",
       "count  19960.000000  19960.000000    19960.000000\n",
       "mean     499.160271      0.176653        3.331932\n",
       "std      288.249181      0.381385        2.474943\n",
       "min        0.000000      0.000000        0.160268\n",
       "25%      249.000000      0.000000        1.676373\n",
       "50%      501.000000      0.000000        2.664286\n",
       "75%      747.000000      0.000000        4.186733\n",
       "max      999.000000      1.000000       21.356119"
      ]
     },
     "execution_count": 103,
     "metadata": {},
     "output_type": "execute_result"
    }
   ],
   "source": [
    "youtube_data_no_out.describe()"
   ]
  },
  {
   "cell_type": "code",
   "execution_count": 104,
   "id": "2c646773",
   "metadata": {},
   "outputs": [
    {
     "data": {
      "image/png": "[encoded data removed]",
      "text/plain": [
       "<Figure size 432x288 with 1 Axes>"
      ]
     },
     "metadata": {
      "needs_background": "light"
     },
     "output_type": "display_data"
    }
   ],
   "source": [
    "sns.histplot(youtube_data_no_out['watch_time_hrs'], bins=100)\n",
    "plt.show()"
   ]
  },
  {
   "cell_type": "code",
   "execution_count": 105,
   "id": "21748432",
   "metadata": {},
   "outputs": [],
   "source": [
    "control_data = youtube_data_no_out[youtube_data_no_out[\"customer_segmnt\"] == \"control\"]\n",
    "treatment_data = youtube_data_no_out[youtube_data_no_out[\"customer_segmnt\"] == \"treatment\"]"
   ]
  },
  {
   "cell_type": "code",
   "execution_count": 106,
   "id": "7be676cd",
   "metadata": {},
   "outputs": [
    {
     "data": {
      "text/plain": [
       "(9973, 5)"
      ]
     },
     "execution_count": 106,
     "metadata": {},
     "output_type": "execute_result"
    }
   ],
   "source": [
    "control_data.shape"
   ]
  },
  {
   "cell_type": "code",
   "execution_count": 107,
   "id": "79e94bc8",
   "metadata": {},
   "outputs": [
    {
     "data": {
      "text/plain": [
       "(9987, 5)"
      ]
     },
     "execution_count": 107,
     "metadata": {},
     "output_type": "execute_result"
    }
   ],
   "source": [
    "treatment_data.shape"
   ]
  },
  {
   "cell_type": "code",
   "execution_count": 108,
   "id": "d92c2fab",
   "metadata": {},
   "outputs": [
    {
     "data": {
      "text/plain": [
       "3.6099602285795678"
      ]
     },
     "execution_count": 108,
     "metadata": {},
     "output_type": "execute_result"
    }
   ],
   "source": [
    "control_data[\"watch_time_hrs\"].mean()"
   ]
  },
  {
   "cell_type": "code",
   "execution_count": 109,
   "id": "01573a73",
   "metadata": {},
   "outputs": [
    {
     "data": {
      "text/plain": [
       "3.0542936797350437"
      ]
     },
     "execution_count": 109,
     "metadata": {},
     "output_type": "execute_result"
    }
   ],
   "source": [
    "treatment_data[\"watch_time_hrs\"].mean()"
   ]
  },
  {
   "cell_type": "code",
   "execution_count": 110,
   "id": "e41aa1e8",
   "metadata": {},
   "outputs": [
    {
     "data": {
      "text/plain": [
       "Ttest_indResult(statistic=15.96034913022092, pvalue=5.438408586231319e-57)"
      ]
     },
     "execution_count": 110,
     "metadata": {},
     "output_type": "execute_result"
    }
   ],
   "source": [
    "ttest_ind(control_data[\"watch_time_hrs\"], treatment_data[\"watch_time_hrs\"])"
   ]
  },
  {
   "cell_type": "code",
   "execution_count": 111,
   "id": "5fe146c3",
   "metadata": {},
   "outputs": [
    {
     "data": {
      "text/plain": [
       "Ttest_indResult(statistic=15.96034913022092, pvalue=2.719204293115659e-57)"
      ]
     },
     "execution_count": 111,
     "metadata": {},
     "output_type": "execute_result"
    }
   ],
   "source": [
    "#1\n",
    "ttest_ind(control_data[\"watch_time_hrs\"], treatment_data[\"watch_time_hrs\"], alternative=\"greater\")"
   ]
  },
  {
   "cell_type": "code",
   "execution_count": 112,
   "id": "a5467e59",
   "metadata": {},
   "outputs": [
    {
     "data": {
      "text/plain": [
       "Ttest_indResult(statistic=15.96034913022092, pvalue=1.0)"
      ]
     },
     "execution_count": 112,
     "metadata": {},
     "output_type": "execute_result"
    }
   ],
   "source": [
    "#2\n",
    "ttest_ind(control_data[\"watch_time_hrs\"], treatment_data[\"watch_time_hrs\"], alternative=\"less\")"
   ]
  }
 ],
 "metadata": {
  "kernelspec": {
   "display_name": "Python 3 (ipykernel)",
   "language": "python",
   "name": "python3"
  },
  "language_info": {
   "codemirror_mode": {
    "name": "ipython",
    "version": 3
   },
   "file_extension": ".py",
   "mimetype": "text/x-python",
   "name": "python",
   "nbconvert_exporter": "python",
   "pygments_lexer": "ipython3",
   "version": "3.9.12"
  }
 },
 "nbformat": 4,
 "nbformat_minor": 5
}
