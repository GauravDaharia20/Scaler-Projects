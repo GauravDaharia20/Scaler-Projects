{
 "cells": [
  {
   "cell_type": "code",
   "execution_count": 18,
   "id": "b987a3bf",
   "metadata": {},
   "outputs": [],
   "source": [
    "import numpy as np\n",
    "import pandas as pd\n",
    "import seaborn as sns\n",
    "import matplotlib.pyplot as plt\n",
    "\n",
    "from scipy.stats import ttest_1samp # 1 sample t test\n",
    "from scipy.stats import ttest_ind # Takes data as input and returns stat and p\n",
    "from scipy.stats import ttest_ind_from_stats # Takes sample means, std, n and returns stat and p"
   ]
  },
  {
   "cell_type": "markdown",
   "id": "d0e2934d",
   "metadata": {},
   "source": [
    "### Problem Solving Hints\n",
    "We have code to do the following:\n",
    " 1. ttest one sample.\n",
    " 2. ttest two sample from data.\n",
    " 3. ttest two sample from descriptive stats."
   ]
  },
  {
   "cell_type": "code",
   "execution_count": 19,
   "id": "973bc985",
   "metadata": {},
   "outputs": [],
   "source": [
    "## From the scratch implementation of ttest_ind\n",
    "# EQUIVALENT FUNCTION: scipy.stats.ttest_ind\n",
    "from scipy.stats import t\n",
    "\n",
    "def ttest_ind_from_data(d1, d2, alternative=\"two-sided\"):\n",
    "    \"\"\"\n",
    "    d1: pandas Series\n",
    "    d2: pandas Series\n",
    "    alternative: {‘two-sided’, ‘less’, ‘greater’}, optional\n",
    "    \"\"\"\n",
    "    n1 = len(d1)\n",
    "    n2 = len(d2)\n",
    "    \n",
    "    m1 = d1.mean()\n",
    "    m2 = d2.mean()\n",
    "    \n",
    "    s1 = d1.std()\n",
    "    s2 = d2.std()\n",
    "    \n",
    "    df = n1 + n2 - 2\n",
    "    \n",
    "    s = np.sqrt((((n1-1)*(s1**2)) + ((n2-1)*(s2**2))) / (n1 + n2 - 2))\n",
    "    \n",
    "    t_stat = (m1 - m2) / (s*np.sqrt(1/n1+ 1/n2))\n",
    "    \n",
    "    if alternative == \"two-sided\":\n",
    "        p_value = 2*(1 - t.cdf(t_stat, df=df))\n",
    "    if alternative == \"less\":\n",
    "        p_value = t.cdf(t_stat, df=df)\n",
    "    if alternative == \"greater\":\n",
    "        p_value = 1 - t.cdf(t_stat, df=df)\n",
    "    print(\"T-stat = \", t_stat)\n",
    "    print(\"P-value = \", p_value)"
   ]
  },
  {
   "cell_type": "code",
   "execution_count": 20,
   "id": "7eb556a4",
   "metadata": {},
   "outputs": [],
   "source": [
    "# EQUIVALENT FUNCTION: scipy.stats.ttest_ind_from_stats\n",
    "def ttest_ind_from_mean_and_std_dev(m1, s1, n1, m2, s2, n2, alternative=\"two-sided\"):\n",
    "    \"\"\"\n",
    "    m1, m2: mean of first and second set of samples respectively\n",
    "    n1, n2: number of samples in first and second set respectively\n",
    "    s1, s2: sample standard deviations of first and second set respectively\n",
    "    alternative: {‘two-sided’, ‘less’, ‘greater’}, optional\n",
    "    \"\"\"\n",
    "    df = n1 + n2 - 2\n",
    "    \n",
    "    s = np.sqrt((((n1-1)*(s1**2)) + ((n2-1)*(s2**2))) / (n1 + n2 - 2))\n",
    "    \n",
    "    t_stat = (m1 - m2) / (s*np.sqrt(1/n1+ 1/n2))\n",
    "    \n",
    "    if alternative == \"two-sided\":\n",
    "        p_value = 2*(1 - t.cdf(t_stat, df=df))\n",
    "    if alternative == \"less\":\n",
    "        p_value = t.cdf(t_stat, df=df)\n",
    "    if alternative == \"greater\":\n",
    "        p_value = 1 - t.cdf(t_stat, df=df)\n",
    "    print(\"T-stat = \", t_stat)\n",
    "    print(\"P-value = \", p_value)"
   ]
  },
  {
   "cell_type": "markdown",
   "id": "1222caff",
   "metadata": {},
   "source": [
    "## Coin example - Chi-square test"
   ]
  },
  {
   "cell_type": "code",
   "execution_count": 21,
   "id": "015863c0",
   "metadata": {},
   "outputs": [
    {
     "name": "stdout",
     "output_type": "stream",
     "text": [
      "p-value:  0.3961439091520741\n"
     ]
    }
   ],
   "source": [
    "from scipy.stats import chi2\n",
    "\n",
    "stat = 0.72\n",
    "print(\"p-value: \", 1 - chi2.cdf(stat, df=1))"
   ]
  },
  {
   "cell_type": "code",
   "execution_count": 22,
   "id": "a6be811b",
   "metadata": {},
   "outputs": [
    {
     "name": "stdout",
     "output_type": "stream",
     "text": [
      "3.841458820694124\n"
     ]
    }
   ],
   "source": [
    "## Assume a stat significance of alpha = 95%\n",
    "print(chi2.ppf(0.95, df = 1))"
   ]
  },
  {
   "cell_type": "code",
   "execution_count": 23,
   "id": "78227016",
   "metadata": {},
   "outputs": [
    {
     "name": "stdout",
     "output_type": "stream",
     "text": [
      "0.72\n",
      "0.3961439091520741\n"
     ]
    }
   ],
   "source": [
    "from scipy.stats import chisquare\n",
    "\n",
    "chi_stat, p_value = chisquare([28, 22], [25, 25])\n",
    "print(chi_stat)\n",
    "print(p_value)"
   ]
  },
  {
   "cell_type": "code",
   "execution_count": 24,
   "id": "17508870",
   "metadata": {},
   "outputs": [
    {
     "name": "stdout",
     "output_type": "stream",
     "text": [
      "32.0\n",
      "1.5417257900280013e-08\n"
     ]
    }
   ],
   "source": [
    "from scipy.stats import chisquare\n",
    "\n",
    "chi_stat, p_value = chisquare([45, 5], [25, 25])\n",
    "print(chi_stat)\n",
    "print(p_value)"
   ]
  },
  {
   "cell_type": "markdown",
   "id": "9bd2c9ac",
   "metadata": {},
   "source": [
    "### Dice example"
   ]
  },
  {
   "cell_type": "code",
   "execution_count": 25,
   "id": "a7c6c393",
   "metadata": {},
   "outputs": [
    {
     "name": "stdout",
     "output_type": "stream",
     "text": [
      "Reject the null hypothesis, dice is biased\n"
     ]
    }
   ],
   "source": [
    "## p-value of the dice example\n",
    "alpha = 0.1\n",
    "p_value = 1 - chi2.cdf(9.67, df = 5)\n",
    "if p_value < alpha:\n",
    "    print(\"Reject the null hypothesis, dice is biased\")\n",
    "else:\n",
    "    print(\"Fail to reject the null hypothesis, dice is fair\")"
   ]
  },
  {
   "cell_type": "code",
   "execution_count": 26,
   "id": "387a83b1",
   "metadata": {},
   "outputs": [
    {
     "name": "stdout",
     "output_type": "stream",
     "text": [
      "Chi2 stat: 9.666666666666666\n",
      "Critical value: 9.666666666666666\n",
      "p-value:  0.08525020077588863\n",
      "Reject the null hypothesis, dice is biased\n"
     ]
    }
   ],
   "source": [
    "crit_val = chi2.ppf(0.9, df=5)\n",
    "\n",
    "chi_stat, p_value = chisquare([2, 4, 8, 9, 3, 10], [6]*6)\n",
    "print(\"Chi2 stat:\", chi_stat)\n",
    "print(\"Critical value:\", chi_stat)\n",
    "print(\"p-value: \", p_value)\n",
    "\n",
    "if chi_stat > crit_val:\n",
    "    print(\"Reject the null hypothesis, dice is biased\")\n",
    "else:\n",
    "    print(\"Fail to reject the null hypothesis, dice is fair\")"
   ]
  },
  {
   "cell_type": "markdown",
   "id": "936881a3",
   "metadata": {},
   "source": [
    "### Gender vs. Buying preference"
   ]
  },
  {
   "cell_type": "code",
   "execution_count": 27,
   "id": "5aef33bb",
   "metadata": {},
   "outputs": [
    {
     "name": "stdout",
     "output_type": "stream",
     "text": [
      "58.66319466554195\n",
      "1.1344741517267437e-12\n"
     ]
    }
   ],
   "source": [
    "from scipy.stats import chi2_contingency\n",
    "\n",
    "observed = [527, 72, 206, 102]\n",
    "expected = [484, 115, 249, 59]\n",
    "\n",
    "chi_stat, p_value = chisquare(observed, expected)\n",
    "print(chi_stat)\n",
    "print(p_value)"
   ]
  },
  {
   "cell_type": "code",
   "execution_count": 28,
   "id": "dccb944b",
   "metadata": {},
   "outputs": [
    {
     "name": "stdout",
     "output_type": "stream",
     "text": [
      "57.04098674049609 4.268230756875865e-14\n"
     ]
    }
   ],
   "source": [
    "from scipy.stats import chi2_contingency\n",
    "\n",
    "observed = [\n",
    "    [527, 72],\n",
    "    [206, 102]\n",
    "]\n",
    "\n",
    "chi_stat, p_value, df, exp_freq = chi2_contingency(observed)\n",
    "print(chi_stat, p_value)"
   ]
  },
  {
   "cell_type": "markdown",
   "id": "83c031ab",
   "metadata": {},
   "source": [
    "### Aerofit Dataset"
   ]
  },
  {
   "cell_type": "code",
   "execution_count": 29,
   "id": "648ca677",
   "metadata": {},
   "outputs": [],
   "source": [
    "df_aerofit = pd.read_csv(\"aerofit.csv\")"
   ]
  },
  {
   "cell_type": "code",
   "execution_count": 30,
   "id": "bd6f0a38",
   "metadata": {},
   "outputs": [
    {
     "data": {
      "text/html": [
       "<div>\n",
       "<style scoped>\n",
       "    .dataframe tbody tr th:only-of-type {\n",
       "        vertical-align: middle;\n",
       "    }\n",
       "\n",
       "    .dataframe tbody tr th {\n",
       "        vertical-align: top;\n",
       "    }\n",
       "\n",
       "    .dataframe thead th {\n",
       "        text-align: right;\n",
       "    }\n",
       "</style>\n",
       "<table border=\"1\" class=\"dataframe\">\n",
       "  <thead>\n",
       "    <tr style=\"text-align: right;\">\n",
       "      <th></th>\n",
       "      <th>Product</th>\n",
       "      <th>Age</th>\n",
       "      <th>Gender</th>\n",
       "      <th>Education</th>\n",
       "      <th>MaritalStatus</th>\n",
       "      <th>Usage</th>\n",
       "      <th>Fitness</th>\n",
       "      <th>Income</th>\n",
       "      <th>Miles</th>\n",
       "    </tr>\n",
       "  </thead>\n",
       "  <tbody>\n",
       "    <tr>\n",
       "      <th>0</th>\n",
       "      <td>KP281</td>\n",
       "      <td>18</td>\n",
       "      <td>Male</td>\n",
       "      <td>14</td>\n",
       "      <td>Single</td>\n",
       "      <td>3</td>\n",
       "      <td>4</td>\n",
       "      <td>29562</td>\n",
       "      <td>112</td>\n",
       "    </tr>\n",
       "    <tr>\n",
       "      <th>1</th>\n",
       "      <td>KP281</td>\n",
       "      <td>19</td>\n",
       "      <td>Male</td>\n",
       "      <td>15</td>\n",
       "      <td>Single</td>\n",
       "      <td>2</td>\n",
       "      <td>3</td>\n",
       "      <td>31836</td>\n",
       "      <td>75</td>\n",
       "    </tr>\n",
       "    <tr>\n",
       "      <th>2</th>\n",
       "      <td>KP281</td>\n",
       "      <td>19</td>\n",
       "      <td>Female</td>\n",
       "      <td>14</td>\n",
       "      <td>Partnered</td>\n",
       "      <td>4</td>\n",
       "      <td>3</td>\n",
       "      <td>30699</td>\n",
       "      <td>66</td>\n",
       "    </tr>\n",
       "    <tr>\n",
       "      <th>3</th>\n",
       "      <td>KP281</td>\n",
       "      <td>19</td>\n",
       "      <td>Male</td>\n",
       "      <td>12</td>\n",
       "      <td>Single</td>\n",
       "      <td>3</td>\n",
       "      <td>3</td>\n",
       "      <td>32973</td>\n",
       "      <td>85</td>\n",
       "    </tr>\n",
       "    <tr>\n",
       "      <th>4</th>\n",
       "      <td>KP281</td>\n",
       "      <td>20</td>\n",
       "      <td>Male</td>\n",
       "      <td>13</td>\n",
       "      <td>Partnered</td>\n",
       "      <td>4</td>\n",
       "      <td>2</td>\n",
       "      <td>35247</td>\n",
       "      <td>47</td>\n",
       "    </tr>\n",
       "  </tbody>\n",
       "</table>\n",
       "</div>"
      ],
      "text/plain": [
       "  Product  Age  Gender  Education MaritalStatus  Usage  Fitness  Income  Miles\n",
       "0   KP281   18    Male         14        Single      3        4   29562    112\n",
       "1   KP281   19    Male         15        Single      2        3   31836     75\n",
       "2   KP281   19  Female         14     Partnered      4        3   30699     66\n",
       "3   KP281   19    Male         12        Single      3        3   32973     85\n",
       "4   KP281   20    Male         13     Partnered      4        2   35247     47"
      ]
     },
     "execution_count": 30,
     "metadata": {},
     "output_type": "execute_result"
    }
   ],
   "source": [
    "df_aerofit.head()"
   ]
  },
  {
   "cell_type": "markdown",
   "id": "3ed1c816",
   "metadata": {},
   "source": [
    "## Income vs. Product\n",
    "If we know the income, can we predice which product is bought?"
   ]
  },
  {
   "cell_type": "code",
   "execution_count": 31,
   "id": "c123d1d4",
   "metadata": {},
   "outputs": [
    {
     "data": {
      "text/plain": [
       "<AxesSubplot: xlabel='Product', ylabel='Income'>"
      ]
     },
     "execution_count": 31,
     "metadata": {},
     "output_type": "execute_result"
    },
    {
     "data": {
      "image/png": "[encoded data removed]",
      "text/plain": [
       "<Figure size 640x480 with 1 Axes>"
      ]
     },
     "metadata": {},
     "output_type": "display_data"
    }
   ],
   "source": [
    "sns.boxplot(x='Product', y='Income', data=df_aerofit)"
   ]
  },
  {
   "cell_type": "markdown",
   "id": "e48e6a6f",
   "metadata": {},
   "source": [
    "### Step 1: Convert the continuous variable income to a categorical variable"
   ]
  },
  {
   "cell_type": "code",
   "execution_count": 32,
   "id": "d92463c2",
   "metadata": {},
   "outputs": [],
   "source": [
    "bins = [0, df_aerofit[\"Income\"].median(), df_aerofit[\"Income\"].max()]\n",
    "labels = [\"low\", \"high\"]\n",
    "df_aerofit[\"Income_bin\"] = pd.cut(df_aerofit[\"Income\"], bins, labels=labels)"
   ]
  },
  {
   "cell_type": "code",
   "execution_count": 33,
   "id": "6d08cbfb",
   "metadata": {},
   "outputs": [
    {
     "data": {
      "text/html": [
       "<div>\n",
       "<style scoped>\n",
       "    .dataframe tbody tr th:only-of-type {\n",
       "        vertical-align: middle;\n",
       "    }\n",
       "\n",
       "    .dataframe tbody tr th {\n",
       "        vertical-align: top;\n",
       "    }\n",
       "\n",
       "    .dataframe thead th {\n",
       "        text-align: right;\n",
       "    }\n",
       "</style>\n",
       "<table border=\"1\" class=\"dataframe\">\n",
       "  <thead>\n",
       "    <tr style=\"text-align: right;\">\n",
       "      <th></th>\n",
       "      <th>Product</th>\n",
       "      <th>Age</th>\n",
       "      <th>Gender</th>\n",
       "      <th>Education</th>\n",
       "      <th>MaritalStatus</th>\n",
       "      <th>Usage</th>\n",
       "      <th>Fitness</th>\n",
       "      <th>Income</th>\n",
       "      <th>Miles</th>\n",
       "      <th>Income_bin</th>\n",
       "    </tr>\n",
       "  </thead>\n",
       "  <tbody>\n",
       "    <tr>\n",
       "      <th>0</th>\n",
       "      <td>KP281</td>\n",
       "      <td>18</td>\n",
       "      <td>Male</td>\n",
       "      <td>14</td>\n",
       "      <td>Single</td>\n",
       "      <td>3</td>\n",
       "      <td>4</td>\n",
       "      <td>29562</td>\n",
       "      <td>112</td>\n",
       "      <td>low</td>\n",
       "    </tr>\n",
       "    <tr>\n",
       "      <th>1</th>\n",
       "      <td>KP281</td>\n",
       "      <td>19</td>\n",
       "      <td>Male</td>\n",
       "      <td>15</td>\n",
       "      <td>Single</td>\n",
       "      <td>2</td>\n",
       "      <td>3</td>\n",
       "      <td>31836</td>\n",
       "      <td>75</td>\n",
       "      <td>low</td>\n",
       "    </tr>\n",
       "    <tr>\n",
       "      <th>2</th>\n",
       "      <td>KP281</td>\n",
       "      <td>19</td>\n",
       "      <td>Female</td>\n",
       "      <td>14</td>\n",
       "      <td>Partnered</td>\n",
       "      <td>4</td>\n",
       "      <td>3</td>\n",
       "      <td>30699</td>\n",
       "      <td>66</td>\n",
       "      <td>low</td>\n",
       "    </tr>\n",
       "    <tr>\n",
       "      <th>3</th>\n",
       "      <td>KP281</td>\n",
       "      <td>19</td>\n",
       "      <td>Male</td>\n",
       "      <td>12</td>\n",
       "      <td>Single</td>\n",
       "      <td>3</td>\n",
       "      <td>3</td>\n",
       "      <td>32973</td>\n",
       "      <td>85</td>\n",
       "      <td>low</td>\n",
       "    </tr>\n",
       "    <tr>\n",
       "      <th>4</th>\n",
       "      <td>KP281</td>\n",
       "      <td>20</td>\n",
       "      <td>Male</td>\n",
       "      <td>13</td>\n",
       "      <td>Partnered</td>\n",
       "      <td>4</td>\n",
       "      <td>2</td>\n",
       "      <td>35247</td>\n",
       "      <td>47</td>\n",
       "      <td>low</td>\n",
       "    </tr>\n",
       "  </tbody>\n",
       "</table>\n",
       "</div>"
      ],
      "text/plain": [
       "  Product  Age  Gender  Education MaritalStatus  Usage  Fitness  Income  \\\n",
       "0   KP281   18    Male         14        Single      3        4   29562   \n",
       "1   KP281   19    Male         15        Single      2        3   31836   \n",
       "2   KP281   19  Female         14     Partnered      4        3   30699   \n",
       "3   KP281   19    Male         12        Single      3        3   32973   \n",
       "4   KP281   20    Male         13     Partnered      4        2   35247   \n",
       "\n",
       "   Miles Income_bin  \n",
       "0    112        low  \n",
       "1     75        low  \n",
       "2     66        low  \n",
       "3     85        low  \n",
       "4     47        low  "
      ]
     },
     "execution_count": 33,
     "metadata": {},
     "output_type": "execute_result"
    }
   ],
   "source": [
    "df_aerofit.head()"
   ]
  },
  {
   "cell_type": "markdown",
   "id": "535fea5a",
   "metadata": {},
   "source": [
    "### Step 2: Define the contingency table"
   ]
  },
  {
   "cell_type": "code",
   "execution_count": 34,
   "id": "ddf85f2a",
   "metadata": {},
   "outputs": [
    {
     "data": {
      "text/html": [
       "<div>\n",
       "<style scoped>\n",
       "    .dataframe tbody tr th:only-of-type {\n",
       "        vertical-align: middle;\n",
       "    }\n",
       "\n",
       "    .dataframe tbody tr th {\n",
       "        vertical-align: top;\n",
       "    }\n",
       "\n",
       "    .dataframe thead th {\n",
       "        text-align: right;\n",
       "    }\n",
       "</style>\n",
       "<table border=\"1\" class=\"dataframe\">\n",
       "  <thead>\n",
       "    <tr style=\"text-align: right;\">\n",
       "      <th>Product</th>\n",
       "      <th>KP281</th>\n",
       "      <th>KP481</th>\n",
       "      <th>KP781</th>\n",
       "    </tr>\n",
       "    <tr>\n",
       "      <th>Income_bin</th>\n",
       "      <th></th>\n",
       "      <th></th>\n",
       "      <th></th>\n",
       "    </tr>\n",
       "  </thead>\n",
       "  <tbody>\n",
       "    <tr>\n",
       "      <th>low</th>\n",
       "      <td>50</td>\n",
       "      <td>35</td>\n",
       "      <td>5</td>\n",
       "    </tr>\n",
       "    <tr>\n",
       "      <th>high</th>\n",
       "      <td>30</td>\n",
       "      <td>25</td>\n",
       "      <td>35</td>\n",
       "    </tr>\n",
       "  </tbody>\n",
       "</table>\n",
       "</div>"
      ],
      "text/plain": [
       "Product     KP281  KP481  KP781\n",
       "Income_bin                     \n",
       "low            50     35      5\n",
       "high           30     25     35"
      ]
     },
     "execution_count": 34,
     "metadata": {},
     "output_type": "execute_result"
    }
   ],
   "source": [
    "income_bin_product = pd.crosstab(index=df_aerofit[\"Income_bin\"], columns=df_aerofit[\"Product\"])\n",
    "income_bin_product"
   ]
  },
  {
   "cell_type": "code",
   "execution_count": 35,
   "id": "30a94366",
   "metadata": {},
   "outputs": [
    {
     "data": {
      "text/plain": [
       "(29.166666666666668,\n",
       " 4.6402224997694017e-07,\n",
       " 2,\n",
       " array([[40., 30., 20.],\n",
       "        [40., 30., 20.]]))"
      ]
     },
     "execution_count": 35,
     "metadata": {},
     "output_type": "execute_result"
    }
   ],
   "source": [
    "# H0: income bin and product are independent\n",
    "# Ha: dependant\n",
    "chi2_contingency(income_bin_product) # chistat, p-value, df, expected"
   ]
  },
  {
   "cell_type": "markdown",
   "id": "404589b1",
   "metadata": {},
   "source": [
    "## Gender vs. Income"
   ]
  },
  {
   "cell_type": "code",
   "execution_count": 36,
   "id": "bbe54c2d",
   "metadata": {},
   "outputs": [
    {
     "data": {
      "text/html": [
       "<div>\n",
       "<style scoped>\n",
       "    .dataframe tbody tr th:only-of-type {\n",
       "        vertical-align: middle;\n",
       "    }\n",
       "\n",
       "    .dataframe tbody tr th {\n",
       "        vertical-align: top;\n",
       "    }\n",
       "\n",
       "    .dataframe thead th {\n",
       "        text-align: right;\n",
       "    }\n",
       "</style>\n",
       "<table border=\"1\" class=\"dataframe\">\n",
       "  <thead>\n",
       "    <tr style=\"text-align: right;\">\n",
       "      <th>Income_bin</th>\n",
       "      <th>low</th>\n",
       "      <th>high</th>\n",
       "    </tr>\n",
       "    <tr>\n",
       "      <th>Gender</th>\n",
       "      <th></th>\n",
       "      <th></th>\n",
       "    </tr>\n",
       "  </thead>\n",
       "  <tbody>\n",
       "    <tr>\n",
       "      <th>Female</th>\n",
       "      <td>46</td>\n",
       "      <td>30</td>\n",
       "    </tr>\n",
       "    <tr>\n",
       "      <th>Male</th>\n",
       "      <td>44</td>\n",
       "      <td>60</td>\n",
       "    </tr>\n",
       "  </tbody>\n",
       "</table>\n",
       "</div>"
      ],
      "text/plain": [
       "Income_bin  low  high\n",
       "Gender               \n",
       "Female       46    30\n",
       "Male         44    60"
      ]
     },
     "execution_count": 36,
     "metadata": {},
     "output_type": "execute_result"
    }
   ],
   "source": [
    "gender_income_product = pd.crosstab(index=df_aerofit[\"Gender\"], columns=df_aerofit[\"Income_bin\"])\n",
    "gender_income_product"
   ]
  },
  {
   "cell_type": "code",
   "execution_count": 37,
   "id": "ef0ca1ec",
   "metadata": {},
   "outputs": [
    {
     "data": {
      "text/plain": [
       "(5.123987854251012,\n",
       " 0.023597328751612016,\n",
       " 1,\n",
       " array([[38., 38.],\n",
       "        [52., 52.]]))"
      ]
     },
     "execution_count": 37,
     "metadata": {},
     "output_type": "execute_result"
    }
   ],
   "source": [
    "# H0: gender and income are independent\n",
    "# Ha: dependant\n",
    "chi2_contingency(gender_income_product) # chistat, p-value, df, expected"
   ]
  },
  {
   "cell_type": "code",
   "execution_count": 38,
   "id": "678c8fe9",
   "metadata": {},
   "outputs": [],
   "source": [
    "## With an alpha of 0.05, we conclude that income and gender are dependent"
   ]
  },
  {
   "cell_type": "markdown",
   "id": "ecb74f69",
   "metadata": {},
   "source": [
    "### Doubt session question 1"
   ]
  },
  {
   "cell_type": "markdown",
   "id": "cdb69eac",
   "metadata": {},
   "source": [
    "The average hourly wage of a sample of 150 workers in plant 'A' was Rs.2·87 with a standard deviation of Rs. 1·08.\n",
    "\n",
    "The average wage of a sample of 200 workers in plant 'B' was Rs. 2·56 with a standard deviation of Rs. 1·28.\n",
    "\n",
    "Can an applicant safely assume that the hourly wages paid by plant 'A' are higher than those paid by plant 'B' at a 1% significance level?"
   ]
  },
  {
   "cell_type": "code",
   "execution_count": 39,
   "id": "91de8721",
   "metadata": {},
   "outputs": [
    {
     "name": "stdout",
     "output_type": "stream",
     "text": [
      "2.3947738234213953 0.008579470194694676\n",
      "Reject the null hypothesis, the two means are different\n"
     ]
    }
   ],
   "source": [
    "## 1-sample or 2? 2 sample test -> ttest_ind\n",
    "## data or stats? stats -> ttest_ind_from_stats\n",
    "## Left tailed or right tailed? -> right tailed, I want to show that A is greater than B\n",
    "## Significance level -> 1%, so alpha = 0.01\n",
    "\n",
    "mean_1 = 2.87\n",
    "std_dev_1 = 1.08\n",
    "n1 = 150\n",
    "\n",
    "mean_2 = 2.56\n",
    "std_dev_2 = 1.28\n",
    "n2 = 200\n",
    "\n",
    "alpha = 0.01\n",
    "\n",
    "t_stat, p_value = ttest_ind_from_stats(mean_1, std_dev_1, n1, mean_2, std_dev_2, n2, alternative=\"greater\")\n",
    "print(t_stat, p_value)\n",
    "\n",
    "if p_value < alpha:\n",
    "    print(\"Reject the null hypothesis, the two means are different\")\n",
    "else:\n",
    "    print(\"Accept the null hypothesis, the two means are the same\")"
   ]
  },
  {
   "cell_type": "code",
   "execution_count": 40,
   "id": "1421b2db",
   "metadata": {},
   "outputs": [
    {
     "name": "stdout",
     "output_type": "stream",
     "text": [
      "T-stat =  2.3947738234213953\n",
      "P-value =  0.008579470194694738\n"
     ]
    }
   ],
   "source": [
    "ttest_ind_from_mean_and_std_dev(mean_1, std_dev_1, n1, mean_2, std_dev_2, n2, alternative=\"greater\")"
   ]
  },
  {
   "cell_type": "markdown",
   "id": "015f4c3d",
   "metadata": {},
   "source": [
    "### How to calculate the p-value for a 2-tailed test?\n",
    "I am going to show how using the t-distribution, for the above question."
   ]
  },
  {
   "cell_type": "code",
   "execution_count": 41,
   "id": "8949aa29",
   "metadata": {},
   "outputs": [
    {
     "name": "stdout",
     "output_type": "stream",
     "text": [
      "2.3947738234213953 0.01715894038938935\n",
      "Accept the null hypothesis, the two means are the same\n"
     ]
    }
   ],
   "source": [
    "## 1-sample or 2? 2 sample test -> ttest_ind\n",
    "## data or stats? stats -> ttest_ind_from_stats\n",
    "## Left tailed or right tailed? -> right tailed, I want to show that A is greater than B\n",
    "## Significance level -> 1%, so alpha = 0.01\n",
    "\n",
    "mean_1 = 2.87\n",
    "std_dev_1 = 1.08\n",
    "n1 = 150\n",
    "\n",
    "mean_2 = 2.56\n",
    "std_dev_2 = 1.28\n",
    "n2 = 200\n",
    "\n",
    "alpha = 0.01\n",
    "\n",
    "t_stat, p_value = ttest_ind_from_stats(mean_1, std_dev_1, n1, mean_2, std_dev_2, n2)\n",
    "print(t_stat, p_value)\n",
    "\n",
    "if p_value < alpha:\n",
    "    print(\"Reject the null hypothesis, the two means are different\")\n",
    "else:\n",
    "    print(\"Accept the null hypothesis, the two means are the same\")"
   ]
  },
  {
   "cell_type": "code",
   "execution_count": 42,
   "id": "dda4b495",
   "metadata": {},
   "outputs": [],
   "source": [
    "m1 = 2.87\n",
    "s1 = 1.08\n",
    "n1 = 150\n",
    "\n",
    "m2 = 2.56\n",
    "s2 = 1.28\n",
    "n2 = 200\n",
    "\n",
    "df = n1 + n2 - 2\n",
    "    \n",
    "s = np.sqrt((((n1-1)*(s1**2)) + ((n2-1)*(s2**2))) / (n1 + n2 - 2))\n",
    "\n",
    "t_stat = (m1 - m2) / (s*np.sqrt(1/n1+ 1/n2))"
   ]
  },
  {
   "cell_type": "code",
   "execution_count": 43,
   "id": "1cf12487",
   "metadata": {},
   "outputs": [
    {
     "name": "stdout",
     "output_type": "stream",
     "text": [
      "0.008579470194694676 0.008579470194694738 0.017158940389389414\n"
     ]
    }
   ],
   "source": [
    "neg = -1 * np.abs(t_stat)\n",
    "pos =  1 * np.abs(t_stat)\n",
    "\n",
    "dof = n1 + n2 - 2\n",
    "\n",
    "p_value_neg = t.cdf(neg, df=dof)\n",
    "p_value_pos = 1 - t.cdf(pos, df=dof)\n",
    "\n",
    "p_value = p_value_pos + p_value_neg\n",
    "\n",
    "print(p_value_neg, p_value_pos, p_value) # Should be 0.017158940389389348"
   ]
  },
  {
   "cell_type": "markdown",
   "id": "55646ef9",
   "metadata": {},
   "source": [
    "### Q2) Smokers\n",
    "When smokers smoke, nicotine is transformed into cotinine, which can be tested.\n",
    "\n",
    "The average cotinine level in a group of 50 smokers was 243.5 ng ml.\n",
    "\n",
    "Assuming that the standard deviation is known to be 229.5 ng ml, at 95 % confidence, test the assertion that the mean cotinine level of all smokers is equal to 300.0 ng ml."
   ]
  },
  {
   "cell_type": "code",
   "execution_count": 44,
   "id": "f4e84319",
   "metadata": {},
   "outputs": [
    {
     "name": "stdout",
     "output_type": "stream",
     "text": [
      "1.740764025540937\n"
     ]
    }
   ],
   "source": [
    "m1 = 300\n",
    "s1 = 229.5\n",
    "n1 = 50\n",
    "\n",
    "m2 = 243.5\n",
    "s2 = 229.5\n",
    "n2 = 1000000\n",
    "\n",
    "df = n1 + n2 - 2\n",
    "    \n",
    "s = np.sqrt((((n1-1)*(s1**2)) + ((n2-1)*(s2**2))) / (n1 + n2 - 2))\n",
    "\n",
    "t_stat = (m1 - m2) / (s*np.sqrt(1/n1+ 1/n2))\n",
    "print(t_stat)"
   ]
  },
  {
   "cell_type": "code",
   "execution_count": 45,
   "id": "b9e241c6",
   "metadata": {},
   "outputs": [
    {
     "data": {
      "text/plain": [
       "2.009575234489209"
      ]
     },
     "execution_count": 45,
     "metadata": {},
     "output_type": "execute_result"
    }
   ],
   "source": [
    "t.ppf(0.975, df=n1 - 1)"
   ]
  },
  {
   "cell_type": "code",
   "execution_count": 46,
   "id": "8ad1403b",
   "metadata": {},
   "outputs": [],
   "source": [
    "import pandas as pd"
   ]
  },
  {
   "cell_type": "code",
   "execution_count": 47,
   "id": "736d19a4",
   "metadata": {},
   "outputs": [],
   "source": [
    "observed_df = pd.DataFrame()\n",
    "expected_df = pd.DataFrame()"
   ]
  },
  {
   "cell_type": "code",
   "execution_count": 48,
   "id": "bc114003",
   "metadata": {},
   "outputs": [],
   "source": [
    "observed_df['Female'] = (60, 54, 46, 41)\n",
    "observed_df['Male'] = (40, 44, 53, 57)\n",
    "\n",
    "\n",
    "expected_df['Female'] = (50.866, 49.868, 50.377, 49.868)\n",
    "expected_df['Male'] = (49.114, 48.132, 48.623, 48.132)\n"
   ]
  },
  {
   "cell_type": "code",
   "execution_count": 50,
   "id": "52cc5262",
   "metadata": {},
   "outputs": [
    {
     "data": {
      "text/html": [
       "<div>\n",
       "<style scoped>\n",
       "    .dataframe tbody tr th:only-of-type {\n",
       "        vertical-align: middle;\n",
       "    }\n",
       "\n",
       "    .dataframe tbody tr th {\n",
       "        vertical-align: top;\n",
       "    }\n",
       "\n",
       "    .dataframe thead th {\n",
       "        text-align: right;\n",
       "    }\n",
       "</style>\n",
       "<table border=\"1\" class=\"dataframe\">\n",
       "  <thead>\n",
       "    <tr style=\"text-align: right;\">\n",
       "      <th></th>\n",
       "      <th>Female</th>\n",
       "      <th>Male</th>\n",
       "    </tr>\n",
       "  </thead>\n",
       "  <tbody>\n",
       "    <tr>\n",
       "      <th>0</th>\n",
       "      <td>60</td>\n",
       "      <td>40</td>\n",
       "    </tr>\n",
       "    <tr>\n",
       "      <th>1</th>\n",
       "      <td>54</td>\n",
       "      <td>44</td>\n",
       "    </tr>\n",
       "    <tr>\n",
       "      <th>2</th>\n",
       "      <td>46</td>\n",
       "      <td>53</td>\n",
       "    </tr>\n",
       "    <tr>\n",
       "      <th>3</th>\n",
       "      <td>41</td>\n",
       "      <td>57</td>\n",
       "    </tr>\n",
       "  </tbody>\n",
       "</table>\n",
       "</div>"
      ],
      "text/plain": [
       "   Female  Male\n",
       "0      60    40\n",
       "1      54    44\n",
       "2      46    53\n",
       "3      41    57"
      ]
     },
     "execution_count": 50,
     "metadata": {},
     "output_type": "execute_result"
    }
   ],
   "source": [
    "observed_df"
   ]
  },
  {
   "cell_type": "code",
   "execution_count": 59,
   "id": "c43ea041",
   "metadata": {},
   "outputs": [
    {
     "name": "stdout",
     "output_type": "stream",
     "text": [
      "chi_stats :8.006066246262538, p-value:0.04588650089174722, df:3, expected:[[50.88607595 49.11392405]\n",
      " [49.86835443 48.13164557]\n",
      " [50.37721519 48.62278481]\n",
      " [49.86835443 48.13164557]]\n"
     ]
    }
   ],
   "source": [
    "chi_stats , p_value , df, expected = chi2_contingency(observed_df)\n",
    "print(f'chi_stats :{chi_stats}, p-value:{p_value}, df:{df}, expected:{expected}')"
   ]
  },
  {
   "cell_type": "code",
   "execution_count": 54,
   "id": "a8e282cd",
   "metadata": {},
   "outputs": [
    {
     "data": {
      "text/html": [
       "<div>\n",
       "<style scoped>\n",
       "    .dataframe tbody tr th:only-of-type {\n",
       "        vertical-align: middle;\n",
       "    }\n",
       "\n",
       "    .dataframe tbody tr th {\n",
       "        vertical-align: top;\n",
       "    }\n",
       "\n",
       "    .dataframe thead th {\n",
       "        text-align: right;\n",
       "    }\n",
       "</style>\n",
       "<table border=\"1\" class=\"dataframe\">\n",
       "  <thead>\n",
       "    <tr style=\"text-align: right;\">\n",
       "      <th></th>\n",
       "      <th>Female</th>\n",
       "      <th>Male</th>\n",
       "    </tr>\n",
       "  </thead>\n",
       "  <tbody>\n",
       "    <tr>\n",
       "      <th>0</th>\n",
       "      <td>50.866</td>\n",
       "      <td>49.114</td>\n",
       "    </tr>\n",
       "    <tr>\n",
       "      <th>1</th>\n",
       "      <td>49.868</td>\n",
       "      <td>48.132</td>\n",
       "    </tr>\n",
       "    <tr>\n",
       "      <th>2</th>\n",
       "      <td>50.377</td>\n",
       "      <td>48.623</td>\n",
       "    </tr>\n",
       "    <tr>\n",
       "      <th>3</th>\n",
       "      <td>49.868</td>\n",
       "      <td>48.132</td>\n",
       "    </tr>\n",
       "  </tbody>\n",
       "</table>\n",
       "</div>"
      ],
      "text/plain": [
       "   Female    Male\n",
       "0  50.866  49.114\n",
       "1  49.868  48.132\n",
       "2  50.377  48.623\n",
       "3  49.868  48.132"
      ]
     },
     "execution_count": 54,
     "metadata": {},
     "output_type": "execute_result"
    }
   ],
   "source": [
    "expected_df"
   ]
  },
  {
   "cell_type": "code",
   "execution_count": 61,
   "id": "2aa8881a",
   "metadata": {},
   "outputs": [
    {
     "ename": "ValueError",
     "evalue": "For each axis slice, the sum of the observed frequencies must agree with the sum of the expected frequencies to a relative tolerance of 1e-08, but the percent differences are:\n0.0002000400080015605",
     "output_type": "error",
     "traceback": [
      "\u001b[1;31m---------------------------------------------------------------------------\u001b[0m",
      "\u001b[1;31mValueError\u001b[0m                                Traceback (most recent call last)",
      "\u001b[1;32m~\\AppData\\Local\\Temp\\ipykernel_2988\\2522320496.py\u001b[0m in \u001b[0;36m<module>\u001b[1;34m\u001b[0m\n\u001b[0;32m      2\u001b[0m \u001b[0mexpected\u001b[0m \u001b[1;33m=\u001b[0m \u001b[0mnp\u001b[0m\u001b[1;33m.\u001b[0m\u001b[0marray\u001b[0m\u001b[1;33m(\u001b[0m\u001b[1;33m[\u001b[0m\u001b[1;36m60\u001b[0m\u001b[1;33m,\u001b[0m\u001b[1;36m28\u001b[0m\u001b[1;33m,\u001b[0m\u001b[1;36m12\u001b[0m\u001b[1;33m]\u001b[0m\u001b[1;33m)\u001b[0m\u001b[1;33m\u001b[0m\u001b[1;33m\u001b[0m\u001b[0m\n\u001b[0;32m      3\u001b[0m \u001b[1;33m\u001b[0m\u001b[0m\n\u001b[1;32m----> 4\u001b[1;33m \u001b[0mchisquare\u001b[0m\u001b[1;33m(\u001b[0m\u001b[0mobserved\u001b[0m\u001b[1;33m,\u001b[0m\u001b[0mexpected\u001b[0m\u001b[1;33m)\u001b[0m\u001b[1;33m\u001b[0m\u001b[1;33m\u001b[0m\u001b[0m\n\u001b[0m",
      "\u001b[1;32m~\\anaconda3\\envs\\tf_gpu\\lib\\site-packages\\scipy\\stats\\_stats_py.py\u001b[0m in \u001b[0;36mchisquare\u001b[1;34m(f_obs, f_exp, ddof, axis)\u001b[0m\n\u001b[0;32m   7309\u001b[0m \u001b[1;33m\u001b[0m\u001b[0m\n\u001b[0;32m   7310\u001b[0m     \"\"\"\n\u001b[1;32m-> 7311\u001b[1;33m     return power_divergence(f_obs, f_exp=f_exp, ddof=ddof, axis=axis,\n\u001b[0m\u001b[0;32m   7312\u001b[0m                             lambda_=\"pearson\")\n\u001b[0;32m   7313\u001b[0m \u001b[1;33m\u001b[0m\u001b[0m\n",
      "\u001b[1;32m~\\anaconda3\\envs\\tf_gpu\\lib\\site-packages\\scipy\\stats\\_stats_py.py\u001b[0m in \u001b[0;36mpower_divergence\u001b[1;34m(f_obs, f_exp, ddof, axis, lambda_)\u001b[0m\n\u001b[0;32m   7151\u001b[0m                    \u001b[1;34mf\"of {rtol}, but the percent differences are:\\n\"\u001b[0m\u001b[1;33m\u001b[0m\u001b[1;33m\u001b[0m\u001b[0m\n\u001b[0;32m   7152\u001b[0m                    f\"{relative_diff}\")\n\u001b[1;32m-> 7153\u001b[1;33m             \u001b[1;32mraise\u001b[0m \u001b[0mValueError\u001b[0m\u001b[1;33m(\u001b[0m\u001b[0mmsg\u001b[0m\u001b[1;33m)\u001b[0m\u001b[1;33m\u001b[0m\u001b[1;33m\u001b[0m\u001b[0m\n\u001b[0m\u001b[0;32m   7154\u001b[0m \u001b[1;33m\u001b[0m\u001b[0m\n\u001b[0;32m   7155\u001b[0m     \u001b[1;32melse\u001b[0m\u001b[1;33m:\u001b[0m\u001b[1;33m\u001b[0m\u001b[1;33m\u001b[0m\u001b[0m\n",
      "\u001b[1;31mValueError\u001b[0m: For each axis slice, the sum of the observed frequencies must agree with the sum of the expected frequencies to a relative tolerance of 1e-08, but the percent differences are:\n0.0002000400080015605"
     ]
    }
   ],
   "source": [
    "observed = np.array([56.58,29.45,13.95])\n",
    "expected = np.array([60,28,12])\n",
    "\n",
    "chisquare(observed,expected)"
   ]
  },
  {
   "cell_type": "code",
   "execution_count": 68,
   "id": "0ae5c764",
   "metadata": {},
   "outputs": [
    {
     "name": "stdout",
     "output_type": "stream",
     "text": [
      "514.9906432748538 4.270011623435407e-106 8 [[406.77966102 515.25423729 677.96610169]\n",
      " [254.23728814 322.03389831 423.72881356]\n",
      " [254.23728814 322.03389831 423.72881356]\n",
      " [381.3559322  483.05084746 635.59322034]\n",
      " [203.38983051 257.62711864 338.98305085]]\n"
     ]
    }
   ],
   "source": [
    "from scipy.stats import chi2_contingency\n",
    "\n",
    "observed = np.array([\n",
    "    [300,400,300,500,0],\n",
    "    [600,300,300,400,300],\n",
    "    [700,300,400,600,500],\n",
    "])\n",
    "\n",
    "chi_stat, p_value, df, exp_freq = chi2_contingency(observed.T)\n",
    "print(chi_stat, p_value,df,exp_freq)"
   ]
  },
  {
   "cell_type": "code",
   "execution_count": null,
   "id": "b7a2c76d",
   "metadata": {},
   "outputs": [],
   "source": []
  }
 ],
 "metadata": {
  "kernelspec": {
   "display_name": "Python 3 (ipykernel)",
   "language": "python",
   "name": "python3"
  },
  "language_info": {
   "codemirror_mode": {
    "name": "ipython",
    "version": 3
   },
   "file_extension": ".py",
   "mimetype": "text/x-python",
   "name": "python",
   "nbconvert_exporter": "python",
   "pygments_lexer": "ipython3",
   "version": "3.9.13"
  }
 },
 "nbformat": 4,
 "nbformat_minor": 5
}
