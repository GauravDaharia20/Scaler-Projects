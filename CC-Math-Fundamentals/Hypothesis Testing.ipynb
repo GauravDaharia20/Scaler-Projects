{
 "cells": [
  {
   "cell_type": "code",
   "execution_count": 8,
   "id": "88190420",
   "metadata": {},
   "outputs": [],
   "source": [
    "# Sachin case"
   ]
  },
  {
   "cell_type": "code",
   "execution_count": 56,
   "id": "9f3841c9",
   "metadata": {},
   "outputs": [],
   "source": [
    "import pandas as pd\n",
    "import numpy as np\n",
    "from scipy.stats import norm,binom,ttest_1samp,ttest_ind_from_stats\n",
    "from statsmodels.stats.weightstats import ztest"
   ]
  },
  {
   "cell_type": "code",
   "execution_count": 10,
   "id": "7fcaa620",
   "metadata": {},
   "outputs": [],
   "source": [
    "data = pd.read_csv('Sachin_ODI.csv')"
   ]
  },
  {
   "cell_type": "code",
   "execution_count": 11,
   "id": "6570a3a0",
   "metadata": {},
   "outputs": [
    {
     "data": {
      "text/plain": [
       "-1.68"
      ]
     },
     "execution_count": 11,
     "metadata": {},
     "output_type": "execute_result"
    }
   ],
   "source": [
    "from scipy.stats import t\n",
    "round(t.ppf(0.1/2, df=44),2)"
   ]
  },
  {
   "cell_type": "code",
   "execution_count": 12,
   "id": "ecd81a25",
   "metadata": {},
   "outputs": [
    {
     "data": {
      "text/html": [
       "<div>\n",
       "<style scoped>\n",
       "    .dataframe tbody tr th:only-of-type {\n",
       "        vertical-align: middle;\n",
       "    }\n",
       "\n",
       "    .dataframe tbody tr th {\n",
       "        vertical-align: top;\n",
       "    }\n",
       "\n",
       "    .dataframe thead th {\n",
       "        text-align: right;\n",
       "    }\n",
       "</style>\n",
       "<table border=\"1\" class=\"dataframe\">\n",
       "  <thead>\n",
       "    <tr style=\"text-align: right;\">\n",
       "      <th></th>\n",
       "      <th>runs</th>\n",
       "      <th>NotOut</th>\n",
       "      <th>mins</th>\n",
       "      <th>bf</th>\n",
       "      <th>fours</th>\n",
       "      <th>sixes</th>\n",
       "      <th>sr</th>\n",
       "      <th>Inns</th>\n",
       "      <th>Opp</th>\n",
       "      <th>Ground</th>\n",
       "      <th>Date</th>\n",
       "      <th>Winner</th>\n",
       "      <th>Won</th>\n",
       "      <th>century</th>\n",
       "    </tr>\n",
       "  </thead>\n",
       "  <tbody>\n",
       "    <tr>\n",
       "      <th>0</th>\n",
       "      <td>13</td>\n",
       "      <td>0</td>\n",
       "      <td>30</td>\n",
       "      <td>15</td>\n",
       "      <td>3</td>\n",
       "      <td>0</td>\n",
       "      <td>86.66</td>\n",
       "      <td>1</td>\n",
       "      <td>New Zealand</td>\n",
       "      <td>Napier</td>\n",
       "      <td>1995-02-16</td>\n",
       "      <td>New Zealand</td>\n",
       "      <td>False</td>\n",
       "      <td>False</td>\n",
       "    </tr>\n",
       "    <tr>\n",
       "      <th>1</th>\n",
       "      <td>37</td>\n",
       "      <td>0</td>\n",
       "      <td>75</td>\n",
       "      <td>51</td>\n",
       "      <td>3</td>\n",
       "      <td>1</td>\n",
       "      <td>72.54</td>\n",
       "      <td>2</td>\n",
       "      <td>South Africa</td>\n",
       "      <td>Hamilton</td>\n",
       "      <td>1995-02-18</td>\n",
       "      <td>South Africa</td>\n",
       "      <td>False</td>\n",
       "      <td>False</td>\n",
       "    </tr>\n",
       "    <tr>\n",
       "      <th>2</th>\n",
       "      <td>47</td>\n",
       "      <td>0</td>\n",
       "      <td>65</td>\n",
       "      <td>40</td>\n",
       "      <td>7</td>\n",
       "      <td>0</td>\n",
       "      <td>117.50</td>\n",
       "      <td>2</td>\n",
       "      <td>Australia</td>\n",
       "      <td>Dunedin</td>\n",
       "      <td>1995-02-22</td>\n",
       "      <td>India</td>\n",
       "      <td>True</td>\n",
       "      <td>False</td>\n",
       "    </tr>\n",
       "    <tr>\n",
       "      <th>3</th>\n",
       "      <td>48</td>\n",
       "      <td>0</td>\n",
       "      <td>37</td>\n",
       "      <td>30</td>\n",
       "      <td>9</td>\n",
       "      <td>1</td>\n",
       "      <td>160.00</td>\n",
       "      <td>2</td>\n",
       "      <td>Bangladesh</td>\n",
       "      <td>Sharjah</td>\n",
       "      <td>1995-04-05</td>\n",
       "      <td>India</td>\n",
       "      <td>True</td>\n",
       "      <td>False</td>\n",
       "    </tr>\n",
       "    <tr>\n",
       "      <th>4</th>\n",
       "      <td>4</td>\n",
       "      <td>0</td>\n",
       "      <td>13</td>\n",
       "      <td>9</td>\n",
       "      <td>1</td>\n",
       "      <td>0</td>\n",
       "      <td>44.44</td>\n",
       "      <td>2</td>\n",
       "      <td>Pakistan</td>\n",
       "      <td>Sharjah</td>\n",
       "      <td>1995-04-07</td>\n",
       "      <td>Pakistan</td>\n",
       "      <td>False</td>\n",
       "      <td>False</td>\n",
       "    </tr>\n",
       "    <tr>\n",
       "      <th>...</th>\n",
       "      <td>...</td>\n",
       "      <td>...</td>\n",
       "      <td>...</td>\n",
       "      <td>...</td>\n",
       "      <td>...</td>\n",
       "      <td>...</td>\n",
       "      <td>...</td>\n",
       "      <td>...</td>\n",
       "      <td>...</td>\n",
       "      <td>...</td>\n",
       "      <td>...</td>\n",
       "      <td>...</td>\n",
       "      <td>...</td>\n",
       "      <td>...</td>\n",
       "    </tr>\n",
       "    <tr>\n",
       "      <th>355</th>\n",
       "      <td>14</td>\n",
       "      <td>0</td>\n",
       "      <td>34</td>\n",
       "      <td>15</td>\n",
       "      <td>2</td>\n",
       "      <td>0</td>\n",
       "      <td>93.33</td>\n",
       "      <td>2</td>\n",
       "      <td>Australia</td>\n",
       "      <td>Sydney</td>\n",
       "      <td>2012-02-26</td>\n",
       "      <td>Australia</td>\n",
       "      <td>False</td>\n",
       "      <td>False</td>\n",
       "    </tr>\n",
       "    <tr>\n",
       "      <th>356</th>\n",
       "      <td>39</td>\n",
       "      <td>0</td>\n",
       "      <td>45</td>\n",
       "      <td>30</td>\n",
       "      <td>5</td>\n",
       "      <td>0</td>\n",
       "      <td>130.00</td>\n",
       "      <td>2</td>\n",
       "      <td>Sri Lanka</td>\n",
       "      <td>Hobart</td>\n",
       "      <td>2012-02-28</td>\n",
       "      <td>India</td>\n",
       "      <td>True</td>\n",
       "      <td>False</td>\n",
       "    </tr>\n",
       "    <tr>\n",
       "      <th>357</th>\n",
       "      <td>6</td>\n",
       "      <td>0</td>\n",
       "      <td>25</td>\n",
       "      <td>19</td>\n",
       "      <td>1</td>\n",
       "      <td>0</td>\n",
       "      <td>31.57</td>\n",
       "      <td>1</td>\n",
       "      <td>Sri Lanka</td>\n",
       "      <td>Dhaka</td>\n",
       "      <td>2012-03-13</td>\n",
       "      <td>India</td>\n",
       "      <td>True</td>\n",
       "      <td>False</td>\n",
       "    </tr>\n",
       "    <tr>\n",
       "      <th>358</th>\n",
       "      <td>114</td>\n",
       "      <td>0</td>\n",
       "      <td>205</td>\n",
       "      <td>147</td>\n",
       "      <td>12</td>\n",
       "      <td>1</td>\n",
       "      <td>77.55</td>\n",
       "      <td>1</td>\n",
       "      <td>Bangladesh</td>\n",
       "      <td>Dhaka</td>\n",
       "      <td>2012-03-16</td>\n",
       "      <td>Bangladesh</td>\n",
       "      <td>False</td>\n",
       "      <td>True</td>\n",
       "    </tr>\n",
       "    <tr>\n",
       "      <th>359</th>\n",
       "      <td>52</td>\n",
       "      <td>0</td>\n",
       "      <td>93</td>\n",
       "      <td>48</td>\n",
       "      <td>5</td>\n",
       "      <td>1</td>\n",
       "      <td>108.33</td>\n",
       "      <td>2</td>\n",
       "      <td>Pakistan</td>\n",
       "      <td>Dhaka</td>\n",
       "      <td>2012-03-18</td>\n",
       "      <td>India</td>\n",
       "      <td>True</td>\n",
       "      <td>False</td>\n",
       "    </tr>\n",
       "  </tbody>\n",
       "</table>\n",
       "<p>360 rows × 14 columns</p>\n",
       "</div>"
      ],
      "text/plain": [
       "     runs  NotOut mins   bf  fours  sixes      sr  Inns           Opp  \\\n",
       "0      13       0   30   15      3      0   86.66     1   New Zealand   \n",
       "1      37       0   75   51      3      1   72.54     2  South Africa   \n",
       "2      47       0   65   40      7      0  117.50     2     Australia   \n",
       "3      48       0   37   30      9      1  160.00     2    Bangladesh   \n",
       "4       4       0   13    9      1      0   44.44     2      Pakistan   \n",
       "..    ...     ...  ...  ...    ...    ...     ...   ...           ...   \n",
       "355    14       0   34   15      2      0   93.33     2     Australia   \n",
       "356    39       0   45   30      5      0  130.00     2     Sri Lanka   \n",
       "357     6       0   25   19      1      0   31.57     1     Sri Lanka   \n",
       "358   114       0  205  147     12      1   77.55     1    Bangladesh   \n",
       "359    52       0   93   48      5      1  108.33     2      Pakistan   \n",
       "\n",
       "       Ground        Date        Winner    Won  century  \n",
       "0      Napier  1995-02-16   New Zealand  False    False  \n",
       "1    Hamilton  1995-02-18  South Africa  False    False  \n",
       "2     Dunedin  1995-02-22         India   True    False  \n",
       "3     Sharjah  1995-04-05         India   True    False  \n",
       "4     Sharjah  1995-04-07      Pakistan  False    False  \n",
       "..        ...         ...           ...    ...      ...  \n",
       "355    Sydney  2012-02-26     Australia  False    False  \n",
       "356    Hobart  2012-02-28         India   True    False  \n",
       "357     Dhaka  2012-03-13         India   True    False  \n",
       "358     Dhaka  2012-03-16    Bangladesh  False     True  \n",
       "359     Dhaka  2012-03-18         India   True    False  \n",
       "\n",
       "[360 rows x 14 columns]"
      ]
     },
     "execution_count": 12,
     "metadata": {},
     "output_type": "execute_result"
    }
   ],
   "source": [
    "data"
   ]
  },
  {
   "cell_type": "code",
   "execution_count": 13,
   "id": "ac366ced",
   "metadata": {},
   "outputs": [],
   "source": [
    "# Questions\n",
    "# Was sachine batting bette rif india batted first?\n",
    "# Did sachin score more runs when india won?"
   ]
  },
  {
   "cell_type": "code",
   "execution_count": 14,
   "id": "f4d27aac",
   "metadata": {},
   "outputs": [],
   "source": [
    "# Assuming data is in gaussian distribution"
   ]
  },
  {
   "cell_type": "code",
   "execution_count": 15,
   "id": "2b8bfee4",
   "metadata": {},
   "outputs": [
    {
     "name": "stdout",
     "output_type": "stream",
     "text": [
      "population mu : 43.24166666666667 , population std : 42.18245206052441\n"
     ]
    }
   ],
   "source": [
    "mu = data['runs'].mean()\n",
    "std = data['runs'].std()\n",
    "print(f'population mu : {mu} , population std : {std}')"
   ]
  },
  {
   "cell_type": "code",
   "execution_count": 16,
   "id": "397aa298",
   "metadata": {},
   "outputs": [
    {
     "data": {
      "text/plain": [
       "Inns\n",
       "1    46.670588\n",
       "2    40.173684\n",
       "Name: runs, dtype: float64"
      ]
     },
     "execution_count": 16,
     "metadata": {},
     "output_type": "execute_result"
    }
   ],
   "source": [
    "data.groupby(['Inns'])['runs'].mean()"
   ]
  },
  {
   "cell_type": "markdown",
   "id": "623d3e48",
   "metadata": {},
   "source": [
    "# H0 : Sachine does not score more tha usual average\n",
    "# Ha : Sachine score more than usual average\n",
    "alpha = 0.01"
   ]
  },
  {
   "cell_type": "code",
   "execution_count": 17,
   "id": "d6598fc9",
   "metadata": {},
   "outputs": [
    {
     "name": "stdout",
     "output_type": "stream",
     "text": [
      "runs    46.670588\n",
      "dtype: float64\n"
     ]
    }
   ],
   "source": [
    "first_inning_runs = data[data['Inns']==1][['runs']]\n",
    "first_inning_runs\n",
    "print(first_inning_runs.mean())"
   ]
  },
  {
   "cell_type": "code",
   "execution_count": 18,
   "id": "69de662c",
   "metadata": {},
   "outputs": [
    {
     "name": "stdout",
     "output_type": "stream",
     "text": [
      "z:runs    1.059864\n",
      "dtype: float64\n",
      "p : [0.14460321]\n"
     ]
    }
   ],
   "source": [
    "z = (first_inning_runs.mean() - mu) / (std/np.sqrt(len(first_inning_runs)))\n",
    "print(f'z:{z}')\n",
    "p = 1 - norm.cdf(z)\n",
    "print(f'p : {p}')\n",
    "# we are failed to reject H0"
   ]
  },
  {
   "cell_type": "markdown",
   "id": "47d148c4",
   "metadata": {},
   "source": [
    "# India wins the match - Does Sachine score higher if india wins?\n",
    "H0 : sachin mean score when india wins is similar to overall performance\n",
    "\n",
    "Ha : sachine scores higher when india wins\n",
    "\n",
    "alpha = 0.05"
   ]
  },
  {
   "cell_type": "code",
   "execution_count": 19,
   "id": "f1074870",
   "metadata": {},
   "outputs": [
    {
     "data": {
      "text/plain": [
       "Won\n",
       "False    35.130682\n",
       "True     51.000000\n",
       "Name: runs, dtype: float64"
      ]
     },
     "execution_count": 19,
     "metadata": {},
     "output_type": "execute_result"
    }
   ],
   "source": [
    "data.groupby(['Won'])['runs'].mean()"
   ]
  },
  {
   "cell_type": "code",
   "execution_count": 20,
   "id": "fde13033",
   "metadata": {},
   "outputs": [
    {
     "name": "stdout",
     "output_type": "stream",
     "text": [
      "z:runs    2.494856\n",
      "dtype: float64\n",
      "p : [0.00630041]\n"
     ]
    }
   ],
   "source": [
    "all_victory_runs = data[data['Won']==True][['runs']]\n",
    "z = (all_victory_runs.mean() - mu) / (std/np.sqrt(len(all_victory_runs)))\n",
    "print(f'z:{z}')\n",
    "p = 1 - norm.cdf(z)\n",
    "print(f'p : {p}')\n",
    "# we are failed to reject H0"
   ]
  },
  {
   "cell_type": "code",
   "execution_count": 21,
   "id": "b4e197da",
   "metadata": {},
   "outputs": [],
   "source": [
    "# when n >30 we can use z as well as t test"
   ]
  },
  {
   "cell_type": "code",
   "execution_count": 22,
   "id": "7c9a9a72",
   "metadata": {},
   "outputs": [
    {
     "data": {
      "text/plain": [
       "(array([2.35695059]), array([0.00921285]))"
      ]
     },
     "execution_count": 22,
     "metadata": {},
     "output_type": "execute_result"
    }
   ],
   "source": [
    "ztest(all_victory_runs,value=mu,alternative=\"larger\")"
   ]
  },
  {
   "cell_type": "code",
   "execution_count": 23,
   "id": "5c0132e2",
   "metadata": {},
   "outputs": [
    {
     "data": {
      "text/plain": [
       "Ttest_1sampResult(statistic=array([2.35695059]), pvalue=array([0.00974129]))"
      ]
     },
     "execution_count": 23,
     "metadata": {},
     "output_type": "execute_result"
    }
   ],
   "source": [
    "ttest_1samp(all_victory_runs,popmean=mu,alternative=\"greater\")"
   ]
  },
  {
   "cell_type": "code",
   "execution_count": 24,
   "id": "c642d9a3",
   "metadata": {},
   "outputs": [
    {
     "name": "stdout",
     "output_type": "stream",
     "text": [
      "2.01\n"
     ]
    }
   ],
   "source": [
    "import math \n",
    "z = (530-500)/(125/math.sqrt(70))\n",
    "print(round(z,2))"
   ]
  },
  {
   "cell_type": "code",
   "execution_count": 25,
   "id": "b222780b",
   "metadata": {},
   "outputs": [
    {
     "data": {
      "text/plain": [
       "0.02"
      ]
     },
     "execution_count": 25,
     "metadata": {},
     "output_type": "execute_result"
    }
   ],
   "source": [
    "round(1-norm.cdf(z),2)"
   ]
  },
  {
   "cell_type": "code",
   "execution_count": 26,
   "id": "37889fa6",
   "metadata": {},
   "outputs": [
    {
     "name": "stdout",
     "output_type": "stream",
     "text": [
      "1.64\n",
      "0.05\n"
     ]
    }
   ],
   "source": [
    "z = (1.85-1.7)/(0.5/math.sqrt(30))\n",
    "print(round(z,2))\n",
    "print(round(1-norm.cdf(z),2))"
   ]
  },
  {
   "cell_type": "code",
   "execution_count": 27,
   "id": "afabaec4",
   "metadata": {},
   "outputs": [
    {
     "name": "stdout",
     "output_type": "stream",
     "text": [
      "3.8535677938559876\n"
     ]
    }
   ],
   "source": [
    "p = ((0.7/math.sqrt(45)) * 1.28)\n",
    "print(p+3.72)"
   ]
  },
  {
   "cell_type": "code",
   "execution_count": 28,
   "id": "a5bcc36e",
   "metadata": {},
   "outputs": [
    {
     "name": "stdout",
     "output_type": "stream",
     "text": [
      "-1.28\n"
     ]
    }
   ],
   "source": [
    "t = (77.4-90)/(29.6/math.sqrt(9))\n",
    "print(round(t,2))"
   ]
  },
  {
   "cell_type": "code",
   "execution_count": 29,
   "id": "2646d020",
   "metadata": {},
   "outputs": [
    {
     "name": "stdout",
     "output_type": "stream",
     "text": [
      "-2.1125363706585896\n"
     ]
    }
   ],
   "source": [
    "num = 5.4- 6 \n",
    "sme = 1.1/(math.sqrt(15))\n",
    "print(num/sme)"
   ]
  },
  {
   "cell_type": "markdown",
   "id": "8aad51d1",
   "metadata": {},
   "source": [
    "# Two durg recovery test"
   ]
  },
  {
   "cell_type": "code",
   "execution_count": 30,
   "id": "ba93265f",
   "metadata": {},
   "outputs": [],
   "source": [
    "import pandas as pd\n",
    "import numpy as np\n",
    "from scipy.stats import ttest_ind,kstest\n",
    "from statsmodels.stats.weightstats import ztest\n",
    "from statsmodels.distributions.empirical_distribution import ECDF\n",
    "import matplotlib.pyplot as plt"
   ]
  },
  {
   "cell_type": "code",
   "execution_count": 31,
   "id": "1961b7f7",
   "metadata": {},
   "outputs": [],
   "source": [
    "d1 = pd.read_csv('drug_1_recovery.csv')\n",
    "d2 = pd.read_csv('drug_2_recovery.csv')"
   ]
  },
  {
   "cell_type": "code",
   "execution_count": 32,
   "id": "f3fcf425",
   "metadata": {},
   "outputs": [
    {
     "name": "stdout",
     "output_type": "stream",
     "text": [
      "d1 mean drug_1    7.104917\n",
      "dtype: float64\n",
      "d2 mean drug_2    8.073423\n",
      "dtype: float64\n"
     ]
    }
   ],
   "source": [
    "print(\"d1 mean\" , d1.mean())\n",
    "print(\"d2 mean\" , d2.mean())"
   ]
  },
  {
   "cell_type": "code",
   "execution_count": 33,
   "id": "dbad569f",
   "metadata": {},
   "outputs": [
    {
     "name": "stdout",
     "output_type": "stream",
     "text": [
      "test_stats [-5.32112438]\n",
      "p_value [1.27713574e-07]\n",
      "H0 rejected\n"
     ]
    }
   ],
   "source": [
    "#H0 : u1 = u2\n",
    "#Ha : u1 < u2\n",
    "alpha = 0.01\n",
    "stats,p_value = ttest_ind(d1,d2,alternative='less')\n",
    "print(\"test_stats\",stats)\n",
    "print(\"p_value\",p_value)\n",
    "if(p_value < alpha):\n",
    "    print(\"H0 rejected\")\n",
    "else:\n",
    "    print(\"H0 accepted\")"
   ]
  },
  {
   "cell_type": "code",
   "execution_count": 34,
   "id": "efea4a1c",
   "metadata": {},
   "outputs": [
    {
     "name": "stdout",
     "output_type": "stream",
     "text": [
      "test_stats [-5.32112438]\n",
      "p_value [2.55427147e-07]\n",
      "H0 rejected\n"
     ]
    }
   ],
   "source": [
    "# two tail\n",
    "#H0 : u1 = u2\n",
    "#Ha : u1 != u2\n",
    "alpha = 0.01\n",
    "stats,p_value = ttest_ind(d1,d2)\n",
    "print(\"test_stats\",stats)\n",
    "print(\"p_value\",p_value)\n",
    "if(p_value < alpha):\n",
    "    print(\"H0 rejected\")\n",
    "else:\n",
    "    print(\"H0 accepted\")"
   ]
  },
  {
   "cell_type": "code",
   "execution_count": 35,
   "id": "7e2e38c1",
   "metadata": {},
   "outputs": [
    {
     "name": "stdout",
     "output_type": "stream",
     "text": [
      "test_stats [-5.32112438]\n",
      "p_value [0.99999987]\n",
      "H0 accepted\n"
     ]
    }
   ],
   "source": [
    "# right tail\n",
    "#H0 : u1 = u2\n",
    "#Ha : u1 != u2\n",
    "alpha = 0.01\n",
    "stats,p_value = ttest_ind(d1,d2,alternative='greater')\n",
    "print(\"test_stats\",stats)\n",
    "print(\"p_value\",p_value)\n",
    "if(p_value < alpha):\n",
    "    print(\"H0 rejected\")\n",
    "else:\n",
    "    print(\"H0 accepted\")"
   ]
  },
  {
   "cell_type": "code",
   "execution_count": 36,
   "id": "3bdd3ccf",
   "metadata": {},
   "outputs": [],
   "source": [
    "data = pd.read_csv('Sachin_ODI.csv')"
   ]
  },
  {
   "cell_type": "code",
   "execution_count": 37,
   "id": "2ba44d2a",
   "metadata": {},
   "outputs": [
    {
     "data": {
      "text/html": [
       "<div>\n",
       "<style scoped>\n",
       "    .dataframe tbody tr th:only-of-type {\n",
       "        vertical-align: middle;\n",
       "    }\n",
       "\n",
       "    .dataframe tbody tr th {\n",
       "        vertical-align: top;\n",
       "    }\n",
       "\n",
       "    .dataframe thead th {\n",
       "        text-align: right;\n",
       "    }\n",
       "</style>\n",
       "<table border=\"1\" class=\"dataframe\">\n",
       "  <thead>\n",
       "    <tr style=\"text-align: right;\">\n",
       "      <th></th>\n",
       "      <th>runs</th>\n",
       "      <th>NotOut</th>\n",
       "      <th>mins</th>\n",
       "      <th>bf</th>\n",
       "      <th>fours</th>\n",
       "      <th>sixes</th>\n",
       "      <th>sr</th>\n",
       "      <th>Inns</th>\n",
       "      <th>Opp</th>\n",
       "      <th>Ground</th>\n",
       "      <th>Date</th>\n",
       "      <th>Winner</th>\n",
       "      <th>Won</th>\n",
       "      <th>century</th>\n",
       "    </tr>\n",
       "  </thead>\n",
       "  <tbody>\n",
       "    <tr>\n",
       "      <th>0</th>\n",
       "      <td>13</td>\n",
       "      <td>0</td>\n",
       "      <td>30</td>\n",
       "      <td>15</td>\n",
       "      <td>3</td>\n",
       "      <td>0</td>\n",
       "      <td>86.66</td>\n",
       "      <td>1</td>\n",
       "      <td>New Zealand</td>\n",
       "      <td>Napier</td>\n",
       "      <td>1995-02-16</td>\n",
       "      <td>New Zealand</td>\n",
       "      <td>False</td>\n",
       "      <td>False</td>\n",
       "    </tr>\n",
       "    <tr>\n",
       "      <th>1</th>\n",
       "      <td>37</td>\n",
       "      <td>0</td>\n",
       "      <td>75</td>\n",
       "      <td>51</td>\n",
       "      <td>3</td>\n",
       "      <td>1</td>\n",
       "      <td>72.54</td>\n",
       "      <td>2</td>\n",
       "      <td>South Africa</td>\n",
       "      <td>Hamilton</td>\n",
       "      <td>1995-02-18</td>\n",
       "      <td>South Africa</td>\n",
       "      <td>False</td>\n",
       "      <td>False</td>\n",
       "    </tr>\n",
       "    <tr>\n",
       "      <th>2</th>\n",
       "      <td>47</td>\n",
       "      <td>0</td>\n",
       "      <td>65</td>\n",
       "      <td>40</td>\n",
       "      <td>7</td>\n",
       "      <td>0</td>\n",
       "      <td>117.50</td>\n",
       "      <td>2</td>\n",
       "      <td>Australia</td>\n",
       "      <td>Dunedin</td>\n",
       "      <td>1995-02-22</td>\n",
       "      <td>India</td>\n",
       "      <td>True</td>\n",
       "      <td>False</td>\n",
       "    </tr>\n",
       "    <tr>\n",
       "      <th>3</th>\n",
       "      <td>48</td>\n",
       "      <td>0</td>\n",
       "      <td>37</td>\n",
       "      <td>30</td>\n",
       "      <td>9</td>\n",
       "      <td>1</td>\n",
       "      <td>160.00</td>\n",
       "      <td>2</td>\n",
       "      <td>Bangladesh</td>\n",
       "      <td>Sharjah</td>\n",
       "      <td>1995-04-05</td>\n",
       "      <td>India</td>\n",
       "      <td>True</td>\n",
       "      <td>False</td>\n",
       "    </tr>\n",
       "    <tr>\n",
       "      <th>4</th>\n",
       "      <td>4</td>\n",
       "      <td>0</td>\n",
       "      <td>13</td>\n",
       "      <td>9</td>\n",
       "      <td>1</td>\n",
       "      <td>0</td>\n",
       "      <td>44.44</td>\n",
       "      <td>2</td>\n",
       "      <td>Pakistan</td>\n",
       "      <td>Sharjah</td>\n",
       "      <td>1995-04-07</td>\n",
       "      <td>Pakistan</td>\n",
       "      <td>False</td>\n",
       "      <td>False</td>\n",
       "    </tr>\n",
       "    <tr>\n",
       "      <th>...</th>\n",
       "      <td>...</td>\n",
       "      <td>...</td>\n",
       "      <td>...</td>\n",
       "      <td>...</td>\n",
       "      <td>...</td>\n",
       "      <td>...</td>\n",
       "      <td>...</td>\n",
       "      <td>...</td>\n",
       "      <td>...</td>\n",
       "      <td>...</td>\n",
       "      <td>...</td>\n",
       "      <td>...</td>\n",
       "      <td>...</td>\n",
       "      <td>...</td>\n",
       "    </tr>\n",
       "    <tr>\n",
       "      <th>355</th>\n",
       "      <td>14</td>\n",
       "      <td>0</td>\n",
       "      <td>34</td>\n",
       "      <td>15</td>\n",
       "      <td>2</td>\n",
       "      <td>0</td>\n",
       "      <td>93.33</td>\n",
       "      <td>2</td>\n",
       "      <td>Australia</td>\n",
       "      <td>Sydney</td>\n",
       "      <td>2012-02-26</td>\n",
       "      <td>Australia</td>\n",
       "      <td>False</td>\n",
       "      <td>False</td>\n",
       "    </tr>\n",
       "    <tr>\n",
       "      <th>356</th>\n",
       "      <td>39</td>\n",
       "      <td>0</td>\n",
       "      <td>45</td>\n",
       "      <td>30</td>\n",
       "      <td>5</td>\n",
       "      <td>0</td>\n",
       "      <td>130.00</td>\n",
       "      <td>2</td>\n",
       "      <td>Sri Lanka</td>\n",
       "      <td>Hobart</td>\n",
       "      <td>2012-02-28</td>\n",
       "      <td>India</td>\n",
       "      <td>True</td>\n",
       "      <td>False</td>\n",
       "    </tr>\n",
       "    <tr>\n",
       "      <th>357</th>\n",
       "      <td>6</td>\n",
       "      <td>0</td>\n",
       "      <td>25</td>\n",
       "      <td>19</td>\n",
       "      <td>1</td>\n",
       "      <td>0</td>\n",
       "      <td>31.57</td>\n",
       "      <td>1</td>\n",
       "      <td>Sri Lanka</td>\n",
       "      <td>Dhaka</td>\n",
       "      <td>2012-03-13</td>\n",
       "      <td>India</td>\n",
       "      <td>True</td>\n",
       "      <td>False</td>\n",
       "    </tr>\n",
       "    <tr>\n",
       "      <th>358</th>\n",
       "      <td>114</td>\n",
       "      <td>0</td>\n",
       "      <td>205</td>\n",
       "      <td>147</td>\n",
       "      <td>12</td>\n",
       "      <td>1</td>\n",
       "      <td>77.55</td>\n",
       "      <td>1</td>\n",
       "      <td>Bangladesh</td>\n",
       "      <td>Dhaka</td>\n",
       "      <td>2012-03-16</td>\n",
       "      <td>Bangladesh</td>\n",
       "      <td>False</td>\n",
       "      <td>True</td>\n",
       "    </tr>\n",
       "    <tr>\n",
       "      <th>359</th>\n",
       "      <td>52</td>\n",
       "      <td>0</td>\n",
       "      <td>93</td>\n",
       "      <td>48</td>\n",
       "      <td>5</td>\n",
       "      <td>1</td>\n",
       "      <td>108.33</td>\n",
       "      <td>2</td>\n",
       "      <td>Pakistan</td>\n",
       "      <td>Dhaka</td>\n",
       "      <td>2012-03-18</td>\n",
       "      <td>India</td>\n",
       "      <td>True</td>\n",
       "      <td>False</td>\n",
       "    </tr>\n",
       "  </tbody>\n",
       "</table>\n",
       "<p>360 rows × 14 columns</p>\n",
       "</div>"
      ],
      "text/plain": [
       "     runs  NotOut mins   bf  fours  sixes      sr  Inns           Opp  \\\n",
       "0      13       0   30   15      3      0   86.66     1   New Zealand   \n",
       "1      37       0   75   51      3      1   72.54     2  South Africa   \n",
       "2      47       0   65   40      7      0  117.50     2     Australia   \n",
       "3      48       0   37   30      9      1  160.00     2    Bangladesh   \n",
       "4       4       0   13    9      1      0   44.44     2      Pakistan   \n",
       "..    ...     ...  ...  ...    ...    ...     ...   ...           ...   \n",
       "355    14       0   34   15      2      0   93.33     2     Australia   \n",
       "356    39       0   45   30      5      0  130.00     2     Sri Lanka   \n",
       "357     6       0   25   19      1      0   31.57     1     Sri Lanka   \n",
       "358   114       0  205  147     12      1   77.55     1    Bangladesh   \n",
       "359    52       0   93   48      5      1  108.33     2      Pakistan   \n",
       "\n",
       "       Ground        Date        Winner    Won  century  \n",
       "0      Napier  1995-02-16   New Zealand  False    False  \n",
       "1    Hamilton  1995-02-18  South Africa  False    False  \n",
       "2     Dunedin  1995-02-22         India   True    False  \n",
       "3     Sharjah  1995-04-05         India   True    False  \n",
       "4     Sharjah  1995-04-07      Pakistan  False    False  \n",
       "..        ...         ...           ...    ...      ...  \n",
       "355    Sydney  2012-02-26     Australia  False    False  \n",
       "356    Hobart  2012-02-28         India   True    False  \n",
       "357     Dhaka  2012-03-13         India   True    False  \n",
       "358     Dhaka  2012-03-16    Bangladesh  False     True  \n",
       "359     Dhaka  2012-03-18         India   True    False  \n",
       "\n",
       "[360 rows x 14 columns]"
      ]
     },
     "execution_count": 37,
     "metadata": {},
     "output_type": "execute_result"
    }
   ],
   "source": [
    "data"
   ]
  },
  {
   "cell_type": "code",
   "execution_count": 38,
   "id": "7f8351f3",
   "metadata": {},
   "outputs": [],
   "source": [
    "d1 = data[data['Inns']==1]['runs'] # india bats 1st\n",
    "d2 = data[data['Inns']==2]['runs'] # india bats 2nd\n",
    "\n",
    "\n",
    "# H0 : X,Y belong to same distribution\n",
    "# Ha : X,Y does not belong to same distribution"
   ]
  },
  {
   "cell_type": "code",
   "execution_count": 39,
   "id": "40d8c136",
   "metadata": {},
   "outputs": [],
   "source": [
    "e1 = ECDF(d1)\n",
    "e2 = ECDF(d2)"
   ]
  },
  {
   "cell_type": "code",
   "execution_count": 40,
   "id": "8c1a1e22",
   "metadata": {},
   "outputs": [
    {
     "data": {
      "image/png": "[encoded data removed]",
      "text/plain": [
       "<Figure size 640x480 with 1 Axes>"
      ]
     },
     "metadata": {},
     "output_type": "display_data"
    }
   ],
   "source": [
    "plt.plot(e1.x,e1.y,c='b')\n",
    "plt.plot(e2.x,e2.y,c='r')\n",
    "plt.show()"
   ]
  },
  {
   "cell_type": "code",
   "execution_count": 41,
   "id": "42b5881f",
   "metadata": {},
   "outputs": [
    {
     "data": {
      "text/plain": [
       "KstestResult(statistic=0.10990712074303406, pvalue=0.20868747831732348)"
      ]
     },
     "execution_count": 41,
     "metadata": {},
     "output_type": "execute_result"
    }
   ],
   "source": [
    "kstest(d1,d2)"
   ]
  },
  {
   "cell_type": "code",
   "execution_count": 42,
   "id": "db044221",
   "metadata": {},
   "outputs": [],
   "source": [
    "# Runs when india won Vs lost"
   ]
  },
  {
   "cell_type": "code",
   "execution_count": 43,
   "id": "d92ec5fd",
   "metadata": {},
   "outputs": [],
   "source": [
    "d1 = data[data['Won']==True]['runs'] \n",
    "d2 = data[data['Won']==False]['runs']\n"
   ]
  },
  {
   "cell_type": "code",
   "execution_count": 44,
   "id": "55d6f903",
   "metadata": {},
   "outputs": [
    {
     "data": {
      "text/plain": [
       "0       13\n",
       "1       37\n",
       "4        4\n",
       "7       30\n",
       "10      65\n",
       "      ... \n",
       "352     15\n",
       "353      3\n",
       "354     22\n",
       "355     14\n",
       "358    114\n",
       "Name: runs, Length: 176, dtype: int64"
      ]
     },
     "execution_count": 44,
     "metadata": {},
     "output_type": "execute_result"
    }
   ],
   "source": [
    "d2"
   ]
  },
  {
   "cell_type": "code",
   "execution_count": 45,
   "id": "f56b8c3c",
   "metadata": {},
   "outputs": [
    {
     "data": {
      "image/png": "[encoded data removed]",
      "text/plain": [
       "<Figure size 640x480 with 1 Axes>"
      ]
     },
     "metadata": {},
     "output_type": "display_data"
    }
   ],
   "source": [
    "e1 = ECDF(d1)\n",
    "e2 = ECDF(d2)\n",
    "plt.plot(e1.x,e1.y,c='b')\n",
    "plt.plot(e2.x,e2.y,c='r')\n",
    "plt.show()"
   ]
  },
  {
   "cell_type": "code",
   "execution_count": 46,
   "id": "caf2e459",
   "metadata": {},
   "outputs": [
    {
     "data": {
      "text/plain": [
       "KstestResult(statistic=0.20602766798418973, pvalue=0.0007769531141111421)"
      ]
     },
     "execution_count": 46,
     "metadata": {},
     "output_type": "execute_result"
    }
   ],
   "source": [
    "kstest(d1,d2)\n",
    "# reject H0"
   ]
  },
  {
   "cell_type": "code",
   "execution_count": 47,
   "id": "91366316",
   "metadata": {},
   "outputs": [],
   "source": [
    "# Hypo-3 : Q4\n",
    "data = pd.DataFrame([193, 321, 222, 158, 176, 149, 154, 223, 233, 177, 280, 244, 138, 210, 167, 129, 254, 167, 194, 191, 128, 191, 144, 184, 330, 216, 212, 142, 216, 197, 231, 133, 205, 192, 195, 243, 224, 137, 234, 171, 176, 249, 222, 234, 191],columns=['value'])"
   ]
  },
  {
   "cell_type": "code",
   "execution_count": 54,
   "id": "51691b19",
   "metadata": {},
   "outputs": [
    {
     "name": "stdout",
     "output_type": "stream",
     "text": [
      "[1.36890299]\n",
      "[0.08898892]\n"
     ]
    }
   ],
   "source": [
    "t_stat, p_value = ttest_1samp(data, popmean=190, alternative=\"greater\")\n",
    "print(t_stat)\n",
    "print(p_value)"
   ]
  },
  {
   "cell_type": "code",
   "execution_count": 48,
   "id": "719fe80d",
   "metadata": {},
   "outputs": [
    {
     "name": "stdout",
     "output_type": "stream",
     "text": [
      "mean : value    199.49\n",
      "dtype: float64,std :value    46.5\n",
      "dtype: float64\n"
     ]
    }
   ],
   "source": [
    "sample_mean,sample_std = data.mean(),data.std()\n",
    "print(f'mean : {round(sample_mean,2)},std :{round(sample_std,2)}')"
   ]
  },
  {
   "cell_type": "code",
   "execution_count": 49,
   "id": "add67eb5",
   "metadata": {},
   "outputs": [],
   "source": [
    "from scipy.stats import t"
   ]
  },
  {
   "cell_type": "code",
   "execution_count": 51,
   "id": "d0c904ae",
   "metadata": {},
   "outputs": [
    {
     "data": {
      "text/plain": [
       "-1.680229975365252"
      ]
     },
     "execution_count": 51,
     "metadata": {},
     "output_type": "execute_result"
    }
   ],
   "source": [
    "t.ppf(0.1/2,df=44)"
   ]
  },
  {
   "cell_type": "code",
   "execution_count": 55,
   "id": "0afff0cd",
   "metadata": {},
   "outputs": [
    {
     "data": {
      "text/plain": [
       "Ttest_indResult(statistic=array([0.57954502]), pvalue=array([0.28470238]))"
      ]
     },
     "execution_count": 55,
     "metadata": {},
     "output_type": "execute_result"
    }
   ],
   "source": [
    "female_scores=pd.DataFrame([25,30,45,49,47,35,32,42])\n",
    "\n",
    "male_scores=pd.DataFrame([45,47,25,22,29,32,27,28,40,49,50,33])\n",
    "ttest_ind(female_scores,male_scores,alternative='greater')"
   ]
  },
  {
   "cell_type": "code",
   "execution_count": null,
   "id": "76d29234",
   "metadata": {},
   "outputs": [],
   "source": []
  }
 ],
 "metadata": {
  "kernelspec": {
   "display_name": "Python 3 (ipykernel)",
   "language": "python",
   "name": "python3"
  },
  "language_info": {
   "codemirror_mode": {
    "name": "ipython",
    "version": 3
   },
   "file_extension": ".py",
   "mimetype": "text/x-python",
   "name": "python",
   "nbconvert_exporter": "python",
   "pygments_lexer": "ipython3",
   "version": "3.9.13"
  }
 },
 "nbformat": 4,
 "nbformat_minor": 5
}
