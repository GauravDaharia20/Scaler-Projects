{
 "cells": [
  {
   "cell_type": "markdown",
   "id": "6eb9b60b",
   "metadata": {},
   "source": [
    "### Extra Reference Material\n",
    "[Introduction to the Theory of Computation by Michael Sipser](https://fuuu.be/polytech/INFOF408/Introduction-To-The-Theory-Of-Computation-Michael-Sipser.pdf)\n",
    "\n",
    "[Python Docs](https://docs.python.org/3/howto/regex.html)"
   ]
  },
  {
   "cell_type": "markdown",
   "id": "509983c0",
   "metadata": {},
   "source": [
    "## Regular Expressions"
   ]
  },
  {
   "cell_type": "markdown",
   "id": "4e02742c",
   "metadata": {},
   "source": [
    "#### Masking emails"
   ]
  },
  {
   "cell_type": "code",
   "execution_count": 1,
   "id": "f5927f94",
   "metadata": {},
   "outputs": [
    {
     "name": "stdout",
     "output_type": "stream",
     "text": [
      "Dave Martin\n",
      "615-555-7164\n",
      "173 Main St., Springfield RI 55924\n",
      "davemartin@bogusemail.com\n",
      "\n",
      "Charles Harris\n",
      "800-555-5669\n",
      "969 High St., Atlantis VA 34075\n",
      "charlesharris@bogusemail.com\n",
      "\n",
      "Eric Williams\n",
      "560-555-5153\n",
      "806 1st St., Faketown AK 86847\n",
      "laurawilliams@bogusemail.com\n",
      "\n",
      "Corey Jefferson\n",
      "900-555-9340\n",
      "826 Elm St., Epicburg NE 10671\n",
      "coreyjefferson@bogusemail.com\n",
      "\n",
      "Jennifer Martin-White\n",
      "714-555-7405\n",
      "212 Cedar St., Sunnydale CT 74983\n",
      "jenniferwhite@bogusemail.com\n",
      "\n",
      "Erick Davis\n",
      "800-555-6771\n",
      "519 Washington St., \n"
     ]
    }
   ],
   "source": [
    "data = open('data.txt', \"r\").read()\n",
    "print(data[:500])"
   ]
  },
  {
   "cell_type": "code",
   "execution_count": 2,
   "id": "7746bd7c",
   "metadata": {},
   "outputs": [
    {
     "name": "stdout",
     "output_type": "stream",
     "text": [
      "davemartin@bogusemail.com\n",
      "charlesharris@bogusemail.com\n",
      "laurawilliams@bogusemail.com\n",
      "coreyjefferson@bogusemail.com\n",
      "jenniferwhite@bogusemail.com\n",
      "tomdavis@bogusemail.com\n",
      "neilpatterson@bogusemail.com\n",
      "laurajefferson@bogusemail.com\n",
      "mariajohnson@bogusemail.com\n",
      "michaelarnold@bogusemail.com\n",
      "michaelsmith@bogusemail.com\n",
      "robertstuart@bogusemail.com\n",
      "lauramartin@bogusemail.com\n",
      "barbaramartin@bogusemail.com\n",
      "lindajackson@bogusemail.com\n",
      "stevemiller@bogusemail.com\n",
      "davearnold@bogusemail.com\n",
      "jenniferjacobs@bogusemail.com\n",
      "neilwilson@bogusemail.com\n",
      "kurtjackson@bogusemail.com\n",
      "maryjacobs@bogusemail.com\n",
      "michaelwhite@bogusemail.com\n",
      "jenniferjenkins@bogusemail.com\n",
      "samwright@bogusemail.com\n",
      "johndavis@bogusemail.com\n",
      "neildavis@bogusemail.com\n",
      "laurajackson@bogusemail.com\n",
      "johnwilliams@bogusemail.com\n",
      "michaelmartin@bogusemail.com\n",
      "maggiebrown@bogusemail.com\n",
      "kurtwilson@bogusemail.com\n",
      "elizabetharnold@bogusemail.com\n",
      "janemartin@bogusemail.com\n",
      "travisjohnson@bogusemail.com\n",
      "laurajefferson@bogusemail.com\n",
      "tomwilliams@bogusemail.com\n",
      "jennifertaylor@bogusemail.com\n",
      "jenniferwright@bogusemail.com\n",
      "stevedoe@bogusemail.com\n",
      "kurtdavis@bogusemail.com\n",
      "coreyharris@bogusemail.com\n",
      "nicoletaylor@bogusemail.com\n",
      "elizabethdavis@bogusemail.com\n",
      "maggiejenkins@bogusemail.com\n",
      "lindadavis@bogusemail.com\n",
      "davemoore@bogusemail.com\n",
      "lindajenkins@bogusemail.com\n",
      "samwhite@bogusemail.com\n",
      "laurarobinson@bogusemail.com\n",
      "charlespatterson@bogusemail.com\n",
      "joejackson@bogusemail.com\n",
      "michaeljohnson@bogusemail.com\n",
      "coreymiller@bogusemail.com\n",
      "jamesmoore@bogusemail.com\n",
      "jenniferstuart@bogusemail.com\n",
      "charlesmartin@bogusemail.com\n",
      "joewilks@bogusemail.com\n",
      "elizabetharnold@bogusemail.com\n",
      "johnmiller@bogusemail.com\n",
      "coreyjackson@bogusemail.com\n",
      "samthomas@bogusemail.com\n",
      "patriciathomas@bogusemail.com\n",
      "jenniferdavis@bogusemail.com\n",
      "patriciabrown@bogusemail.com\n",
      "barbarawilliams@bogusemail.com\n",
      "jamestaylor@bogusemail.com\n",
      "barbaraharris@bogusemail.com\n",
      "travisanderson@bogusemail.com\n",
      "samrobinson@bogusemail.com\n",
      "steverobinson@bogusemail.com\n",
      "marywilson@bogusemail.com\n",
      "samwilson@bogusemail.com\n",
      "charlesjones@bogusemail.com\n",
      "laurabrown@bogusemail.com\n",
      "tomharris@bogusemail.com\n",
      "patriciataylor@bogusemail.com\n",
      "barbarawilliams@bogusemail.com\n",
      "maggiejohnson@bogusemail.com\n",
      "kurtmiller@bogusemail.com\n",
      "neilstuart@bogusemail.com\n",
      "lindapatterson@bogusemail.com\n",
      "charlesdavis@bogusemail.com\n",
      "jenniferjefferson@bogusemail.com\n",
      "coreytaylor@bogusemail.com\n",
      "robertwilks@bogusemail.com\n",
      "travisjackson@bogusemail.com\n",
      "travisjackson@bogusemail.com\n",
      "laurawilks@bogusemail.com\n",
      "neilarnold@bogusemail.com\n",
      "lindajohnson@bogusemail.com\n",
      "jenniferwilson@bogusemail.com\n",
      "nicolewhite@bogusemail.com\n",
      "mariaarnold@bogusemail.com\n",
      "jenniferdavis@bogusemail.com\n",
      "marypatterson@bogusemail.com\n",
      "janestuart@bogusemail.com\n",
      "robertdavis@bogusemail.com\n",
      "jamestaylor@bogusemail.com\n",
      "johnstuart@bogusemail.com\n",
      "charlesmiller@bogusemail.com\n"
     ]
    }
   ],
   "source": [
    "## Easy approach - no regex\n",
    "list_of_words = data.split()\n",
    "for word in list_of_words:\n",
    "    if \"@\" in word:\n",
    "        print(word)"
   ]
  },
  {
   "cell_type": "code",
   "execution_count": 3,
   "id": "dafc7019",
   "metadata": {},
   "outputs": [],
   "source": [
    "def mask_email(s):\n",
    "    if \"@\" in s:\n",
    "        name, domain = s.split(\"@\")\n",
    "        return f\"{name[0]}####{name[-1]}@{domain}\"\n",
    "    else:\n",
    "        print(f\"{s} is not a valid email, missing @.\")"
   ]
  },
  {
   "cell_type": "code",
   "execution_count": 4,
   "id": "851fa679",
   "metadata": {},
   "outputs": [
    {
     "name": "stdout",
     "output_type": "stream",
     "text": [
      "d####n@bogusemail.com\n",
      "c####s@bogusemail.com\n",
      "l####s@bogusemail.com\n",
      "c####n@bogusemail.com\n",
      "j####e@bogusemail.com\n",
      "t####s@bogusemail.com\n",
      "n####n@bogusemail.com\n",
      "l####n@bogusemail.com\n",
      "m####n@bogusemail.com\n",
      "m####d@bogusemail.com\n",
      "m####h@bogusemail.com\n",
      "r####t@bogusemail.com\n",
      "l####n@bogusemail.com\n",
      "b####n@bogusemail.com\n",
      "l####n@bogusemail.com\n",
      "s####r@bogusemail.com\n",
      "d####d@bogusemail.com\n",
      "j####s@bogusemail.com\n",
      "n####n@bogusemail.com\n",
      "k####n@bogusemail.com\n",
      "m####s@bogusemail.com\n",
      "m####e@bogusemail.com\n",
      "j####s@bogusemail.com\n",
      "s####t@bogusemail.com\n",
      "j####s@bogusemail.com\n",
      "n####s@bogusemail.com\n",
      "l####n@bogusemail.com\n",
      "j####s@bogusemail.com\n",
      "m####n@bogusemail.com\n",
      "m####n@bogusemail.com\n",
      "k####n@bogusemail.com\n",
      "e####d@bogusemail.com\n",
      "j####n@bogusemail.com\n",
      "t####n@bogusemail.com\n",
      "l####n@bogusemail.com\n",
      "t####s@bogusemail.com\n",
      "j####r@bogusemail.com\n",
      "j####t@bogusemail.com\n",
      "s####e@bogusemail.com\n",
      "k####s@bogusemail.com\n",
      "c####s@bogusemail.com\n",
      "n####r@bogusemail.com\n",
      "e####s@bogusemail.com\n",
      "m####s@bogusemail.com\n",
      "l####s@bogusemail.com\n",
      "d####e@bogusemail.com\n",
      "l####s@bogusemail.com\n",
      "s####e@bogusemail.com\n",
      "l####n@bogusemail.com\n",
      "c####n@bogusemail.com\n",
      "j####n@bogusemail.com\n",
      "m####n@bogusemail.com\n",
      "c####r@bogusemail.com\n",
      "j####e@bogusemail.com\n",
      "j####t@bogusemail.com\n",
      "c####n@bogusemail.com\n",
      "j####s@bogusemail.com\n",
      "e####d@bogusemail.com\n",
      "j####r@bogusemail.com\n",
      "c####n@bogusemail.com\n",
      "s####s@bogusemail.com\n",
      "p####s@bogusemail.com\n",
      "j####s@bogusemail.com\n",
      "p####n@bogusemail.com\n",
      "b####s@bogusemail.com\n",
      "j####r@bogusemail.com\n",
      "b####s@bogusemail.com\n",
      "t####n@bogusemail.com\n",
      "s####n@bogusemail.com\n",
      "s####n@bogusemail.com\n",
      "m####n@bogusemail.com\n",
      "s####n@bogusemail.com\n",
      "c####s@bogusemail.com\n",
      "l####n@bogusemail.com\n",
      "t####s@bogusemail.com\n",
      "p####r@bogusemail.com\n",
      "b####s@bogusemail.com\n",
      "m####n@bogusemail.com\n",
      "k####r@bogusemail.com\n",
      "n####t@bogusemail.com\n",
      "l####n@bogusemail.com\n",
      "c####s@bogusemail.com\n",
      "j####n@bogusemail.com\n",
      "c####r@bogusemail.com\n",
      "r####s@bogusemail.com\n",
      "t####n@bogusemail.com\n",
      "t####n@bogusemail.com\n",
      "l####s@bogusemail.com\n",
      "n####d@bogusemail.com\n",
      "l####n@bogusemail.com\n",
      "j####n@bogusemail.com\n",
      "n####e@bogusemail.com\n",
      "m####d@bogusemail.com\n",
      "j####s@bogusemail.com\n",
      "m####n@bogusemail.com\n",
      "j####t@bogusemail.com\n",
      "r####s@bogusemail.com\n",
      "j####r@bogusemail.com\n",
      "j####t@bogusemail.com\n",
      "c####r@bogusemail.com\n"
     ]
    }
   ],
   "source": [
    "list_of_words = data.split()\n",
    "for word in list_of_words:\n",
    "    if \"@\" in word:\n",
    "        print(mask_email(word))"
   ]
  },
  {
   "cell_type": "code",
   "execution_count": 6,
   "id": "dd9523e3",
   "metadata": {},
   "outputs": [
    {
     "data": {
      "text/plain": [
       "'o####o@scaler'"
      ]
     },
     "execution_count": 6,
     "metadata": {},
     "output_type": "execute_result"
    }
   ],
   "source": [
    "mask_email(\"o@scaler\")"
   ]
  },
  {
   "cell_type": "code",
   "execution_count": 7,
   "id": "897dcfc6",
   "metadata": {},
   "outputs": [],
   "source": [
    "import re # import regex library\n",
    "\n",
    "def is_vemail(s):\n",
    "  email_pattern = \"^\\w+([\\.-]?\\w+)*@\\w+([\\.-]?\\w+)*(\\.\\w{2,3})+$\"\n",
    "  res = re.search(email_pattern, s)\n",
    "  # scans through string looking for the first location where pattern is found - will discuss about re module later\n",
    "  if res:\n",
    "    return True\n",
    "  else:\n",
    "    return False"
   ]
  },
  {
   "cell_type": "code",
   "execution_count": 8,
   "id": "58b6d79e",
   "metadata": {},
   "outputs": [
    {
     "data": {
      "text/plain": [
       "True"
      ]
     },
     "execution_count": 8,
     "metadata": {},
     "output_type": "execute_result"
    }
   ],
   "source": [
    "is_vemail(\"dhruv13@iisc.ac.in\")"
   ]
  },
  {
   "cell_type": "code",
   "execution_count": 9,
   "id": "94e827d9",
   "metadata": {},
   "outputs": [
    {
     "data": {
      "text/plain": [
       "False"
      ]
     },
     "execution_count": 9,
     "metadata": {},
     "output_type": "execute_result"
    }
   ],
   "source": [
    "is_vemail(\"dhruv13@iisc\")"
   ]
  },
  {
   "cell_type": "code",
   "execution_count": 10,
   "id": "9192d1c2",
   "metadata": {},
   "outputs": [
    {
     "data": {
      "text/plain": [
       "True"
      ]
     },
     "execution_count": 10,
     "metadata": {},
     "output_type": "execute_result"
    }
   ],
   "source": [
    "is_vemail(\"22313@iisc.ac.in\")"
   ]
  },
  {
   "cell_type": "code",
   "execution_count": 11,
   "id": "1c7101e8",
   "metadata": {},
   "outputs": [
    {
     "data": {
      "text/plain": [
       "True"
      ]
     },
     "execution_count": 11,
     "metadata": {},
     "output_type": "execute_result"
    }
   ],
   "source": [
    "is_vemail(\"22313@iisc.org\")"
   ]
  },
  {
   "cell_type": "code",
   "execution_count": 13,
   "id": "75e21e36",
   "metadata": {},
   "outputs": [
    {
     "data": {
      "text/plain": [
       "False"
      ]
     },
     "execution_count": 13,
     "metadata": {},
     "output_type": "execute_result"
    }
   ],
   "source": [
    "is_vemail(\"22@313@iisc.org.com\")"
   ]
  },
  {
   "cell_type": "code",
   "execution_count": 14,
   "id": "cab07edc",
   "metadata": {},
   "outputs": [
    {
     "data": {
      "text/plain": [
       "False"
      ]
     },
     "execution_count": 14,
     "metadata": {},
     "output_type": "execute_result"
    }
   ],
   "source": [
    "is_vemail(\"$$%^@iisc.org.com\")"
   ]
  },
  {
   "cell_type": "markdown",
   "id": "6d00fe49",
   "metadata": {},
   "source": [
    "## Learning RegEx\n",
    "\n",
    " 1. Meta-characters: \n",
    " \n",
    " ```\n",
    ".       - Any Character Except New Line\n",
    "\\d      - Digit (0-9)\n",
    "\\D      - Not a Digit (0-9)\n",
    "\\w      - Word Character (a-z, A-Z, 0-9, _)\n",
    "\\W      - Not a Word Character\n",
    "\\s      - Whitespace (space, tab, newline)\n",
    "\\S      - Not Whitespace (space, tab, newline)\n",
    "\n",
    "\\b      - Word Boundary\n",
    "\\B      - Not a Word Boundary\n",
    "^       - Beginning of a String\n",
    "$       - End of a String\n",
    "\n",
    "[]      - Matches Characters in brackets\n",
    "[^ ]    - Matches Characters NOT in brackets\n",
    "|       - Either Or\n",
    "( )     - Group\n",
    "```"
   ]
  },
  {
   "cell_type": "code",
   "execution_count": null,
   "id": "667b48dc",
   "metadata": {},
   "outputs": [],
   "source": []
  }
 ],
 "metadata": {
  "kernelspec": {
   "display_name": "Python 3 (ipykernel)",
   "language": "python",
   "name": "python3"
  },
  "language_info": {
   "codemirror_mode": {
    "name": "ipython",
    "version": 3
   },
   "file_extension": ".py",
   "mimetype": "text/x-python",
   "name": "python",
   "nbconvert_exporter": "python",
   "pygments_lexer": "ipython3",
   "version": "3.9.12"
  }
 },
 "nbformat": 4,
 "nbformat_minor": 5
}
